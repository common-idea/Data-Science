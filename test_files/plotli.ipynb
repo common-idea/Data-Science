{
 "cells": [
  {
   "cell_type": "code",
   "execution_count": 3,
   "metadata": {},
   "outputs": [],
   "source": [
    "import numpy as np\n",
    "import pandas as pd"
   ]
  },
  {
   "cell_type": "code",
   "execution_count": 4,
   "metadata": {},
   "outputs": [],
   "source": [
    "import cufflinks as cf"
   ]
  },
  {
   "cell_type": "code",
   "execution_count": 5,
   "metadata": {},
   "outputs": [],
   "source": [
    "from plotly.offline import download_plotlyjs,init_notebook_mode,iplot,plot"
   ]
  },
  {
   "cell_type": "code",
   "execution_count": 6,
   "metadata": {},
   "outputs": [
    {
     "data": {
      "text/html": [
       "        <script type=\"text/javascript\">\n",
       "        window.PlotlyConfig = {MathJaxConfig: 'local'};\n",
       "        if (window.MathJax) {MathJax.Hub.Config({SVG: {font: \"STIX-Web\"}});}\n",
       "        if (typeof require !== 'undefined') {\n",
       "        require.undef(\"plotly\");\n",
       "        requirejs.config({\n",
       "            paths: {\n",
       "                'plotly': ['https://cdn.plot.ly/plotly-latest.min']\n",
       "            }\n",
       "        });\n",
       "        require(['plotly'], function(Plotly) {\n",
       "            window._Plotly = Plotly;\n",
       "        });\n",
       "        }\n",
       "        </script>\n",
       "        "
      ]
     },
     "metadata": {},
     "output_type": "display_data"
    }
   ],
   "source": [
    "init_notebook_mode(connected=True)"
   ]
  },
  {
   "cell_type": "code",
   "execution_count": 7,
   "metadata": {},
   "outputs": [
    {
     "data": {
      "text/html": [
       "        <script type=\"text/javascript\">\n",
       "        window.PlotlyConfig = {MathJaxConfig: 'local'};\n",
       "        if (window.MathJax) {MathJax.Hub.Config({SVG: {font: \"STIX-Web\"}});}\n",
       "        if (typeof require !== 'undefined') {\n",
       "        require.undef(\"plotly\");\n",
       "        requirejs.config({\n",
       "            paths: {\n",
       "                'plotly': ['https://cdn.plot.ly/plotly-latest.min']\n",
       "            }\n",
       "        });\n",
       "        require(['plotly'], function(Plotly) {\n",
       "            window._Plotly = Plotly;\n",
       "        });\n",
       "        }\n",
       "        </script>\n",
       "        "
      ]
     },
     "metadata": {},
     "output_type": "display_data"
    }
   ],
   "source": [
    "cf.go_offline()"
   ]
  },
  {
   "cell_type": "code",
   "execution_count": 8,
   "metadata": {},
   "outputs": [],
   "source": [
    "df = pd.DataFrame(np.random.randn(100,4),columns='A B C D'.split())"
   ]
  },
  {
   "cell_type": "code",
   "execution_count": 9,
   "metadata": {},
   "outputs": [
    {
     "data": {
      "text/html": [
       "<div>\n",
       "<style scoped>\n",
       "    .dataframe tbody tr th:only-of-type {\n",
       "        vertical-align: middle;\n",
       "    }\n",
       "\n",
       "    .dataframe tbody tr th {\n",
       "        vertical-align: top;\n",
       "    }\n",
       "\n",
       "    .dataframe thead th {\n",
       "        text-align: right;\n",
       "    }\n",
       "</style>\n",
       "<table border=\"1\" class=\"dataframe\">\n",
       "  <thead>\n",
       "    <tr style=\"text-align: right;\">\n",
       "      <th></th>\n",
       "      <th>A</th>\n",
       "      <th>B</th>\n",
       "      <th>C</th>\n",
       "      <th>D</th>\n",
       "    </tr>\n",
       "  </thead>\n",
       "  <tbody>\n",
       "    <tr>\n",
       "      <th>0</th>\n",
       "      <td>-0.080411</td>\n",
       "      <td>0.584752</td>\n",
       "      <td>-0.504071</td>\n",
       "      <td>0.147199</td>\n",
       "    </tr>\n",
       "    <tr>\n",
       "      <th>1</th>\n",
       "      <td>-0.615116</td>\n",
       "      <td>1.416135</td>\n",
       "      <td>1.278420</td>\n",
       "      <td>-0.563687</td>\n",
       "    </tr>\n",
       "    <tr>\n",
       "      <th>2</th>\n",
       "      <td>-0.580803</td>\n",
       "      <td>-0.021940</td>\n",
       "      <td>-0.232760</td>\n",
       "      <td>0.193519</td>\n",
       "    </tr>\n",
       "    <tr>\n",
       "      <th>3</th>\n",
       "      <td>-0.631310</td>\n",
       "      <td>1.001302</td>\n",
       "      <td>-0.679655</td>\n",
       "      <td>0.068409</td>\n",
       "    </tr>\n",
       "    <tr>\n",
       "      <th>4</th>\n",
       "      <td>0.990407</td>\n",
       "      <td>-0.277405</td>\n",
       "      <td>-1.011015</td>\n",
       "      <td>0.149586</td>\n",
       "    </tr>\n",
       "  </tbody>\n",
       "</table>\n",
       "</div>"
      ],
      "text/plain": [
       "          A         B         C         D\n",
       "0 -0.080411  0.584752 -0.504071  0.147199\n",
       "1 -0.615116  1.416135  1.278420 -0.563687\n",
       "2 -0.580803 -0.021940 -0.232760  0.193519\n",
       "3 -0.631310  1.001302 -0.679655  0.068409\n",
       "4  0.990407 -0.277405 -1.011015  0.149586"
      ]
     },
     "execution_count": 9,
     "metadata": {},
     "output_type": "execute_result"
    }
   ],
   "source": [
    "df.head()"
   ]
  },
  {
   "cell_type": "code",
   "execution_count": 9,
   "metadata": {},
   "outputs": [],
   "source": [
    "df2 = pd.DataFrame({'category':['A','B','C'],'values':[11,32,52]})"
   ]
  },
  {
   "cell_type": "code",
   "execution_count": 10,
   "metadata": {},
   "outputs": [
    {
     "data": {
      "text/html": [
       "<div>\n",
       "<style scoped>\n",
       "    .dataframe tbody tr th:only-of-type {\n",
       "        vertical-align: middle;\n",
       "    }\n",
       "\n",
       "    .dataframe tbody tr th {\n",
       "        vertical-align: top;\n",
       "    }\n",
       "\n",
       "    .dataframe thead th {\n",
       "        text-align: right;\n",
       "    }\n",
       "</style>\n",
       "<table border=\"1\" class=\"dataframe\">\n",
       "  <thead>\n",
       "    <tr style=\"text-align: right;\">\n",
       "      <th></th>\n",
       "      <th>category</th>\n",
       "      <th>values</th>\n",
       "    </tr>\n",
       "  </thead>\n",
       "  <tbody>\n",
       "    <tr>\n",
       "      <th>0</th>\n",
       "      <td>A</td>\n",
       "      <td>11</td>\n",
       "    </tr>\n",
       "    <tr>\n",
       "      <th>1</th>\n",
       "      <td>B</td>\n",
       "      <td>32</td>\n",
       "    </tr>\n",
       "    <tr>\n",
       "      <th>2</th>\n",
       "      <td>C</td>\n",
       "      <td>52</td>\n",
       "    </tr>\n",
       "  </tbody>\n",
       "</table>\n",
       "</div>"
      ],
      "text/plain": [
       "  category  values\n",
       "0        A      11\n",
       "1        B      32\n",
       "2        C      52"
      ]
     },
     "execution_count": 10,
     "metadata": {},
     "output_type": "execute_result"
    }
   ],
   "source": [
    "df2"
   ]
  },
  {
   "cell_type": "code",
   "execution_count": 13,
   "metadata": {},
   "outputs": [
    {
     "data": {
      "text/plain": [
       "<matplotlib.axes._subplots.AxesSubplot at 0x277123cbd00>"
      ]
     },
     "execution_count": 13,
     "metadata": {},
     "output_type": "execute_result"
    },
    {
     "data": {
      "image/png": "[encoded data removed]",
      "text/plain": [
       "<Figure size 432x288 with 1 Axes>"
      ]
     },
     "metadata": {
      "needs_background": "light"
     },
     "output_type": "display_data"
    }
   ],
   "source": [
    "%matplotlib inline\n",
    "df2.plot(kind='bar')"
   ]
  },
  {
   "cell_type": "code",
   "execution_count": 14,
   "metadata": {},
   "outputs": [
    {
     "data": {
      "text/plain": [
       "<matplotlib.axes._subplots.AxesSubplot at 0x27712181d00>"
      ]
     },
     "execution_count": 14,
     "metadata": {},
     "output_type": "execute_result"
    },
    {
     "data": {
      "image/png": "[encoded data removed]",
      "text/plain": [
       "<Figure size 432x288 with 1 Axes>"
      ]
     },
     "metadata": {
      "needs_background": "light"
     },
     "output_type": "display_data"
    }
   ],
   "source": [
    "df.plot()"
   ]
  },
  {
   "cell_type": "code",
   "execution_count": 15,
   "metadata": {},
   "outputs": [
    {
     "data": {
      "application/vnd.plotly.v1+json": {
       "config": {
        "linkText": "Export to plot.ly",
        "plotlyServerURL": "https://plot.ly",
        "showLink": true
       },
       "data": [
        {
         "line": {
          "color": "rgba(255, 153, 51, 1.0)",
          "dash": "solid",
          "shape": "linear",
          "width": 1.3
         },
         "mode": "lines",
         "name": "A",
         "text": "",
         "type": "scatter",
         "x": [
          0,
          1,
          2,
          3,
          4,
          5,
          6,
          7,
          8,
          9,
          10,
          11,
          12,
          13,
          14,
          15,
          16,
          17,
          18,
          19,
          20,
          21,
          22,
          23,
          24,
          25,
          26,
          27,
          28,
          29,
          30,
          31,
          32,
          33,
          34,
          35,
          36,
          37,
          38,
          39,
          40,
          41,
          42,
          43,
          44,
          45,
          46,
          47,
          48,
          49,
          50,
          51,
          52,
          53,
          54,
          55,
          56,
          57,
          58,
          59,
          60,
          61,
          62,
          63,
          64,
          65,
          66,
          67,
          68,
          69,
          70,
          71,
          72,
          73,
          74,
          75,
          76,
          77,
          78,
          79,
          80,
          81,
          82,
          83,
          84,
          85,
          86,
          87,
          88,
          89,
          90,
          91,
          92,
          93,
          94,
          95,
          96,
          97,
          98,
          99
         ],
         "y": [
          0.22468750138776283,
          -1.2201006682472721,
          -0.38120836900967436,
          0.9080280964909853,
          0.27519514072444545,
          0.7405045091739192,
          1.56430245208963,
          -0.3366157345286349,
          0.6058482148449947,
          -0.18822217706099914,
          -0.553782305483672,
          0.4856992692327652,
          2.056068297112066,
          1.4519014710251552,
          0.2873495371694311,
          -1.055673324229469,
          1.125539461912964,
          -0.6781809454076451,
          1.0873122981269119,
          -1.156546748655062,
          -0.07141027950035995,
          0.7344446368811608,
          1.1086876321069385,
          0.8423154945849387,
          -2.217606864872387,
          0.7116383227632953,
          0.993666406074608,
          0.530938122735828,
          0.2188173187310082,
          0.4049602068197293,
          -2.0159992563534885,
          -0.060623041226307975,
          0.6242484867417049,
          1.484232707036188,
          0.04465531255007122,
          -0.2305807971122928,
          0.17095998284590264,
          -1.245480679614905,
          -0.9389271270995194,
          0.5030164606972699,
          1.0656563922698614,
          0.3505240630446428,
          0.2414824619987551,
          0.9942482404127652,
          0.4765976623527221,
          1.124661694295994,
          1.2768298302535228,
          -1.62128884613497,
          0.5303734298592305,
          -0.2690900079597484,
          0.46096685906134577,
          1.1865376815345168,
          -1.7066897839080184,
          0.5264645779043626,
          1.4659949459794173,
          1.7537984805688966,
          -2.7213713741175325,
          -1.6174972145567859,
          -0.6891460586020808,
          1.5376702334436478,
          -0.02764057432283916,
          -0.599201374264729,
          -0.2476274622599468,
          0.793791525530572,
          0.37779094702314303,
          0.935173717635825,
          1.7484139462741741,
          0.32266562401506255,
          -0.6487632776650228,
          2.0078251045526634,
          -0.417650891088805,
          -0.4599668326302849,
          0.1920447629082108,
          1.1081992778479404,
          -0.20677853140485014,
          0.673792955057846,
          -0.6145874960358046,
          2.6960324121717036,
          -0.19042764357994205,
          -1.023467307948751,
          1.0398523875849615,
          0.3436693511105247,
          0.8290871596900478,
          1.1549510442508506,
          0.4117118086806331,
          0.4748080394393115,
          0.4677120624737869,
          -0.7546375139623949,
          -0.4925641349025601,
          -1.3459394903579807,
          -0.16029338946391664,
          0.7647189953220496,
          0.44268649041188557,
          -0.5375626285796197,
          0.06865656768013174,
          0.42563285392657213,
          1.5054197002410827,
          0.31864715005789024,
          0.3912631576612353,
          2.34380565814746
         ]
        },
        {
         "line": {
          "color": "rgba(55, 128, 191, 1.0)",
          "dash": "solid",
          "shape": "linear",
          "width": 1.3
         },
         "mode": "lines",
         "name": "B",
         "text": "",
         "type": "scatter",
         "x": [
          0,
          1,
          2,
          3,
          4,
          5,
          6,
          7,
          8,
          9,
          10,
          11,
          12,
          13,
          14,
          15,
          16,
          17,
          18,
          19,
          20,
          21,
          22,
          23,
          24,
          25,
          26,
          27,
          28,
          29,
          30,
          31,
          32,
          33,
          34,
          35,
          36,
          37,
          38,
          39,
          40,
          41,
          42,
          43,
          44,
          45,
          46,
          47,
          48,
          49,
          50,
          51,
          52,
          53,
          54,
          55,
          56,
          57,
          58,
          59,
          60,
          61,
          62,
          63,
          64,
          65,
          66,
          67,
          68,
          69,
          70,
          71,
          72,
          73,
          74,
          75,
          76,
          77,
          78,
          79,
          80,
          81,
          82,
          83,
          84,
          85,
          86,
          87,
          88,
          89,
          90,
          91,
          92,
          93,
          94,
          95,
          96,
          97,
          98,
          99
         ],
         "y": [
          -0.16422876721743565,
          0.6670452464976666,
          -0.685865808819527,
          -1.5736886144613427,
          -0.23045031586759016,
          -0.42274115581449295,
          -0.6010143658427873,
          -1.419878152548846,
          0.6616601571083076,
          -0.9877380922730752,
          -0.5942919242206909,
          0.304929619433351,
          -0.9993853762928402,
          -0.2524139721320558,
          1.8429906965397722,
          -0.34481902310876317,
          -0.8170823218264874,
          0.044849442457627293,
          -0.012977196940074818,
          0.838384787149612,
          -1.5229587505245619,
          1.4251587821569518,
          -0.4162996681014022,
          0.8569983408459783,
          2.382182312994455,
          -1.3762391465302437,
          -1.481821803433624,
          -2.0602059142074696,
          -1.5274705995821602,
          1.2519638599400116,
          -0.43309080594058813,
          0.12027663033844649,
          -0.11854337273379117,
          1.4821618910088656,
          -0.14522967748592272,
          -0.6677272324397512,
          -1.6952463818613155,
          -0.4325652662983596,
          0.33319757650080783,
          0.433358973518084,
          -1.3755852517651894,
          0.6963427878564259,
          -0.26852812662165143,
          0.5275417214262043,
          0.595196015392416,
          1.5844739844348843,
          -0.7741964622896014,
          1.1410847506063861,
          0.11240475030684406,
          -0.5702792189878046,
          0.7597016325236358,
          -1.9603530214644673,
          0.8778774131302823,
          -1.017960608654116,
          0.31598351810850284,
          0.8408122409644502,
          0.33092621907037795,
          1.9316340929561195,
          -0.6599263306633899,
          -0.6993745464921768,
          0.23906648725741264,
          0.2087000772545572,
          0.19493401996869997,
          0.7927786583144897,
          -0.6491635003059165,
          0.5487691848294892,
          2.663922323405963,
          0.15240544659354957,
          0.019476688257318304,
          0.3425689853126668,
          1.5157043112317192,
          0.23798063531826116,
          1.3365331865664594,
          1.1371615091006437,
          0.34676727967387405,
          -0.6911349227259657,
          -0.575208813221236,
          1.3158720069235668,
          0.7722268185853256,
          0.2526778853328299,
          0.3862963566114384,
          -0.7496854703485692,
          0.6650522640486239,
          -0.23026555201191248,
          -0.03492279996473518,
          -0.556937737616426,
          0.9073889304947077,
          -0.8303116870755936,
          -1.8426051322299828,
          -1.664162187568695,
          -0.10355347224170744,
          -0.3188411936275798,
          -1.5586164943375724,
          0.8378285625262175,
          0.012666771326950016,
          -1.9657458308290785,
          -0.33168611219299443,
          0.04536732747936877,
          -0.29509010001921215,
          1.4656745484393607
         ]
        },
        {
         "line": {
          "color": "rgba(50, 171, 96, 1.0)",
          "dash": "solid",
          "shape": "linear",
          "width": 1.3
         },
         "mode": "lines",
         "name": "C",
         "text": "",
         "type": "scatter",
         "x": [
          0,
          1,
          2,
          3,
          4,
          5,
          6,
          7,
          8,
          9,
          10,
          11,
          12,
          13,
          14,
          15,
          16,
          17,
          18,
          19,
          20,
          21,
          22,
          23,
          24,
          25,
          26,
          27,
          28,
          29,
          30,
          31,
          32,
          33,
          34,
          35,
          36,
          37,
          38,
          39,
          40,
          41,
          42,
          43,
          44,
          45,
          46,
          47,
          48,
          49,
          50,
          51,
          52,
          53,
          54,
          55,
          56,
          57,
          58,
          59,
          60,
          61,
          62,
          63,
          64,
          65,
          66,
          67,
          68,
          69,
          70,
          71,
          72,
          73,
          74,
          75,
          76,
          77,
          78,
          79,
          80,
          81,
          82,
          83,
          84,
          85,
          86,
          87,
          88,
          89,
          90,
          91,
          92,
          93,
          94,
          95,
          96,
          97,
          98,
          99
         ],
         "y": [
          2.3165848025523603,
          2.2542636995851533,
          -0.46396568426884544,
          -0.5855104843941817,
          -0.0059621016579201255,
          1.1848349862340426,
          1.30077963323681,
          1.030463254115309,
          0.14635780325425782,
          1.8009577616992263,
          -1.1077207603158568,
          0.4780387635949109,
          1.0063114516667604,
          0.3024847927598517,
          1.2680870261858048,
          -1.3208969688211252,
          1.3032827725236467,
          -0.124033187855886,
          -0.7107939399473455,
          -0.3924827333116875,
          -0.5984178709391533,
          0.236646117575374,
          -0.5363503634201627,
          -0.09656726682136683,
          -0.697301468263893,
          0.7648917242886203,
          1.8659079434143333,
          1.142290057999365,
          0.5945049239279526,
          -2.0992263348837192,
          0.6731039505325,
          -0.1679642475511886,
          0.19311686450930537,
          0.7625753618656005,
          -0.48417468017232457,
          0.5320786361899471,
          0.21372820264928702,
          -0.34999128097052534,
          2.2552786054912364,
          1.2526258892904214,
          1.008352296780753,
          0.16965108573240376,
          1.9883622172554793,
          0.1730460444765315,
          0.1750403487288461,
          -0.8155978924744,
          0.8057634982081118,
          0.876220333632149,
          0.684760481976416,
          0.07324282999707384,
          0.2316283176815906,
          0.6526245052678241,
          -0.1894997374312308,
          0.5117865054107718,
          0.6361601996244547,
          0.345670358216658,
          -1.121885978985411,
          0.22470912609182148,
          0.8024655453484935,
          -0.45318919339596747,
          0.9915518040171178,
          0.8362138342599353,
          1.3133255476703358,
          1.0572738724035886,
          0.1358209880558571,
          -0.4051879999181737,
          0.8189863084785147,
          1.5978416506013275,
          0.029308659347985076,
          -0.3378103192893332,
          0.34557053730579873,
          -0.9874533542875754,
          0.4486450638504768,
          0.7698923196547522,
          -0.368153111368111,
          0.6944519043643017,
          -0.569652387978368,
          0.13898387819560076,
          0.25952032645091627,
          0.36938951403844117,
          0.18910891152032905,
          -0.39945054631666255,
          0.8398074849200589,
          -0.6256356658083837,
          0.008629285333059308,
          0.759667143100074,
          -0.08732880120692228,
          -0.5530988953086908,
          -0.28072005046384046,
          -2.0424445462267276,
          -1.0836982671576134,
          1.1005403244987406,
          -0.6173449618836887,
          0.14101414421681313,
          0.9622195487537508,
          -0.34861545868551436,
          -0.4707781960020486,
          -0.1728995675876013,
          -0.2733709393691061,
          0.07890783996525672
         ]
        },
        {
         "line": {
          "color": "rgba(128, 0, 128, 1.0)",
          "dash": "solid",
          "shape": "linear",
          "width": 1.3
         },
         "mode": "lines",
         "name": "D",
         "text": "",
         "type": "scatter",
         "x": [
          0,
          1,
          2,
          3,
          4,
          5,
          6,
          7,
          8,
          9,
          10,
          11,
          12,
          13,
          14,
          15,
          16,
          17,
          18,
          19,
          20,
          21,
          22,
          23,
          24,
          25,
          26,
          27,
          28,
          29,
          30,
          31,
          32,
          33,
          34,
          35,
          36,
          37,
          38,
          39,
          40,
          41,
          42,
          43,
          44,
          45,
          46,
          47,
          48,
          49,
          50,
          51,
          52,
          53,
          54,
          55,
          56,
          57,
          58,
          59,
          60,
          61,
          62,
          63,
          64,
          65,
          66,
          67,
          68,
          69,
          70,
          71,
          72,
          73,
          74,
          75,
          76,
          77,
          78,
          79,
          80,
          81,
          82,
          83,
          84,
          85,
          86,
          87,
          88,
          89,
          90,
          91,
          92,
          93,
          94,
          95,
          96,
          97,
          98,
          99
         ],
         "y": [
          -1.5997112205786186,
          0.009528840121854306,
          0.6507129947158776,
          2.6137513025026853,
          -0.36455230332663485,
          1.9442539103330019,
          1.0747596821000598,
          1.1693817949514025,
          -0.6026699206652171,
          0.9537660364284009,
          -1.5419803740999256,
          0.5192809028836202,
          1.3509816098272158,
          0.10798886597923649,
          0.5302510339128426,
          0.4750534192246425,
          -0.6242773624942318,
          -0.5699374000547291,
          0.328519726206045,
          0.250578792002993,
          0.9916018891958678,
          -0.9665629680775036,
          -0.10264427406321137,
          -0.5196055123411216,
          1.7470791711722227,
          -0.4170266356167464,
          0.6188290685886852,
          -2.5493071623632706,
          0.9073429097649286,
          -1.0605258512824625,
          2.069048759667784,
          -0.6722775241851106,
          0.027075216409382766,
          -0.35815465129900514,
          0.6086646296514723,
          -0.18301613823251583,
          0.46120364932118163,
          -1.035770995727319,
          0.07626010852911254,
          0.46620591094654584,
          -0.5934689276344673,
          -1.0571670534005015,
          0.6380115576184452,
          -1.3528505693333377,
          0.41786211525849726,
          0.12585553125614293,
          2.277500498653364,
          -0.21998473950591874,
          -1.6118915140682377,
          2.098082770188739,
          -0.8296913925184778,
          0.5999301219179407,
          -1.2948907405889132,
          1.093881612747709,
          -1.888133915350128,
          0.5338815272202516,
          -0.8252355121866984,
          0.053240910327559024,
          1.0436210699784514,
          0.781401410971616,
          2.0591866704582014,
          1.4042111357180933,
          0.7417355211402468,
          0.9736954065004602,
          -0.5441895671996312,
          -1.9631043254359803,
          -1.4381467514645085,
          1.5777048302330112,
          1.3364683970242368,
          -0.4165561457765922,
          -1.7010101160988071,
          0.24714762709230237,
          -0.33008290316828753,
          -1.229927038311893,
          1.804611064511104,
          -1.2787459128970469,
          -2.3578378565190117,
          0.35880554682163707,
          -0.6678595955049842,
          -1.0553131203028001,
          0.18715243832222342,
          -1.2177394040550191,
          -0.4485162740534395,
          -0.2372790459493969,
          0.057576300808691395,
          0.16173049955701282,
          -1.1687318178848807,
          0.49954022438348433,
          0.9635782048887903,
          -1.183298686342565,
          0.9348170094447775,
          1.0620685334233335,
          -1.7884780684061024,
          1.6478939573343991,
          -0.17661881313927869,
          1.1114549908224907,
          0.3425990164670687,
          -1.0847581802504875,
          0.439195362884379,
          -0.7307753260118999
         ]
        }
       ],
       "layout": {
        "legend": {
         "bgcolor": "#F5F6F9",
         "font": {
          "color": "#4D5663"
         }
        },
        "paper_bgcolor": "#F5F6F9",
        "plot_bgcolor": "#F5F6F9",
        "template": {
         "data": {
          "bar": [
           {
            "error_x": {
             "color": "#2a3f5f"
            },
            "error_y": {
             "color": "#2a3f5f"
            },
            "marker": {
             "line": {
              "color": "#E5ECF6",
              "width": 0.5
             }
            },
            "type": "bar"
           }
          ],
          "barpolar": [
           {
            "marker": {
             "line": {
              "color": "#E5ECF6",
              "width": 0.5
             }
            },
            "type": "barpolar"
           }
          ],
          "carpet": [
           {
            "aaxis": {
             "endlinecolor": "#2a3f5f",
             "gridcolor": "white",
             "linecolor": "white",
             "minorgridcolor": "white",
             "startlinecolor": "#2a3f5f"
            },
            "baxis": {
             "endlinecolor": "#2a3f5f",
             "gridcolor": "white",
             "linecolor": "white",
             "minorgridcolor": "white",
             "startlinecolor": "#2a3f5f"
            },
            "type": "carpet"
           }
          ],
          "choropleth": [
           {
            "colorbar": {
             "outlinewidth": 0,
             "ticks": ""
            },
            "type": "choropleth"
           }
          ],
          "contour": [
           {
            "colorbar": {
             "outlinewidth": 0,
             "ticks": ""
            },
            "colorscale": [
             [
              0,
              "#0d0887"
             ],
             [
              0.1111111111111111,
              "#46039f"
             ],
             [
              0.2222222222222222,
              "#7201a8"
             ],
             [
              0.3333333333333333,
              "#9c179e"
             ],
             [
              0.4444444444444444,
              "#bd3786"
             ],
             [
              0.5555555555555556,
              "#d8576b"
             ],
             [
              0.6666666666666666,
              "#ed7953"
             ],
             [
              0.7777777777777778,
              "#fb9f3a"
             ],
             [
              0.8888888888888888,
              "#fdca26"
             ],
             [
              1,
              "#f0f921"
             ]
            ],
            "type": "contour"
           }
          ],
          "contourcarpet": [
           {
            "colorbar": {
             "outlinewidth": 0,
             "ticks": ""
            },
            "type": "contourcarpet"
           }
          ],
          "heatmap": [
           {
            "colorbar": {
             "outlinewidth": 0,
             "ticks": ""
            },
            "colorscale": [
             [
              0,
              "#0d0887"
             ],
             [
              0.1111111111111111,
              "#46039f"
             ],
             [
              0.2222222222222222,
              "#7201a8"
             ],
             [
              0.3333333333333333,
              "#9c179e"
             ],
             [
              0.4444444444444444,
              "#bd3786"
             ],
             [
              0.5555555555555556,
              "#d8576b"
             ],
             [
              0.6666666666666666,
              "#ed7953"
             ],
             [
              0.7777777777777778,
              "#fb9f3a"
             ],
             [
              0.8888888888888888,
              "#fdca26"
             ],
             [
              1,
              "#f0f921"
             ]
            ],
            "type": "heatmap"
           }
          ],
          "heatmapgl": [
           {
            "colorbar": {
             "outlinewidth": 0,
             "ticks": ""
            },
            "colorscale": [
             [
              0,
              "#0d0887"
             ],
             [
              0.1111111111111111,
              "#46039f"
             ],
             [
              0.2222222222222222,
              "#7201a8"
             ],
             [
              0.3333333333333333,
              "#9c179e"
             ],
             [
              0.4444444444444444,
              "#bd3786"
             ],
             [
              0.5555555555555556,
              "#d8576b"
             ],
             [
              0.6666666666666666,
              "#ed7953"
             ],
             [
              0.7777777777777778,
              "#fb9f3a"
             ],
             [
              0.8888888888888888,
              "#fdca26"
             ],
             [
              1,
              "#f0f921"
             ]
            ],
            "type": "heatmapgl"
           }
          ],
          "histogram": [
           {
            "marker": {
             "colorbar": {
              "outlinewidth": 0,
              "ticks": ""
             }
            },
            "type": "histogram"
           }
          ],
          "histogram2d": [
           {
            "colorbar": {
             "outlinewidth": 0,
             "ticks": ""
            },
            "colorscale": [
             [
              0,
              "#0d0887"
             ],
             [
              0.1111111111111111,
              "#46039f"
             ],
             [
              0.2222222222222222,
              "#7201a8"
             ],
             [
              0.3333333333333333,
              "#9c179e"
             ],
             [
              0.4444444444444444,
              "#bd3786"
             ],
             [
              0.5555555555555556,
              "#d8576b"
             ],
             [
              0.6666666666666666,
              "#ed7953"
             ],
             [
              0.7777777777777778,
              "#fb9f3a"
             ],
             [
              0.8888888888888888,
              "#fdca26"
             ],
             [
              1,
              "#f0f921"
             ]
            ],
            "type": "histogram2d"
           }
          ],
          "histogram2dcontour": [
           {
            "colorbar": {
             "outlinewidth": 0,
             "ticks": ""
            },
            "colorscale": [
             [
              0,
              "#0d0887"
             ],
             [
              0.1111111111111111,
              "#46039f"
             ],
             [
              0.2222222222222222,
              "#7201a8"
             ],
             [
              0.3333333333333333,
              "#9c179e"
             ],
             [
              0.4444444444444444,
              "#bd3786"
             ],
             [
              0.5555555555555556,
              "#d8576b"
             ],
             [
              0.6666666666666666,
              "#ed7953"
             ],
             [
              0.7777777777777778,
              "#fb9f3a"
             ],
             [
              0.8888888888888888,
              "#fdca26"
             ],
             [
              1,
              "#f0f921"
             ]
            ],
            "type": "histogram2dcontour"
           }
          ],
          "mesh3d": [
           {
            "colorbar": {
             "outlinewidth": 0,
             "ticks": ""
            },
            "type": "mesh3d"
           }
          ],
          "parcoords": [
           {
            "line": {
             "colorbar": {
              "outlinewidth": 0,
              "ticks": ""
             }
            },
            "type": "parcoords"
           }
          ],
          "pie": [
           {
            "automargin": true,
            "type": "pie"
           }
          ],
          "scatter": [
           {
            "marker": {
             "colorbar": {
              "outlinewidth": 0,
              "ticks": ""
             }
            },
            "type": "scatter"
           }
          ],
          "scatter3d": [
           {
            "line": {
             "colorbar": {
              "outlinewidth": 0,
              "ticks": ""
             }
            },
            "marker": {
             "colorbar": {
              "outlinewidth": 0,
              "ticks": ""
             }
            },
            "type": "scatter3d"
           }
          ],
          "scattercarpet": [
           {
            "marker": {
             "colorbar": {
              "outlinewidth": 0,
              "ticks": ""
             }
            },
            "type": "scattercarpet"
           }
          ],
          "scattergeo": [
           {
            "marker": {
             "colorbar": {
              "outlinewidth": 0,
              "ticks": ""
             }
            },
            "type": "scattergeo"
           }
          ],
          "scattergl": [
           {
            "marker": {
             "colorbar": {
              "outlinewidth": 0,
              "ticks": ""
             }
            },
            "type": "scattergl"
           }
          ],
          "scattermapbox": [
           {
            "marker": {
             "colorbar": {
              "outlinewidth": 0,
              "ticks": ""
             }
            },
            "type": "scattermapbox"
           }
          ],
          "scatterpolar": [
           {
            "marker": {
             "colorbar": {
              "outlinewidth": 0,
              "ticks": ""
             }
            },
            "type": "scatterpolar"
           }
          ],
          "scatterpolargl": [
           {
            "marker": {
             "colorbar": {
              "outlinewidth": 0,
              "ticks": ""
             }
            },
            "type": "scatterpolargl"
           }
          ],
          "scatterternary": [
           {
            "marker": {
             "colorbar": {
              "outlinewidth": 0,
              "ticks": ""
             }
            },
            "type": "scatterternary"
           }
          ],
          "surface": [
           {
            "colorbar": {
             "outlinewidth": 0,
             "ticks": ""
            },
            "colorscale": [
             [
              0,
              "#0d0887"
             ],
             [
              0.1111111111111111,
              "#46039f"
             ],
             [
              0.2222222222222222,
              "#7201a8"
             ],
             [
              0.3333333333333333,
              "#9c179e"
             ],
             [
              0.4444444444444444,
              "#bd3786"
             ],
             [
              0.5555555555555556,
              "#d8576b"
             ],
             [
              0.6666666666666666,
              "#ed7953"
             ],
             [
              0.7777777777777778,
              "#fb9f3a"
             ],
             [
              0.8888888888888888,
              "#fdca26"
             ],
             [
              1,
              "#f0f921"
             ]
            ],
            "type": "surface"
           }
          ],
          "table": [
           {
            "cells": {
             "fill": {
              "color": "#EBF0F8"
             },
             "line": {
              "color": "white"
             }
            },
            "header": {
             "fill": {
              "color": "#C8D4E3"
             },
             "line": {
              "color": "white"
             }
            },
            "type": "table"
           }
          ]
         },
         "layout": {
          "annotationdefaults": {
           "arrowcolor": "#2a3f5f",
           "arrowhead": 0,
           "arrowwidth": 1
          },
          "coloraxis": {
           "colorbar": {
            "outlinewidth": 0,
            "ticks": ""
           }
          },
          "colorscale": {
           "diverging": [
            [
             0,
             "#8e0152"
            ],
            [
             0.1,
             "#c51b7d"
            ],
            [
             0.2,
             "#de77ae"
            ],
            [
             0.3,
             "#f1b6da"
            ],
            [
             0.4,
             "#fde0ef"
            ],
            [
             0.5,
             "#f7f7f7"
            ],
            [
             0.6,
             "#e6f5d0"
            ],
            [
             0.7,
             "#b8e186"
            ],
            [
             0.8,
             "#7fbc41"
            ],
            [
             0.9,
             "#4d9221"
            ],
            [
             1,
             "#276419"
            ]
           ],
           "sequential": [
            [
             0,
             "#0d0887"
            ],
            [
             0.1111111111111111,
             "#46039f"
            ],
            [
             0.2222222222222222,
             "#7201a8"
            ],
            [
             0.3333333333333333,
             "#9c179e"
            ],
            [
             0.4444444444444444,
             "#bd3786"
            ],
            [
             0.5555555555555556,
             "#d8576b"
            ],
            [
             0.6666666666666666,
             "#ed7953"
            ],
            [
             0.7777777777777778,
             "#fb9f3a"
            ],
            [
             0.8888888888888888,
             "#fdca26"
            ],
            [
             1,
             "#f0f921"
            ]
           ],
           "sequentialminus": [
            [
             0,
             "#0d0887"
            ],
            [
             0.1111111111111111,
             "#46039f"
            ],
            [
             0.2222222222222222,
             "#7201a8"
            ],
            [
             0.3333333333333333,
             "#9c179e"
            ],
            [
             0.4444444444444444,
             "#bd3786"
            ],
            [
             0.5555555555555556,
             "#d8576b"
            ],
            [
             0.6666666666666666,
             "#ed7953"
            ],
            [
             0.7777777777777778,
             "#fb9f3a"
            ],
            [
             0.8888888888888888,
             "#fdca26"
            ],
            [
             1,
             "#f0f921"
            ]
           ]
          },
          "colorway": [
           "#636efa",
           "#EF553B",
           "#00cc96",
           "#ab63fa",
           "#FFA15A",
           "#19d3f3",
           "#FF6692",
           "#B6E880",
           "#FF97FF",
           "#FECB52"
          ],
          "font": {
           "color": "#2a3f5f"
          },
          "geo": {
           "bgcolor": "white",
           "lakecolor": "white",
           "landcolor": "#E5ECF6",
           "showlakes": true,
           "showland": true,
           "subunitcolor": "white"
          },
          "hoverlabel": {
           "align": "left"
          },
          "hovermode": "closest",
          "mapbox": {
           "style": "light"
          },
          "paper_bgcolor": "white",
          "plot_bgcolor": "#E5ECF6",
          "polar": {
           "angularaxis": {
            "gridcolor": "white",
            "linecolor": "white",
            "ticks": ""
           },
           "bgcolor": "#E5ECF6",
           "radialaxis": {
            "gridcolor": "white",
            "linecolor": "white",
            "ticks": ""
           }
          },
          "scene": {
           "xaxis": {
            "backgroundcolor": "#E5ECF6",
            "gridcolor": "white",
            "gridwidth": 2,
            "linecolor": "white",
            "showbackground": true,
            "ticks": "",
            "zerolinecolor": "white"
           },
           "yaxis": {
            "backgroundcolor": "#E5ECF6",
            "gridcolor": "white",
            "gridwidth": 2,
            "linecolor": "white",
            "showbackground": true,
            "ticks": "",
            "zerolinecolor": "white"
           },
           "zaxis": {
            "backgroundcolor": "#E5ECF6",
            "gridcolor": "white",
            "gridwidth": 2,
            "linecolor": "white",
            "showbackground": true,
            "ticks": "",
            "zerolinecolor": "white"
           }
          },
          "shapedefaults": {
           "line": {
            "color": "#2a3f5f"
           }
          },
          "ternary": {
           "aaxis": {
            "gridcolor": "white",
            "linecolor": "white",
            "ticks": ""
           },
           "baxis": {
            "gridcolor": "white",
            "linecolor": "white",
            "ticks": ""
           },
           "bgcolor": "#E5ECF6",
           "caxis": {
            "gridcolor": "white",
            "linecolor": "white",
            "ticks": ""
           }
          },
          "title": {
           "x": 0.05
          },
          "xaxis": {
           "automargin": true,
           "gridcolor": "white",
           "linecolor": "white",
           "ticks": "",
           "title": {
            "standoff": 15
           },
           "zerolinecolor": "white",
           "zerolinewidth": 2
          },
          "yaxis": {
           "automargin": true,
           "gridcolor": "white",
           "linecolor": "white",
           "ticks": "",
           "title": {
            "standoff": 15
           },
           "zerolinecolor": "white",
           "zerolinewidth": 2
          }
         }
        },
        "title": {
         "font": {
          "color": "#4D5663"
         }
        },
        "xaxis": {
         "gridcolor": "#E1E5ED",
         "showgrid": true,
         "tickfont": {
          "color": "#4D5663"
         },
         "title": {
          "font": {
           "color": "#4D5663"
          },
          "text": ""
         },
         "zerolinecolor": "#E1E5ED"
        },
        "yaxis": {
         "gridcolor": "#E1E5ED",
         "showgrid": true,
         "tickfont": {
          "color": "#4D5663"
         },
         "title": {
          "font": {
           "color": "#4D5663"
          },
          "text": ""
         },
         "zerolinecolor": "#E1E5ED"
        }
       }
      },
      "text/html": [
       "<div>\n",
       "        \n",
       "        \n",
       "            <div id=\"ffc9a797-0d98-4764-861a-a32668f7c2a3\" class=\"plotly-graph-div\" style=\"height:525px; width:100%;\"></div>\n",
       "            <script type=\"text/javascript\">\n",
       "                require([\"plotly\"], function(Plotly) {\n",
       "                    window.PLOTLYENV=window.PLOTLYENV || {};\n",
       "                    window.PLOTLYENV.BASE_URL='https://plot.ly';\n",
       "                    \n",
       "                if (document.getElementById(\"ffc9a797-0d98-4764-861a-a32668f7c2a3\")) {\n",
       "                    Plotly.newPlot(\n",
       "                        'ffc9a797-0d98-4764-861a-a32668f7c2a3',\n",
       "                        [{\"line\": {\"color\": \"rgba(255, 153, 51, 1.0)\", \"dash\": \"solid\", \"shape\": \"linear\", \"width\": 1.3}, \"mode\": \"lines\", \"name\": \"A\", \"text\": \"\", \"type\": \"scatter\", \"x\": [0, 1, 2, 3, 4, 5, 6, 7, 8, 9, 10, 11, 12, 13, 14, 15, 16, 17, 18, 19, 20, 21, 22, 23, 24, 25, 26, 27, 28, 29, 30, 31, 32, 33, 34, 35, 36, 37, 38, 39, 40, 41, 42, 43, 44, 45, 46, 47, 48, 49, 50, 51, 52, 53, 54, 55, 56, 57, 58, 59, 60, 61, 62, 63, 64, 65, 66, 67, 68, 69, 70, 71, 72, 73, 74, 75, 76, 77, 78, 79, 80, 81, 82, 83, 84, 85, 86, 87, 88, 89, 90, 91, 92, 93, 94, 95, 96, 97, 98, 99], \"y\": [0.22468750138776283, -1.2201006682472721, -0.38120836900967436, 0.9080280964909853, 0.27519514072444545, 0.7405045091739192, 1.56430245208963, -0.3366157345286349, 0.6058482148449947, -0.18822217706099914, -0.553782305483672, 0.4856992692327652, 2.056068297112066, 1.4519014710251552, 0.2873495371694311, -1.055673324229469, 1.125539461912964, -0.6781809454076451, 1.0873122981269119, -1.156546748655062, -0.07141027950035995, 0.7344446368811608, 1.1086876321069385, 0.8423154945849387, -2.217606864872387, 0.7116383227632953, 0.993666406074608, 0.530938122735828, 0.2188173187310082, 0.4049602068197293, -2.0159992563534885, -0.060623041226307975, 0.6242484867417049, 1.484232707036188, 0.04465531255007122, -0.2305807971122928, 0.17095998284590264, -1.245480679614905, -0.9389271270995194, 0.5030164606972699, 1.0656563922698614, 0.3505240630446428, 0.2414824619987551, 0.9942482404127652, 0.4765976623527221, 1.124661694295994, 1.2768298302535228, -1.62128884613497, 0.5303734298592305, -0.2690900079597484, 0.46096685906134577, 1.1865376815345168, -1.7066897839080184, 0.5264645779043626, 1.4659949459794173, 1.7537984805688966, -2.7213713741175325, -1.6174972145567859, -0.6891460586020808, 1.5376702334436478, -0.02764057432283916, -0.599201374264729, -0.2476274622599468, 0.793791525530572, 0.37779094702314303, 0.935173717635825, 1.7484139462741741, 0.32266562401506255, -0.6487632776650228, 2.0078251045526634, -0.417650891088805, -0.4599668326302849, 0.1920447629082108, 1.1081992778479404, -0.20677853140485014, 0.673792955057846, -0.6145874960358046, 2.6960324121717036, -0.19042764357994205, -1.023467307948751, 1.0398523875849615, 0.3436693511105247, 0.8290871596900478, 1.1549510442508506, 0.4117118086806331, 0.4748080394393115, 0.4677120624737869, -0.7546375139623949, -0.4925641349025601, -1.3459394903579807, -0.16029338946391664, 0.7647189953220496, 0.44268649041188557, -0.5375626285796197, 0.06865656768013174, 0.42563285392657213, 1.5054197002410827, 0.31864715005789024, 0.3912631576612353, 2.34380565814746]}, {\"line\": {\"color\": \"rgba(55, 128, 191, 1.0)\", \"dash\": \"solid\", \"shape\": \"linear\", \"width\": 1.3}, \"mode\": \"lines\", \"name\": \"B\", \"text\": \"\", \"type\": \"scatter\", \"x\": [0, 1, 2, 3, 4, 5, 6, 7, 8, 9, 10, 11, 12, 13, 14, 15, 16, 17, 18, 19, 20, 21, 22, 23, 24, 25, 26, 27, 28, 29, 30, 31, 32, 33, 34, 35, 36, 37, 38, 39, 40, 41, 42, 43, 44, 45, 46, 47, 48, 49, 50, 51, 52, 53, 54, 55, 56, 57, 58, 59, 60, 61, 62, 63, 64, 65, 66, 67, 68, 69, 70, 71, 72, 73, 74, 75, 76, 77, 78, 79, 80, 81, 82, 83, 84, 85, 86, 87, 88, 89, 90, 91, 92, 93, 94, 95, 96, 97, 98, 99], \"y\": [-0.16422876721743565, 0.6670452464976666, -0.685865808819527, -1.5736886144613427, -0.23045031586759016, -0.42274115581449295, -0.6010143658427873, -1.419878152548846, 0.6616601571083076, -0.9877380922730752, -0.5942919242206909, 0.304929619433351, -0.9993853762928402, -0.2524139721320558, 1.8429906965397722, -0.34481902310876317, -0.8170823218264874, 0.044849442457627293, -0.012977196940074818, 0.838384787149612, -1.5229587505245619, 1.4251587821569518, -0.4162996681014022, 0.8569983408459783, 2.382182312994455, -1.3762391465302437, -1.481821803433624, -2.0602059142074696, -1.5274705995821602, 1.2519638599400116, -0.43309080594058813, 0.12027663033844649, -0.11854337273379117, 1.4821618910088656, -0.14522967748592272, -0.6677272324397512, -1.6952463818613155, -0.4325652662983596, 0.33319757650080783, 0.433358973518084, -1.3755852517651894, 0.6963427878564259, -0.26852812662165143, 0.5275417214262043, 0.595196015392416, 1.5844739844348843, -0.7741964622896014, 1.1410847506063861, 0.11240475030684406, -0.5702792189878046, 0.7597016325236358, -1.9603530214644673, 0.8778774131302823, -1.017960608654116, 0.31598351810850284, 0.8408122409644502, 0.33092621907037795, 1.9316340929561195, -0.6599263306633899, -0.6993745464921768, 0.23906648725741264, 0.2087000772545572, 0.19493401996869997, 0.7927786583144897, -0.6491635003059165, 0.5487691848294892, 2.663922323405963, 0.15240544659354957, 0.019476688257318304, 0.3425689853126668, 1.5157043112317192, 0.23798063531826116, 1.3365331865664594, 1.1371615091006437, 0.34676727967387405, -0.6911349227259657, -0.575208813221236, 1.3158720069235668, 0.7722268185853256, 0.2526778853328299, 0.3862963566114384, -0.7496854703485692, 0.6650522640486239, -0.23026555201191248, -0.03492279996473518, -0.556937737616426, 0.9073889304947077, -0.8303116870755936, -1.8426051322299828, -1.664162187568695, -0.10355347224170744, -0.3188411936275798, -1.5586164943375724, 0.8378285625262175, 0.012666771326950016, -1.9657458308290785, -0.33168611219299443, 0.04536732747936877, -0.29509010001921215, 1.4656745484393607]}, {\"line\": {\"color\": \"rgba(50, 171, 96, 1.0)\", \"dash\": \"solid\", \"shape\": \"linear\", \"width\": 1.3}, \"mode\": \"lines\", \"name\": \"C\", \"text\": \"\", \"type\": \"scatter\", \"x\": [0, 1, 2, 3, 4, 5, 6, 7, 8, 9, 10, 11, 12, 13, 14, 15, 16, 17, 18, 19, 20, 21, 22, 23, 24, 25, 26, 27, 28, 29, 30, 31, 32, 33, 34, 35, 36, 37, 38, 39, 40, 41, 42, 43, 44, 45, 46, 47, 48, 49, 50, 51, 52, 53, 54, 55, 56, 57, 58, 59, 60, 61, 62, 63, 64, 65, 66, 67, 68, 69, 70, 71, 72, 73, 74, 75, 76, 77, 78, 79, 80, 81, 82, 83, 84, 85, 86, 87, 88, 89, 90, 91, 92, 93, 94, 95, 96, 97, 98, 99], \"y\": [2.3165848025523603, 2.2542636995851533, -0.46396568426884544, -0.5855104843941817, -0.0059621016579201255, 1.1848349862340426, 1.30077963323681, 1.030463254115309, 0.14635780325425782, 1.8009577616992263, -1.1077207603158568, 0.4780387635949109, 1.0063114516667604, 0.3024847927598517, 1.2680870261858048, -1.3208969688211252, 1.3032827725236467, -0.124033187855886, -0.7107939399473455, -0.3924827333116875, -0.5984178709391533, 0.236646117575374, -0.5363503634201627, -0.09656726682136683, -0.697301468263893, 0.7648917242886203, 1.8659079434143333, 1.142290057999365, 0.5945049239279526, -2.0992263348837192, 0.6731039505325, -0.1679642475511886, 0.19311686450930537, 0.7625753618656005, -0.48417468017232457, 0.5320786361899471, 0.21372820264928702, -0.34999128097052534, 2.2552786054912364, 1.2526258892904214, 1.008352296780753, 0.16965108573240376, 1.9883622172554793, 0.1730460444765315, 0.1750403487288461, -0.8155978924744, 0.8057634982081118, 0.876220333632149, 0.684760481976416, 0.07324282999707384, 0.2316283176815906, 0.6526245052678241, -0.1894997374312308, 0.5117865054107718, 0.6361601996244547, 0.345670358216658, -1.121885978985411, 0.22470912609182148, 0.8024655453484935, -0.45318919339596747, 0.9915518040171178, 0.8362138342599353, 1.3133255476703358, 1.0572738724035886, 0.1358209880558571, -0.4051879999181737, 0.8189863084785147, 1.5978416506013275, 0.029308659347985076, -0.3378103192893332, 0.34557053730579873, -0.9874533542875754, 0.4486450638504768, 0.7698923196547522, -0.368153111368111, 0.6944519043643017, -0.569652387978368, 0.13898387819560076, 0.25952032645091627, 0.36938951403844117, 0.18910891152032905, -0.39945054631666255, 0.8398074849200589, -0.6256356658083837, 0.008629285333059308, 0.759667143100074, -0.08732880120692228, -0.5530988953086908, -0.28072005046384046, -2.0424445462267276, -1.0836982671576134, 1.1005403244987406, -0.6173449618836887, 0.14101414421681313, 0.9622195487537508, -0.34861545868551436, -0.4707781960020486, -0.1728995675876013, -0.2733709393691061, 0.07890783996525672]}, {\"line\": {\"color\": \"rgba(128, 0, 128, 1.0)\", \"dash\": \"solid\", \"shape\": \"linear\", \"width\": 1.3}, \"mode\": \"lines\", \"name\": \"D\", \"text\": \"\", \"type\": \"scatter\", \"x\": [0, 1, 2, 3, 4, 5, 6, 7, 8, 9, 10, 11, 12, 13, 14, 15, 16, 17, 18, 19, 20, 21, 22, 23, 24, 25, 26, 27, 28, 29, 30, 31, 32, 33, 34, 35, 36, 37, 38, 39, 40, 41, 42, 43, 44, 45, 46, 47, 48, 49, 50, 51, 52, 53, 54, 55, 56, 57, 58, 59, 60, 61, 62, 63, 64, 65, 66, 67, 68, 69, 70, 71, 72, 73, 74, 75, 76, 77, 78, 79, 80, 81, 82, 83, 84, 85, 86, 87, 88, 89, 90, 91, 92, 93, 94, 95, 96, 97, 98, 99], \"y\": [-1.5997112205786186, 0.009528840121854306, 0.6507129947158776, 2.6137513025026853, -0.36455230332663485, 1.9442539103330019, 1.0747596821000598, 1.1693817949514025, -0.6026699206652171, 0.9537660364284009, -1.5419803740999256, 0.5192809028836202, 1.3509816098272158, 0.10798886597923649, 0.5302510339128426, 0.4750534192246425, -0.6242773624942318, -0.5699374000547291, 0.328519726206045, 0.250578792002993, 0.9916018891958678, -0.9665629680775036, -0.10264427406321137, -0.5196055123411216, 1.7470791711722227, -0.4170266356167464, 0.6188290685886852, -2.5493071623632706, 0.9073429097649286, -1.0605258512824625, 2.069048759667784, -0.6722775241851106, 0.027075216409382766, -0.35815465129900514, 0.6086646296514723, -0.18301613823251583, 0.46120364932118163, -1.035770995727319, 0.07626010852911254, 0.46620591094654584, -0.5934689276344673, -1.0571670534005015, 0.6380115576184452, -1.3528505693333377, 0.41786211525849726, 0.12585553125614293, 2.277500498653364, -0.21998473950591874, -1.6118915140682377, 2.098082770188739, -0.8296913925184778, 0.5999301219179407, -1.2948907405889132, 1.093881612747709, -1.888133915350128, 0.5338815272202516, -0.8252355121866984, 0.053240910327559024, 1.0436210699784514, 0.781401410971616, 2.0591866704582014, 1.4042111357180933, 0.7417355211402468, 0.9736954065004602, -0.5441895671996312, -1.9631043254359803, -1.4381467514645085, 1.5777048302330112, 1.3364683970242368, -0.4165561457765922, -1.7010101160988071, 0.24714762709230237, -0.33008290316828753, -1.229927038311893, 1.804611064511104, -1.2787459128970469, -2.3578378565190117, 0.35880554682163707, -0.6678595955049842, -1.0553131203028001, 0.18715243832222342, -1.2177394040550191, -0.4485162740534395, -0.2372790459493969, 0.057576300808691395, 0.16173049955701282, -1.1687318178848807, 0.49954022438348433, 0.9635782048887903, -1.183298686342565, 0.9348170094447775, 1.0620685334233335, -1.7884780684061024, 1.6478939573343991, -0.17661881313927869, 1.1114549908224907, 0.3425990164670687, -1.0847581802504875, 0.439195362884379, -0.7307753260118999]}],\n",
       "                        {\"legend\": {\"bgcolor\": \"#F5F6F9\", \"font\": {\"color\": \"#4D5663\"}}, \"paper_bgcolor\": \"#F5F6F9\", \"plot_bgcolor\": \"#F5F6F9\", \"template\": {\"data\": {\"bar\": [{\"error_x\": {\"color\": \"#2a3f5f\"}, \"error_y\": {\"color\": \"#2a3f5f\"}, \"marker\": {\"line\": {\"color\": \"#E5ECF6\", \"width\": 0.5}}, \"type\": \"bar\"}], \"barpolar\": [{\"marker\": {\"line\": {\"color\": \"#E5ECF6\", \"width\": 0.5}}, \"type\": \"barpolar\"}], \"carpet\": [{\"aaxis\": {\"endlinecolor\": \"#2a3f5f\", \"gridcolor\": \"white\", \"linecolor\": \"white\", \"minorgridcolor\": \"white\", \"startlinecolor\": \"#2a3f5f\"}, \"baxis\": {\"endlinecolor\": \"#2a3f5f\", \"gridcolor\": \"white\", \"linecolor\": \"white\", \"minorgridcolor\": \"white\", \"startlinecolor\": \"#2a3f5f\"}, \"type\": \"carpet\"}], \"choropleth\": [{\"colorbar\": {\"outlinewidth\": 0, \"ticks\": \"\"}, \"type\": \"choropleth\"}], \"contour\": [{\"colorbar\": {\"outlinewidth\": 0, \"ticks\": \"\"}, \"colorscale\": [[0.0, \"#0d0887\"], [0.1111111111111111, \"#46039f\"], [0.2222222222222222, \"#7201a8\"], [0.3333333333333333, \"#9c179e\"], [0.4444444444444444, \"#bd3786\"], [0.5555555555555556, \"#d8576b\"], [0.6666666666666666, \"#ed7953\"], [0.7777777777777778, \"#fb9f3a\"], [0.8888888888888888, \"#fdca26\"], [1.0, \"#f0f921\"]], \"type\": \"contour\"}], \"contourcarpet\": [{\"colorbar\": {\"outlinewidth\": 0, \"ticks\": \"\"}, \"type\": \"contourcarpet\"}], \"heatmap\": [{\"colorbar\": {\"outlinewidth\": 0, \"ticks\": \"\"}, \"colorscale\": [[0.0, \"#0d0887\"], [0.1111111111111111, \"#46039f\"], [0.2222222222222222, \"#7201a8\"], [0.3333333333333333, \"#9c179e\"], [0.4444444444444444, \"#bd3786\"], [0.5555555555555556, \"#d8576b\"], [0.6666666666666666, \"#ed7953\"], [0.7777777777777778, \"#fb9f3a\"], [0.8888888888888888, \"#fdca26\"], [1.0, \"#f0f921\"]], \"type\": \"heatmap\"}], \"heatmapgl\": [{\"colorbar\": {\"outlinewidth\": 0, \"ticks\": \"\"}, \"colorscale\": [[0.0, \"#0d0887\"], [0.1111111111111111, \"#46039f\"], [0.2222222222222222, \"#7201a8\"], [0.3333333333333333, \"#9c179e\"], [0.4444444444444444, \"#bd3786\"], [0.5555555555555556, \"#d8576b\"], [0.6666666666666666, \"#ed7953\"], [0.7777777777777778, \"#fb9f3a\"], [0.8888888888888888, \"#fdca26\"], [1.0, \"#f0f921\"]], \"type\": \"heatmapgl\"}], \"histogram\": [{\"marker\": {\"colorbar\": {\"outlinewidth\": 0, \"ticks\": \"\"}}, \"type\": \"histogram\"}], \"histogram2d\": [{\"colorbar\": {\"outlinewidth\": 0, \"ticks\": \"\"}, \"colorscale\": [[0.0, \"#0d0887\"], [0.1111111111111111, \"#46039f\"], [0.2222222222222222, \"#7201a8\"], [0.3333333333333333, \"#9c179e\"], [0.4444444444444444, \"#bd3786\"], [0.5555555555555556, \"#d8576b\"], [0.6666666666666666, \"#ed7953\"], [0.7777777777777778, \"#fb9f3a\"], [0.8888888888888888, \"#fdca26\"], [1.0, \"#f0f921\"]], \"type\": \"histogram2d\"}], \"histogram2dcontour\": [{\"colorbar\": {\"outlinewidth\": 0, \"ticks\": \"\"}, \"colorscale\": [[0.0, \"#0d0887\"], [0.1111111111111111, \"#46039f\"], [0.2222222222222222, \"#7201a8\"], [0.3333333333333333, \"#9c179e\"], [0.4444444444444444, \"#bd3786\"], [0.5555555555555556, \"#d8576b\"], [0.6666666666666666, \"#ed7953\"], [0.7777777777777778, \"#fb9f3a\"], [0.8888888888888888, \"#fdca26\"], [1.0, \"#f0f921\"]], \"type\": \"histogram2dcontour\"}], \"mesh3d\": [{\"colorbar\": {\"outlinewidth\": 0, \"ticks\": \"\"}, \"type\": \"mesh3d\"}], \"parcoords\": [{\"line\": {\"colorbar\": {\"outlinewidth\": 0, \"ticks\": \"\"}}, \"type\": \"parcoords\"}], \"pie\": [{\"automargin\": true, \"type\": \"pie\"}], \"scatter\": [{\"marker\": {\"colorbar\": {\"outlinewidth\": 0, \"ticks\": \"\"}}, \"type\": \"scatter\"}], \"scatter3d\": [{\"line\": {\"colorbar\": {\"outlinewidth\": 0, \"ticks\": \"\"}}, \"marker\": {\"colorbar\": {\"outlinewidth\": 0, \"ticks\": \"\"}}, \"type\": \"scatter3d\"}], \"scattercarpet\": [{\"marker\": {\"colorbar\": {\"outlinewidth\": 0, \"ticks\": \"\"}}, \"type\": \"scattercarpet\"}], \"scattergeo\": [{\"marker\": {\"colorbar\": {\"outlinewidth\": 0, \"ticks\": \"\"}}, \"type\": \"scattergeo\"}], \"scattergl\": [{\"marker\": {\"colorbar\": {\"outlinewidth\": 0, \"ticks\": \"\"}}, \"type\": \"scattergl\"}], \"scattermapbox\": [{\"marker\": {\"colorbar\": {\"outlinewidth\": 0, \"ticks\": \"\"}}, \"type\": \"scattermapbox\"}], \"scatterpolar\": [{\"marker\": {\"colorbar\": {\"outlinewidth\": 0, \"ticks\": \"\"}}, \"type\": \"scatterpolar\"}], \"scatterpolargl\": [{\"marker\": {\"colorbar\": {\"outlinewidth\": 0, \"ticks\": \"\"}}, \"type\": \"scatterpolargl\"}], \"scatterternary\": [{\"marker\": {\"colorbar\": {\"outlinewidth\": 0, \"ticks\": \"\"}}, \"type\": \"scatterternary\"}], \"surface\": [{\"colorbar\": {\"outlinewidth\": 0, \"ticks\": \"\"}, \"colorscale\": [[0.0, \"#0d0887\"], [0.1111111111111111, \"#46039f\"], [0.2222222222222222, \"#7201a8\"], [0.3333333333333333, \"#9c179e\"], [0.4444444444444444, \"#bd3786\"], [0.5555555555555556, \"#d8576b\"], [0.6666666666666666, \"#ed7953\"], [0.7777777777777778, \"#fb9f3a\"], [0.8888888888888888, \"#fdca26\"], [1.0, \"#f0f921\"]], \"type\": \"surface\"}], \"table\": [{\"cells\": {\"fill\": {\"color\": \"#EBF0F8\"}, \"line\": {\"color\": \"white\"}}, \"header\": {\"fill\": {\"color\": \"#C8D4E3\"}, \"line\": {\"color\": \"white\"}}, \"type\": \"table\"}]}, \"layout\": {\"annotationdefaults\": {\"arrowcolor\": \"#2a3f5f\", \"arrowhead\": 0, \"arrowwidth\": 1}, \"coloraxis\": {\"colorbar\": {\"outlinewidth\": 0, \"ticks\": \"\"}}, \"colorscale\": {\"diverging\": [[0, \"#8e0152\"], [0.1, \"#c51b7d\"], [0.2, \"#de77ae\"], [0.3, \"#f1b6da\"], [0.4, \"#fde0ef\"], [0.5, \"#f7f7f7\"], [0.6, \"#e6f5d0\"], [0.7, \"#b8e186\"], [0.8, \"#7fbc41\"], [0.9, \"#4d9221\"], [1, \"#276419\"]], \"sequential\": [[0.0, \"#0d0887\"], [0.1111111111111111, \"#46039f\"], [0.2222222222222222, \"#7201a8\"], [0.3333333333333333, \"#9c179e\"], [0.4444444444444444, \"#bd3786\"], [0.5555555555555556, \"#d8576b\"], [0.6666666666666666, \"#ed7953\"], [0.7777777777777778, \"#fb9f3a\"], [0.8888888888888888, \"#fdca26\"], [1.0, \"#f0f921\"]], \"sequentialminus\": [[0.0, \"#0d0887\"], [0.1111111111111111, \"#46039f\"], [0.2222222222222222, \"#7201a8\"], [0.3333333333333333, \"#9c179e\"], [0.4444444444444444, \"#bd3786\"], [0.5555555555555556, \"#d8576b\"], [0.6666666666666666, \"#ed7953\"], [0.7777777777777778, \"#fb9f3a\"], [0.8888888888888888, \"#fdca26\"], [1.0, \"#f0f921\"]]}, \"colorway\": [\"#636efa\", \"#EF553B\", \"#00cc96\", \"#ab63fa\", \"#FFA15A\", \"#19d3f3\", \"#FF6692\", \"#B6E880\", \"#FF97FF\", \"#FECB52\"], \"font\": {\"color\": \"#2a3f5f\"}, \"geo\": {\"bgcolor\": \"white\", \"lakecolor\": \"white\", \"landcolor\": \"#E5ECF6\", \"showlakes\": true, \"showland\": true, \"subunitcolor\": \"white\"}, \"hoverlabel\": {\"align\": \"left\"}, \"hovermode\": \"closest\", \"mapbox\": {\"style\": \"light\"}, \"paper_bgcolor\": \"white\", \"plot_bgcolor\": \"#E5ECF6\", \"polar\": {\"angularaxis\": {\"gridcolor\": \"white\", \"linecolor\": \"white\", \"ticks\": \"\"}, \"bgcolor\": \"#E5ECF6\", \"radialaxis\": {\"gridcolor\": \"white\", \"linecolor\": \"white\", \"ticks\": \"\"}}, \"scene\": {\"xaxis\": {\"backgroundcolor\": \"#E5ECF6\", \"gridcolor\": \"white\", \"gridwidth\": 2, \"linecolor\": \"white\", \"showbackground\": true, \"ticks\": \"\", \"zerolinecolor\": \"white\"}, \"yaxis\": {\"backgroundcolor\": \"#E5ECF6\", \"gridcolor\": \"white\", \"gridwidth\": 2, \"linecolor\": \"white\", \"showbackground\": true, \"ticks\": \"\", \"zerolinecolor\": \"white\"}, \"zaxis\": {\"backgroundcolor\": \"#E5ECF6\", \"gridcolor\": \"white\", \"gridwidth\": 2, \"linecolor\": \"white\", \"showbackground\": true, \"ticks\": \"\", \"zerolinecolor\": \"white\"}}, \"shapedefaults\": {\"line\": {\"color\": \"#2a3f5f\"}}, \"ternary\": {\"aaxis\": {\"gridcolor\": \"white\", \"linecolor\": \"white\", \"ticks\": \"\"}, \"baxis\": {\"gridcolor\": \"white\", \"linecolor\": \"white\", \"ticks\": \"\"}, \"bgcolor\": \"#E5ECF6\", \"caxis\": {\"gridcolor\": \"white\", \"linecolor\": \"white\", \"ticks\": \"\"}}, \"title\": {\"x\": 0.05}, \"xaxis\": {\"automargin\": true, \"gridcolor\": \"white\", \"linecolor\": \"white\", \"ticks\": \"\", \"title\": {\"standoff\": 15}, \"zerolinecolor\": \"white\", \"zerolinewidth\": 2}, \"yaxis\": {\"automargin\": true, \"gridcolor\": \"white\", \"linecolor\": \"white\", \"ticks\": \"\", \"title\": {\"standoff\": 15}, \"zerolinecolor\": \"white\", \"zerolinewidth\": 2}}}, \"title\": {\"font\": {\"color\": \"#4D5663\"}}, \"xaxis\": {\"gridcolor\": \"#E1E5ED\", \"showgrid\": true, \"tickfont\": {\"color\": \"#4D5663\"}, \"title\": {\"font\": {\"color\": \"#4D5663\"}, \"text\": \"\"}, \"zerolinecolor\": \"#E1E5ED\"}, \"yaxis\": {\"gridcolor\": \"#E1E5ED\", \"showgrid\": true, \"tickfont\": {\"color\": \"#4D5663\"}, \"title\": {\"font\": {\"color\": \"#4D5663\"}, \"text\": \"\"}, \"zerolinecolor\": \"#E1E5ED\"}},\n",
       "                        {\"showLink\": true, \"linkText\": \"Export to plot.ly\", \"plotlyServerURL\": \"https://plot.ly\", \"responsive\": true}\n",
       "                    ).then(function(){\n",
       "                            \n",
       "var gd = document.getElementById('ffc9a797-0d98-4764-861a-a32668f7c2a3');\n",
       "var x = new MutationObserver(function (mutations, observer) {{\n",
       "        var display = window.getComputedStyle(gd).display;\n",
       "        if (!display || display === 'none') {{\n",
       "            console.log([gd, 'removed!']);\n",
       "            Plotly.purge(gd);\n",
       "            observer.disconnect();\n",
       "        }}\n",
       "}});\n",
       "\n",
       "// Listen for the removal of the full notebook cells\n",
       "var notebookContainer = gd.closest('#notebook-container');\n",
       "if (notebookContainer) {{\n",
       "    x.observe(notebookContainer, {childList: true});\n",
       "}}\n",
       "\n",
       "// Listen for the clearing of the current output cell\n",
       "var outputEl = gd.closest('.output');\n",
       "if (outputEl) {{\n",
       "    x.observe(outputEl, {childList: true});\n",
       "}}\n",
       "\n",
       "                        })\n",
       "                };\n",
       "                });\n",
       "            </script>\n",
       "        </div>"
      ]
     },
     "metadata": {},
     "output_type": "display_data"
    }
   ],
   "source": [
    "df.iplot()"
   ]
  },
  {
   "cell_type": "code",
   "execution_count": 22,
   "metadata": {},
   "outputs": [],
   "source": [
    "df3 = pd.DataFrame({'x':[1,2,3,5,6] , 'y':[10,23,45,46,67] , 'z':[5,6,2,8,9] })"
   ]
  },
  {
   "cell_type": "code",
   "execution_count": 23,
   "metadata": {},
   "outputs": [
    {
     "data": {
      "text/html": [
       "<div>\n",
       "<style scoped>\n",
       "    .dataframe tbody tr th:only-of-type {\n",
       "        vertical-align: middle;\n",
       "    }\n",
       "\n",
       "    .dataframe tbody tr th {\n",
       "        vertical-align: top;\n",
       "    }\n",
       "\n",
       "    .dataframe thead th {\n",
       "        text-align: right;\n",
       "    }\n",
       "</style>\n",
       "<table border=\"1\" class=\"dataframe\">\n",
       "  <thead>\n",
       "    <tr style=\"text-align: right;\">\n",
       "      <th></th>\n",
       "      <th>x</th>\n",
       "      <th>y</th>\n",
       "      <th>z</th>\n",
       "    </tr>\n",
       "  </thead>\n",
       "  <tbody>\n",
       "    <tr>\n",
       "      <th>0</th>\n",
       "      <td>1</td>\n",
       "      <td>10</td>\n",
       "      <td>5</td>\n",
       "    </tr>\n",
       "    <tr>\n",
       "      <th>1</th>\n",
       "      <td>2</td>\n",
       "      <td>23</td>\n",
       "      <td>6</td>\n",
       "    </tr>\n",
       "    <tr>\n",
       "      <th>2</th>\n",
       "      <td>3</td>\n",
       "      <td>45</td>\n",
       "      <td>2</td>\n",
       "    </tr>\n",
       "    <tr>\n",
       "      <th>3</th>\n",
       "      <td>5</td>\n",
       "      <td>46</td>\n",
       "      <td>8</td>\n",
       "    </tr>\n",
       "    <tr>\n",
       "      <th>4</th>\n",
       "      <td>6</td>\n",
       "      <td>67</td>\n",
       "      <td>9</td>\n",
       "    </tr>\n",
       "  </tbody>\n",
       "</table>\n",
       "</div>"
      ],
      "text/plain": [
       "   x   y  z\n",
       "0  1  10  5\n",
       "1  2  23  6\n",
       "2  3  45  2\n",
       "3  5  46  8\n",
       "4  6  67  9"
      ]
     },
     "execution_count": 23,
     "metadata": {},
     "output_type": "execute_result"
    }
   ],
   "source": [
    "df3"
   ]
  },
  {
   "cell_type": "code",
   "execution_count": 24,
   "metadata": {},
   "outputs": [
    {
     "data": {
      "application/vnd.plotly.v1+json": {
       "config": {
        "linkText": "Export to plot.ly",
        "plotlyServerURL": "https://plot.ly",
        "showLink": true
       },
       "data": [
        {
         "colorscale": [
          [
           0,
           "rgb(255, 153, 51)"
          ],
          [
           0.1111111111111111,
           "rgb(55, 128, 191)"
          ],
          [
           0.2222222222222222,
           "rgb(50, 171, 96)"
          ],
          [
           0.3333333333333333,
           "rgb(128, 0, 128)"
          ],
          [
           0.4444444444444444,
           "rgb(219, 64, 82)"
          ],
          [
           0.5555555555555556,
           "rgb(0, 128, 128)"
          ],
          [
           0.6666666666666666,
           "rgb(255, 255, 51)"
          ],
          [
           0.7777777777777778,
           "rgb(128, 128, 0)"
          ],
          [
           0.8888888888888888,
           "rgb(251, 128, 114)"
          ],
          [
           1,
           "rgb(128, 177, 211)"
          ]
         ],
         "type": "surface",
         "x": [
          0,
          1,
          2,
          3,
          4
         ],
         "y": [
          "x",
          "y",
          "z"
         ],
         "z": [
          [
           1,
           2,
           3,
           5,
           6
          ],
          [
           10,
           23,
           45,
           46,
           67
          ],
          [
           5,
           6,
           2,
           8,
           9
          ]
         ]
        }
       ],
       "layout": {
        "legend": {
         "bgcolor": "#F5F6F9",
         "font": {
          "color": "#4D5663"
         }
        },
        "paper_bgcolor": "#F5F6F9",
        "plot_bgcolor": "#F5F6F9",
        "template": {
         "data": {
          "bar": [
           {
            "error_x": {
             "color": "#2a3f5f"
            },
            "error_y": {
             "color": "#2a3f5f"
            },
            "marker": {
             "line": {
              "color": "#E5ECF6",
              "width": 0.5
             }
            },
            "type": "bar"
           }
          ],
          "barpolar": [
           {
            "marker": {
             "line": {
              "color": "#E5ECF6",
              "width": 0.5
             }
            },
            "type": "barpolar"
           }
          ],
          "carpet": [
           {
            "aaxis": {
             "endlinecolor": "#2a3f5f",
             "gridcolor": "white",
             "linecolor": "white",
             "minorgridcolor": "white",
             "startlinecolor": "#2a3f5f"
            },
            "baxis": {
             "endlinecolor": "#2a3f5f",
             "gridcolor": "white",
             "linecolor": "white",
             "minorgridcolor": "white",
             "startlinecolor": "#2a3f5f"
            },
            "type": "carpet"
           }
          ],
          "choropleth": [
           {
            "colorbar": {
             "outlinewidth": 0,
             "ticks": ""
            },
            "type": "choropleth"
           }
          ],
          "contour": [
           {
            "colorbar": {
             "outlinewidth": 0,
             "ticks": ""
            },
            "colorscale": [
             [
              0,
              "#0d0887"
             ],
             [
              0.1111111111111111,
              "#46039f"
             ],
             [
              0.2222222222222222,
              "#7201a8"
             ],
             [
              0.3333333333333333,
              "#9c179e"
             ],
             [
              0.4444444444444444,
              "#bd3786"
             ],
             [
              0.5555555555555556,
              "#d8576b"
             ],
             [
              0.6666666666666666,
              "#ed7953"
             ],
             [
              0.7777777777777778,
              "#fb9f3a"
             ],
             [
              0.8888888888888888,
              "#fdca26"
             ],
             [
              1,
              "#f0f921"
             ]
            ],
            "type": "contour"
           }
          ],
          "contourcarpet": [
           {
            "colorbar": {
             "outlinewidth": 0,
             "ticks": ""
            },
            "type": "contourcarpet"
           }
          ],
          "heatmap": [
           {
            "colorbar": {
             "outlinewidth": 0,
             "ticks": ""
            },
            "colorscale": [
             [
              0,
              "#0d0887"
             ],
             [
              0.1111111111111111,
              "#46039f"
             ],
             [
              0.2222222222222222,
              "#7201a8"
             ],
             [
              0.3333333333333333,
              "#9c179e"
             ],
             [
              0.4444444444444444,
              "#bd3786"
             ],
             [
              0.5555555555555556,
              "#d8576b"
             ],
             [
              0.6666666666666666,
              "#ed7953"
             ],
             [
              0.7777777777777778,
              "#fb9f3a"
             ],
             [
              0.8888888888888888,
              "#fdca26"
             ],
             [
              1,
              "#f0f921"
             ]
            ],
            "type": "heatmap"
           }
          ],
          "heatmapgl": [
           {
            "colorbar": {
             "outlinewidth": 0,
             "ticks": ""
            },
            "colorscale": [
             [
              0,
              "#0d0887"
             ],
             [
              0.1111111111111111,
              "#46039f"
             ],
             [
              0.2222222222222222,
              "#7201a8"
             ],
             [
              0.3333333333333333,
              "#9c179e"
             ],
             [
              0.4444444444444444,
              "#bd3786"
             ],
             [
              0.5555555555555556,
              "#d8576b"
             ],
             [
              0.6666666666666666,
              "#ed7953"
             ],
             [
              0.7777777777777778,
              "#fb9f3a"
             ],
             [
              0.8888888888888888,
              "#fdca26"
             ],
             [
              1,
              "#f0f921"
             ]
            ],
            "type": "heatmapgl"
           }
          ],
          "histogram": [
           {
            "marker": {
             "colorbar": {
              "outlinewidth": 0,
              "ticks": ""
             }
            },
            "type": "histogram"
           }
          ],
          "histogram2d": [
           {
            "colorbar": {
             "outlinewidth": 0,
             "ticks": ""
            },
            "colorscale": [
             [
              0,
              "#0d0887"
             ],
             [
              0.1111111111111111,
              "#46039f"
             ],
             [
              0.2222222222222222,
              "#7201a8"
             ],
             [
              0.3333333333333333,
              "#9c179e"
             ],
             [
              0.4444444444444444,
              "#bd3786"
             ],
             [
              0.5555555555555556,
              "#d8576b"
             ],
             [
              0.6666666666666666,
              "#ed7953"
             ],
             [
              0.7777777777777778,
              "#fb9f3a"
             ],
             [
              0.8888888888888888,
              "#fdca26"
             ],
             [
              1,
              "#f0f921"
             ]
            ],
            "type": "histogram2d"
           }
          ],
          "histogram2dcontour": [
           {
            "colorbar": {
             "outlinewidth": 0,
             "ticks": ""
            },
            "colorscale": [
             [
              0,
              "#0d0887"
             ],
             [
              0.1111111111111111,
              "#46039f"
             ],
             [
              0.2222222222222222,
              "#7201a8"
             ],
             [
              0.3333333333333333,
              "#9c179e"
             ],
             [
              0.4444444444444444,
              "#bd3786"
             ],
             [
              0.5555555555555556,
              "#d8576b"
             ],
             [
              0.6666666666666666,
              "#ed7953"
             ],
             [
              0.7777777777777778,
              "#fb9f3a"
             ],
             [
              0.8888888888888888,
              "#fdca26"
             ],
             [
              1,
              "#f0f921"
             ]
            ],
            "type": "histogram2dcontour"
           }
          ],
          "mesh3d": [
           {
            "colorbar": {
             "outlinewidth": 0,
             "ticks": ""
            },
            "type": "mesh3d"
           }
          ],
          "parcoords": [
           {
            "line": {
             "colorbar": {
              "outlinewidth": 0,
              "ticks": ""
             }
            },
            "type": "parcoords"
           }
          ],
          "pie": [
           {
            "automargin": true,
            "type": "pie"
           }
          ],
          "scatter": [
           {
            "marker": {
             "colorbar": {
              "outlinewidth": 0,
              "ticks": ""
             }
            },
            "type": "scatter"
           }
          ],
          "scatter3d": [
           {
            "line": {
             "colorbar": {
              "outlinewidth": 0,
              "ticks": ""
             }
            },
            "marker": {
             "colorbar": {
              "outlinewidth": 0,
              "ticks": ""
             }
            },
            "type": "scatter3d"
           }
          ],
          "scattercarpet": [
           {
            "marker": {
             "colorbar": {
              "outlinewidth": 0,
              "ticks": ""
             }
            },
            "type": "scattercarpet"
           }
          ],
          "scattergeo": [
           {
            "marker": {
             "colorbar": {
              "outlinewidth": 0,
              "ticks": ""
             }
            },
            "type": "scattergeo"
           }
          ],
          "scattergl": [
           {
            "marker": {
             "colorbar": {
              "outlinewidth": 0,
              "ticks": ""
             }
            },
            "type": "scattergl"
           }
          ],
          "scattermapbox": [
           {
            "marker": {
             "colorbar": {
              "outlinewidth": 0,
              "ticks": ""
             }
            },
            "type": "scattermapbox"
           }
          ],
          "scatterpolar": [
           {
            "marker": {
             "colorbar": {
              "outlinewidth": 0,
              "ticks": ""
             }
            },
            "type": "scatterpolar"
           }
          ],
          "scatterpolargl": [
           {
            "marker": {
             "colorbar": {
              "outlinewidth": 0,
              "ticks": ""
             }
            },
            "type": "scatterpolargl"
           }
          ],
          "scatterternary": [
           {
            "marker": {
             "colorbar": {
              "outlinewidth": 0,
              "ticks": ""
             }
            },
            "type": "scatterternary"
           }
          ],
          "surface": [
           {
            "colorbar": {
             "outlinewidth": 0,
             "ticks": ""
            },
            "colorscale": [
             [
              0,
              "#0d0887"
             ],
             [
              0.1111111111111111,
              "#46039f"
             ],
             [
              0.2222222222222222,
              "#7201a8"
             ],
             [
              0.3333333333333333,
              "#9c179e"
             ],
             [
              0.4444444444444444,
              "#bd3786"
             ],
             [
              0.5555555555555556,
              "#d8576b"
             ],
             [
              0.6666666666666666,
              "#ed7953"
             ],
             [
              0.7777777777777778,
              "#fb9f3a"
             ],
             [
              0.8888888888888888,
              "#fdca26"
             ],
             [
              1,
              "#f0f921"
             ]
            ],
            "type": "surface"
           }
          ],
          "table": [
           {
            "cells": {
             "fill": {
              "color": "#EBF0F8"
             },
             "line": {
              "color": "white"
             }
            },
            "header": {
             "fill": {
              "color": "#C8D4E3"
             },
             "line": {
              "color": "white"
             }
            },
            "type": "table"
           }
          ]
         },
         "layout": {
          "annotationdefaults": {
           "arrowcolor": "#2a3f5f",
           "arrowhead": 0,
           "arrowwidth": 1
          },
          "coloraxis": {
           "colorbar": {
            "outlinewidth": 0,
            "ticks": ""
           }
          },
          "colorscale": {
           "diverging": [
            [
             0,
             "#8e0152"
            ],
            [
             0.1,
             "#c51b7d"
            ],
            [
             0.2,
             "#de77ae"
            ],
            [
             0.3,
             "#f1b6da"
            ],
            [
             0.4,
             "#fde0ef"
            ],
            [
             0.5,
             "#f7f7f7"
            ],
            [
             0.6,
             "#e6f5d0"
            ],
            [
             0.7,
             "#b8e186"
            ],
            [
             0.8,
             "#7fbc41"
            ],
            [
             0.9,
             "#4d9221"
            ],
            [
             1,
             "#276419"
            ]
           ],
           "sequential": [
            [
             0,
             "#0d0887"
            ],
            [
             0.1111111111111111,
             "#46039f"
            ],
            [
             0.2222222222222222,
             "#7201a8"
            ],
            [
             0.3333333333333333,
             "#9c179e"
            ],
            [
             0.4444444444444444,
             "#bd3786"
            ],
            [
             0.5555555555555556,
             "#d8576b"
            ],
            [
             0.6666666666666666,
             "#ed7953"
            ],
            [
             0.7777777777777778,
             "#fb9f3a"
            ],
            [
             0.8888888888888888,
             "#fdca26"
            ],
            [
             1,
             "#f0f921"
            ]
           ],
           "sequentialminus": [
            [
             0,
             "#0d0887"
            ],
            [
             0.1111111111111111,
             "#46039f"
            ],
            [
             0.2222222222222222,
             "#7201a8"
            ],
            [
             0.3333333333333333,
             "#9c179e"
            ],
            [
             0.4444444444444444,
             "#bd3786"
            ],
            [
             0.5555555555555556,
             "#d8576b"
            ],
            [
             0.6666666666666666,
             "#ed7953"
            ],
            [
             0.7777777777777778,
             "#fb9f3a"
            ],
            [
             0.8888888888888888,
             "#fdca26"
            ],
            [
             1,
             "#f0f921"
            ]
           ]
          },
          "colorway": [
           "#636efa",
           "#EF553B",
           "#00cc96",
           "#ab63fa",
           "#FFA15A",
           "#19d3f3",
           "#FF6692",
           "#B6E880",
           "#FF97FF",
           "#FECB52"
          ],
          "font": {
           "color": "#2a3f5f"
          },
          "geo": {
           "bgcolor": "white",
           "lakecolor": "white",
           "landcolor": "#E5ECF6",
           "showlakes": true,
           "showland": true,
           "subunitcolor": "white"
          },
          "hoverlabel": {
           "align": "left"
          },
          "hovermode": "closest",
          "mapbox": {
           "style": "light"
          },
          "paper_bgcolor": "white",
          "plot_bgcolor": "#E5ECF6",
          "polar": {
           "angularaxis": {
            "gridcolor": "white",
            "linecolor": "white",
            "ticks": ""
           },
           "bgcolor": "#E5ECF6",
           "radialaxis": {
            "gridcolor": "white",
            "linecolor": "white",
            "ticks": ""
           }
          },
          "scene": {
           "xaxis": {
            "backgroundcolor": "#E5ECF6",
            "gridcolor": "white",
            "gridwidth": 2,
            "linecolor": "white",
            "showbackground": true,
            "ticks": "",
            "zerolinecolor": "white"
           },
           "yaxis": {
            "backgroundcolor": "#E5ECF6",
            "gridcolor": "white",
            "gridwidth": 2,
            "linecolor": "white",
            "showbackground": true,
            "ticks": "",
            "zerolinecolor": "white"
           },
           "zaxis": {
            "backgroundcolor": "#E5ECF6",
            "gridcolor": "white",
            "gridwidth": 2,
            "linecolor": "white",
            "showbackground": true,
            "ticks": "",
            "zerolinecolor": "white"
           }
          },
          "shapedefaults": {
           "line": {
            "color": "#2a3f5f"
           }
          },
          "ternary": {
           "aaxis": {
            "gridcolor": "white",
            "linecolor": "white",
            "ticks": ""
           },
           "baxis": {
            "gridcolor": "white",
            "linecolor": "white",
            "ticks": ""
           },
           "bgcolor": "#E5ECF6",
           "caxis": {
            "gridcolor": "white",
            "linecolor": "white",
            "ticks": ""
           }
          },
          "title": {
           "x": 0.05
          },
          "xaxis": {
           "automargin": true,
           "gridcolor": "white",
           "linecolor": "white",
           "ticks": "",
           "title": {
            "standoff": 15
           },
           "zerolinecolor": "white",
           "zerolinewidth": 2
          },
          "yaxis": {
           "automargin": true,
           "gridcolor": "white",
           "linecolor": "white",
           "ticks": "",
           "title": {
            "standoff": 15
           },
           "zerolinecolor": "white",
           "zerolinewidth": 2
          }
         }
        },
        "title": {
         "font": {
          "color": "#4D5663"
         }
        },
        "xaxis": {
         "gridcolor": "#E1E5ED",
         "showgrid": true,
         "tickfont": {
          "color": "#4D5663"
         },
         "title": {
          "font": {
           "color": "#4D5663"
          },
          "text": ""
         },
         "zerolinecolor": "#E1E5ED"
        },
        "yaxis": {
         "gridcolor": "#E1E5ED",
         "showgrid": true,
         "tickfont": {
          "color": "#4D5663"
         },
         "title": {
          "font": {
           "color": "#4D5663"
          },
          "text": ""
         },
         "zerolinecolor": "#E1E5ED"
        }
       }
      },
      "text/html": [
       "<div>\n",
       "        \n",
       "        \n",
       "            <div id=\"6d130355-e166-4ca5-bd33-91e63b832241\" class=\"plotly-graph-div\" style=\"height:525px; width:100%;\"></div>\n",
       "            <script type=\"text/javascript\">\n",
       "                require([\"plotly\"], function(Plotly) {\n",
       "                    window.PLOTLYENV=window.PLOTLYENV || {};\n",
       "                    window.PLOTLYENV.BASE_URL='https://plot.ly';\n",
       "                    \n",
       "                if (document.getElementById(\"6d130355-e166-4ca5-bd33-91e63b832241\")) {\n",
       "                    Plotly.newPlot(\n",
       "                        '6d130355-e166-4ca5-bd33-91e63b832241',\n",
       "                        [{\"colorscale\": [[0.0, \"rgb(255, 153, 51)\"], [0.1111111111111111, \"rgb(55, 128, 191)\"], [0.2222222222222222, \"rgb(50, 171, 96)\"], [0.3333333333333333, \"rgb(128, 0, 128)\"], [0.4444444444444444, \"rgb(219, 64, 82)\"], [0.5555555555555556, \"rgb(0, 128, 128)\"], [0.6666666666666666, \"rgb(255, 255, 51)\"], [0.7777777777777778, \"rgb(128, 128, 0)\"], [0.8888888888888888, \"rgb(251, 128, 114)\"], [1.0, \"rgb(128, 177, 211)\"]], \"type\": \"surface\", \"x\": [0, 1, 2, 3, 4], \"y\": [\"x\", \"y\", \"z\"], \"z\": [[1, 2, 3, 5, 6], [10, 23, 45, 46, 67], [5, 6, 2, 8, 9]]}],\n",
       "                        {\"legend\": {\"bgcolor\": \"#F5F6F9\", \"font\": {\"color\": \"#4D5663\"}}, \"paper_bgcolor\": \"#F5F6F9\", \"plot_bgcolor\": \"#F5F6F9\", \"template\": {\"data\": {\"bar\": [{\"error_x\": {\"color\": \"#2a3f5f\"}, \"error_y\": {\"color\": \"#2a3f5f\"}, \"marker\": {\"line\": {\"color\": \"#E5ECF6\", \"width\": 0.5}}, \"type\": \"bar\"}], \"barpolar\": [{\"marker\": {\"line\": {\"color\": \"#E5ECF6\", \"width\": 0.5}}, \"type\": \"barpolar\"}], \"carpet\": [{\"aaxis\": {\"endlinecolor\": \"#2a3f5f\", \"gridcolor\": \"white\", \"linecolor\": \"white\", \"minorgridcolor\": \"white\", \"startlinecolor\": \"#2a3f5f\"}, \"baxis\": {\"endlinecolor\": \"#2a3f5f\", \"gridcolor\": \"white\", \"linecolor\": \"white\", \"minorgridcolor\": \"white\", \"startlinecolor\": \"#2a3f5f\"}, \"type\": \"carpet\"}], \"choropleth\": [{\"colorbar\": {\"outlinewidth\": 0, \"ticks\": \"\"}, \"type\": \"choropleth\"}], \"contour\": [{\"colorbar\": {\"outlinewidth\": 0, \"ticks\": \"\"}, \"colorscale\": [[0.0, \"#0d0887\"], [0.1111111111111111, \"#46039f\"], [0.2222222222222222, \"#7201a8\"], [0.3333333333333333, \"#9c179e\"], [0.4444444444444444, \"#bd3786\"], [0.5555555555555556, \"#d8576b\"], [0.6666666666666666, \"#ed7953\"], [0.7777777777777778, \"#fb9f3a\"], [0.8888888888888888, \"#fdca26\"], [1.0, \"#f0f921\"]], \"type\": \"contour\"}], \"contourcarpet\": [{\"colorbar\": {\"outlinewidth\": 0, \"ticks\": \"\"}, \"type\": \"contourcarpet\"}], \"heatmap\": [{\"colorbar\": {\"outlinewidth\": 0, \"ticks\": \"\"}, \"colorscale\": [[0.0, \"#0d0887\"], [0.1111111111111111, \"#46039f\"], [0.2222222222222222, \"#7201a8\"], [0.3333333333333333, \"#9c179e\"], [0.4444444444444444, \"#bd3786\"], [0.5555555555555556, \"#d8576b\"], [0.6666666666666666, \"#ed7953\"], [0.7777777777777778, \"#fb9f3a\"], [0.8888888888888888, \"#fdca26\"], [1.0, \"#f0f921\"]], \"type\": \"heatmap\"}], \"heatmapgl\": [{\"colorbar\": {\"outlinewidth\": 0, \"ticks\": \"\"}, \"colorscale\": [[0.0, \"#0d0887\"], [0.1111111111111111, \"#46039f\"], [0.2222222222222222, \"#7201a8\"], [0.3333333333333333, \"#9c179e\"], [0.4444444444444444, \"#bd3786\"], [0.5555555555555556, \"#d8576b\"], [0.6666666666666666, \"#ed7953\"], [0.7777777777777778, \"#fb9f3a\"], [0.8888888888888888, \"#fdca26\"], [1.0, \"#f0f921\"]], \"type\": \"heatmapgl\"}], \"histogram\": [{\"marker\": {\"colorbar\": {\"outlinewidth\": 0, \"ticks\": \"\"}}, \"type\": \"histogram\"}], \"histogram2d\": [{\"colorbar\": {\"outlinewidth\": 0, \"ticks\": \"\"}, \"colorscale\": [[0.0, \"#0d0887\"], [0.1111111111111111, \"#46039f\"], [0.2222222222222222, \"#7201a8\"], [0.3333333333333333, \"#9c179e\"], [0.4444444444444444, \"#bd3786\"], [0.5555555555555556, \"#d8576b\"], [0.6666666666666666, \"#ed7953\"], [0.7777777777777778, \"#fb9f3a\"], [0.8888888888888888, \"#fdca26\"], [1.0, \"#f0f921\"]], \"type\": \"histogram2d\"}], \"histogram2dcontour\": [{\"colorbar\": {\"outlinewidth\": 0, \"ticks\": \"\"}, \"colorscale\": [[0.0, \"#0d0887\"], [0.1111111111111111, \"#46039f\"], [0.2222222222222222, \"#7201a8\"], [0.3333333333333333, \"#9c179e\"], [0.4444444444444444, \"#bd3786\"], [0.5555555555555556, \"#d8576b\"], [0.6666666666666666, \"#ed7953\"], [0.7777777777777778, \"#fb9f3a\"], [0.8888888888888888, \"#fdca26\"], [1.0, \"#f0f921\"]], \"type\": \"histogram2dcontour\"}], \"mesh3d\": [{\"colorbar\": {\"outlinewidth\": 0, \"ticks\": \"\"}, \"type\": \"mesh3d\"}], \"parcoords\": [{\"line\": {\"colorbar\": {\"outlinewidth\": 0, \"ticks\": \"\"}}, \"type\": \"parcoords\"}], \"pie\": [{\"automargin\": true, \"type\": \"pie\"}], \"scatter\": [{\"marker\": {\"colorbar\": {\"outlinewidth\": 0, \"ticks\": \"\"}}, \"type\": \"scatter\"}], \"scatter3d\": [{\"line\": {\"colorbar\": {\"outlinewidth\": 0, \"ticks\": \"\"}}, \"marker\": {\"colorbar\": {\"outlinewidth\": 0, \"ticks\": \"\"}}, \"type\": \"scatter3d\"}], \"scattercarpet\": [{\"marker\": {\"colorbar\": {\"outlinewidth\": 0, \"ticks\": \"\"}}, \"type\": \"scattercarpet\"}], \"scattergeo\": [{\"marker\": {\"colorbar\": {\"outlinewidth\": 0, \"ticks\": \"\"}}, \"type\": \"scattergeo\"}], \"scattergl\": [{\"marker\": {\"colorbar\": {\"outlinewidth\": 0, \"ticks\": \"\"}}, \"type\": \"scattergl\"}], \"scattermapbox\": [{\"marker\": {\"colorbar\": {\"outlinewidth\": 0, \"ticks\": \"\"}}, \"type\": \"scattermapbox\"}], \"scatterpolar\": [{\"marker\": {\"colorbar\": {\"outlinewidth\": 0, \"ticks\": \"\"}}, \"type\": \"scatterpolar\"}], \"scatterpolargl\": [{\"marker\": {\"colorbar\": {\"outlinewidth\": 0, \"ticks\": \"\"}}, \"type\": \"scatterpolargl\"}], \"scatterternary\": [{\"marker\": {\"colorbar\": {\"outlinewidth\": 0, \"ticks\": \"\"}}, \"type\": \"scatterternary\"}], \"surface\": [{\"colorbar\": {\"outlinewidth\": 0, \"ticks\": \"\"}, \"colorscale\": [[0.0, \"#0d0887\"], [0.1111111111111111, \"#46039f\"], [0.2222222222222222, \"#7201a8\"], [0.3333333333333333, \"#9c179e\"], [0.4444444444444444, \"#bd3786\"], [0.5555555555555556, \"#d8576b\"], [0.6666666666666666, \"#ed7953\"], [0.7777777777777778, \"#fb9f3a\"], [0.8888888888888888, \"#fdca26\"], [1.0, \"#f0f921\"]], \"type\": \"surface\"}], \"table\": [{\"cells\": {\"fill\": {\"color\": \"#EBF0F8\"}, \"line\": {\"color\": \"white\"}}, \"header\": {\"fill\": {\"color\": \"#C8D4E3\"}, \"line\": {\"color\": \"white\"}}, \"type\": \"table\"}]}, \"layout\": {\"annotationdefaults\": {\"arrowcolor\": \"#2a3f5f\", \"arrowhead\": 0, \"arrowwidth\": 1}, \"coloraxis\": {\"colorbar\": {\"outlinewidth\": 0, \"ticks\": \"\"}}, \"colorscale\": {\"diverging\": [[0, \"#8e0152\"], [0.1, \"#c51b7d\"], [0.2, \"#de77ae\"], [0.3, \"#f1b6da\"], [0.4, \"#fde0ef\"], [0.5, \"#f7f7f7\"], [0.6, \"#e6f5d0\"], [0.7, \"#b8e186\"], [0.8, \"#7fbc41\"], [0.9, \"#4d9221\"], [1, \"#276419\"]], \"sequential\": [[0.0, \"#0d0887\"], [0.1111111111111111, \"#46039f\"], [0.2222222222222222, \"#7201a8\"], [0.3333333333333333, \"#9c179e\"], [0.4444444444444444, \"#bd3786\"], [0.5555555555555556, \"#d8576b\"], [0.6666666666666666, \"#ed7953\"], [0.7777777777777778, \"#fb9f3a\"], [0.8888888888888888, \"#fdca26\"], [1.0, \"#f0f921\"]], \"sequentialminus\": [[0.0, \"#0d0887\"], [0.1111111111111111, \"#46039f\"], [0.2222222222222222, \"#7201a8\"], [0.3333333333333333, \"#9c179e\"], [0.4444444444444444, \"#bd3786\"], [0.5555555555555556, \"#d8576b\"], [0.6666666666666666, \"#ed7953\"], [0.7777777777777778, \"#fb9f3a\"], [0.8888888888888888, \"#fdca26\"], [1.0, \"#f0f921\"]]}, \"colorway\": [\"#636efa\", \"#EF553B\", \"#00cc96\", \"#ab63fa\", \"#FFA15A\", \"#19d3f3\", \"#FF6692\", \"#B6E880\", \"#FF97FF\", \"#FECB52\"], \"font\": {\"color\": \"#2a3f5f\"}, \"geo\": {\"bgcolor\": \"white\", \"lakecolor\": \"white\", \"landcolor\": \"#E5ECF6\", \"showlakes\": true, \"showland\": true, \"subunitcolor\": \"white\"}, \"hoverlabel\": {\"align\": \"left\"}, \"hovermode\": \"closest\", \"mapbox\": {\"style\": \"light\"}, \"paper_bgcolor\": \"white\", \"plot_bgcolor\": \"#E5ECF6\", \"polar\": {\"angularaxis\": {\"gridcolor\": \"white\", \"linecolor\": \"white\", \"ticks\": \"\"}, \"bgcolor\": \"#E5ECF6\", \"radialaxis\": {\"gridcolor\": \"white\", \"linecolor\": \"white\", \"ticks\": \"\"}}, \"scene\": {\"xaxis\": {\"backgroundcolor\": \"#E5ECF6\", \"gridcolor\": \"white\", \"gridwidth\": 2, \"linecolor\": \"white\", \"showbackground\": true, \"ticks\": \"\", \"zerolinecolor\": \"white\"}, \"yaxis\": {\"backgroundcolor\": \"#E5ECF6\", \"gridcolor\": \"white\", \"gridwidth\": 2, \"linecolor\": \"white\", \"showbackground\": true, \"ticks\": \"\", \"zerolinecolor\": \"white\"}, \"zaxis\": {\"backgroundcolor\": \"#E5ECF6\", \"gridcolor\": \"white\", \"gridwidth\": 2, \"linecolor\": \"white\", \"showbackground\": true, \"ticks\": \"\", \"zerolinecolor\": \"white\"}}, \"shapedefaults\": {\"line\": {\"color\": \"#2a3f5f\"}}, \"ternary\": {\"aaxis\": {\"gridcolor\": \"white\", \"linecolor\": \"white\", \"ticks\": \"\"}, \"baxis\": {\"gridcolor\": \"white\", \"linecolor\": \"white\", \"ticks\": \"\"}, \"bgcolor\": \"#E5ECF6\", \"caxis\": {\"gridcolor\": \"white\", \"linecolor\": \"white\", \"ticks\": \"\"}}, \"title\": {\"x\": 0.05}, \"xaxis\": {\"automargin\": true, \"gridcolor\": \"white\", \"linecolor\": \"white\", \"ticks\": \"\", \"title\": {\"standoff\": 15}, \"zerolinecolor\": \"white\", \"zerolinewidth\": 2}, \"yaxis\": {\"automargin\": true, \"gridcolor\": \"white\", \"linecolor\": \"white\", \"ticks\": \"\", \"title\": {\"standoff\": 15}, \"zerolinecolor\": \"white\", \"zerolinewidth\": 2}}}, \"title\": {\"font\": {\"color\": \"#4D5663\"}}, \"xaxis\": {\"gridcolor\": \"#E1E5ED\", \"showgrid\": true, \"tickfont\": {\"color\": \"#4D5663\"}, \"title\": {\"font\": {\"color\": \"#4D5663\"}, \"text\": \"\"}, \"zerolinecolor\": \"#E1E5ED\"}, \"yaxis\": {\"gridcolor\": \"#E1E5ED\", \"showgrid\": true, \"tickfont\": {\"color\": \"#4D5663\"}, \"title\": {\"font\": {\"color\": \"#4D5663\"}, \"text\": \"\"}, \"zerolinecolor\": \"#E1E5ED\"}},\n",
       "                        {\"showLink\": true, \"linkText\": \"Export to plot.ly\", \"plotlyServerURL\": \"https://plot.ly\", \"responsive\": true}\n",
       "                    ).then(function(){\n",
       "                            \n",
       "var gd = document.getElementById('6d130355-e166-4ca5-bd33-91e63b832241');\n",
       "var x = new MutationObserver(function (mutations, observer) {{\n",
       "        var display = window.getComputedStyle(gd).display;\n",
       "        if (!display || display === 'none') {{\n",
       "            console.log([gd, 'removed!']);\n",
       "            Plotly.purge(gd);\n",
       "            observer.disconnect();\n",
       "        }}\n",
       "}});\n",
       "\n",
       "// Listen for the removal of the full notebook cells\n",
       "var notebookContainer = gd.closest('#notebook-container');\n",
       "if (notebookContainer) {{\n",
       "    x.observe(notebookContainer, {childList: true});\n",
       "}}\n",
       "\n",
       "// Listen for the clearing of the current output cell\n",
       "var outputEl = gd.closest('.output');\n",
       "if (outputEl) {{\n",
       "    x.observe(outputEl, {childList: true});\n",
       "}}\n",
       "\n",
       "                        })\n",
       "                };\n",
       "                });\n",
       "            </script>\n",
       "        </div>"
      ]
     },
     "metadata": {},
     "output_type": "display_data"
    }
   ],
   "source": [
    "df3.iplot(kind='surface')"
   ]
  },
  {
   "cell_type": "code",
   "execution_count": 25,
   "metadata": {},
   "outputs": [
    {
     "name": "stderr",
     "output_type": "stream",
     "text": [
      "C:\\Users\\Punit\\anaconda3\\envs\\datasc\\lib\\site-packages\\cufflinks\\plotlytools.py:849: FutureWarning:\n",
      "\n",
      "The pandas.np module is deprecated and will be removed from pandas in a future version. Import numpy directly instead\n",
      "\n"
     ]
    },
    {
     "data": {
      "application/vnd.plotly.v1+json": {
       "config": {
        "linkText": "Export to plot.ly",
        "plotlyServerURL": "https://plot.ly",
        "showLink": true
       },
       "data": [
        {
         "line": {
          "color": "rgba(255, 153, 51, 1.0)",
          "dash": "solid",
          "shape": "linear",
          "width": 1.3
         },
         "mode": "lines",
         "name": "x",
         "text": "",
         "type": "scatter",
         "x": [
          0,
          1,
          2,
          3,
          4
         ],
         "y": [
          1,
          2,
          3,
          5,
          6
         ]
        },
        {
         "line": {
          "color": "rgba(55, 128, 191, 1.0)",
          "dash": "solid",
          "shape": "linear",
          "width": 1.3
         },
         "mode": "lines",
         "name": "y",
         "text": "",
         "type": "scatter",
         "x": [
          0,
          1,
          2,
          3,
          4
         ],
         "y": [
          10,
          23,
          45,
          46,
          67
         ]
        },
        {
         "line": {
          "color": "rgba(50, 171, 96, 1.0)",
          "dash": "solid",
          "shape": "linear",
          "width": 1.3
         },
         "mode": "lines",
         "name": "z",
         "text": "",
         "type": "scatter",
         "x": [
          0,
          1,
          2,
          3,
          4
         ],
         "y": [
          5,
          6,
          2,
          8,
          9
         ]
        },
        {
         "connectgaps": false,
         "fill": "tozeroy",
         "line": {
          "color": "green",
          "dash": "solid",
          "shape": "linear",
          "width": 0.5
         },
         "mode": "lines",
         "name": "Spread",
         "showlegend": false,
         "type": "scatter",
         "x": [
          0,
          1,
          2,
          3,
          4
         ],
         "xaxis": "x2",
         "y": [
          "",
          "",
          "",
          "",
          ""
         ],
         "yaxis": "y2"
        },
        {
         "connectgaps": false,
         "fill": "tozeroy",
         "line": {
          "color": "red",
          "dash": "solid",
          "shape": "linear",
          "width": 0.5
         },
         "mode": "lines",
         "name": "Spread",
         "showlegend": false,
         "type": "scatter",
         "x": [
          0,
          1,
          2,
          3,
          4
         ],
         "xaxis": "x2",
         "y": [
          -9,
          -21,
          -42,
          -41,
          -61
         ],
         "yaxis": "y2"
        }
       ],
       "layout": {
        "hovermode": "x",
        "legend": {
         "bgcolor": "#F5F6F9",
         "font": {
          "color": "#4D5663"
         }
        },
        "paper_bgcolor": "#F5F6F9",
        "plot_bgcolor": "#F5F6F9",
        "template": {
         "data": {
          "bar": [
           {
            "error_x": {
             "color": "#2a3f5f"
            },
            "error_y": {
             "color": "#2a3f5f"
            },
            "marker": {
             "line": {
              "color": "#E5ECF6",
              "width": 0.5
             }
            },
            "type": "bar"
           }
          ],
          "barpolar": [
           {
            "marker": {
             "line": {
              "color": "#E5ECF6",
              "width": 0.5
             }
            },
            "type": "barpolar"
           }
          ],
          "carpet": [
           {
            "aaxis": {
             "endlinecolor": "#2a3f5f",
             "gridcolor": "white",
             "linecolor": "white",
             "minorgridcolor": "white",
             "startlinecolor": "#2a3f5f"
            },
            "baxis": {
             "endlinecolor": "#2a3f5f",
             "gridcolor": "white",
             "linecolor": "white",
             "minorgridcolor": "white",
             "startlinecolor": "#2a3f5f"
            },
            "type": "carpet"
           }
          ],
          "choropleth": [
           {
            "colorbar": {
             "outlinewidth": 0,
             "ticks": ""
            },
            "type": "choropleth"
           }
          ],
          "contour": [
           {
            "colorbar": {
             "outlinewidth": 0,
             "ticks": ""
            },
            "colorscale": [
             [
              0,
              "#0d0887"
             ],
             [
              0.1111111111111111,
              "#46039f"
             ],
             [
              0.2222222222222222,
              "#7201a8"
             ],
             [
              0.3333333333333333,
              "#9c179e"
             ],
             [
              0.4444444444444444,
              "#bd3786"
             ],
             [
              0.5555555555555556,
              "#d8576b"
             ],
             [
              0.6666666666666666,
              "#ed7953"
             ],
             [
              0.7777777777777778,
              "#fb9f3a"
             ],
             [
              0.8888888888888888,
              "#fdca26"
             ],
             [
              1,
              "#f0f921"
             ]
            ],
            "type": "contour"
           }
          ],
          "contourcarpet": [
           {
            "colorbar": {
             "outlinewidth": 0,
             "ticks": ""
            },
            "type": "contourcarpet"
           }
          ],
          "heatmap": [
           {
            "colorbar": {
             "outlinewidth": 0,
             "ticks": ""
            },
            "colorscale": [
             [
              0,
              "#0d0887"
             ],
             [
              0.1111111111111111,
              "#46039f"
             ],
             [
              0.2222222222222222,
              "#7201a8"
             ],
             [
              0.3333333333333333,
              "#9c179e"
             ],
             [
              0.4444444444444444,
              "#bd3786"
             ],
             [
              0.5555555555555556,
              "#d8576b"
             ],
             [
              0.6666666666666666,
              "#ed7953"
             ],
             [
              0.7777777777777778,
              "#fb9f3a"
             ],
             [
              0.8888888888888888,
              "#fdca26"
             ],
             [
              1,
              "#f0f921"
             ]
            ],
            "type": "heatmap"
           }
          ],
          "heatmapgl": [
           {
            "colorbar": {
             "outlinewidth": 0,
             "ticks": ""
            },
            "colorscale": [
             [
              0,
              "#0d0887"
             ],
             [
              0.1111111111111111,
              "#46039f"
             ],
             [
              0.2222222222222222,
              "#7201a8"
             ],
             [
              0.3333333333333333,
              "#9c179e"
             ],
             [
              0.4444444444444444,
              "#bd3786"
             ],
             [
              0.5555555555555556,
              "#d8576b"
             ],
             [
              0.6666666666666666,
              "#ed7953"
             ],
             [
              0.7777777777777778,
              "#fb9f3a"
             ],
             [
              0.8888888888888888,
              "#fdca26"
             ],
             [
              1,
              "#f0f921"
             ]
            ],
            "type": "heatmapgl"
           }
          ],
          "histogram": [
           {
            "marker": {
             "colorbar": {
              "outlinewidth": 0,
              "ticks": ""
             }
            },
            "type": "histogram"
           }
          ],
          "histogram2d": [
           {
            "colorbar": {
             "outlinewidth": 0,
             "ticks": ""
            },
            "colorscale": [
             [
              0,
              "#0d0887"
             ],
             [
              0.1111111111111111,
              "#46039f"
             ],
             [
              0.2222222222222222,
              "#7201a8"
             ],
             [
              0.3333333333333333,
              "#9c179e"
             ],
             [
              0.4444444444444444,
              "#bd3786"
             ],
             [
              0.5555555555555556,
              "#d8576b"
             ],
             [
              0.6666666666666666,
              "#ed7953"
             ],
             [
              0.7777777777777778,
              "#fb9f3a"
             ],
             [
              0.8888888888888888,
              "#fdca26"
             ],
             [
              1,
              "#f0f921"
             ]
            ],
            "type": "histogram2d"
           }
          ],
          "histogram2dcontour": [
           {
            "colorbar": {
             "outlinewidth": 0,
             "ticks": ""
            },
            "colorscale": [
             [
              0,
              "#0d0887"
             ],
             [
              0.1111111111111111,
              "#46039f"
             ],
             [
              0.2222222222222222,
              "#7201a8"
             ],
             [
              0.3333333333333333,
              "#9c179e"
             ],
             [
              0.4444444444444444,
              "#bd3786"
             ],
             [
              0.5555555555555556,
              "#d8576b"
             ],
             [
              0.6666666666666666,
              "#ed7953"
             ],
             [
              0.7777777777777778,
              "#fb9f3a"
             ],
             [
              0.8888888888888888,
              "#fdca26"
             ],
             [
              1,
              "#f0f921"
             ]
            ],
            "type": "histogram2dcontour"
           }
          ],
          "mesh3d": [
           {
            "colorbar": {
             "outlinewidth": 0,
             "ticks": ""
            },
            "type": "mesh3d"
           }
          ],
          "parcoords": [
           {
            "line": {
             "colorbar": {
              "outlinewidth": 0,
              "ticks": ""
             }
            },
            "type": "parcoords"
           }
          ],
          "pie": [
           {
            "automargin": true,
            "type": "pie"
           }
          ],
          "scatter": [
           {
            "marker": {
             "colorbar": {
              "outlinewidth": 0,
              "ticks": ""
             }
            },
            "type": "scatter"
           }
          ],
          "scatter3d": [
           {
            "line": {
             "colorbar": {
              "outlinewidth": 0,
              "ticks": ""
             }
            },
            "marker": {
             "colorbar": {
              "outlinewidth": 0,
              "ticks": ""
             }
            },
            "type": "scatter3d"
           }
          ],
          "scattercarpet": [
           {
            "marker": {
             "colorbar": {
              "outlinewidth": 0,
              "ticks": ""
             }
            },
            "type": "scattercarpet"
           }
          ],
          "scattergeo": [
           {
            "marker": {
             "colorbar": {
              "outlinewidth": 0,
              "ticks": ""
             }
            },
            "type": "scattergeo"
           }
          ],
          "scattergl": [
           {
            "marker": {
             "colorbar": {
              "outlinewidth": 0,
              "ticks": ""
             }
            },
            "type": "scattergl"
           }
          ],
          "scattermapbox": [
           {
            "marker": {
             "colorbar": {
              "outlinewidth": 0,
              "ticks": ""
             }
            },
            "type": "scattermapbox"
           }
          ],
          "scatterpolar": [
           {
            "marker": {
             "colorbar": {
              "outlinewidth": 0,
              "ticks": ""
             }
            },
            "type": "scatterpolar"
           }
          ],
          "scatterpolargl": [
           {
            "marker": {
             "colorbar": {
              "outlinewidth": 0,
              "ticks": ""
             }
            },
            "type": "scatterpolargl"
           }
          ],
          "scatterternary": [
           {
            "marker": {
             "colorbar": {
              "outlinewidth": 0,
              "ticks": ""
             }
            },
            "type": "scatterternary"
           }
          ],
          "surface": [
           {
            "colorbar": {
             "outlinewidth": 0,
             "ticks": ""
            },
            "colorscale": [
             [
              0,
              "#0d0887"
             ],
             [
              0.1111111111111111,
              "#46039f"
             ],
             [
              0.2222222222222222,
              "#7201a8"
             ],
             [
              0.3333333333333333,
              "#9c179e"
             ],
             [
              0.4444444444444444,
              "#bd3786"
             ],
             [
              0.5555555555555556,
              "#d8576b"
             ],
             [
              0.6666666666666666,
              "#ed7953"
             ],
             [
              0.7777777777777778,
              "#fb9f3a"
             ],
             [
              0.8888888888888888,
              "#fdca26"
             ],
             [
              1,
              "#f0f921"
             ]
            ],
            "type": "surface"
           }
          ],
          "table": [
           {
            "cells": {
             "fill": {
              "color": "#EBF0F8"
             },
             "line": {
              "color": "white"
             }
            },
            "header": {
             "fill": {
              "color": "#C8D4E3"
             },
             "line": {
              "color": "white"
             }
            },
            "type": "table"
           }
          ]
         },
         "layout": {
          "annotationdefaults": {
           "arrowcolor": "#2a3f5f",
           "arrowhead": 0,
           "arrowwidth": 1
          },
          "coloraxis": {
           "colorbar": {
            "outlinewidth": 0,
            "ticks": ""
           }
          },
          "colorscale": {
           "diverging": [
            [
             0,
             "#8e0152"
            ],
            [
             0.1,
             "#c51b7d"
            ],
            [
             0.2,
             "#de77ae"
            ],
            [
             0.3,
             "#f1b6da"
            ],
            [
             0.4,
             "#fde0ef"
            ],
            [
             0.5,
             "#f7f7f7"
            ],
            [
             0.6,
             "#e6f5d0"
            ],
            [
             0.7,
             "#b8e186"
            ],
            [
             0.8,
             "#7fbc41"
            ],
            [
             0.9,
             "#4d9221"
            ],
            [
             1,
             "#276419"
            ]
           ],
           "sequential": [
            [
             0,
             "#0d0887"
            ],
            [
             0.1111111111111111,
             "#46039f"
            ],
            [
             0.2222222222222222,
             "#7201a8"
            ],
            [
             0.3333333333333333,
             "#9c179e"
            ],
            [
             0.4444444444444444,
             "#bd3786"
            ],
            [
             0.5555555555555556,
             "#d8576b"
            ],
            [
             0.6666666666666666,
             "#ed7953"
            ],
            [
             0.7777777777777778,
             "#fb9f3a"
            ],
            [
             0.8888888888888888,
             "#fdca26"
            ],
            [
             1,
             "#f0f921"
            ]
           ],
           "sequentialminus": [
            [
             0,
             "#0d0887"
            ],
            [
             0.1111111111111111,
             "#46039f"
            ],
            [
             0.2222222222222222,
             "#7201a8"
            ],
            [
             0.3333333333333333,
             "#9c179e"
            ],
            [
             0.4444444444444444,
             "#bd3786"
            ],
            [
             0.5555555555555556,
             "#d8576b"
            ],
            [
             0.6666666666666666,
             "#ed7953"
            ],
            [
             0.7777777777777778,
             "#fb9f3a"
            ],
            [
             0.8888888888888888,
             "#fdca26"
            ],
            [
             1,
             "#f0f921"
            ]
           ]
          },
          "colorway": [
           "#636efa",
           "#EF553B",
           "#00cc96",
           "#ab63fa",
           "#FFA15A",
           "#19d3f3",
           "#FF6692",
           "#B6E880",
           "#FF97FF",
           "#FECB52"
          ],
          "font": {
           "color": "#2a3f5f"
          },
          "geo": {
           "bgcolor": "white",
           "lakecolor": "white",
           "landcolor": "#E5ECF6",
           "showlakes": true,
           "showland": true,
           "subunitcolor": "white"
          },
          "hoverlabel": {
           "align": "left"
          },
          "hovermode": "closest",
          "mapbox": {
           "style": "light"
          },
          "paper_bgcolor": "white",
          "plot_bgcolor": "#E5ECF6",
          "polar": {
           "angularaxis": {
            "gridcolor": "white",
            "linecolor": "white",
            "ticks": ""
           },
           "bgcolor": "#E5ECF6",
           "radialaxis": {
            "gridcolor": "white",
            "linecolor": "white",
            "ticks": ""
           }
          },
          "scene": {
           "xaxis": {
            "backgroundcolor": "#E5ECF6",
            "gridcolor": "white",
            "gridwidth": 2,
            "linecolor": "white",
            "showbackground": true,
            "ticks": "",
            "zerolinecolor": "white"
           },
           "yaxis": {
            "backgroundcolor": "#E5ECF6",
            "gridcolor": "white",
            "gridwidth": 2,
            "linecolor": "white",
            "showbackground": true,
            "ticks": "",
            "zerolinecolor": "white"
           },
           "zaxis": {
            "backgroundcolor": "#E5ECF6",
            "gridcolor": "white",
            "gridwidth": 2,
            "linecolor": "white",
            "showbackground": true,
            "ticks": "",
            "zerolinecolor": "white"
           }
          },
          "shapedefaults": {
           "line": {
            "color": "#2a3f5f"
           }
          },
          "ternary": {
           "aaxis": {
            "gridcolor": "white",
            "linecolor": "white",
            "ticks": ""
           },
           "baxis": {
            "gridcolor": "white",
            "linecolor": "white",
            "ticks": ""
           },
           "bgcolor": "#E5ECF6",
           "caxis": {
            "gridcolor": "white",
            "linecolor": "white",
            "ticks": ""
           }
          },
          "title": {
           "x": 0.05
          },
          "xaxis": {
           "automargin": true,
           "gridcolor": "white",
           "linecolor": "white",
           "ticks": "",
           "title": {
            "standoff": 15
           },
           "zerolinecolor": "white",
           "zerolinewidth": 2
          },
          "yaxis": {
           "automargin": true,
           "gridcolor": "white",
           "linecolor": "white",
           "ticks": "",
           "title": {
            "standoff": 15
           },
           "zerolinecolor": "white",
           "zerolinewidth": 2
          }
         }
        },
        "title": {
         "font": {
          "color": "#4D5663"
         }
        },
        "xaxis": {
         "gridcolor": "#E1E5ED",
         "showgrid": true,
         "tickfont": {
          "color": "#4D5663"
         },
         "title": {
          "font": {
           "color": "#4D5663"
          },
          "text": ""
         },
         "zerolinecolor": "#E1E5ED"
        },
        "xaxis2": {
         "anchor": "y2",
         "gridcolor": "#E1E5ED",
         "showgrid": true,
         "showticklabels": false,
         "tickfont": {
          "color": "#4D5663"
         },
         "title": {
          "font": {
           "color": "#4D5663"
          },
          "text": ""
         },
         "zerolinecolor": "#E1E5ED"
        },
        "yaxis": {
         "domain": [
          0.3,
          1
         ],
         "gridcolor": "#E1E5ED",
         "showgrid": true,
         "tickfont": {
          "color": "#4D5663"
         },
         "title": {
          "font": {
           "color": "#4D5663"
          },
          "text": ""
         },
         "zerolinecolor": "#E1E5ED"
        },
        "yaxis2": {
         "domain": [
          0,
          0.25
         ],
         "gridcolor": "#E1E5ED",
         "showgrid": true,
         "tickfont": {
          "color": "#4D5663"
         },
         "title": {
          "font": {
           "color": "#4D5663"
          },
          "text": "Spread"
         },
         "zerolinecolor": "#E1E5ED"
        }
       }
      },
      "text/html": [
       "<div>\n",
       "        \n",
       "        \n",
       "            <div id=\"e84a0141-4f15-4e21-8bdf-2dc17aa30ee2\" class=\"plotly-graph-div\" style=\"height:525px; width:100%;\"></div>\n",
       "            <script type=\"text/javascript\">\n",
       "                require([\"plotly\"], function(Plotly) {\n",
       "                    window.PLOTLYENV=window.PLOTLYENV || {};\n",
       "                    window.PLOTLYENV.BASE_URL='https://plot.ly';\n",
       "                    \n",
       "                if (document.getElementById(\"e84a0141-4f15-4e21-8bdf-2dc17aa30ee2\")) {\n",
       "                    Plotly.newPlot(\n",
       "                        'e84a0141-4f15-4e21-8bdf-2dc17aa30ee2',\n",
       "                        [{\"line\": {\"color\": \"rgba(255, 153, 51, 1.0)\", \"dash\": \"solid\", \"shape\": \"linear\", \"width\": 1.3}, \"mode\": \"lines\", \"name\": \"x\", \"text\": \"\", \"type\": \"scatter\", \"x\": [0, 1, 2, 3, 4], \"y\": [1, 2, 3, 5, 6]}, {\"line\": {\"color\": \"rgba(55, 128, 191, 1.0)\", \"dash\": \"solid\", \"shape\": \"linear\", \"width\": 1.3}, \"mode\": \"lines\", \"name\": \"y\", \"text\": \"\", \"type\": \"scatter\", \"x\": [0, 1, 2, 3, 4], \"y\": [10, 23, 45, 46, 67]}, {\"line\": {\"color\": \"rgba(50, 171, 96, 1.0)\", \"dash\": \"solid\", \"shape\": \"linear\", \"width\": 1.3}, \"mode\": \"lines\", \"name\": \"z\", \"text\": \"\", \"type\": \"scatter\", \"x\": [0, 1, 2, 3, 4], \"y\": [5, 6, 2, 8, 9]}, {\"connectgaps\": false, \"fill\": \"tozeroy\", \"line\": {\"color\": \"green\", \"dash\": \"solid\", \"shape\": \"linear\", \"width\": 0.5}, \"mode\": \"lines\", \"name\": \"Spread\", \"showlegend\": false, \"type\": \"scatter\", \"x\": [0, 1, 2, 3, 4], \"xaxis\": \"x2\", \"y\": [\"\", \"\", \"\", \"\", \"\"], \"yaxis\": \"y2\"}, {\"connectgaps\": false, \"fill\": \"tozeroy\", \"line\": {\"color\": \"red\", \"dash\": \"solid\", \"shape\": \"linear\", \"width\": 0.5}, \"mode\": \"lines\", \"name\": \"Spread\", \"showlegend\": false, \"type\": \"scatter\", \"x\": [0, 1, 2, 3, 4], \"xaxis\": \"x2\", \"y\": [-9, -21, -42, -41, -61], \"yaxis\": \"y2\"}],\n",
       "                        {\"hovermode\": \"x\", \"legend\": {\"bgcolor\": \"#F5F6F9\", \"font\": {\"color\": \"#4D5663\"}}, \"paper_bgcolor\": \"#F5F6F9\", \"plot_bgcolor\": \"#F5F6F9\", \"template\": {\"data\": {\"bar\": [{\"error_x\": {\"color\": \"#2a3f5f\"}, \"error_y\": {\"color\": \"#2a3f5f\"}, \"marker\": {\"line\": {\"color\": \"#E5ECF6\", \"width\": 0.5}}, \"type\": \"bar\"}], \"barpolar\": [{\"marker\": {\"line\": {\"color\": \"#E5ECF6\", \"width\": 0.5}}, \"type\": \"barpolar\"}], \"carpet\": [{\"aaxis\": {\"endlinecolor\": \"#2a3f5f\", \"gridcolor\": \"white\", \"linecolor\": \"white\", \"minorgridcolor\": \"white\", \"startlinecolor\": \"#2a3f5f\"}, \"baxis\": {\"endlinecolor\": \"#2a3f5f\", \"gridcolor\": \"white\", \"linecolor\": \"white\", \"minorgridcolor\": \"white\", \"startlinecolor\": \"#2a3f5f\"}, \"type\": \"carpet\"}], \"choropleth\": [{\"colorbar\": {\"outlinewidth\": 0, \"ticks\": \"\"}, \"type\": \"choropleth\"}], \"contour\": [{\"colorbar\": {\"outlinewidth\": 0, \"ticks\": \"\"}, \"colorscale\": [[0.0, \"#0d0887\"], [0.1111111111111111, \"#46039f\"], [0.2222222222222222, \"#7201a8\"], [0.3333333333333333, \"#9c179e\"], [0.4444444444444444, \"#bd3786\"], [0.5555555555555556, \"#d8576b\"], [0.6666666666666666, \"#ed7953\"], [0.7777777777777778, \"#fb9f3a\"], [0.8888888888888888, \"#fdca26\"], [1.0, \"#f0f921\"]], \"type\": \"contour\"}], \"contourcarpet\": [{\"colorbar\": {\"outlinewidth\": 0, \"ticks\": \"\"}, \"type\": \"contourcarpet\"}], \"heatmap\": [{\"colorbar\": {\"outlinewidth\": 0, \"ticks\": \"\"}, \"colorscale\": [[0.0, \"#0d0887\"], [0.1111111111111111, \"#46039f\"], [0.2222222222222222, \"#7201a8\"], [0.3333333333333333, \"#9c179e\"], [0.4444444444444444, \"#bd3786\"], [0.5555555555555556, \"#d8576b\"], [0.6666666666666666, \"#ed7953\"], [0.7777777777777778, \"#fb9f3a\"], [0.8888888888888888, \"#fdca26\"], [1.0, \"#f0f921\"]], \"type\": \"heatmap\"}], \"heatmapgl\": [{\"colorbar\": {\"outlinewidth\": 0, \"ticks\": \"\"}, \"colorscale\": [[0.0, \"#0d0887\"], [0.1111111111111111, \"#46039f\"], [0.2222222222222222, \"#7201a8\"], [0.3333333333333333, \"#9c179e\"], [0.4444444444444444, \"#bd3786\"], [0.5555555555555556, \"#d8576b\"], [0.6666666666666666, \"#ed7953\"], [0.7777777777777778, \"#fb9f3a\"], [0.8888888888888888, \"#fdca26\"], [1.0, \"#f0f921\"]], \"type\": \"heatmapgl\"}], \"histogram\": [{\"marker\": {\"colorbar\": {\"outlinewidth\": 0, \"ticks\": \"\"}}, \"type\": \"histogram\"}], \"histogram2d\": [{\"colorbar\": {\"outlinewidth\": 0, \"ticks\": \"\"}, \"colorscale\": [[0.0, \"#0d0887\"], [0.1111111111111111, \"#46039f\"], [0.2222222222222222, \"#7201a8\"], [0.3333333333333333, \"#9c179e\"], [0.4444444444444444, \"#bd3786\"], [0.5555555555555556, \"#d8576b\"], [0.6666666666666666, \"#ed7953\"], [0.7777777777777778, \"#fb9f3a\"], [0.8888888888888888, \"#fdca26\"], [1.0, \"#f0f921\"]], \"type\": \"histogram2d\"}], \"histogram2dcontour\": [{\"colorbar\": {\"outlinewidth\": 0, \"ticks\": \"\"}, \"colorscale\": [[0.0, \"#0d0887\"], [0.1111111111111111, \"#46039f\"], [0.2222222222222222, \"#7201a8\"], [0.3333333333333333, \"#9c179e\"], [0.4444444444444444, \"#bd3786\"], [0.5555555555555556, \"#d8576b\"], [0.6666666666666666, \"#ed7953\"], [0.7777777777777778, \"#fb9f3a\"], [0.8888888888888888, \"#fdca26\"], [1.0, \"#f0f921\"]], \"type\": \"histogram2dcontour\"}], \"mesh3d\": [{\"colorbar\": {\"outlinewidth\": 0, \"ticks\": \"\"}, \"type\": \"mesh3d\"}], \"parcoords\": [{\"line\": {\"colorbar\": {\"outlinewidth\": 0, \"ticks\": \"\"}}, \"type\": \"parcoords\"}], \"pie\": [{\"automargin\": true, \"type\": \"pie\"}], \"scatter\": [{\"marker\": {\"colorbar\": {\"outlinewidth\": 0, \"ticks\": \"\"}}, \"type\": \"scatter\"}], \"scatter3d\": [{\"line\": {\"colorbar\": {\"outlinewidth\": 0, \"ticks\": \"\"}}, \"marker\": {\"colorbar\": {\"outlinewidth\": 0, \"ticks\": \"\"}}, \"type\": \"scatter3d\"}], \"scattercarpet\": [{\"marker\": {\"colorbar\": {\"outlinewidth\": 0, \"ticks\": \"\"}}, \"type\": \"scattercarpet\"}], \"scattergeo\": [{\"marker\": {\"colorbar\": {\"outlinewidth\": 0, \"ticks\": \"\"}}, \"type\": \"scattergeo\"}], \"scattergl\": [{\"marker\": {\"colorbar\": {\"outlinewidth\": 0, \"ticks\": \"\"}}, \"type\": \"scattergl\"}], \"scattermapbox\": [{\"marker\": {\"colorbar\": {\"outlinewidth\": 0, \"ticks\": \"\"}}, \"type\": \"scattermapbox\"}], \"scatterpolar\": [{\"marker\": {\"colorbar\": {\"outlinewidth\": 0, \"ticks\": \"\"}}, \"type\": \"scatterpolar\"}], \"scatterpolargl\": [{\"marker\": {\"colorbar\": {\"outlinewidth\": 0, \"ticks\": \"\"}}, \"type\": \"scatterpolargl\"}], \"scatterternary\": [{\"marker\": {\"colorbar\": {\"outlinewidth\": 0, \"ticks\": \"\"}}, \"type\": \"scatterternary\"}], \"surface\": [{\"colorbar\": {\"outlinewidth\": 0, \"ticks\": \"\"}, \"colorscale\": [[0.0, \"#0d0887\"], [0.1111111111111111, \"#46039f\"], [0.2222222222222222, \"#7201a8\"], [0.3333333333333333, \"#9c179e\"], [0.4444444444444444, \"#bd3786\"], [0.5555555555555556, \"#d8576b\"], [0.6666666666666666, \"#ed7953\"], [0.7777777777777778, \"#fb9f3a\"], [0.8888888888888888, \"#fdca26\"], [1.0, \"#f0f921\"]], \"type\": \"surface\"}], \"table\": [{\"cells\": {\"fill\": {\"color\": \"#EBF0F8\"}, \"line\": {\"color\": \"white\"}}, \"header\": {\"fill\": {\"color\": \"#C8D4E3\"}, \"line\": {\"color\": \"white\"}}, \"type\": \"table\"}]}, \"layout\": {\"annotationdefaults\": {\"arrowcolor\": \"#2a3f5f\", \"arrowhead\": 0, \"arrowwidth\": 1}, \"coloraxis\": {\"colorbar\": {\"outlinewidth\": 0, \"ticks\": \"\"}}, \"colorscale\": {\"diverging\": [[0, \"#8e0152\"], [0.1, \"#c51b7d\"], [0.2, \"#de77ae\"], [0.3, \"#f1b6da\"], [0.4, \"#fde0ef\"], [0.5, \"#f7f7f7\"], [0.6, \"#e6f5d0\"], [0.7, \"#b8e186\"], [0.8, \"#7fbc41\"], [0.9, \"#4d9221\"], [1, \"#276419\"]], \"sequential\": [[0.0, \"#0d0887\"], [0.1111111111111111, \"#46039f\"], [0.2222222222222222, \"#7201a8\"], [0.3333333333333333, \"#9c179e\"], [0.4444444444444444, \"#bd3786\"], [0.5555555555555556, \"#d8576b\"], [0.6666666666666666, \"#ed7953\"], [0.7777777777777778, \"#fb9f3a\"], [0.8888888888888888, \"#fdca26\"], [1.0, \"#f0f921\"]], \"sequentialminus\": [[0.0, \"#0d0887\"], [0.1111111111111111, \"#46039f\"], [0.2222222222222222, \"#7201a8\"], [0.3333333333333333, \"#9c179e\"], [0.4444444444444444, \"#bd3786\"], [0.5555555555555556, \"#d8576b\"], [0.6666666666666666, \"#ed7953\"], [0.7777777777777778, \"#fb9f3a\"], [0.8888888888888888, \"#fdca26\"], [1.0, \"#f0f921\"]]}, \"colorway\": [\"#636efa\", \"#EF553B\", \"#00cc96\", \"#ab63fa\", \"#FFA15A\", \"#19d3f3\", \"#FF6692\", \"#B6E880\", \"#FF97FF\", \"#FECB52\"], \"font\": {\"color\": \"#2a3f5f\"}, \"geo\": {\"bgcolor\": \"white\", \"lakecolor\": \"white\", \"landcolor\": \"#E5ECF6\", \"showlakes\": true, \"showland\": true, \"subunitcolor\": \"white\"}, \"hoverlabel\": {\"align\": \"left\"}, \"hovermode\": \"closest\", \"mapbox\": {\"style\": \"light\"}, \"paper_bgcolor\": \"white\", \"plot_bgcolor\": \"#E5ECF6\", \"polar\": {\"angularaxis\": {\"gridcolor\": \"white\", \"linecolor\": \"white\", \"ticks\": \"\"}, \"bgcolor\": \"#E5ECF6\", \"radialaxis\": {\"gridcolor\": \"white\", \"linecolor\": \"white\", \"ticks\": \"\"}}, \"scene\": {\"xaxis\": {\"backgroundcolor\": \"#E5ECF6\", \"gridcolor\": \"white\", \"gridwidth\": 2, \"linecolor\": \"white\", \"showbackground\": true, \"ticks\": \"\", \"zerolinecolor\": \"white\"}, \"yaxis\": {\"backgroundcolor\": \"#E5ECF6\", \"gridcolor\": \"white\", \"gridwidth\": 2, \"linecolor\": \"white\", \"showbackground\": true, \"ticks\": \"\", \"zerolinecolor\": \"white\"}, \"zaxis\": {\"backgroundcolor\": \"#E5ECF6\", \"gridcolor\": \"white\", \"gridwidth\": 2, \"linecolor\": \"white\", \"showbackground\": true, \"ticks\": \"\", \"zerolinecolor\": \"white\"}}, \"shapedefaults\": {\"line\": {\"color\": \"#2a3f5f\"}}, \"ternary\": {\"aaxis\": {\"gridcolor\": \"white\", \"linecolor\": \"white\", \"ticks\": \"\"}, \"baxis\": {\"gridcolor\": \"white\", \"linecolor\": \"white\", \"ticks\": \"\"}, \"bgcolor\": \"#E5ECF6\", \"caxis\": {\"gridcolor\": \"white\", \"linecolor\": \"white\", \"ticks\": \"\"}}, \"title\": {\"x\": 0.05}, \"xaxis\": {\"automargin\": true, \"gridcolor\": \"white\", \"linecolor\": \"white\", \"ticks\": \"\", \"title\": {\"standoff\": 15}, \"zerolinecolor\": \"white\", \"zerolinewidth\": 2}, \"yaxis\": {\"automargin\": true, \"gridcolor\": \"white\", \"linecolor\": \"white\", \"ticks\": \"\", \"title\": {\"standoff\": 15}, \"zerolinecolor\": \"white\", \"zerolinewidth\": 2}}}, \"title\": {\"font\": {\"color\": \"#4D5663\"}}, \"xaxis\": {\"gridcolor\": \"#E1E5ED\", \"showgrid\": true, \"tickfont\": {\"color\": \"#4D5663\"}, \"title\": {\"font\": {\"color\": \"#4D5663\"}, \"text\": \"\"}, \"zerolinecolor\": \"#E1E5ED\"}, \"xaxis2\": {\"anchor\": \"y2\", \"gridcolor\": \"#E1E5ED\", \"showgrid\": true, \"showticklabels\": false, \"tickfont\": {\"color\": \"#4D5663\"}, \"title\": {\"font\": {\"color\": \"#4D5663\"}, \"text\": \"\"}, \"zerolinecolor\": \"#E1E5ED\"}, \"yaxis\": {\"domain\": [0.3, 1], \"gridcolor\": \"#E1E5ED\", \"showgrid\": true, \"tickfont\": {\"color\": \"#4D5663\"}, \"title\": {\"font\": {\"color\": \"#4D5663\"}, \"text\": \"\"}, \"zerolinecolor\": \"#E1E5ED\"}, \"yaxis2\": {\"domain\": [0, 0.25], \"gridcolor\": \"#E1E5ED\", \"showgrid\": true, \"tickfont\": {\"color\": \"#4D5663\"}, \"title\": {\"font\": {\"color\": \"#4D5663\"}, \"text\": \"Spread\"}, \"zerolinecolor\": \"#E1E5ED\"}},\n",
       "                        {\"showLink\": true, \"linkText\": \"Export to plot.ly\", \"plotlyServerURL\": \"https://plot.ly\", \"responsive\": true}\n",
       "                    ).then(function(){\n",
       "                            \n",
       "var gd = document.getElementById('e84a0141-4f15-4e21-8bdf-2dc17aa30ee2');\n",
       "var x = new MutationObserver(function (mutations, observer) {{\n",
       "        var display = window.getComputedStyle(gd).display;\n",
       "        if (!display || display === 'none') {{\n",
       "            console.log([gd, 'removed!']);\n",
       "            Plotly.purge(gd);\n",
       "            observer.disconnect();\n",
       "        }}\n",
       "}});\n",
       "\n",
       "// Listen for the removal of the full notebook cells\n",
       "var notebookContainer = gd.closest('#notebook-container');\n",
       "if (notebookContainer) {{\n",
       "    x.observe(notebookContainer, {childList: true});\n",
       "}}\n",
       "\n",
       "// Listen for the clearing of the current output cell\n",
       "var outputEl = gd.closest('.output');\n",
       "if (outputEl) {{\n",
       "    x.observe(outputEl, {childList: true});\n",
       "}}\n",
       "\n",
       "                        })\n",
       "                };\n",
       "                });\n",
       "            </script>\n",
       "        </div>"
      ]
     },
     "metadata": {},
     "output_type": "display_data"
    }
   ],
   "source": [
    "df3.iplot(kind='spread')"
   ]
  },
  {
   "cell_type": "code",
   "execution_count": 24,
   "metadata": {},
   "outputs": [
    {
     "data": {
      "application/vnd.plotly.v1+json": {
       "config": {
        "linkText": "Export to plot.ly",
        "plotlyServerURL": "https://plot.ly",
        "showLink": true
       },
       "data": [
        {
         "marker": {
          "color": [
           "rgb(255, 153, 51)",
           "rgb(55, 128, 191)",
           "rgb(50, 171, 96)",
           "rgb(128, 0, 128)",
           "rgb(219, 64, 82)",
           "rgb(0, 128, 128)",
           "rgb(255, 255, 51)",
           "rgb(128, 128, 0)",
           "rgb(251, 128, 114)",
           "rgb(128, 177, 211)"
          ],
          "line": {
           "width": 1.3
          },
          "size": [
           48,
           75,
           52,
           46,
           41,
           51,
           64,
           69,
           42,
           77,
           43,
           65,
           68,
           52,
           52,
           35,
           86,
           74,
           40,
           84,
           29,
           56,
           57,
           49,
           48,
           72,
           66,
           62,
           42,
           78,
           63,
           56,
           34,
           65,
           69,
           24,
           51,
           77,
           64,
           38,
           27,
           30,
           32,
           47,
           56,
           65,
           54,
           59,
           54,
           62,
           86,
           34,
           55,
           70,
           54,
           97,
           50,
           112,
           49,
           87,
           46,
           49,
           56,
           53,
           52,
           64,
           50,
           57,
           64,
           61,
           32,
           68,
           79,
           43,
           33,
           68,
           60,
           77,
           78,
           55,
           64,
           33,
           47,
           51,
           33,
           60,
           38,
           79,
           75,
           65,
           39,
           79,
           12,
           24,
           83,
           61,
           62,
           33,
           70,
           61
          ],
          "symbol": "circle"
         },
         "mode": "markers",
         "text": "",
         "type": "scatter",
         "x": [
          -0.08041073899511382,
          -0.6151160222842449,
          -0.5808034456261486,
          -0.6313101469184043,
          0.9904073723163997,
          -0.6000168852567765,
          -0.5885502387286373,
          0.18477904428864386,
          -0.4658247851906445,
          2.3793025312990492,
          0.2248512998964256,
          -0.30685458058413345,
          0.5172381715858361,
          -0.21324657521049858,
          0.23972318572241827,
          -2.400589404618203,
          1.3223199594970096,
          0.015939906893203234,
          -1.5832259598996214,
          -0.9190489027321409,
          0.4730113751642799,
          1.0786363180926952,
          -0.24377659744999874,
          0.164241978827947,
          0.7942119330570302,
          -0.4127859722174128,
          0.7413285662813682,
          0.23375858805214605,
          0.673503451591191,
          0.7128011111584379,
          0.5297155298435244,
          0.6540302721696478,
          -2.447129797757341,
          -0.6606132960394067,
          0.2696345343103929,
          1.2699122431202663,
          0.2042267331407826,
          1.244375850736996,
          -0.8383955661986674,
          -1.0436526421274157,
          -2.3719224742430685,
          -0.2937573989694159,
          -1.1667387440013157,
          -0.20835829572494252,
          -1.582929180184313,
          -1.3905092681491171,
          -1.9684195498534138,
          -0.5474526877788535,
          0.3506996957877933,
          0.22490843267634683,
          0.6626994263438095,
          -1.55666246535441,
          -1.4092970962638396,
          1.7540500737250533,
          -1.1822357875421283,
          0.8254351648968924,
          -0.8155332966176337,
          -0.7430699184182005,
          -0.5242445523082108,
          -0.02121914213591935,
          0.11897271616306106,
          1.24000155189826,
          -0.12412066012159768,
          0.3157479923996985,
          -1.3899830415920824,
          -0.34760793802059503,
          0.547682040129073,
          -0.41873296390333137,
          0.30906930704823077,
          -0.5646573855391537,
          -0.2055027384609156,
          -0.44254018166501224,
          -0.47112623288718575,
          0.1552416693165053,
          0.0017384132179926366,
          -1.551593275455728,
          -0.4234921860598587,
          0.6494343322625905,
          0.5996077489180177,
          1.1782413486752166,
          -0.5033606273925229,
          0.819708204847244,
          0.09016970646950159,
          -0.22042764299209439,
          -0.06249041005051703,
          -0.5067060750717906,
          -1.2848775632360026,
          -1.0439710960994422,
          1.832071436334213,
          0.6144142518560111,
          -1.4002975798711024,
          0.018263481656676912,
          -0.44322620435757665,
          -0.21623864964117803,
          1.217074233459462,
          -0.6536863255962454,
          0.8595514673202337,
          1.0207801556487885,
          -0.5916487604653361,
          -1.6019281391101097
         ],
         "y": [
          0.5847521709987167,
          1.416135425448743,
          -0.02193980163591156,
          1.0013020771420085,
          -0.27740457105104066,
          -1.4447465497987408,
          -2.040204644799607,
          1.0029081948520164,
          -0.2810971812517474,
          1.0252737000345813,
          0.27068526227379247,
          1.1470770718279595,
          -0.5888546275328206,
          1.4273380390131492,
          0.2086171447182851,
          -0.2875421537307741,
          -0.9853532885603278,
          -1.2254474057149276,
          0.2676216333451455,
          1.081682934905261,
          1.1632682266690813,
          1.2871795766027607,
          0.871104495281452,
          1.8238537989591024,
          1.2396782959198915,
          -0.5186902170664442,
          -0.28842788919227996,
          -0.09080974861107848,
          0.3603274958193862,
          0.15805756661314824,
          0.15395301850870477,
          0.08238213359689824,
          0.37746101585567343,
          0.2666193731972084,
          0.08112154919247953,
          0.18554268521858297,
          -0.5804771162529837,
          -0.4324114593114584,
          -0.09918022081792709,
          -0.09419899742061491,
          1.225995859716065,
          1.0982259621569304,
          0.03021255486881537,
          0.26093095351215384,
          1.0032625749077733,
          -0.379901548088872,
          -0.542554141709257,
          -1.0772761392227095,
          0.7239032100688596,
          -0.16543581199498433,
          1.1078079827072325,
          0.7709725457443424,
          -0.0344966046980537,
          -0.8226795974370851,
          -1.706777614049343,
          0.9079931171013804,
          0.18008700663392901,
          0.749553874821924,
          -0.37702549696765186,
          0.7724047186087337,
          1.3120910818557805,
          0.05125329456421593,
          0.10017530538548051,
          -0.6895347209932827,
          0.045048085035044004,
          0.10646626592697084,
          -1.8058546002940823,
          -0.27251111619450097,
          0.008851235048992899,
          -0.23179744833396781,
          0.2432165859889888,
          1.86200639032237,
          -3.0738387380541465,
          1.3214852040849363,
          0.22954225287636534,
          -1.260791826026142,
          -1.609125825572039,
          0.11680930177241139,
          0.748842781193093,
          -0.2806525071335359,
          0.6766685021521556,
          0.1587205355149384,
          0.2888196524039874,
          -0.6507586318790385,
          1.7789826623426028,
          -0.9605271280324573,
          0.6957021260494419,
          0.7388996977221987,
          -0.14437121754486948,
          1.042838079438687,
          -0.44210180606067057,
          -0.9551581965860438,
          0.9495665282329464,
          0.23496425984077343,
          -0.33531161274819027,
          -0.13140202615689167,
          -0.42973470331868785,
          0.7491272560677047,
          -1.074834820795073,
          0.06366308205424531
         ]
        }
       ],
       "layout": {
        "legend": {
         "bgcolor": "#F5F6F9",
         "font": {
          "color": "#4D5663"
         }
        },
        "paper_bgcolor": "#F5F6F9",
        "plot_bgcolor": "#F5F6F9",
        "template": {
         "data": {
          "bar": [
           {
            "error_x": {
             "color": "#2a3f5f"
            },
            "error_y": {
             "color": "#2a3f5f"
            },
            "marker": {
             "line": {
              "color": "#E5ECF6",
              "width": 0.5
             }
            },
            "type": "bar"
           }
          ],
          "barpolar": [
           {
            "marker": {
             "line": {
              "color": "#E5ECF6",
              "width": 0.5
             }
            },
            "type": "barpolar"
           }
          ],
          "carpet": [
           {
            "aaxis": {
             "endlinecolor": "#2a3f5f",
             "gridcolor": "white",
             "linecolor": "white",
             "minorgridcolor": "white",
             "startlinecolor": "#2a3f5f"
            },
            "baxis": {
             "endlinecolor": "#2a3f5f",
             "gridcolor": "white",
             "linecolor": "white",
             "minorgridcolor": "white",
             "startlinecolor": "#2a3f5f"
            },
            "type": "carpet"
           }
          ],
          "choropleth": [
           {
            "colorbar": {
             "outlinewidth": 0,
             "ticks": ""
            },
            "type": "choropleth"
           }
          ],
          "contour": [
           {
            "colorbar": {
             "outlinewidth": 0,
             "ticks": ""
            },
            "colorscale": [
             [
              0,
              "#0d0887"
             ],
             [
              0.1111111111111111,
              "#46039f"
             ],
             [
              0.2222222222222222,
              "#7201a8"
             ],
             [
              0.3333333333333333,
              "#9c179e"
             ],
             [
              0.4444444444444444,
              "#bd3786"
             ],
             [
              0.5555555555555556,
              "#d8576b"
             ],
             [
              0.6666666666666666,
              "#ed7953"
             ],
             [
              0.7777777777777778,
              "#fb9f3a"
             ],
             [
              0.8888888888888888,
              "#fdca26"
             ],
             [
              1,
              "#f0f921"
             ]
            ],
            "type": "contour"
           }
          ],
          "contourcarpet": [
           {
            "colorbar": {
             "outlinewidth": 0,
             "ticks": ""
            },
            "type": "contourcarpet"
           }
          ],
          "heatmap": [
           {
            "colorbar": {
             "outlinewidth": 0,
             "ticks": ""
            },
            "colorscale": [
             [
              0,
              "#0d0887"
             ],
             [
              0.1111111111111111,
              "#46039f"
             ],
             [
              0.2222222222222222,
              "#7201a8"
             ],
             [
              0.3333333333333333,
              "#9c179e"
             ],
             [
              0.4444444444444444,
              "#bd3786"
             ],
             [
              0.5555555555555556,
              "#d8576b"
             ],
             [
              0.6666666666666666,
              "#ed7953"
             ],
             [
              0.7777777777777778,
              "#fb9f3a"
             ],
             [
              0.8888888888888888,
              "#fdca26"
             ],
             [
              1,
              "#f0f921"
             ]
            ],
            "type": "heatmap"
           }
          ],
          "heatmapgl": [
           {
            "colorbar": {
             "outlinewidth": 0,
             "ticks": ""
            },
            "colorscale": [
             [
              0,
              "#0d0887"
             ],
             [
              0.1111111111111111,
              "#46039f"
             ],
             [
              0.2222222222222222,
              "#7201a8"
             ],
             [
              0.3333333333333333,
              "#9c179e"
             ],
             [
              0.4444444444444444,
              "#bd3786"
             ],
             [
              0.5555555555555556,
              "#d8576b"
             ],
             [
              0.6666666666666666,
              "#ed7953"
             ],
             [
              0.7777777777777778,
              "#fb9f3a"
             ],
             [
              0.8888888888888888,
              "#fdca26"
             ],
             [
              1,
              "#f0f921"
             ]
            ],
            "type": "heatmapgl"
           }
          ],
          "histogram": [
           {
            "marker": {
             "colorbar": {
              "outlinewidth": 0,
              "ticks": ""
             }
            },
            "type": "histogram"
           }
          ],
          "histogram2d": [
           {
            "colorbar": {
             "outlinewidth": 0,
             "ticks": ""
            },
            "colorscale": [
             [
              0,
              "#0d0887"
             ],
             [
              0.1111111111111111,
              "#46039f"
             ],
             [
              0.2222222222222222,
              "#7201a8"
             ],
             [
              0.3333333333333333,
              "#9c179e"
             ],
             [
              0.4444444444444444,
              "#bd3786"
             ],
             [
              0.5555555555555556,
              "#d8576b"
             ],
             [
              0.6666666666666666,
              "#ed7953"
             ],
             [
              0.7777777777777778,
              "#fb9f3a"
             ],
             [
              0.8888888888888888,
              "#fdca26"
             ],
             [
              1,
              "#f0f921"
             ]
            ],
            "type": "histogram2d"
           }
          ],
          "histogram2dcontour": [
           {
            "colorbar": {
             "outlinewidth": 0,
             "ticks": ""
            },
            "colorscale": [
             [
              0,
              "#0d0887"
             ],
             [
              0.1111111111111111,
              "#46039f"
             ],
             [
              0.2222222222222222,
              "#7201a8"
             ],
             [
              0.3333333333333333,
              "#9c179e"
             ],
             [
              0.4444444444444444,
              "#bd3786"
             ],
             [
              0.5555555555555556,
              "#d8576b"
             ],
             [
              0.6666666666666666,
              "#ed7953"
             ],
             [
              0.7777777777777778,
              "#fb9f3a"
             ],
             [
              0.8888888888888888,
              "#fdca26"
             ],
             [
              1,
              "#f0f921"
             ]
            ],
            "type": "histogram2dcontour"
           }
          ],
          "mesh3d": [
           {
            "colorbar": {
             "outlinewidth": 0,
             "ticks": ""
            },
            "type": "mesh3d"
           }
          ],
          "parcoords": [
           {
            "line": {
             "colorbar": {
              "outlinewidth": 0,
              "ticks": ""
             }
            },
            "type": "parcoords"
           }
          ],
          "pie": [
           {
            "automargin": true,
            "type": "pie"
           }
          ],
          "scatter": [
           {
            "marker": {
             "colorbar": {
              "outlinewidth": 0,
              "ticks": ""
             }
            },
            "type": "scatter"
           }
          ],
          "scatter3d": [
           {
            "line": {
             "colorbar": {
              "outlinewidth": 0,
              "ticks": ""
             }
            },
            "marker": {
             "colorbar": {
              "outlinewidth": 0,
              "ticks": ""
             }
            },
            "type": "scatter3d"
           }
          ],
          "scattercarpet": [
           {
            "marker": {
             "colorbar": {
              "outlinewidth": 0,
              "ticks": ""
             }
            },
            "type": "scattercarpet"
           }
          ],
          "scattergeo": [
           {
            "marker": {
             "colorbar": {
              "outlinewidth": 0,
              "ticks": ""
             }
            },
            "type": "scattergeo"
           }
          ],
          "scattergl": [
           {
            "marker": {
             "colorbar": {
              "outlinewidth": 0,
              "ticks": ""
             }
            },
            "type": "scattergl"
           }
          ],
          "scattermapbox": [
           {
            "marker": {
             "colorbar": {
              "outlinewidth": 0,
              "ticks": ""
             }
            },
            "type": "scattermapbox"
           }
          ],
          "scatterpolar": [
           {
            "marker": {
             "colorbar": {
              "outlinewidth": 0,
              "ticks": ""
             }
            },
            "type": "scatterpolar"
           }
          ],
          "scatterpolargl": [
           {
            "marker": {
             "colorbar": {
              "outlinewidth": 0,
              "ticks": ""
             }
            },
            "type": "scatterpolargl"
           }
          ],
          "scatterternary": [
           {
            "marker": {
             "colorbar": {
              "outlinewidth": 0,
              "ticks": ""
             }
            },
            "type": "scatterternary"
           }
          ],
          "surface": [
           {
            "colorbar": {
             "outlinewidth": 0,
             "ticks": ""
            },
            "colorscale": [
             [
              0,
              "#0d0887"
             ],
             [
              0.1111111111111111,
              "#46039f"
             ],
             [
              0.2222222222222222,
              "#7201a8"
             ],
             [
              0.3333333333333333,
              "#9c179e"
             ],
             [
              0.4444444444444444,
              "#bd3786"
             ],
             [
              0.5555555555555556,
              "#d8576b"
             ],
             [
              0.6666666666666666,
              "#ed7953"
             ],
             [
              0.7777777777777778,
              "#fb9f3a"
             ],
             [
              0.8888888888888888,
              "#fdca26"
             ],
             [
              1,
              "#f0f921"
             ]
            ],
            "type": "surface"
           }
          ],
          "table": [
           {
            "cells": {
             "fill": {
              "color": "#EBF0F8"
             },
             "line": {
              "color": "white"
             }
            },
            "header": {
             "fill": {
              "color": "#C8D4E3"
             },
             "line": {
              "color": "white"
             }
            },
            "type": "table"
           }
          ]
         },
         "layout": {
          "annotationdefaults": {
           "arrowcolor": "#2a3f5f",
           "arrowhead": 0,
           "arrowwidth": 1
          },
          "coloraxis": {
           "colorbar": {
            "outlinewidth": 0,
            "ticks": ""
           }
          },
          "colorscale": {
           "diverging": [
            [
             0,
             "#8e0152"
            ],
            [
             0.1,
             "#c51b7d"
            ],
            [
             0.2,
             "#de77ae"
            ],
            [
             0.3,
             "#f1b6da"
            ],
            [
             0.4,
             "#fde0ef"
            ],
            [
             0.5,
             "#f7f7f7"
            ],
            [
             0.6,
             "#e6f5d0"
            ],
            [
             0.7,
             "#b8e186"
            ],
            [
             0.8,
             "#7fbc41"
            ],
            [
             0.9,
             "#4d9221"
            ],
            [
             1,
             "#276419"
            ]
           ],
           "sequential": [
            [
             0,
             "#0d0887"
            ],
            [
             0.1111111111111111,
             "#46039f"
            ],
            [
             0.2222222222222222,
             "#7201a8"
            ],
            [
             0.3333333333333333,
             "#9c179e"
            ],
            [
             0.4444444444444444,
             "#bd3786"
            ],
            [
             0.5555555555555556,
             "#d8576b"
            ],
            [
             0.6666666666666666,
             "#ed7953"
            ],
            [
             0.7777777777777778,
             "#fb9f3a"
            ],
            [
             0.8888888888888888,
             "#fdca26"
            ],
            [
             1,
             "#f0f921"
            ]
           ],
           "sequentialminus": [
            [
             0,
             "#0d0887"
            ],
            [
             0.1111111111111111,
             "#46039f"
            ],
            [
             0.2222222222222222,
             "#7201a8"
            ],
            [
             0.3333333333333333,
             "#9c179e"
            ],
            [
             0.4444444444444444,
             "#bd3786"
            ],
            [
             0.5555555555555556,
             "#d8576b"
            ],
            [
             0.6666666666666666,
             "#ed7953"
            ],
            [
             0.7777777777777778,
             "#fb9f3a"
            ],
            [
             0.8888888888888888,
             "#fdca26"
            ],
            [
             1,
             "#f0f921"
            ]
           ]
          },
          "colorway": [
           "#636efa",
           "#EF553B",
           "#00cc96",
           "#ab63fa",
           "#FFA15A",
           "#19d3f3",
           "#FF6692",
           "#B6E880",
           "#FF97FF",
           "#FECB52"
          ],
          "font": {
           "color": "#2a3f5f"
          },
          "geo": {
           "bgcolor": "white",
           "lakecolor": "white",
           "landcolor": "#E5ECF6",
           "showlakes": true,
           "showland": true,
           "subunitcolor": "white"
          },
          "hoverlabel": {
           "align": "left"
          },
          "hovermode": "closest",
          "mapbox": {
           "style": "light"
          },
          "paper_bgcolor": "white",
          "plot_bgcolor": "#E5ECF6",
          "polar": {
           "angularaxis": {
            "gridcolor": "white",
            "linecolor": "white",
            "ticks": ""
           },
           "bgcolor": "#E5ECF6",
           "radialaxis": {
            "gridcolor": "white",
            "linecolor": "white",
            "ticks": ""
           }
          },
          "scene": {
           "xaxis": {
            "backgroundcolor": "#E5ECF6",
            "gridcolor": "white",
            "gridwidth": 2,
            "linecolor": "white",
            "showbackground": true,
            "ticks": "",
            "zerolinecolor": "white"
           },
           "yaxis": {
            "backgroundcolor": "#E5ECF6",
            "gridcolor": "white",
            "gridwidth": 2,
            "linecolor": "white",
            "showbackground": true,
            "ticks": "",
            "zerolinecolor": "white"
           },
           "zaxis": {
            "backgroundcolor": "#E5ECF6",
            "gridcolor": "white",
            "gridwidth": 2,
            "linecolor": "white",
            "showbackground": true,
            "ticks": "",
            "zerolinecolor": "white"
           }
          },
          "shapedefaults": {
           "line": {
            "color": "#2a3f5f"
           }
          },
          "ternary": {
           "aaxis": {
            "gridcolor": "white",
            "linecolor": "white",
            "ticks": ""
           },
           "baxis": {
            "gridcolor": "white",
            "linecolor": "white",
            "ticks": ""
           },
           "bgcolor": "#E5ECF6",
           "caxis": {
            "gridcolor": "white",
            "linecolor": "white",
            "ticks": ""
           }
          },
          "title": {
           "x": 0.05
          },
          "xaxis": {
           "automargin": true,
           "gridcolor": "white",
           "linecolor": "white",
           "ticks": "",
           "title": {
            "standoff": 15
           },
           "zerolinecolor": "white",
           "zerolinewidth": 2
          },
          "yaxis": {
           "automargin": true,
           "gridcolor": "white",
           "linecolor": "white",
           "ticks": "",
           "title": {
            "standoff": 15
           },
           "zerolinecolor": "white",
           "zerolinewidth": 2
          }
         }
        },
        "title": {
         "font": {
          "color": "#4D5663"
         }
        },
        "xaxis": {
         "gridcolor": "#E1E5ED",
         "showgrid": true,
         "tickfont": {
          "color": "#4D5663"
         },
         "title": {
          "font": {
           "color": "#4D5663"
          },
          "text": ""
         },
         "zerolinecolor": "#E1E5ED"
        },
        "yaxis": {
         "gridcolor": "#E1E5ED",
         "showgrid": true,
         "tickfont": {
          "color": "#4D5663"
         },
         "title": {
          "font": {
           "color": "#4D5663"
          },
          "text": ""
         },
         "zerolinecolor": "#E1E5ED"
        }
       }
      },
      "text/html": [
       "<div>\n",
       "        \n",
       "        \n",
       "            <div id=\"7414e193-bc23-4f2a-baf3-56ebd228ad5e\" class=\"plotly-graph-div\" style=\"height:525px; width:100%;\"></div>\n",
       "            <script type=\"text/javascript\">\n",
       "                require([\"plotly\"], function(Plotly) {\n",
       "                    window.PLOTLYENV=window.PLOTLYENV || {};\n",
       "                    window.PLOTLYENV.BASE_URL='https://plot.ly';\n",
       "                    \n",
       "                if (document.getElementById(\"7414e193-bc23-4f2a-baf3-56ebd228ad5e\")) {\n",
       "                    Plotly.newPlot(\n",
       "                        '7414e193-bc23-4f2a-baf3-56ebd228ad5e',\n",
       "                        [{\"marker\": {\"color\": [\"rgb(255, 153, 51)\", \"rgb(55, 128, 191)\", \"rgb(50, 171, 96)\", \"rgb(128, 0, 128)\", \"rgb(219, 64, 82)\", \"rgb(0, 128, 128)\", \"rgb(255, 255, 51)\", \"rgb(128, 128, 0)\", \"rgb(251, 128, 114)\", \"rgb(128, 177, 211)\"], \"line\": {\"width\": 1.3}, \"size\": [48, 75, 52, 46, 41, 51, 64, 69, 42, 77, 43, 65, 68, 52, 52, 35, 86, 74, 40, 84, 29, 56, 57, 49, 48, 72, 66, 62, 42, 78, 63, 56, 34, 65, 69, 24, 51, 77, 64, 38, 27, 30, 32, 47, 56, 65, 54, 59, 54, 62, 86, 34, 55, 70, 54, 97, 50, 112, 49, 87, 46, 49, 56, 53, 52, 64, 50, 57, 64, 61, 32, 68, 79, 43, 33, 68, 60, 77, 78, 55, 64, 33, 47, 51, 33, 60, 38, 79, 75, 65, 39, 79, 12, 24, 83, 61, 62, 33, 70, 61], \"symbol\": \"circle\"}, \"mode\": \"markers\", \"text\": \"\", \"type\": \"scatter\", \"x\": [-0.08041073899511382, -0.6151160222842449, -0.5808034456261486, -0.6313101469184043, 0.9904073723163997, -0.6000168852567765, -0.5885502387286373, 0.18477904428864386, -0.4658247851906445, 2.3793025312990492, 0.2248512998964256, -0.30685458058413345, 0.5172381715858361, -0.21324657521049858, 0.23972318572241827, -2.400589404618203, 1.3223199594970096, 0.015939906893203234, -1.5832259598996214, -0.9190489027321409, 0.4730113751642799, 1.0786363180926952, -0.24377659744999874, 0.164241978827947, 0.7942119330570302, -0.4127859722174128, 0.7413285662813682, 0.23375858805214605, 0.673503451591191, 0.7128011111584379, 0.5297155298435244, 0.6540302721696478, -2.447129797757341, -0.6606132960394067, 0.2696345343103929, 1.2699122431202663, 0.2042267331407826, 1.244375850736996, -0.8383955661986674, -1.0436526421274157, -2.3719224742430685, -0.2937573989694159, -1.1667387440013157, -0.20835829572494252, -1.582929180184313, -1.3905092681491171, -1.9684195498534138, -0.5474526877788535, 0.3506996957877933, 0.22490843267634683, 0.6626994263438095, -1.55666246535441, -1.4092970962638396, 1.7540500737250533, -1.1822357875421283, 0.8254351648968924, -0.8155332966176337, -0.7430699184182005, -0.5242445523082108, -0.02121914213591935, 0.11897271616306106, 1.24000155189826, -0.12412066012159768, 0.3157479923996985, -1.3899830415920824, -0.34760793802059503, 0.547682040129073, -0.41873296390333137, 0.30906930704823077, -0.5646573855391537, -0.2055027384609156, -0.44254018166501224, -0.47112623288718575, 0.1552416693165053, 0.0017384132179926366, -1.551593275455728, -0.4234921860598587, 0.6494343322625905, 0.5996077489180177, 1.1782413486752166, -0.5033606273925229, 0.819708204847244, 0.09016970646950159, -0.22042764299209439, -0.06249041005051703, -0.5067060750717906, -1.2848775632360026, -1.0439710960994422, 1.832071436334213, 0.6144142518560111, -1.4002975798711024, 0.018263481656676912, -0.44322620435757665, -0.21623864964117803, 1.217074233459462, -0.6536863255962454, 0.8595514673202337, 1.0207801556487885, -0.5916487604653361, -1.6019281391101097], \"y\": [0.5847521709987167, 1.416135425448743, -0.02193980163591156, 1.0013020771420085, -0.27740457105104066, -1.4447465497987408, -2.040204644799607, 1.0029081948520164, -0.2810971812517474, 1.0252737000345813, 0.27068526227379247, 1.1470770718279595, -0.5888546275328206, 1.4273380390131492, 0.2086171447182851, -0.2875421537307741, -0.9853532885603278, -1.2254474057149276, 0.2676216333451455, 1.081682934905261, 1.1632682266690813, 1.2871795766027607, 0.871104495281452, 1.8238537989591024, 1.2396782959198915, -0.5186902170664442, -0.28842788919227996, -0.09080974861107848, 0.3603274958193862, 0.15805756661314824, 0.15395301850870477, 0.08238213359689824, 0.37746101585567343, 0.2666193731972084, 0.08112154919247953, 0.18554268521858297, -0.5804771162529837, -0.4324114593114584, -0.09918022081792709, -0.09419899742061491, 1.225995859716065, 1.0982259621569304, 0.03021255486881537, 0.26093095351215384, 1.0032625749077733, -0.379901548088872, -0.542554141709257, -1.0772761392227095, 0.7239032100688596, -0.16543581199498433, 1.1078079827072325, 0.7709725457443424, -0.0344966046980537, -0.8226795974370851, -1.706777614049343, 0.9079931171013804, 0.18008700663392901, 0.749553874821924, -0.37702549696765186, 0.7724047186087337, 1.3120910818557805, 0.05125329456421593, 0.10017530538548051, -0.6895347209932827, 0.045048085035044004, 0.10646626592697084, -1.8058546002940823, -0.27251111619450097, 0.008851235048992899, -0.23179744833396781, 0.2432165859889888, 1.86200639032237, -3.0738387380541465, 1.3214852040849363, 0.22954225287636534, -1.260791826026142, -1.609125825572039, 0.11680930177241139, 0.748842781193093, -0.2806525071335359, 0.6766685021521556, 0.1587205355149384, 0.2888196524039874, -0.6507586318790385, 1.7789826623426028, -0.9605271280324573, 0.6957021260494419, 0.7388996977221987, -0.14437121754486948, 1.042838079438687, -0.44210180606067057, -0.9551581965860438, 0.9495665282329464, 0.23496425984077343, -0.33531161274819027, -0.13140202615689167, -0.42973470331868785, 0.7491272560677047, -1.074834820795073, 0.06366308205424531]}],\n",
       "                        {\"legend\": {\"bgcolor\": \"#F5F6F9\", \"font\": {\"color\": \"#4D5663\"}}, \"paper_bgcolor\": \"#F5F6F9\", \"plot_bgcolor\": \"#F5F6F9\", \"template\": {\"data\": {\"bar\": [{\"error_x\": {\"color\": \"#2a3f5f\"}, \"error_y\": {\"color\": \"#2a3f5f\"}, \"marker\": {\"line\": {\"color\": \"#E5ECF6\", \"width\": 0.5}}, \"type\": \"bar\"}], \"barpolar\": [{\"marker\": {\"line\": {\"color\": \"#E5ECF6\", \"width\": 0.5}}, \"type\": \"barpolar\"}], \"carpet\": [{\"aaxis\": {\"endlinecolor\": \"#2a3f5f\", \"gridcolor\": \"white\", \"linecolor\": \"white\", \"minorgridcolor\": \"white\", \"startlinecolor\": \"#2a3f5f\"}, \"baxis\": {\"endlinecolor\": \"#2a3f5f\", \"gridcolor\": \"white\", \"linecolor\": \"white\", \"minorgridcolor\": \"white\", \"startlinecolor\": \"#2a3f5f\"}, \"type\": \"carpet\"}], \"choropleth\": [{\"colorbar\": {\"outlinewidth\": 0, \"ticks\": \"\"}, \"type\": \"choropleth\"}], \"contour\": [{\"colorbar\": {\"outlinewidth\": 0, \"ticks\": \"\"}, \"colorscale\": [[0.0, \"#0d0887\"], [0.1111111111111111, \"#46039f\"], [0.2222222222222222, \"#7201a8\"], [0.3333333333333333, \"#9c179e\"], [0.4444444444444444, \"#bd3786\"], [0.5555555555555556, \"#d8576b\"], [0.6666666666666666, \"#ed7953\"], [0.7777777777777778, \"#fb9f3a\"], [0.8888888888888888, \"#fdca26\"], [1.0, \"#f0f921\"]], \"type\": \"contour\"}], \"contourcarpet\": [{\"colorbar\": {\"outlinewidth\": 0, \"ticks\": \"\"}, \"type\": \"contourcarpet\"}], \"heatmap\": [{\"colorbar\": {\"outlinewidth\": 0, \"ticks\": \"\"}, \"colorscale\": [[0.0, \"#0d0887\"], [0.1111111111111111, \"#46039f\"], [0.2222222222222222, \"#7201a8\"], [0.3333333333333333, \"#9c179e\"], [0.4444444444444444, \"#bd3786\"], [0.5555555555555556, \"#d8576b\"], [0.6666666666666666, \"#ed7953\"], [0.7777777777777778, \"#fb9f3a\"], [0.8888888888888888, \"#fdca26\"], [1.0, \"#f0f921\"]], \"type\": \"heatmap\"}], \"heatmapgl\": [{\"colorbar\": {\"outlinewidth\": 0, \"ticks\": \"\"}, \"colorscale\": [[0.0, \"#0d0887\"], [0.1111111111111111, \"#46039f\"], [0.2222222222222222, \"#7201a8\"], [0.3333333333333333, \"#9c179e\"], [0.4444444444444444, \"#bd3786\"], [0.5555555555555556, \"#d8576b\"], [0.6666666666666666, \"#ed7953\"], [0.7777777777777778, \"#fb9f3a\"], [0.8888888888888888, \"#fdca26\"], [1.0, \"#f0f921\"]], \"type\": \"heatmapgl\"}], \"histogram\": [{\"marker\": {\"colorbar\": {\"outlinewidth\": 0, \"ticks\": \"\"}}, \"type\": \"histogram\"}], \"histogram2d\": [{\"colorbar\": {\"outlinewidth\": 0, \"ticks\": \"\"}, \"colorscale\": [[0.0, \"#0d0887\"], [0.1111111111111111, \"#46039f\"], [0.2222222222222222, \"#7201a8\"], [0.3333333333333333, \"#9c179e\"], [0.4444444444444444, \"#bd3786\"], [0.5555555555555556, \"#d8576b\"], [0.6666666666666666, \"#ed7953\"], [0.7777777777777778, \"#fb9f3a\"], [0.8888888888888888, \"#fdca26\"], [1.0, \"#f0f921\"]], \"type\": \"histogram2d\"}], \"histogram2dcontour\": [{\"colorbar\": {\"outlinewidth\": 0, \"ticks\": \"\"}, \"colorscale\": [[0.0, \"#0d0887\"], [0.1111111111111111, \"#46039f\"], [0.2222222222222222, \"#7201a8\"], [0.3333333333333333, \"#9c179e\"], [0.4444444444444444, \"#bd3786\"], [0.5555555555555556, \"#d8576b\"], [0.6666666666666666, \"#ed7953\"], [0.7777777777777778, \"#fb9f3a\"], [0.8888888888888888, \"#fdca26\"], [1.0, \"#f0f921\"]], \"type\": \"histogram2dcontour\"}], \"mesh3d\": [{\"colorbar\": {\"outlinewidth\": 0, \"ticks\": \"\"}, \"type\": \"mesh3d\"}], \"parcoords\": [{\"line\": {\"colorbar\": {\"outlinewidth\": 0, \"ticks\": \"\"}}, \"type\": \"parcoords\"}], \"pie\": [{\"automargin\": true, \"type\": \"pie\"}], \"scatter\": [{\"marker\": {\"colorbar\": {\"outlinewidth\": 0, \"ticks\": \"\"}}, \"type\": \"scatter\"}], \"scatter3d\": [{\"line\": {\"colorbar\": {\"outlinewidth\": 0, \"ticks\": \"\"}}, \"marker\": {\"colorbar\": {\"outlinewidth\": 0, \"ticks\": \"\"}}, \"type\": \"scatter3d\"}], \"scattercarpet\": [{\"marker\": {\"colorbar\": {\"outlinewidth\": 0, \"ticks\": \"\"}}, \"type\": \"scattercarpet\"}], \"scattergeo\": [{\"marker\": {\"colorbar\": {\"outlinewidth\": 0, \"ticks\": \"\"}}, \"type\": \"scattergeo\"}], \"scattergl\": [{\"marker\": {\"colorbar\": {\"outlinewidth\": 0, \"ticks\": \"\"}}, \"type\": \"scattergl\"}], \"scattermapbox\": [{\"marker\": {\"colorbar\": {\"outlinewidth\": 0, \"ticks\": \"\"}}, \"type\": \"scattermapbox\"}], \"scatterpolar\": [{\"marker\": {\"colorbar\": {\"outlinewidth\": 0, \"ticks\": \"\"}}, \"type\": \"scatterpolar\"}], \"scatterpolargl\": [{\"marker\": {\"colorbar\": {\"outlinewidth\": 0, \"ticks\": \"\"}}, \"type\": \"scatterpolargl\"}], \"scatterternary\": [{\"marker\": {\"colorbar\": {\"outlinewidth\": 0, \"ticks\": \"\"}}, \"type\": \"scatterternary\"}], \"surface\": [{\"colorbar\": {\"outlinewidth\": 0, \"ticks\": \"\"}, \"colorscale\": [[0.0, \"#0d0887\"], [0.1111111111111111, \"#46039f\"], [0.2222222222222222, \"#7201a8\"], [0.3333333333333333, \"#9c179e\"], [0.4444444444444444, \"#bd3786\"], [0.5555555555555556, \"#d8576b\"], [0.6666666666666666, \"#ed7953\"], [0.7777777777777778, \"#fb9f3a\"], [0.8888888888888888, \"#fdca26\"], [1.0, \"#f0f921\"]], \"type\": \"surface\"}], \"table\": [{\"cells\": {\"fill\": {\"color\": \"#EBF0F8\"}, \"line\": {\"color\": \"white\"}}, \"header\": {\"fill\": {\"color\": \"#C8D4E3\"}, \"line\": {\"color\": \"white\"}}, \"type\": \"table\"}]}, \"layout\": {\"annotationdefaults\": {\"arrowcolor\": \"#2a3f5f\", \"arrowhead\": 0, \"arrowwidth\": 1}, \"coloraxis\": {\"colorbar\": {\"outlinewidth\": 0, \"ticks\": \"\"}}, \"colorscale\": {\"diverging\": [[0, \"#8e0152\"], [0.1, \"#c51b7d\"], [0.2, \"#de77ae\"], [0.3, \"#f1b6da\"], [0.4, \"#fde0ef\"], [0.5, \"#f7f7f7\"], [0.6, \"#e6f5d0\"], [0.7, \"#b8e186\"], [0.8, \"#7fbc41\"], [0.9, \"#4d9221\"], [1, \"#276419\"]], \"sequential\": [[0.0, \"#0d0887\"], [0.1111111111111111, \"#46039f\"], [0.2222222222222222, \"#7201a8\"], [0.3333333333333333, \"#9c179e\"], [0.4444444444444444, \"#bd3786\"], [0.5555555555555556, \"#d8576b\"], [0.6666666666666666, \"#ed7953\"], [0.7777777777777778, \"#fb9f3a\"], [0.8888888888888888, \"#fdca26\"], [1.0, \"#f0f921\"]], \"sequentialminus\": [[0.0, \"#0d0887\"], [0.1111111111111111, \"#46039f\"], [0.2222222222222222, \"#7201a8\"], [0.3333333333333333, \"#9c179e\"], [0.4444444444444444, \"#bd3786\"], [0.5555555555555556, \"#d8576b\"], [0.6666666666666666, \"#ed7953\"], [0.7777777777777778, \"#fb9f3a\"], [0.8888888888888888, \"#fdca26\"], [1.0, \"#f0f921\"]]}, \"colorway\": [\"#636efa\", \"#EF553B\", \"#00cc96\", \"#ab63fa\", \"#FFA15A\", \"#19d3f3\", \"#FF6692\", \"#B6E880\", \"#FF97FF\", \"#FECB52\"], \"font\": {\"color\": \"#2a3f5f\"}, \"geo\": {\"bgcolor\": \"white\", \"lakecolor\": \"white\", \"landcolor\": \"#E5ECF6\", \"showlakes\": true, \"showland\": true, \"subunitcolor\": \"white\"}, \"hoverlabel\": {\"align\": \"left\"}, \"hovermode\": \"closest\", \"mapbox\": {\"style\": \"light\"}, \"paper_bgcolor\": \"white\", \"plot_bgcolor\": \"#E5ECF6\", \"polar\": {\"angularaxis\": {\"gridcolor\": \"white\", \"linecolor\": \"white\", \"ticks\": \"\"}, \"bgcolor\": \"#E5ECF6\", \"radialaxis\": {\"gridcolor\": \"white\", \"linecolor\": \"white\", \"ticks\": \"\"}}, \"scene\": {\"xaxis\": {\"backgroundcolor\": \"#E5ECF6\", \"gridcolor\": \"white\", \"gridwidth\": 2, \"linecolor\": \"white\", \"showbackground\": true, \"ticks\": \"\", \"zerolinecolor\": \"white\"}, \"yaxis\": {\"backgroundcolor\": \"#E5ECF6\", \"gridcolor\": \"white\", \"gridwidth\": 2, \"linecolor\": \"white\", \"showbackground\": true, \"ticks\": \"\", \"zerolinecolor\": \"white\"}, \"zaxis\": {\"backgroundcolor\": \"#E5ECF6\", \"gridcolor\": \"white\", \"gridwidth\": 2, \"linecolor\": \"white\", \"showbackground\": true, \"ticks\": \"\", \"zerolinecolor\": \"white\"}}, \"shapedefaults\": {\"line\": {\"color\": \"#2a3f5f\"}}, \"ternary\": {\"aaxis\": {\"gridcolor\": \"white\", \"linecolor\": \"white\", \"ticks\": \"\"}, \"baxis\": {\"gridcolor\": \"white\", \"linecolor\": \"white\", \"ticks\": \"\"}, \"bgcolor\": \"#E5ECF6\", \"caxis\": {\"gridcolor\": \"white\", \"linecolor\": \"white\", \"ticks\": \"\"}}, \"title\": {\"x\": 0.05}, \"xaxis\": {\"automargin\": true, \"gridcolor\": \"white\", \"linecolor\": \"white\", \"ticks\": \"\", \"title\": {\"standoff\": 15}, \"zerolinecolor\": \"white\", \"zerolinewidth\": 2}, \"yaxis\": {\"automargin\": true, \"gridcolor\": \"white\", \"linecolor\": \"white\", \"ticks\": \"\", \"title\": {\"standoff\": 15}, \"zerolinecolor\": \"white\", \"zerolinewidth\": 2}}}, \"title\": {\"font\": {\"color\": \"#4D5663\"}}, \"xaxis\": {\"gridcolor\": \"#E1E5ED\", \"showgrid\": true, \"tickfont\": {\"color\": \"#4D5663\"}, \"title\": {\"font\": {\"color\": \"#4D5663\"}, \"text\": \"\"}, \"zerolinecolor\": \"#E1E5ED\"}, \"yaxis\": {\"gridcolor\": \"#E1E5ED\", \"showgrid\": true, \"tickfont\": {\"color\": \"#4D5663\"}, \"title\": {\"font\": {\"color\": \"#4D5663\"}, \"text\": \"\"}, \"zerolinecolor\": \"#E1E5ED\"}},\n",
       "                        {\"showLink\": true, \"linkText\": \"Export to plot.ly\", \"plotlyServerURL\": \"https://plot.ly\", \"responsive\": true}\n",
       "                    ).then(function(){\n",
       "                            \n",
       "var gd = document.getElementById('7414e193-bc23-4f2a-baf3-56ebd228ad5e');\n",
       "var x = new MutationObserver(function (mutations, observer) {{\n",
       "        var display = window.getComputedStyle(gd).display;\n",
       "        if (!display || display === 'none') {{\n",
       "            console.log([gd, 'removed!']);\n",
       "            Plotly.purge(gd);\n",
       "            observer.disconnect();\n",
       "        }}\n",
       "}});\n",
       "\n",
       "// Listen for the removal of the full notebook cells\n",
       "var notebookContainer = gd.closest('#notebook-container');\n",
       "if (notebookContainer) {{\n",
       "    x.observe(notebookContainer, {childList: true});\n",
       "}}\n",
       "\n",
       "// Listen for the clearing of the current output cell\n",
       "var outputEl = gd.closest('.output');\n",
       "if (outputEl) {{\n",
       "    x.observe(outputEl, {childList: true});\n",
       "}}\n",
       "\n",
       "                        })\n",
       "                };\n",
       "                });\n",
       "            </script>\n",
       "        </div>"
      ]
     },
     "metadata": {},
     "output_type": "display_data"
    }
   ],
   "source": [
    "df.iplot(kind='bubble',x='A',y='B',size='C')"
   ]
  },
  {
   "cell_type": "code",
   "execution_count": 25,
   "metadata": {},
   "outputs": [
    {
     "data": {
      "application/vnd.plotly.v1+json": {
       "config": {
        "linkText": "Export to plot.ly",
        "plotlyServerURL": "https://plot.ly",
        "showLink": true
       },
       "data": [
        {
         "histfunc": "count",
         "histnorm": "",
         "marker": {
          "color": "rgba(255, 153, 51, 1.0)",
          "line": {
           "color": "#4D5663",
           "width": 1.3
          }
         },
         "name": "A",
         "nbinsx": 10,
         "opacity": 0.8,
         "orientation": "v",
         "type": "histogram",
         "x": [
          -0.08041073899511382,
          -0.6151160222842449,
          -0.5808034456261486,
          -0.6313101469184043,
          0.9904073723163997,
          -0.6000168852567765,
          -0.5885502387286373,
          0.18477904428864386,
          -0.4658247851906445,
          2.3793025312990492,
          0.2248512998964256,
          -0.30685458058413345,
          0.5172381715858361,
          -0.21324657521049858,
          0.23972318572241827,
          -2.400589404618203,
          1.3223199594970096,
          0.015939906893203234,
          -1.5832259598996214,
          -0.9190489027321409,
          0.4730113751642799,
          1.0786363180926952,
          -0.24377659744999874,
          0.164241978827947,
          0.7942119330570302,
          -0.4127859722174128,
          0.7413285662813682,
          0.23375858805214605,
          0.673503451591191,
          0.7128011111584379,
          0.5297155298435244,
          0.6540302721696478,
          -2.447129797757341,
          -0.6606132960394067,
          0.2696345343103929,
          1.2699122431202663,
          0.2042267331407826,
          1.244375850736996,
          -0.8383955661986674,
          -1.0436526421274157,
          -2.3719224742430685,
          -0.2937573989694159,
          -1.1667387440013157,
          -0.20835829572494252,
          -1.582929180184313,
          -1.3905092681491171,
          -1.9684195498534138,
          -0.5474526877788535,
          0.3506996957877933,
          0.22490843267634683,
          0.6626994263438095,
          -1.55666246535441,
          -1.4092970962638396,
          1.7540500737250533,
          -1.1822357875421283,
          0.8254351648968924,
          -0.8155332966176337,
          -0.7430699184182005,
          -0.5242445523082108,
          -0.02121914213591935,
          0.11897271616306106,
          1.24000155189826,
          -0.12412066012159768,
          0.3157479923996985,
          -1.3899830415920824,
          -0.34760793802059503,
          0.547682040129073,
          -0.41873296390333137,
          0.30906930704823077,
          -0.5646573855391537,
          -0.2055027384609156,
          -0.44254018166501224,
          -0.47112623288718575,
          0.1552416693165053,
          0.0017384132179926366,
          -1.551593275455728,
          -0.4234921860598587,
          0.6494343322625905,
          0.5996077489180177,
          1.1782413486752166,
          -0.5033606273925229,
          0.819708204847244,
          0.09016970646950159,
          -0.22042764299209439,
          -0.06249041005051703,
          -0.5067060750717906,
          -1.2848775632360026,
          -1.0439710960994422,
          1.832071436334213,
          0.6144142518560111,
          -1.4002975798711024,
          0.018263481656676912,
          -0.44322620435757665,
          -0.21623864964117803,
          1.217074233459462,
          -0.6536863255962454,
          0.8595514673202337,
          1.0207801556487885,
          -0.5916487604653361,
          -1.6019281391101097
         ],
         "xaxis": "x",
         "yaxis": "y"
        },
        {
         "line": {
          "color": "rgba(128, 128, 128, 1.0)",
          "dash": "solid",
          "shape": "linear",
          "width": 1.3
         },
         "marker": {
          "size": 2,
          "symbol": "circle"
         },
         "mode": "markers",
         "name": "A",
         "text": "",
         "type": "scatter",
         "x": [
          0.5847521709987167,
          1.416135425448743,
          -0.02193980163591156,
          1.0013020771420085,
          -0.27740457105104066,
          -1.4447465497987408,
          -2.040204644799607,
          1.0029081948520164,
          -0.2810971812517474,
          1.0252737000345813,
          0.27068526227379247,
          1.1470770718279595,
          -0.5888546275328206,
          1.4273380390131492,
          0.2086171447182851,
          -0.2875421537307741,
          -0.9853532885603278,
          -1.2254474057149276,
          0.2676216333451455,
          1.081682934905261,
          1.1632682266690813,
          1.2871795766027607,
          0.871104495281452,
          1.8238537989591024,
          1.2396782959198915,
          -0.5186902170664442,
          -0.28842788919227996,
          -0.09080974861107848,
          0.3603274958193862,
          0.15805756661314824,
          0.15395301850870477,
          0.08238213359689824,
          0.37746101585567343,
          0.2666193731972084,
          0.08112154919247953,
          0.18554268521858297,
          -0.5804771162529837,
          -0.4324114593114584,
          -0.09918022081792709,
          -0.09419899742061491,
          1.225995859716065,
          1.0982259621569304,
          0.03021255486881537,
          0.26093095351215384,
          1.0032625749077733,
          -0.379901548088872,
          -0.542554141709257,
          -1.0772761392227095,
          0.7239032100688596,
          -0.16543581199498433,
          1.1078079827072325,
          0.7709725457443424,
          -0.0344966046980537,
          -0.8226795974370851,
          -1.706777614049343,
          0.9079931171013804,
          0.18008700663392901,
          0.749553874821924,
          -0.37702549696765186,
          0.7724047186087337,
          1.3120910818557805,
          0.05125329456421593,
          0.10017530538548051,
          -0.6895347209932827,
          0.045048085035044004,
          0.10646626592697084,
          -1.8058546002940823,
          -0.27251111619450097,
          0.008851235048992899,
          -0.23179744833396781,
          0.2432165859889888,
          1.86200639032237,
          -3.0738387380541465,
          1.3214852040849363,
          0.22954225287636534,
          -1.260791826026142,
          -1.609125825572039,
          0.11680930177241139,
          0.748842781193093,
          -0.2806525071335359,
          0.6766685021521556,
          0.1587205355149384,
          0.2888196524039874,
          -0.6507586318790385,
          1.7789826623426028,
          -0.9605271280324573,
          0.6957021260494419,
          0.7388996977221987,
          -0.14437121754486948,
          1.042838079438687,
          -0.44210180606067057,
          -0.9551581965860438,
          0.9495665282329464,
          0.23496425984077343,
          -0.33531161274819027,
          -0.13140202615689167,
          -0.42973470331868785,
          0.7491272560677047,
          -1.074834820795073,
          0.06366308205424531
         ],
         "xaxis": "x2",
         "y": [
          -0.08041073899511382,
          -0.6151160222842449,
          -0.5808034456261486,
          -0.6313101469184043,
          0.9904073723163997,
          -0.6000168852567765,
          -0.5885502387286373,
          0.18477904428864386,
          -0.4658247851906445,
          2.3793025312990492,
          0.2248512998964256,
          -0.30685458058413345,
          0.5172381715858361,
          -0.21324657521049858,
          0.23972318572241827,
          -2.400589404618203,
          1.3223199594970096,
          0.015939906893203234,
          -1.5832259598996214,
          -0.9190489027321409,
          0.4730113751642799,
          1.0786363180926952,
          -0.24377659744999874,
          0.164241978827947,
          0.7942119330570302,
          -0.4127859722174128,
          0.7413285662813682,
          0.23375858805214605,
          0.673503451591191,
          0.7128011111584379,
          0.5297155298435244,
          0.6540302721696478,
          -2.447129797757341,
          -0.6606132960394067,
          0.2696345343103929,
          1.2699122431202663,
          0.2042267331407826,
          1.244375850736996,
          -0.8383955661986674,
          -1.0436526421274157,
          -2.3719224742430685,
          -0.2937573989694159,
          -1.1667387440013157,
          -0.20835829572494252,
          -1.582929180184313,
          -1.3905092681491171,
          -1.9684195498534138,
          -0.5474526877788535,
          0.3506996957877933,
          0.22490843267634683,
          0.6626994263438095,
          -1.55666246535441,
          -1.4092970962638396,
          1.7540500737250533,
          -1.1822357875421283,
          0.8254351648968924,
          -0.8155332966176337,
          -0.7430699184182005,
          -0.5242445523082108,
          -0.02121914213591935,
          0.11897271616306106,
          1.24000155189826,
          -0.12412066012159768,
          0.3157479923996985,
          -1.3899830415920824,
          -0.34760793802059503,
          0.547682040129073,
          -0.41873296390333137,
          0.30906930704823077,
          -0.5646573855391537,
          -0.2055027384609156,
          -0.44254018166501224,
          -0.47112623288718575,
          0.1552416693165053,
          0.0017384132179926366,
          -1.551593275455728,
          -0.4234921860598587,
          0.6494343322625905,
          0.5996077489180177,
          1.1782413486752166,
          -0.5033606273925229,
          0.819708204847244,
          0.09016970646950159,
          -0.22042764299209439,
          -0.06249041005051703,
          -0.5067060750717906,
          -1.2848775632360026,
          -1.0439710960994422,
          1.832071436334213,
          0.6144142518560111,
          -1.4002975798711024,
          0.018263481656676912,
          -0.44322620435757665,
          -0.21623864964117803,
          1.217074233459462,
          -0.6536863255962454,
          0.8595514673202337,
          1.0207801556487885,
          -0.5916487604653361,
          -1.6019281391101097
         ],
         "yaxis": "y2"
        },
        {
         "line": {
          "color": "rgba(128, 128, 128, 1.0)",
          "dash": "solid",
          "shape": "linear",
          "width": 1.3
         },
         "marker": {
          "size": 2,
          "symbol": "circle"
         },
         "mode": "markers",
         "name": "A",
         "text": "",
         "type": "scatter",
         "x": [
          -0.5040713695527463,
          1.2784202450241422,
          -0.232759559818154,
          -0.679654541573124,
          -1.011015422291063,
          -0.32187289353674653,
          0.5627893851315948,
          0.9098914259540819,
          -0.919821032957485,
          1.3941803932409902,
          -0.8550758261359718,
          0.6243531459906352,
          0.8400190416731714,
          -0.2753615192589795,
          -0.2585792639496748,
          -1.397884102026485,
          2.0228648522783246,
          1.2477712691964573,
          -1.060055996065693,
          1.8599201417821452,
          -1.764864488117764,
          -0.0028176670282632644,
          0.0692372225869619,
          -0.4791952902270925,
          -0.5419858833833523,
          1.0815002014773385,
          0.7170715008741838,
          0.3933653744163969,
          -0.9035266056041219,
          1.499299058408644,
          0.4842143177576148,
          -0.011608012127365093,
          -1.4602517038263843,
          0.6068444434417665,
          0.903137943058507,
          -2.1545184577840715,
          -0.3108598498176006,
          1.419811759778885,
          0.5220044477439261,
          -1.2035550381761686,
          -1.938620334238564,
          -1.7339789706381616,
          -1.6140469676885045,
          -0.6071544703879108,
          0.016490473613038428,
          0.5860273908655671,
          -0.1151062845554965,
          0.23816785737402918,
          -0.12246295081874024,
          0.40136628538593233,
          2.0380763326821327,
          -1.4909840779242247,
          -0.025328622959499288,
          0.9732231166084475,
          -0.12548941087916854,
          2.7713894872401066,
          -0.3574211382468966,
          3.734238465340607,
          -0.46444052612085,
          2.0816217769462324,
          -0.6675661579125914,
          -0.44237890841309857,
          -0.01729481874918793,
          -0.16016386308921032,
          -0.2774752711858284,
          0.5824575495784985,
          -0.4169110547024678,
          0.055149602105424494,
          0.5502152645938555,
          0.3359015858865263,
          -1.601271848893958,
          0.7906604686356005,
          1.5591393363957884,
          -0.862791098485518,
          -1.5256277083293754,
          0.8437511523936281,
          0.313892080669878,
          1.394700971566019,
          1.4676191999753831,
          -0.08584012243973556,
          0.5339217143585893,
          -1.504967502787583,
          -0.6120937712731666,
          -0.32499689256595293,
          -1.5343027825929318,
          0.29700259098519144,
          -1.2118965789837157,
          1.5361194292633042,
          1.2932770588128062,
          0.6139310695919133,
          -1.1292865063306947,
          1.5296234784013558,
          -2.968692751946457,
          -2.1464598410941362,
          1.8393753279299379,
          0.33505069399545345,
          0.4115653585619959,
          -1.5276411041474476,
          0.9440653214584742,
          0.3297241147261427
         ],
         "xaxis": "x3",
         "y": [
          -0.08041073899511382,
          -0.6151160222842449,
          -0.5808034456261486,
          -0.6313101469184043,
          0.9904073723163997,
          -0.6000168852567765,
          -0.5885502387286373,
          0.18477904428864386,
          -0.4658247851906445,
          2.3793025312990492,
          0.2248512998964256,
          -0.30685458058413345,
          0.5172381715858361,
          -0.21324657521049858,
          0.23972318572241827,
          -2.400589404618203,
          1.3223199594970096,
          0.015939906893203234,
          -1.5832259598996214,
          -0.9190489027321409,
          0.4730113751642799,
          1.0786363180926952,
          -0.24377659744999874,
          0.164241978827947,
          0.7942119330570302,
          -0.4127859722174128,
          0.7413285662813682,
          0.23375858805214605,
          0.673503451591191,
          0.7128011111584379,
          0.5297155298435244,
          0.6540302721696478,
          -2.447129797757341,
          -0.6606132960394067,
          0.2696345343103929,
          1.2699122431202663,
          0.2042267331407826,
          1.244375850736996,
          -0.8383955661986674,
          -1.0436526421274157,
          -2.3719224742430685,
          -0.2937573989694159,
          -1.1667387440013157,
          -0.20835829572494252,
          -1.582929180184313,
          -1.3905092681491171,
          -1.9684195498534138,
          -0.5474526877788535,
          0.3506996957877933,
          0.22490843267634683,
          0.6626994263438095,
          -1.55666246535441,
          -1.4092970962638396,
          1.7540500737250533,
          -1.1822357875421283,
          0.8254351648968924,
          -0.8155332966176337,
          -0.7430699184182005,
          -0.5242445523082108,
          -0.02121914213591935,
          0.11897271616306106,
          1.24000155189826,
          -0.12412066012159768,
          0.3157479923996985,
          -1.3899830415920824,
          -0.34760793802059503,
          0.547682040129073,
          -0.41873296390333137,
          0.30906930704823077,
          -0.5646573855391537,
          -0.2055027384609156,
          -0.44254018166501224,
          -0.47112623288718575,
          0.1552416693165053,
          0.0017384132179926366,
          -1.551593275455728,
          -0.4234921860598587,
          0.6494343322625905,
          0.5996077489180177,
          1.1782413486752166,
          -0.5033606273925229,
          0.819708204847244,
          0.09016970646950159,
          -0.22042764299209439,
          -0.06249041005051703,
          -0.5067060750717906,
          -1.2848775632360026,
          -1.0439710960994422,
          1.832071436334213,
          0.6144142518560111,
          -1.4002975798711024,
          0.018263481656676912,
          -0.44322620435757665,
          -0.21623864964117803,
          1.217074233459462,
          -0.6536863255962454,
          0.8595514673202337,
          1.0207801556487885,
          -0.5916487604653361,
          -1.6019281391101097
         ],
         "yaxis": "y3"
        },
        {
         "line": {
          "color": "rgba(128, 128, 128, 1.0)",
          "dash": "solid",
          "shape": "linear",
          "width": 1.3
         },
         "marker": {
          "size": 2,
          "symbol": "circle"
         },
         "mode": "markers",
         "name": "A",
         "text": "",
         "type": "scatter",
         "x": [
          0.147199008262158,
          -0.563686978408816,
          0.1935185857215168,
          0.06840872775042404,
          0.1495860276063127,
          -0.8164809652651062,
          -0.03755299361077514,
          2.16471625140727,
          -0.34931218728287555,
          -0.2573289939274511,
          -0.5680249136999246,
          0.9181415900935799,
          1.321338369334238,
          1.332633119254535,
          2.1581578214595436,
          0.21286874663937458,
          -1.8614697995147869,
          -0.5729290697190624,
          0.03261376641186569,
          -1.1770551496854273,
          0.20300807264543783,
          -0.14352954695035344,
          -0.16130578648867752,
          -0.3995783925199026,
          -1.391241890619133,
          -2.1853691633372065,
          -0.28535812114966413,
          -1.7245923419414135,
          -0.35817612202427035,
          -0.9736601782085923,
          -0.21704879400756347,
          0.7508225135202804,
          0.596438122673971,
          0.9426675051446728,
          0.1572280919665969,
          -0.7535541711230572,
          2.2197282238715954,
          0.15052024275036946,
          1.2591220807775882,
          0.7994078284047268,
          -1.3881394922499757,
          -0.6765960739949137,
          0.578550011685769,
          0.9074333403473867,
          0.059755663613654725,
          -0.6476788073122589,
          0.6103870459005785,
          1.133778049413226,
          0.81777998473848,
          -0.6570318674944937,
          -1.5939903612997313,
          0.09708514346645437,
          -0.4908422518775322,
          -0.05519433581355638,
          0.042019189836366225,
          0.344579576899029,
          1.7058074601968831,
          0.19227957518063715,
          0.6427875137342878,
          -0.09204230995282851,
          0.18196191470320913,
          -0.7485204223778648,
          0.9199953795007977,
          2.270056674567012,
          0.06257992560858991,
          -1.7113170970229996,
          0.7057637431230915,
          0.3212281661851288,
          -1.4999545476309766,
          -0.2457876549511953,
          -0.5026702726458508,
          -0.8378694624017728,
          -0.4872835426161976,
          -1.2615035368256935,
          -2.5115754988356915,
          0.9864890564788301,
          0.396737779794545,
          -1.4657789023223258,
          -0.3397456170067192,
          0.418144597004115,
          -0.1294529667117238,
          0.004876764515848807,
          1.0361484126515212,
          -1.9379241744374494,
          -0.4812544862291755,
          -2.7247504675261713,
          -2.046209405926666,
          1.3399502426202767,
          -0.4939451562461667,
          -1.334287348674052,
          3.057171462123101,
          -0.22997419115912268,
          -1.0939365000600445,
          -0.019393103391439844,
          -0.19999322336046782,
          -0.5498380394261451,
          -0.46143539445536796,
          -1.7438430263031461,
          -0.35178030279427575,
          -0.18192593046993333
         ],
         "xaxis": "x4",
         "y": [
          -0.08041073899511382,
          -0.6151160222842449,
          -0.5808034456261486,
          -0.6313101469184043,
          0.9904073723163997,
          -0.6000168852567765,
          -0.5885502387286373,
          0.18477904428864386,
          -0.4658247851906445,
          2.3793025312990492,
          0.2248512998964256,
          -0.30685458058413345,
          0.5172381715858361,
          -0.21324657521049858,
          0.23972318572241827,
          -2.400589404618203,
          1.3223199594970096,
          0.015939906893203234,
          -1.5832259598996214,
          -0.9190489027321409,
          0.4730113751642799,
          1.0786363180926952,
          -0.24377659744999874,
          0.164241978827947,
          0.7942119330570302,
          -0.4127859722174128,
          0.7413285662813682,
          0.23375858805214605,
          0.673503451591191,
          0.7128011111584379,
          0.5297155298435244,
          0.6540302721696478,
          -2.447129797757341,
          -0.6606132960394067,
          0.2696345343103929,
          1.2699122431202663,
          0.2042267331407826,
          1.244375850736996,
          -0.8383955661986674,
          -1.0436526421274157,
          -2.3719224742430685,
          -0.2937573989694159,
          -1.1667387440013157,
          -0.20835829572494252,
          -1.582929180184313,
          -1.3905092681491171,
          -1.9684195498534138,
          -0.5474526877788535,
          0.3506996957877933,
          0.22490843267634683,
          0.6626994263438095,
          -1.55666246535441,
          -1.4092970962638396,
          1.7540500737250533,
          -1.1822357875421283,
          0.8254351648968924,
          -0.8155332966176337,
          -0.7430699184182005,
          -0.5242445523082108,
          -0.02121914213591935,
          0.11897271616306106,
          1.24000155189826,
          -0.12412066012159768,
          0.3157479923996985,
          -1.3899830415920824,
          -0.34760793802059503,
          0.547682040129073,
          -0.41873296390333137,
          0.30906930704823077,
          -0.5646573855391537,
          -0.2055027384609156,
          -0.44254018166501224,
          -0.47112623288718575,
          0.1552416693165053,
          0.0017384132179926366,
          -1.551593275455728,
          -0.4234921860598587,
          0.6494343322625905,
          0.5996077489180177,
          1.1782413486752166,
          -0.5033606273925229,
          0.819708204847244,
          0.09016970646950159,
          -0.22042764299209439,
          -0.06249041005051703,
          -0.5067060750717906,
          -1.2848775632360026,
          -1.0439710960994422,
          1.832071436334213,
          0.6144142518560111,
          -1.4002975798711024,
          0.018263481656676912,
          -0.44322620435757665,
          -0.21623864964117803,
          1.217074233459462,
          -0.6536863255962454,
          0.8595514673202337,
          1.0207801556487885,
          -0.5916487604653361,
          -1.6019281391101097
         ],
         "yaxis": "y4"
        },
        {
         "line": {
          "color": "rgba(128, 128, 128, 1.0)",
          "dash": "solid",
          "shape": "linear",
          "width": 1.3
         },
         "marker": {
          "size": 2,
          "symbol": "circle"
         },
         "mode": "markers",
         "name": "B",
         "text": "",
         "type": "scatter",
         "x": [
          -0.08041073899511382,
          -0.6151160222842449,
          -0.5808034456261486,
          -0.6313101469184043,
          0.9904073723163997,
          -0.6000168852567765,
          -0.5885502387286373,
          0.18477904428864386,
          -0.4658247851906445,
          2.3793025312990492,
          0.2248512998964256,
          -0.30685458058413345,
          0.5172381715858361,
          -0.21324657521049858,
          0.23972318572241827,
          -2.400589404618203,
          1.3223199594970096,
          0.015939906893203234,
          -1.5832259598996214,
          -0.9190489027321409,
          0.4730113751642799,
          1.0786363180926952,
          -0.24377659744999874,
          0.164241978827947,
          0.7942119330570302,
          -0.4127859722174128,
          0.7413285662813682,
          0.23375858805214605,
          0.673503451591191,
          0.7128011111584379,
          0.5297155298435244,
          0.6540302721696478,
          -2.447129797757341,
          -0.6606132960394067,
          0.2696345343103929,
          1.2699122431202663,
          0.2042267331407826,
          1.244375850736996,
          -0.8383955661986674,
          -1.0436526421274157,
          -2.3719224742430685,
          -0.2937573989694159,
          -1.1667387440013157,
          -0.20835829572494252,
          -1.582929180184313,
          -1.3905092681491171,
          -1.9684195498534138,
          -0.5474526877788535,
          0.3506996957877933,
          0.22490843267634683,
          0.6626994263438095,
          -1.55666246535441,
          -1.4092970962638396,
          1.7540500737250533,
          -1.1822357875421283,
          0.8254351648968924,
          -0.8155332966176337,
          -0.7430699184182005,
          -0.5242445523082108,
          -0.02121914213591935,
          0.11897271616306106,
          1.24000155189826,
          -0.12412066012159768,
          0.3157479923996985,
          -1.3899830415920824,
          -0.34760793802059503,
          0.547682040129073,
          -0.41873296390333137,
          0.30906930704823077,
          -0.5646573855391537,
          -0.2055027384609156,
          -0.44254018166501224,
          -0.47112623288718575,
          0.1552416693165053,
          0.0017384132179926366,
          -1.551593275455728,
          -0.4234921860598587,
          0.6494343322625905,
          0.5996077489180177,
          1.1782413486752166,
          -0.5033606273925229,
          0.819708204847244,
          0.09016970646950159,
          -0.22042764299209439,
          -0.06249041005051703,
          -0.5067060750717906,
          -1.2848775632360026,
          -1.0439710960994422,
          1.832071436334213,
          0.6144142518560111,
          -1.4002975798711024,
          0.018263481656676912,
          -0.44322620435757665,
          -0.21623864964117803,
          1.217074233459462,
          -0.6536863255962454,
          0.8595514673202337,
          1.0207801556487885,
          -0.5916487604653361,
          -1.6019281391101097
         ],
         "xaxis": "x5",
         "y": [
          0.5847521709987167,
          1.416135425448743,
          -0.02193980163591156,
          1.0013020771420085,
          -0.27740457105104066,
          -1.4447465497987408,
          -2.040204644799607,
          1.0029081948520164,
          -0.2810971812517474,
          1.0252737000345813,
          0.27068526227379247,
          1.1470770718279595,
          -0.5888546275328206,
          1.4273380390131492,
          0.2086171447182851,
          -0.2875421537307741,
          -0.9853532885603278,
          -1.2254474057149276,
          0.2676216333451455,
          1.081682934905261,
          1.1632682266690813,
          1.2871795766027607,
          0.871104495281452,
          1.8238537989591024,
          1.2396782959198915,
          -0.5186902170664442,
          -0.28842788919227996,
          -0.09080974861107848,
          0.3603274958193862,
          0.15805756661314824,
          0.15395301850870477,
          0.08238213359689824,
          0.37746101585567343,
          0.2666193731972084,
          0.08112154919247953,
          0.18554268521858297,
          -0.5804771162529837,
          -0.4324114593114584,
          -0.09918022081792709,
          -0.09419899742061491,
          1.225995859716065,
          1.0982259621569304,
          0.03021255486881537,
          0.26093095351215384,
          1.0032625749077733,
          -0.379901548088872,
          -0.542554141709257,
          -1.0772761392227095,
          0.7239032100688596,
          -0.16543581199498433,
          1.1078079827072325,
          0.7709725457443424,
          -0.0344966046980537,
          -0.8226795974370851,
          -1.706777614049343,
          0.9079931171013804,
          0.18008700663392901,
          0.749553874821924,
          -0.37702549696765186,
          0.7724047186087337,
          1.3120910818557805,
          0.05125329456421593,
          0.10017530538548051,
          -0.6895347209932827,
          0.045048085035044004,
          0.10646626592697084,
          -1.8058546002940823,
          -0.27251111619450097,
          0.008851235048992899,
          -0.23179744833396781,
          0.2432165859889888,
          1.86200639032237,
          -3.0738387380541465,
          1.3214852040849363,
          0.22954225287636534,
          -1.260791826026142,
          -1.609125825572039,
          0.11680930177241139,
          0.748842781193093,
          -0.2806525071335359,
          0.6766685021521556,
          0.1587205355149384,
          0.2888196524039874,
          -0.6507586318790385,
          1.7789826623426028,
          -0.9605271280324573,
          0.6957021260494419,
          0.7388996977221987,
          -0.14437121754486948,
          1.042838079438687,
          -0.44210180606067057,
          -0.9551581965860438,
          0.9495665282329464,
          0.23496425984077343,
          -0.33531161274819027,
          -0.13140202615689167,
          -0.42973470331868785,
          0.7491272560677047,
          -1.074834820795073,
          0.06366308205424531
         ],
         "yaxis": "y5"
        },
        {
         "histfunc": "count",
         "histnorm": "",
         "marker": {
          "color": "rgba(55, 128, 191, 1.0)",
          "line": {
           "color": "#4D5663",
           "width": 1.3
          }
         },
         "name": "B",
         "nbinsx": 10,
         "opacity": 0.8,
         "orientation": "v",
         "type": "histogram",
         "x": [
          0.5847521709987167,
          1.416135425448743,
          -0.02193980163591156,
          1.0013020771420085,
          -0.27740457105104066,
          -1.4447465497987408,
          -2.040204644799607,
          1.0029081948520164,
          -0.2810971812517474,
          1.0252737000345813,
          0.27068526227379247,
          1.1470770718279595,
          -0.5888546275328206,
          1.4273380390131492,
          0.2086171447182851,
          -0.2875421537307741,
          -0.9853532885603278,
          -1.2254474057149276,
          0.2676216333451455,
          1.081682934905261,
          1.1632682266690813,
          1.2871795766027607,
          0.871104495281452,
          1.8238537989591024,
          1.2396782959198915,
          -0.5186902170664442,
          -0.28842788919227996,
          -0.09080974861107848,
          0.3603274958193862,
          0.15805756661314824,
          0.15395301850870477,
          0.08238213359689824,
          0.37746101585567343,
          0.2666193731972084,
          0.08112154919247953,
          0.18554268521858297,
          -0.5804771162529837,
          -0.4324114593114584,
          -0.09918022081792709,
          -0.09419899742061491,
          1.225995859716065,
          1.0982259621569304,
          0.03021255486881537,
          0.26093095351215384,
          1.0032625749077733,
          -0.379901548088872,
          -0.542554141709257,
          -1.0772761392227095,
          0.7239032100688596,
          -0.16543581199498433,
          1.1078079827072325,
          0.7709725457443424,
          -0.0344966046980537,
          -0.8226795974370851,
          -1.706777614049343,
          0.9079931171013804,
          0.18008700663392901,
          0.749553874821924,
          -0.37702549696765186,
          0.7724047186087337,
          1.3120910818557805,
          0.05125329456421593,
          0.10017530538548051,
          -0.6895347209932827,
          0.045048085035044004,
          0.10646626592697084,
          -1.8058546002940823,
          -0.27251111619450097,
          0.008851235048992899,
          -0.23179744833396781,
          0.2432165859889888,
          1.86200639032237,
          -3.0738387380541465,
          1.3214852040849363,
          0.22954225287636534,
          -1.260791826026142,
          -1.609125825572039,
          0.11680930177241139,
          0.748842781193093,
          -0.2806525071335359,
          0.6766685021521556,
          0.1587205355149384,
          0.2888196524039874,
          -0.6507586318790385,
          1.7789826623426028,
          -0.9605271280324573,
          0.6957021260494419,
          0.7388996977221987,
          -0.14437121754486948,
          1.042838079438687,
          -0.44210180606067057,
          -0.9551581965860438,
          0.9495665282329464,
          0.23496425984077343,
          -0.33531161274819027,
          -0.13140202615689167,
          -0.42973470331868785,
          0.7491272560677047,
          -1.074834820795073,
          0.06366308205424531
         ],
         "xaxis": "x6",
         "yaxis": "y6"
        },
        {
         "line": {
          "color": "rgba(128, 128, 128, 1.0)",
          "dash": "solid",
          "shape": "linear",
          "width": 1.3
         },
         "marker": {
          "size": 2,
          "symbol": "circle"
         },
         "mode": "markers",
         "name": "B",
         "text": "",
         "type": "scatter",
         "x": [
          -0.5040713695527463,
          1.2784202450241422,
          -0.232759559818154,
          -0.679654541573124,
          -1.011015422291063,
          -0.32187289353674653,
          0.5627893851315948,
          0.9098914259540819,
          -0.919821032957485,
          1.3941803932409902,
          -0.8550758261359718,
          0.6243531459906352,
          0.8400190416731714,
          -0.2753615192589795,
          -0.2585792639496748,
          -1.397884102026485,
          2.0228648522783246,
          1.2477712691964573,
          -1.060055996065693,
          1.8599201417821452,
          -1.764864488117764,
          -0.0028176670282632644,
          0.0692372225869619,
          -0.4791952902270925,
          -0.5419858833833523,
          1.0815002014773385,
          0.7170715008741838,
          0.3933653744163969,
          -0.9035266056041219,
          1.499299058408644,
          0.4842143177576148,
          -0.011608012127365093,
          -1.4602517038263843,
          0.6068444434417665,
          0.903137943058507,
          -2.1545184577840715,
          -0.3108598498176006,
          1.419811759778885,
          0.5220044477439261,
          -1.2035550381761686,
          -1.938620334238564,
          -1.7339789706381616,
          -1.6140469676885045,
          -0.6071544703879108,
          0.016490473613038428,
          0.5860273908655671,
          -0.1151062845554965,
          0.23816785737402918,
          -0.12246295081874024,
          0.40136628538593233,
          2.0380763326821327,
          -1.4909840779242247,
          -0.025328622959499288,
          0.9732231166084475,
          -0.12548941087916854,
          2.7713894872401066,
          -0.3574211382468966,
          3.734238465340607,
          -0.46444052612085,
          2.0816217769462324,
          -0.6675661579125914,
          -0.44237890841309857,
          -0.01729481874918793,
          -0.16016386308921032,
          -0.2774752711858284,
          0.5824575495784985,
          -0.4169110547024678,
          0.055149602105424494,
          0.5502152645938555,
          0.3359015858865263,
          -1.601271848893958,
          0.7906604686356005,
          1.5591393363957884,
          -0.862791098485518,
          -1.5256277083293754,
          0.8437511523936281,
          0.313892080669878,
          1.394700971566019,
          1.4676191999753831,
          -0.08584012243973556,
          0.5339217143585893,
          -1.504967502787583,
          -0.6120937712731666,
          -0.32499689256595293,
          -1.5343027825929318,
          0.29700259098519144,
          -1.2118965789837157,
          1.5361194292633042,
          1.2932770588128062,
          0.6139310695919133,
          -1.1292865063306947,
          1.5296234784013558,
          -2.968692751946457,
          -2.1464598410941362,
          1.8393753279299379,
          0.33505069399545345,
          0.4115653585619959,
          -1.5276411041474476,
          0.9440653214584742,
          0.3297241147261427
         ],
         "xaxis": "x7",
         "y": [
          0.5847521709987167,
          1.416135425448743,
          -0.02193980163591156,
          1.0013020771420085,
          -0.27740457105104066,
          -1.4447465497987408,
          -2.040204644799607,
          1.0029081948520164,
          -0.2810971812517474,
          1.0252737000345813,
          0.27068526227379247,
          1.1470770718279595,
          -0.5888546275328206,
          1.4273380390131492,
          0.2086171447182851,
          -0.2875421537307741,
          -0.9853532885603278,
          -1.2254474057149276,
          0.2676216333451455,
          1.081682934905261,
          1.1632682266690813,
          1.2871795766027607,
          0.871104495281452,
          1.8238537989591024,
          1.2396782959198915,
          -0.5186902170664442,
          -0.28842788919227996,
          -0.09080974861107848,
          0.3603274958193862,
          0.15805756661314824,
          0.15395301850870477,
          0.08238213359689824,
          0.37746101585567343,
          0.2666193731972084,
          0.08112154919247953,
          0.18554268521858297,
          -0.5804771162529837,
          -0.4324114593114584,
          -0.09918022081792709,
          -0.09419899742061491,
          1.225995859716065,
          1.0982259621569304,
          0.03021255486881537,
          0.26093095351215384,
          1.0032625749077733,
          -0.379901548088872,
          -0.542554141709257,
          -1.0772761392227095,
          0.7239032100688596,
          -0.16543581199498433,
          1.1078079827072325,
          0.7709725457443424,
          -0.0344966046980537,
          -0.8226795974370851,
          -1.706777614049343,
          0.9079931171013804,
          0.18008700663392901,
          0.749553874821924,
          -0.37702549696765186,
          0.7724047186087337,
          1.3120910818557805,
          0.05125329456421593,
          0.10017530538548051,
          -0.6895347209932827,
          0.045048085035044004,
          0.10646626592697084,
          -1.8058546002940823,
          -0.27251111619450097,
          0.008851235048992899,
          -0.23179744833396781,
          0.2432165859889888,
          1.86200639032237,
          -3.0738387380541465,
          1.3214852040849363,
          0.22954225287636534,
          -1.260791826026142,
          -1.609125825572039,
          0.11680930177241139,
          0.748842781193093,
          -0.2806525071335359,
          0.6766685021521556,
          0.1587205355149384,
          0.2888196524039874,
          -0.6507586318790385,
          1.7789826623426028,
          -0.9605271280324573,
          0.6957021260494419,
          0.7388996977221987,
          -0.14437121754486948,
          1.042838079438687,
          -0.44210180606067057,
          -0.9551581965860438,
          0.9495665282329464,
          0.23496425984077343,
          -0.33531161274819027,
          -0.13140202615689167,
          -0.42973470331868785,
          0.7491272560677047,
          -1.074834820795073,
          0.06366308205424531
         ],
         "yaxis": "y7"
        },
        {
         "line": {
          "color": "rgba(128, 128, 128, 1.0)",
          "dash": "solid",
          "shape": "linear",
          "width": 1.3
         },
         "marker": {
          "size": 2,
          "symbol": "circle"
         },
         "mode": "markers",
         "name": "B",
         "text": "",
         "type": "scatter",
         "x": [
          0.147199008262158,
          -0.563686978408816,
          0.1935185857215168,
          0.06840872775042404,
          0.1495860276063127,
          -0.8164809652651062,
          -0.03755299361077514,
          2.16471625140727,
          -0.34931218728287555,
          -0.2573289939274511,
          -0.5680249136999246,
          0.9181415900935799,
          1.321338369334238,
          1.332633119254535,
          2.1581578214595436,
          0.21286874663937458,
          -1.8614697995147869,
          -0.5729290697190624,
          0.03261376641186569,
          -1.1770551496854273,
          0.20300807264543783,
          -0.14352954695035344,
          -0.16130578648867752,
          -0.3995783925199026,
          -1.391241890619133,
          -2.1853691633372065,
          -0.28535812114966413,
          -1.7245923419414135,
          -0.35817612202427035,
          -0.9736601782085923,
          -0.21704879400756347,
          0.7508225135202804,
          0.596438122673971,
          0.9426675051446728,
          0.1572280919665969,
          -0.7535541711230572,
          2.2197282238715954,
          0.15052024275036946,
          1.2591220807775882,
          0.7994078284047268,
          -1.3881394922499757,
          -0.6765960739949137,
          0.578550011685769,
          0.9074333403473867,
          0.059755663613654725,
          -0.6476788073122589,
          0.6103870459005785,
          1.133778049413226,
          0.81777998473848,
          -0.6570318674944937,
          -1.5939903612997313,
          0.09708514346645437,
          -0.4908422518775322,
          -0.05519433581355638,
          0.042019189836366225,
          0.344579576899029,
          1.7058074601968831,
          0.19227957518063715,
          0.6427875137342878,
          -0.09204230995282851,
          0.18196191470320913,
          -0.7485204223778648,
          0.9199953795007977,
          2.270056674567012,
          0.06257992560858991,
          -1.7113170970229996,
          0.7057637431230915,
          0.3212281661851288,
          -1.4999545476309766,
          -0.2457876549511953,
          -0.5026702726458508,
          -0.8378694624017728,
          -0.4872835426161976,
          -1.2615035368256935,
          -2.5115754988356915,
          0.9864890564788301,
          0.396737779794545,
          -1.4657789023223258,
          -0.3397456170067192,
          0.418144597004115,
          -0.1294529667117238,
          0.004876764515848807,
          1.0361484126515212,
          -1.9379241744374494,
          -0.4812544862291755,
          -2.7247504675261713,
          -2.046209405926666,
          1.3399502426202767,
          -0.4939451562461667,
          -1.334287348674052,
          3.057171462123101,
          -0.22997419115912268,
          -1.0939365000600445,
          -0.019393103391439844,
          -0.19999322336046782,
          -0.5498380394261451,
          -0.46143539445536796,
          -1.7438430263031461,
          -0.35178030279427575,
          -0.18192593046993333
         ],
         "xaxis": "x8",
         "y": [
          0.5847521709987167,
          1.416135425448743,
          -0.02193980163591156,
          1.0013020771420085,
          -0.27740457105104066,
          -1.4447465497987408,
          -2.040204644799607,
          1.0029081948520164,
          -0.2810971812517474,
          1.0252737000345813,
          0.27068526227379247,
          1.1470770718279595,
          -0.5888546275328206,
          1.4273380390131492,
          0.2086171447182851,
          -0.2875421537307741,
          -0.9853532885603278,
          -1.2254474057149276,
          0.2676216333451455,
          1.081682934905261,
          1.1632682266690813,
          1.2871795766027607,
          0.871104495281452,
          1.8238537989591024,
          1.2396782959198915,
          -0.5186902170664442,
          -0.28842788919227996,
          -0.09080974861107848,
          0.3603274958193862,
          0.15805756661314824,
          0.15395301850870477,
          0.08238213359689824,
          0.37746101585567343,
          0.2666193731972084,
          0.08112154919247953,
          0.18554268521858297,
          -0.5804771162529837,
          -0.4324114593114584,
          -0.09918022081792709,
          -0.09419899742061491,
          1.225995859716065,
          1.0982259621569304,
          0.03021255486881537,
          0.26093095351215384,
          1.0032625749077733,
          -0.379901548088872,
          -0.542554141709257,
          -1.0772761392227095,
          0.7239032100688596,
          -0.16543581199498433,
          1.1078079827072325,
          0.7709725457443424,
          -0.0344966046980537,
          -0.8226795974370851,
          -1.706777614049343,
          0.9079931171013804,
          0.18008700663392901,
          0.749553874821924,
          -0.37702549696765186,
          0.7724047186087337,
          1.3120910818557805,
          0.05125329456421593,
          0.10017530538548051,
          -0.6895347209932827,
          0.045048085035044004,
          0.10646626592697084,
          -1.8058546002940823,
          -0.27251111619450097,
          0.008851235048992899,
          -0.23179744833396781,
          0.2432165859889888,
          1.86200639032237,
          -3.0738387380541465,
          1.3214852040849363,
          0.22954225287636534,
          -1.260791826026142,
          -1.609125825572039,
          0.11680930177241139,
          0.748842781193093,
          -0.2806525071335359,
          0.6766685021521556,
          0.1587205355149384,
          0.2888196524039874,
          -0.6507586318790385,
          1.7789826623426028,
          -0.9605271280324573,
          0.6957021260494419,
          0.7388996977221987,
          -0.14437121754486948,
          1.042838079438687,
          -0.44210180606067057,
          -0.9551581965860438,
          0.9495665282329464,
          0.23496425984077343,
          -0.33531161274819027,
          -0.13140202615689167,
          -0.42973470331868785,
          0.7491272560677047,
          -1.074834820795073,
          0.06366308205424531
         ],
         "yaxis": "y8"
        },
        {
         "line": {
          "color": "rgba(128, 128, 128, 1.0)",
          "dash": "solid",
          "shape": "linear",
          "width": 1.3
         },
         "marker": {
          "size": 2,
          "symbol": "circle"
         },
         "mode": "markers",
         "name": "C",
         "text": "",
         "type": "scatter",
         "x": [
          -0.08041073899511382,
          -0.6151160222842449,
          -0.5808034456261486,
          -0.6313101469184043,
          0.9904073723163997,
          -0.6000168852567765,
          -0.5885502387286373,
          0.18477904428864386,
          -0.4658247851906445,
          2.3793025312990492,
          0.2248512998964256,
          -0.30685458058413345,
          0.5172381715858361,
          -0.21324657521049858,
          0.23972318572241827,
          -2.400589404618203,
          1.3223199594970096,
          0.015939906893203234,
          -1.5832259598996214,
          -0.9190489027321409,
          0.4730113751642799,
          1.0786363180926952,
          -0.24377659744999874,
          0.164241978827947,
          0.7942119330570302,
          -0.4127859722174128,
          0.7413285662813682,
          0.23375858805214605,
          0.673503451591191,
          0.7128011111584379,
          0.5297155298435244,
          0.6540302721696478,
          -2.447129797757341,
          -0.6606132960394067,
          0.2696345343103929,
          1.2699122431202663,
          0.2042267331407826,
          1.244375850736996,
          -0.8383955661986674,
          -1.0436526421274157,
          -2.3719224742430685,
          -0.2937573989694159,
          -1.1667387440013157,
          -0.20835829572494252,
          -1.582929180184313,
          -1.3905092681491171,
          -1.9684195498534138,
          -0.5474526877788535,
          0.3506996957877933,
          0.22490843267634683,
          0.6626994263438095,
          -1.55666246535441,
          -1.4092970962638396,
          1.7540500737250533,
          -1.1822357875421283,
          0.8254351648968924,
          -0.8155332966176337,
          -0.7430699184182005,
          -0.5242445523082108,
          -0.02121914213591935,
          0.11897271616306106,
          1.24000155189826,
          -0.12412066012159768,
          0.3157479923996985,
          -1.3899830415920824,
          -0.34760793802059503,
          0.547682040129073,
          -0.41873296390333137,
          0.30906930704823077,
          -0.5646573855391537,
          -0.2055027384609156,
          -0.44254018166501224,
          -0.47112623288718575,
          0.1552416693165053,
          0.0017384132179926366,
          -1.551593275455728,
          -0.4234921860598587,
          0.6494343322625905,
          0.5996077489180177,
          1.1782413486752166,
          -0.5033606273925229,
          0.819708204847244,
          0.09016970646950159,
          -0.22042764299209439,
          -0.06249041005051703,
          -0.5067060750717906,
          -1.2848775632360026,
          -1.0439710960994422,
          1.832071436334213,
          0.6144142518560111,
          -1.4002975798711024,
          0.018263481656676912,
          -0.44322620435757665,
          -0.21623864964117803,
          1.217074233459462,
          -0.6536863255962454,
          0.8595514673202337,
          1.0207801556487885,
          -0.5916487604653361,
          -1.6019281391101097
         ],
         "xaxis": "x9",
         "y": [
          -0.5040713695527463,
          1.2784202450241422,
          -0.232759559818154,
          -0.679654541573124,
          -1.011015422291063,
          -0.32187289353674653,
          0.5627893851315948,
          0.9098914259540819,
          -0.919821032957485,
          1.3941803932409902,
          -0.8550758261359718,
          0.6243531459906352,
          0.8400190416731714,
          -0.2753615192589795,
          -0.2585792639496748,
          -1.397884102026485,
          2.0228648522783246,
          1.2477712691964573,
          -1.060055996065693,
          1.8599201417821452,
          -1.764864488117764,
          -0.0028176670282632644,
          0.0692372225869619,
          -0.4791952902270925,
          -0.5419858833833523,
          1.0815002014773385,
          0.7170715008741838,
          0.3933653744163969,
          -0.9035266056041219,
          1.499299058408644,
          0.4842143177576148,
          -0.011608012127365093,
          -1.4602517038263843,
          0.6068444434417665,
          0.903137943058507,
          -2.1545184577840715,
          -0.3108598498176006,
          1.419811759778885,
          0.5220044477439261,
          -1.2035550381761686,
          -1.938620334238564,
          -1.7339789706381616,
          -1.6140469676885045,
          -0.6071544703879108,
          0.016490473613038428,
          0.5860273908655671,
          -0.1151062845554965,
          0.23816785737402918,
          -0.12246295081874024,
          0.40136628538593233,
          2.0380763326821327,
          -1.4909840779242247,
          -0.025328622959499288,
          0.9732231166084475,
          -0.12548941087916854,
          2.7713894872401066,
          -0.3574211382468966,
          3.734238465340607,
          -0.46444052612085,
          2.0816217769462324,
          -0.6675661579125914,
          -0.44237890841309857,
          -0.01729481874918793,
          -0.16016386308921032,
          -0.2774752711858284,
          0.5824575495784985,
          -0.4169110547024678,
          0.055149602105424494,
          0.5502152645938555,
          0.3359015858865263,
          -1.601271848893958,
          0.7906604686356005,
          1.5591393363957884,
          -0.862791098485518,
          -1.5256277083293754,
          0.8437511523936281,
          0.313892080669878,
          1.394700971566019,
          1.4676191999753831,
          -0.08584012243973556,
          0.5339217143585893,
          -1.504967502787583,
          -0.6120937712731666,
          -0.32499689256595293,
          -1.5343027825929318,
          0.29700259098519144,
          -1.2118965789837157,
          1.5361194292633042,
          1.2932770588128062,
          0.6139310695919133,
          -1.1292865063306947,
          1.5296234784013558,
          -2.968692751946457,
          -2.1464598410941362,
          1.8393753279299379,
          0.33505069399545345,
          0.4115653585619959,
          -1.5276411041474476,
          0.9440653214584742,
          0.3297241147261427
         ],
         "yaxis": "y9"
        },
        {
         "line": {
          "color": "rgba(128, 128, 128, 1.0)",
          "dash": "solid",
          "shape": "linear",
          "width": 1.3
         },
         "marker": {
          "size": 2,
          "symbol": "circle"
         },
         "mode": "markers",
         "name": "C",
         "text": "",
         "type": "scatter",
         "x": [
          0.5847521709987167,
          1.416135425448743,
          -0.02193980163591156,
          1.0013020771420085,
          -0.27740457105104066,
          -1.4447465497987408,
          -2.040204644799607,
          1.0029081948520164,
          -0.2810971812517474,
          1.0252737000345813,
          0.27068526227379247,
          1.1470770718279595,
          -0.5888546275328206,
          1.4273380390131492,
          0.2086171447182851,
          -0.2875421537307741,
          -0.9853532885603278,
          -1.2254474057149276,
          0.2676216333451455,
          1.081682934905261,
          1.1632682266690813,
          1.2871795766027607,
          0.871104495281452,
          1.8238537989591024,
          1.2396782959198915,
          -0.5186902170664442,
          -0.28842788919227996,
          -0.09080974861107848,
          0.3603274958193862,
          0.15805756661314824,
          0.15395301850870477,
          0.08238213359689824,
          0.37746101585567343,
          0.2666193731972084,
          0.08112154919247953,
          0.18554268521858297,
          -0.5804771162529837,
          -0.4324114593114584,
          -0.09918022081792709,
          -0.09419899742061491,
          1.225995859716065,
          1.0982259621569304,
          0.03021255486881537,
          0.26093095351215384,
          1.0032625749077733,
          -0.379901548088872,
          -0.542554141709257,
          -1.0772761392227095,
          0.7239032100688596,
          -0.16543581199498433,
          1.1078079827072325,
          0.7709725457443424,
          -0.0344966046980537,
          -0.8226795974370851,
          -1.706777614049343,
          0.9079931171013804,
          0.18008700663392901,
          0.749553874821924,
          -0.37702549696765186,
          0.7724047186087337,
          1.3120910818557805,
          0.05125329456421593,
          0.10017530538548051,
          -0.6895347209932827,
          0.045048085035044004,
          0.10646626592697084,
          -1.8058546002940823,
          -0.27251111619450097,
          0.008851235048992899,
          -0.23179744833396781,
          0.2432165859889888,
          1.86200639032237,
          -3.0738387380541465,
          1.3214852040849363,
          0.22954225287636534,
          -1.260791826026142,
          -1.609125825572039,
          0.11680930177241139,
          0.748842781193093,
          -0.2806525071335359,
          0.6766685021521556,
          0.1587205355149384,
          0.2888196524039874,
          -0.6507586318790385,
          1.7789826623426028,
          -0.9605271280324573,
          0.6957021260494419,
          0.7388996977221987,
          -0.14437121754486948,
          1.042838079438687,
          -0.44210180606067057,
          -0.9551581965860438,
          0.9495665282329464,
          0.23496425984077343,
          -0.33531161274819027,
          -0.13140202615689167,
          -0.42973470331868785,
          0.7491272560677047,
          -1.074834820795073,
          0.06366308205424531
         ],
         "xaxis": "x10",
         "y": [
          -0.5040713695527463,
          1.2784202450241422,
          -0.232759559818154,
          -0.679654541573124,
          -1.011015422291063,
          -0.32187289353674653,
          0.5627893851315948,
          0.9098914259540819,
          -0.919821032957485,
          1.3941803932409902,
          -0.8550758261359718,
          0.6243531459906352,
          0.8400190416731714,
          -0.2753615192589795,
          -0.2585792639496748,
          -1.397884102026485,
          2.0228648522783246,
          1.2477712691964573,
          -1.060055996065693,
          1.8599201417821452,
          -1.764864488117764,
          -0.0028176670282632644,
          0.0692372225869619,
          -0.4791952902270925,
          -0.5419858833833523,
          1.0815002014773385,
          0.7170715008741838,
          0.3933653744163969,
          -0.9035266056041219,
          1.499299058408644,
          0.4842143177576148,
          -0.011608012127365093,
          -1.4602517038263843,
          0.6068444434417665,
          0.903137943058507,
          -2.1545184577840715,
          -0.3108598498176006,
          1.419811759778885,
          0.5220044477439261,
          -1.2035550381761686,
          -1.938620334238564,
          -1.7339789706381616,
          -1.6140469676885045,
          -0.6071544703879108,
          0.016490473613038428,
          0.5860273908655671,
          -0.1151062845554965,
          0.23816785737402918,
          -0.12246295081874024,
          0.40136628538593233,
          2.0380763326821327,
          -1.4909840779242247,
          -0.025328622959499288,
          0.9732231166084475,
          -0.12548941087916854,
          2.7713894872401066,
          -0.3574211382468966,
          3.734238465340607,
          -0.46444052612085,
          2.0816217769462324,
          -0.6675661579125914,
          -0.44237890841309857,
          -0.01729481874918793,
          -0.16016386308921032,
          -0.2774752711858284,
          0.5824575495784985,
          -0.4169110547024678,
          0.055149602105424494,
          0.5502152645938555,
          0.3359015858865263,
          -1.601271848893958,
          0.7906604686356005,
          1.5591393363957884,
          -0.862791098485518,
          -1.5256277083293754,
          0.8437511523936281,
          0.313892080669878,
          1.394700971566019,
          1.4676191999753831,
          -0.08584012243973556,
          0.5339217143585893,
          -1.504967502787583,
          -0.6120937712731666,
          -0.32499689256595293,
          -1.5343027825929318,
          0.29700259098519144,
          -1.2118965789837157,
          1.5361194292633042,
          1.2932770588128062,
          0.6139310695919133,
          -1.1292865063306947,
          1.5296234784013558,
          -2.968692751946457,
          -2.1464598410941362,
          1.8393753279299379,
          0.33505069399545345,
          0.4115653585619959,
          -1.5276411041474476,
          0.9440653214584742,
          0.3297241147261427
         ],
         "yaxis": "y10"
        },
        {
         "histfunc": "count",
         "histnorm": "",
         "marker": {
          "color": "rgba(50, 171, 96, 1.0)",
          "line": {
           "color": "#4D5663",
           "width": 1.3
          }
         },
         "name": "C",
         "nbinsx": 10,
         "opacity": 0.8,
         "orientation": "v",
         "type": "histogram",
         "x": [
          -0.5040713695527463,
          1.2784202450241422,
          -0.232759559818154,
          -0.679654541573124,
          -1.011015422291063,
          -0.32187289353674653,
          0.5627893851315948,
          0.9098914259540819,
          -0.919821032957485,
          1.3941803932409902,
          -0.8550758261359718,
          0.6243531459906352,
          0.8400190416731714,
          -0.2753615192589795,
          -0.2585792639496748,
          -1.397884102026485,
          2.0228648522783246,
          1.2477712691964573,
          -1.060055996065693,
          1.8599201417821452,
          -1.764864488117764,
          -0.0028176670282632644,
          0.0692372225869619,
          -0.4791952902270925,
          -0.5419858833833523,
          1.0815002014773385,
          0.7170715008741838,
          0.3933653744163969,
          -0.9035266056041219,
          1.499299058408644,
          0.4842143177576148,
          -0.011608012127365093,
          -1.4602517038263843,
          0.6068444434417665,
          0.903137943058507,
          -2.1545184577840715,
          -0.3108598498176006,
          1.419811759778885,
          0.5220044477439261,
          -1.2035550381761686,
          -1.938620334238564,
          -1.7339789706381616,
          -1.6140469676885045,
          -0.6071544703879108,
          0.016490473613038428,
          0.5860273908655671,
          -0.1151062845554965,
          0.23816785737402918,
          -0.12246295081874024,
          0.40136628538593233,
          2.0380763326821327,
          -1.4909840779242247,
          -0.025328622959499288,
          0.9732231166084475,
          -0.12548941087916854,
          2.7713894872401066,
          -0.3574211382468966,
          3.734238465340607,
          -0.46444052612085,
          2.0816217769462324,
          -0.6675661579125914,
          -0.44237890841309857,
          -0.01729481874918793,
          -0.16016386308921032,
          -0.2774752711858284,
          0.5824575495784985,
          -0.4169110547024678,
          0.055149602105424494,
          0.5502152645938555,
          0.3359015858865263,
          -1.601271848893958,
          0.7906604686356005,
          1.5591393363957884,
          -0.862791098485518,
          -1.5256277083293754,
          0.8437511523936281,
          0.313892080669878,
          1.394700971566019,
          1.4676191999753831,
          -0.08584012243973556,
          0.5339217143585893,
          -1.504967502787583,
          -0.6120937712731666,
          -0.32499689256595293,
          -1.5343027825929318,
          0.29700259098519144,
          -1.2118965789837157,
          1.5361194292633042,
          1.2932770588128062,
          0.6139310695919133,
          -1.1292865063306947,
          1.5296234784013558,
          -2.968692751946457,
          -2.1464598410941362,
          1.8393753279299379,
          0.33505069399545345,
          0.4115653585619959,
          -1.5276411041474476,
          0.9440653214584742,
          0.3297241147261427
         ],
         "xaxis": "x11",
         "yaxis": "y11"
        },
        {
         "line": {
          "color": "rgba(128, 128, 128, 1.0)",
          "dash": "solid",
          "shape": "linear",
          "width": 1.3
         },
         "marker": {
          "size": 2,
          "symbol": "circle"
         },
         "mode": "markers",
         "name": "C",
         "text": "",
         "type": "scatter",
         "x": [
          0.147199008262158,
          -0.563686978408816,
          0.1935185857215168,
          0.06840872775042404,
          0.1495860276063127,
          -0.8164809652651062,
          -0.03755299361077514,
          2.16471625140727,
          -0.34931218728287555,
          -0.2573289939274511,
          -0.5680249136999246,
          0.9181415900935799,
          1.321338369334238,
          1.332633119254535,
          2.1581578214595436,
          0.21286874663937458,
          -1.8614697995147869,
          -0.5729290697190624,
          0.03261376641186569,
          -1.1770551496854273,
          0.20300807264543783,
          -0.14352954695035344,
          -0.16130578648867752,
          -0.3995783925199026,
          -1.391241890619133,
          -2.1853691633372065,
          -0.28535812114966413,
          -1.7245923419414135,
          -0.35817612202427035,
          -0.9736601782085923,
          -0.21704879400756347,
          0.7508225135202804,
          0.596438122673971,
          0.9426675051446728,
          0.1572280919665969,
          -0.7535541711230572,
          2.2197282238715954,
          0.15052024275036946,
          1.2591220807775882,
          0.7994078284047268,
          -1.3881394922499757,
          -0.6765960739949137,
          0.578550011685769,
          0.9074333403473867,
          0.059755663613654725,
          -0.6476788073122589,
          0.6103870459005785,
          1.133778049413226,
          0.81777998473848,
          -0.6570318674944937,
          -1.5939903612997313,
          0.09708514346645437,
          -0.4908422518775322,
          -0.05519433581355638,
          0.042019189836366225,
          0.344579576899029,
          1.7058074601968831,
          0.19227957518063715,
          0.6427875137342878,
          -0.09204230995282851,
          0.18196191470320913,
          -0.7485204223778648,
          0.9199953795007977,
          2.270056674567012,
          0.06257992560858991,
          -1.7113170970229996,
          0.7057637431230915,
          0.3212281661851288,
          -1.4999545476309766,
          -0.2457876549511953,
          -0.5026702726458508,
          -0.8378694624017728,
          -0.4872835426161976,
          -1.2615035368256935,
          -2.5115754988356915,
          0.9864890564788301,
          0.396737779794545,
          -1.4657789023223258,
          -0.3397456170067192,
          0.418144597004115,
          -0.1294529667117238,
          0.004876764515848807,
          1.0361484126515212,
          -1.9379241744374494,
          -0.4812544862291755,
          -2.7247504675261713,
          -2.046209405926666,
          1.3399502426202767,
          -0.4939451562461667,
          -1.334287348674052,
          3.057171462123101,
          -0.22997419115912268,
          -1.0939365000600445,
          -0.019393103391439844,
          -0.19999322336046782,
          -0.5498380394261451,
          -0.46143539445536796,
          -1.7438430263031461,
          -0.35178030279427575,
          -0.18192593046993333
         ],
         "xaxis": "x12",
         "y": [
          -0.5040713695527463,
          1.2784202450241422,
          -0.232759559818154,
          -0.679654541573124,
          -1.011015422291063,
          -0.32187289353674653,
          0.5627893851315948,
          0.9098914259540819,
          -0.919821032957485,
          1.3941803932409902,
          -0.8550758261359718,
          0.6243531459906352,
          0.8400190416731714,
          -0.2753615192589795,
          -0.2585792639496748,
          -1.397884102026485,
          2.0228648522783246,
          1.2477712691964573,
          -1.060055996065693,
          1.8599201417821452,
          -1.764864488117764,
          -0.0028176670282632644,
          0.0692372225869619,
          -0.4791952902270925,
          -0.5419858833833523,
          1.0815002014773385,
          0.7170715008741838,
          0.3933653744163969,
          -0.9035266056041219,
          1.499299058408644,
          0.4842143177576148,
          -0.011608012127365093,
          -1.4602517038263843,
          0.6068444434417665,
          0.903137943058507,
          -2.1545184577840715,
          -0.3108598498176006,
          1.419811759778885,
          0.5220044477439261,
          -1.2035550381761686,
          -1.938620334238564,
          -1.7339789706381616,
          -1.6140469676885045,
          -0.6071544703879108,
          0.016490473613038428,
          0.5860273908655671,
          -0.1151062845554965,
          0.23816785737402918,
          -0.12246295081874024,
          0.40136628538593233,
          2.0380763326821327,
          -1.4909840779242247,
          -0.025328622959499288,
          0.9732231166084475,
          -0.12548941087916854,
          2.7713894872401066,
          -0.3574211382468966,
          3.734238465340607,
          -0.46444052612085,
          2.0816217769462324,
          -0.6675661579125914,
          -0.44237890841309857,
          -0.01729481874918793,
          -0.16016386308921032,
          -0.2774752711858284,
          0.5824575495784985,
          -0.4169110547024678,
          0.055149602105424494,
          0.5502152645938555,
          0.3359015858865263,
          -1.601271848893958,
          0.7906604686356005,
          1.5591393363957884,
          -0.862791098485518,
          -1.5256277083293754,
          0.8437511523936281,
          0.313892080669878,
          1.394700971566019,
          1.4676191999753831,
          -0.08584012243973556,
          0.5339217143585893,
          -1.504967502787583,
          -0.6120937712731666,
          -0.32499689256595293,
          -1.5343027825929318,
          0.29700259098519144,
          -1.2118965789837157,
          1.5361194292633042,
          1.2932770588128062,
          0.6139310695919133,
          -1.1292865063306947,
          1.5296234784013558,
          -2.968692751946457,
          -2.1464598410941362,
          1.8393753279299379,
          0.33505069399545345,
          0.4115653585619959,
          -1.5276411041474476,
          0.9440653214584742,
          0.3297241147261427
         ],
         "yaxis": "y12"
        },
        {
         "line": {
          "color": "rgba(128, 128, 128, 1.0)",
          "dash": "solid",
          "shape": "linear",
          "width": 1.3
         },
         "marker": {
          "size": 2,
          "symbol": "circle"
         },
         "mode": "markers",
         "name": "D",
         "text": "",
         "type": "scatter",
         "x": [
          -0.08041073899511382,
          -0.6151160222842449,
          -0.5808034456261486,
          -0.6313101469184043,
          0.9904073723163997,
          -0.6000168852567765,
          -0.5885502387286373,
          0.18477904428864386,
          -0.4658247851906445,
          2.3793025312990492,
          0.2248512998964256,
          -0.30685458058413345,
          0.5172381715858361,
          -0.21324657521049858,
          0.23972318572241827,
          -2.400589404618203,
          1.3223199594970096,
          0.015939906893203234,
          -1.5832259598996214,
          -0.9190489027321409,
          0.4730113751642799,
          1.0786363180926952,
          -0.24377659744999874,
          0.164241978827947,
          0.7942119330570302,
          -0.4127859722174128,
          0.7413285662813682,
          0.23375858805214605,
          0.673503451591191,
          0.7128011111584379,
          0.5297155298435244,
          0.6540302721696478,
          -2.447129797757341,
          -0.6606132960394067,
          0.2696345343103929,
          1.2699122431202663,
          0.2042267331407826,
          1.244375850736996,
          -0.8383955661986674,
          -1.0436526421274157,
          -2.3719224742430685,
          -0.2937573989694159,
          -1.1667387440013157,
          -0.20835829572494252,
          -1.582929180184313,
          -1.3905092681491171,
          -1.9684195498534138,
          -0.5474526877788535,
          0.3506996957877933,
          0.22490843267634683,
          0.6626994263438095,
          -1.55666246535441,
          -1.4092970962638396,
          1.7540500737250533,
          -1.1822357875421283,
          0.8254351648968924,
          -0.8155332966176337,
          -0.7430699184182005,
          -0.5242445523082108,
          -0.02121914213591935,
          0.11897271616306106,
          1.24000155189826,
          -0.12412066012159768,
          0.3157479923996985,
          -1.3899830415920824,
          -0.34760793802059503,
          0.547682040129073,
          -0.41873296390333137,
          0.30906930704823077,
          -0.5646573855391537,
          -0.2055027384609156,
          -0.44254018166501224,
          -0.47112623288718575,
          0.1552416693165053,
          0.0017384132179926366,
          -1.551593275455728,
          -0.4234921860598587,
          0.6494343322625905,
          0.5996077489180177,
          1.1782413486752166,
          -0.5033606273925229,
          0.819708204847244,
          0.09016970646950159,
          -0.22042764299209439,
          -0.06249041005051703,
          -0.5067060750717906,
          -1.2848775632360026,
          -1.0439710960994422,
          1.832071436334213,
          0.6144142518560111,
          -1.4002975798711024,
          0.018263481656676912,
          -0.44322620435757665,
          -0.21623864964117803,
          1.217074233459462,
          -0.6536863255962454,
          0.8595514673202337,
          1.0207801556487885,
          -0.5916487604653361,
          -1.6019281391101097
         ],
         "xaxis": "x13",
         "y": [
          0.147199008262158,
          -0.563686978408816,
          0.1935185857215168,
          0.06840872775042404,
          0.1495860276063127,
          -0.8164809652651062,
          -0.03755299361077514,
          2.16471625140727,
          -0.34931218728287555,
          -0.2573289939274511,
          -0.5680249136999246,
          0.9181415900935799,
          1.321338369334238,
          1.332633119254535,
          2.1581578214595436,
          0.21286874663937458,
          -1.8614697995147869,
          -0.5729290697190624,
          0.03261376641186569,
          -1.1770551496854273,
          0.20300807264543783,
          -0.14352954695035344,
          -0.16130578648867752,
          -0.3995783925199026,
          -1.391241890619133,
          -2.1853691633372065,
          -0.28535812114966413,
          -1.7245923419414135,
          -0.35817612202427035,
          -0.9736601782085923,
          -0.21704879400756347,
          0.7508225135202804,
          0.596438122673971,
          0.9426675051446728,
          0.1572280919665969,
          -0.7535541711230572,
          2.2197282238715954,
          0.15052024275036946,
          1.2591220807775882,
          0.7994078284047268,
          -1.3881394922499757,
          -0.6765960739949137,
          0.578550011685769,
          0.9074333403473867,
          0.059755663613654725,
          -0.6476788073122589,
          0.6103870459005785,
          1.133778049413226,
          0.81777998473848,
          -0.6570318674944937,
          -1.5939903612997313,
          0.09708514346645437,
          -0.4908422518775322,
          -0.05519433581355638,
          0.042019189836366225,
          0.344579576899029,
          1.7058074601968831,
          0.19227957518063715,
          0.6427875137342878,
          -0.09204230995282851,
          0.18196191470320913,
          -0.7485204223778648,
          0.9199953795007977,
          2.270056674567012,
          0.06257992560858991,
          -1.7113170970229996,
          0.7057637431230915,
          0.3212281661851288,
          -1.4999545476309766,
          -0.2457876549511953,
          -0.5026702726458508,
          -0.8378694624017728,
          -0.4872835426161976,
          -1.2615035368256935,
          -2.5115754988356915,
          0.9864890564788301,
          0.396737779794545,
          -1.4657789023223258,
          -0.3397456170067192,
          0.418144597004115,
          -0.1294529667117238,
          0.004876764515848807,
          1.0361484126515212,
          -1.9379241744374494,
          -0.4812544862291755,
          -2.7247504675261713,
          -2.046209405926666,
          1.3399502426202767,
          -0.4939451562461667,
          -1.334287348674052,
          3.057171462123101,
          -0.22997419115912268,
          -1.0939365000600445,
          -0.019393103391439844,
          -0.19999322336046782,
          -0.5498380394261451,
          -0.46143539445536796,
          -1.7438430263031461,
          -0.35178030279427575,
          -0.18192593046993333
         ],
         "yaxis": "y13"
        },
        {
         "line": {
          "color": "rgba(128, 128, 128, 1.0)",
          "dash": "solid",
          "shape": "linear",
          "width": 1.3
         },
         "marker": {
          "size": 2,
          "symbol": "circle"
         },
         "mode": "markers",
         "name": "D",
         "text": "",
         "type": "scatter",
         "x": [
          0.5847521709987167,
          1.416135425448743,
          -0.02193980163591156,
          1.0013020771420085,
          -0.27740457105104066,
          -1.4447465497987408,
          -2.040204644799607,
          1.0029081948520164,
          -0.2810971812517474,
          1.0252737000345813,
          0.27068526227379247,
          1.1470770718279595,
          -0.5888546275328206,
          1.4273380390131492,
          0.2086171447182851,
          -0.2875421537307741,
          -0.9853532885603278,
          -1.2254474057149276,
          0.2676216333451455,
          1.081682934905261,
          1.1632682266690813,
          1.2871795766027607,
          0.871104495281452,
          1.8238537989591024,
          1.2396782959198915,
          -0.5186902170664442,
          -0.28842788919227996,
          -0.09080974861107848,
          0.3603274958193862,
          0.15805756661314824,
          0.15395301850870477,
          0.08238213359689824,
          0.37746101585567343,
          0.2666193731972084,
          0.08112154919247953,
          0.18554268521858297,
          -0.5804771162529837,
          -0.4324114593114584,
          -0.09918022081792709,
          -0.09419899742061491,
          1.225995859716065,
          1.0982259621569304,
          0.03021255486881537,
          0.26093095351215384,
          1.0032625749077733,
          -0.379901548088872,
          -0.542554141709257,
          -1.0772761392227095,
          0.7239032100688596,
          -0.16543581199498433,
          1.1078079827072325,
          0.7709725457443424,
          -0.0344966046980537,
          -0.8226795974370851,
          -1.706777614049343,
          0.9079931171013804,
          0.18008700663392901,
          0.749553874821924,
          -0.37702549696765186,
          0.7724047186087337,
          1.3120910818557805,
          0.05125329456421593,
          0.10017530538548051,
          -0.6895347209932827,
          0.045048085035044004,
          0.10646626592697084,
          -1.8058546002940823,
          -0.27251111619450097,
          0.008851235048992899,
          -0.23179744833396781,
          0.2432165859889888,
          1.86200639032237,
          -3.0738387380541465,
          1.3214852040849363,
          0.22954225287636534,
          -1.260791826026142,
          -1.609125825572039,
          0.11680930177241139,
          0.748842781193093,
          -0.2806525071335359,
          0.6766685021521556,
          0.1587205355149384,
          0.2888196524039874,
          -0.6507586318790385,
          1.7789826623426028,
          -0.9605271280324573,
          0.6957021260494419,
          0.7388996977221987,
          -0.14437121754486948,
          1.042838079438687,
          -0.44210180606067057,
          -0.9551581965860438,
          0.9495665282329464,
          0.23496425984077343,
          -0.33531161274819027,
          -0.13140202615689167,
          -0.42973470331868785,
          0.7491272560677047,
          -1.074834820795073,
          0.06366308205424531
         ],
         "xaxis": "x14",
         "y": [
          0.147199008262158,
          -0.563686978408816,
          0.1935185857215168,
          0.06840872775042404,
          0.1495860276063127,
          -0.8164809652651062,
          -0.03755299361077514,
          2.16471625140727,
          -0.34931218728287555,
          -0.2573289939274511,
          -0.5680249136999246,
          0.9181415900935799,
          1.321338369334238,
          1.332633119254535,
          2.1581578214595436,
          0.21286874663937458,
          -1.8614697995147869,
          -0.5729290697190624,
          0.03261376641186569,
          -1.1770551496854273,
          0.20300807264543783,
          -0.14352954695035344,
          -0.16130578648867752,
          -0.3995783925199026,
          -1.391241890619133,
          -2.1853691633372065,
          -0.28535812114966413,
          -1.7245923419414135,
          -0.35817612202427035,
          -0.9736601782085923,
          -0.21704879400756347,
          0.7508225135202804,
          0.596438122673971,
          0.9426675051446728,
          0.1572280919665969,
          -0.7535541711230572,
          2.2197282238715954,
          0.15052024275036946,
          1.2591220807775882,
          0.7994078284047268,
          -1.3881394922499757,
          -0.6765960739949137,
          0.578550011685769,
          0.9074333403473867,
          0.059755663613654725,
          -0.6476788073122589,
          0.6103870459005785,
          1.133778049413226,
          0.81777998473848,
          -0.6570318674944937,
          -1.5939903612997313,
          0.09708514346645437,
          -0.4908422518775322,
          -0.05519433581355638,
          0.042019189836366225,
          0.344579576899029,
          1.7058074601968831,
          0.19227957518063715,
          0.6427875137342878,
          -0.09204230995282851,
          0.18196191470320913,
          -0.7485204223778648,
          0.9199953795007977,
          2.270056674567012,
          0.06257992560858991,
          -1.7113170970229996,
          0.7057637431230915,
          0.3212281661851288,
          -1.4999545476309766,
          -0.2457876549511953,
          -0.5026702726458508,
          -0.8378694624017728,
          -0.4872835426161976,
          -1.2615035368256935,
          -2.5115754988356915,
          0.9864890564788301,
          0.396737779794545,
          -1.4657789023223258,
          -0.3397456170067192,
          0.418144597004115,
          -0.1294529667117238,
          0.004876764515848807,
          1.0361484126515212,
          -1.9379241744374494,
          -0.4812544862291755,
          -2.7247504675261713,
          -2.046209405926666,
          1.3399502426202767,
          -0.4939451562461667,
          -1.334287348674052,
          3.057171462123101,
          -0.22997419115912268,
          -1.0939365000600445,
          -0.019393103391439844,
          -0.19999322336046782,
          -0.5498380394261451,
          -0.46143539445536796,
          -1.7438430263031461,
          -0.35178030279427575,
          -0.18192593046993333
         ],
         "yaxis": "y14"
        },
        {
         "line": {
          "color": "rgba(128, 128, 128, 1.0)",
          "dash": "solid",
          "shape": "linear",
          "width": 1.3
         },
         "marker": {
          "size": 2,
          "symbol": "circle"
         },
         "mode": "markers",
         "name": "D",
         "text": "",
         "type": "scatter",
         "x": [
          -0.5040713695527463,
          1.2784202450241422,
          -0.232759559818154,
          -0.679654541573124,
          -1.011015422291063,
          -0.32187289353674653,
          0.5627893851315948,
          0.9098914259540819,
          -0.919821032957485,
          1.3941803932409902,
          -0.8550758261359718,
          0.6243531459906352,
          0.8400190416731714,
          -0.2753615192589795,
          -0.2585792639496748,
          -1.397884102026485,
          2.0228648522783246,
          1.2477712691964573,
          -1.060055996065693,
          1.8599201417821452,
          -1.764864488117764,
          -0.0028176670282632644,
          0.0692372225869619,
          -0.4791952902270925,
          -0.5419858833833523,
          1.0815002014773385,
          0.7170715008741838,
          0.3933653744163969,
          -0.9035266056041219,
          1.499299058408644,
          0.4842143177576148,
          -0.011608012127365093,
          -1.4602517038263843,
          0.6068444434417665,
          0.903137943058507,
          -2.1545184577840715,
          -0.3108598498176006,
          1.419811759778885,
          0.5220044477439261,
          -1.2035550381761686,
          -1.938620334238564,
          -1.7339789706381616,
          -1.6140469676885045,
          -0.6071544703879108,
          0.016490473613038428,
          0.5860273908655671,
          -0.1151062845554965,
          0.23816785737402918,
          -0.12246295081874024,
          0.40136628538593233,
          2.0380763326821327,
          -1.4909840779242247,
          -0.025328622959499288,
          0.9732231166084475,
          -0.12548941087916854,
          2.7713894872401066,
          -0.3574211382468966,
          3.734238465340607,
          -0.46444052612085,
          2.0816217769462324,
          -0.6675661579125914,
          -0.44237890841309857,
          -0.01729481874918793,
          -0.16016386308921032,
          -0.2774752711858284,
          0.5824575495784985,
          -0.4169110547024678,
          0.055149602105424494,
          0.5502152645938555,
          0.3359015858865263,
          -1.601271848893958,
          0.7906604686356005,
          1.5591393363957884,
          -0.862791098485518,
          -1.5256277083293754,
          0.8437511523936281,
          0.313892080669878,
          1.394700971566019,
          1.4676191999753831,
          -0.08584012243973556,
          0.5339217143585893,
          -1.504967502787583,
          -0.6120937712731666,
          -0.32499689256595293,
          -1.5343027825929318,
          0.29700259098519144,
          -1.2118965789837157,
          1.5361194292633042,
          1.2932770588128062,
          0.6139310695919133,
          -1.1292865063306947,
          1.5296234784013558,
          -2.968692751946457,
          -2.1464598410941362,
          1.8393753279299379,
          0.33505069399545345,
          0.4115653585619959,
          -1.5276411041474476,
          0.9440653214584742,
          0.3297241147261427
         ],
         "xaxis": "x15",
         "y": [
          0.147199008262158,
          -0.563686978408816,
          0.1935185857215168,
          0.06840872775042404,
          0.1495860276063127,
          -0.8164809652651062,
          -0.03755299361077514,
          2.16471625140727,
          -0.34931218728287555,
          -0.2573289939274511,
          -0.5680249136999246,
          0.9181415900935799,
          1.321338369334238,
          1.332633119254535,
          2.1581578214595436,
          0.21286874663937458,
          -1.8614697995147869,
          -0.5729290697190624,
          0.03261376641186569,
          -1.1770551496854273,
          0.20300807264543783,
          -0.14352954695035344,
          -0.16130578648867752,
          -0.3995783925199026,
          -1.391241890619133,
          -2.1853691633372065,
          -0.28535812114966413,
          -1.7245923419414135,
          -0.35817612202427035,
          -0.9736601782085923,
          -0.21704879400756347,
          0.7508225135202804,
          0.596438122673971,
          0.9426675051446728,
          0.1572280919665969,
          -0.7535541711230572,
          2.2197282238715954,
          0.15052024275036946,
          1.2591220807775882,
          0.7994078284047268,
          -1.3881394922499757,
          -0.6765960739949137,
          0.578550011685769,
          0.9074333403473867,
          0.059755663613654725,
          -0.6476788073122589,
          0.6103870459005785,
          1.133778049413226,
          0.81777998473848,
          -0.6570318674944937,
          -1.5939903612997313,
          0.09708514346645437,
          -0.4908422518775322,
          -0.05519433581355638,
          0.042019189836366225,
          0.344579576899029,
          1.7058074601968831,
          0.19227957518063715,
          0.6427875137342878,
          -0.09204230995282851,
          0.18196191470320913,
          -0.7485204223778648,
          0.9199953795007977,
          2.270056674567012,
          0.06257992560858991,
          -1.7113170970229996,
          0.7057637431230915,
          0.3212281661851288,
          -1.4999545476309766,
          -0.2457876549511953,
          -0.5026702726458508,
          -0.8378694624017728,
          -0.4872835426161976,
          -1.2615035368256935,
          -2.5115754988356915,
          0.9864890564788301,
          0.396737779794545,
          -1.4657789023223258,
          -0.3397456170067192,
          0.418144597004115,
          -0.1294529667117238,
          0.004876764515848807,
          1.0361484126515212,
          -1.9379241744374494,
          -0.4812544862291755,
          -2.7247504675261713,
          -2.046209405926666,
          1.3399502426202767,
          -0.4939451562461667,
          -1.334287348674052,
          3.057171462123101,
          -0.22997419115912268,
          -1.0939365000600445,
          -0.019393103391439844,
          -0.19999322336046782,
          -0.5498380394261451,
          -0.46143539445536796,
          -1.7438430263031461,
          -0.35178030279427575,
          -0.18192593046993333
         ],
         "yaxis": "y15"
        },
        {
         "histfunc": "count",
         "histnorm": "",
         "marker": {
          "color": "rgba(128, 0, 128, 1.0)",
          "line": {
           "color": "#4D5663",
           "width": 1.3
          }
         },
         "name": "D",
         "nbinsx": 10,
         "opacity": 0.8,
         "orientation": "v",
         "type": "histogram",
         "x": [
          0.147199008262158,
          -0.563686978408816,
          0.1935185857215168,
          0.06840872775042404,
          0.1495860276063127,
          -0.8164809652651062,
          -0.03755299361077514,
          2.16471625140727,
          -0.34931218728287555,
          -0.2573289939274511,
          -0.5680249136999246,
          0.9181415900935799,
          1.321338369334238,
          1.332633119254535,
          2.1581578214595436,
          0.21286874663937458,
          -1.8614697995147869,
          -0.5729290697190624,
          0.03261376641186569,
          -1.1770551496854273,
          0.20300807264543783,
          -0.14352954695035344,
          -0.16130578648867752,
          -0.3995783925199026,
          -1.391241890619133,
          -2.1853691633372065,
          -0.28535812114966413,
          -1.7245923419414135,
          -0.35817612202427035,
          -0.9736601782085923,
          -0.21704879400756347,
          0.7508225135202804,
          0.596438122673971,
          0.9426675051446728,
          0.1572280919665969,
          -0.7535541711230572,
          2.2197282238715954,
          0.15052024275036946,
          1.2591220807775882,
          0.7994078284047268,
          -1.3881394922499757,
          -0.6765960739949137,
          0.578550011685769,
          0.9074333403473867,
          0.059755663613654725,
          -0.6476788073122589,
          0.6103870459005785,
          1.133778049413226,
          0.81777998473848,
          -0.6570318674944937,
          -1.5939903612997313,
          0.09708514346645437,
          -0.4908422518775322,
          -0.05519433581355638,
          0.042019189836366225,
          0.344579576899029,
          1.7058074601968831,
          0.19227957518063715,
          0.6427875137342878,
          -0.09204230995282851,
          0.18196191470320913,
          -0.7485204223778648,
          0.9199953795007977,
          2.270056674567012,
          0.06257992560858991,
          -1.7113170970229996,
          0.7057637431230915,
          0.3212281661851288,
          -1.4999545476309766,
          -0.2457876549511953,
          -0.5026702726458508,
          -0.8378694624017728,
          -0.4872835426161976,
          -1.2615035368256935,
          -2.5115754988356915,
          0.9864890564788301,
          0.396737779794545,
          -1.4657789023223258,
          -0.3397456170067192,
          0.418144597004115,
          -0.1294529667117238,
          0.004876764515848807,
          1.0361484126515212,
          -1.9379241744374494,
          -0.4812544862291755,
          -2.7247504675261713,
          -2.046209405926666,
          1.3399502426202767,
          -0.4939451562461667,
          -1.334287348674052,
          3.057171462123101,
          -0.22997419115912268,
          -1.0939365000600445,
          -0.019393103391439844,
          -0.19999322336046782,
          -0.5498380394261451,
          -0.46143539445536796,
          -1.7438430263031461,
          -0.35178030279427575,
          -0.18192593046993333
         ],
         "xaxis": "x16",
         "yaxis": "y16"
        }
       ],
       "layout": {
        "bargap": 0.02,
        "legend": {
         "bgcolor": "#F5F6F9",
         "font": {
          "color": "#4D5663"
         }
        },
        "paper_bgcolor": "#F5F6F9",
        "plot_bgcolor": "#F5F6F9",
        "showlegend": false,
        "template": {
         "data": {
          "bar": [
           {
            "error_x": {
             "color": "#2a3f5f"
            },
            "error_y": {
             "color": "#2a3f5f"
            },
            "marker": {
             "line": {
              "color": "#E5ECF6",
              "width": 0.5
             }
            },
            "type": "bar"
           }
          ],
          "barpolar": [
           {
            "marker": {
             "line": {
              "color": "#E5ECF6",
              "width": 0.5
             }
            },
            "type": "barpolar"
           }
          ],
          "carpet": [
           {
            "aaxis": {
             "endlinecolor": "#2a3f5f",
             "gridcolor": "white",
             "linecolor": "white",
             "minorgridcolor": "white",
             "startlinecolor": "#2a3f5f"
            },
            "baxis": {
             "endlinecolor": "#2a3f5f",
             "gridcolor": "white",
             "linecolor": "white",
             "minorgridcolor": "white",
             "startlinecolor": "#2a3f5f"
            },
            "type": "carpet"
           }
          ],
          "choropleth": [
           {
            "colorbar": {
             "outlinewidth": 0,
             "ticks": ""
            },
            "type": "choropleth"
           }
          ],
          "contour": [
           {
            "colorbar": {
             "outlinewidth": 0,
             "ticks": ""
            },
            "colorscale": [
             [
              0,
              "#0d0887"
             ],
             [
              0.1111111111111111,
              "#46039f"
             ],
             [
              0.2222222222222222,
              "#7201a8"
             ],
             [
              0.3333333333333333,
              "#9c179e"
             ],
             [
              0.4444444444444444,
              "#bd3786"
             ],
             [
              0.5555555555555556,
              "#d8576b"
             ],
             [
              0.6666666666666666,
              "#ed7953"
             ],
             [
              0.7777777777777778,
              "#fb9f3a"
             ],
             [
              0.8888888888888888,
              "#fdca26"
             ],
             [
              1,
              "#f0f921"
             ]
            ],
            "type": "contour"
           }
          ],
          "contourcarpet": [
           {
            "colorbar": {
             "outlinewidth": 0,
             "ticks": ""
            },
            "type": "contourcarpet"
           }
          ],
          "heatmap": [
           {
            "colorbar": {
             "outlinewidth": 0,
             "ticks": ""
            },
            "colorscale": [
             [
              0,
              "#0d0887"
             ],
             [
              0.1111111111111111,
              "#46039f"
             ],
             [
              0.2222222222222222,
              "#7201a8"
             ],
             [
              0.3333333333333333,
              "#9c179e"
             ],
             [
              0.4444444444444444,
              "#bd3786"
             ],
             [
              0.5555555555555556,
              "#d8576b"
             ],
             [
              0.6666666666666666,
              "#ed7953"
             ],
             [
              0.7777777777777778,
              "#fb9f3a"
             ],
             [
              0.8888888888888888,
              "#fdca26"
             ],
             [
              1,
              "#f0f921"
             ]
            ],
            "type": "heatmap"
           }
          ],
          "heatmapgl": [
           {
            "colorbar": {
             "outlinewidth": 0,
             "ticks": ""
            },
            "colorscale": [
             [
              0,
              "#0d0887"
             ],
             [
              0.1111111111111111,
              "#46039f"
             ],
             [
              0.2222222222222222,
              "#7201a8"
             ],
             [
              0.3333333333333333,
              "#9c179e"
             ],
             [
              0.4444444444444444,
              "#bd3786"
             ],
             [
              0.5555555555555556,
              "#d8576b"
             ],
             [
              0.6666666666666666,
              "#ed7953"
             ],
             [
              0.7777777777777778,
              "#fb9f3a"
             ],
             [
              0.8888888888888888,
              "#fdca26"
             ],
             [
              1,
              "#f0f921"
             ]
            ],
            "type": "heatmapgl"
           }
          ],
          "histogram": [
           {
            "marker": {
             "colorbar": {
              "outlinewidth": 0,
              "ticks": ""
             }
            },
            "type": "histogram"
           }
          ],
          "histogram2d": [
           {
            "colorbar": {
             "outlinewidth": 0,
             "ticks": ""
            },
            "colorscale": [
             [
              0,
              "#0d0887"
             ],
             [
              0.1111111111111111,
              "#46039f"
             ],
             [
              0.2222222222222222,
              "#7201a8"
             ],
             [
              0.3333333333333333,
              "#9c179e"
             ],
             [
              0.4444444444444444,
              "#bd3786"
             ],
             [
              0.5555555555555556,
              "#d8576b"
             ],
             [
              0.6666666666666666,
              "#ed7953"
             ],
             [
              0.7777777777777778,
              "#fb9f3a"
             ],
             [
              0.8888888888888888,
              "#fdca26"
             ],
             [
              1,
              "#f0f921"
             ]
            ],
            "type": "histogram2d"
           }
          ],
          "histogram2dcontour": [
           {
            "colorbar": {
             "outlinewidth": 0,
             "ticks": ""
            },
            "colorscale": [
             [
              0,
              "#0d0887"
             ],
             [
              0.1111111111111111,
              "#46039f"
             ],
             [
              0.2222222222222222,
              "#7201a8"
             ],
             [
              0.3333333333333333,
              "#9c179e"
             ],
             [
              0.4444444444444444,
              "#bd3786"
             ],
             [
              0.5555555555555556,
              "#d8576b"
             ],
             [
              0.6666666666666666,
              "#ed7953"
             ],
             [
              0.7777777777777778,
              "#fb9f3a"
             ],
             [
              0.8888888888888888,
              "#fdca26"
             ],
             [
              1,
              "#f0f921"
             ]
            ],
            "type": "histogram2dcontour"
           }
          ],
          "mesh3d": [
           {
            "colorbar": {
             "outlinewidth": 0,
             "ticks": ""
            },
            "type": "mesh3d"
           }
          ],
          "parcoords": [
           {
            "line": {
             "colorbar": {
              "outlinewidth": 0,
              "ticks": ""
             }
            },
            "type": "parcoords"
           }
          ],
          "pie": [
           {
            "automargin": true,
            "type": "pie"
           }
          ],
          "scatter": [
           {
            "marker": {
             "colorbar": {
              "outlinewidth": 0,
              "ticks": ""
             }
            },
            "type": "scatter"
           }
          ],
          "scatter3d": [
           {
            "line": {
             "colorbar": {
              "outlinewidth": 0,
              "ticks": ""
             }
            },
            "marker": {
             "colorbar": {
              "outlinewidth": 0,
              "ticks": ""
             }
            },
            "type": "scatter3d"
           }
          ],
          "scattercarpet": [
           {
            "marker": {
             "colorbar": {
              "outlinewidth": 0,
              "ticks": ""
             }
            },
            "type": "scattercarpet"
           }
          ],
          "scattergeo": [
           {
            "marker": {
             "colorbar": {
              "outlinewidth": 0,
              "ticks": ""
             }
            },
            "type": "scattergeo"
           }
          ],
          "scattergl": [
           {
            "marker": {
             "colorbar": {
              "outlinewidth": 0,
              "ticks": ""
             }
            },
            "type": "scattergl"
           }
          ],
          "scattermapbox": [
           {
            "marker": {
             "colorbar": {
              "outlinewidth": 0,
              "ticks": ""
             }
            },
            "type": "scattermapbox"
           }
          ],
          "scatterpolar": [
           {
            "marker": {
             "colorbar": {
              "outlinewidth": 0,
              "ticks": ""
             }
            },
            "type": "scatterpolar"
           }
          ],
          "scatterpolargl": [
           {
            "marker": {
             "colorbar": {
              "outlinewidth": 0,
              "ticks": ""
             }
            },
            "type": "scatterpolargl"
           }
          ],
          "scatterternary": [
           {
            "marker": {
             "colorbar": {
              "outlinewidth": 0,
              "ticks": ""
             }
            },
            "type": "scatterternary"
           }
          ],
          "surface": [
           {
            "colorbar": {
             "outlinewidth": 0,
             "ticks": ""
            },
            "colorscale": [
             [
              0,
              "#0d0887"
             ],
             [
              0.1111111111111111,
              "#46039f"
             ],
             [
              0.2222222222222222,
              "#7201a8"
             ],
             [
              0.3333333333333333,
              "#9c179e"
             ],
             [
              0.4444444444444444,
              "#bd3786"
             ],
             [
              0.5555555555555556,
              "#d8576b"
             ],
             [
              0.6666666666666666,
              "#ed7953"
             ],
             [
              0.7777777777777778,
              "#fb9f3a"
             ],
             [
              0.8888888888888888,
              "#fdca26"
             ],
             [
              1,
              "#f0f921"
             ]
            ],
            "type": "surface"
           }
          ],
          "table": [
           {
            "cells": {
             "fill": {
              "color": "#EBF0F8"
             },
             "line": {
              "color": "white"
             }
            },
            "header": {
             "fill": {
              "color": "#C8D4E3"
             },
             "line": {
              "color": "white"
             }
            },
            "type": "table"
           }
          ]
         },
         "layout": {
          "annotationdefaults": {
           "arrowcolor": "#2a3f5f",
           "arrowhead": 0,
           "arrowwidth": 1
          },
          "coloraxis": {
           "colorbar": {
            "outlinewidth": 0,
            "ticks": ""
           }
          },
          "colorscale": {
           "diverging": [
            [
             0,
             "#8e0152"
            ],
            [
             0.1,
             "#c51b7d"
            ],
            [
             0.2,
             "#de77ae"
            ],
            [
             0.3,
             "#f1b6da"
            ],
            [
             0.4,
             "#fde0ef"
            ],
            [
             0.5,
             "#f7f7f7"
            ],
            [
             0.6,
             "#e6f5d0"
            ],
            [
             0.7,
             "#b8e186"
            ],
            [
             0.8,
             "#7fbc41"
            ],
            [
             0.9,
             "#4d9221"
            ],
            [
             1,
             "#276419"
            ]
           ],
           "sequential": [
            [
             0,
             "#0d0887"
            ],
            [
             0.1111111111111111,
             "#46039f"
            ],
            [
             0.2222222222222222,
             "#7201a8"
            ],
            [
             0.3333333333333333,
             "#9c179e"
            ],
            [
             0.4444444444444444,
             "#bd3786"
            ],
            [
             0.5555555555555556,
             "#d8576b"
            ],
            [
             0.6666666666666666,
             "#ed7953"
            ],
            [
             0.7777777777777778,
             "#fb9f3a"
            ],
            [
             0.8888888888888888,
             "#fdca26"
            ],
            [
             1,
             "#f0f921"
            ]
           ],
           "sequentialminus": [
            [
             0,
             "#0d0887"
            ],
            [
             0.1111111111111111,
             "#46039f"
            ],
            [
             0.2222222222222222,
             "#7201a8"
            ],
            [
             0.3333333333333333,
             "#9c179e"
            ],
            [
             0.4444444444444444,
             "#bd3786"
            ],
            [
             0.5555555555555556,
             "#d8576b"
            ],
            [
             0.6666666666666666,
             "#ed7953"
            ],
            [
             0.7777777777777778,
             "#fb9f3a"
            ],
            [
             0.8888888888888888,
             "#fdca26"
            ],
            [
             1,
             "#f0f921"
            ]
           ]
          },
          "colorway": [
           "#636efa",
           "#EF553B",
           "#00cc96",
           "#ab63fa",
           "#FFA15A",
           "#19d3f3",
           "#FF6692",
           "#B6E880",
           "#FF97FF",
           "#FECB52"
          ],
          "font": {
           "color": "#2a3f5f"
          },
          "geo": {
           "bgcolor": "white",
           "lakecolor": "white",
           "landcolor": "#E5ECF6",
           "showlakes": true,
           "showland": true,
           "subunitcolor": "white"
          },
          "hoverlabel": {
           "align": "left"
          },
          "hovermode": "closest",
          "mapbox": {
           "style": "light"
          },
          "paper_bgcolor": "white",
          "plot_bgcolor": "#E5ECF6",
          "polar": {
           "angularaxis": {
            "gridcolor": "white",
            "linecolor": "white",
            "ticks": ""
           },
           "bgcolor": "#E5ECF6",
           "radialaxis": {
            "gridcolor": "white",
            "linecolor": "white",
            "ticks": ""
           }
          },
          "scene": {
           "xaxis": {
            "backgroundcolor": "#E5ECF6",
            "gridcolor": "white",
            "gridwidth": 2,
            "linecolor": "white",
            "showbackground": true,
            "ticks": "",
            "zerolinecolor": "white"
           },
           "yaxis": {
            "backgroundcolor": "#E5ECF6",
            "gridcolor": "white",
            "gridwidth": 2,
            "linecolor": "white",
            "showbackground": true,
            "ticks": "",
            "zerolinecolor": "white"
           },
           "zaxis": {
            "backgroundcolor": "#E5ECF6",
            "gridcolor": "white",
            "gridwidth": 2,
            "linecolor": "white",
            "showbackground": true,
            "ticks": "",
            "zerolinecolor": "white"
           }
          },
          "shapedefaults": {
           "line": {
            "color": "#2a3f5f"
           }
          },
          "ternary": {
           "aaxis": {
            "gridcolor": "white",
            "linecolor": "white",
            "ticks": ""
           },
           "baxis": {
            "gridcolor": "white",
            "linecolor": "white",
            "ticks": ""
           },
           "bgcolor": "#E5ECF6",
           "caxis": {
            "gridcolor": "white",
            "linecolor": "white",
            "ticks": ""
           }
          },
          "title": {
           "x": 0.05
          },
          "xaxis": {
           "automargin": true,
           "gridcolor": "white",
           "linecolor": "white",
           "ticks": "",
           "title": {
            "standoff": 15
           },
           "zerolinecolor": "white",
           "zerolinewidth": 2
          },
          "yaxis": {
           "automargin": true,
           "gridcolor": "white",
           "linecolor": "white",
           "ticks": "",
           "title": {
            "standoff": 15
           },
           "zerolinecolor": "white",
           "zerolinewidth": 2
          }
         }
        },
        "title": {
         "font": {
          "color": "#4D5663"
         }
        },
        "xaxis": {
         "anchor": "y",
         "domain": [
          0,
          0.2125
         ],
         "gridcolor": "#E1E5ED",
         "showgrid": false,
         "tickfont": {
          "color": "#4D5663"
         },
         "title": {
          "font": {
           "color": "#4D5663"
          },
          "text": ""
         },
         "zerolinecolor": "#E1E5ED"
        },
        "xaxis10": {
         "anchor": "y10",
         "domain": [
          0.2625,
          0.475
         ],
         "gridcolor": "#E1E5ED",
         "showgrid": false,
         "tickfont": {
          "color": "#4D5663"
         },
         "title": {
          "font": {
           "color": "#4D5663"
          },
          "text": ""
         },
         "zerolinecolor": "#E1E5ED"
        },
        "xaxis11": {
         "anchor": "y11",
         "domain": [
          0.525,
          0.7375
         ],
         "gridcolor": "#E1E5ED",
         "showgrid": false,
         "tickfont": {
          "color": "#4D5663"
         },
         "title": {
          "font": {
           "color": "#4D5663"
          },
          "text": ""
         },
         "zerolinecolor": "#E1E5ED"
        },
        "xaxis12": {
         "anchor": "y12",
         "domain": [
          0.7875,
          1
         ],
         "gridcolor": "#E1E5ED",
         "showgrid": false,
         "tickfont": {
          "color": "#4D5663"
         },
         "title": {
          "font": {
           "color": "#4D5663"
          },
          "text": ""
         },
         "zerolinecolor": "#E1E5ED"
        },
        "xaxis13": {
         "anchor": "y13",
         "domain": [
          0,
          0.2125
         ],
         "gridcolor": "#E1E5ED",
         "showgrid": false,
         "tickfont": {
          "color": "#4D5663"
         },
         "title": {
          "font": {
           "color": "#4D5663"
          },
          "text": ""
         },
         "zerolinecolor": "#E1E5ED"
        },
        "xaxis14": {
         "anchor": "y14",
         "domain": [
          0.2625,
          0.475
         ],
         "gridcolor": "#E1E5ED",
         "showgrid": false,
         "tickfont": {
          "color": "#4D5663"
         },
         "title": {
          "font": {
           "color": "#4D5663"
          },
          "text": ""
         },
         "zerolinecolor": "#E1E5ED"
        },
        "xaxis15": {
         "anchor": "y15",
         "domain": [
          0.525,
          0.7375
         ],
         "gridcolor": "#E1E5ED",
         "showgrid": false,
         "tickfont": {
          "color": "#4D5663"
         },
         "title": {
          "font": {
           "color": "#4D5663"
          },
          "text": ""
         },
         "zerolinecolor": "#E1E5ED"
        },
        "xaxis16": {
         "anchor": "y16",
         "domain": [
          0.7875,
          1
         ],
         "gridcolor": "#E1E5ED",
         "showgrid": false,
         "tickfont": {
          "color": "#4D5663"
         },
         "title": {
          "font": {
           "color": "#4D5663"
          },
          "text": ""
         },
         "zerolinecolor": "#E1E5ED"
        },
        "xaxis2": {
         "anchor": "y2",
         "domain": [
          0.2625,
          0.475
         ],
         "gridcolor": "#E1E5ED",
         "showgrid": false,
         "tickfont": {
          "color": "#4D5663"
         },
         "title": {
          "font": {
           "color": "#4D5663"
          },
          "text": ""
         },
         "zerolinecolor": "#E1E5ED"
        },
        "xaxis3": {
         "anchor": "y3",
         "domain": [
          0.525,
          0.7375
         ],
         "gridcolor": "#E1E5ED",
         "showgrid": false,
         "tickfont": {
          "color": "#4D5663"
         },
         "title": {
          "font": {
           "color": "#4D5663"
          },
          "text": ""
         },
         "zerolinecolor": "#E1E5ED"
        },
        "xaxis4": {
         "anchor": "y4",
         "domain": [
          0.7875,
          1
         ],
         "gridcolor": "#E1E5ED",
         "showgrid": false,
         "tickfont": {
          "color": "#4D5663"
         },
         "title": {
          "font": {
           "color": "#4D5663"
          },
          "text": ""
         },
         "zerolinecolor": "#E1E5ED"
        },
        "xaxis5": {
         "anchor": "y5",
         "domain": [
          0,
          0.2125
         ],
         "gridcolor": "#E1E5ED",
         "showgrid": false,
         "tickfont": {
          "color": "#4D5663"
         },
         "title": {
          "font": {
           "color": "#4D5663"
          },
          "text": ""
         },
         "zerolinecolor": "#E1E5ED"
        },
        "xaxis6": {
         "anchor": "y6",
         "domain": [
          0.2625,
          0.475
         ],
         "gridcolor": "#E1E5ED",
         "showgrid": false,
         "tickfont": {
          "color": "#4D5663"
         },
         "title": {
          "font": {
           "color": "#4D5663"
          },
          "text": ""
         },
         "zerolinecolor": "#E1E5ED"
        },
        "xaxis7": {
         "anchor": "y7",
         "domain": [
          0.525,
          0.7375
         ],
         "gridcolor": "#E1E5ED",
         "showgrid": false,
         "tickfont": {
          "color": "#4D5663"
         },
         "title": {
          "font": {
           "color": "#4D5663"
          },
          "text": ""
         },
         "zerolinecolor": "#E1E5ED"
        },
        "xaxis8": {
         "anchor": "y8",
         "domain": [
          0.7875,
          1
         ],
         "gridcolor": "#E1E5ED",
         "showgrid": false,
         "tickfont": {
          "color": "#4D5663"
         },
         "title": {
          "font": {
           "color": "#4D5663"
          },
          "text": ""
         },
         "zerolinecolor": "#E1E5ED"
        },
        "xaxis9": {
         "anchor": "y9",
         "domain": [
          0,
          0.2125
         ],
         "gridcolor": "#E1E5ED",
         "showgrid": false,
         "tickfont": {
          "color": "#4D5663"
         },
         "title": {
          "font": {
           "color": "#4D5663"
          },
          "text": ""
         },
         "zerolinecolor": "#E1E5ED"
        },
        "yaxis": {
         "anchor": "x",
         "domain": [
          0.8025,
          1
         ],
         "gridcolor": "#E1E5ED",
         "showgrid": false,
         "tickfont": {
          "color": "#4D5663"
         },
         "title": {
          "font": {
           "color": "#4D5663"
          },
          "text": ""
         },
         "zerolinecolor": "#E1E5ED"
        },
        "yaxis10": {
         "anchor": "x10",
         "domain": [
          0.2675,
          0.465
         ],
         "gridcolor": "#E1E5ED",
         "showgrid": false,
         "tickfont": {
          "color": "#4D5663"
         },
         "title": {
          "font": {
           "color": "#4D5663"
          },
          "text": ""
         },
         "zerolinecolor": "#E1E5ED"
        },
        "yaxis11": {
         "anchor": "x11",
         "domain": [
          0.2675,
          0.465
         ],
         "gridcolor": "#E1E5ED",
         "showgrid": false,
         "tickfont": {
          "color": "#4D5663"
         },
         "title": {
          "font": {
           "color": "#4D5663"
          },
          "text": ""
         },
         "zerolinecolor": "#E1E5ED"
        },
        "yaxis12": {
         "anchor": "x12",
         "domain": [
          0.2675,
          0.465
         ],
         "gridcolor": "#E1E5ED",
         "showgrid": false,
         "tickfont": {
          "color": "#4D5663"
         },
         "title": {
          "font": {
           "color": "#4D5663"
          },
          "text": ""
         },
         "zerolinecolor": "#E1E5ED"
        },
        "yaxis13": {
         "anchor": "x13",
         "domain": [
          0,
          0.1975
         ],
         "gridcolor": "#E1E5ED",
         "showgrid": false,
         "tickfont": {
          "color": "#4D5663"
         },
         "title": {
          "font": {
           "color": "#4D5663"
          },
          "text": ""
         },
         "zerolinecolor": "#E1E5ED"
        },
        "yaxis14": {
         "anchor": "x14",
         "domain": [
          0,
          0.1975
         ],
         "gridcolor": "#E1E5ED",
         "showgrid": false,
         "tickfont": {
          "color": "#4D5663"
         },
         "title": {
          "font": {
           "color": "#4D5663"
          },
          "text": ""
         },
         "zerolinecolor": "#E1E5ED"
        },
        "yaxis15": {
         "anchor": "x15",
         "domain": [
          0,
          0.1975
         ],
         "gridcolor": "#E1E5ED",
         "showgrid": false,
         "tickfont": {
          "color": "#4D5663"
         },
         "title": {
          "font": {
           "color": "#4D5663"
          },
          "text": ""
         },
         "zerolinecolor": "#E1E5ED"
        },
        "yaxis16": {
         "anchor": "x16",
         "domain": [
          0,
          0.1975
         ],
         "gridcolor": "#E1E5ED",
         "showgrid": false,
         "tickfont": {
          "color": "#4D5663"
         },
         "title": {
          "font": {
           "color": "#4D5663"
          },
          "text": ""
         },
         "zerolinecolor": "#E1E5ED"
        },
        "yaxis2": {
         "anchor": "x2",
         "domain": [
          0.8025,
          1
         ],
         "gridcolor": "#E1E5ED",
         "showgrid": false,
         "tickfont": {
          "color": "#4D5663"
         },
         "title": {
          "font": {
           "color": "#4D5663"
          },
          "text": ""
         },
         "zerolinecolor": "#E1E5ED"
        },
        "yaxis3": {
         "anchor": "x3",
         "domain": [
          0.8025,
          1
         ],
         "gridcolor": "#E1E5ED",
         "showgrid": false,
         "tickfont": {
          "color": "#4D5663"
         },
         "title": {
          "font": {
           "color": "#4D5663"
          },
          "text": ""
         },
         "zerolinecolor": "#E1E5ED"
        },
        "yaxis4": {
         "anchor": "x4",
         "domain": [
          0.8025,
          1
         ],
         "gridcolor": "#E1E5ED",
         "showgrid": false,
         "tickfont": {
          "color": "#4D5663"
         },
         "title": {
          "font": {
           "color": "#4D5663"
          },
          "text": ""
         },
         "zerolinecolor": "#E1E5ED"
        },
        "yaxis5": {
         "anchor": "x5",
         "domain": [
          0.535,
          0.7325
         ],
         "gridcolor": "#E1E5ED",
         "showgrid": false,
         "tickfont": {
          "color": "#4D5663"
         },
         "title": {
          "font": {
           "color": "#4D5663"
          },
          "text": ""
         },
         "zerolinecolor": "#E1E5ED"
        },
        "yaxis6": {
         "anchor": "x6",
         "domain": [
          0.535,
          0.7325
         ],
         "gridcolor": "#E1E5ED",
         "showgrid": false,
         "tickfont": {
          "color": "#4D5663"
         },
         "title": {
          "font": {
           "color": "#4D5663"
          },
          "text": ""
         },
         "zerolinecolor": "#E1E5ED"
        },
        "yaxis7": {
         "anchor": "x7",
         "domain": [
          0.535,
          0.7325
         ],
         "gridcolor": "#E1E5ED",
         "showgrid": false,
         "tickfont": {
          "color": "#4D5663"
         },
         "title": {
          "font": {
           "color": "#4D5663"
          },
          "text": ""
         },
         "zerolinecolor": "#E1E5ED"
        },
        "yaxis8": {
         "anchor": "x8",
         "domain": [
          0.535,
          0.7325
         ],
         "gridcolor": "#E1E5ED",
         "showgrid": false,
         "tickfont": {
          "color": "#4D5663"
         },
         "title": {
          "font": {
           "color": "#4D5663"
          },
          "text": ""
         },
         "zerolinecolor": "#E1E5ED"
        },
        "yaxis9": {
         "anchor": "x9",
         "domain": [
          0.2675,
          0.465
         ],
         "gridcolor": "#E1E5ED",
         "showgrid": false,
         "tickfont": {
          "color": "#4D5663"
         },
         "title": {
          "font": {
           "color": "#4D5663"
          },
          "text": ""
         },
         "zerolinecolor": "#E1E5ED"
        }
       }
      },
      "text/html": [
       "<div>\n",
       "        \n",
       "        \n",
       "            <div id=\"25956468-e516-4bec-af8a-e789f9b841b1\" class=\"plotly-graph-div\" style=\"height:525px; width:100%;\"></div>\n",
       "            <script type=\"text/javascript\">\n",
       "                require([\"plotly\"], function(Plotly) {\n",
       "                    window.PLOTLYENV=window.PLOTLYENV || {};\n",
       "                    window.PLOTLYENV.BASE_URL='https://plot.ly';\n",
       "                    \n",
       "                if (document.getElementById(\"25956468-e516-4bec-af8a-e789f9b841b1\")) {\n",
       "                    Plotly.newPlot(\n",
       "                        '25956468-e516-4bec-af8a-e789f9b841b1',\n",
       "                        [{\"histfunc\": \"count\", \"histnorm\": \"\", \"marker\": {\"color\": \"rgba(255, 153, 51, 1.0)\", \"line\": {\"color\": \"#4D5663\", \"width\": 1.3}}, \"name\": \"A\", \"nbinsx\": 10, \"opacity\": 0.8, \"orientation\": \"v\", \"type\": \"histogram\", \"x\": [-0.08041073899511382, -0.6151160222842449, -0.5808034456261486, -0.6313101469184043, 0.9904073723163997, -0.6000168852567765, -0.5885502387286373, 0.18477904428864386, -0.4658247851906445, 2.3793025312990492, 0.2248512998964256, -0.30685458058413345, 0.5172381715858361, -0.21324657521049858, 0.23972318572241827, -2.400589404618203, 1.3223199594970096, 0.015939906893203234, -1.5832259598996214, -0.9190489027321409, 0.4730113751642799, 1.0786363180926952, -0.24377659744999874, 0.164241978827947, 0.7942119330570302, -0.4127859722174128, 0.7413285662813682, 0.23375858805214605, 0.673503451591191, 0.7128011111584379, 0.5297155298435244, 0.6540302721696478, -2.447129797757341, -0.6606132960394067, 0.2696345343103929, 1.2699122431202663, 0.2042267331407826, 1.244375850736996, -0.8383955661986674, -1.0436526421274157, -2.3719224742430685, -0.2937573989694159, -1.1667387440013157, -0.20835829572494252, -1.582929180184313, -1.3905092681491171, -1.9684195498534138, -0.5474526877788535, 0.3506996957877933, 0.22490843267634683, 0.6626994263438095, -1.55666246535441, -1.4092970962638396, 1.7540500737250533, -1.1822357875421283, 0.8254351648968924, -0.8155332966176337, -0.7430699184182005, -0.5242445523082108, -0.02121914213591935, 0.11897271616306106, 1.24000155189826, -0.12412066012159768, 0.3157479923996985, -1.3899830415920824, -0.34760793802059503, 0.547682040129073, -0.41873296390333137, 0.30906930704823077, -0.5646573855391537, -0.2055027384609156, -0.44254018166501224, -0.47112623288718575, 0.1552416693165053, 0.0017384132179926366, -1.551593275455728, -0.4234921860598587, 0.6494343322625905, 0.5996077489180177, 1.1782413486752166, -0.5033606273925229, 0.819708204847244, 0.09016970646950159, -0.22042764299209439, -0.06249041005051703, -0.5067060750717906, -1.2848775632360026, -1.0439710960994422, 1.832071436334213, 0.6144142518560111, -1.4002975798711024, 0.018263481656676912, -0.44322620435757665, -0.21623864964117803, 1.217074233459462, -0.6536863255962454, 0.8595514673202337, 1.0207801556487885, -0.5916487604653361, -1.6019281391101097], \"xaxis\": \"x\", \"yaxis\": \"y\"}, {\"line\": {\"color\": \"rgba(128, 128, 128, 1.0)\", \"dash\": \"solid\", \"shape\": \"linear\", \"width\": 1.3}, \"marker\": {\"size\": 2, \"symbol\": \"circle\"}, \"mode\": \"markers\", \"name\": \"A\", \"text\": \"\", \"type\": \"scatter\", \"x\": [0.5847521709987167, 1.416135425448743, -0.02193980163591156, 1.0013020771420085, -0.27740457105104066, -1.4447465497987408, -2.040204644799607, 1.0029081948520164, -0.2810971812517474, 1.0252737000345813, 0.27068526227379247, 1.1470770718279595, -0.5888546275328206, 1.4273380390131492, 0.2086171447182851, -0.2875421537307741, -0.9853532885603278, -1.2254474057149276, 0.2676216333451455, 1.081682934905261, 1.1632682266690813, 1.2871795766027607, 0.871104495281452, 1.8238537989591024, 1.2396782959198915, -0.5186902170664442, -0.28842788919227996, -0.09080974861107848, 0.3603274958193862, 0.15805756661314824, 0.15395301850870477, 0.08238213359689824, 0.37746101585567343, 0.2666193731972084, 0.08112154919247953, 0.18554268521858297, -0.5804771162529837, -0.4324114593114584, -0.09918022081792709, -0.09419899742061491, 1.225995859716065, 1.0982259621569304, 0.03021255486881537, 0.26093095351215384, 1.0032625749077733, -0.379901548088872, -0.542554141709257, -1.0772761392227095, 0.7239032100688596, -0.16543581199498433, 1.1078079827072325, 0.7709725457443424, -0.0344966046980537, -0.8226795974370851, -1.706777614049343, 0.9079931171013804, 0.18008700663392901, 0.749553874821924, -0.37702549696765186, 0.7724047186087337, 1.3120910818557805, 0.05125329456421593, 0.10017530538548051, -0.6895347209932827, 0.045048085035044004, 0.10646626592697084, -1.8058546002940823, -0.27251111619450097, 0.008851235048992899, -0.23179744833396781, 0.2432165859889888, 1.86200639032237, -3.0738387380541465, 1.3214852040849363, 0.22954225287636534, -1.260791826026142, -1.609125825572039, 0.11680930177241139, 0.748842781193093, -0.2806525071335359, 0.6766685021521556, 0.1587205355149384, 0.2888196524039874, -0.6507586318790385, 1.7789826623426028, -0.9605271280324573, 0.6957021260494419, 0.7388996977221987, -0.14437121754486948, 1.042838079438687, -0.44210180606067057, -0.9551581965860438, 0.9495665282329464, 0.23496425984077343, -0.33531161274819027, -0.13140202615689167, -0.42973470331868785, 0.7491272560677047, -1.074834820795073, 0.06366308205424531], \"xaxis\": \"x2\", \"y\": [-0.08041073899511382, -0.6151160222842449, -0.5808034456261486, -0.6313101469184043, 0.9904073723163997, -0.6000168852567765, -0.5885502387286373, 0.18477904428864386, -0.4658247851906445, 2.3793025312990492, 0.2248512998964256, -0.30685458058413345, 0.5172381715858361, -0.21324657521049858, 0.23972318572241827, -2.400589404618203, 1.3223199594970096, 0.015939906893203234, -1.5832259598996214, -0.9190489027321409, 0.4730113751642799, 1.0786363180926952, -0.24377659744999874, 0.164241978827947, 0.7942119330570302, -0.4127859722174128, 0.7413285662813682, 0.23375858805214605, 0.673503451591191, 0.7128011111584379, 0.5297155298435244, 0.6540302721696478, -2.447129797757341, -0.6606132960394067, 0.2696345343103929, 1.2699122431202663, 0.2042267331407826, 1.244375850736996, -0.8383955661986674, -1.0436526421274157, -2.3719224742430685, -0.2937573989694159, -1.1667387440013157, -0.20835829572494252, -1.582929180184313, -1.3905092681491171, -1.9684195498534138, -0.5474526877788535, 0.3506996957877933, 0.22490843267634683, 0.6626994263438095, -1.55666246535441, -1.4092970962638396, 1.7540500737250533, -1.1822357875421283, 0.8254351648968924, -0.8155332966176337, -0.7430699184182005, -0.5242445523082108, -0.02121914213591935, 0.11897271616306106, 1.24000155189826, -0.12412066012159768, 0.3157479923996985, -1.3899830415920824, -0.34760793802059503, 0.547682040129073, -0.41873296390333137, 0.30906930704823077, -0.5646573855391537, -0.2055027384609156, -0.44254018166501224, -0.47112623288718575, 0.1552416693165053, 0.0017384132179926366, -1.551593275455728, -0.4234921860598587, 0.6494343322625905, 0.5996077489180177, 1.1782413486752166, -0.5033606273925229, 0.819708204847244, 0.09016970646950159, -0.22042764299209439, -0.06249041005051703, -0.5067060750717906, -1.2848775632360026, -1.0439710960994422, 1.832071436334213, 0.6144142518560111, -1.4002975798711024, 0.018263481656676912, -0.44322620435757665, -0.21623864964117803, 1.217074233459462, -0.6536863255962454, 0.8595514673202337, 1.0207801556487885, -0.5916487604653361, -1.6019281391101097], \"yaxis\": \"y2\"}, {\"line\": {\"color\": \"rgba(128, 128, 128, 1.0)\", \"dash\": \"solid\", \"shape\": \"linear\", \"width\": 1.3}, \"marker\": {\"size\": 2, \"symbol\": \"circle\"}, \"mode\": \"markers\", \"name\": \"A\", \"text\": \"\", \"type\": \"scatter\", \"x\": [-0.5040713695527463, 1.2784202450241422, -0.232759559818154, -0.679654541573124, -1.011015422291063, -0.32187289353674653, 0.5627893851315948, 0.9098914259540819, -0.919821032957485, 1.3941803932409902, -0.8550758261359718, 0.6243531459906352, 0.8400190416731714, -0.2753615192589795, -0.2585792639496748, -1.397884102026485, 2.0228648522783246, 1.2477712691964573, -1.060055996065693, 1.8599201417821452, -1.764864488117764, -0.0028176670282632644, 0.0692372225869619, -0.4791952902270925, -0.5419858833833523, 1.0815002014773385, 0.7170715008741838, 0.3933653744163969, -0.9035266056041219, 1.499299058408644, 0.4842143177576148, -0.011608012127365093, -1.4602517038263843, 0.6068444434417665, 0.903137943058507, -2.1545184577840715, -0.3108598498176006, 1.419811759778885, 0.5220044477439261, -1.2035550381761686, -1.938620334238564, -1.7339789706381616, -1.6140469676885045, -0.6071544703879108, 0.016490473613038428, 0.5860273908655671, -0.1151062845554965, 0.23816785737402918, -0.12246295081874024, 0.40136628538593233, 2.0380763326821327, -1.4909840779242247, -0.025328622959499288, 0.9732231166084475, -0.12548941087916854, 2.7713894872401066, -0.3574211382468966, 3.734238465340607, -0.46444052612085, 2.0816217769462324, -0.6675661579125914, -0.44237890841309857, -0.01729481874918793, -0.16016386308921032, -0.2774752711858284, 0.5824575495784985, -0.4169110547024678, 0.055149602105424494, 0.5502152645938555, 0.3359015858865263, -1.601271848893958, 0.7906604686356005, 1.5591393363957884, -0.862791098485518, -1.5256277083293754, 0.8437511523936281, 0.313892080669878, 1.394700971566019, 1.4676191999753831, -0.08584012243973556, 0.5339217143585893, -1.504967502787583, -0.6120937712731666, -0.32499689256595293, -1.5343027825929318, 0.29700259098519144, -1.2118965789837157, 1.5361194292633042, 1.2932770588128062, 0.6139310695919133, -1.1292865063306947, 1.5296234784013558, -2.968692751946457, -2.1464598410941362, 1.8393753279299379, 0.33505069399545345, 0.4115653585619959, -1.5276411041474476, 0.9440653214584742, 0.3297241147261427], \"xaxis\": \"x3\", \"y\": [-0.08041073899511382, -0.6151160222842449, -0.5808034456261486, -0.6313101469184043, 0.9904073723163997, -0.6000168852567765, -0.5885502387286373, 0.18477904428864386, -0.4658247851906445, 2.3793025312990492, 0.2248512998964256, -0.30685458058413345, 0.5172381715858361, -0.21324657521049858, 0.23972318572241827, -2.400589404618203, 1.3223199594970096, 0.015939906893203234, -1.5832259598996214, -0.9190489027321409, 0.4730113751642799, 1.0786363180926952, -0.24377659744999874, 0.164241978827947, 0.7942119330570302, -0.4127859722174128, 0.7413285662813682, 0.23375858805214605, 0.673503451591191, 0.7128011111584379, 0.5297155298435244, 0.6540302721696478, -2.447129797757341, -0.6606132960394067, 0.2696345343103929, 1.2699122431202663, 0.2042267331407826, 1.244375850736996, -0.8383955661986674, -1.0436526421274157, -2.3719224742430685, -0.2937573989694159, -1.1667387440013157, -0.20835829572494252, -1.582929180184313, -1.3905092681491171, -1.9684195498534138, -0.5474526877788535, 0.3506996957877933, 0.22490843267634683, 0.6626994263438095, -1.55666246535441, -1.4092970962638396, 1.7540500737250533, -1.1822357875421283, 0.8254351648968924, -0.8155332966176337, -0.7430699184182005, -0.5242445523082108, -0.02121914213591935, 0.11897271616306106, 1.24000155189826, -0.12412066012159768, 0.3157479923996985, -1.3899830415920824, -0.34760793802059503, 0.547682040129073, -0.41873296390333137, 0.30906930704823077, -0.5646573855391537, -0.2055027384609156, -0.44254018166501224, -0.47112623288718575, 0.1552416693165053, 0.0017384132179926366, -1.551593275455728, -0.4234921860598587, 0.6494343322625905, 0.5996077489180177, 1.1782413486752166, -0.5033606273925229, 0.819708204847244, 0.09016970646950159, -0.22042764299209439, -0.06249041005051703, -0.5067060750717906, -1.2848775632360026, -1.0439710960994422, 1.832071436334213, 0.6144142518560111, -1.4002975798711024, 0.018263481656676912, -0.44322620435757665, -0.21623864964117803, 1.217074233459462, -0.6536863255962454, 0.8595514673202337, 1.0207801556487885, -0.5916487604653361, -1.6019281391101097], \"yaxis\": \"y3\"}, {\"line\": {\"color\": \"rgba(128, 128, 128, 1.0)\", \"dash\": \"solid\", \"shape\": \"linear\", \"width\": 1.3}, \"marker\": {\"size\": 2, \"symbol\": \"circle\"}, \"mode\": \"markers\", \"name\": \"A\", \"text\": \"\", \"type\": \"scatter\", \"x\": [0.147199008262158, -0.563686978408816, 0.1935185857215168, 0.06840872775042404, 0.1495860276063127, -0.8164809652651062, -0.03755299361077514, 2.16471625140727, -0.34931218728287555, -0.2573289939274511, -0.5680249136999246, 0.9181415900935799, 1.321338369334238, 1.332633119254535, 2.1581578214595436, 0.21286874663937458, -1.8614697995147869, -0.5729290697190624, 0.03261376641186569, -1.1770551496854273, 0.20300807264543783, -0.14352954695035344, -0.16130578648867752, -0.3995783925199026, -1.391241890619133, -2.1853691633372065, -0.28535812114966413, -1.7245923419414135, -0.35817612202427035, -0.9736601782085923, -0.21704879400756347, 0.7508225135202804, 0.596438122673971, 0.9426675051446728, 0.1572280919665969, -0.7535541711230572, 2.2197282238715954, 0.15052024275036946, 1.2591220807775882, 0.7994078284047268, -1.3881394922499757, -0.6765960739949137, 0.578550011685769, 0.9074333403473867, 0.059755663613654725, -0.6476788073122589, 0.6103870459005785, 1.133778049413226, 0.81777998473848, -0.6570318674944937, -1.5939903612997313, 0.09708514346645437, -0.4908422518775322, -0.05519433581355638, 0.042019189836366225, 0.344579576899029, 1.7058074601968831, 0.19227957518063715, 0.6427875137342878, -0.09204230995282851, 0.18196191470320913, -0.7485204223778648, 0.9199953795007977, 2.270056674567012, 0.06257992560858991, -1.7113170970229996, 0.7057637431230915, 0.3212281661851288, -1.4999545476309766, -0.2457876549511953, -0.5026702726458508, -0.8378694624017728, -0.4872835426161976, -1.2615035368256935, -2.5115754988356915, 0.9864890564788301, 0.396737779794545, -1.4657789023223258, -0.3397456170067192, 0.418144597004115, -0.1294529667117238, 0.004876764515848807, 1.0361484126515212, -1.9379241744374494, -0.4812544862291755, -2.7247504675261713, -2.046209405926666, 1.3399502426202767, -0.4939451562461667, -1.334287348674052, 3.057171462123101, -0.22997419115912268, -1.0939365000600445, -0.019393103391439844, -0.19999322336046782, -0.5498380394261451, -0.46143539445536796, -1.7438430263031461, -0.35178030279427575, -0.18192593046993333], \"xaxis\": \"x4\", \"y\": [-0.08041073899511382, -0.6151160222842449, -0.5808034456261486, -0.6313101469184043, 0.9904073723163997, -0.6000168852567765, -0.5885502387286373, 0.18477904428864386, -0.4658247851906445, 2.3793025312990492, 0.2248512998964256, -0.30685458058413345, 0.5172381715858361, -0.21324657521049858, 0.23972318572241827, -2.400589404618203, 1.3223199594970096, 0.015939906893203234, -1.5832259598996214, -0.9190489027321409, 0.4730113751642799, 1.0786363180926952, -0.24377659744999874, 0.164241978827947, 0.7942119330570302, -0.4127859722174128, 0.7413285662813682, 0.23375858805214605, 0.673503451591191, 0.7128011111584379, 0.5297155298435244, 0.6540302721696478, -2.447129797757341, -0.6606132960394067, 0.2696345343103929, 1.2699122431202663, 0.2042267331407826, 1.244375850736996, -0.8383955661986674, -1.0436526421274157, -2.3719224742430685, -0.2937573989694159, -1.1667387440013157, -0.20835829572494252, -1.582929180184313, -1.3905092681491171, -1.9684195498534138, -0.5474526877788535, 0.3506996957877933, 0.22490843267634683, 0.6626994263438095, -1.55666246535441, -1.4092970962638396, 1.7540500737250533, -1.1822357875421283, 0.8254351648968924, -0.8155332966176337, -0.7430699184182005, -0.5242445523082108, -0.02121914213591935, 0.11897271616306106, 1.24000155189826, -0.12412066012159768, 0.3157479923996985, -1.3899830415920824, -0.34760793802059503, 0.547682040129073, -0.41873296390333137, 0.30906930704823077, -0.5646573855391537, -0.2055027384609156, -0.44254018166501224, -0.47112623288718575, 0.1552416693165053, 0.0017384132179926366, -1.551593275455728, -0.4234921860598587, 0.6494343322625905, 0.5996077489180177, 1.1782413486752166, -0.5033606273925229, 0.819708204847244, 0.09016970646950159, -0.22042764299209439, -0.06249041005051703, -0.5067060750717906, -1.2848775632360026, -1.0439710960994422, 1.832071436334213, 0.6144142518560111, -1.4002975798711024, 0.018263481656676912, -0.44322620435757665, -0.21623864964117803, 1.217074233459462, -0.6536863255962454, 0.8595514673202337, 1.0207801556487885, -0.5916487604653361, -1.6019281391101097], \"yaxis\": \"y4\"}, {\"line\": {\"color\": \"rgba(128, 128, 128, 1.0)\", \"dash\": \"solid\", \"shape\": \"linear\", \"width\": 1.3}, \"marker\": {\"size\": 2, \"symbol\": \"circle\"}, \"mode\": \"markers\", \"name\": \"B\", \"text\": \"\", \"type\": \"scatter\", \"x\": [-0.08041073899511382, -0.6151160222842449, -0.5808034456261486, -0.6313101469184043, 0.9904073723163997, -0.6000168852567765, -0.5885502387286373, 0.18477904428864386, -0.4658247851906445, 2.3793025312990492, 0.2248512998964256, -0.30685458058413345, 0.5172381715858361, -0.21324657521049858, 0.23972318572241827, -2.400589404618203, 1.3223199594970096, 0.015939906893203234, -1.5832259598996214, -0.9190489027321409, 0.4730113751642799, 1.0786363180926952, -0.24377659744999874, 0.164241978827947, 0.7942119330570302, -0.4127859722174128, 0.7413285662813682, 0.23375858805214605, 0.673503451591191, 0.7128011111584379, 0.5297155298435244, 0.6540302721696478, -2.447129797757341, -0.6606132960394067, 0.2696345343103929, 1.2699122431202663, 0.2042267331407826, 1.244375850736996, -0.8383955661986674, -1.0436526421274157, -2.3719224742430685, -0.2937573989694159, -1.1667387440013157, -0.20835829572494252, -1.582929180184313, -1.3905092681491171, -1.9684195498534138, -0.5474526877788535, 0.3506996957877933, 0.22490843267634683, 0.6626994263438095, -1.55666246535441, -1.4092970962638396, 1.7540500737250533, -1.1822357875421283, 0.8254351648968924, -0.8155332966176337, -0.7430699184182005, -0.5242445523082108, -0.02121914213591935, 0.11897271616306106, 1.24000155189826, -0.12412066012159768, 0.3157479923996985, -1.3899830415920824, -0.34760793802059503, 0.547682040129073, -0.41873296390333137, 0.30906930704823077, -0.5646573855391537, -0.2055027384609156, -0.44254018166501224, -0.47112623288718575, 0.1552416693165053, 0.0017384132179926366, -1.551593275455728, -0.4234921860598587, 0.6494343322625905, 0.5996077489180177, 1.1782413486752166, -0.5033606273925229, 0.819708204847244, 0.09016970646950159, -0.22042764299209439, -0.06249041005051703, -0.5067060750717906, -1.2848775632360026, -1.0439710960994422, 1.832071436334213, 0.6144142518560111, -1.4002975798711024, 0.018263481656676912, -0.44322620435757665, -0.21623864964117803, 1.217074233459462, -0.6536863255962454, 0.8595514673202337, 1.0207801556487885, -0.5916487604653361, -1.6019281391101097], \"xaxis\": \"x5\", \"y\": [0.5847521709987167, 1.416135425448743, -0.02193980163591156, 1.0013020771420085, -0.27740457105104066, -1.4447465497987408, -2.040204644799607, 1.0029081948520164, -0.2810971812517474, 1.0252737000345813, 0.27068526227379247, 1.1470770718279595, -0.5888546275328206, 1.4273380390131492, 0.2086171447182851, -0.2875421537307741, -0.9853532885603278, -1.2254474057149276, 0.2676216333451455, 1.081682934905261, 1.1632682266690813, 1.2871795766027607, 0.871104495281452, 1.8238537989591024, 1.2396782959198915, -0.5186902170664442, -0.28842788919227996, -0.09080974861107848, 0.3603274958193862, 0.15805756661314824, 0.15395301850870477, 0.08238213359689824, 0.37746101585567343, 0.2666193731972084, 0.08112154919247953, 0.18554268521858297, -0.5804771162529837, -0.4324114593114584, -0.09918022081792709, -0.09419899742061491, 1.225995859716065, 1.0982259621569304, 0.03021255486881537, 0.26093095351215384, 1.0032625749077733, -0.379901548088872, -0.542554141709257, -1.0772761392227095, 0.7239032100688596, -0.16543581199498433, 1.1078079827072325, 0.7709725457443424, -0.0344966046980537, -0.8226795974370851, -1.706777614049343, 0.9079931171013804, 0.18008700663392901, 0.749553874821924, -0.37702549696765186, 0.7724047186087337, 1.3120910818557805, 0.05125329456421593, 0.10017530538548051, -0.6895347209932827, 0.045048085035044004, 0.10646626592697084, -1.8058546002940823, -0.27251111619450097, 0.008851235048992899, -0.23179744833396781, 0.2432165859889888, 1.86200639032237, -3.0738387380541465, 1.3214852040849363, 0.22954225287636534, -1.260791826026142, -1.609125825572039, 0.11680930177241139, 0.748842781193093, -0.2806525071335359, 0.6766685021521556, 0.1587205355149384, 0.2888196524039874, -0.6507586318790385, 1.7789826623426028, -0.9605271280324573, 0.6957021260494419, 0.7388996977221987, -0.14437121754486948, 1.042838079438687, -0.44210180606067057, -0.9551581965860438, 0.9495665282329464, 0.23496425984077343, -0.33531161274819027, -0.13140202615689167, -0.42973470331868785, 0.7491272560677047, -1.074834820795073, 0.06366308205424531], \"yaxis\": \"y5\"}, {\"histfunc\": \"count\", \"histnorm\": \"\", \"marker\": {\"color\": \"rgba(55, 128, 191, 1.0)\", \"line\": {\"color\": \"#4D5663\", \"width\": 1.3}}, \"name\": \"B\", \"nbinsx\": 10, \"opacity\": 0.8, \"orientation\": \"v\", \"type\": \"histogram\", \"x\": [0.5847521709987167, 1.416135425448743, -0.02193980163591156, 1.0013020771420085, -0.27740457105104066, -1.4447465497987408, -2.040204644799607, 1.0029081948520164, -0.2810971812517474, 1.0252737000345813, 0.27068526227379247, 1.1470770718279595, -0.5888546275328206, 1.4273380390131492, 0.2086171447182851, -0.2875421537307741, -0.9853532885603278, -1.2254474057149276, 0.2676216333451455, 1.081682934905261, 1.1632682266690813, 1.2871795766027607, 0.871104495281452, 1.8238537989591024, 1.2396782959198915, -0.5186902170664442, -0.28842788919227996, -0.09080974861107848, 0.3603274958193862, 0.15805756661314824, 0.15395301850870477, 0.08238213359689824, 0.37746101585567343, 0.2666193731972084, 0.08112154919247953, 0.18554268521858297, -0.5804771162529837, -0.4324114593114584, -0.09918022081792709, -0.09419899742061491, 1.225995859716065, 1.0982259621569304, 0.03021255486881537, 0.26093095351215384, 1.0032625749077733, -0.379901548088872, -0.542554141709257, -1.0772761392227095, 0.7239032100688596, -0.16543581199498433, 1.1078079827072325, 0.7709725457443424, -0.0344966046980537, -0.8226795974370851, -1.706777614049343, 0.9079931171013804, 0.18008700663392901, 0.749553874821924, -0.37702549696765186, 0.7724047186087337, 1.3120910818557805, 0.05125329456421593, 0.10017530538548051, -0.6895347209932827, 0.045048085035044004, 0.10646626592697084, -1.8058546002940823, -0.27251111619450097, 0.008851235048992899, -0.23179744833396781, 0.2432165859889888, 1.86200639032237, -3.0738387380541465, 1.3214852040849363, 0.22954225287636534, -1.260791826026142, -1.609125825572039, 0.11680930177241139, 0.748842781193093, -0.2806525071335359, 0.6766685021521556, 0.1587205355149384, 0.2888196524039874, -0.6507586318790385, 1.7789826623426028, -0.9605271280324573, 0.6957021260494419, 0.7388996977221987, -0.14437121754486948, 1.042838079438687, -0.44210180606067057, -0.9551581965860438, 0.9495665282329464, 0.23496425984077343, -0.33531161274819027, -0.13140202615689167, -0.42973470331868785, 0.7491272560677047, -1.074834820795073, 0.06366308205424531], \"xaxis\": \"x6\", \"yaxis\": \"y6\"}, {\"line\": {\"color\": \"rgba(128, 128, 128, 1.0)\", \"dash\": \"solid\", \"shape\": \"linear\", \"width\": 1.3}, \"marker\": {\"size\": 2, \"symbol\": \"circle\"}, \"mode\": \"markers\", \"name\": \"B\", \"text\": \"\", \"type\": \"scatter\", \"x\": [-0.5040713695527463, 1.2784202450241422, -0.232759559818154, -0.679654541573124, -1.011015422291063, -0.32187289353674653, 0.5627893851315948, 0.9098914259540819, -0.919821032957485, 1.3941803932409902, -0.8550758261359718, 0.6243531459906352, 0.8400190416731714, -0.2753615192589795, -0.2585792639496748, -1.397884102026485, 2.0228648522783246, 1.2477712691964573, -1.060055996065693, 1.8599201417821452, -1.764864488117764, -0.0028176670282632644, 0.0692372225869619, -0.4791952902270925, -0.5419858833833523, 1.0815002014773385, 0.7170715008741838, 0.3933653744163969, -0.9035266056041219, 1.499299058408644, 0.4842143177576148, -0.011608012127365093, -1.4602517038263843, 0.6068444434417665, 0.903137943058507, -2.1545184577840715, -0.3108598498176006, 1.419811759778885, 0.5220044477439261, -1.2035550381761686, -1.938620334238564, -1.7339789706381616, -1.6140469676885045, -0.6071544703879108, 0.016490473613038428, 0.5860273908655671, -0.1151062845554965, 0.23816785737402918, -0.12246295081874024, 0.40136628538593233, 2.0380763326821327, -1.4909840779242247, -0.025328622959499288, 0.9732231166084475, -0.12548941087916854, 2.7713894872401066, -0.3574211382468966, 3.734238465340607, -0.46444052612085, 2.0816217769462324, -0.6675661579125914, -0.44237890841309857, -0.01729481874918793, -0.16016386308921032, -0.2774752711858284, 0.5824575495784985, -0.4169110547024678, 0.055149602105424494, 0.5502152645938555, 0.3359015858865263, -1.601271848893958, 0.7906604686356005, 1.5591393363957884, -0.862791098485518, -1.5256277083293754, 0.8437511523936281, 0.313892080669878, 1.394700971566019, 1.4676191999753831, -0.08584012243973556, 0.5339217143585893, -1.504967502787583, -0.6120937712731666, -0.32499689256595293, -1.5343027825929318, 0.29700259098519144, -1.2118965789837157, 1.5361194292633042, 1.2932770588128062, 0.6139310695919133, -1.1292865063306947, 1.5296234784013558, -2.968692751946457, -2.1464598410941362, 1.8393753279299379, 0.33505069399545345, 0.4115653585619959, -1.5276411041474476, 0.9440653214584742, 0.3297241147261427], \"xaxis\": \"x7\", \"y\": [0.5847521709987167, 1.416135425448743, -0.02193980163591156, 1.0013020771420085, -0.27740457105104066, -1.4447465497987408, -2.040204644799607, 1.0029081948520164, -0.2810971812517474, 1.0252737000345813, 0.27068526227379247, 1.1470770718279595, -0.5888546275328206, 1.4273380390131492, 0.2086171447182851, -0.2875421537307741, -0.9853532885603278, -1.2254474057149276, 0.2676216333451455, 1.081682934905261, 1.1632682266690813, 1.2871795766027607, 0.871104495281452, 1.8238537989591024, 1.2396782959198915, -0.5186902170664442, -0.28842788919227996, -0.09080974861107848, 0.3603274958193862, 0.15805756661314824, 0.15395301850870477, 0.08238213359689824, 0.37746101585567343, 0.2666193731972084, 0.08112154919247953, 0.18554268521858297, -0.5804771162529837, -0.4324114593114584, -0.09918022081792709, -0.09419899742061491, 1.225995859716065, 1.0982259621569304, 0.03021255486881537, 0.26093095351215384, 1.0032625749077733, -0.379901548088872, -0.542554141709257, -1.0772761392227095, 0.7239032100688596, -0.16543581199498433, 1.1078079827072325, 0.7709725457443424, -0.0344966046980537, -0.8226795974370851, -1.706777614049343, 0.9079931171013804, 0.18008700663392901, 0.749553874821924, -0.37702549696765186, 0.7724047186087337, 1.3120910818557805, 0.05125329456421593, 0.10017530538548051, -0.6895347209932827, 0.045048085035044004, 0.10646626592697084, -1.8058546002940823, -0.27251111619450097, 0.008851235048992899, -0.23179744833396781, 0.2432165859889888, 1.86200639032237, -3.0738387380541465, 1.3214852040849363, 0.22954225287636534, -1.260791826026142, -1.609125825572039, 0.11680930177241139, 0.748842781193093, -0.2806525071335359, 0.6766685021521556, 0.1587205355149384, 0.2888196524039874, -0.6507586318790385, 1.7789826623426028, -0.9605271280324573, 0.6957021260494419, 0.7388996977221987, -0.14437121754486948, 1.042838079438687, -0.44210180606067057, -0.9551581965860438, 0.9495665282329464, 0.23496425984077343, -0.33531161274819027, -0.13140202615689167, -0.42973470331868785, 0.7491272560677047, -1.074834820795073, 0.06366308205424531], \"yaxis\": \"y7\"}, {\"line\": {\"color\": \"rgba(128, 128, 128, 1.0)\", \"dash\": \"solid\", \"shape\": \"linear\", \"width\": 1.3}, \"marker\": {\"size\": 2, \"symbol\": \"circle\"}, \"mode\": \"markers\", \"name\": \"B\", \"text\": \"\", \"type\": \"scatter\", \"x\": [0.147199008262158, -0.563686978408816, 0.1935185857215168, 0.06840872775042404, 0.1495860276063127, -0.8164809652651062, -0.03755299361077514, 2.16471625140727, -0.34931218728287555, -0.2573289939274511, -0.5680249136999246, 0.9181415900935799, 1.321338369334238, 1.332633119254535, 2.1581578214595436, 0.21286874663937458, -1.8614697995147869, -0.5729290697190624, 0.03261376641186569, -1.1770551496854273, 0.20300807264543783, -0.14352954695035344, -0.16130578648867752, -0.3995783925199026, -1.391241890619133, -2.1853691633372065, -0.28535812114966413, -1.7245923419414135, -0.35817612202427035, -0.9736601782085923, -0.21704879400756347, 0.7508225135202804, 0.596438122673971, 0.9426675051446728, 0.1572280919665969, -0.7535541711230572, 2.2197282238715954, 0.15052024275036946, 1.2591220807775882, 0.7994078284047268, -1.3881394922499757, -0.6765960739949137, 0.578550011685769, 0.9074333403473867, 0.059755663613654725, -0.6476788073122589, 0.6103870459005785, 1.133778049413226, 0.81777998473848, -0.6570318674944937, -1.5939903612997313, 0.09708514346645437, -0.4908422518775322, -0.05519433581355638, 0.042019189836366225, 0.344579576899029, 1.7058074601968831, 0.19227957518063715, 0.6427875137342878, -0.09204230995282851, 0.18196191470320913, -0.7485204223778648, 0.9199953795007977, 2.270056674567012, 0.06257992560858991, -1.7113170970229996, 0.7057637431230915, 0.3212281661851288, -1.4999545476309766, -0.2457876549511953, -0.5026702726458508, -0.8378694624017728, -0.4872835426161976, -1.2615035368256935, -2.5115754988356915, 0.9864890564788301, 0.396737779794545, -1.4657789023223258, -0.3397456170067192, 0.418144597004115, -0.1294529667117238, 0.004876764515848807, 1.0361484126515212, -1.9379241744374494, -0.4812544862291755, -2.7247504675261713, -2.046209405926666, 1.3399502426202767, -0.4939451562461667, -1.334287348674052, 3.057171462123101, -0.22997419115912268, -1.0939365000600445, -0.019393103391439844, -0.19999322336046782, -0.5498380394261451, -0.46143539445536796, -1.7438430263031461, -0.35178030279427575, -0.18192593046993333], \"xaxis\": \"x8\", \"y\": [0.5847521709987167, 1.416135425448743, -0.02193980163591156, 1.0013020771420085, -0.27740457105104066, -1.4447465497987408, -2.040204644799607, 1.0029081948520164, -0.2810971812517474, 1.0252737000345813, 0.27068526227379247, 1.1470770718279595, -0.5888546275328206, 1.4273380390131492, 0.2086171447182851, -0.2875421537307741, -0.9853532885603278, -1.2254474057149276, 0.2676216333451455, 1.081682934905261, 1.1632682266690813, 1.2871795766027607, 0.871104495281452, 1.8238537989591024, 1.2396782959198915, -0.5186902170664442, -0.28842788919227996, -0.09080974861107848, 0.3603274958193862, 0.15805756661314824, 0.15395301850870477, 0.08238213359689824, 0.37746101585567343, 0.2666193731972084, 0.08112154919247953, 0.18554268521858297, -0.5804771162529837, -0.4324114593114584, -0.09918022081792709, -0.09419899742061491, 1.225995859716065, 1.0982259621569304, 0.03021255486881537, 0.26093095351215384, 1.0032625749077733, -0.379901548088872, -0.542554141709257, -1.0772761392227095, 0.7239032100688596, -0.16543581199498433, 1.1078079827072325, 0.7709725457443424, -0.0344966046980537, -0.8226795974370851, -1.706777614049343, 0.9079931171013804, 0.18008700663392901, 0.749553874821924, -0.37702549696765186, 0.7724047186087337, 1.3120910818557805, 0.05125329456421593, 0.10017530538548051, -0.6895347209932827, 0.045048085035044004, 0.10646626592697084, -1.8058546002940823, -0.27251111619450097, 0.008851235048992899, -0.23179744833396781, 0.2432165859889888, 1.86200639032237, -3.0738387380541465, 1.3214852040849363, 0.22954225287636534, -1.260791826026142, -1.609125825572039, 0.11680930177241139, 0.748842781193093, -0.2806525071335359, 0.6766685021521556, 0.1587205355149384, 0.2888196524039874, -0.6507586318790385, 1.7789826623426028, -0.9605271280324573, 0.6957021260494419, 0.7388996977221987, -0.14437121754486948, 1.042838079438687, -0.44210180606067057, -0.9551581965860438, 0.9495665282329464, 0.23496425984077343, -0.33531161274819027, -0.13140202615689167, -0.42973470331868785, 0.7491272560677047, -1.074834820795073, 0.06366308205424531], \"yaxis\": \"y8\"}, {\"line\": {\"color\": \"rgba(128, 128, 128, 1.0)\", \"dash\": \"solid\", \"shape\": \"linear\", \"width\": 1.3}, \"marker\": {\"size\": 2, \"symbol\": \"circle\"}, \"mode\": \"markers\", \"name\": \"C\", \"text\": \"\", \"type\": \"scatter\", \"x\": [-0.08041073899511382, -0.6151160222842449, -0.5808034456261486, -0.6313101469184043, 0.9904073723163997, -0.6000168852567765, -0.5885502387286373, 0.18477904428864386, -0.4658247851906445, 2.3793025312990492, 0.2248512998964256, -0.30685458058413345, 0.5172381715858361, -0.21324657521049858, 0.23972318572241827, -2.400589404618203, 1.3223199594970096, 0.015939906893203234, -1.5832259598996214, -0.9190489027321409, 0.4730113751642799, 1.0786363180926952, -0.24377659744999874, 0.164241978827947, 0.7942119330570302, -0.4127859722174128, 0.7413285662813682, 0.23375858805214605, 0.673503451591191, 0.7128011111584379, 0.5297155298435244, 0.6540302721696478, -2.447129797757341, -0.6606132960394067, 0.2696345343103929, 1.2699122431202663, 0.2042267331407826, 1.244375850736996, -0.8383955661986674, -1.0436526421274157, -2.3719224742430685, -0.2937573989694159, -1.1667387440013157, -0.20835829572494252, -1.582929180184313, -1.3905092681491171, -1.9684195498534138, -0.5474526877788535, 0.3506996957877933, 0.22490843267634683, 0.6626994263438095, -1.55666246535441, -1.4092970962638396, 1.7540500737250533, -1.1822357875421283, 0.8254351648968924, -0.8155332966176337, -0.7430699184182005, -0.5242445523082108, -0.02121914213591935, 0.11897271616306106, 1.24000155189826, -0.12412066012159768, 0.3157479923996985, -1.3899830415920824, -0.34760793802059503, 0.547682040129073, -0.41873296390333137, 0.30906930704823077, -0.5646573855391537, -0.2055027384609156, -0.44254018166501224, -0.47112623288718575, 0.1552416693165053, 0.0017384132179926366, -1.551593275455728, -0.4234921860598587, 0.6494343322625905, 0.5996077489180177, 1.1782413486752166, -0.5033606273925229, 0.819708204847244, 0.09016970646950159, -0.22042764299209439, -0.06249041005051703, -0.5067060750717906, -1.2848775632360026, -1.0439710960994422, 1.832071436334213, 0.6144142518560111, -1.4002975798711024, 0.018263481656676912, -0.44322620435757665, -0.21623864964117803, 1.217074233459462, -0.6536863255962454, 0.8595514673202337, 1.0207801556487885, -0.5916487604653361, -1.6019281391101097], \"xaxis\": \"x9\", \"y\": [-0.5040713695527463, 1.2784202450241422, -0.232759559818154, -0.679654541573124, -1.011015422291063, -0.32187289353674653, 0.5627893851315948, 0.9098914259540819, -0.919821032957485, 1.3941803932409902, -0.8550758261359718, 0.6243531459906352, 0.8400190416731714, -0.2753615192589795, -0.2585792639496748, -1.397884102026485, 2.0228648522783246, 1.2477712691964573, -1.060055996065693, 1.8599201417821452, -1.764864488117764, -0.0028176670282632644, 0.0692372225869619, -0.4791952902270925, -0.5419858833833523, 1.0815002014773385, 0.7170715008741838, 0.3933653744163969, -0.9035266056041219, 1.499299058408644, 0.4842143177576148, -0.011608012127365093, -1.4602517038263843, 0.6068444434417665, 0.903137943058507, -2.1545184577840715, -0.3108598498176006, 1.419811759778885, 0.5220044477439261, -1.2035550381761686, -1.938620334238564, -1.7339789706381616, -1.6140469676885045, -0.6071544703879108, 0.016490473613038428, 0.5860273908655671, -0.1151062845554965, 0.23816785737402918, -0.12246295081874024, 0.40136628538593233, 2.0380763326821327, -1.4909840779242247, -0.025328622959499288, 0.9732231166084475, -0.12548941087916854, 2.7713894872401066, -0.3574211382468966, 3.734238465340607, -0.46444052612085, 2.0816217769462324, -0.6675661579125914, -0.44237890841309857, -0.01729481874918793, -0.16016386308921032, -0.2774752711858284, 0.5824575495784985, -0.4169110547024678, 0.055149602105424494, 0.5502152645938555, 0.3359015858865263, -1.601271848893958, 0.7906604686356005, 1.5591393363957884, -0.862791098485518, -1.5256277083293754, 0.8437511523936281, 0.313892080669878, 1.394700971566019, 1.4676191999753831, -0.08584012243973556, 0.5339217143585893, -1.504967502787583, -0.6120937712731666, -0.32499689256595293, -1.5343027825929318, 0.29700259098519144, -1.2118965789837157, 1.5361194292633042, 1.2932770588128062, 0.6139310695919133, -1.1292865063306947, 1.5296234784013558, -2.968692751946457, -2.1464598410941362, 1.8393753279299379, 0.33505069399545345, 0.4115653585619959, -1.5276411041474476, 0.9440653214584742, 0.3297241147261427], \"yaxis\": \"y9\"}, {\"line\": {\"color\": \"rgba(128, 128, 128, 1.0)\", \"dash\": \"solid\", \"shape\": \"linear\", \"width\": 1.3}, \"marker\": {\"size\": 2, \"symbol\": \"circle\"}, \"mode\": \"markers\", \"name\": \"C\", \"text\": \"\", \"type\": \"scatter\", \"x\": [0.5847521709987167, 1.416135425448743, -0.02193980163591156, 1.0013020771420085, -0.27740457105104066, -1.4447465497987408, -2.040204644799607, 1.0029081948520164, -0.2810971812517474, 1.0252737000345813, 0.27068526227379247, 1.1470770718279595, -0.5888546275328206, 1.4273380390131492, 0.2086171447182851, -0.2875421537307741, -0.9853532885603278, -1.2254474057149276, 0.2676216333451455, 1.081682934905261, 1.1632682266690813, 1.2871795766027607, 0.871104495281452, 1.8238537989591024, 1.2396782959198915, -0.5186902170664442, -0.28842788919227996, -0.09080974861107848, 0.3603274958193862, 0.15805756661314824, 0.15395301850870477, 0.08238213359689824, 0.37746101585567343, 0.2666193731972084, 0.08112154919247953, 0.18554268521858297, -0.5804771162529837, -0.4324114593114584, -0.09918022081792709, -0.09419899742061491, 1.225995859716065, 1.0982259621569304, 0.03021255486881537, 0.26093095351215384, 1.0032625749077733, -0.379901548088872, -0.542554141709257, -1.0772761392227095, 0.7239032100688596, -0.16543581199498433, 1.1078079827072325, 0.7709725457443424, -0.0344966046980537, -0.8226795974370851, -1.706777614049343, 0.9079931171013804, 0.18008700663392901, 0.749553874821924, -0.37702549696765186, 0.7724047186087337, 1.3120910818557805, 0.05125329456421593, 0.10017530538548051, -0.6895347209932827, 0.045048085035044004, 0.10646626592697084, -1.8058546002940823, -0.27251111619450097, 0.008851235048992899, -0.23179744833396781, 0.2432165859889888, 1.86200639032237, -3.0738387380541465, 1.3214852040849363, 0.22954225287636534, -1.260791826026142, -1.609125825572039, 0.11680930177241139, 0.748842781193093, -0.2806525071335359, 0.6766685021521556, 0.1587205355149384, 0.2888196524039874, -0.6507586318790385, 1.7789826623426028, -0.9605271280324573, 0.6957021260494419, 0.7388996977221987, -0.14437121754486948, 1.042838079438687, -0.44210180606067057, -0.9551581965860438, 0.9495665282329464, 0.23496425984077343, -0.33531161274819027, -0.13140202615689167, -0.42973470331868785, 0.7491272560677047, -1.074834820795073, 0.06366308205424531], \"xaxis\": \"x10\", \"y\": [-0.5040713695527463, 1.2784202450241422, -0.232759559818154, -0.679654541573124, -1.011015422291063, -0.32187289353674653, 0.5627893851315948, 0.9098914259540819, -0.919821032957485, 1.3941803932409902, -0.8550758261359718, 0.6243531459906352, 0.8400190416731714, -0.2753615192589795, -0.2585792639496748, -1.397884102026485, 2.0228648522783246, 1.2477712691964573, -1.060055996065693, 1.8599201417821452, -1.764864488117764, -0.0028176670282632644, 0.0692372225869619, -0.4791952902270925, -0.5419858833833523, 1.0815002014773385, 0.7170715008741838, 0.3933653744163969, -0.9035266056041219, 1.499299058408644, 0.4842143177576148, -0.011608012127365093, -1.4602517038263843, 0.6068444434417665, 0.903137943058507, -2.1545184577840715, -0.3108598498176006, 1.419811759778885, 0.5220044477439261, -1.2035550381761686, -1.938620334238564, -1.7339789706381616, -1.6140469676885045, -0.6071544703879108, 0.016490473613038428, 0.5860273908655671, -0.1151062845554965, 0.23816785737402918, -0.12246295081874024, 0.40136628538593233, 2.0380763326821327, -1.4909840779242247, -0.025328622959499288, 0.9732231166084475, -0.12548941087916854, 2.7713894872401066, -0.3574211382468966, 3.734238465340607, -0.46444052612085, 2.0816217769462324, -0.6675661579125914, -0.44237890841309857, -0.01729481874918793, -0.16016386308921032, -0.2774752711858284, 0.5824575495784985, -0.4169110547024678, 0.055149602105424494, 0.5502152645938555, 0.3359015858865263, -1.601271848893958, 0.7906604686356005, 1.5591393363957884, -0.862791098485518, -1.5256277083293754, 0.8437511523936281, 0.313892080669878, 1.394700971566019, 1.4676191999753831, -0.08584012243973556, 0.5339217143585893, -1.504967502787583, -0.6120937712731666, -0.32499689256595293, -1.5343027825929318, 0.29700259098519144, -1.2118965789837157, 1.5361194292633042, 1.2932770588128062, 0.6139310695919133, -1.1292865063306947, 1.5296234784013558, -2.968692751946457, -2.1464598410941362, 1.8393753279299379, 0.33505069399545345, 0.4115653585619959, -1.5276411041474476, 0.9440653214584742, 0.3297241147261427], \"yaxis\": \"y10\"}, {\"histfunc\": \"count\", \"histnorm\": \"\", \"marker\": {\"color\": \"rgba(50, 171, 96, 1.0)\", \"line\": {\"color\": \"#4D5663\", \"width\": 1.3}}, \"name\": \"C\", \"nbinsx\": 10, \"opacity\": 0.8, \"orientation\": \"v\", \"type\": \"histogram\", \"x\": [-0.5040713695527463, 1.2784202450241422, -0.232759559818154, -0.679654541573124, -1.011015422291063, -0.32187289353674653, 0.5627893851315948, 0.9098914259540819, -0.919821032957485, 1.3941803932409902, -0.8550758261359718, 0.6243531459906352, 0.8400190416731714, -0.2753615192589795, -0.2585792639496748, -1.397884102026485, 2.0228648522783246, 1.2477712691964573, -1.060055996065693, 1.8599201417821452, -1.764864488117764, -0.0028176670282632644, 0.0692372225869619, -0.4791952902270925, -0.5419858833833523, 1.0815002014773385, 0.7170715008741838, 0.3933653744163969, -0.9035266056041219, 1.499299058408644, 0.4842143177576148, -0.011608012127365093, -1.4602517038263843, 0.6068444434417665, 0.903137943058507, -2.1545184577840715, -0.3108598498176006, 1.419811759778885, 0.5220044477439261, -1.2035550381761686, -1.938620334238564, -1.7339789706381616, -1.6140469676885045, -0.6071544703879108, 0.016490473613038428, 0.5860273908655671, -0.1151062845554965, 0.23816785737402918, -0.12246295081874024, 0.40136628538593233, 2.0380763326821327, -1.4909840779242247, -0.025328622959499288, 0.9732231166084475, -0.12548941087916854, 2.7713894872401066, -0.3574211382468966, 3.734238465340607, -0.46444052612085, 2.0816217769462324, -0.6675661579125914, -0.44237890841309857, -0.01729481874918793, -0.16016386308921032, -0.2774752711858284, 0.5824575495784985, -0.4169110547024678, 0.055149602105424494, 0.5502152645938555, 0.3359015858865263, -1.601271848893958, 0.7906604686356005, 1.5591393363957884, -0.862791098485518, -1.5256277083293754, 0.8437511523936281, 0.313892080669878, 1.394700971566019, 1.4676191999753831, -0.08584012243973556, 0.5339217143585893, -1.504967502787583, -0.6120937712731666, -0.32499689256595293, -1.5343027825929318, 0.29700259098519144, -1.2118965789837157, 1.5361194292633042, 1.2932770588128062, 0.6139310695919133, -1.1292865063306947, 1.5296234784013558, -2.968692751946457, -2.1464598410941362, 1.8393753279299379, 0.33505069399545345, 0.4115653585619959, -1.5276411041474476, 0.9440653214584742, 0.3297241147261427], \"xaxis\": \"x11\", \"yaxis\": \"y11\"}, {\"line\": {\"color\": \"rgba(128, 128, 128, 1.0)\", \"dash\": \"solid\", \"shape\": \"linear\", \"width\": 1.3}, \"marker\": {\"size\": 2, \"symbol\": \"circle\"}, \"mode\": \"markers\", \"name\": \"C\", \"text\": \"\", \"type\": \"scatter\", \"x\": [0.147199008262158, -0.563686978408816, 0.1935185857215168, 0.06840872775042404, 0.1495860276063127, -0.8164809652651062, -0.03755299361077514, 2.16471625140727, -0.34931218728287555, -0.2573289939274511, -0.5680249136999246, 0.9181415900935799, 1.321338369334238, 1.332633119254535, 2.1581578214595436, 0.21286874663937458, -1.8614697995147869, -0.5729290697190624, 0.03261376641186569, -1.1770551496854273, 0.20300807264543783, -0.14352954695035344, -0.16130578648867752, -0.3995783925199026, -1.391241890619133, -2.1853691633372065, -0.28535812114966413, -1.7245923419414135, -0.35817612202427035, -0.9736601782085923, -0.21704879400756347, 0.7508225135202804, 0.596438122673971, 0.9426675051446728, 0.1572280919665969, -0.7535541711230572, 2.2197282238715954, 0.15052024275036946, 1.2591220807775882, 0.7994078284047268, -1.3881394922499757, -0.6765960739949137, 0.578550011685769, 0.9074333403473867, 0.059755663613654725, -0.6476788073122589, 0.6103870459005785, 1.133778049413226, 0.81777998473848, -0.6570318674944937, -1.5939903612997313, 0.09708514346645437, -0.4908422518775322, -0.05519433581355638, 0.042019189836366225, 0.344579576899029, 1.7058074601968831, 0.19227957518063715, 0.6427875137342878, -0.09204230995282851, 0.18196191470320913, -0.7485204223778648, 0.9199953795007977, 2.270056674567012, 0.06257992560858991, -1.7113170970229996, 0.7057637431230915, 0.3212281661851288, -1.4999545476309766, -0.2457876549511953, -0.5026702726458508, -0.8378694624017728, -0.4872835426161976, -1.2615035368256935, -2.5115754988356915, 0.9864890564788301, 0.396737779794545, -1.4657789023223258, -0.3397456170067192, 0.418144597004115, -0.1294529667117238, 0.004876764515848807, 1.0361484126515212, -1.9379241744374494, -0.4812544862291755, -2.7247504675261713, -2.046209405926666, 1.3399502426202767, -0.4939451562461667, -1.334287348674052, 3.057171462123101, -0.22997419115912268, -1.0939365000600445, -0.019393103391439844, -0.19999322336046782, -0.5498380394261451, -0.46143539445536796, -1.7438430263031461, -0.35178030279427575, -0.18192593046993333], \"xaxis\": \"x12\", \"y\": [-0.5040713695527463, 1.2784202450241422, -0.232759559818154, -0.679654541573124, -1.011015422291063, -0.32187289353674653, 0.5627893851315948, 0.9098914259540819, -0.919821032957485, 1.3941803932409902, -0.8550758261359718, 0.6243531459906352, 0.8400190416731714, -0.2753615192589795, -0.2585792639496748, -1.397884102026485, 2.0228648522783246, 1.2477712691964573, -1.060055996065693, 1.8599201417821452, -1.764864488117764, -0.0028176670282632644, 0.0692372225869619, -0.4791952902270925, -0.5419858833833523, 1.0815002014773385, 0.7170715008741838, 0.3933653744163969, -0.9035266056041219, 1.499299058408644, 0.4842143177576148, -0.011608012127365093, -1.4602517038263843, 0.6068444434417665, 0.903137943058507, -2.1545184577840715, -0.3108598498176006, 1.419811759778885, 0.5220044477439261, -1.2035550381761686, -1.938620334238564, -1.7339789706381616, -1.6140469676885045, -0.6071544703879108, 0.016490473613038428, 0.5860273908655671, -0.1151062845554965, 0.23816785737402918, -0.12246295081874024, 0.40136628538593233, 2.0380763326821327, -1.4909840779242247, -0.025328622959499288, 0.9732231166084475, -0.12548941087916854, 2.7713894872401066, -0.3574211382468966, 3.734238465340607, -0.46444052612085, 2.0816217769462324, -0.6675661579125914, -0.44237890841309857, -0.01729481874918793, -0.16016386308921032, -0.2774752711858284, 0.5824575495784985, -0.4169110547024678, 0.055149602105424494, 0.5502152645938555, 0.3359015858865263, -1.601271848893958, 0.7906604686356005, 1.5591393363957884, -0.862791098485518, -1.5256277083293754, 0.8437511523936281, 0.313892080669878, 1.394700971566019, 1.4676191999753831, -0.08584012243973556, 0.5339217143585893, -1.504967502787583, -0.6120937712731666, -0.32499689256595293, -1.5343027825929318, 0.29700259098519144, -1.2118965789837157, 1.5361194292633042, 1.2932770588128062, 0.6139310695919133, -1.1292865063306947, 1.5296234784013558, -2.968692751946457, -2.1464598410941362, 1.8393753279299379, 0.33505069399545345, 0.4115653585619959, -1.5276411041474476, 0.9440653214584742, 0.3297241147261427], \"yaxis\": \"y12\"}, {\"line\": {\"color\": \"rgba(128, 128, 128, 1.0)\", \"dash\": \"solid\", \"shape\": \"linear\", \"width\": 1.3}, \"marker\": {\"size\": 2, \"symbol\": \"circle\"}, \"mode\": \"markers\", \"name\": \"D\", \"text\": \"\", \"type\": \"scatter\", \"x\": [-0.08041073899511382, -0.6151160222842449, -0.5808034456261486, -0.6313101469184043, 0.9904073723163997, -0.6000168852567765, -0.5885502387286373, 0.18477904428864386, -0.4658247851906445, 2.3793025312990492, 0.2248512998964256, -0.30685458058413345, 0.5172381715858361, -0.21324657521049858, 0.23972318572241827, -2.400589404618203, 1.3223199594970096, 0.015939906893203234, -1.5832259598996214, -0.9190489027321409, 0.4730113751642799, 1.0786363180926952, -0.24377659744999874, 0.164241978827947, 0.7942119330570302, -0.4127859722174128, 0.7413285662813682, 0.23375858805214605, 0.673503451591191, 0.7128011111584379, 0.5297155298435244, 0.6540302721696478, -2.447129797757341, -0.6606132960394067, 0.2696345343103929, 1.2699122431202663, 0.2042267331407826, 1.244375850736996, -0.8383955661986674, -1.0436526421274157, -2.3719224742430685, -0.2937573989694159, -1.1667387440013157, -0.20835829572494252, -1.582929180184313, -1.3905092681491171, -1.9684195498534138, -0.5474526877788535, 0.3506996957877933, 0.22490843267634683, 0.6626994263438095, -1.55666246535441, -1.4092970962638396, 1.7540500737250533, -1.1822357875421283, 0.8254351648968924, -0.8155332966176337, -0.7430699184182005, -0.5242445523082108, -0.02121914213591935, 0.11897271616306106, 1.24000155189826, -0.12412066012159768, 0.3157479923996985, -1.3899830415920824, -0.34760793802059503, 0.547682040129073, -0.41873296390333137, 0.30906930704823077, -0.5646573855391537, -0.2055027384609156, -0.44254018166501224, -0.47112623288718575, 0.1552416693165053, 0.0017384132179926366, -1.551593275455728, -0.4234921860598587, 0.6494343322625905, 0.5996077489180177, 1.1782413486752166, -0.5033606273925229, 0.819708204847244, 0.09016970646950159, -0.22042764299209439, -0.06249041005051703, -0.5067060750717906, -1.2848775632360026, -1.0439710960994422, 1.832071436334213, 0.6144142518560111, -1.4002975798711024, 0.018263481656676912, -0.44322620435757665, -0.21623864964117803, 1.217074233459462, -0.6536863255962454, 0.8595514673202337, 1.0207801556487885, -0.5916487604653361, -1.6019281391101097], \"xaxis\": \"x13\", \"y\": [0.147199008262158, -0.563686978408816, 0.1935185857215168, 0.06840872775042404, 0.1495860276063127, -0.8164809652651062, -0.03755299361077514, 2.16471625140727, -0.34931218728287555, -0.2573289939274511, -0.5680249136999246, 0.9181415900935799, 1.321338369334238, 1.332633119254535, 2.1581578214595436, 0.21286874663937458, -1.8614697995147869, -0.5729290697190624, 0.03261376641186569, -1.1770551496854273, 0.20300807264543783, -0.14352954695035344, -0.16130578648867752, -0.3995783925199026, -1.391241890619133, -2.1853691633372065, -0.28535812114966413, -1.7245923419414135, -0.35817612202427035, -0.9736601782085923, -0.21704879400756347, 0.7508225135202804, 0.596438122673971, 0.9426675051446728, 0.1572280919665969, -0.7535541711230572, 2.2197282238715954, 0.15052024275036946, 1.2591220807775882, 0.7994078284047268, -1.3881394922499757, -0.6765960739949137, 0.578550011685769, 0.9074333403473867, 0.059755663613654725, -0.6476788073122589, 0.6103870459005785, 1.133778049413226, 0.81777998473848, -0.6570318674944937, -1.5939903612997313, 0.09708514346645437, -0.4908422518775322, -0.05519433581355638, 0.042019189836366225, 0.344579576899029, 1.7058074601968831, 0.19227957518063715, 0.6427875137342878, -0.09204230995282851, 0.18196191470320913, -0.7485204223778648, 0.9199953795007977, 2.270056674567012, 0.06257992560858991, -1.7113170970229996, 0.7057637431230915, 0.3212281661851288, -1.4999545476309766, -0.2457876549511953, -0.5026702726458508, -0.8378694624017728, -0.4872835426161976, -1.2615035368256935, -2.5115754988356915, 0.9864890564788301, 0.396737779794545, -1.4657789023223258, -0.3397456170067192, 0.418144597004115, -0.1294529667117238, 0.004876764515848807, 1.0361484126515212, -1.9379241744374494, -0.4812544862291755, -2.7247504675261713, -2.046209405926666, 1.3399502426202767, -0.4939451562461667, -1.334287348674052, 3.057171462123101, -0.22997419115912268, -1.0939365000600445, -0.019393103391439844, -0.19999322336046782, -0.5498380394261451, -0.46143539445536796, -1.7438430263031461, -0.35178030279427575, -0.18192593046993333], \"yaxis\": \"y13\"}, {\"line\": {\"color\": \"rgba(128, 128, 128, 1.0)\", \"dash\": \"solid\", \"shape\": \"linear\", \"width\": 1.3}, \"marker\": {\"size\": 2, \"symbol\": \"circle\"}, \"mode\": \"markers\", \"name\": \"D\", \"text\": \"\", \"type\": \"scatter\", \"x\": [0.5847521709987167, 1.416135425448743, -0.02193980163591156, 1.0013020771420085, -0.27740457105104066, -1.4447465497987408, -2.040204644799607, 1.0029081948520164, -0.2810971812517474, 1.0252737000345813, 0.27068526227379247, 1.1470770718279595, -0.5888546275328206, 1.4273380390131492, 0.2086171447182851, -0.2875421537307741, -0.9853532885603278, -1.2254474057149276, 0.2676216333451455, 1.081682934905261, 1.1632682266690813, 1.2871795766027607, 0.871104495281452, 1.8238537989591024, 1.2396782959198915, -0.5186902170664442, -0.28842788919227996, -0.09080974861107848, 0.3603274958193862, 0.15805756661314824, 0.15395301850870477, 0.08238213359689824, 0.37746101585567343, 0.2666193731972084, 0.08112154919247953, 0.18554268521858297, -0.5804771162529837, -0.4324114593114584, -0.09918022081792709, -0.09419899742061491, 1.225995859716065, 1.0982259621569304, 0.03021255486881537, 0.26093095351215384, 1.0032625749077733, -0.379901548088872, -0.542554141709257, -1.0772761392227095, 0.7239032100688596, -0.16543581199498433, 1.1078079827072325, 0.7709725457443424, -0.0344966046980537, -0.8226795974370851, -1.706777614049343, 0.9079931171013804, 0.18008700663392901, 0.749553874821924, -0.37702549696765186, 0.7724047186087337, 1.3120910818557805, 0.05125329456421593, 0.10017530538548051, -0.6895347209932827, 0.045048085035044004, 0.10646626592697084, -1.8058546002940823, -0.27251111619450097, 0.008851235048992899, -0.23179744833396781, 0.2432165859889888, 1.86200639032237, -3.0738387380541465, 1.3214852040849363, 0.22954225287636534, -1.260791826026142, -1.609125825572039, 0.11680930177241139, 0.748842781193093, -0.2806525071335359, 0.6766685021521556, 0.1587205355149384, 0.2888196524039874, -0.6507586318790385, 1.7789826623426028, -0.9605271280324573, 0.6957021260494419, 0.7388996977221987, -0.14437121754486948, 1.042838079438687, -0.44210180606067057, -0.9551581965860438, 0.9495665282329464, 0.23496425984077343, -0.33531161274819027, -0.13140202615689167, -0.42973470331868785, 0.7491272560677047, -1.074834820795073, 0.06366308205424531], \"xaxis\": \"x14\", \"y\": [0.147199008262158, -0.563686978408816, 0.1935185857215168, 0.06840872775042404, 0.1495860276063127, -0.8164809652651062, -0.03755299361077514, 2.16471625140727, -0.34931218728287555, -0.2573289939274511, -0.5680249136999246, 0.9181415900935799, 1.321338369334238, 1.332633119254535, 2.1581578214595436, 0.21286874663937458, -1.8614697995147869, -0.5729290697190624, 0.03261376641186569, -1.1770551496854273, 0.20300807264543783, -0.14352954695035344, -0.16130578648867752, -0.3995783925199026, -1.391241890619133, -2.1853691633372065, -0.28535812114966413, -1.7245923419414135, -0.35817612202427035, -0.9736601782085923, -0.21704879400756347, 0.7508225135202804, 0.596438122673971, 0.9426675051446728, 0.1572280919665969, -0.7535541711230572, 2.2197282238715954, 0.15052024275036946, 1.2591220807775882, 0.7994078284047268, -1.3881394922499757, -0.6765960739949137, 0.578550011685769, 0.9074333403473867, 0.059755663613654725, -0.6476788073122589, 0.6103870459005785, 1.133778049413226, 0.81777998473848, -0.6570318674944937, -1.5939903612997313, 0.09708514346645437, -0.4908422518775322, -0.05519433581355638, 0.042019189836366225, 0.344579576899029, 1.7058074601968831, 0.19227957518063715, 0.6427875137342878, -0.09204230995282851, 0.18196191470320913, -0.7485204223778648, 0.9199953795007977, 2.270056674567012, 0.06257992560858991, -1.7113170970229996, 0.7057637431230915, 0.3212281661851288, -1.4999545476309766, -0.2457876549511953, -0.5026702726458508, -0.8378694624017728, -0.4872835426161976, -1.2615035368256935, -2.5115754988356915, 0.9864890564788301, 0.396737779794545, -1.4657789023223258, -0.3397456170067192, 0.418144597004115, -0.1294529667117238, 0.004876764515848807, 1.0361484126515212, -1.9379241744374494, -0.4812544862291755, -2.7247504675261713, -2.046209405926666, 1.3399502426202767, -0.4939451562461667, -1.334287348674052, 3.057171462123101, -0.22997419115912268, -1.0939365000600445, -0.019393103391439844, -0.19999322336046782, -0.5498380394261451, -0.46143539445536796, -1.7438430263031461, -0.35178030279427575, -0.18192593046993333], \"yaxis\": \"y14\"}, {\"line\": {\"color\": \"rgba(128, 128, 128, 1.0)\", \"dash\": \"solid\", \"shape\": \"linear\", \"width\": 1.3}, \"marker\": {\"size\": 2, \"symbol\": \"circle\"}, \"mode\": \"markers\", \"name\": \"D\", \"text\": \"\", \"type\": \"scatter\", \"x\": [-0.5040713695527463, 1.2784202450241422, -0.232759559818154, -0.679654541573124, -1.011015422291063, -0.32187289353674653, 0.5627893851315948, 0.9098914259540819, -0.919821032957485, 1.3941803932409902, -0.8550758261359718, 0.6243531459906352, 0.8400190416731714, -0.2753615192589795, -0.2585792639496748, -1.397884102026485, 2.0228648522783246, 1.2477712691964573, -1.060055996065693, 1.8599201417821452, -1.764864488117764, -0.0028176670282632644, 0.0692372225869619, -0.4791952902270925, -0.5419858833833523, 1.0815002014773385, 0.7170715008741838, 0.3933653744163969, -0.9035266056041219, 1.499299058408644, 0.4842143177576148, -0.011608012127365093, -1.4602517038263843, 0.6068444434417665, 0.903137943058507, -2.1545184577840715, -0.3108598498176006, 1.419811759778885, 0.5220044477439261, -1.2035550381761686, -1.938620334238564, -1.7339789706381616, -1.6140469676885045, -0.6071544703879108, 0.016490473613038428, 0.5860273908655671, -0.1151062845554965, 0.23816785737402918, -0.12246295081874024, 0.40136628538593233, 2.0380763326821327, -1.4909840779242247, -0.025328622959499288, 0.9732231166084475, -0.12548941087916854, 2.7713894872401066, -0.3574211382468966, 3.734238465340607, -0.46444052612085, 2.0816217769462324, -0.6675661579125914, -0.44237890841309857, -0.01729481874918793, -0.16016386308921032, -0.2774752711858284, 0.5824575495784985, -0.4169110547024678, 0.055149602105424494, 0.5502152645938555, 0.3359015858865263, -1.601271848893958, 0.7906604686356005, 1.5591393363957884, -0.862791098485518, -1.5256277083293754, 0.8437511523936281, 0.313892080669878, 1.394700971566019, 1.4676191999753831, -0.08584012243973556, 0.5339217143585893, -1.504967502787583, -0.6120937712731666, -0.32499689256595293, -1.5343027825929318, 0.29700259098519144, -1.2118965789837157, 1.5361194292633042, 1.2932770588128062, 0.6139310695919133, -1.1292865063306947, 1.5296234784013558, -2.968692751946457, -2.1464598410941362, 1.8393753279299379, 0.33505069399545345, 0.4115653585619959, -1.5276411041474476, 0.9440653214584742, 0.3297241147261427], \"xaxis\": \"x15\", \"y\": [0.147199008262158, -0.563686978408816, 0.1935185857215168, 0.06840872775042404, 0.1495860276063127, -0.8164809652651062, -0.03755299361077514, 2.16471625140727, -0.34931218728287555, -0.2573289939274511, -0.5680249136999246, 0.9181415900935799, 1.321338369334238, 1.332633119254535, 2.1581578214595436, 0.21286874663937458, -1.8614697995147869, -0.5729290697190624, 0.03261376641186569, -1.1770551496854273, 0.20300807264543783, -0.14352954695035344, -0.16130578648867752, -0.3995783925199026, -1.391241890619133, -2.1853691633372065, -0.28535812114966413, -1.7245923419414135, -0.35817612202427035, -0.9736601782085923, -0.21704879400756347, 0.7508225135202804, 0.596438122673971, 0.9426675051446728, 0.1572280919665969, -0.7535541711230572, 2.2197282238715954, 0.15052024275036946, 1.2591220807775882, 0.7994078284047268, -1.3881394922499757, -0.6765960739949137, 0.578550011685769, 0.9074333403473867, 0.059755663613654725, -0.6476788073122589, 0.6103870459005785, 1.133778049413226, 0.81777998473848, -0.6570318674944937, -1.5939903612997313, 0.09708514346645437, -0.4908422518775322, -0.05519433581355638, 0.042019189836366225, 0.344579576899029, 1.7058074601968831, 0.19227957518063715, 0.6427875137342878, -0.09204230995282851, 0.18196191470320913, -0.7485204223778648, 0.9199953795007977, 2.270056674567012, 0.06257992560858991, -1.7113170970229996, 0.7057637431230915, 0.3212281661851288, -1.4999545476309766, -0.2457876549511953, -0.5026702726458508, -0.8378694624017728, -0.4872835426161976, -1.2615035368256935, -2.5115754988356915, 0.9864890564788301, 0.396737779794545, -1.4657789023223258, -0.3397456170067192, 0.418144597004115, -0.1294529667117238, 0.004876764515848807, 1.0361484126515212, -1.9379241744374494, -0.4812544862291755, -2.7247504675261713, -2.046209405926666, 1.3399502426202767, -0.4939451562461667, -1.334287348674052, 3.057171462123101, -0.22997419115912268, -1.0939365000600445, -0.019393103391439844, -0.19999322336046782, -0.5498380394261451, -0.46143539445536796, -1.7438430263031461, -0.35178030279427575, -0.18192593046993333], \"yaxis\": \"y15\"}, {\"histfunc\": \"count\", \"histnorm\": \"\", \"marker\": {\"color\": \"rgba(128, 0, 128, 1.0)\", \"line\": {\"color\": \"#4D5663\", \"width\": 1.3}}, \"name\": \"D\", \"nbinsx\": 10, \"opacity\": 0.8, \"orientation\": \"v\", \"type\": \"histogram\", \"x\": [0.147199008262158, -0.563686978408816, 0.1935185857215168, 0.06840872775042404, 0.1495860276063127, -0.8164809652651062, -0.03755299361077514, 2.16471625140727, -0.34931218728287555, -0.2573289939274511, -0.5680249136999246, 0.9181415900935799, 1.321338369334238, 1.332633119254535, 2.1581578214595436, 0.21286874663937458, -1.8614697995147869, -0.5729290697190624, 0.03261376641186569, -1.1770551496854273, 0.20300807264543783, -0.14352954695035344, -0.16130578648867752, -0.3995783925199026, -1.391241890619133, -2.1853691633372065, -0.28535812114966413, -1.7245923419414135, -0.35817612202427035, -0.9736601782085923, -0.21704879400756347, 0.7508225135202804, 0.596438122673971, 0.9426675051446728, 0.1572280919665969, -0.7535541711230572, 2.2197282238715954, 0.15052024275036946, 1.2591220807775882, 0.7994078284047268, -1.3881394922499757, -0.6765960739949137, 0.578550011685769, 0.9074333403473867, 0.059755663613654725, -0.6476788073122589, 0.6103870459005785, 1.133778049413226, 0.81777998473848, -0.6570318674944937, -1.5939903612997313, 0.09708514346645437, -0.4908422518775322, -0.05519433581355638, 0.042019189836366225, 0.344579576899029, 1.7058074601968831, 0.19227957518063715, 0.6427875137342878, -0.09204230995282851, 0.18196191470320913, -0.7485204223778648, 0.9199953795007977, 2.270056674567012, 0.06257992560858991, -1.7113170970229996, 0.7057637431230915, 0.3212281661851288, -1.4999545476309766, -0.2457876549511953, -0.5026702726458508, -0.8378694624017728, -0.4872835426161976, -1.2615035368256935, -2.5115754988356915, 0.9864890564788301, 0.396737779794545, -1.4657789023223258, -0.3397456170067192, 0.418144597004115, -0.1294529667117238, 0.004876764515848807, 1.0361484126515212, -1.9379241744374494, -0.4812544862291755, -2.7247504675261713, -2.046209405926666, 1.3399502426202767, -0.4939451562461667, -1.334287348674052, 3.057171462123101, -0.22997419115912268, -1.0939365000600445, -0.019393103391439844, -0.19999322336046782, -0.5498380394261451, -0.46143539445536796, -1.7438430263031461, -0.35178030279427575, -0.18192593046993333], \"xaxis\": \"x16\", \"yaxis\": \"y16\"}],\n",
       "                        {\"bargap\": 0.02, \"legend\": {\"bgcolor\": \"#F5F6F9\", \"font\": {\"color\": \"#4D5663\"}}, \"paper_bgcolor\": \"#F5F6F9\", \"plot_bgcolor\": \"#F5F6F9\", \"showlegend\": false, \"template\": {\"data\": {\"bar\": [{\"error_x\": {\"color\": \"#2a3f5f\"}, \"error_y\": {\"color\": \"#2a3f5f\"}, \"marker\": {\"line\": {\"color\": \"#E5ECF6\", \"width\": 0.5}}, \"type\": \"bar\"}], \"barpolar\": [{\"marker\": {\"line\": {\"color\": \"#E5ECF6\", \"width\": 0.5}}, \"type\": \"barpolar\"}], \"carpet\": [{\"aaxis\": {\"endlinecolor\": \"#2a3f5f\", \"gridcolor\": \"white\", \"linecolor\": \"white\", \"minorgridcolor\": \"white\", \"startlinecolor\": \"#2a3f5f\"}, \"baxis\": {\"endlinecolor\": \"#2a3f5f\", \"gridcolor\": \"white\", \"linecolor\": \"white\", \"minorgridcolor\": \"white\", \"startlinecolor\": \"#2a3f5f\"}, \"type\": \"carpet\"}], \"choropleth\": [{\"colorbar\": {\"outlinewidth\": 0, \"ticks\": \"\"}, \"type\": \"choropleth\"}], \"contour\": [{\"colorbar\": {\"outlinewidth\": 0, \"ticks\": \"\"}, \"colorscale\": [[0.0, \"#0d0887\"], [0.1111111111111111, \"#46039f\"], [0.2222222222222222, \"#7201a8\"], [0.3333333333333333, \"#9c179e\"], [0.4444444444444444, \"#bd3786\"], [0.5555555555555556, \"#d8576b\"], [0.6666666666666666, \"#ed7953\"], [0.7777777777777778, \"#fb9f3a\"], [0.8888888888888888, \"#fdca26\"], [1.0, \"#f0f921\"]], \"type\": \"contour\"}], \"contourcarpet\": [{\"colorbar\": {\"outlinewidth\": 0, \"ticks\": \"\"}, \"type\": \"contourcarpet\"}], \"heatmap\": [{\"colorbar\": {\"outlinewidth\": 0, \"ticks\": \"\"}, \"colorscale\": [[0.0, \"#0d0887\"], [0.1111111111111111, \"#46039f\"], [0.2222222222222222, \"#7201a8\"], [0.3333333333333333, \"#9c179e\"], [0.4444444444444444, \"#bd3786\"], [0.5555555555555556, \"#d8576b\"], [0.6666666666666666, \"#ed7953\"], [0.7777777777777778, \"#fb9f3a\"], [0.8888888888888888, \"#fdca26\"], [1.0, \"#f0f921\"]], \"type\": \"heatmap\"}], \"heatmapgl\": [{\"colorbar\": {\"outlinewidth\": 0, \"ticks\": \"\"}, \"colorscale\": [[0.0, \"#0d0887\"], [0.1111111111111111, \"#46039f\"], [0.2222222222222222, \"#7201a8\"], [0.3333333333333333, \"#9c179e\"], [0.4444444444444444, \"#bd3786\"], [0.5555555555555556, \"#d8576b\"], [0.6666666666666666, \"#ed7953\"], [0.7777777777777778, \"#fb9f3a\"], [0.8888888888888888, \"#fdca26\"], [1.0, \"#f0f921\"]], \"type\": \"heatmapgl\"}], \"histogram\": [{\"marker\": {\"colorbar\": {\"outlinewidth\": 0, \"ticks\": \"\"}}, \"type\": \"histogram\"}], \"histogram2d\": [{\"colorbar\": {\"outlinewidth\": 0, \"ticks\": \"\"}, \"colorscale\": [[0.0, \"#0d0887\"], [0.1111111111111111, \"#46039f\"], [0.2222222222222222, \"#7201a8\"], [0.3333333333333333, \"#9c179e\"], [0.4444444444444444, \"#bd3786\"], [0.5555555555555556, \"#d8576b\"], [0.6666666666666666, \"#ed7953\"], [0.7777777777777778, \"#fb9f3a\"], [0.8888888888888888, \"#fdca26\"], [1.0, \"#f0f921\"]], \"type\": \"histogram2d\"}], \"histogram2dcontour\": [{\"colorbar\": {\"outlinewidth\": 0, \"ticks\": \"\"}, \"colorscale\": [[0.0, \"#0d0887\"], [0.1111111111111111, \"#46039f\"], [0.2222222222222222, \"#7201a8\"], [0.3333333333333333, \"#9c179e\"], [0.4444444444444444, \"#bd3786\"], [0.5555555555555556, \"#d8576b\"], [0.6666666666666666, \"#ed7953\"], [0.7777777777777778, \"#fb9f3a\"], [0.8888888888888888, \"#fdca26\"], [1.0, \"#f0f921\"]], \"type\": \"histogram2dcontour\"}], \"mesh3d\": [{\"colorbar\": {\"outlinewidth\": 0, \"ticks\": \"\"}, \"type\": \"mesh3d\"}], \"parcoords\": [{\"line\": {\"colorbar\": {\"outlinewidth\": 0, \"ticks\": \"\"}}, \"type\": \"parcoords\"}], \"pie\": [{\"automargin\": true, \"type\": \"pie\"}], \"scatter\": [{\"marker\": {\"colorbar\": {\"outlinewidth\": 0, \"ticks\": \"\"}}, \"type\": \"scatter\"}], \"scatter3d\": [{\"line\": {\"colorbar\": {\"outlinewidth\": 0, \"ticks\": \"\"}}, \"marker\": {\"colorbar\": {\"outlinewidth\": 0, \"ticks\": \"\"}}, \"type\": \"scatter3d\"}], \"scattercarpet\": [{\"marker\": {\"colorbar\": {\"outlinewidth\": 0, \"ticks\": \"\"}}, \"type\": \"scattercarpet\"}], \"scattergeo\": [{\"marker\": {\"colorbar\": {\"outlinewidth\": 0, \"ticks\": \"\"}}, \"type\": \"scattergeo\"}], \"scattergl\": [{\"marker\": {\"colorbar\": {\"outlinewidth\": 0, \"ticks\": \"\"}}, \"type\": \"scattergl\"}], \"scattermapbox\": [{\"marker\": {\"colorbar\": {\"outlinewidth\": 0, \"ticks\": \"\"}}, \"type\": \"scattermapbox\"}], \"scatterpolar\": [{\"marker\": {\"colorbar\": {\"outlinewidth\": 0, \"ticks\": \"\"}}, \"type\": \"scatterpolar\"}], \"scatterpolargl\": [{\"marker\": {\"colorbar\": {\"outlinewidth\": 0, \"ticks\": \"\"}}, \"type\": \"scatterpolargl\"}], \"scatterternary\": [{\"marker\": {\"colorbar\": {\"outlinewidth\": 0, \"ticks\": \"\"}}, \"type\": \"scatterternary\"}], \"surface\": [{\"colorbar\": {\"outlinewidth\": 0, \"ticks\": \"\"}, \"colorscale\": [[0.0, \"#0d0887\"], [0.1111111111111111, \"#46039f\"], [0.2222222222222222, \"#7201a8\"], [0.3333333333333333, \"#9c179e\"], [0.4444444444444444, \"#bd3786\"], [0.5555555555555556, \"#d8576b\"], [0.6666666666666666, \"#ed7953\"], [0.7777777777777778, \"#fb9f3a\"], [0.8888888888888888, \"#fdca26\"], [1.0, \"#f0f921\"]], \"type\": \"surface\"}], \"table\": [{\"cells\": {\"fill\": {\"color\": \"#EBF0F8\"}, \"line\": {\"color\": \"white\"}}, \"header\": {\"fill\": {\"color\": \"#C8D4E3\"}, \"line\": {\"color\": \"white\"}}, \"type\": \"table\"}]}, \"layout\": {\"annotationdefaults\": {\"arrowcolor\": \"#2a3f5f\", \"arrowhead\": 0, \"arrowwidth\": 1}, \"coloraxis\": {\"colorbar\": {\"outlinewidth\": 0, \"ticks\": \"\"}}, \"colorscale\": {\"diverging\": [[0, \"#8e0152\"], [0.1, \"#c51b7d\"], [0.2, \"#de77ae\"], [0.3, \"#f1b6da\"], [0.4, \"#fde0ef\"], [0.5, \"#f7f7f7\"], [0.6, \"#e6f5d0\"], [0.7, \"#b8e186\"], [0.8, \"#7fbc41\"], [0.9, \"#4d9221\"], [1, \"#276419\"]], \"sequential\": [[0.0, \"#0d0887\"], [0.1111111111111111, \"#46039f\"], [0.2222222222222222, \"#7201a8\"], [0.3333333333333333, \"#9c179e\"], [0.4444444444444444, \"#bd3786\"], [0.5555555555555556, \"#d8576b\"], [0.6666666666666666, \"#ed7953\"], [0.7777777777777778, \"#fb9f3a\"], [0.8888888888888888, \"#fdca26\"], [1.0, \"#f0f921\"]], \"sequentialminus\": [[0.0, \"#0d0887\"], [0.1111111111111111, \"#46039f\"], [0.2222222222222222, \"#7201a8\"], [0.3333333333333333, \"#9c179e\"], [0.4444444444444444, \"#bd3786\"], [0.5555555555555556, \"#d8576b\"], [0.6666666666666666, \"#ed7953\"], [0.7777777777777778, \"#fb9f3a\"], [0.8888888888888888, \"#fdca26\"], [1.0, \"#f0f921\"]]}, \"colorway\": [\"#636efa\", \"#EF553B\", \"#00cc96\", \"#ab63fa\", \"#FFA15A\", \"#19d3f3\", \"#FF6692\", \"#B6E880\", \"#FF97FF\", \"#FECB52\"], \"font\": {\"color\": \"#2a3f5f\"}, \"geo\": {\"bgcolor\": \"white\", \"lakecolor\": \"white\", \"landcolor\": \"#E5ECF6\", \"showlakes\": true, \"showland\": true, \"subunitcolor\": \"white\"}, \"hoverlabel\": {\"align\": \"left\"}, \"hovermode\": \"closest\", \"mapbox\": {\"style\": \"light\"}, \"paper_bgcolor\": \"white\", \"plot_bgcolor\": \"#E5ECF6\", \"polar\": {\"angularaxis\": {\"gridcolor\": \"white\", \"linecolor\": \"white\", \"ticks\": \"\"}, \"bgcolor\": \"#E5ECF6\", \"radialaxis\": {\"gridcolor\": \"white\", \"linecolor\": \"white\", \"ticks\": \"\"}}, \"scene\": {\"xaxis\": {\"backgroundcolor\": \"#E5ECF6\", \"gridcolor\": \"white\", \"gridwidth\": 2, \"linecolor\": \"white\", \"showbackground\": true, \"ticks\": \"\", \"zerolinecolor\": \"white\"}, \"yaxis\": {\"backgroundcolor\": \"#E5ECF6\", \"gridcolor\": \"white\", \"gridwidth\": 2, \"linecolor\": \"white\", \"showbackground\": true, \"ticks\": \"\", \"zerolinecolor\": \"white\"}, \"zaxis\": {\"backgroundcolor\": \"#E5ECF6\", \"gridcolor\": \"white\", \"gridwidth\": 2, \"linecolor\": \"white\", \"showbackground\": true, \"ticks\": \"\", \"zerolinecolor\": \"white\"}}, \"shapedefaults\": {\"line\": {\"color\": \"#2a3f5f\"}}, \"ternary\": {\"aaxis\": {\"gridcolor\": \"white\", \"linecolor\": \"white\", \"ticks\": \"\"}, \"baxis\": {\"gridcolor\": \"white\", \"linecolor\": \"white\", \"ticks\": \"\"}, \"bgcolor\": \"#E5ECF6\", \"caxis\": {\"gridcolor\": \"white\", \"linecolor\": \"white\", \"ticks\": \"\"}}, \"title\": {\"x\": 0.05}, \"xaxis\": {\"automargin\": true, \"gridcolor\": \"white\", \"linecolor\": \"white\", \"ticks\": \"\", \"title\": {\"standoff\": 15}, \"zerolinecolor\": \"white\", \"zerolinewidth\": 2}, \"yaxis\": {\"automargin\": true, \"gridcolor\": \"white\", \"linecolor\": \"white\", \"ticks\": \"\", \"title\": {\"standoff\": 15}, \"zerolinecolor\": \"white\", \"zerolinewidth\": 2}}}, \"title\": {\"font\": {\"color\": \"#4D5663\"}}, \"xaxis\": {\"anchor\": \"y\", \"domain\": [0.0, 0.2125], \"gridcolor\": \"#E1E5ED\", \"showgrid\": false, \"tickfont\": {\"color\": \"#4D5663\"}, \"title\": {\"font\": {\"color\": \"#4D5663\"}, \"text\": \"\"}, \"zerolinecolor\": \"#E1E5ED\"}, \"xaxis10\": {\"anchor\": \"y10\", \"domain\": [0.2625, 0.475], \"gridcolor\": \"#E1E5ED\", \"showgrid\": false, \"tickfont\": {\"color\": \"#4D5663\"}, \"title\": {\"font\": {\"color\": \"#4D5663\"}, \"text\": \"\"}, \"zerolinecolor\": \"#E1E5ED\"}, \"xaxis11\": {\"anchor\": \"y11\", \"domain\": [0.525, 0.7375], \"gridcolor\": \"#E1E5ED\", \"showgrid\": false, \"tickfont\": {\"color\": \"#4D5663\"}, \"title\": {\"font\": {\"color\": \"#4D5663\"}, \"text\": \"\"}, \"zerolinecolor\": \"#E1E5ED\"}, \"xaxis12\": {\"anchor\": \"y12\", \"domain\": [0.7875, 1.0], \"gridcolor\": \"#E1E5ED\", \"showgrid\": false, \"tickfont\": {\"color\": \"#4D5663\"}, \"title\": {\"font\": {\"color\": \"#4D5663\"}, \"text\": \"\"}, \"zerolinecolor\": \"#E1E5ED\"}, \"xaxis13\": {\"anchor\": \"y13\", \"domain\": [0.0, 0.2125], \"gridcolor\": \"#E1E5ED\", \"showgrid\": false, \"tickfont\": {\"color\": \"#4D5663\"}, \"title\": {\"font\": {\"color\": \"#4D5663\"}, \"text\": \"\"}, \"zerolinecolor\": \"#E1E5ED\"}, \"xaxis14\": {\"anchor\": \"y14\", \"domain\": [0.2625, 0.475], \"gridcolor\": \"#E1E5ED\", \"showgrid\": false, \"tickfont\": {\"color\": \"#4D5663\"}, \"title\": {\"font\": {\"color\": \"#4D5663\"}, \"text\": \"\"}, \"zerolinecolor\": \"#E1E5ED\"}, \"xaxis15\": {\"anchor\": \"y15\", \"domain\": [0.525, 0.7375], \"gridcolor\": \"#E1E5ED\", \"showgrid\": false, \"tickfont\": {\"color\": \"#4D5663\"}, \"title\": {\"font\": {\"color\": \"#4D5663\"}, \"text\": \"\"}, \"zerolinecolor\": \"#E1E5ED\"}, \"xaxis16\": {\"anchor\": \"y16\", \"domain\": [0.7875, 1.0], \"gridcolor\": \"#E1E5ED\", \"showgrid\": false, \"tickfont\": {\"color\": \"#4D5663\"}, \"title\": {\"font\": {\"color\": \"#4D5663\"}, \"text\": \"\"}, \"zerolinecolor\": \"#E1E5ED\"}, \"xaxis2\": {\"anchor\": \"y2\", \"domain\": [0.2625, 0.475], \"gridcolor\": \"#E1E5ED\", \"showgrid\": false, \"tickfont\": {\"color\": \"#4D5663\"}, \"title\": {\"font\": {\"color\": \"#4D5663\"}, \"text\": \"\"}, \"zerolinecolor\": \"#E1E5ED\"}, \"xaxis3\": {\"anchor\": \"y3\", \"domain\": [0.525, 0.7375], \"gridcolor\": \"#E1E5ED\", \"showgrid\": false, \"tickfont\": {\"color\": \"#4D5663\"}, \"title\": {\"font\": {\"color\": \"#4D5663\"}, \"text\": \"\"}, \"zerolinecolor\": \"#E1E5ED\"}, \"xaxis4\": {\"anchor\": \"y4\", \"domain\": [0.7875, 1.0], \"gridcolor\": \"#E1E5ED\", \"showgrid\": false, \"tickfont\": {\"color\": \"#4D5663\"}, \"title\": {\"font\": {\"color\": \"#4D5663\"}, \"text\": \"\"}, \"zerolinecolor\": \"#E1E5ED\"}, \"xaxis5\": {\"anchor\": \"y5\", \"domain\": [0.0, 0.2125], \"gridcolor\": \"#E1E5ED\", \"showgrid\": false, \"tickfont\": {\"color\": \"#4D5663\"}, \"title\": {\"font\": {\"color\": \"#4D5663\"}, \"text\": \"\"}, \"zerolinecolor\": \"#E1E5ED\"}, \"xaxis6\": {\"anchor\": \"y6\", \"domain\": [0.2625, 0.475], \"gridcolor\": \"#E1E5ED\", \"showgrid\": false, \"tickfont\": {\"color\": \"#4D5663\"}, \"title\": {\"font\": {\"color\": \"#4D5663\"}, \"text\": \"\"}, \"zerolinecolor\": \"#E1E5ED\"}, \"xaxis7\": {\"anchor\": \"y7\", \"domain\": [0.525, 0.7375], \"gridcolor\": \"#E1E5ED\", \"showgrid\": false, \"tickfont\": {\"color\": \"#4D5663\"}, \"title\": {\"font\": {\"color\": \"#4D5663\"}, \"text\": \"\"}, \"zerolinecolor\": \"#E1E5ED\"}, \"xaxis8\": {\"anchor\": \"y8\", \"domain\": [0.7875, 1.0], \"gridcolor\": \"#E1E5ED\", \"showgrid\": false, \"tickfont\": {\"color\": \"#4D5663\"}, \"title\": {\"font\": {\"color\": \"#4D5663\"}, \"text\": \"\"}, \"zerolinecolor\": \"#E1E5ED\"}, \"xaxis9\": {\"anchor\": \"y9\", \"domain\": [0.0, 0.2125], \"gridcolor\": \"#E1E5ED\", \"showgrid\": false, \"tickfont\": {\"color\": \"#4D5663\"}, \"title\": {\"font\": {\"color\": \"#4D5663\"}, \"text\": \"\"}, \"zerolinecolor\": \"#E1E5ED\"}, \"yaxis\": {\"anchor\": \"x\", \"domain\": [0.8025, 1.0], \"gridcolor\": \"#E1E5ED\", \"showgrid\": false, \"tickfont\": {\"color\": \"#4D5663\"}, \"title\": {\"font\": {\"color\": \"#4D5663\"}, \"text\": \"\"}, \"zerolinecolor\": \"#E1E5ED\"}, \"yaxis10\": {\"anchor\": \"x10\", \"domain\": [0.2675, 0.465], \"gridcolor\": \"#E1E5ED\", \"showgrid\": false, \"tickfont\": {\"color\": \"#4D5663\"}, \"title\": {\"font\": {\"color\": \"#4D5663\"}, \"text\": \"\"}, \"zerolinecolor\": \"#E1E5ED\"}, \"yaxis11\": {\"anchor\": \"x11\", \"domain\": [0.2675, 0.465], \"gridcolor\": \"#E1E5ED\", \"showgrid\": false, \"tickfont\": {\"color\": \"#4D5663\"}, \"title\": {\"font\": {\"color\": \"#4D5663\"}, \"text\": \"\"}, \"zerolinecolor\": \"#E1E5ED\"}, \"yaxis12\": {\"anchor\": \"x12\", \"domain\": [0.2675, 0.465], \"gridcolor\": \"#E1E5ED\", \"showgrid\": false, \"tickfont\": {\"color\": \"#4D5663\"}, \"title\": {\"font\": {\"color\": \"#4D5663\"}, \"text\": \"\"}, \"zerolinecolor\": \"#E1E5ED\"}, \"yaxis13\": {\"anchor\": \"x13\", \"domain\": [0.0, 0.1975], \"gridcolor\": \"#E1E5ED\", \"showgrid\": false, \"tickfont\": {\"color\": \"#4D5663\"}, \"title\": {\"font\": {\"color\": \"#4D5663\"}, \"text\": \"\"}, \"zerolinecolor\": \"#E1E5ED\"}, \"yaxis14\": {\"anchor\": \"x14\", \"domain\": [0.0, 0.1975], \"gridcolor\": \"#E1E5ED\", \"showgrid\": false, \"tickfont\": {\"color\": \"#4D5663\"}, \"title\": {\"font\": {\"color\": \"#4D5663\"}, \"text\": \"\"}, \"zerolinecolor\": \"#E1E5ED\"}, \"yaxis15\": {\"anchor\": \"x15\", \"domain\": [0.0, 0.1975], \"gridcolor\": \"#E1E5ED\", \"showgrid\": false, \"tickfont\": {\"color\": \"#4D5663\"}, \"title\": {\"font\": {\"color\": \"#4D5663\"}, \"text\": \"\"}, \"zerolinecolor\": \"#E1E5ED\"}, \"yaxis16\": {\"anchor\": \"x16\", \"domain\": [0.0, 0.1975], \"gridcolor\": \"#E1E5ED\", \"showgrid\": false, \"tickfont\": {\"color\": \"#4D5663\"}, \"title\": {\"font\": {\"color\": \"#4D5663\"}, \"text\": \"\"}, \"zerolinecolor\": \"#E1E5ED\"}, \"yaxis2\": {\"anchor\": \"x2\", \"domain\": [0.8025, 1.0], \"gridcolor\": \"#E1E5ED\", \"showgrid\": false, \"tickfont\": {\"color\": \"#4D5663\"}, \"title\": {\"font\": {\"color\": \"#4D5663\"}, \"text\": \"\"}, \"zerolinecolor\": \"#E1E5ED\"}, \"yaxis3\": {\"anchor\": \"x3\", \"domain\": [0.8025, 1.0], \"gridcolor\": \"#E1E5ED\", \"showgrid\": false, \"tickfont\": {\"color\": \"#4D5663\"}, \"title\": {\"font\": {\"color\": \"#4D5663\"}, \"text\": \"\"}, \"zerolinecolor\": \"#E1E5ED\"}, \"yaxis4\": {\"anchor\": \"x4\", \"domain\": [0.8025, 1.0], \"gridcolor\": \"#E1E5ED\", \"showgrid\": false, \"tickfont\": {\"color\": \"#4D5663\"}, \"title\": {\"font\": {\"color\": \"#4D5663\"}, \"text\": \"\"}, \"zerolinecolor\": \"#E1E5ED\"}, \"yaxis5\": {\"anchor\": \"x5\", \"domain\": [0.535, 0.7325], \"gridcolor\": \"#E1E5ED\", \"showgrid\": false, \"tickfont\": {\"color\": \"#4D5663\"}, \"title\": {\"font\": {\"color\": \"#4D5663\"}, \"text\": \"\"}, \"zerolinecolor\": \"#E1E5ED\"}, \"yaxis6\": {\"anchor\": \"x6\", \"domain\": [0.535, 0.7325], \"gridcolor\": \"#E1E5ED\", \"showgrid\": false, \"tickfont\": {\"color\": \"#4D5663\"}, \"title\": {\"font\": {\"color\": \"#4D5663\"}, \"text\": \"\"}, \"zerolinecolor\": \"#E1E5ED\"}, \"yaxis7\": {\"anchor\": \"x7\", \"domain\": [0.535, 0.7325], \"gridcolor\": \"#E1E5ED\", \"showgrid\": false, \"tickfont\": {\"color\": \"#4D5663\"}, \"title\": {\"font\": {\"color\": \"#4D5663\"}, \"text\": \"\"}, \"zerolinecolor\": \"#E1E5ED\"}, \"yaxis8\": {\"anchor\": \"x8\", \"domain\": [0.535, 0.7325], \"gridcolor\": \"#E1E5ED\", \"showgrid\": false, \"tickfont\": {\"color\": \"#4D5663\"}, \"title\": {\"font\": {\"color\": \"#4D5663\"}, \"text\": \"\"}, \"zerolinecolor\": \"#E1E5ED\"}, \"yaxis9\": {\"anchor\": \"x9\", \"domain\": [0.2675, 0.465], \"gridcolor\": \"#E1E5ED\", \"showgrid\": false, \"tickfont\": {\"color\": \"#4D5663\"}, \"title\": {\"font\": {\"color\": \"#4D5663\"}, \"text\": \"\"}, \"zerolinecolor\": \"#E1E5ED\"}},\n",
       "                        {\"showLink\": true, \"linkText\": \"Export to plot.ly\", \"plotlyServerURL\": \"https://plot.ly\", \"responsive\": true}\n",
       "                    ).then(function(){\n",
       "                            \n",
       "var gd = document.getElementById('25956468-e516-4bec-af8a-e789f9b841b1');\n",
       "var x = new MutationObserver(function (mutations, observer) {{\n",
       "        var display = window.getComputedStyle(gd).display;\n",
       "        if (!display || display === 'none') {{\n",
       "            console.log([gd, 'removed!']);\n",
       "            Plotly.purge(gd);\n",
       "            observer.disconnect();\n",
       "        }}\n",
       "}});\n",
       "\n",
       "// Listen for the removal of the full notebook cells\n",
       "var notebookContainer = gd.closest('#notebook-container');\n",
       "if (notebookContainer) {{\n",
       "    x.observe(notebookContainer, {childList: true});\n",
       "}}\n",
       "\n",
       "// Listen for the clearing of the current output cell\n",
       "var outputEl = gd.closest('.output');\n",
       "if (outputEl) {{\n",
       "    x.observe(outputEl, {childList: true});\n",
       "}}\n",
       "\n",
       "                        })\n",
       "                };\n",
       "                });\n",
       "            </script>\n",
       "        </div>"
      ]
     },
     "metadata": {},
     "output_type": "display_data"
    }
   ],
   "source": [
    "df.scatter_matrix()"
   ]
  },
  {
   "cell_type": "code",
   "execution_count": null,
   "metadata": {},
   "outputs": [],
   "source": []
  }
 ],
 "metadata": {
  "kernelspec": {
   "display_name": "Python 3",
   "language": "python",
   "name": "python3"
  },
  "language_info": {
   "codemirror_mode": {
    "name": "ipython",
    "version": 3
   },
   "file_extension": ".py",
   "mimetype": "text/x-python",
   "name": "python",
   "nbconvert_exporter": "python",
   "pygments_lexer": "ipython3",
   "version": "3.8.2"
  }
 },
 "nbformat": 4,
 "nbformat_minor": 4
}
