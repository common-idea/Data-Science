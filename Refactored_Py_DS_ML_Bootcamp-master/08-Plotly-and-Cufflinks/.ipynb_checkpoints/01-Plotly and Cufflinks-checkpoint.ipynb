{
 "cells": [
  {
   "cell_type": "markdown",
   "metadata": {},
   "source": [
    "___\n",
    "\n",
    "<a href='http://www.pieriandata.com'> <img src='../Pierian_Data_Logo.png' /></a>\n",
    "___\n",
    "# Plotly and Cufflinks"
   ]
  },
  {
   "cell_type": "markdown",
   "metadata": {},
   "source": [
    "Plotly is a library that allows you to create interactive plots that you can use in dashboards or websites (you can save them as html files or static images).\n",
    "\n",
    "## Installation\n",
    "\n",
    "In order for this all to work, you'll need to install plotly and cufflinks to call plots directly off of a pandas dataframe. These libraries are not currently available through **conda** but are available through **pip**. Install the libraries at your command line/terminal using:\n",
    "\n",
    "    pip install plotly\n",
    "    pip install cufflinks\n",
    "\n",
    "** NOTE: Make sure you only have one installation of Python on your computer when you do this, otherwise the installation may not work. **\n",
    "\n",
    "## Imports and Set-up"
   ]
  },
  {
   "cell_type": "code",
   "execution_count": 3,
   "metadata": {},
   "outputs": [],
   "source": [
    "import pandas as pd\n",
    "import numpy as np\n",
    "%matplotlib inline"
   ]
  },
  {
   "cell_type": "code",
   "execution_count": 4,
   "metadata": {},
   "outputs": [
    {
     "name": "stdout",
     "output_type": "stream",
     "text": [
      "4.6.0\n"
     ]
    }
   ],
   "source": [
    "from plotly import __version__\n",
    "from plotly.offline import download_plotlyjs, init_notebook_mode, plot, iplot\n",
    "\n",
    "print(__version__) # requires version >= 1.9.0"
   ]
  },
  {
   "cell_type": "code",
   "execution_count": 5,
   "metadata": {},
   "outputs": [],
   "source": [
    "import cufflinks as cf"
   ]
  },
  {
   "cell_type": "code",
   "execution_count": 6,
   "metadata": {},
   "outputs": [
    {
     "data": {
      "text/html": [
       "        <script type=\"text/javascript\">\n",
       "        window.PlotlyConfig = {MathJaxConfig: 'local'};\n",
       "        if (window.MathJax) {MathJax.Hub.Config({SVG: {font: \"STIX-Web\"}});}\n",
       "        if (typeof require !== 'undefined') {\n",
       "        require.undef(\"plotly\");\n",
       "        requirejs.config({\n",
       "            paths: {\n",
       "                'plotly': ['https://cdn.plot.ly/plotly-latest.min']\n",
       "            }\n",
       "        });\n",
       "        require(['plotly'], function(Plotly) {\n",
       "            window._Plotly = Plotly;\n",
       "        });\n",
       "        }\n",
       "        </script>\n",
       "        "
      ]
     },
     "metadata": {},
     "output_type": "display_data"
    }
   ],
   "source": [
    "# For Notebooks\n",
    "init_notebook_mode(connected=True)"
   ]
  },
  {
   "cell_type": "code",
   "execution_count": 7,
   "metadata": {},
   "outputs": [
    {
     "data": {
      "text/html": [
       "        <script type=\"text/javascript\">\n",
       "        window.PlotlyConfig = {MathJaxConfig: 'local'};\n",
       "        if (window.MathJax) {MathJax.Hub.Config({SVG: {font: \"STIX-Web\"}});}\n",
       "        if (typeof require !== 'undefined') {\n",
       "        require.undef(\"plotly\");\n",
       "        requirejs.config({\n",
       "            paths: {\n",
       "                'plotly': ['https://cdn.plot.ly/plotly-latest.min']\n",
       "            }\n",
       "        });\n",
       "        require(['plotly'], function(Plotly) {\n",
       "            window._Plotly = Plotly;\n",
       "        });\n",
       "        }\n",
       "        </script>\n",
       "        "
      ]
     },
     "metadata": {},
     "output_type": "display_data"
    }
   ],
   "source": [
    "# For offline use\n",
    "cf.go_offline()"
   ]
  },
  {
   "cell_type": "markdown",
   "metadata": {},
   "source": [
    "### Fake Data"
   ]
  },
  {
   "cell_type": "code",
   "execution_count": 8,
   "metadata": {},
   "outputs": [],
   "source": [
    "df = pd.DataFrame(np.random.randn(100,4),columns='A B C D'.split())"
   ]
  },
  {
   "cell_type": "code",
   "execution_count": 9,
   "metadata": {},
   "outputs": [
    {
     "data": {
      "text/html": [
       "<div>\n",
       "<style scoped>\n",
       "    .dataframe tbody tr th:only-of-type {\n",
       "        vertical-align: middle;\n",
       "    }\n",
       "\n",
       "    .dataframe tbody tr th {\n",
       "        vertical-align: top;\n",
       "    }\n",
       "\n",
       "    .dataframe thead th {\n",
       "        text-align: right;\n",
       "    }\n",
       "</style>\n",
       "<table border=\"1\" class=\"dataframe\">\n",
       "  <thead>\n",
       "    <tr style=\"text-align: right;\">\n",
       "      <th></th>\n",
       "      <th>A</th>\n",
       "      <th>B</th>\n",
       "      <th>C</th>\n",
       "      <th>D</th>\n",
       "    </tr>\n",
       "  </thead>\n",
       "  <tbody>\n",
       "    <tr>\n",
       "      <th>0</th>\n",
       "      <td>-0.001559</td>\n",
       "      <td>1.017580</td>\n",
       "      <td>-0.378802</td>\n",
       "      <td>-0.116387</td>\n",
       "    </tr>\n",
       "    <tr>\n",
       "      <th>1</th>\n",
       "      <td>0.845886</td>\n",
       "      <td>-1.238170</td>\n",
       "      <td>1.256762</td>\n",
       "      <td>-0.700225</td>\n",
       "    </tr>\n",
       "    <tr>\n",
       "      <th>2</th>\n",
       "      <td>0.934414</td>\n",
       "      <td>0.784439</td>\n",
       "      <td>-0.830630</td>\n",
       "      <td>-0.755952</td>\n",
       "    </tr>\n",
       "    <tr>\n",
       "      <th>3</th>\n",
       "      <td>-1.299225</td>\n",
       "      <td>0.305043</td>\n",
       "      <td>-0.460896</td>\n",
       "      <td>1.130592</td>\n",
       "    </tr>\n",
       "    <tr>\n",
       "      <th>4</th>\n",
       "      <td>-0.612313</td>\n",
       "      <td>0.071130</td>\n",
       "      <td>0.840342</td>\n",
       "      <td>-0.603858</td>\n",
       "    </tr>\n",
       "  </tbody>\n",
       "</table>\n",
       "</div>"
      ],
      "text/plain": [
       "          A         B         C         D\n",
       "0 -0.001559  1.017580 -0.378802 -0.116387\n",
       "1  0.845886 -1.238170  1.256762 -0.700225\n",
       "2  0.934414  0.784439 -0.830630 -0.755952\n",
       "3 -1.299225  0.305043 -0.460896  1.130592\n",
       "4 -0.612313  0.071130  0.840342 -0.603858"
      ]
     },
     "execution_count": 9,
     "metadata": {},
     "output_type": "execute_result"
    }
   ],
   "source": [
    "df.head()"
   ]
  },
  {
   "cell_type": "code",
   "execution_count": 10,
   "metadata": {},
   "outputs": [],
   "source": [
    "df2 = pd.DataFrame({'Category':['A','B','C'],'Values':[32,43,50]})"
   ]
  },
  {
   "cell_type": "code",
   "execution_count": 11,
   "metadata": {},
   "outputs": [
    {
     "data": {
      "text/html": [
       "<div>\n",
       "<style scoped>\n",
       "    .dataframe tbody tr th:only-of-type {\n",
       "        vertical-align: middle;\n",
       "    }\n",
       "\n",
       "    .dataframe tbody tr th {\n",
       "        vertical-align: top;\n",
       "    }\n",
       "\n",
       "    .dataframe thead th {\n",
       "        text-align: right;\n",
       "    }\n",
       "</style>\n",
       "<table border=\"1\" class=\"dataframe\">\n",
       "  <thead>\n",
       "    <tr style=\"text-align: right;\">\n",
       "      <th></th>\n",
       "      <th>Category</th>\n",
       "      <th>Values</th>\n",
       "    </tr>\n",
       "  </thead>\n",
       "  <tbody>\n",
       "    <tr>\n",
       "      <th>0</th>\n",
       "      <td>A</td>\n",
       "      <td>32</td>\n",
       "    </tr>\n",
       "    <tr>\n",
       "      <th>1</th>\n",
       "      <td>B</td>\n",
       "      <td>43</td>\n",
       "    </tr>\n",
       "    <tr>\n",
       "      <th>2</th>\n",
       "      <td>C</td>\n",
       "      <td>50</td>\n",
       "    </tr>\n",
       "  </tbody>\n",
       "</table>\n",
       "</div>"
      ],
      "text/plain": [
       "  Category  Values\n",
       "0        A      32\n",
       "1        B      43\n",
       "2        C      50"
      ]
     },
     "execution_count": 11,
     "metadata": {},
     "output_type": "execute_result"
    }
   ],
   "source": [
    "df2.head()"
   ]
  },
  {
   "cell_type": "markdown",
   "metadata": {},
   "source": [
    "## Using Cufflinks and iplot()\n",
    "\n",
    "* scatter\n",
    "* bar\n",
    "* box\n",
    "* spread\n",
    "* ratio\n",
    "* heatmap\n",
    "* surface\n",
    "* histogram\n",
    "* bubble"
   ]
  },
  {
   "cell_type": "markdown",
   "metadata": {},
   "source": [
    "## Scatter"
   ]
  },
  {
   "cell_type": "code",
   "execution_count": 12,
   "metadata": {},
   "outputs": [
    {
     "data": {
      "application/vnd.plotly.v1+json": {
       "config": {
        "linkText": "Export to plot.ly",
        "plotlyServerURL": "https://plot.ly",
        "showLink": true
       },
       "data": [
        {
         "line": {
          "color": "rgba(255, 153, 51, 1.0)",
          "dash": "solid",
          "shape": "linear",
          "width": 1.3
         },
         "marker": {
          "size": 10,
          "symbol": "circle"
         },
         "mode": "markers",
         "name": "B",
         "text": "",
         "type": "scatter",
         "x": [
          -0.0015585409020748443,
          0.8458864735345376,
          0.934414068172041,
          -1.299225287036096,
          -0.612313161810921,
          -1.9164219425202789,
          -0.23256760125329407,
          1.0920556656230416,
          -0.4662237559745914,
          0.11813620238621023,
          -0.3893305872383898,
          0.3524367390130047,
          0.6267049137115619,
          -2.0098283113102333,
          -0.42224277438234714,
          1.4834140075387432,
          0.0007950478259361682,
          -0.6043585953862748,
          0.4071176027713737,
          -1.4138220890082105,
          2.077707538654815,
          0.4768952209629994,
          1.3895053923630198,
          2.3244999824807198,
          -1.189297270602611,
          0.8722982996347064,
          2.2937988533328246,
          0.06467962016505363,
          -0.13633788837817873,
          -1.7836787475237632,
          0.22566002203532615,
          0.20566852075458583,
          -0.018339853278318195,
          -0.5654481912867622,
          -0.5078139751819283,
          0.8275904894419189,
          -0.5203960037208601,
          -0.41352349293990387,
          2.1181837053232897,
          -0.4590426190787295,
          1.2319084700892855,
          -0.5358681790349643,
          -0.498364296101095,
          0.9232038731051508,
          -0.2814992874895402,
          0.24769175172286134,
          0.2328949255804648,
          0.5473351367722717,
          0.9498326281204514,
          -1.8075122019812093,
          -0.16476749353990988,
          0.5752186600567579,
          0.13051060072420054,
          0.3498771676815099,
          0.40281032759571855,
          -0.950111217346983,
          1.1638492951727184,
          0.7788802320291295,
          -1.2857935794971982,
          1.622091453349334,
          0.8678849327369677,
          -0.5048785146381843,
          -0.4896243146193713,
          -0.010709110981634063,
          1.006602249430079,
          -0.40568483350162055,
          1.3087894411891126,
          0.190062600400811,
          1.0379437685082251,
          0.2029558624259573,
          1.2943640286010194,
          -1.1492525100133704,
          1.9470511979586185,
          -1.1750359924184552,
          -0.7121663439038282,
          -0.3725103090728009,
          0.8444841630918083,
          0.6485746069267528,
          0.8839137048866836,
          1.8032268952420396,
          0.5001484387119923,
          1.896484110324483,
          1.654298132548488,
          1.4071820106911808,
          -0.6308051064388178,
          0.3196782094684533,
          -1.4042278558123713,
          -0.30363620969810856,
          0.33937227389870644,
          -1.3141396770051583,
          1.7301125955143941,
          1.473261447646321,
          -1.2404429659357479,
          0.41453891492567924,
          0.8491352380137746,
          0.06291390210273382,
          0.8957023727937828,
          -0.8297378450246963,
          -0.15546745233405063,
          0.06115899148576859
         ],
         "y": [
          1.0175800614285233,
          -1.2381697268039793,
          0.7844385814995347,
          0.30504309679334424,
          0.07113000211751754,
          0.5464945125562095,
          1.1557504557988485,
          -1.7275411926016029,
          -0.22279057745760433,
          -0.014174013152534099,
          0.046397927392791756,
          -1.3337624718506451,
          1.191976549469535,
          -0.7183098682670902,
          -2.4698721321587866,
          0.9613881312364033,
          1.6833606698696069,
          0.42850756621014996,
          -1.1454449405585065,
          -0.08662254675121947,
          -0.9450585843005394,
          -0.33298677114239544,
          0.4657326635014758,
          -0.9691697286478733,
          0.62175588895002,
          1.0299919541363,
          0.8649747554739001,
          -0.6744088289128711,
          -0.6033349561993983,
          -0.6337091078175451,
          -0.08477989487573509,
          0.9323883959280738,
          0.1652884033603895,
          -0.6339840048762202,
          1.0507406443717582,
          1.0573753846404983,
          0.6636757389865048,
          1.3299452315771907,
          -2.410944620637584,
          0.02666908427756707,
          -1.2376861153521053,
          1.7238750523134125,
          -0.5086058475096568,
          -0.17507279212476282,
          0.5475713496593823,
          -1.4259641401525398,
          0.05369385509694605,
          -0.9299640092735049,
          0.11079782824479513,
          0.0736336796198157,
          -1.1284780669103156,
          2.3268805893841846,
          0.7353143553716142,
          0.5747292489874314,
          0.0061658081593460685,
          -0.8142937126202369,
          -0.5898683598036754,
          -1.2427151574703632,
          -1.6405760554796995,
          -1.175831136187835,
          1.149180086490129,
          -0.18251913868620054,
          -1.0876933367660377,
          0.9976299359074137,
          0.4003239380906782,
          0.2617838634232212,
          -0.32829660836018465,
          -0.23248596879774558,
          -0.14820288716904675,
          0.6253052461591179,
          2.685060965111488,
          -1.0063500799681528,
          0.6364210137912422,
          0.4341464126761938,
          -0.6846913415382077,
          0.03168060938323212,
          0.9653244668758755,
          0.2539811926246748,
          0.19839824105941936,
          1.7403553998585106,
          0.08270043220181753,
          -0.27786186641225313,
          -2.558636455467326,
          0.13711812987282768,
          -3.113999236124563,
          -0.875019859368395,
          0.4439283319975627,
          -0.9614670575196685,
          -1.8034029714721953,
          -0.028070800567166057,
          0.6141861352213069,
          -0.8745255066793514,
          -1.3864506353507577,
          0.9687999866524937,
          0.3151400059457273,
          0.2900335524231588,
          0.17169407679562926,
          0.7406298316795756,
          2.1758669248629254,
          2.277915743638747
         ]
        }
       ],
       "layout": {
        "legend": {
         "bgcolor": "#F5F6F9",
         "font": {
          "color": "#4D5663"
         }
        },
        "paper_bgcolor": "#F5F6F9",
        "plot_bgcolor": "#F5F6F9",
        "template": {
         "data": {
          "bar": [
           {
            "error_x": {
             "color": "#2a3f5f"
            },
            "error_y": {
             "color": "#2a3f5f"
            },
            "marker": {
             "line": {
              "color": "#E5ECF6",
              "width": 0.5
             }
            },
            "type": "bar"
           }
          ],
          "barpolar": [
           {
            "marker": {
             "line": {
              "color": "#E5ECF6",
              "width": 0.5
             }
            },
            "type": "barpolar"
           }
          ],
          "carpet": [
           {
            "aaxis": {
             "endlinecolor": "#2a3f5f",
             "gridcolor": "white",
             "linecolor": "white",
             "minorgridcolor": "white",
             "startlinecolor": "#2a3f5f"
            },
            "baxis": {
             "endlinecolor": "#2a3f5f",
             "gridcolor": "white",
             "linecolor": "white",
             "minorgridcolor": "white",
             "startlinecolor": "#2a3f5f"
            },
            "type": "carpet"
           }
          ],
          "choropleth": [
           {
            "colorbar": {
             "outlinewidth": 0,
             "ticks": ""
            },
            "type": "choropleth"
           }
          ],
          "contour": [
           {
            "colorbar": {
             "outlinewidth": 0,
             "ticks": ""
            },
            "colorscale": [
             [
              0,
              "#0d0887"
             ],
             [
              0.1111111111111111,
              "#46039f"
             ],
             [
              0.2222222222222222,
              "#7201a8"
             ],
             [
              0.3333333333333333,
              "#9c179e"
             ],
             [
              0.4444444444444444,
              "#bd3786"
             ],
             [
              0.5555555555555556,
              "#d8576b"
             ],
             [
              0.6666666666666666,
              "#ed7953"
             ],
             [
              0.7777777777777778,
              "#fb9f3a"
             ],
             [
              0.8888888888888888,
              "#fdca26"
             ],
             [
              1,
              "#f0f921"
             ]
            ],
            "type": "contour"
           }
          ],
          "contourcarpet": [
           {
            "colorbar": {
             "outlinewidth": 0,
             "ticks": ""
            },
            "type": "contourcarpet"
           }
          ],
          "heatmap": [
           {
            "colorbar": {
             "outlinewidth": 0,
             "ticks": ""
            },
            "colorscale": [
             [
              0,
              "#0d0887"
             ],
             [
              0.1111111111111111,
              "#46039f"
             ],
             [
              0.2222222222222222,
              "#7201a8"
             ],
             [
              0.3333333333333333,
              "#9c179e"
             ],
             [
              0.4444444444444444,
              "#bd3786"
             ],
             [
              0.5555555555555556,
              "#d8576b"
             ],
             [
              0.6666666666666666,
              "#ed7953"
             ],
             [
              0.7777777777777778,
              "#fb9f3a"
             ],
             [
              0.8888888888888888,
              "#fdca26"
             ],
             [
              1,
              "#f0f921"
             ]
            ],
            "type": "heatmap"
           }
          ],
          "heatmapgl": [
           {
            "colorbar": {
             "outlinewidth": 0,
             "ticks": ""
            },
            "colorscale": [
             [
              0,
              "#0d0887"
             ],
             [
              0.1111111111111111,
              "#46039f"
             ],
             [
              0.2222222222222222,
              "#7201a8"
             ],
             [
              0.3333333333333333,
              "#9c179e"
             ],
             [
              0.4444444444444444,
              "#bd3786"
             ],
             [
              0.5555555555555556,
              "#d8576b"
             ],
             [
              0.6666666666666666,
              "#ed7953"
             ],
             [
              0.7777777777777778,
              "#fb9f3a"
             ],
             [
              0.8888888888888888,
              "#fdca26"
             ],
             [
              1,
              "#f0f921"
             ]
            ],
            "type": "heatmapgl"
           }
          ],
          "histogram": [
           {
            "marker": {
             "colorbar": {
              "outlinewidth": 0,
              "ticks": ""
             }
            },
            "type": "histogram"
           }
          ],
          "histogram2d": [
           {
            "colorbar": {
             "outlinewidth": 0,
             "ticks": ""
            },
            "colorscale": [
             [
              0,
              "#0d0887"
             ],
             [
              0.1111111111111111,
              "#46039f"
             ],
             [
              0.2222222222222222,
              "#7201a8"
             ],
             [
              0.3333333333333333,
              "#9c179e"
             ],
             [
              0.4444444444444444,
              "#bd3786"
             ],
             [
              0.5555555555555556,
              "#d8576b"
             ],
             [
              0.6666666666666666,
              "#ed7953"
             ],
             [
              0.7777777777777778,
              "#fb9f3a"
             ],
             [
              0.8888888888888888,
              "#fdca26"
             ],
             [
              1,
              "#f0f921"
             ]
            ],
            "type": "histogram2d"
           }
          ],
          "histogram2dcontour": [
           {
            "colorbar": {
             "outlinewidth": 0,
             "ticks": ""
            },
            "colorscale": [
             [
              0,
              "#0d0887"
             ],
             [
              0.1111111111111111,
              "#46039f"
             ],
             [
              0.2222222222222222,
              "#7201a8"
             ],
             [
              0.3333333333333333,
              "#9c179e"
             ],
             [
              0.4444444444444444,
              "#bd3786"
             ],
             [
              0.5555555555555556,
              "#d8576b"
             ],
             [
              0.6666666666666666,
              "#ed7953"
             ],
             [
              0.7777777777777778,
              "#fb9f3a"
             ],
             [
              0.8888888888888888,
              "#fdca26"
             ],
             [
              1,
              "#f0f921"
             ]
            ],
            "type": "histogram2dcontour"
           }
          ],
          "mesh3d": [
           {
            "colorbar": {
             "outlinewidth": 0,
             "ticks": ""
            },
            "type": "mesh3d"
           }
          ],
          "parcoords": [
           {
            "line": {
             "colorbar": {
              "outlinewidth": 0,
              "ticks": ""
             }
            },
            "type": "parcoords"
           }
          ],
          "pie": [
           {
            "automargin": true,
            "type": "pie"
           }
          ],
          "scatter": [
           {
            "marker": {
             "colorbar": {
              "outlinewidth": 0,
              "ticks": ""
             }
            },
            "type": "scatter"
           }
          ],
          "scatter3d": [
           {
            "line": {
             "colorbar": {
              "outlinewidth": 0,
              "ticks": ""
             }
            },
            "marker": {
             "colorbar": {
              "outlinewidth": 0,
              "ticks": ""
             }
            },
            "type": "scatter3d"
           }
          ],
          "scattercarpet": [
           {
            "marker": {
             "colorbar": {
              "outlinewidth": 0,
              "ticks": ""
             }
            },
            "type": "scattercarpet"
           }
          ],
          "scattergeo": [
           {
            "marker": {
             "colorbar": {
              "outlinewidth": 0,
              "ticks": ""
             }
            },
            "type": "scattergeo"
           }
          ],
          "scattergl": [
           {
            "marker": {
             "colorbar": {
              "outlinewidth": 0,
              "ticks": ""
             }
            },
            "type": "scattergl"
           }
          ],
          "scattermapbox": [
           {
            "marker": {
             "colorbar": {
              "outlinewidth": 0,
              "ticks": ""
             }
            },
            "type": "scattermapbox"
           }
          ],
          "scatterpolar": [
           {
            "marker": {
             "colorbar": {
              "outlinewidth": 0,
              "ticks": ""
             }
            },
            "type": "scatterpolar"
           }
          ],
          "scatterpolargl": [
           {
            "marker": {
             "colorbar": {
              "outlinewidth": 0,
              "ticks": ""
             }
            },
            "type": "scatterpolargl"
           }
          ],
          "scatterternary": [
           {
            "marker": {
             "colorbar": {
              "outlinewidth": 0,
              "ticks": ""
             }
            },
            "type": "scatterternary"
           }
          ],
          "surface": [
           {
            "colorbar": {
             "outlinewidth": 0,
             "ticks": ""
            },
            "colorscale": [
             [
              0,
              "#0d0887"
             ],
             [
              0.1111111111111111,
              "#46039f"
             ],
             [
              0.2222222222222222,
              "#7201a8"
             ],
             [
              0.3333333333333333,
              "#9c179e"
             ],
             [
              0.4444444444444444,
              "#bd3786"
             ],
             [
              0.5555555555555556,
              "#d8576b"
             ],
             [
              0.6666666666666666,
              "#ed7953"
             ],
             [
              0.7777777777777778,
              "#fb9f3a"
             ],
             [
              0.8888888888888888,
              "#fdca26"
             ],
             [
              1,
              "#f0f921"
             ]
            ],
            "type": "surface"
           }
          ],
          "table": [
           {
            "cells": {
             "fill": {
              "color": "#EBF0F8"
             },
             "line": {
              "color": "white"
             }
            },
            "header": {
             "fill": {
              "color": "#C8D4E3"
             },
             "line": {
              "color": "white"
             }
            },
            "type": "table"
           }
          ]
         },
         "layout": {
          "annotationdefaults": {
           "arrowcolor": "#2a3f5f",
           "arrowhead": 0,
           "arrowwidth": 1
          },
          "coloraxis": {
           "colorbar": {
            "outlinewidth": 0,
            "ticks": ""
           }
          },
          "colorscale": {
           "diverging": [
            [
             0,
             "#8e0152"
            ],
            [
             0.1,
             "#c51b7d"
            ],
            [
             0.2,
             "#de77ae"
            ],
            [
             0.3,
             "#f1b6da"
            ],
            [
             0.4,
             "#fde0ef"
            ],
            [
             0.5,
             "#f7f7f7"
            ],
            [
             0.6,
             "#e6f5d0"
            ],
            [
             0.7,
             "#b8e186"
            ],
            [
             0.8,
             "#7fbc41"
            ],
            [
             0.9,
             "#4d9221"
            ],
            [
             1,
             "#276419"
            ]
           ],
           "sequential": [
            [
             0,
             "#0d0887"
            ],
            [
             0.1111111111111111,
             "#46039f"
            ],
            [
             0.2222222222222222,
             "#7201a8"
            ],
            [
             0.3333333333333333,
             "#9c179e"
            ],
            [
             0.4444444444444444,
             "#bd3786"
            ],
            [
             0.5555555555555556,
             "#d8576b"
            ],
            [
             0.6666666666666666,
             "#ed7953"
            ],
            [
             0.7777777777777778,
             "#fb9f3a"
            ],
            [
             0.8888888888888888,
             "#fdca26"
            ],
            [
             1,
             "#f0f921"
            ]
           ],
           "sequentialminus": [
            [
             0,
             "#0d0887"
            ],
            [
             0.1111111111111111,
             "#46039f"
            ],
            [
             0.2222222222222222,
             "#7201a8"
            ],
            [
             0.3333333333333333,
             "#9c179e"
            ],
            [
             0.4444444444444444,
             "#bd3786"
            ],
            [
             0.5555555555555556,
             "#d8576b"
            ],
            [
             0.6666666666666666,
             "#ed7953"
            ],
            [
             0.7777777777777778,
             "#fb9f3a"
            ],
            [
             0.8888888888888888,
             "#fdca26"
            ],
            [
             1,
             "#f0f921"
            ]
           ]
          },
          "colorway": [
           "#636efa",
           "#EF553B",
           "#00cc96",
           "#ab63fa",
           "#FFA15A",
           "#19d3f3",
           "#FF6692",
           "#B6E880",
           "#FF97FF",
           "#FECB52"
          ],
          "font": {
           "color": "#2a3f5f"
          },
          "geo": {
           "bgcolor": "white",
           "lakecolor": "white",
           "landcolor": "#E5ECF6",
           "showlakes": true,
           "showland": true,
           "subunitcolor": "white"
          },
          "hoverlabel": {
           "align": "left"
          },
          "hovermode": "closest",
          "mapbox": {
           "style": "light"
          },
          "paper_bgcolor": "white",
          "plot_bgcolor": "#E5ECF6",
          "polar": {
           "angularaxis": {
            "gridcolor": "white",
            "linecolor": "white",
            "ticks": ""
           },
           "bgcolor": "#E5ECF6",
           "radialaxis": {
            "gridcolor": "white",
            "linecolor": "white",
            "ticks": ""
           }
          },
          "scene": {
           "xaxis": {
            "backgroundcolor": "#E5ECF6",
            "gridcolor": "white",
            "gridwidth": 2,
            "linecolor": "white",
            "showbackground": true,
            "ticks": "",
            "zerolinecolor": "white"
           },
           "yaxis": {
            "backgroundcolor": "#E5ECF6",
            "gridcolor": "white",
            "gridwidth": 2,
            "linecolor": "white",
            "showbackground": true,
            "ticks": "",
            "zerolinecolor": "white"
           },
           "zaxis": {
            "backgroundcolor": "#E5ECF6",
            "gridcolor": "white",
            "gridwidth": 2,
            "linecolor": "white",
            "showbackground": true,
            "ticks": "",
            "zerolinecolor": "white"
           }
          },
          "shapedefaults": {
           "line": {
            "color": "#2a3f5f"
           }
          },
          "ternary": {
           "aaxis": {
            "gridcolor": "white",
            "linecolor": "white",
            "ticks": ""
           },
           "baxis": {
            "gridcolor": "white",
            "linecolor": "white",
            "ticks": ""
           },
           "bgcolor": "#E5ECF6",
           "caxis": {
            "gridcolor": "white",
            "linecolor": "white",
            "ticks": ""
           }
          },
          "title": {
           "x": 0.05
          },
          "xaxis": {
           "automargin": true,
           "gridcolor": "white",
           "linecolor": "white",
           "ticks": "",
           "title": {
            "standoff": 15
           },
           "zerolinecolor": "white",
           "zerolinewidth": 2
          },
          "yaxis": {
           "automargin": true,
           "gridcolor": "white",
           "linecolor": "white",
           "ticks": "",
           "title": {
            "standoff": 15
           },
           "zerolinecolor": "white",
           "zerolinewidth": 2
          }
         }
        },
        "title": {
         "font": {
          "color": "#4D5663"
         }
        },
        "xaxis": {
         "gridcolor": "#E1E5ED",
         "showgrid": true,
         "tickfont": {
          "color": "#4D5663"
         },
         "title": {
          "font": {
           "color": "#4D5663"
          },
          "text": ""
         },
         "zerolinecolor": "#E1E5ED"
        },
        "yaxis": {
         "gridcolor": "#E1E5ED",
         "showgrid": true,
         "tickfont": {
          "color": "#4D5663"
         },
         "title": {
          "font": {
           "color": "#4D5663"
          },
          "text": ""
         },
         "zerolinecolor": "#E1E5ED"
        }
       }
      },
      "text/html": [
       "<div>\n",
       "        \n",
       "        \n",
       "            <div id=\"b3bc0d9a-1913-425e-bcdf-db6d28cc776f\" class=\"plotly-graph-div\" style=\"height:525px; width:100%;\"></div>\n",
       "            <script type=\"text/javascript\">\n",
       "                require([\"plotly\"], function(Plotly) {\n",
       "                    window.PLOTLYENV=window.PLOTLYENV || {};\n",
       "                    window.PLOTLYENV.BASE_URL='https://plot.ly';\n",
       "                    \n",
       "                if (document.getElementById(\"b3bc0d9a-1913-425e-bcdf-db6d28cc776f\")) {\n",
       "                    Plotly.newPlot(\n",
       "                        'b3bc0d9a-1913-425e-bcdf-db6d28cc776f',\n",
       "                        [{\"line\": {\"color\": \"rgba(255, 153, 51, 1.0)\", \"dash\": \"solid\", \"shape\": \"linear\", \"width\": 1.3}, \"marker\": {\"size\": 10, \"symbol\": \"circle\"}, \"mode\": \"markers\", \"name\": \"B\", \"text\": \"\", \"type\": \"scatter\", \"x\": [-0.0015585409020748443, 0.8458864735345376, 0.934414068172041, -1.299225287036096, -0.612313161810921, -1.9164219425202789, -0.23256760125329407, 1.0920556656230416, -0.4662237559745914, 0.11813620238621023, -0.3893305872383898, 0.3524367390130047, 0.6267049137115619, -2.0098283113102333, -0.42224277438234714, 1.4834140075387432, 0.0007950478259361682, -0.6043585953862748, 0.4071176027713737, -1.4138220890082105, 2.077707538654815, 0.4768952209629994, 1.3895053923630198, 2.3244999824807198, -1.189297270602611, 0.8722982996347064, 2.2937988533328246, 0.06467962016505363, -0.13633788837817873, -1.7836787475237632, 0.22566002203532615, 0.20566852075458583, -0.018339853278318195, -0.5654481912867622, -0.5078139751819283, 0.8275904894419189, -0.5203960037208601, -0.41352349293990387, 2.1181837053232897, -0.4590426190787295, 1.2319084700892855, -0.5358681790349643, -0.498364296101095, 0.9232038731051508, -0.2814992874895402, 0.24769175172286134, 0.2328949255804648, 0.5473351367722717, 0.9498326281204514, -1.8075122019812093, -0.16476749353990988, 0.5752186600567579, 0.13051060072420054, 0.3498771676815099, 0.40281032759571855, -0.950111217346983, 1.1638492951727184, 0.7788802320291295, -1.2857935794971982, 1.622091453349334, 0.8678849327369677, -0.5048785146381843, -0.4896243146193713, -0.010709110981634063, 1.006602249430079, -0.40568483350162055, 1.3087894411891126, 0.190062600400811, 1.0379437685082251, 0.2029558624259573, 1.2943640286010194, -1.1492525100133704, 1.9470511979586185, -1.1750359924184552, -0.7121663439038282, -0.3725103090728009, 0.8444841630918083, 0.6485746069267528, 0.8839137048866836, 1.8032268952420396, 0.5001484387119923, 1.896484110324483, 1.654298132548488, 1.4071820106911808, -0.6308051064388178, 0.3196782094684533, -1.4042278558123713, -0.30363620969810856, 0.33937227389870644, -1.3141396770051583, 1.7301125955143941, 1.473261447646321, -1.2404429659357479, 0.41453891492567924, 0.8491352380137746, 0.06291390210273382, 0.8957023727937828, -0.8297378450246963, -0.15546745233405063, 0.06115899148576859], \"y\": [1.0175800614285233, -1.2381697268039793, 0.7844385814995347, 0.30504309679334424, 0.07113000211751754, 0.5464945125562095, 1.1557504557988485, -1.7275411926016029, -0.22279057745760433, -0.014174013152534099, 0.046397927392791756, -1.3337624718506451, 1.191976549469535, -0.7183098682670902, -2.4698721321587866, 0.9613881312364033, 1.6833606698696069, 0.42850756621014996, -1.1454449405585065, -0.08662254675121947, -0.9450585843005394, -0.33298677114239544, 0.4657326635014758, -0.9691697286478733, 0.62175588895002, 1.0299919541363, 0.8649747554739001, -0.6744088289128711, -0.6033349561993983, -0.6337091078175451, -0.08477989487573509, 0.9323883959280738, 0.1652884033603895, -0.6339840048762202, 1.0507406443717582, 1.0573753846404983, 0.6636757389865048, 1.3299452315771907, -2.410944620637584, 0.02666908427756707, -1.2376861153521053, 1.7238750523134125, -0.5086058475096568, -0.17507279212476282, 0.5475713496593823, -1.4259641401525398, 0.05369385509694605, -0.9299640092735049, 0.11079782824479513, 0.0736336796198157, -1.1284780669103156, 2.3268805893841846, 0.7353143553716142, 0.5747292489874314, 0.0061658081593460685, -0.8142937126202369, -0.5898683598036754, -1.2427151574703632, -1.6405760554796995, -1.175831136187835, 1.149180086490129, -0.18251913868620054, -1.0876933367660377, 0.9976299359074137, 0.4003239380906782, 0.2617838634232212, -0.32829660836018465, -0.23248596879774558, -0.14820288716904675, 0.6253052461591179, 2.685060965111488, -1.0063500799681528, 0.6364210137912422, 0.4341464126761938, -0.6846913415382077, 0.03168060938323212, 0.9653244668758755, 0.2539811926246748, 0.19839824105941936, 1.7403553998585106, 0.08270043220181753, -0.27786186641225313, -2.558636455467326, 0.13711812987282768, -3.113999236124563, -0.875019859368395, 0.4439283319975627, -0.9614670575196685, -1.8034029714721953, -0.028070800567166057, 0.6141861352213069, -0.8745255066793514, -1.3864506353507577, 0.9687999866524937, 0.3151400059457273, 0.2900335524231588, 0.17169407679562926, 0.7406298316795756, 2.1758669248629254, 2.277915743638747]}],\n",
       "                        {\"legend\": {\"bgcolor\": \"#F5F6F9\", \"font\": {\"color\": \"#4D5663\"}}, \"paper_bgcolor\": \"#F5F6F9\", \"plot_bgcolor\": \"#F5F6F9\", \"template\": {\"data\": {\"bar\": [{\"error_x\": {\"color\": \"#2a3f5f\"}, \"error_y\": {\"color\": \"#2a3f5f\"}, \"marker\": {\"line\": {\"color\": \"#E5ECF6\", \"width\": 0.5}}, \"type\": \"bar\"}], \"barpolar\": [{\"marker\": {\"line\": {\"color\": \"#E5ECF6\", \"width\": 0.5}}, \"type\": \"barpolar\"}], \"carpet\": [{\"aaxis\": {\"endlinecolor\": \"#2a3f5f\", \"gridcolor\": \"white\", \"linecolor\": \"white\", \"minorgridcolor\": \"white\", \"startlinecolor\": \"#2a3f5f\"}, \"baxis\": {\"endlinecolor\": \"#2a3f5f\", \"gridcolor\": \"white\", \"linecolor\": \"white\", \"minorgridcolor\": \"white\", \"startlinecolor\": \"#2a3f5f\"}, \"type\": \"carpet\"}], \"choropleth\": [{\"colorbar\": {\"outlinewidth\": 0, \"ticks\": \"\"}, \"type\": \"choropleth\"}], \"contour\": [{\"colorbar\": {\"outlinewidth\": 0, \"ticks\": \"\"}, \"colorscale\": [[0.0, \"#0d0887\"], [0.1111111111111111, \"#46039f\"], [0.2222222222222222, \"#7201a8\"], [0.3333333333333333, \"#9c179e\"], [0.4444444444444444, \"#bd3786\"], [0.5555555555555556, \"#d8576b\"], [0.6666666666666666, \"#ed7953\"], [0.7777777777777778, \"#fb9f3a\"], [0.8888888888888888, \"#fdca26\"], [1.0, \"#f0f921\"]], \"type\": \"contour\"}], \"contourcarpet\": [{\"colorbar\": {\"outlinewidth\": 0, \"ticks\": \"\"}, \"type\": \"contourcarpet\"}], \"heatmap\": [{\"colorbar\": {\"outlinewidth\": 0, \"ticks\": \"\"}, \"colorscale\": [[0.0, \"#0d0887\"], [0.1111111111111111, \"#46039f\"], [0.2222222222222222, \"#7201a8\"], [0.3333333333333333, \"#9c179e\"], [0.4444444444444444, \"#bd3786\"], [0.5555555555555556, \"#d8576b\"], [0.6666666666666666, \"#ed7953\"], [0.7777777777777778, \"#fb9f3a\"], [0.8888888888888888, \"#fdca26\"], [1.0, \"#f0f921\"]], \"type\": \"heatmap\"}], \"heatmapgl\": [{\"colorbar\": {\"outlinewidth\": 0, \"ticks\": \"\"}, \"colorscale\": [[0.0, \"#0d0887\"], [0.1111111111111111, \"#46039f\"], [0.2222222222222222, \"#7201a8\"], [0.3333333333333333, \"#9c179e\"], [0.4444444444444444, \"#bd3786\"], [0.5555555555555556, \"#d8576b\"], [0.6666666666666666, \"#ed7953\"], [0.7777777777777778, \"#fb9f3a\"], [0.8888888888888888, \"#fdca26\"], [1.0, \"#f0f921\"]], \"type\": \"heatmapgl\"}], \"histogram\": [{\"marker\": {\"colorbar\": {\"outlinewidth\": 0, \"ticks\": \"\"}}, \"type\": \"histogram\"}], \"histogram2d\": [{\"colorbar\": {\"outlinewidth\": 0, \"ticks\": \"\"}, \"colorscale\": [[0.0, \"#0d0887\"], [0.1111111111111111, \"#46039f\"], [0.2222222222222222, \"#7201a8\"], [0.3333333333333333, \"#9c179e\"], [0.4444444444444444, \"#bd3786\"], [0.5555555555555556, \"#d8576b\"], [0.6666666666666666, \"#ed7953\"], [0.7777777777777778, \"#fb9f3a\"], [0.8888888888888888, \"#fdca26\"], [1.0, \"#f0f921\"]], \"type\": \"histogram2d\"}], \"histogram2dcontour\": [{\"colorbar\": {\"outlinewidth\": 0, \"ticks\": \"\"}, \"colorscale\": [[0.0, \"#0d0887\"], [0.1111111111111111, \"#46039f\"], [0.2222222222222222, \"#7201a8\"], [0.3333333333333333, \"#9c179e\"], [0.4444444444444444, \"#bd3786\"], [0.5555555555555556, \"#d8576b\"], [0.6666666666666666, \"#ed7953\"], [0.7777777777777778, \"#fb9f3a\"], [0.8888888888888888, \"#fdca26\"], [1.0, \"#f0f921\"]], \"type\": \"histogram2dcontour\"}], \"mesh3d\": [{\"colorbar\": {\"outlinewidth\": 0, \"ticks\": \"\"}, \"type\": \"mesh3d\"}], \"parcoords\": [{\"line\": {\"colorbar\": {\"outlinewidth\": 0, \"ticks\": \"\"}}, \"type\": \"parcoords\"}], \"pie\": [{\"automargin\": true, \"type\": \"pie\"}], \"scatter\": [{\"marker\": {\"colorbar\": {\"outlinewidth\": 0, \"ticks\": \"\"}}, \"type\": \"scatter\"}], \"scatter3d\": [{\"line\": {\"colorbar\": {\"outlinewidth\": 0, \"ticks\": \"\"}}, \"marker\": {\"colorbar\": {\"outlinewidth\": 0, \"ticks\": \"\"}}, \"type\": \"scatter3d\"}], \"scattercarpet\": [{\"marker\": {\"colorbar\": {\"outlinewidth\": 0, \"ticks\": \"\"}}, \"type\": \"scattercarpet\"}], \"scattergeo\": [{\"marker\": {\"colorbar\": {\"outlinewidth\": 0, \"ticks\": \"\"}}, \"type\": \"scattergeo\"}], \"scattergl\": [{\"marker\": {\"colorbar\": {\"outlinewidth\": 0, \"ticks\": \"\"}}, \"type\": \"scattergl\"}], \"scattermapbox\": [{\"marker\": {\"colorbar\": {\"outlinewidth\": 0, \"ticks\": \"\"}}, \"type\": \"scattermapbox\"}], \"scatterpolar\": [{\"marker\": {\"colorbar\": {\"outlinewidth\": 0, \"ticks\": \"\"}}, \"type\": \"scatterpolar\"}], \"scatterpolargl\": [{\"marker\": {\"colorbar\": {\"outlinewidth\": 0, \"ticks\": \"\"}}, \"type\": \"scatterpolargl\"}], \"scatterternary\": [{\"marker\": {\"colorbar\": {\"outlinewidth\": 0, \"ticks\": \"\"}}, \"type\": \"scatterternary\"}], \"surface\": [{\"colorbar\": {\"outlinewidth\": 0, \"ticks\": \"\"}, \"colorscale\": [[0.0, \"#0d0887\"], [0.1111111111111111, \"#46039f\"], [0.2222222222222222, \"#7201a8\"], [0.3333333333333333, \"#9c179e\"], [0.4444444444444444, \"#bd3786\"], [0.5555555555555556, \"#d8576b\"], [0.6666666666666666, \"#ed7953\"], [0.7777777777777778, \"#fb9f3a\"], [0.8888888888888888, \"#fdca26\"], [1.0, \"#f0f921\"]], \"type\": \"surface\"}], \"table\": [{\"cells\": {\"fill\": {\"color\": \"#EBF0F8\"}, \"line\": {\"color\": \"white\"}}, \"header\": {\"fill\": {\"color\": \"#C8D4E3\"}, \"line\": {\"color\": \"white\"}}, \"type\": \"table\"}]}, \"layout\": {\"annotationdefaults\": {\"arrowcolor\": \"#2a3f5f\", \"arrowhead\": 0, \"arrowwidth\": 1}, \"coloraxis\": {\"colorbar\": {\"outlinewidth\": 0, \"ticks\": \"\"}}, \"colorscale\": {\"diverging\": [[0, \"#8e0152\"], [0.1, \"#c51b7d\"], [0.2, \"#de77ae\"], [0.3, \"#f1b6da\"], [0.4, \"#fde0ef\"], [0.5, \"#f7f7f7\"], [0.6, \"#e6f5d0\"], [0.7, \"#b8e186\"], [0.8, \"#7fbc41\"], [0.9, \"#4d9221\"], [1, \"#276419\"]], \"sequential\": [[0.0, \"#0d0887\"], [0.1111111111111111, \"#46039f\"], [0.2222222222222222, \"#7201a8\"], [0.3333333333333333, \"#9c179e\"], [0.4444444444444444, \"#bd3786\"], [0.5555555555555556, \"#d8576b\"], [0.6666666666666666, \"#ed7953\"], [0.7777777777777778, \"#fb9f3a\"], [0.8888888888888888, \"#fdca26\"], [1.0, \"#f0f921\"]], \"sequentialminus\": [[0.0, \"#0d0887\"], [0.1111111111111111, \"#46039f\"], [0.2222222222222222, \"#7201a8\"], [0.3333333333333333, \"#9c179e\"], [0.4444444444444444, \"#bd3786\"], [0.5555555555555556, \"#d8576b\"], [0.6666666666666666, \"#ed7953\"], [0.7777777777777778, \"#fb9f3a\"], [0.8888888888888888, \"#fdca26\"], [1.0, \"#f0f921\"]]}, \"colorway\": [\"#636efa\", \"#EF553B\", \"#00cc96\", \"#ab63fa\", \"#FFA15A\", \"#19d3f3\", \"#FF6692\", \"#B6E880\", \"#FF97FF\", \"#FECB52\"], \"font\": {\"color\": \"#2a3f5f\"}, \"geo\": {\"bgcolor\": \"white\", \"lakecolor\": \"white\", \"landcolor\": \"#E5ECF6\", \"showlakes\": true, \"showland\": true, \"subunitcolor\": \"white\"}, \"hoverlabel\": {\"align\": \"left\"}, \"hovermode\": \"closest\", \"mapbox\": {\"style\": \"light\"}, \"paper_bgcolor\": \"white\", \"plot_bgcolor\": \"#E5ECF6\", \"polar\": {\"angularaxis\": {\"gridcolor\": \"white\", \"linecolor\": \"white\", \"ticks\": \"\"}, \"bgcolor\": \"#E5ECF6\", \"radialaxis\": {\"gridcolor\": \"white\", \"linecolor\": \"white\", \"ticks\": \"\"}}, \"scene\": {\"xaxis\": {\"backgroundcolor\": \"#E5ECF6\", \"gridcolor\": \"white\", \"gridwidth\": 2, \"linecolor\": \"white\", \"showbackground\": true, \"ticks\": \"\", \"zerolinecolor\": \"white\"}, \"yaxis\": {\"backgroundcolor\": \"#E5ECF6\", \"gridcolor\": \"white\", \"gridwidth\": 2, \"linecolor\": \"white\", \"showbackground\": true, \"ticks\": \"\", \"zerolinecolor\": \"white\"}, \"zaxis\": {\"backgroundcolor\": \"#E5ECF6\", \"gridcolor\": \"white\", \"gridwidth\": 2, \"linecolor\": \"white\", \"showbackground\": true, \"ticks\": \"\", \"zerolinecolor\": \"white\"}}, \"shapedefaults\": {\"line\": {\"color\": \"#2a3f5f\"}}, \"ternary\": {\"aaxis\": {\"gridcolor\": \"white\", \"linecolor\": \"white\", \"ticks\": \"\"}, \"baxis\": {\"gridcolor\": \"white\", \"linecolor\": \"white\", \"ticks\": \"\"}, \"bgcolor\": \"#E5ECF6\", \"caxis\": {\"gridcolor\": \"white\", \"linecolor\": \"white\", \"ticks\": \"\"}}, \"title\": {\"x\": 0.05}, \"xaxis\": {\"automargin\": true, \"gridcolor\": \"white\", \"linecolor\": \"white\", \"ticks\": \"\", \"title\": {\"standoff\": 15}, \"zerolinecolor\": \"white\", \"zerolinewidth\": 2}, \"yaxis\": {\"automargin\": true, \"gridcolor\": \"white\", \"linecolor\": \"white\", \"ticks\": \"\", \"title\": {\"standoff\": 15}, \"zerolinecolor\": \"white\", \"zerolinewidth\": 2}}}, \"title\": {\"font\": {\"color\": \"#4D5663\"}}, \"xaxis\": {\"gridcolor\": \"#E1E5ED\", \"showgrid\": true, \"tickfont\": {\"color\": \"#4D5663\"}, \"title\": {\"font\": {\"color\": \"#4D5663\"}, \"text\": \"\"}, \"zerolinecolor\": \"#E1E5ED\"}, \"yaxis\": {\"gridcolor\": \"#E1E5ED\", \"showgrid\": true, \"tickfont\": {\"color\": \"#4D5663\"}, \"title\": {\"font\": {\"color\": \"#4D5663\"}, \"text\": \"\"}, \"zerolinecolor\": \"#E1E5ED\"}},\n",
       "                        {\"showLink\": true, \"linkText\": \"Export to plot.ly\", \"plotlyServerURL\": \"https://plot.ly\", \"responsive\": true}\n",
       "                    ).then(function(){\n",
       "                            \n",
       "var gd = document.getElementById('b3bc0d9a-1913-425e-bcdf-db6d28cc776f');\n",
       "var x = new MutationObserver(function (mutations, observer) {{\n",
       "        var display = window.getComputedStyle(gd).display;\n",
       "        if (!display || display === 'none') {{\n",
       "            console.log([gd, 'removed!']);\n",
       "            Plotly.purge(gd);\n",
       "            observer.disconnect();\n",
       "        }}\n",
       "}});\n",
       "\n",
       "// Listen for the removal of the full notebook cells\n",
       "var notebookContainer = gd.closest('#notebook-container');\n",
       "if (notebookContainer) {{\n",
       "    x.observe(notebookContainer, {childList: true});\n",
       "}}\n",
       "\n",
       "// Listen for the clearing of the current output cell\n",
       "var outputEl = gd.closest('.output');\n",
       "if (outputEl) {{\n",
       "    x.observe(outputEl, {childList: true});\n",
       "}}\n",
       "\n",
       "                        })\n",
       "                };\n",
       "                });\n",
       "            </script>\n",
       "        </div>"
      ]
     },
     "metadata": {},
     "output_type": "display_data"
    }
   ],
   "source": [
    "df.iplot(kind='scatter',x='A',y='B',mode='markers',size=10)"
   ]
  },
  {
   "cell_type": "markdown",
   "metadata": {},
   "source": [
    "## Bar Plots"
   ]
  },
  {
   "cell_type": "code",
   "execution_count": 13,
   "metadata": {},
   "outputs": [
    {
     "data": {
      "application/vnd.plotly.v1+json": {
       "config": {
        "linkText": "Export to plot.ly",
        "plotlyServerURL": "https://plot.ly",
        "showLink": true
       },
       "data": [
        {
         "marker": {
          "color": "rgba(255, 153, 51, 0.6)",
          "line": {
           "color": "rgba(255, 153, 51, 1.0)",
           "width": 1
          }
         },
         "name": "Values",
         "orientation": "v",
         "text": "",
         "type": "bar",
         "x": [
          "A",
          "B",
          "C"
         ],
         "y": [
          32,
          43,
          50
         ]
        }
       ],
       "layout": {
        "legend": {
         "bgcolor": "#F5F6F9",
         "font": {
          "color": "#4D5663"
         }
        },
        "paper_bgcolor": "#F5F6F9",
        "plot_bgcolor": "#F5F6F9",
        "template": {
         "data": {
          "bar": [
           {
            "error_x": {
             "color": "#2a3f5f"
            },
            "error_y": {
             "color": "#2a3f5f"
            },
            "marker": {
             "line": {
              "color": "#E5ECF6",
              "width": 0.5
             }
            },
            "type": "bar"
           }
          ],
          "barpolar": [
           {
            "marker": {
             "line": {
              "color": "#E5ECF6",
              "width": 0.5
             }
            },
            "type": "barpolar"
           }
          ],
          "carpet": [
           {
            "aaxis": {
             "endlinecolor": "#2a3f5f",
             "gridcolor": "white",
             "linecolor": "white",
             "minorgridcolor": "white",
             "startlinecolor": "#2a3f5f"
            },
            "baxis": {
             "endlinecolor": "#2a3f5f",
             "gridcolor": "white",
             "linecolor": "white",
             "minorgridcolor": "white",
             "startlinecolor": "#2a3f5f"
            },
            "type": "carpet"
           }
          ],
          "choropleth": [
           {
            "colorbar": {
             "outlinewidth": 0,
             "ticks": ""
            },
            "type": "choropleth"
           }
          ],
          "contour": [
           {
            "colorbar": {
             "outlinewidth": 0,
             "ticks": ""
            },
            "colorscale": [
             [
              0,
              "#0d0887"
             ],
             [
              0.1111111111111111,
              "#46039f"
             ],
             [
              0.2222222222222222,
              "#7201a8"
             ],
             [
              0.3333333333333333,
              "#9c179e"
             ],
             [
              0.4444444444444444,
              "#bd3786"
             ],
             [
              0.5555555555555556,
              "#d8576b"
             ],
             [
              0.6666666666666666,
              "#ed7953"
             ],
             [
              0.7777777777777778,
              "#fb9f3a"
             ],
             [
              0.8888888888888888,
              "#fdca26"
             ],
             [
              1,
              "#f0f921"
             ]
            ],
            "type": "contour"
           }
          ],
          "contourcarpet": [
           {
            "colorbar": {
             "outlinewidth": 0,
             "ticks": ""
            },
            "type": "contourcarpet"
           }
          ],
          "heatmap": [
           {
            "colorbar": {
             "outlinewidth": 0,
             "ticks": ""
            },
            "colorscale": [
             [
              0,
              "#0d0887"
             ],
             [
              0.1111111111111111,
              "#46039f"
             ],
             [
              0.2222222222222222,
              "#7201a8"
             ],
             [
              0.3333333333333333,
              "#9c179e"
             ],
             [
              0.4444444444444444,
              "#bd3786"
             ],
             [
              0.5555555555555556,
              "#d8576b"
             ],
             [
              0.6666666666666666,
              "#ed7953"
             ],
             [
              0.7777777777777778,
              "#fb9f3a"
             ],
             [
              0.8888888888888888,
              "#fdca26"
             ],
             [
              1,
              "#f0f921"
             ]
            ],
            "type": "heatmap"
           }
          ],
          "heatmapgl": [
           {
            "colorbar": {
             "outlinewidth": 0,
             "ticks": ""
            },
            "colorscale": [
             [
              0,
              "#0d0887"
             ],
             [
              0.1111111111111111,
              "#46039f"
             ],
             [
              0.2222222222222222,
              "#7201a8"
             ],
             [
              0.3333333333333333,
              "#9c179e"
             ],
             [
              0.4444444444444444,
              "#bd3786"
             ],
             [
              0.5555555555555556,
              "#d8576b"
             ],
             [
              0.6666666666666666,
              "#ed7953"
             ],
             [
              0.7777777777777778,
              "#fb9f3a"
             ],
             [
              0.8888888888888888,
              "#fdca26"
             ],
             [
              1,
              "#f0f921"
             ]
            ],
            "type": "heatmapgl"
           }
          ],
          "histogram": [
           {
            "marker": {
             "colorbar": {
              "outlinewidth": 0,
              "ticks": ""
             }
            },
            "type": "histogram"
           }
          ],
          "histogram2d": [
           {
            "colorbar": {
             "outlinewidth": 0,
             "ticks": ""
            },
            "colorscale": [
             [
              0,
              "#0d0887"
             ],
             [
              0.1111111111111111,
              "#46039f"
             ],
             [
              0.2222222222222222,
              "#7201a8"
             ],
             [
              0.3333333333333333,
              "#9c179e"
             ],
             [
              0.4444444444444444,
              "#bd3786"
             ],
             [
              0.5555555555555556,
              "#d8576b"
             ],
             [
              0.6666666666666666,
              "#ed7953"
             ],
             [
              0.7777777777777778,
              "#fb9f3a"
             ],
             [
              0.8888888888888888,
              "#fdca26"
             ],
             [
              1,
              "#f0f921"
             ]
            ],
            "type": "histogram2d"
           }
          ],
          "histogram2dcontour": [
           {
            "colorbar": {
             "outlinewidth": 0,
             "ticks": ""
            },
            "colorscale": [
             [
              0,
              "#0d0887"
             ],
             [
              0.1111111111111111,
              "#46039f"
             ],
             [
              0.2222222222222222,
              "#7201a8"
             ],
             [
              0.3333333333333333,
              "#9c179e"
             ],
             [
              0.4444444444444444,
              "#bd3786"
             ],
             [
              0.5555555555555556,
              "#d8576b"
             ],
             [
              0.6666666666666666,
              "#ed7953"
             ],
             [
              0.7777777777777778,
              "#fb9f3a"
             ],
             [
              0.8888888888888888,
              "#fdca26"
             ],
             [
              1,
              "#f0f921"
             ]
            ],
            "type": "histogram2dcontour"
           }
          ],
          "mesh3d": [
           {
            "colorbar": {
             "outlinewidth": 0,
             "ticks": ""
            },
            "type": "mesh3d"
           }
          ],
          "parcoords": [
           {
            "line": {
             "colorbar": {
              "outlinewidth": 0,
              "ticks": ""
             }
            },
            "type": "parcoords"
           }
          ],
          "pie": [
           {
            "automargin": true,
            "type": "pie"
           }
          ],
          "scatter": [
           {
            "marker": {
             "colorbar": {
              "outlinewidth": 0,
              "ticks": ""
             }
            },
            "type": "scatter"
           }
          ],
          "scatter3d": [
           {
            "line": {
             "colorbar": {
              "outlinewidth": 0,
              "ticks": ""
             }
            },
            "marker": {
             "colorbar": {
              "outlinewidth": 0,
              "ticks": ""
             }
            },
            "type": "scatter3d"
           }
          ],
          "scattercarpet": [
           {
            "marker": {
             "colorbar": {
              "outlinewidth": 0,
              "ticks": ""
             }
            },
            "type": "scattercarpet"
           }
          ],
          "scattergeo": [
           {
            "marker": {
             "colorbar": {
              "outlinewidth": 0,
              "ticks": ""
             }
            },
            "type": "scattergeo"
           }
          ],
          "scattergl": [
           {
            "marker": {
             "colorbar": {
              "outlinewidth": 0,
              "ticks": ""
             }
            },
            "type": "scattergl"
           }
          ],
          "scattermapbox": [
           {
            "marker": {
             "colorbar": {
              "outlinewidth": 0,
              "ticks": ""
             }
            },
            "type": "scattermapbox"
           }
          ],
          "scatterpolar": [
           {
            "marker": {
             "colorbar": {
              "outlinewidth": 0,
              "ticks": ""
             }
            },
            "type": "scatterpolar"
           }
          ],
          "scatterpolargl": [
           {
            "marker": {
             "colorbar": {
              "outlinewidth": 0,
              "ticks": ""
             }
            },
            "type": "scatterpolargl"
           }
          ],
          "scatterternary": [
           {
            "marker": {
             "colorbar": {
              "outlinewidth": 0,
              "ticks": ""
             }
            },
            "type": "scatterternary"
           }
          ],
          "surface": [
           {
            "colorbar": {
             "outlinewidth": 0,
             "ticks": ""
            },
            "colorscale": [
             [
              0,
              "#0d0887"
             ],
             [
              0.1111111111111111,
              "#46039f"
             ],
             [
              0.2222222222222222,
              "#7201a8"
             ],
             [
              0.3333333333333333,
              "#9c179e"
             ],
             [
              0.4444444444444444,
              "#bd3786"
             ],
             [
              0.5555555555555556,
              "#d8576b"
             ],
             [
              0.6666666666666666,
              "#ed7953"
             ],
             [
              0.7777777777777778,
              "#fb9f3a"
             ],
             [
              0.8888888888888888,
              "#fdca26"
             ],
             [
              1,
              "#f0f921"
             ]
            ],
            "type": "surface"
           }
          ],
          "table": [
           {
            "cells": {
             "fill": {
              "color": "#EBF0F8"
             },
             "line": {
              "color": "white"
             }
            },
            "header": {
             "fill": {
              "color": "#C8D4E3"
             },
             "line": {
              "color": "white"
             }
            },
            "type": "table"
           }
          ]
         },
         "layout": {
          "annotationdefaults": {
           "arrowcolor": "#2a3f5f",
           "arrowhead": 0,
           "arrowwidth": 1
          },
          "coloraxis": {
           "colorbar": {
            "outlinewidth": 0,
            "ticks": ""
           }
          },
          "colorscale": {
           "diverging": [
            [
             0,
             "#8e0152"
            ],
            [
             0.1,
             "#c51b7d"
            ],
            [
             0.2,
             "#de77ae"
            ],
            [
             0.3,
             "#f1b6da"
            ],
            [
             0.4,
             "#fde0ef"
            ],
            [
             0.5,
             "#f7f7f7"
            ],
            [
             0.6,
             "#e6f5d0"
            ],
            [
             0.7,
             "#b8e186"
            ],
            [
             0.8,
             "#7fbc41"
            ],
            [
             0.9,
             "#4d9221"
            ],
            [
             1,
             "#276419"
            ]
           ],
           "sequential": [
            [
             0,
             "#0d0887"
            ],
            [
             0.1111111111111111,
             "#46039f"
            ],
            [
             0.2222222222222222,
             "#7201a8"
            ],
            [
             0.3333333333333333,
             "#9c179e"
            ],
            [
             0.4444444444444444,
             "#bd3786"
            ],
            [
             0.5555555555555556,
             "#d8576b"
            ],
            [
             0.6666666666666666,
             "#ed7953"
            ],
            [
             0.7777777777777778,
             "#fb9f3a"
            ],
            [
             0.8888888888888888,
             "#fdca26"
            ],
            [
             1,
             "#f0f921"
            ]
           ],
           "sequentialminus": [
            [
             0,
             "#0d0887"
            ],
            [
             0.1111111111111111,
             "#46039f"
            ],
            [
             0.2222222222222222,
             "#7201a8"
            ],
            [
             0.3333333333333333,
             "#9c179e"
            ],
            [
             0.4444444444444444,
             "#bd3786"
            ],
            [
             0.5555555555555556,
             "#d8576b"
            ],
            [
             0.6666666666666666,
             "#ed7953"
            ],
            [
             0.7777777777777778,
             "#fb9f3a"
            ],
            [
             0.8888888888888888,
             "#fdca26"
            ],
            [
             1,
             "#f0f921"
            ]
           ]
          },
          "colorway": [
           "#636efa",
           "#EF553B",
           "#00cc96",
           "#ab63fa",
           "#FFA15A",
           "#19d3f3",
           "#FF6692",
           "#B6E880",
           "#FF97FF",
           "#FECB52"
          ],
          "font": {
           "color": "#2a3f5f"
          },
          "geo": {
           "bgcolor": "white",
           "lakecolor": "white",
           "landcolor": "#E5ECF6",
           "showlakes": true,
           "showland": true,
           "subunitcolor": "white"
          },
          "hoverlabel": {
           "align": "left"
          },
          "hovermode": "closest",
          "mapbox": {
           "style": "light"
          },
          "paper_bgcolor": "white",
          "plot_bgcolor": "#E5ECF6",
          "polar": {
           "angularaxis": {
            "gridcolor": "white",
            "linecolor": "white",
            "ticks": ""
           },
           "bgcolor": "#E5ECF6",
           "radialaxis": {
            "gridcolor": "white",
            "linecolor": "white",
            "ticks": ""
           }
          },
          "scene": {
           "xaxis": {
            "backgroundcolor": "#E5ECF6",
            "gridcolor": "white",
            "gridwidth": 2,
            "linecolor": "white",
            "showbackground": true,
            "ticks": "",
            "zerolinecolor": "white"
           },
           "yaxis": {
            "backgroundcolor": "#E5ECF6",
            "gridcolor": "white",
            "gridwidth": 2,
            "linecolor": "white",
            "showbackground": true,
            "ticks": "",
            "zerolinecolor": "white"
           },
           "zaxis": {
            "backgroundcolor": "#E5ECF6",
            "gridcolor": "white",
            "gridwidth": 2,
            "linecolor": "white",
            "showbackground": true,
            "ticks": "",
            "zerolinecolor": "white"
           }
          },
          "shapedefaults": {
           "line": {
            "color": "#2a3f5f"
           }
          },
          "ternary": {
           "aaxis": {
            "gridcolor": "white",
            "linecolor": "white",
            "ticks": ""
           },
           "baxis": {
            "gridcolor": "white",
            "linecolor": "white",
            "ticks": ""
           },
           "bgcolor": "#E5ECF6",
           "caxis": {
            "gridcolor": "white",
            "linecolor": "white",
            "ticks": ""
           }
          },
          "title": {
           "x": 0.05
          },
          "xaxis": {
           "automargin": true,
           "gridcolor": "white",
           "linecolor": "white",
           "ticks": "",
           "title": {
            "standoff": 15
           },
           "zerolinecolor": "white",
           "zerolinewidth": 2
          },
          "yaxis": {
           "automargin": true,
           "gridcolor": "white",
           "linecolor": "white",
           "ticks": "",
           "title": {
            "standoff": 15
           },
           "zerolinecolor": "white",
           "zerolinewidth": 2
          }
         }
        },
        "title": {
         "font": {
          "color": "#4D5663"
         }
        },
        "xaxis": {
         "gridcolor": "#E1E5ED",
         "showgrid": true,
         "tickfont": {
          "color": "#4D5663"
         },
         "title": {
          "font": {
           "color": "#4D5663"
          },
          "text": ""
         },
         "zerolinecolor": "#E1E5ED"
        },
        "yaxis": {
         "gridcolor": "#E1E5ED",
         "showgrid": true,
         "tickfont": {
          "color": "#4D5663"
         },
         "title": {
          "font": {
           "color": "#4D5663"
          },
          "text": ""
         },
         "zerolinecolor": "#E1E5ED"
        }
       }
      },
      "text/html": [
       "<div>\n",
       "        \n",
       "        \n",
       "            <div id=\"546db726-a340-44b6-91e9-acc7e06ca9d6\" class=\"plotly-graph-div\" style=\"height:525px; width:100%;\"></div>\n",
       "            <script type=\"text/javascript\">\n",
       "                require([\"plotly\"], function(Plotly) {\n",
       "                    window.PLOTLYENV=window.PLOTLYENV || {};\n",
       "                    window.PLOTLYENV.BASE_URL='https://plot.ly';\n",
       "                    \n",
       "                if (document.getElementById(\"546db726-a340-44b6-91e9-acc7e06ca9d6\")) {\n",
       "                    Plotly.newPlot(\n",
       "                        '546db726-a340-44b6-91e9-acc7e06ca9d6',\n",
       "                        [{\"marker\": {\"color\": \"rgba(255, 153, 51, 0.6)\", \"line\": {\"color\": \"rgba(255, 153, 51, 1.0)\", \"width\": 1}}, \"name\": \"Values\", \"orientation\": \"v\", \"text\": \"\", \"type\": \"bar\", \"x\": [\"A\", \"B\", \"C\"], \"y\": [32, 43, 50]}],\n",
       "                        {\"legend\": {\"bgcolor\": \"#F5F6F9\", \"font\": {\"color\": \"#4D5663\"}}, \"paper_bgcolor\": \"#F5F6F9\", \"plot_bgcolor\": \"#F5F6F9\", \"template\": {\"data\": {\"bar\": [{\"error_x\": {\"color\": \"#2a3f5f\"}, \"error_y\": {\"color\": \"#2a3f5f\"}, \"marker\": {\"line\": {\"color\": \"#E5ECF6\", \"width\": 0.5}}, \"type\": \"bar\"}], \"barpolar\": [{\"marker\": {\"line\": {\"color\": \"#E5ECF6\", \"width\": 0.5}}, \"type\": \"barpolar\"}], \"carpet\": [{\"aaxis\": {\"endlinecolor\": \"#2a3f5f\", \"gridcolor\": \"white\", \"linecolor\": \"white\", \"minorgridcolor\": \"white\", \"startlinecolor\": \"#2a3f5f\"}, \"baxis\": {\"endlinecolor\": \"#2a3f5f\", \"gridcolor\": \"white\", \"linecolor\": \"white\", \"minorgridcolor\": \"white\", \"startlinecolor\": \"#2a3f5f\"}, \"type\": \"carpet\"}], \"choropleth\": [{\"colorbar\": {\"outlinewidth\": 0, \"ticks\": \"\"}, \"type\": \"choropleth\"}], \"contour\": [{\"colorbar\": {\"outlinewidth\": 0, \"ticks\": \"\"}, \"colorscale\": [[0.0, \"#0d0887\"], [0.1111111111111111, \"#46039f\"], [0.2222222222222222, \"#7201a8\"], [0.3333333333333333, \"#9c179e\"], [0.4444444444444444, \"#bd3786\"], [0.5555555555555556, \"#d8576b\"], [0.6666666666666666, \"#ed7953\"], [0.7777777777777778, \"#fb9f3a\"], [0.8888888888888888, \"#fdca26\"], [1.0, \"#f0f921\"]], \"type\": \"contour\"}], \"contourcarpet\": [{\"colorbar\": {\"outlinewidth\": 0, \"ticks\": \"\"}, \"type\": \"contourcarpet\"}], \"heatmap\": [{\"colorbar\": {\"outlinewidth\": 0, \"ticks\": \"\"}, \"colorscale\": [[0.0, \"#0d0887\"], [0.1111111111111111, \"#46039f\"], [0.2222222222222222, \"#7201a8\"], [0.3333333333333333, \"#9c179e\"], [0.4444444444444444, \"#bd3786\"], [0.5555555555555556, \"#d8576b\"], [0.6666666666666666, \"#ed7953\"], [0.7777777777777778, \"#fb9f3a\"], [0.8888888888888888, \"#fdca26\"], [1.0, \"#f0f921\"]], \"type\": \"heatmap\"}], \"heatmapgl\": [{\"colorbar\": {\"outlinewidth\": 0, \"ticks\": \"\"}, \"colorscale\": [[0.0, \"#0d0887\"], [0.1111111111111111, \"#46039f\"], [0.2222222222222222, \"#7201a8\"], [0.3333333333333333, \"#9c179e\"], [0.4444444444444444, \"#bd3786\"], [0.5555555555555556, \"#d8576b\"], [0.6666666666666666, \"#ed7953\"], [0.7777777777777778, \"#fb9f3a\"], [0.8888888888888888, \"#fdca26\"], [1.0, \"#f0f921\"]], \"type\": \"heatmapgl\"}], \"histogram\": [{\"marker\": {\"colorbar\": {\"outlinewidth\": 0, \"ticks\": \"\"}}, \"type\": \"histogram\"}], \"histogram2d\": [{\"colorbar\": {\"outlinewidth\": 0, \"ticks\": \"\"}, \"colorscale\": [[0.0, \"#0d0887\"], [0.1111111111111111, \"#46039f\"], [0.2222222222222222, \"#7201a8\"], [0.3333333333333333, \"#9c179e\"], [0.4444444444444444, \"#bd3786\"], [0.5555555555555556, \"#d8576b\"], [0.6666666666666666, \"#ed7953\"], [0.7777777777777778, \"#fb9f3a\"], [0.8888888888888888, \"#fdca26\"], [1.0, \"#f0f921\"]], \"type\": \"histogram2d\"}], \"histogram2dcontour\": [{\"colorbar\": {\"outlinewidth\": 0, \"ticks\": \"\"}, \"colorscale\": [[0.0, \"#0d0887\"], [0.1111111111111111, \"#46039f\"], [0.2222222222222222, \"#7201a8\"], [0.3333333333333333, \"#9c179e\"], [0.4444444444444444, \"#bd3786\"], [0.5555555555555556, \"#d8576b\"], [0.6666666666666666, \"#ed7953\"], [0.7777777777777778, \"#fb9f3a\"], [0.8888888888888888, \"#fdca26\"], [1.0, \"#f0f921\"]], \"type\": \"histogram2dcontour\"}], \"mesh3d\": [{\"colorbar\": {\"outlinewidth\": 0, \"ticks\": \"\"}, \"type\": \"mesh3d\"}], \"parcoords\": [{\"line\": {\"colorbar\": {\"outlinewidth\": 0, \"ticks\": \"\"}}, \"type\": \"parcoords\"}], \"pie\": [{\"automargin\": true, \"type\": \"pie\"}], \"scatter\": [{\"marker\": {\"colorbar\": {\"outlinewidth\": 0, \"ticks\": \"\"}}, \"type\": \"scatter\"}], \"scatter3d\": [{\"line\": {\"colorbar\": {\"outlinewidth\": 0, \"ticks\": \"\"}}, \"marker\": {\"colorbar\": {\"outlinewidth\": 0, \"ticks\": \"\"}}, \"type\": \"scatter3d\"}], \"scattercarpet\": [{\"marker\": {\"colorbar\": {\"outlinewidth\": 0, \"ticks\": \"\"}}, \"type\": \"scattercarpet\"}], \"scattergeo\": [{\"marker\": {\"colorbar\": {\"outlinewidth\": 0, \"ticks\": \"\"}}, \"type\": \"scattergeo\"}], \"scattergl\": [{\"marker\": {\"colorbar\": {\"outlinewidth\": 0, \"ticks\": \"\"}}, \"type\": \"scattergl\"}], \"scattermapbox\": [{\"marker\": {\"colorbar\": {\"outlinewidth\": 0, \"ticks\": \"\"}}, \"type\": \"scattermapbox\"}], \"scatterpolar\": [{\"marker\": {\"colorbar\": {\"outlinewidth\": 0, \"ticks\": \"\"}}, \"type\": \"scatterpolar\"}], \"scatterpolargl\": [{\"marker\": {\"colorbar\": {\"outlinewidth\": 0, \"ticks\": \"\"}}, \"type\": \"scatterpolargl\"}], \"scatterternary\": [{\"marker\": {\"colorbar\": {\"outlinewidth\": 0, \"ticks\": \"\"}}, \"type\": \"scatterternary\"}], \"surface\": [{\"colorbar\": {\"outlinewidth\": 0, \"ticks\": \"\"}, \"colorscale\": [[0.0, \"#0d0887\"], [0.1111111111111111, \"#46039f\"], [0.2222222222222222, \"#7201a8\"], [0.3333333333333333, \"#9c179e\"], [0.4444444444444444, \"#bd3786\"], [0.5555555555555556, \"#d8576b\"], [0.6666666666666666, \"#ed7953\"], [0.7777777777777778, \"#fb9f3a\"], [0.8888888888888888, \"#fdca26\"], [1.0, \"#f0f921\"]], \"type\": \"surface\"}], \"table\": [{\"cells\": {\"fill\": {\"color\": \"#EBF0F8\"}, \"line\": {\"color\": \"white\"}}, \"header\": {\"fill\": {\"color\": \"#C8D4E3\"}, \"line\": {\"color\": \"white\"}}, \"type\": \"table\"}]}, \"layout\": {\"annotationdefaults\": {\"arrowcolor\": \"#2a3f5f\", \"arrowhead\": 0, \"arrowwidth\": 1}, \"coloraxis\": {\"colorbar\": {\"outlinewidth\": 0, \"ticks\": \"\"}}, \"colorscale\": {\"diverging\": [[0, \"#8e0152\"], [0.1, \"#c51b7d\"], [0.2, \"#de77ae\"], [0.3, \"#f1b6da\"], [0.4, \"#fde0ef\"], [0.5, \"#f7f7f7\"], [0.6, \"#e6f5d0\"], [0.7, \"#b8e186\"], [0.8, \"#7fbc41\"], [0.9, \"#4d9221\"], [1, \"#276419\"]], \"sequential\": [[0.0, \"#0d0887\"], [0.1111111111111111, \"#46039f\"], [0.2222222222222222, \"#7201a8\"], [0.3333333333333333, \"#9c179e\"], [0.4444444444444444, \"#bd3786\"], [0.5555555555555556, \"#d8576b\"], [0.6666666666666666, \"#ed7953\"], [0.7777777777777778, \"#fb9f3a\"], [0.8888888888888888, \"#fdca26\"], [1.0, \"#f0f921\"]], \"sequentialminus\": [[0.0, \"#0d0887\"], [0.1111111111111111, \"#46039f\"], [0.2222222222222222, \"#7201a8\"], [0.3333333333333333, \"#9c179e\"], [0.4444444444444444, \"#bd3786\"], [0.5555555555555556, \"#d8576b\"], [0.6666666666666666, \"#ed7953\"], [0.7777777777777778, \"#fb9f3a\"], [0.8888888888888888, \"#fdca26\"], [1.0, \"#f0f921\"]]}, \"colorway\": [\"#636efa\", \"#EF553B\", \"#00cc96\", \"#ab63fa\", \"#FFA15A\", \"#19d3f3\", \"#FF6692\", \"#B6E880\", \"#FF97FF\", \"#FECB52\"], \"font\": {\"color\": \"#2a3f5f\"}, \"geo\": {\"bgcolor\": \"white\", \"lakecolor\": \"white\", \"landcolor\": \"#E5ECF6\", \"showlakes\": true, \"showland\": true, \"subunitcolor\": \"white\"}, \"hoverlabel\": {\"align\": \"left\"}, \"hovermode\": \"closest\", \"mapbox\": {\"style\": \"light\"}, \"paper_bgcolor\": \"white\", \"plot_bgcolor\": \"#E5ECF6\", \"polar\": {\"angularaxis\": {\"gridcolor\": \"white\", \"linecolor\": \"white\", \"ticks\": \"\"}, \"bgcolor\": \"#E5ECF6\", \"radialaxis\": {\"gridcolor\": \"white\", \"linecolor\": \"white\", \"ticks\": \"\"}}, \"scene\": {\"xaxis\": {\"backgroundcolor\": \"#E5ECF6\", \"gridcolor\": \"white\", \"gridwidth\": 2, \"linecolor\": \"white\", \"showbackground\": true, \"ticks\": \"\", \"zerolinecolor\": \"white\"}, \"yaxis\": {\"backgroundcolor\": \"#E5ECF6\", \"gridcolor\": \"white\", \"gridwidth\": 2, \"linecolor\": \"white\", \"showbackground\": true, \"ticks\": \"\", \"zerolinecolor\": \"white\"}, \"zaxis\": {\"backgroundcolor\": \"#E5ECF6\", \"gridcolor\": \"white\", \"gridwidth\": 2, \"linecolor\": \"white\", \"showbackground\": true, \"ticks\": \"\", \"zerolinecolor\": \"white\"}}, \"shapedefaults\": {\"line\": {\"color\": \"#2a3f5f\"}}, \"ternary\": {\"aaxis\": {\"gridcolor\": \"white\", \"linecolor\": \"white\", \"ticks\": \"\"}, \"baxis\": {\"gridcolor\": \"white\", \"linecolor\": \"white\", \"ticks\": \"\"}, \"bgcolor\": \"#E5ECF6\", \"caxis\": {\"gridcolor\": \"white\", \"linecolor\": \"white\", \"ticks\": \"\"}}, \"title\": {\"x\": 0.05}, \"xaxis\": {\"automargin\": true, \"gridcolor\": \"white\", \"linecolor\": \"white\", \"ticks\": \"\", \"title\": {\"standoff\": 15}, \"zerolinecolor\": \"white\", \"zerolinewidth\": 2}, \"yaxis\": {\"automargin\": true, \"gridcolor\": \"white\", \"linecolor\": \"white\", \"ticks\": \"\", \"title\": {\"standoff\": 15}, \"zerolinecolor\": \"white\", \"zerolinewidth\": 2}}}, \"title\": {\"font\": {\"color\": \"#4D5663\"}}, \"xaxis\": {\"gridcolor\": \"#E1E5ED\", \"showgrid\": true, \"tickfont\": {\"color\": \"#4D5663\"}, \"title\": {\"font\": {\"color\": \"#4D5663\"}, \"text\": \"\"}, \"zerolinecolor\": \"#E1E5ED\"}, \"yaxis\": {\"gridcolor\": \"#E1E5ED\", \"showgrid\": true, \"tickfont\": {\"color\": \"#4D5663\"}, \"title\": {\"font\": {\"color\": \"#4D5663\"}, \"text\": \"\"}, \"zerolinecolor\": \"#E1E5ED\"}},\n",
       "                        {\"showLink\": true, \"linkText\": \"Export to plot.ly\", \"plotlyServerURL\": \"https://plot.ly\", \"responsive\": true}\n",
       "                    ).then(function(){\n",
       "                            \n",
       "var gd = document.getElementById('546db726-a340-44b6-91e9-acc7e06ca9d6');\n",
       "var x = new MutationObserver(function (mutations, observer) {{\n",
       "        var display = window.getComputedStyle(gd).display;\n",
       "        if (!display || display === 'none') {{\n",
       "            console.log([gd, 'removed!']);\n",
       "            Plotly.purge(gd);\n",
       "            observer.disconnect();\n",
       "        }}\n",
       "}});\n",
       "\n",
       "// Listen for the removal of the full notebook cells\n",
       "var notebookContainer = gd.closest('#notebook-container');\n",
       "if (notebookContainer) {{\n",
       "    x.observe(notebookContainer, {childList: true});\n",
       "}}\n",
       "\n",
       "// Listen for the clearing of the current output cell\n",
       "var outputEl = gd.closest('.output');\n",
       "if (outputEl) {{\n",
       "    x.observe(outputEl, {childList: true});\n",
       "}}\n",
       "\n",
       "                        })\n",
       "                };\n",
       "                });\n",
       "            </script>\n",
       "        </div>"
      ]
     },
     "metadata": {},
     "output_type": "display_data"
    }
   ],
   "source": [
    "df2.iplot(kind='bar',x='Category',y='Values')"
   ]
  },
  {
   "cell_type": "code",
   "execution_count": 14,
   "metadata": {},
   "outputs": [
    {
     "data": {
      "application/vnd.plotly.v1+json": {
       "config": {
        "linkText": "Export to plot.ly",
        "plotlyServerURL": "https://plot.ly",
        "showLink": true
       },
       "data": [
        {
         "marker": {
          "color": "rgba(255, 153, 51, 0.6)",
          "line": {
           "color": "rgba(255, 153, 51, 1.0)",
           "width": 1
          }
         },
         "name": "None",
         "orientation": "v",
         "text": "",
         "type": "bar",
         "x": [
          "A",
          "B",
          "C",
          "D"
         ],
         "y": [
          100,
          100,
          100,
          100
         ]
        }
       ],
       "layout": {
        "legend": {
         "bgcolor": "#F5F6F9",
         "font": {
          "color": "#4D5663"
         }
        },
        "paper_bgcolor": "#F5F6F9",
        "plot_bgcolor": "#F5F6F9",
        "template": {
         "data": {
          "bar": [
           {
            "error_x": {
             "color": "#2a3f5f"
            },
            "error_y": {
             "color": "#2a3f5f"
            },
            "marker": {
             "line": {
              "color": "#E5ECF6",
              "width": 0.5
             }
            },
            "type": "bar"
           }
          ],
          "barpolar": [
           {
            "marker": {
             "line": {
              "color": "#E5ECF6",
              "width": 0.5
             }
            },
            "type": "barpolar"
           }
          ],
          "carpet": [
           {
            "aaxis": {
             "endlinecolor": "#2a3f5f",
             "gridcolor": "white",
             "linecolor": "white",
             "minorgridcolor": "white",
             "startlinecolor": "#2a3f5f"
            },
            "baxis": {
             "endlinecolor": "#2a3f5f",
             "gridcolor": "white",
             "linecolor": "white",
             "minorgridcolor": "white",
             "startlinecolor": "#2a3f5f"
            },
            "type": "carpet"
           }
          ],
          "choropleth": [
           {
            "colorbar": {
             "outlinewidth": 0,
             "ticks": ""
            },
            "type": "choropleth"
           }
          ],
          "contour": [
           {
            "colorbar": {
             "outlinewidth": 0,
             "ticks": ""
            },
            "colorscale": [
             [
              0,
              "#0d0887"
             ],
             [
              0.1111111111111111,
              "#46039f"
             ],
             [
              0.2222222222222222,
              "#7201a8"
             ],
             [
              0.3333333333333333,
              "#9c179e"
             ],
             [
              0.4444444444444444,
              "#bd3786"
             ],
             [
              0.5555555555555556,
              "#d8576b"
             ],
             [
              0.6666666666666666,
              "#ed7953"
             ],
             [
              0.7777777777777778,
              "#fb9f3a"
             ],
             [
              0.8888888888888888,
              "#fdca26"
             ],
             [
              1,
              "#f0f921"
             ]
            ],
            "type": "contour"
           }
          ],
          "contourcarpet": [
           {
            "colorbar": {
             "outlinewidth": 0,
             "ticks": ""
            },
            "type": "contourcarpet"
           }
          ],
          "heatmap": [
           {
            "colorbar": {
             "outlinewidth": 0,
             "ticks": ""
            },
            "colorscale": [
             [
              0,
              "#0d0887"
             ],
             [
              0.1111111111111111,
              "#46039f"
             ],
             [
              0.2222222222222222,
              "#7201a8"
             ],
             [
              0.3333333333333333,
              "#9c179e"
             ],
             [
              0.4444444444444444,
              "#bd3786"
             ],
             [
              0.5555555555555556,
              "#d8576b"
             ],
             [
              0.6666666666666666,
              "#ed7953"
             ],
             [
              0.7777777777777778,
              "#fb9f3a"
             ],
             [
              0.8888888888888888,
              "#fdca26"
             ],
             [
              1,
              "#f0f921"
             ]
            ],
            "type": "heatmap"
           }
          ],
          "heatmapgl": [
           {
            "colorbar": {
             "outlinewidth": 0,
             "ticks": ""
            },
            "colorscale": [
             [
              0,
              "#0d0887"
             ],
             [
              0.1111111111111111,
              "#46039f"
             ],
             [
              0.2222222222222222,
              "#7201a8"
             ],
             [
              0.3333333333333333,
              "#9c179e"
             ],
             [
              0.4444444444444444,
              "#bd3786"
             ],
             [
              0.5555555555555556,
              "#d8576b"
             ],
             [
              0.6666666666666666,
              "#ed7953"
             ],
             [
              0.7777777777777778,
              "#fb9f3a"
             ],
             [
              0.8888888888888888,
              "#fdca26"
             ],
             [
              1,
              "#f0f921"
             ]
            ],
            "type": "heatmapgl"
           }
          ],
          "histogram": [
           {
            "marker": {
             "colorbar": {
              "outlinewidth": 0,
              "ticks": ""
             }
            },
            "type": "histogram"
           }
          ],
          "histogram2d": [
           {
            "colorbar": {
             "outlinewidth": 0,
             "ticks": ""
            },
            "colorscale": [
             [
              0,
              "#0d0887"
             ],
             [
              0.1111111111111111,
              "#46039f"
             ],
             [
              0.2222222222222222,
              "#7201a8"
             ],
             [
              0.3333333333333333,
              "#9c179e"
             ],
             [
              0.4444444444444444,
              "#bd3786"
             ],
             [
              0.5555555555555556,
              "#d8576b"
             ],
             [
              0.6666666666666666,
              "#ed7953"
             ],
             [
              0.7777777777777778,
              "#fb9f3a"
             ],
             [
              0.8888888888888888,
              "#fdca26"
             ],
             [
              1,
              "#f0f921"
             ]
            ],
            "type": "histogram2d"
           }
          ],
          "histogram2dcontour": [
           {
            "colorbar": {
             "outlinewidth": 0,
             "ticks": ""
            },
            "colorscale": [
             [
              0,
              "#0d0887"
             ],
             [
              0.1111111111111111,
              "#46039f"
             ],
             [
              0.2222222222222222,
              "#7201a8"
             ],
             [
              0.3333333333333333,
              "#9c179e"
             ],
             [
              0.4444444444444444,
              "#bd3786"
             ],
             [
              0.5555555555555556,
              "#d8576b"
             ],
             [
              0.6666666666666666,
              "#ed7953"
             ],
             [
              0.7777777777777778,
              "#fb9f3a"
             ],
             [
              0.8888888888888888,
              "#fdca26"
             ],
             [
              1,
              "#f0f921"
             ]
            ],
            "type": "histogram2dcontour"
           }
          ],
          "mesh3d": [
           {
            "colorbar": {
             "outlinewidth": 0,
             "ticks": ""
            },
            "type": "mesh3d"
           }
          ],
          "parcoords": [
           {
            "line": {
             "colorbar": {
              "outlinewidth": 0,
              "ticks": ""
             }
            },
            "type": "parcoords"
           }
          ],
          "pie": [
           {
            "automargin": true,
            "type": "pie"
           }
          ],
          "scatter": [
           {
            "marker": {
             "colorbar": {
              "outlinewidth": 0,
              "ticks": ""
             }
            },
            "type": "scatter"
           }
          ],
          "scatter3d": [
           {
            "line": {
             "colorbar": {
              "outlinewidth": 0,
              "ticks": ""
             }
            },
            "marker": {
             "colorbar": {
              "outlinewidth": 0,
              "ticks": ""
             }
            },
            "type": "scatter3d"
           }
          ],
          "scattercarpet": [
           {
            "marker": {
             "colorbar": {
              "outlinewidth": 0,
              "ticks": ""
             }
            },
            "type": "scattercarpet"
           }
          ],
          "scattergeo": [
           {
            "marker": {
             "colorbar": {
              "outlinewidth": 0,
              "ticks": ""
             }
            },
            "type": "scattergeo"
           }
          ],
          "scattergl": [
           {
            "marker": {
             "colorbar": {
              "outlinewidth": 0,
              "ticks": ""
             }
            },
            "type": "scattergl"
           }
          ],
          "scattermapbox": [
           {
            "marker": {
             "colorbar": {
              "outlinewidth": 0,
              "ticks": ""
             }
            },
            "type": "scattermapbox"
           }
          ],
          "scatterpolar": [
           {
            "marker": {
             "colorbar": {
              "outlinewidth": 0,
              "ticks": ""
             }
            },
            "type": "scatterpolar"
           }
          ],
          "scatterpolargl": [
           {
            "marker": {
             "colorbar": {
              "outlinewidth": 0,
              "ticks": ""
             }
            },
            "type": "scatterpolargl"
           }
          ],
          "scatterternary": [
           {
            "marker": {
             "colorbar": {
              "outlinewidth": 0,
              "ticks": ""
             }
            },
            "type": "scatterternary"
           }
          ],
          "surface": [
           {
            "colorbar": {
             "outlinewidth": 0,
             "ticks": ""
            },
            "colorscale": [
             [
              0,
              "#0d0887"
             ],
             [
              0.1111111111111111,
              "#46039f"
             ],
             [
              0.2222222222222222,
              "#7201a8"
             ],
             [
              0.3333333333333333,
              "#9c179e"
             ],
             [
              0.4444444444444444,
              "#bd3786"
             ],
             [
              0.5555555555555556,
              "#d8576b"
             ],
             [
              0.6666666666666666,
              "#ed7953"
             ],
             [
              0.7777777777777778,
              "#fb9f3a"
             ],
             [
              0.8888888888888888,
              "#fdca26"
             ],
             [
              1,
              "#f0f921"
             ]
            ],
            "type": "surface"
           }
          ],
          "table": [
           {
            "cells": {
             "fill": {
              "color": "#EBF0F8"
             },
             "line": {
              "color": "white"
             }
            },
            "header": {
             "fill": {
              "color": "#C8D4E3"
             },
             "line": {
              "color": "white"
             }
            },
            "type": "table"
           }
          ]
         },
         "layout": {
          "annotationdefaults": {
           "arrowcolor": "#2a3f5f",
           "arrowhead": 0,
           "arrowwidth": 1
          },
          "coloraxis": {
           "colorbar": {
            "outlinewidth": 0,
            "ticks": ""
           }
          },
          "colorscale": {
           "diverging": [
            [
             0,
             "#8e0152"
            ],
            [
             0.1,
             "#c51b7d"
            ],
            [
             0.2,
             "#de77ae"
            ],
            [
             0.3,
             "#f1b6da"
            ],
            [
             0.4,
             "#fde0ef"
            ],
            [
             0.5,
             "#f7f7f7"
            ],
            [
             0.6,
             "#e6f5d0"
            ],
            [
             0.7,
             "#b8e186"
            ],
            [
             0.8,
             "#7fbc41"
            ],
            [
             0.9,
             "#4d9221"
            ],
            [
             1,
             "#276419"
            ]
           ],
           "sequential": [
            [
             0,
             "#0d0887"
            ],
            [
             0.1111111111111111,
             "#46039f"
            ],
            [
             0.2222222222222222,
             "#7201a8"
            ],
            [
             0.3333333333333333,
             "#9c179e"
            ],
            [
             0.4444444444444444,
             "#bd3786"
            ],
            [
             0.5555555555555556,
             "#d8576b"
            ],
            [
             0.6666666666666666,
             "#ed7953"
            ],
            [
             0.7777777777777778,
             "#fb9f3a"
            ],
            [
             0.8888888888888888,
             "#fdca26"
            ],
            [
             1,
             "#f0f921"
            ]
           ],
           "sequentialminus": [
            [
             0,
             "#0d0887"
            ],
            [
             0.1111111111111111,
             "#46039f"
            ],
            [
             0.2222222222222222,
             "#7201a8"
            ],
            [
             0.3333333333333333,
             "#9c179e"
            ],
            [
             0.4444444444444444,
             "#bd3786"
            ],
            [
             0.5555555555555556,
             "#d8576b"
            ],
            [
             0.6666666666666666,
             "#ed7953"
            ],
            [
             0.7777777777777778,
             "#fb9f3a"
            ],
            [
             0.8888888888888888,
             "#fdca26"
            ],
            [
             1,
             "#f0f921"
            ]
           ]
          },
          "colorway": [
           "#636efa",
           "#EF553B",
           "#00cc96",
           "#ab63fa",
           "#FFA15A",
           "#19d3f3",
           "#FF6692",
           "#B6E880",
           "#FF97FF",
           "#FECB52"
          ],
          "font": {
           "color": "#2a3f5f"
          },
          "geo": {
           "bgcolor": "white",
           "lakecolor": "white",
           "landcolor": "#E5ECF6",
           "showlakes": true,
           "showland": true,
           "subunitcolor": "white"
          },
          "hoverlabel": {
           "align": "left"
          },
          "hovermode": "closest",
          "mapbox": {
           "style": "light"
          },
          "paper_bgcolor": "white",
          "plot_bgcolor": "#E5ECF6",
          "polar": {
           "angularaxis": {
            "gridcolor": "white",
            "linecolor": "white",
            "ticks": ""
           },
           "bgcolor": "#E5ECF6",
           "radialaxis": {
            "gridcolor": "white",
            "linecolor": "white",
            "ticks": ""
           }
          },
          "scene": {
           "xaxis": {
            "backgroundcolor": "#E5ECF6",
            "gridcolor": "white",
            "gridwidth": 2,
            "linecolor": "white",
            "showbackground": true,
            "ticks": "",
            "zerolinecolor": "white"
           },
           "yaxis": {
            "backgroundcolor": "#E5ECF6",
            "gridcolor": "white",
            "gridwidth": 2,
            "linecolor": "white",
            "showbackground": true,
            "ticks": "",
            "zerolinecolor": "white"
           },
           "zaxis": {
            "backgroundcolor": "#E5ECF6",
            "gridcolor": "white",
            "gridwidth": 2,
            "linecolor": "white",
            "showbackground": true,
            "ticks": "",
            "zerolinecolor": "white"
           }
          },
          "shapedefaults": {
           "line": {
            "color": "#2a3f5f"
           }
          },
          "ternary": {
           "aaxis": {
            "gridcolor": "white",
            "linecolor": "white",
            "ticks": ""
           },
           "baxis": {
            "gridcolor": "white",
            "linecolor": "white",
            "ticks": ""
           },
           "bgcolor": "#E5ECF6",
           "caxis": {
            "gridcolor": "white",
            "linecolor": "white",
            "ticks": ""
           }
          },
          "title": {
           "x": 0.05
          },
          "xaxis": {
           "automargin": true,
           "gridcolor": "white",
           "linecolor": "white",
           "ticks": "",
           "title": {
            "standoff": 15
           },
           "zerolinecolor": "white",
           "zerolinewidth": 2
          },
          "yaxis": {
           "automargin": true,
           "gridcolor": "white",
           "linecolor": "white",
           "ticks": "",
           "title": {
            "standoff": 15
           },
           "zerolinecolor": "white",
           "zerolinewidth": 2
          }
         }
        },
        "title": {
         "font": {
          "color": "#4D5663"
         }
        },
        "xaxis": {
         "gridcolor": "#E1E5ED",
         "showgrid": true,
         "tickfont": {
          "color": "#4D5663"
         },
         "title": {
          "font": {
           "color": "#4D5663"
          },
          "text": ""
         },
         "zerolinecolor": "#E1E5ED"
        },
        "yaxis": {
         "gridcolor": "#E1E5ED",
         "showgrid": true,
         "tickfont": {
          "color": "#4D5663"
         },
         "title": {
          "font": {
           "color": "#4D5663"
          },
          "text": ""
         },
         "zerolinecolor": "#E1E5ED"
        }
       }
      },
      "text/html": [
       "<div>\n",
       "        \n",
       "        \n",
       "            <div id=\"9b02ce1c-9670-43bc-91bc-dcc911fb346a\" class=\"plotly-graph-div\" style=\"height:525px; width:100%;\"></div>\n",
       "            <script type=\"text/javascript\">\n",
       "                require([\"plotly\"], function(Plotly) {\n",
       "                    window.PLOTLYENV=window.PLOTLYENV || {};\n",
       "                    window.PLOTLYENV.BASE_URL='https://plot.ly';\n",
       "                    \n",
       "                if (document.getElementById(\"9b02ce1c-9670-43bc-91bc-dcc911fb346a\")) {\n",
       "                    Plotly.newPlot(\n",
       "                        '9b02ce1c-9670-43bc-91bc-dcc911fb346a',\n",
       "                        [{\"marker\": {\"color\": \"rgba(255, 153, 51, 0.6)\", \"line\": {\"color\": \"rgba(255, 153, 51, 1.0)\", \"width\": 1}}, \"name\": \"None\", \"orientation\": \"v\", \"text\": \"\", \"type\": \"bar\", \"x\": [\"A\", \"B\", \"C\", \"D\"], \"y\": [100, 100, 100, 100]}],\n",
       "                        {\"legend\": {\"bgcolor\": \"#F5F6F9\", \"font\": {\"color\": \"#4D5663\"}}, \"paper_bgcolor\": \"#F5F6F9\", \"plot_bgcolor\": \"#F5F6F9\", \"template\": {\"data\": {\"bar\": [{\"error_x\": {\"color\": \"#2a3f5f\"}, \"error_y\": {\"color\": \"#2a3f5f\"}, \"marker\": {\"line\": {\"color\": \"#E5ECF6\", \"width\": 0.5}}, \"type\": \"bar\"}], \"barpolar\": [{\"marker\": {\"line\": {\"color\": \"#E5ECF6\", \"width\": 0.5}}, \"type\": \"barpolar\"}], \"carpet\": [{\"aaxis\": {\"endlinecolor\": \"#2a3f5f\", \"gridcolor\": \"white\", \"linecolor\": \"white\", \"minorgridcolor\": \"white\", \"startlinecolor\": \"#2a3f5f\"}, \"baxis\": {\"endlinecolor\": \"#2a3f5f\", \"gridcolor\": \"white\", \"linecolor\": \"white\", \"minorgridcolor\": \"white\", \"startlinecolor\": \"#2a3f5f\"}, \"type\": \"carpet\"}], \"choropleth\": [{\"colorbar\": {\"outlinewidth\": 0, \"ticks\": \"\"}, \"type\": \"choropleth\"}], \"contour\": [{\"colorbar\": {\"outlinewidth\": 0, \"ticks\": \"\"}, \"colorscale\": [[0.0, \"#0d0887\"], [0.1111111111111111, \"#46039f\"], [0.2222222222222222, \"#7201a8\"], [0.3333333333333333, \"#9c179e\"], [0.4444444444444444, \"#bd3786\"], [0.5555555555555556, \"#d8576b\"], [0.6666666666666666, \"#ed7953\"], [0.7777777777777778, \"#fb9f3a\"], [0.8888888888888888, \"#fdca26\"], [1.0, \"#f0f921\"]], \"type\": \"contour\"}], \"contourcarpet\": [{\"colorbar\": {\"outlinewidth\": 0, \"ticks\": \"\"}, \"type\": \"contourcarpet\"}], \"heatmap\": [{\"colorbar\": {\"outlinewidth\": 0, \"ticks\": \"\"}, \"colorscale\": [[0.0, \"#0d0887\"], [0.1111111111111111, \"#46039f\"], [0.2222222222222222, \"#7201a8\"], [0.3333333333333333, \"#9c179e\"], [0.4444444444444444, \"#bd3786\"], [0.5555555555555556, \"#d8576b\"], [0.6666666666666666, \"#ed7953\"], [0.7777777777777778, \"#fb9f3a\"], [0.8888888888888888, \"#fdca26\"], [1.0, \"#f0f921\"]], \"type\": \"heatmap\"}], \"heatmapgl\": [{\"colorbar\": {\"outlinewidth\": 0, \"ticks\": \"\"}, \"colorscale\": [[0.0, \"#0d0887\"], [0.1111111111111111, \"#46039f\"], [0.2222222222222222, \"#7201a8\"], [0.3333333333333333, \"#9c179e\"], [0.4444444444444444, \"#bd3786\"], [0.5555555555555556, \"#d8576b\"], [0.6666666666666666, \"#ed7953\"], [0.7777777777777778, \"#fb9f3a\"], [0.8888888888888888, \"#fdca26\"], [1.0, \"#f0f921\"]], \"type\": \"heatmapgl\"}], \"histogram\": [{\"marker\": {\"colorbar\": {\"outlinewidth\": 0, \"ticks\": \"\"}}, \"type\": \"histogram\"}], \"histogram2d\": [{\"colorbar\": {\"outlinewidth\": 0, \"ticks\": \"\"}, \"colorscale\": [[0.0, \"#0d0887\"], [0.1111111111111111, \"#46039f\"], [0.2222222222222222, \"#7201a8\"], [0.3333333333333333, \"#9c179e\"], [0.4444444444444444, \"#bd3786\"], [0.5555555555555556, \"#d8576b\"], [0.6666666666666666, \"#ed7953\"], [0.7777777777777778, \"#fb9f3a\"], [0.8888888888888888, \"#fdca26\"], [1.0, \"#f0f921\"]], \"type\": \"histogram2d\"}], \"histogram2dcontour\": [{\"colorbar\": {\"outlinewidth\": 0, \"ticks\": \"\"}, \"colorscale\": [[0.0, \"#0d0887\"], [0.1111111111111111, \"#46039f\"], [0.2222222222222222, \"#7201a8\"], [0.3333333333333333, \"#9c179e\"], [0.4444444444444444, \"#bd3786\"], [0.5555555555555556, \"#d8576b\"], [0.6666666666666666, \"#ed7953\"], [0.7777777777777778, \"#fb9f3a\"], [0.8888888888888888, \"#fdca26\"], [1.0, \"#f0f921\"]], \"type\": \"histogram2dcontour\"}], \"mesh3d\": [{\"colorbar\": {\"outlinewidth\": 0, \"ticks\": \"\"}, \"type\": \"mesh3d\"}], \"parcoords\": [{\"line\": {\"colorbar\": {\"outlinewidth\": 0, \"ticks\": \"\"}}, \"type\": \"parcoords\"}], \"pie\": [{\"automargin\": true, \"type\": \"pie\"}], \"scatter\": [{\"marker\": {\"colorbar\": {\"outlinewidth\": 0, \"ticks\": \"\"}}, \"type\": \"scatter\"}], \"scatter3d\": [{\"line\": {\"colorbar\": {\"outlinewidth\": 0, \"ticks\": \"\"}}, \"marker\": {\"colorbar\": {\"outlinewidth\": 0, \"ticks\": \"\"}}, \"type\": \"scatter3d\"}], \"scattercarpet\": [{\"marker\": {\"colorbar\": {\"outlinewidth\": 0, \"ticks\": \"\"}}, \"type\": \"scattercarpet\"}], \"scattergeo\": [{\"marker\": {\"colorbar\": {\"outlinewidth\": 0, \"ticks\": \"\"}}, \"type\": \"scattergeo\"}], \"scattergl\": [{\"marker\": {\"colorbar\": {\"outlinewidth\": 0, \"ticks\": \"\"}}, \"type\": \"scattergl\"}], \"scattermapbox\": [{\"marker\": {\"colorbar\": {\"outlinewidth\": 0, \"ticks\": \"\"}}, \"type\": \"scattermapbox\"}], \"scatterpolar\": [{\"marker\": {\"colorbar\": {\"outlinewidth\": 0, \"ticks\": \"\"}}, \"type\": \"scatterpolar\"}], \"scatterpolargl\": [{\"marker\": {\"colorbar\": {\"outlinewidth\": 0, \"ticks\": \"\"}}, \"type\": \"scatterpolargl\"}], \"scatterternary\": [{\"marker\": {\"colorbar\": {\"outlinewidth\": 0, \"ticks\": \"\"}}, \"type\": \"scatterternary\"}], \"surface\": [{\"colorbar\": {\"outlinewidth\": 0, \"ticks\": \"\"}, \"colorscale\": [[0.0, \"#0d0887\"], [0.1111111111111111, \"#46039f\"], [0.2222222222222222, \"#7201a8\"], [0.3333333333333333, \"#9c179e\"], [0.4444444444444444, \"#bd3786\"], [0.5555555555555556, \"#d8576b\"], [0.6666666666666666, \"#ed7953\"], [0.7777777777777778, \"#fb9f3a\"], [0.8888888888888888, \"#fdca26\"], [1.0, \"#f0f921\"]], \"type\": \"surface\"}], \"table\": [{\"cells\": {\"fill\": {\"color\": \"#EBF0F8\"}, \"line\": {\"color\": \"white\"}}, \"header\": {\"fill\": {\"color\": \"#C8D4E3\"}, \"line\": {\"color\": \"white\"}}, \"type\": \"table\"}]}, \"layout\": {\"annotationdefaults\": {\"arrowcolor\": \"#2a3f5f\", \"arrowhead\": 0, \"arrowwidth\": 1}, \"coloraxis\": {\"colorbar\": {\"outlinewidth\": 0, \"ticks\": \"\"}}, \"colorscale\": {\"diverging\": [[0, \"#8e0152\"], [0.1, \"#c51b7d\"], [0.2, \"#de77ae\"], [0.3, \"#f1b6da\"], [0.4, \"#fde0ef\"], [0.5, \"#f7f7f7\"], [0.6, \"#e6f5d0\"], [0.7, \"#b8e186\"], [0.8, \"#7fbc41\"], [0.9, \"#4d9221\"], [1, \"#276419\"]], \"sequential\": [[0.0, \"#0d0887\"], [0.1111111111111111, \"#46039f\"], [0.2222222222222222, \"#7201a8\"], [0.3333333333333333, \"#9c179e\"], [0.4444444444444444, \"#bd3786\"], [0.5555555555555556, \"#d8576b\"], [0.6666666666666666, \"#ed7953\"], [0.7777777777777778, \"#fb9f3a\"], [0.8888888888888888, \"#fdca26\"], [1.0, \"#f0f921\"]], \"sequentialminus\": [[0.0, \"#0d0887\"], [0.1111111111111111, \"#46039f\"], [0.2222222222222222, \"#7201a8\"], [0.3333333333333333, \"#9c179e\"], [0.4444444444444444, \"#bd3786\"], [0.5555555555555556, \"#d8576b\"], [0.6666666666666666, \"#ed7953\"], [0.7777777777777778, \"#fb9f3a\"], [0.8888888888888888, \"#fdca26\"], [1.0, \"#f0f921\"]]}, \"colorway\": [\"#636efa\", \"#EF553B\", \"#00cc96\", \"#ab63fa\", \"#FFA15A\", \"#19d3f3\", \"#FF6692\", \"#B6E880\", \"#FF97FF\", \"#FECB52\"], \"font\": {\"color\": \"#2a3f5f\"}, \"geo\": {\"bgcolor\": \"white\", \"lakecolor\": \"white\", \"landcolor\": \"#E5ECF6\", \"showlakes\": true, \"showland\": true, \"subunitcolor\": \"white\"}, \"hoverlabel\": {\"align\": \"left\"}, \"hovermode\": \"closest\", \"mapbox\": {\"style\": \"light\"}, \"paper_bgcolor\": \"white\", \"plot_bgcolor\": \"#E5ECF6\", \"polar\": {\"angularaxis\": {\"gridcolor\": \"white\", \"linecolor\": \"white\", \"ticks\": \"\"}, \"bgcolor\": \"#E5ECF6\", \"radialaxis\": {\"gridcolor\": \"white\", \"linecolor\": \"white\", \"ticks\": \"\"}}, \"scene\": {\"xaxis\": {\"backgroundcolor\": \"#E5ECF6\", \"gridcolor\": \"white\", \"gridwidth\": 2, \"linecolor\": \"white\", \"showbackground\": true, \"ticks\": \"\", \"zerolinecolor\": \"white\"}, \"yaxis\": {\"backgroundcolor\": \"#E5ECF6\", \"gridcolor\": \"white\", \"gridwidth\": 2, \"linecolor\": \"white\", \"showbackground\": true, \"ticks\": \"\", \"zerolinecolor\": \"white\"}, \"zaxis\": {\"backgroundcolor\": \"#E5ECF6\", \"gridcolor\": \"white\", \"gridwidth\": 2, \"linecolor\": \"white\", \"showbackground\": true, \"ticks\": \"\", \"zerolinecolor\": \"white\"}}, \"shapedefaults\": {\"line\": {\"color\": \"#2a3f5f\"}}, \"ternary\": {\"aaxis\": {\"gridcolor\": \"white\", \"linecolor\": \"white\", \"ticks\": \"\"}, \"baxis\": {\"gridcolor\": \"white\", \"linecolor\": \"white\", \"ticks\": \"\"}, \"bgcolor\": \"#E5ECF6\", \"caxis\": {\"gridcolor\": \"white\", \"linecolor\": \"white\", \"ticks\": \"\"}}, \"title\": {\"x\": 0.05}, \"xaxis\": {\"automargin\": true, \"gridcolor\": \"white\", \"linecolor\": \"white\", \"ticks\": \"\", \"title\": {\"standoff\": 15}, \"zerolinecolor\": \"white\", \"zerolinewidth\": 2}, \"yaxis\": {\"automargin\": true, \"gridcolor\": \"white\", \"linecolor\": \"white\", \"ticks\": \"\", \"title\": {\"standoff\": 15}, \"zerolinecolor\": \"white\", \"zerolinewidth\": 2}}}, \"title\": {\"font\": {\"color\": \"#4D5663\"}}, \"xaxis\": {\"gridcolor\": \"#E1E5ED\", \"showgrid\": true, \"tickfont\": {\"color\": \"#4D5663\"}, \"title\": {\"font\": {\"color\": \"#4D5663\"}, \"text\": \"\"}, \"zerolinecolor\": \"#E1E5ED\"}, \"yaxis\": {\"gridcolor\": \"#E1E5ED\", \"showgrid\": true, \"tickfont\": {\"color\": \"#4D5663\"}, \"title\": {\"font\": {\"color\": \"#4D5663\"}, \"text\": \"\"}, \"zerolinecolor\": \"#E1E5ED\"}},\n",
       "                        {\"showLink\": true, \"linkText\": \"Export to plot.ly\", \"plotlyServerURL\": \"https://plot.ly\", \"responsive\": true}\n",
       "                    ).then(function(){\n",
       "                            \n",
       "var gd = document.getElementById('9b02ce1c-9670-43bc-91bc-dcc911fb346a');\n",
       "var x = new MutationObserver(function (mutations, observer) {{\n",
       "        var display = window.getComputedStyle(gd).display;\n",
       "        if (!display || display === 'none') {{\n",
       "            console.log([gd, 'removed!']);\n",
       "            Plotly.purge(gd);\n",
       "            observer.disconnect();\n",
       "        }}\n",
       "}});\n",
       "\n",
       "// Listen for the removal of the full notebook cells\n",
       "var notebookContainer = gd.closest('#notebook-container');\n",
       "if (notebookContainer) {{\n",
       "    x.observe(notebookContainer, {childList: true});\n",
       "}}\n",
       "\n",
       "// Listen for the clearing of the current output cell\n",
       "var outputEl = gd.closest('.output');\n",
       "if (outputEl) {{\n",
       "    x.observe(outputEl, {childList: true});\n",
       "}}\n",
       "\n",
       "                        })\n",
       "                };\n",
       "                });\n",
       "            </script>\n",
       "        </div>"
      ]
     },
     "metadata": {},
     "output_type": "display_data"
    }
   ],
   "source": [
    "df.count().iplot(kind='bar')"
   ]
  },
  {
   "cell_type": "markdown",
   "metadata": {},
   "source": [
    "## Boxplots"
   ]
  },
  {
   "cell_type": "code",
   "execution_count": 15,
   "metadata": {},
   "outputs": [
    {
     "data": {
      "application/vnd.plotly.v1+json": {
       "config": {
        "linkText": "Export to plot.ly",
        "plotlyServerURL": "https://plot.ly",
        "showLink": true
       },
       "data": [
        {
         "boxpoints": false,
         "line": {
          "width": 1.3
         },
         "marker": {
          "color": "rgba(255, 153, 51, 1.0)"
         },
         "name": "A",
         "orientation": "v",
         "type": "box",
         "y": [
          -0.0015585409020748443,
          0.8458864735345376,
          0.934414068172041,
          -1.299225287036096,
          -0.612313161810921,
          -1.9164219425202789,
          -0.23256760125329407,
          1.0920556656230416,
          -0.4662237559745914,
          0.11813620238621023,
          -0.3893305872383898,
          0.3524367390130047,
          0.6267049137115619,
          -2.0098283113102333,
          -0.42224277438234714,
          1.4834140075387432,
          0.0007950478259361682,
          -0.6043585953862748,
          0.4071176027713737,
          -1.4138220890082105,
          2.077707538654815,
          0.4768952209629994,
          1.3895053923630198,
          2.3244999824807198,
          -1.189297270602611,
          0.8722982996347064,
          2.2937988533328246,
          0.06467962016505363,
          -0.13633788837817873,
          -1.7836787475237632,
          0.22566002203532615,
          0.20566852075458583,
          -0.018339853278318195,
          -0.5654481912867622,
          -0.5078139751819283,
          0.8275904894419189,
          -0.5203960037208601,
          -0.41352349293990387,
          2.1181837053232897,
          -0.4590426190787295,
          1.2319084700892855,
          -0.5358681790349643,
          -0.498364296101095,
          0.9232038731051508,
          -0.2814992874895402,
          0.24769175172286134,
          0.2328949255804648,
          0.5473351367722717,
          0.9498326281204514,
          -1.8075122019812093,
          -0.16476749353990988,
          0.5752186600567579,
          0.13051060072420054,
          0.3498771676815099,
          0.40281032759571855,
          -0.950111217346983,
          1.1638492951727184,
          0.7788802320291295,
          -1.2857935794971982,
          1.622091453349334,
          0.8678849327369677,
          -0.5048785146381843,
          -0.4896243146193713,
          -0.010709110981634063,
          1.006602249430079,
          -0.40568483350162055,
          1.3087894411891126,
          0.190062600400811,
          1.0379437685082251,
          0.2029558624259573,
          1.2943640286010194,
          -1.1492525100133704,
          1.9470511979586185,
          -1.1750359924184552,
          -0.7121663439038282,
          -0.3725103090728009,
          0.8444841630918083,
          0.6485746069267528,
          0.8839137048866836,
          1.8032268952420396,
          0.5001484387119923,
          1.896484110324483,
          1.654298132548488,
          1.4071820106911808,
          -0.6308051064388178,
          0.3196782094684533,
          -1.4042278558123713,
          -0.30363620969810856,
          0.33937227389870644,
          -1.3141396770051583,
          1.7301125955143941,
          1.473261447646321,
          -1.2404429659357479,
          0.41453891492567924,
          0.8491352380137746,
          0.06291390210273382,
          0.8957023727937828,
          -0.8297378450246963,
          -0.15546745233405063,
          0.06115899148576859
         ]
        },
        {
         "boxpoints": false,
         "line": {
          "width": 1.3
         },
         "marker": {
          "color": "rgba(55, 128, 191, 1.0)"
         },
         "name": "B",
         "orientation": "v",
         "type": "box",
         "y": [
          1.0175800614285233,
          -1.2381697268039793,
          0.7844385814995347,
          0.30504309679334424,
          0.07113000211751754,
          0.5464945125562095,
          1.1557504557988485,
          -1.7275411926016029,
          -0.22279057745760433,
          -0.014174013152534099,
          0.046397927392791756,
          -1.3337624718506451,
          1.191976549469535,
          -0.7183098682670902,
          -2.4698721321587866,
          0.9613881312364033,
          1.6833606698696069,
          0.42850756621014996,
          -1.1454449405585065,
          -0.08662254675121947,
          -0.9450585843005394,
          -0.33298677114239544,
          0.4657326635014758,
          -0.9691697286478733,
          0.62175588895002,
          1.0299919541363,
          0.8649747554739001,
          -0.6744088289128711,
          -0.6033349561993983,
          -0.6337091078175451,
          -0.08477989487573509,
          0.9323883959280738,
          0.1652884033603895,
          -0.6339840048762202,
          1.0507406443717582,
          1.0573753846404983,
          0.6636757389865048,
          1.3299452315771907,
          -2.410944620637584,
          0.02666908427756707,
          -1.2376861153521053,
          1.7238750523134125,
          -0.5086058475096568,
          -0.17507279212476282,
          0.5475713496593823,
          -1.4259641401525398,
          0.05369385509694605,
          -0.9299640092735049,
          0.11079782824479513,
          0.0736336796198157,
          -1.1284780669103156,
          2.3268805893841846,
          0.7353143553716142,
          0.5747292489874314,
          0.0061658081593460685,
          -0.8142937126202369,
          -0.5898683598036754,
          -1.2427151574703632,
          -1.6405760554796995,
          -1.175831136187835,
          1.149180086490129,
          -0.18251913868620054,
          -1.0876933367660377,
          0.9976299359074137,
          0.4003239380906782,
          0.2617838634232212,
          -0.32829660836018465,
          -0.23248596879774558,
          -0.14820288716904675,
          0.6253052461591179,
          2.685060965111488,
          -1.0063500799681528,
          0.6364210137912422,
          0.4341464126761938,
          -0.6846913415382077,
          0.03168060938323212,
          0.9653244668758755,
          0.2539811926246748,
          0.19839824105941936,
          1.7403553998585106,
          0.08270043220181753,
          -0.27786186641225313,
          -2.558636455467326,
          0.13711812987282768,
          -3.113999236124563,
          -0.875019859368395,
          0.4439283319975627,
          -0.9614670575196685,
          -1.8034029714721953,
          -0.028070800567166057,
          0.6141861352213069,
          -0.8745255066793514,
          -1.3864506353507577,
          0.9687999866524937,
          0.3151400059457273,
          0.2900335524231588,
          0.17169407679562926,
          0.7406298316795756,
          2.1758669248629254,
          2.277915743638747
         ]
        },
        {
         "boxpoints": false,
         "line": {
          "width": 1.3
         },
         "marker": {
          "color": "rgba(50, 171, 96, 1.0)"
         },
         "name": "C",
         "orientation": "v",
         "type": "box",
         "y": [
          -0.3788015313202212,
          1.256762231295425,
          -0.8306300375628289,
          -0.4608964149762124,
          0.8403424244494432,
          1.382446688545958,
          -0.6648836286791291,
          -1.219886004139807,
          -0.2667387299528493,
          0.5637496816006109,
          -0.22579301283267872,
          -0.4453936088138776,
          -0.15907827396625296,
          0.3188589022283024,
          -0.49120530496722187,
          1.1713785524378253,
          0.2890678697829857,
          0.22533111201464287,
          0.5561921151720705,
          -0.99041241400968,
          0.39497006397390916,
          0.07844922125051666,
          -1.7713057250695605,
          -0.25905732239853096,
          0.15315464636697984,
          -1.110420311156213,
          -0.3957901769918868,
          -0.8205317576014358,
          -0.21560993396833739,
          -1.8620014563420701,
          3.2984642851881505,
          0.06214774861774642,
          0.9286263489991817,
          -1.209408037624237,
          0.6946553240463219,
          -0.6185088427971893,
          -0.017783693049615926,
          1.5449245975139039,
          -0.15206213305347338,
          -1.9825608980930653,
          1.3817460352203639,
          0.03299365426770661,
          -0.05988533865434531,
          -0.4727955916530704,
          0.15993493017843194,
          0.9624712884103498,
          -0.0652689903471656,
          0.32292198225665547,
          0.7542099788658005,
          -0.538579659456351,
          -1.651282827813881,
          -1.5066685189357847,
          -0.591096521344276,
          0.11415136327812293,
          0.7601189954766393,
          -1.809259553258281,
          -0.10767748365051709,
          -1.5180254739925352,
          -0.8758650425416121,
          1.594704343412804,
          -0.3621068285076178,
          0.46617400533619474,
          -0.04456531740033875,
          0.20350725328813968,
          0.43859372092595994,
          -1.1963691799216696,
          -0.03610936369111613,
          -1.3583044466536425,
          0.917267703545791,
          -0.8232825321337947,
          1.1318480834374294,
          -0.754699171130626,
          0.2658900823377884,
          0.8706654067258455,
          -0.27004721301889606,
          -0.9770383142387139,
          -0.28752871067961044,
          -1.0502547160445979,
          0.7914363174433269,
          2.0409131427270615,
          -0.21684446951038677,
          0.17069481759767355,
          -2.9664272071875293,
          -0.600310081255409,
          2.2387352422545326,
          -0.20946565899667627,
          -0.3215864917094097,
          -1.1453247812042877,
          -1.0164123491429509,
          1.82079047930281,
          -0.3459161939231618,
          1.2015699247574514,
          -1.3615378521065202,
          0.7967606125654182,
          0.13520136165040794,
          -1.5800820323218054,
          -2.106418155858577,
          0.26803487769489037,
          -1.512463224626046,
          0.7996005123284501
         ]
        },
        {
         "boxpoints": false,
         "line": {
          "width": 1.3
         },
         "marker": {
          "color": "rgba(128, 0, 128, 1.0)"
         },
         "name": "D",
         "orientation": "v",
         "type": "box",
         "y": [
          -0.11638704796165784,
          -0.7002249145000803,
          -0.7559517130326966,
          1.1305922656785876,
          -0.6038578300924019,
          -1.075086901430937,
          -0.3989676241763057,
          -0.8895140403200313,
          0.0949517121580332,
          -0.7161291245309929,
          0.0661068785899851,
          1.0901273098596156,
          0.6772356135465372,
          -0.5041475983570313,
          -0.3053154132514319,
          0.27148079247714174,
          -0.18156190976840691,
          0.16379448272566335,
          0.9721880440901653,
          -1.5115428542507243,
          0.09880160039176525,
          0.1883791691285031,
          0.2875295713790334,
          0.2508200922256019,
          0.37144140897188865,
          -1.5125712150306476,
          -0.3000500023828874,
          -1.4467564617646498,
          0.7668413260168058,
          -1.128039398386622,
          0.371943048263021,
          -1.8846930751494804,
          0.23396193895397652,
          1.1239652961702076,
          1.4113780100828497,
          -0.22112432300555643,
          0.21879206094552822,
          0.34764710207640953,
          2.5572739518495244,
          -0.05991313736641319,
          -0.6831361628447226,
          0.3135594473854501,
          -1.3364626676182996,
          -0.14272899360938457,
          -1.089432561463353,
          -0.08470708103908872,
          -0.8853361125929256,
          0.2592699559282212,
          -2.9290632225906483,
          -0.7642963581491048,
          -0.3701098414195931,
          -1.1733328554821236,
          0.5684291090514618,
          1.3622976081754778,
          0.5065257571645497,
          -0.7669619501828306,
          0.5952589165064289,
          0.12063091104041283,
          -2.1699314453784986,
          0.9525797703035719,
          1.303118247161537,
          0.18775132553756985,
          0.2778295995170414,
          1.1118376295674957,
          0.7276850289295383,
          0.07484264237616128,
          -0.8830055985098384,
          0.4958469514420254,
          1.300077430444035,
          0.46653962453374265,
          0.5651443336213451,
          0.37321775159292236,
          0.6589956641659104,
          -0.5534074522898599,
          0.5235284057923568,
          0.9349812129515604,
          0.7218050715715093,
          -1.5295165082248794,
          0.7650670984673281,
          1.1349556998344372,
          -0.9037193947920661,
          0.3267269140908282,
          0.274083206935181,
          0.05836425297423308,
          1.7752998946512923,
          -0.7772049067537251,
          -1.9177958253796348,
          0.9108021670541938,
          0.3538857001900387,
          0.5398070189471809,
          -0.574290715555816,
          -1.5783354313272537,
          0.5691760158559603,
          -0.16036901495118402,
          -0.30034135049553096,
          0.962259425746051,
          0.180304955729948,
          0.24236432568462,
          0.2446800239178959,
          -0.013385992364696949
         ]
        }
       ],
       "layout": {
        "legend": {
         "bgcolor": "#F5F6F9",
         "font": {
          "color": "#4D5663"
         }
        },
        "paper_bgcolor": "#F5F6F9",
        "plot_bgcolor": "#F5F6F9",
        "template": {
         "data": {
          "bar": [
           {
            "error_x": {
             "color": "#2a3f5f"
            },
            "error_y": {
             "color": "#2a3f5f"
            },
            "marker": {
             "line": {
              "color": "#E5ECF6",
              "width": 0.5
             }
            },
            "type": "bar"
           }
          ],
          "barpolar": [
           {
            "marker": {
             "line": {
              "color": "#E5ECF6",
              "width": 0.5
             }
            },
            "type": "barpolar"
           }
          ],
          "carpet": [
           {
            "aaxis": {
             "endlinecolor": "#2a3f5f",
             "gridcolor": "white",
             "linecolor": "white",
             "minorgridcolor": "white",
             "startlinecolor": "#2a3f5f"
            },
            "baxis": {
             "endlinecolor": "#2a3f5f",
             "gridcolor": "white",
             "linecolor": "white",
             "minorgridcolor": "white",
             "startlinecolor": "#2a3f5f"
            },
            "type": "carpet"
           }
          ],
          "choropleth": [
           {
            "colorbar": {
             "outlinewidth": 0,
             "ticks": ""
            },
            "type": "choropleth"
           }
          ],
          "contour": [
           {
            "colorbar": {
             "outlinewidth": 0,
             "ticks": ""
            },
            "colorscale": [
             [
              0,
              "#0d0887"
             ],
             [
              0.1111111111111111,
              "#46039f"
             ],
             [
              0.2222222222222222,
              "#7201a8"
             ],
             [
              0.3333333333333333,
              "#9c179e"
             ],
             [
              0.4444444444444444,
              "#bd3786"
             ],
             [
              0.5555555555555556,
              "#d8576b"
             ],
             [
              0.6666666666666666,
              "#ed7953"
             ],
             [
              0.7777777777777778,
              "#fb9f3a"
             ],
             [
              0.8888888888888888,
              "#fdca26"
             ],
             [
              1,
              "#f0f921"
             ]
            ],
            "type": "contour"
           }
          ],
          "contourcarpet": [
           {
            "colorbar": {
             "outlinewidth": 0,
             "ticks": ""
            },
            "type": "contourcarpet"
           }
          ],
          "heatmap": [
           {
            "colorbar": {
             "outlinewidth": 0,
             "ticks": ""
            },
            "colorscale": [
             [
              0,
              "#0d0887"
             ],
             [
              0.1111111111111111,
              "#46039f"
             ],
             [
              0.2222222222222222,
              "#7201a8"
             ],
             [
              0.3333333333333333,
              "#9c179e"
             ],
             [
              0.4444444444444444,
              "#bd3786"
             ],
             [
              0.5555555555555556,
              "#d8576b"
             ],
             [
              0.6666666666666666,
              "#ed7953"
             ],
             [
              0.7777777777777778,
              "#fb9f3a"
             ],
             [
              0.8888888888888888,
              "#fdca26"
             ],
             [
              1,
              "#f0f921"
             ]
            ],
            "type": "heatmap"
           }
          ],
          "heatmapgl": [
           {
            "colorbar": {
             "outlinewidth": 0,
             "ticks": ""
            },
            "colorscale": [
             [
              0,
              "#0d0887"
             ],
             [
              0.1111111111111111,
              "#46039f"
             ],
             [
              0.2222222222222222,
              "#7201a8"
             ],
             [
              0.3333333333333333,
              "#9c179e"
             ],
             [
              0.4444444444444444,
              "#bd3786"
             ],
             [
              0.5555555555555556,
              "#d8576b"
             ],
             [
              0.6666666666666666,
              "#ed7953"
             ],
             [
              0.7777777777777778,
              "#fb9f3a"
             ],
             [
              0.8888888888888888,
              "#fdca26"
             ],
             [
              1,
              "#f0f921"
             ]
            ],
            "type": "heatmapgl"
           }
          ],
          "histogram": [
           {
            "marker": {
             "colorbar": {
              "outlinewidth": 0,
              "ticks": ""
             }
            },
            "type": "histogram"
           }
          ],
          "histogram2d": [
           {
            "colorbar": {
             "outlinewidth": 0,
             "ticks": ""
            },
            "colorscale": [
             [
              0,
              "#0d0887"
             ],
             [
              0.1111111111111111,
              "#46039f"
             ],
             [
              0.2222222222222222,
              "#7201a8"
             ],
             [
              0.3333333333333333,
              "#9c179e"
             ],
             [
              0.4444444444444444,
              "#bd3786"
             ],
             [
              0.5555555555555556,
              "#d8576b"
             ],
             [
              0.6666666666666666,
              "#ed7953"
             ],
             [
              0.7777777777777778,
              "#fb9f3a"
             ],
             [
              0.8888888888888888,
              "#fdca26"
             ],
             [
              1,
              "#f0f921"
             ]
            ],
            "type": "histogram2d"
           }
          ],
          "histogram2dcontour": [
           {
            "colorbar": {
             "outlinewidth": 0,
             "ticks": ""
            },
            "colorscale": [
             [
              0,
              "#0d0887"
             ],
             [
              0.1111111111111111,
              "#46039f"
             ],
             [
              0.2222222222222222,
              "#7201a8"
             ],
             [
              0.3333333333333333,
              "#9c179e"
             ],
             [
              0.4444444444444444,
              "#bd3786"
             ],
             [
              0.5555555555555556,
              "#d8576b"
             ],
             [
              0.6666666666666666,
              "#ed7953"
             ],
             [
              0.7777777777777778,
              "#fb9f3a"
             ],
             [
              0.8888888888888888,
              "#fdca26"
             ],
             [
              1,
              "#f0f921"
             ]
            ],
            "type": "histogram2dcontour"
           }
          ],
          "mesh3d": [
           {
            "colorbar": {
             "outlinewidth": 0,
             "ticks": ""
            },
            "type": "mesh3d"
           }
          ],
          "parcoords": [
           {
            "line": {
             "colorbar": {
              "outlinewidth": 0,
              "ticks": ""
             }
            },
            "type": "parcoords"
           }
          ],
          "pie": [
           {
            "automargin": true,
            "type": "pie"
           }
          ],
          "scatter": [
           {
            "marker": {
             "colorbar": {
              "outlinewidth": 0,
              "ticks": ""
             }
            },
            "type": "scatter"
           }
          ],
          "scatter3d": [
           {
            "line": {
             "colorbar": {
              "outlinewidth": 0,
              "ticks": ""
             }
            },
            "marker": {
             "colorbar": {
              "outlinewidth": 0,
              "ticks": ""
             }
            },
            "type": "scatter3d"
           }
          ],
          "scattercarpet": [
           {
            "marker": {
             "colorbar": {
              "outlinewidth": 0,
              "ticks": ""
             }
            },
            "type": "scattercarpet"
           }
          ],
          "scattergeo": [
           {
            "marker": {
             "colorbar": {
              "outlinewidth": 0,
              "ticks": ""
             }
            },
            "type": "scattergeo"
           }
          ],
          "scattergl": [
           {
            "marker": {
             "colorbar": {
              "outlinewidth": 0,
              "ticks": ""
             }
            },
            "type": "scattergl"
           }
          ],
          "scattermapbox": [
           {
            "marker": {
             "colorbar": {
              "outlinewidth": 0,
              "ticks": ""
             }
            },
            "type": "scattermapbox"
           }
          ],
          "scatterpolar": [
           {
            "marker": {
             "colorbar": {
              "outlinewidth": 0,
              "ticks": ""
             }
            },
            "type": "scatterpolar"
           }
          ],
          "scatterpolargl": [
           {
            "marker": {
             "colorbar": {
              "outlinewidth": 0,
              "ticks": ""
             }
            },
            "type": "scatterpolargl"
           }
          ],
          "scatterternary": [
           {
            "marker": {
             "colorbar": {
              "outlinewidth": 0,
              "ticks": ""
             }
            },
            "type": "scatterternary"
           }
          ],
          "surface": [
           {
            "colorbar": {
             "outlinewidth": 0,
             "ticks": ""
            },
            "colorscale": [
             [
              0,
              "#0d0887"
             ],
             [
              0.1111111111111111,
              "#46039f"
             ],
             [
              0.2222222222222222,
              "#7201a8"
             ],
             [
              0.3333333333333333,
              "#9c179e"
             ],
             [
              0.4444444444444444,
              "#bd3786"
             ],
             [
              0.5555555555555556,
              "#d8576b"
             ],
             [
              0.6666666666666666,
              "#ed7953"
             ],
             [
              0.7777777777777778,
              "#fb9f3a"
             ],
             [
              0.8888888888888888,
              "#fdca26"
             ],
             [
              1,
              "#f0f921"
             ]
            ],
            "type": "surface"
           }
          ],
          "table": [
           {
            "cells": {
             "fill": {
              "color": "#EBF0F8"
             },
             "line": {
              "color": "white"
             }
            },
            "header": {
             "fill": {
              "color": "#C8D4E3"
             },
             "line": {
              "color": "white"
             }
            },
            "type": "table"
           }
          ]
         },
         "layout": {
          "annotationdefaults": {
           "arrowcolor": "#2a3f5f",
           "arrowhead": 0,
           "arrowwidth": 1
          },
          "coloraxis": {
           "colorbar": {
            "outlinewidth": 0,
            "ticks": ""
           }
          },
          "colorscale": {
           "diverging": [
            [
             0,
             "#8e0152"
            ],
            [
             0.1,
             "#c51b7d"
            ],
            [
             0.2,
             "#de77ae"
            ],
            [
             0.3,
             "#f1b6da"
            ],
            [
             0.4,
             "#fde0ef"
            ],
            [
             0.5,
             "#f7f7f7"
            ],
            [
             0.6,
             "#e6f5d0"
            ],
            [
             0.7,
             "#b8e186"
            ],
            [
             0.8,
             "#7fbc41"
            ],
            [
             0.9,
             "#4d9221"
            ],
            [
             1,
             "#276419"
            ]
           ],
           "sequential": [
            [
             0,
             "#0d0887"
            ],
            [
             0.1111111111111111,
             "#46039f"
            ],
            [
             0.2222222222222222,
             "#7201a8"
            ],
            [
             0.3333333333333333,
             "#9c179e"
            ],
            [
             0.4444444444444444,
             "#bd3786"
            ],
            [
             0.5555555555555556,
             "#d8576b"
            ],
            [
             0.6666666666666666,
             "#ed7953"
            ],
            [
             0.7777777777777778,
             "#fb9f3a"
            ],
            [
             0.8888888888888888,
             "#fdca26"
            ],
            [
             1,
             "#f0f921"
            ]
           ],
           "sequentialminus": [
            [
             0,
             "#0d0887"
            ],
            [
             0.1111111111111111,
             "#46039f"
            ],
            [
             0.2222222222222222,
             "#7201a8"
            ],
            [
             0.3333333333333333,
             "#9c179e"
            ],
            [
             0.4444444444444444,
             "#bd3786"
            ],
            [
             0.5555555555555556,
             "#d8576b"
            ],
            [
             0.6666666666666666,
             "#ed7953"
            ],
            [
             0.7777777777777778,
             "#fb9f3a"
            ],
            [
             0.8888888888888888,
             "#fdca26"
            ],
            [
             1,
             "#f0f921"
            ]
           ]
          },
          "colorway": [
           "#636efa",
           "#EF553B",
           "#00cc96",
           "#ab63fa",
           "#FFA15A",
           "#19d3f3",
           "#FF6692",
           "#B6E880",
           "#FF97FF",
           "#FECB52"
          ],
          "font": {
           "color": "#2a3f5f"
          },
          "geo": {
           "bgcolor": "white",
           "lakecolor": "white",
           "landcolor": "#E5ECF6",
           "showlakes": true,
           "showland": true,
           "subunitcolor": "white"
          },
          "hoverlabel": {
           "align": "left"
          },
          "hovermode": "closest",
          "mapbox": {
           "style": "light"
          },
          "paper_bgcolor": "white",
          "plot_bgcolor": "#E5ECF6",
          "polar": {
           "angularaxis": {
            "gridcolor": "white",
            "linecolor": "white",
            "ticks": ""
           },
           "bgcolor": "#E5ECF6",
           "radialaxis": {
            "gridcolor": "white",
            "linecolor": "white",
            "ticks": ""
           }
          },
          "scene": {
           "xaxis": {
            "backgroundcolor": "#E5ECF6",
            "gridcolor": "white",
            "gridwidth": 2,
            "linecolor": "white",
            "showbackground": true,
            "ticks": "",
            "zerolinecolor": "white"
           },
           "yaxis": {
            "backgroundcolor": "#E5ECF6",
            "gridcolor": "white",
            "gridwidth": 2,
            "linecolor": "white",
            "showbackground": true,
            "ticks": "",
            "zerolinecolor": "white"
           },
           "zaxis": {
            "backgroundcolor": "#E5ECF6",
            "gridcolor": "white",
            "gridwidth": 2,
            "linecolor": "white",
            "showbackground": true,
            "ticks": "",
            "zerolinecolor": "white"
           }
          },
          "shapedefaults": {
           "line": {
            "color": "#2a3f5f"
           }
          },
          "ternary": {
           "aaxis": {
            "gridcolor": "white",
            "linecolor": "white",
            "ticks": ""
           },
           "baxis": {
            "gridcolor": "white",
            "linecolor": "white",
            "ticks": ""
           },
           "bgcolor": "#E5ECF6",
           "caxis": {
            "gridcolor": "white",
            "linecolor": "white",
            "ticks": ""
           }
          },
          "title": {
           "x": 0.05
          },
          "xaxis": {
           "automargin": true,
           "gridcolor": "white",
           "linecolor": "white",
           "ticks": "",
           "title": {
            "standoff": 15
           },
           "zerolinecolor": "white",
           "zerolinewidth": 2
          },
          "yaxis": {
           "automargin": true,
           "gridcolor": "white",
           "linecolor": "white",
           "ticks": "",
           "title": {
            "standoff": 15
           },
           "zerolinecolor": "white",
           "zerolinewidth": 2
          }
         }
        },
        "title": {
         "font": {
          "color": "#4D5663"
         }
        },
        "xaxis": {
         "gridcolor": "#E1E5ED",
         "showgrid": true,
         "tickfont": {
          "color": "#4D5663"
         },
         "title": {
          "font": {
           "color": "#4D5663"
          },
          "text": ""
         },
         "zerolinecolor": "#E1E5ED"
        },
        "yaxis": {
         "gridcolor": "#E1E5ED",
         "showgrid": true,
         "tickfont": {
          "color": "#4D5663"
         },
         "title": {
          "font": {
           "color": "#4D5663"
          },
          "text": ""
         },
         "zerolinecolor": "#E1E5ED"
        }
       }
      },
      "text/html": [
       "<div>\n",
       "        \n",
       "        \n",
       "            <div id=\"fffb38d0-c72e-4bec-a63a-0c20fb56e48c\" class=\"plotly-graph-div\" style=\"height:525px; width:100%;\"></div>\n",
       "            <script type=\"text/javascript\">\n",
       "                require([\"plotly\"], function(Plotly) {\n",
       "                    window.PLOTLYENV=window.PLOTLYENV || {};\n",
       "                    window.PLOTLYENV.BASE_URL='https://plot.ly';\n",
       "                    \n",
       "                if (document.getElementById(\"fffb38d0-c72e-4bec-a63a-0c20fb56e48c\")) {\n",
       "                    Plotly.newPlot(\n",
       "                        'fffb38d0-c72e-4bec-a63a-0c20fb56e48c',\n",
       "                        [{\"boxpoints\": false, \"line\": {\"width\": 1.3}, \"marker\": {\"color\": \"rgba(255, 153, 51, 1.0)\"}, \"name\": \"A\", \"orientation\": \"v\", \"type\": \"box\", \"y\": [-0.0015585409020748443, 0.8458864735345376, 0.934414068172041, -1.299225287036096, -0.612313161810921, -1.9164219425202789, -0.23256760125329407, 1.0920556656230416, -0.4662237559745914, 0.11813620238621023, -0.3893305872383898, 0.3524367390130047, 0.6267049137115619, -2.0098283113102333, -0.42224277438234714, 1.4834140075387432, 0.0007950478259361682, -0.6043585953862748, 0.4071176027713737, -1.4138220890082105, 2.077707538654815, 0.4768952209629994, 1.3895053923630198, 2.3244999824807198, -1.189297270602611, 0.8722982996347064, 2.2937988533328246, 0.06467962016505363, -0.13633788837817873, -1.7836787475237632, 0.22566002203532615, 0.20566852075458583, -0.018339853278318195, -0.5654481912867622, -0.5078139751819283, 0.8275904894419189, -0.5203960037208601, -0.41352349293990387, 2.1181837053232897, -0.4590426190787295, 1.2319084700892855, -0.5358681790349643, -0.498364296101095, 0.9232038731051508, -0.2814992874895402, 0.24769175172286134, 0.2328949255804648, 0.5473351367722717, 0.9498326281204514, -1.8075122019812093, -0.16476749353990988, 0.5752186600567579, 0.13051060072420054, 0.3498771676815099, 0.40281032759571855, -0.950111217346983, 1.1638492951727184, 0.7788802320291295, -1.2857935794971982, 1.622091453349334, 0.8678849327369677, -0.5048785146381843, -0.4896243146193713, -0.010709110981634063, 1.006602249430079, -0.40568483350162055, 1.3087894411891126, 0.190062600400811, 1.0379437685082251, 0.2029558624259573, 1.2943640286010194, -1.1492525100133704, 1.9470511979586185, -1.1750359924184552, -0.7121663439038282, -0.3725103090728009, 0.8444841630918083, 0.6485746069267528, 0.8839137048866836, 1.8032268952420396, 0.5001484387119923, 1.896484110324483, 1.654298132548488, 1.4071820106911808, -0.6308051064388178, 0.3196782094684533, -1.4042278558123713, -0.30363620969810856, 0.33937227389870644, -1.3141396770051583, 1.7301125955143941, 1.473261447646321, -1.2404429659357479, 0.41453891492567924, 0.8491352380137746, 0.06291390210273382, 0.8957023727937828, -0.8297378450246963, -0.15546745233405063, 0.06115899148576859]}, {\"boxpoints\": false, \"line\": {\"width\": 1.3}, \"marker\": {\"color\": \"rgba(55, 128, 191, 1.0)\"}, \"name\": \"B\", \"orientation\": \"v\", \"type\": \"box\", \"y\": [1.0175800614285233, -1.2381697268039793, 0.7844385814995347, 0.30504309679334424, 0.07113000211751754, 0.5464945125562095, 1.1557504557988485, -1.7275411926016029, -0.22279057745760433, -0.014174013152534099, 0.046397927392791756, -1.3337624718506451, 1.191976549469535, -0.7183098682670902, -2.4698721321587866, 0.9613881312364033, 1.6833606698696069, 0.42850756621014996, -1.1454449405585065, -0.08662254675121947, -0.9450585843005394, -0.33298677114239544, 0.4657326635014758, -0.9691697286478733, 0.62175588895002, 1.0299919541363, 0.8649747554739001, -0.6744088289128711, -0.6033349561993983, -0.6337091078175451, -0.08477989487573509, 0.9323883959280738, 0.1652884033603895, -0.6339840048762202, 1.0507406443717582, 1.0573753846404983, 0.6636757389865048, 1.3299452315771907, -2.410944620637584, 0.02666908427756707, -1.2376861153521053, 1.7238750523134125, -0.5086058475096568, -0.17507279212476282, 0.5475713496593823, -1.4259641401525398, 0.05369385509694605, -0.9299640092735049, 0.11079782824479513, 0.0736336796198157, -1.1284780669103156, 2.3268805893841846, 0.7353143553716142, 0.5747292489874314, 0.0061658081593460685, -0.8142937126202369, -0.5898683598036754, -1.2427151574703632, -1.6405760554796995, -1.175831136187835, 1.149180086490129, -0.18251913868620054, -1.0876933367660377, 0.9976299359074137, 0.4003239380906782, 0.2617838634232212, -0.32829660836018465, -0.23248596879774558, -0.14820288716904675, 0.6253052461591179, 2.685060965111488, -1.0063500799681528, 0.6364210137912422, 0.4341464126761938, -0.6846913415382077, 0.03168060938323212, 0.9653244668758755, 0.2539811926246748, 0.19839824105941936, 1.7403553998585106, 0.08270043220181753, -0.27786186641225313, -2.558636455467326, 0.13711812987282768, -3.113999236124563, -0.875019859368395, 0.4439283319975627, -0.9614670575196685, -1.8034029714721953, -0.028070800567166057, 0.6141861352213069, -0.8745255066793514, -1.3864506353507577, 0.9687999866524937, 0.3151400059457273, 0.2900335524231588, 0.17169407679562926, 0.7406298316795756, 2.1758669248629254, 2.277915743638747]}, {\"boxpoints\": false, \"line\": {\"width\": 1.3}, \"marker\": {\"color\": \"rgba(50, 171, 96, 1.0)\"}, \"name\": \"C\", \"orientation\": \"v\", \"type\": \"box\", \"y\": [-0.3788015313202212, 1.256762231295425, -0.8306300375628289, -0.4608964149762124, 0.8403424244494432, 1.382446688545958, -0.6648836286791291, -1.219886004139807, -0.2667387299528493, 0.5637496816006109, -0.22579301283267872, -0.4453936088138776, -0.15907827396625296, 0.3188589022283024, -0.49120530496722187, 1.1713785524378253, 0.2890678697829857, 0.22533111201464287, 0.5561921151720705, -0.99041241400968, 0.39497006397390916, 0.07844922125051666, -1.7713057250695605, -0.25905732239853096, 0.15315464636697984, -1.110420311156213, -0.3957901769918868, -0.8205317576014358, -0.21560993396833739, -1.8620014563420701, 3.2984642851881505, 0.06214774861774642, 0.9286263489991817, -1.209408037624237, 0.6946553240463219, -0.6185088427971893, -0.017783693049615926, 1.5449245975139039, -0.15206213305347338, -1.9825608980930653, 1.3817460352203639, 0.03299365426770661, -0.05988533865434531, -0.4727955916530704, 0.15993493017843194, 0.9624712884103498, -0.0652689903471656, 0.32292198225665547, 0.7542099788658005, -0.538579659456351, -1.651282827813881, -1.5066685189357847, -0.591096521344276, 0.11415136327812293, 0.7601189954766393, -1.809259553258281, -0.10767748365051709, -1.5180254739925352, -0.8758650425416121, 1.594704343412804, -0.3621068285076178, 0.46617400533619474, -0.04456531740033875, 0.20350725328813968, 0.43859372092595994, -1.1963691799216696, -0.03610936369111613, -1.3583044466536425, 0.917267703545791, -0.8232825321337947, 1.1318480834374294, -0.754699171130626, 0.2658900823377884, 0.8706654067258455, -0.27004721301889606, -0.9770383142387139, -0.28752871067961044, -1.0502547160445979, 0.7914363174433269, 2.0409131427270615, -0.21684446951038677, 0.17069481759767355, -2.9664272071875293, -0.600310081255409, 2.2387352422545326, -0.20946565899667627, -0.3215864917094097, -1.1453247812042877, -1.0164123491429509, 1.82079047930281, -0.3459161939231618, 1.2015699247574514, -1.3615378521065202, 0.7967606125654182, 0.13520136165040794, -1.5800820323218054, -2.106418155858577, 0.26803487769489037, -1.512463224626046, 0.7996005123284501]}, {\"boxpoints\": false, \"line\": {\"width\": 1.3}, \"marker\": {\"color\": \"rgba(128, 0, 128, 1.0)\"}, \"name\": \"D\", \"orientation\": \"v\", \"type\": \"box\", \"y\": [-0.11638704796165784, -0.7002249145000803, -0.7559517130326966, 1.1305922656785876, -0.6038578300924019, -1.075086901430937, -0.3989676241763057, -0.8895140403200313, 0.0949517121580332, -0.7161291245309929, 0.0661068785899851, 1.0901273098596156, 0.6772356135465372, -0.5041475983570313, -0.3053154132514319, 0.27148079247714174, -0.18156190976840691, 0.16379448272566335, 0.9721880440901653, -1.5115428542507243, 0.09880160039176525, 0.1883791691285031, 0.2875295713790334, 0.2508200922256019, 0.37144140897188865, -1.5125712150306476, -0.3000500023828874, -1.4467564617646498, 0.7668413260168058, -1.128039398386622, 0.371943048263021, -1.8846930751494804, 0.23396193895397652, 1.1239652961702076, 1.4113780100828497, -0.22112432300555643, 0.21879206094552822, 0.34764710207640953, 2.5572739518495244, -0.05991313736641319, -0.6831361628447226, 0.3135594473854501, -1.3364626676182996, -0.14272899360938457, -1.089432561463353, -0.08470708103908872, -0.8853361125929256, 0.2592699559282212, -2.9290632225906483, -0.7642963581491048, -0.3701098414195931, -1.1733328554821236, 0.5684291090514618, 1.3622976081754778, 0.5065257571645497, -0.7669619501828306, 0.5952589165064289, 0.12063091104041283, -2.1699314453784986, 0.9525797703035719, 1.303118247161537, 0.18775132553756985, 0.2778295995170414, 1.1118376295674957, 0.7276850289295383, 0.07484264237616128, -0.8830055985098384, 0.4958469514420254, 1.300077430444035, 0.46653962453374265, 0.5651443336213451, 0.37321775159292236, 0.6589956641659104, -0.5534074522898599, 0.5235284057923568, 0.9349812129515604, 0.7218050715715093, -1.5295165082248794, 0.7650670984673281, 1.1349556998344372, -0.9037193947920661, 0.3267269140908282, 0.274083206935181, 0.05836425297423308, 1.7752998946512923, -0.7772049067537251, -1.9177958253796348, 0.9108021670541938, 0.3538857001900387, 0.5398070189471809, -0.574290715555816, -1.5783354313272537, 0.5691760158559603, -0.16036901495118402, -0.30034135049553096, 0.962259425746051, 0.180304955729948, 0.24236432568462, 0.2446800239178959, -0.013385992364696949]}],\n",
       "                        {\"legend\": {\"bgcolor\": \"#F5F6F9\", \"font\": {\"color\": \"#4D5663\"}}, \"paper_bgcolor\": \"#F5F6F9\", \"plot_bgcolor\": \"#F5F6F9\", \"template\": {\"data\": {\"bar\": [{\"error_x\": {\"color\": \"#2a3f5f\"}, \"error_y\": {\"color\": \"#2a3f5f\"}, \"marker\": {\"line\": {\"color\": \"#E5ECF6\", \"width\": 0.5}}, \"type\": \"bar\"}], \"barpolar\": [{\"marker\": {\"line\": {\"color\": \"#E5ECF6\", \"width\": 0.5}}, \"type\": \"barpolar\"}], \"carpet\": [{\"aaxis\": {\"endlinecolor\": \"#2a3f5f\", \"gridcolor\": \"white\", \"linecolor\": \"white\", \"minorgridcolor\": \"white\", \"startlinecolor\": \"#2a3f5f\"}, \"baxis\": {\"endlinecolor\": \"#2a3f5f\", \"gridcolor\": \"white\", \"linecolor\": \"white\", \"minorgridcolor\": \"white\", \"startlinecolor\": \"#2a3f5f\"}, \"type\": \"carpet\"}], \"choropleth\": [{\"colorbar\": {\"outlinewidth\": 0, \"ticks\": \"\"}, \"type\": \"choropleth\"}], \"contour\": [{\"colorbar\": {\"outlinewidth\": 0, \"ticks\": \"\"}, \"colorscale\": [[0.0, \"#0d0887\"], [0.1111111111111111, \"#46039f\"], [0.2222222222222222, \"#7201a8\"], [0.3333333333333333, \"#9c179e\"], [0.4444444444444444, \"#bd3786\"], [0.5555555555555556, \"#d8576b\"], [0.6666666666666666, \"#ed7953\"], [0.7777777777777778, \"#fb9f3a\"], [0.8888888888888888, \"#fdca26\"], [1.0, \"#f0f921\"]], \"type\": \"contour\"}], \"contourcarpet\": [{\"colorbar\": {\"outlinewidth\": 0, \"ticks\": \"\"}, \"type\": \"contourcarpet\"}], \"heatmap\": [{\"colorbar\": {\"outlinewidth\": 0, \"ticks\": \"\"}, \"colorscale\": [[0.0, \"#0d0887\"], [0.1111111111111111, \"#46039f\"], [0.2222222222222222, \"#7201a8\"], [0.3333333333333333, \"#9c179e\"], [0.4444444444444444, \"#bd3786\"], [0.5555555555555556, \"#d8576b\"], [0.6666666666666666, \"#ed7953\"], [0.7777777777777778, \"#fb9f3a\"], [0.8888888888888888, \"#fdca26\"], [1.0, \"#f0f921\"]], \"type\": \"heatmap\"}], \"heatmapgl\": [{\"colorbar\": {\"outlinewidth\": 0, \"ticks\": \"\"}, \"colorscale\": [[0.0, \"#0d0887\"], [0.1111111111111111, \"#46039f\"], [0.2222222222222222, \"#7201a8\"], [0.3333333333333333, \"#9c179e\"], [0.4444444444444444, \"#bd3786\"], [0.5555555555555556, \"#d8576b\"], [0.6666666666666666, \"#ed7953\"], [0.7777777777777778, \"#fb9f3a\"], [0.8888888888888888, \"#fdca26\"], [1.0, \"#f0f921\"]], \"type\": \"heatmapgl\"}], \"histogram\": [{\"marker\": {\"colorbar\": {\"outlinewidth\": 0, \"ticks\": \"\"}}, \"type\": \"histogram\"}], \"histogram2d\": [{\"colorbar\": {\"outlinewidth\": 0, \"ticks\": \"\"}, \"colorscale\": [[0.0, \"#0d0887\"], [0.1111111111111111, \"#46039f\"], [0.2222222222222222, \"#7201a8\"], [0.3333333333333333, \"#9c179e\"], [0.4444444444444444, \"#bd3786\"], [0.5555555555555556, \"#d8576b\"], [0.6666666666666666, \"#ed7953\"], [0.7777777777777778, \"#fb9f3a\"], [0.8888888888888888, \"#fdca26\"], [1.0, \"#f0f921\"]], \"type\": \"histogram2d\"}], \"histogram2dcontour\": [{\"colorbar\": {\"outlinewidth\": 0, \"ticks\": \"\"}, \"colorscale\": [[0.0, \"#0d0887\"], [0.1111111111111111, \"#46039f\"], [0.2222222222222222, \"#7201a8\"], [0.3333333333333333, \"#9c179e\"], [0.4444444444444444, \"#bd3786\"], [0.5555555555555556, \"#d8576b\"], [0.6666666666666666, \"#ed7953\"], [0.7777777777777778, \"#fb9f3a\"], [0.8888888888888888, \"#fdca26\"], [1.0, \"#f0f921\"]], \"type\": \"histogram2dcontour\"}], \"mesh3d\": [{\"colorbar\": {\"outlinewidth\": 0, \"ticks\": \"\"}, \"type\": \"mesh3d\"}], \"parcoords\": [{\"line\": {\"colorbar\": {\"outlinewidth\": 0, \"ticks\": \"\"}}, \"type\": \"parcoords\"}], \"pie\": [{\"automargin\": true, \"type\": \"pie\"}], \"scatter\": [{\"marker\": {\"colorbar\": {\"outlinewidth\": 0, \"ticks\": \"\"}}, \"type\": \"scatter\"}], \"scatter3d\": [{\"line\": {\"colorbar\": {\"outlinewidth\": 0, \"ticks\": \"\"}}, \"marker\": {\"colorbar\": {\"outlinewidth\": 0, \"ticks\": \"\"}}, \"type\": \"scatter3d\"}], \"scattercarpet\": [{\"marker\": {\"colorbar\": {\"outlinewidth\": 0, \"ticks\": \"\"}}, \"type\": \"scattercarpet\"}], \"scattergeo\": [{\"marker\": {\"colorbar\": {\"outlinewidth\": 0, \"ticks\": \"\"}}, \"type\": \"scattergeo\"}], \"scattergl\": [{\"marker\": {\"colorbar\": {\"outlinewidth\": 0, \"ticks\": \"\"}}, \"type\": \"scattergl\"}], \"scattermapbox\": [{\"marker\": {\"colorbar\": {\"outlinewidth\": 0, \"ticks\": \"\"}}, \"type\": \"scattermapbox\"}], \"scatterpolar\": [{\"marker\": {\"colorbar\": {\"outlinewidth\": 0, \"ticks\": \"\"}}, \"type\": \"scatterpolar\"}], \"scatterpolargl\": [{\"marker\": {\"colorbar\": {\"outlinewidth\": 0, \"ticks\": \"\"}}, \"type\": \"scatterpolargl\"}], \"scatterternary\": [{\"marker\": {\"colorbar\": {\"outlinewidth\": 0, \"ticks\": \"\"}}, \"type\": \"scatterternary\"}], \"surface\": [{\"colorbar\": {\"outlinewidth\": 0, \"ticks\": \"\"}, \"colorscale\": [[0.0, \"#0d0887\"], [0.1111111111111111, \"#46039f\"], [0.2222222222222222, \"#7201a8\"], [0.3333333333333333, \"#9c179e\"], [0.4444444444444444, \"#bd3786\"], [0.5555555555555556, \"#d8576b\"], [0.6666666666666666, \"#ed7953\"], [0.7777777777777778, \"#fb9f3a\"], [0.8888888888888888, \"#fdca26\"], [1.0, \"#f0f921\"]], \"type\": \"surface\"}], \"table\": [{\"cells\": {\"fill\": {\"color\": \"#EBF0F8\"}, \"line\": {\"color\": \"white\"}}, \"header\": {\"fill\": {\"color\": \"#C8D4E3\"}, \"line\": {\"color\": \"white\"}}, \"type\": \"table\"}]}, \"layout\": {\"annotationdefaults\": {\"arrowcolor\": \"#2a3f5f\", \"arrowhead\": 0, \"arrowwidth\": 1}, \"coloraxis\": {\"colorbar\": {\"outlinewidth\": 0, \"ticks\": \"\"}}, \"colorscale\": {\"diverging\": [[0, \"#8e0152\"], [0.1, \"#c51b7d\"], [0.2, \"#de77ae\"], [0.3, \"#f1b6da\"], [0.4, \"#fde0ef\"], [0.5, \"#f7f7f7\"], [0.6, \"#e6f5d0\"], [0.7, \"#b8e186\"], [0.8, \"#7fbc41\"], [0.9, \"#4d9221\"], [1, \"#276419\"]], \"sequential\": [[0.0, \"#0d0887\"], [0.1111111111111111, \"#46039f\"], [0.2222222222222222, \"#7201a8\"], [0.3333333333333333, \"#9c179e\"], [0.4444444444444444, \"#bd3786\"], [0.5555555555555556, \"#d8576b\"], [0.6666666666666666, \"#ed7953\"], [0.7777777777777778, \"#fb9f3a\"], [0.8888888888888888, \"#fdca26\"], [1.0, \"#f0f921\"]], \"sequentialminus\": [[0.0, \"#0d0887\"], [0.1111111111111111, \"#46039f\"], [0.2222222222222222, \"#7201a8\"], [0.3333333333333333, \"#9c179e\"], [0.4444444444444444, \"#bd3786\"], [0.5555555555555556, \"#d8576b\"], [0.6666666666666666, \"#ed7953\"], [0.7777777777777778, \"#fb9f3a\"], [0.8888888888888888, \"#fdca26\"], [1.0, \"#f0f921\"]]}, \"colorway\": [\"#636efa\", \"#EF553B\", \"#00cc96\", \"#ab63fa\", \"#FFA15A\", \"#19d3f3\", \"#FF6692\", \"#B6E880\", \"#FF97FF\", \"#FECB52\"], \"font\": {\"color\": \"#2a3f5f\"}, \"geo\": {\"bgcolor\": \"white\", \"lakecolor\": \"white\", \"landcolor\": \"#E5ECF6\", \"showlakes\": true, \"showland\": true, \"subunitcolor\": \"white\"}, \"hoverlabel\": {\"align\": \"left\"}, \"hovermode\": \"closest\", \"mapbox\": {\"style\": \"light\"}, \"paper_bgcolor\": \"white\", \"plot_bgcolor\": \"#E5ECF6\", \"polar\": {\"angularaxis\": {\"gridcolor\": \"white\", \"linecolor\": \"white\", \"ticks\": \"\"}, \"bgcolor\": \"#E5ECF6\", \"radialaxis\": {\"gridcolor\": \"white\", \"linecolor\": \"white\", \"ticks\": \"\"}}, \"scene\": {\"xaxis\": {\"backgroundcolor\": \"#E5ECF6\", \"gridcolor\": \"white\", \"gridwidth\": 2, \"linecolor\": \"white\", \"showbackground\": true, \"ticks\": \"\", \"zerolinecolor\": \"white\"}, \"yaxis\": {\"backgroundcolor\": \"#E5ECF6\", \"gridcolor\": \"white\", \"gridwidth\": 2, \"linecolor\": \"white\", \"showbackground\": true, \"ticks\": \"\", \"zerolinecolor\": \"white\"}, \"zaxis\": {\"backgroundcolor\": \"#E5ECF6\", \"gridcolor\": \"white\", \"gridwidth\": 2, \"linecolor\": \"white\", \"showbackground\": true, \"ticks\": \"\", \"zerolinecolor\": \"white\"}}, \"shapedefaults\": {\"line\": {\"color\": \"#2a3f5f\"}}, \"ternary\": {\"aaxis\": {\"gridcolor\": \"white\", \"linecolor\": \"white\", \"ticks\": \"\"}, \"baxis\": {\"gridcolor\": \"white\", \"linecolor\": \"white\", \"ticks\": \"\"}, \"bgcolor\": \"#E5ECF6\", \"caxis\": {\"gridcolor\": \"white\", \"linecolor\": \"white\", \"ticks\": \"\"}}, \"title\": {\"x\": 0.05}, \"xaxis\": {\"automargin\": true, \"gridcolor\": \"white\", \"linecolor\": \"white\", \"ticks\": \"\", \"title\": {\"standoff\": 15}, \"zerolinecolor\": \"white\", \"zerolinewidth\": 2}, \"yaxis\": {\"automargin\": true, \"gridcolor\": \"white\", \"linecolor\": \"white\", \"ticks\": \"\", \"title\": {\"standoff\": 15}, \"zerolinecolor\": \"white\", \"zerolinewidth\": 2}}}, \"title\": {\"font\": {\"color\": \"#4D5663\"}}, \"xaxis\": {\"gridcolor\": \"#E1E5ED\", \"showgrid\": true, \"tickfont\": {\"color\": \"#4D5663\"}, \"title\": {\"font\": {\"color\": \"#4D5663\"}, \"text\": \"\"}, \"zerolinecolor\": \"#E1E5ED\"}, \"yaxis\": {\"gridcolor\": \"#E1E5ED\", \"showgrid\": true, \"tickfont\": {\"color\": \"#4D5663\"}, \"title\": {\"font\": {\"color\": \"#4D5663\"}, \"text\": \"\"}, \"zerolinecolor\": \"#E1E5ED\"}},\n",
       "                        {\"showLink\": true, \"linkText\": \"Export to plot.ly\", \"plotlyServerURL\": \"https://plot.ly\", \"responsive\": true}\n",
       "                    ).then(function(){\n",
       "                            \n",
       "var gd = document.getElementById('fffb38d0-c72e-4bec-a63a-0c20fb56e48c');\n",
       "var x = new MutationObserver(function (mutations, observer) {{\n",
       "        var display = window.getComputedStyle(gd).display;\n",
       "        if (!display || display === 'none') {{\n",
       "            console.log([gd, 'removed!']);\n",
       "            Plotly.purge(gd);\n",
       "            observer.disconnect();\n",
       "        }}\n",
       "}});\n",
       "\n",
       "// Listen for the removal of the full notebook cells\n",
       "var notebookContainer = gd.closest('#notebook-container');\n",
       "if (notebookContainer) {{\n",
       "    x.observe(notebookContainer, {childList: true});\n",
       "}}\n",
       "\n",
       "// Listen for the clearing of the current output cell\n",
       "var outputEl = gd.closest('.output');\n",
       "if (outputEl) {{\n",
       "    x.observe(outputEl, {childList: true});\n",
       "}}\n",
       "\n",
       "                        })\n",
       "                };\n",
       "                });\n",
       "            </script>\n",
       "        </div>"
      ]
     },
     "metadata": {},
     "output_type": "display_data"
    }
   ],
   "source": [
    "df.iplot(kind='box')"
   ]
  },
  {
   "cell_type": "markdown",
   "metadata": {},
   "source": [
    "## 3d Surface"
   ]
  },
  {
   "cell_type": "code",
   "execution_count": 16,
   "metadata": {},
   "outputs": [
    {
     "data": {
      "application/vnd.plotly.v1+json": {
       "config": {
        "linkText": "Export to plot.ly",
        "plotlyServerURL": "https://plot.ly",
        "showLink": true
       },
       "data": [
        {
         "colorscale": [
          [
           0,
           "rgb(165,0,38)"
          ],
          [
           0.1,
           "rgb(215,48,39)"
          ],
          [
           0.2,
           "rgb(244,109,67)"
          ],
          [
           0.3,
           "rgb(253,174,97)"
          ],
          [
           0.4,
           "rgb(254,224,144)"
          ],
          [
           0.5,
           "rgb(255,255,191)"
          ],
          [
           0.6,
           "rgb(224,243,248)"
          ],
          [
           0.7,
           "rgb(171,217,233)"
          ],
          [
           0.8,
           "rgb(116,173,209)"
          ],
          [
           0.9,
           "rgb(69,117,180)"
          ],
          [
           1,
           "rgb(49,54,149)"
          ]
         ],
         "type": "surface",
         "x": [
          0,
          1,
          2,
          3,
          4
         ],
         "y": [
          "x",
          "y",
          "z"
         ],
         "z": [
          [
           1,
           2,
           3,
           4,
           5
          ],
          [
           10,
           20,
           30,
           20,
           10
          ],
          [
           5,
           4,
           3,
           2,
           1
          ]
         ]
        }
       ],
       "layout": {
        "legend": {
         "bgcolor": "#F5F6F9",
         "font": {
          "color": "#4D5663"
         }
        },
        "paper_bgcolor": "#F5F6F9",
        "plot_bgcolor": "#F5F6F9",
        "template": {
         "data": {
          "bar": [
           {
            "error_x": {
             "color": "#2a3f5f"
            },
            "error_y": {
             "color": "#2a3f5f"
            },
            "marker": {
             "line": {
              "color": "#E5ECF6",
              "width": 0.5
             }
            },
            "type": "bar"
           }
          ],
          "barpolar": [
           {
            "marker": {
             "line": {
              "color": "#E5ECF6",
              "width": 0.5
             }
            },
            "type": "barpolar"
           }
          ],
          "carpet": [
           {
            "aaxis": {
             "endlinecolor": "#2a3f5f",
             "gridcolor": "white",
             "linecolor": "white",
             "minorgridcolor": "white",
             "startlinecolor": "#2a3f5f"
            },
            "baxis": {
             "endlinecolor": "#2a3f5f",
             "gridcolor": "white",
             "linecolor": "white",
             "minorgridcolor": "white",
             "startlinecolor": "#2a3f5f"
            },
            "type": "carpet"
           }
          ],
          "choropleth": [
           {
            "colorbar": {
             "outlinewidth": 0,
             "ticks": ""
            },
            "type": "choropleth"
           }
          ],
          "contour": [
           {
            "colorbar": {
             "outlinewidth": 0,
             "ticks": ""
            },
            "colorscale": [
             [
              0,
              "#0d0887"
             ],
             [
              0.1111111111111111,
              "#46039f"
             ],
             [
              0.2222222222222222,
              "#7201a8"
             ],
             [
              0.3333333333333333,
              "#9c179e"
             ],
             [
              0.4444444444444444,
              "#bd3786"
             ],
             [
              0.5555555555555556,
              "#d8576b"
             ],
             [
              0.6666666666666666,
              "#ed7953"
             ],
             [
              0.7777777777777778,
              "#fb9f3a"
             ],
             [
              0.8888888888888888,
              "#fdca26"
             ],
             [
              1,
              "#f0f921"
             ]
            ],
            "type": "contour"
           }
          ],
          "contourcarpet": [
           {
            "colorbar": {
             "outlinewidth": 0,
             "ticks": ""
            },
            "type": "contourcarpet"
           }
          ],
          "heatmap": [
           {
            "colorbar": {
             "outlinewidth": 0,
             "ticks": ""
            },
            "colorscale": [
             [
              0,
              "#0d0887"
             ],
             [
              0.1111111111111111,
              "#46039f"
             ],
             [
              0.2222222222222222,
              "#7201a8"
             ],
             [
              0.3333333333333333,
              "#9c179e"
             ],
             [
              0.4444444444444444,
              "#bd3786"
             ],
             [
              0.5555555555555556,
              "#d8576b"
             ],
             [
              0.6666666666666666,
              "#ed7953"
             ],
             [
              0.7777777777777778,
              "#fb9f3a"
             ],
             [
              0.8888888888888888,
              "#fdca26"
             ],
             [
              1,
              "#f0f921"
             ]
            ],
            "type": "heatmap"
           }
          ],
          "heatmapgl": [
           {
            "colorbar": {
             "outlinewidth": 0,
             "ticks": ""
            },
            "colorscale": [
             [
              0,
              "#0d0887"
             ],
             [
              0.1111111111111111,
              "#46039f"
             ],
             [
              0.2222222222222222,
              "#7201a8"
             ],
             [
              0.3333333333333333,
              "#9c179e"
             ],
             [
              0.4444444444444444,
              "#bd3786"
             ],
             [
              0.5555555555555556,
              "#d8576b"
             ],
             [
              0.6666666666666666,
              "#ed7953"
             ],
             [
              0.7777777777777778,
              "#fb9f3a"
             ],
             [
              0.8888888888888888,
              "#fdca26"
             ],
             [
              1,
              "#f0f921"
             ]
            ],
            "type": "heatmapgl"
           }
          ],
          "histogram": [
           {
            "marker": {
             "colorbar": {
              "outlinewidth": 0,
              "ticks": ""
             }
            },
            "type": "histogram"
           }
          ],
          "histogram2d": [
           {
            "colorbar": {
             "outlinewidth": 0,
             "ticks": ""
            },
            "colorscale": [
             [
              0,
              "#0d0887"
             ],
             [
              0.1111111111111111,
              "#46039f"
             ],
             [
              0.2222222222222222,
              "#7201a8"
             ],
             [
              0.3333333333333333,
              "#9c179e"
             ],
             [
              0.4444444444444444,
              "#bd3786"
             ],
             [
              0.5555555555555556,
              "#d8576b"
             ],
             [
              0.6666666666666666,
              "#ed7953"
             ],
             [
              0.7777777777777778,
              "#fb9f3a"
             ],
             [
              0.8888888888888888,
              "#fdca26"
             ],
             [
              1,
              "#f0f921"
             ]
            ],
            "type": "histogram2d"
           }
          ],
          "histogram2dcontour": [
           {
            "colorbar": {
             "outlinewidth": 0,
             "ticks": ""
            },
            "colorscale": [
             [
              0,
              "#0d0887"
             ],
             [
              0.1111111111111111,
              "#46039f"
             ],
             [
              0.2222222222222222,
              "#7201a8"
             ],
             [
              0.3333333333333333,
              "#9c179e"
             ],
             [
              0.4444444444444444,
              "#bd3786"
             ],
             [
              0.5555555555555556,
              "#d8576b"
             ],
             [
              0.6666666666666666,
              "#ed7953"
             ],
             [
              0.7777777777777778,
              "#fb9f3a"
             ],
             [
              0.8888888888888888,
              "#fdca26"
             ],
             [
              1,
              "#f0f921"
             ]
            ],
            "type": "histogram2dcontour"
           }
          ],
          "mesh3d": [
           {
            "colorbar": {
             "outlinewidth": 0,
             "ticks": ""
            },
            "type": "mesh3d"
           }
          ],
          "parcoords": [
           {
            "line": {
             "colorbar": {
              "outlinewidth": 0,
              "ticks": ""
             }
            },
            "type": "parcoords"
           }
          ],
          "pie": [
           {
            "automargin": true,
            "type": "pie"
           }
          ],
          "scatter": [
           {
            "marker": {
             "colorbar": {
              "outlinewidth": 0,
              "ticks": ""
             }
            },
            "type": "scatter"
           }
          ],
          "scatter3d": [
           {
            "line": {
             "colorbar": {
              "outlinewidth": 0,
              "ticks": ""
             }
            },
            "marker": {
             "colorbar": {
              "outlinewidth": 0,
              "ticks": ""
             }
            },
            "type": "scatter3d"
           }
          ],
          "scattercarpet": [
           {
            "marker": {
             "colorbar": {
              "outlinewidth": 0,
              "ticks": ""
             }
            },
            "type": "scattercarpet"
           }
          ],
          "scattergeo": [
           {
            "marker": {
             "colorbar": {
              "outlinewidth": 0,
              "ticks": ""
             }
            },
            "type": "scattergeo"
           }
          ],
          "scattergl": [
           {
            "marker": {
             "colorbar": {
              "outlinewidth": 0,
              "ticks": ""
             }
            },
            "type": "scattergl"
           }
          ],
          "scattermapbox": [
           {
            "marker": {
             "colorbar": {
              "outlinewidth": 0,
              "ticks": ""
             }
            },
            "type": "scattermapbox"
           }
          ],
          "scatterpolar": [
           {
            "marker": {
             "colorbar": {
              "outlinewidth": 0,
              "ticks": ""
             }
            },
            "type": "scatterpolar"
           }
          ],
          "scatterpolargl": [
           {
            "marker": {
             "colorbar": {
              "outlinewidth": 0,
              "ticks": ""
             }
            },
            "type": "scatterpolargl"
           }
          ],
          "scatterternary": [
           {
            "marker": {
             "colorbar": {
              "outlinewidth": 0,
              "ticks": ""
             }
            },
            "type": "scatterternary"
           }
          ],
          "surface": [
           {
            "colorbar": {
             "outlinewidth": 0,
             "ticks": ""
            },
            "colorscale": [
             [
              0,
              "#0d0887"
             ],
             [
              0.1111111111111111,
              "#46039f"
             ],
             [
              0.2222222222222222,
              "#7201a8"
             ],
             [
              0.3333333333333333,
              "#9c179e"
             ],
             [
              0.4444444444444444,
              "#bd3786"
             ],
             [
              0.5555555555555556,
              "#d8576b"
             ],
             [
              0.6666666666666666,
              "#ed7953"
             ],
             [
              0.7777777777777778,
              "#fb9f3a"
             ],
             [
              0.8888888888888888,
              "#fdca26"
             ],
             [
              1,
              "#f0f921"
             ]
            ],
            "type": "surface"
           }
          ],
          "table": [
           {
            "cells": {
             "fill": {
              "color": "#EBF0F8"
             },
             "line": {
              "color": "white"
             }
            },
            "header": {
             "fill": {
              "color": "#C8D4E3"
             },
             "line": {
              "color": "white"
             }
            },
            "type": "table"
           }
          ]
         },
         "layout": {
          "annotationdefaults": {
           "arrowcolor": "#2a3f5f",
           "arrowhead": 0,
           "arrowwidth": 1
          },
          "coloraxis": {
           "colorbar": {
            "outlinewidth": 0,
            "ticks": ""
           }
          },
          "colorscale": {
           "diverging": [
            [
             0,
             "#8e0152"
            ],
            [
             0.1,
             "#c51b7d"
            ],
            [
             0.2,
             "#de77ae"
            ],
            [
             0.3,
             "#f1b6da"
            ],
            [
             0.4,
             "#fde0ef"
            ],
            [
             0.5,
             "#f7f7f7"
            ],
            [
             0.6,
             "#e6f5d0"
            ],
            [
             0.7,
             "#b8e186"
            ],
            [
             0.8,
             "#7fbc41"
            ],
            [
             0.9,
             "#4d9221"
            ],
            [
             1,
             "#276419"
            ]
           ],
           "sequential": [
            [
             0,
             "#0d0887"
            ],
            [
             0.1111111111111111,
             "#46039f"
            ],
            [
             0.2222222222222222,
             "#7201a8"
            ],
            [
             0.3333333333333333,
             "#9c179e"
            ],
            [
             0.4444444444444444,
             "#bd3786"
            ],
            [
             0.5555555555555556,
             "#d8576b"
            ],
            [
             0.6666666666666666,
             "#ed7953"
            ],
            [
             0.7777777777777778,
             "#fb9f3a"
            ],
            [
             0.8888888888888888,
             "#fdca26"
            ],
            [
             1,
             "#f0f921"
            ]
           ],
           "sequentialminus": [
            [
             0,
             "#0d0887"
            ],
            [
             0.1111111111111111,
             "#46039f"
            ],
            [
             0.2222222222222222,
             "#7201a8"
            ],
            [
             0.3333333333333333,
             "#9c179e"
            ],
            [
             0.4444444444444444,
             "#bd3786"
            ],
            [
             0.5555555555555556,
             "#d8576b"
            ],
            [
             0.6666666666666666,
             "#ed7953"
            ],
            [
             0.7777777777777778,
             "#fb9f3a"
            ],
            [
             0.8888888888888888,
             "#fdca26"
            ],
            [
             1,
             "#f0f921"
            ]
           ]
          },
          "colorway": [
           "#636efa",
           "#EF553B",
           "#00cc96",
           "#ab63fa",
           "#FFA15A",
           "#19d3f3",
           "#FF6692",
           "#B6E880",
           "#FF97FF",
           "#FECB52"
          ],
          "font": {
           "color": "#2a3f5f"
          },
          "geo": {
           "bgcolor": "white",
           "lakecolor": "white",
           "landcolor": "#E5ECF6",
           "showlakes": true,
           "showland": true,
           "subunitcolor": "white"
          },
          "hoverlabel": {
           "align": "left"
          },
          "hovermode": "closest",
          "mapbox": {
           "style": "light"
          },
          "paper_bgcolor": "white",
          "plot_bgcolor": "#E5ECF6",
          "polar": {
           "angularaxis": {
            "gridcolor": "white",
            "linecolor": "white",
            "ticks": ""
           },
           "bgcolor": "#E5ECF6",
           "radialaxis": {
            "gridcolor": "white",
            "linecolor": "white",
            "ticks": ""
           }
          },
          "scene": {
           "xaxis": {
            "backgroundcolor": "#E5ECF6",
            "gridcolor": "white",
            "gridwidth": 2,
            "linecolor": "white",
            "showbackground": true,
            "ticks": "",
            "zerolinecolor": "white"
           },
           "yaxis": {
            "backgroundcolor": "#E5ECF6",
            "gridcolor": "white",
            "gridwidth": 2,
            "linecolor": "white",
            "showbackground": true,
            "ticks": "",
            "zerolinecolor": "white"
           },
           "zaxis": {
            "backgroundcolor": "#E5ECF6",
            "gridcolor": "white",
            "gridwidth": 2,
            "linecolor": "white",
            "showbackground": true,
            "ticks": "",
            "zerolinecolor": "white"
           }
          },
          "shapedefaults": {
           "line": {
            "color": "#2a3f5f"
           }
          },
          "ternary": {
           "aaxis": {
            "gridcolor": "white",
            "linecolor": "white",
            "ticks": ""
           },
           "baxis": {
            "gridcolor": "white",
            "linecolor": "white",
            "ticks": ""
           },
           "bgcolor": "#E5ECF6",
           "caxis": {
            "gridcolor": "white",
            "linecolor": "white",
            "ticks": ""
           }
          },
          "title": {
           "x": 0.05
          },
          "xaxis": {
           "automargin": true,
           "gridcolor": "white",
           "linecolor": "white",
           "ticks": "",
           "title": {
            "standoff": 15
           },
           "zerolinecolor": "white",
           "zerolinewidth": 2
          },
          "yaxis": {
           "automargin": true,
           "gridcolor": "white",
           "linecolor": "white",
           "ticks": "",
           "title": {
            "standoff": 15
           },
           "zerolinecolor": "white",
           "zerolinewidth": 2
          }
         }
        },
        "title": {
         "font": {
          "color": "#4D5663"
         }
        },
        "xaxis": {
         "gridcolor": "#E1E5ED",
         "showgrid": true,
         "tickfont": {
          "color": "#4D5663"
         },
         "title": {
          "font": {
           "color": "#4D5663"
          },
          "text": ""
         },
         "zerolinecolor": "#E1E5ED"
        },
        "yaxis": {
         "gridcolor": "#E1E5ED",
         "showgrid": true,
         "tickfont": {
          "color": "#4D5663"
         },
         "title": {
          "font": {
           "color": "#4D5663"
          },
          "text": ""
         },
         "zerolinecolor": "#E1E5ED"
        }
       }
      },
      "text/html": [
       "<div>\n",
       "        \n",
       "        \n",
       "            <div id=\"2faaab45-b283-47f8-85db-c057cf962b48\" class=\"plotly-graph-div\" style=\"height:525px; width:100%;\"></div>\n",
       "            <script type=\"text/javascript\">\n",
       "                require([\"plotly\"], function(Plotly) {\n",
       "                    window.PLOTLYENV=window.PLOTLYENV || {};\n",
       "                    window.PLOTLYENV.BASE_URL='https://plot.ly';\n",
       "                    \n",
       "                if (document.getElementById(\"2faaab45-b283-47f8-85db-c057cf962b48\")) {\n",
       "                    Plotly.newPlot(\n",
       "                        '2faaab45-b283-47f8-85db-c057cf962b48',\n",
       "                        [{\"colorscale\": [[0.0, \"rgb(165,0,38)\"], [0.1, \"rgb(215,48,39)\"], [0.2, \"rgb(244,109,67)\"], [0.3, \"rgb(253,174,97)\"], [0.4, \"rgb(254,224,144)\"], [0.5, \"rgb(255,255,191)\"], [0.6, \"rgb(224,243,248)\"], [0.7, \"rgb(171,217,233)\"], [0.8, \"rgb(116,173,209)\"], [0.9, \"rgb(69,117,180)\"], [1.0, \"rgb(49,54,149)\"]], \"type\": \"surface\", \"x\": [0, 1, 2, 3, 4], \"y\": [\"x\", \"y\", \"z\"], \"z\": [[1, 2, 3, 4, 5], [10, 20, 30, 20, 10], [5, 4, 3, 2, 1]]}],\n",
       "                        {\"legend\": {\"bgcolor\": \"#F5F6F9\", \"font\": {\"color\": \"#4D5663\"}}, \"paper_bgcolor\": \"#F5F6F9\", \"plot_bgcolor\": \"#F5F6F9\", \"template\": {\"data\": {\"bar\": [{\"error_x\": {\"color\": \"#2a3f5f\"}, \"error_y\": {\"color\": \"#2a3f5f\"}, \"marker\": {\"line\": {\"color\": \"#E5ECF6\", \"width\": 0.5}}, \"type\": \"bar\"}], \"barpolar\": [{\"marker\": {\"line\": {\"color\": \"#E5ECF6\", \"width\": 0.5}}, \"type\": \"barpolar\"}], \"carpet\": [{\"aaxis\": {\"endlinecolor\": \"#2a3f5f\", \"gridcolor\": \"white\", \"linecolor\": \"white\", \"minorgridcolor\": \"white\", \"startlinecolor\": \"#2a3f5f\"}, \"baxis\": {\"endlinecolor\": \"#2a3f5f\", \"gridcolor\": \"white\", \"linecolor\": \"white\", \"minorgridcolor\": \"white\", \"startlinecolor\": \"#2a3f5f\"}, \"type\": \"carpet\"}], \"choropleth\": [{\"colorbar\": {\"outlinewidth\": 0, \"ticks\": \"\"}, \"type\": \"choropleth\"}], \"contour\": [{\"colorbar\": {\"outlinewidth\": 0, \"ticks\": \"\"}, \"colorscale\": [[0.0, \"#0d0887\"], [0.1111111111111111, \"#46039f\"], [0.2222222222222222, \"#7201a8\"], [0.3333333333333333, \"#9c179e\"], [0.4444444444444444, \"#bd3786\"], [0.5555555555555556, \"#d8576b\"], [0.6666666666666666, \"#ed7953\"], [0.7777777777777778, \"#fb9f3a\"], [0.8888888888888888, \"#fdca26\"], [1.0, \"#f0f921\"]], \"type\": \"contour\"}], \"contourcarpet\": [{\"colorbar\": {\"outlinewidth\": 0, \"ticks\": \"\"}, \"type\": \"contourcarpet\"}], \"heatmap\": [{\"colorbar\": {\"outlinewidth\": 0, \"ticks\": \"\"}, \"colorscale\": [[0.0, \"#0d0887\"], [0.1111111111111111, \"#46039f\"], [0.2222222222222222, \"#7201a8\"], [0.3333333333333333, \"#9c179e\"], [0.4444444444444444, \"#bd3786\"], [0.5555555555555556, \"#d8576b\"], [0.6666666666666666, \"#ed7953\"], [0.7777777777777778, \"#fb9f3a\"], [0.8888888888888888, \"#fdca26\"], [1.0, \"#f0f921\"]], \"type\": \"heatmap\"}], \"heatmapgl\": [{\"colorbar\": {\"outlinewidth\": 0, \"ticks\": \"\"}, \"colorscale\": [[0.0, \"#0d0887\"], [0.1111111111111111, \"#46039f\"], [0.2222222222222222, \"#7201a8\"], [0.3333333333333333, \"#9c179e\"], [0.4444444444444444, \"#bd3786\"], [0.5555555555555556, \"#d8576b\"], [0.6666666666666666, \"#ed7953\"], [0.7777777777777778, \"#fb9f3a\"], [0.8888888888888888, \"#fdca26\"], [1.0, \"#f0f921\"]], \"type\": \"heatmapgl\"}], \"histogram\": [{\"marker\": {\"colorbar\": {\"outlinewidth\": 0, \"ticks\": \"\"}}, \"type\": \"histogram\"}], \"histogram2d\": [{\"colorbar\": {\"outlinewidth\": 0, \"ticks\": \"\"}, \"colorscale\": [[0.0, \"#0d0887\"], [0.1111111111111111, \"#46039f\"], [0.2222222222222222, \"#7201a8\"], [0.3333333333333333, \"#9c179e\"], [0.4444444444444444, \"#bd3786\"], [0.5555555555555556, \"#d8576b\"], [0.6666666666666666, \"#ed7953\"], [0.7777777777777778, \"#fb9f3a\"], [0.8888888888888888, \"#fdca26\"], [1.0, \"#f0f921\"]], \"type\": \"histogram2d\"}], \"histogram2dcontour\": [{\"colorbar\": {\"outlinewidth\": 0, \"ticks\": \"\"}, \"colorscale\": [[0.0, \"#0d0887\"], [0.1111111111111111, \"#46039f\"], [0.2222222222222222, \"#7201a8\"], [0.3333333333333333, \"#9c179e\"], [0.4444444444444444, \"#bd3786\"], [0.5555555555555556, \"#d8576b\"], [0.6666666666666666, \"#ed7953\"], [0.7777777777777778, \"#fb9f3a\"], [0.8888888888888888, \"#fdca26\"], [1.0, \"#f0f921\"]], \"type\": \"histogram2dcontour\"}], \"mesh3d\": [{\"colorbar\": {\"outlinewidth\": 0, \"ticks\": \"\"}, \"type\": \"mesh3d\"}], \"parcoords\": [{\"line\": {\"colorbar\": {\"outlinewidth\": 0, \"ticks\": \"\"}}, \"type\": \"parcoords\"}], \"pie\": [{\"automargin\": true, \"type\": \"pie\"}], \"scatter\": [{\"marker\": {\"colorbar\": {\"outlinewidth\": 0, \"ticks\": \"\"}}, \"type\": \"scatter\"}], \"scatter3d\": [{\"line\": {\"colorbar\": {\"outlinewidth\": 0, \"ticks\": \"\"}}, \"marker\": {\"colorbar\": {\"outlinewidth\": 0, \"ticks\": \"\"}}, \"type\": \"scatter3d\"}], \"scattercarpet\": [{\"marker\": {\"colorbar\": {\"outlinewidth\": 0, \"ticks\": \"\"}}, \"type\": \"scattercarpet\"}], \"scattergeo\": [{\"marker\": {\"colorbar\": {\"outlinewidth\": 0, \"ticks\": \"\"}}, \"type\": \"scattergeo\"}], \"scattergl\": [{\"marker\": {\"colorbar\": {\"outlinewidth\": 0, \"ticks\": \"\"}}, \"type\": \"scattergl\"}], \"scattermapbox\": [{\"marker\": {\"colorbar\": {\"outlinewidth\": 0, \"ticks\": \"\"}}, \"type\": \"scattermapbox\"}], \"scatterpolar\": [{\"marker\": {\"colorbar\": {\"outlinewidth\": 0, \"ticks\": \"\"}}, \"type\": \"scatterpolar\"}], \"scatterpolargl\": [{\"marker\": {\"colorbar\": {\"outlinewidth\": 0, \"ticks\": \"\"}}, \"type\": \"scatterpolargl\"}], \"scatterternary\": [{\"marker\": {\"colorbar\": {\"outlinewidth\": 0, \"ticks\": \"\"}}, \"type\": \"scatterternary\"}], \"surface\": [{\"colorbar\": {\"outlinewidth\": 0, \"ticks\": \"\"}, \"colorscale\": [[0.0, \"#0d0887\"], [0.1111111111111111, \"#46039f\"], [0.2222222222222222, \"#7201a8\"], [0.3333333333333333, \"#9c179e\"], [0.4444444444444444, \"#bd3786\"], [0.5555555555555556, \"#d8576b\"], [0.6666666666666666, \"#ed7953\"], [0.7777777777777778, \"#fb9f3a\"], [0.8888888888888888, \"#fdca26\"], [1.0, \"#f0f921\"]], \"type\": \"surface\"}], \"table\": [{\"cells\": {\"fill\": {\"color\": \"#EBF0F8\"}, \"line\": {\"color\": \"white\"}}, \"header\": {\"fill\": {\"color\": \"#C8D4E3\"}, \"line\": {\"color\": \"white\"}}, \"type\": \"table\"}]}, \"layout\": {\"annotationdefaults\": {\"arrowcolor\": \"#2a3f5f\", \"arrowhead\": 0, \"arrowwidth\": 1}, \"coloraxis\": {\"colorbar\": {\"outlinewidth\": 0, \"ticks\": \"\"}}, \"colorscale\": {\"diverging\": [[0, \"#8e0152\"], [0.1, \"#c51b7d\"], [0.2, \"#de77ae\"], [0.3, \"#f1b6da\"], [0.4, \"#fde0ef\"], [0.5, \"#f7f7f7\"], [0.6, \"#e6f5d0\"], [0.7, \"#b8e186\"], [0.8, \"#7fbc41\"], [0.9, \"#4d9221\"], [1, \"#276419\"]], \"sequential\": [[0.0, \"#0d0887\"], [0.1111111111111111, \"#46039f\"], [0.2222222222222222, \"#7201a8\"], [0.3333333333333333, \"#9c179e\"], [0.4444444444444444, \"#bd3786\"], [0.5555555555555556, \"#d8576b\"], [0.6666666666666666, \"#ed7953\"], [0.7777777777777778, \"#fb9f3a\"], [0.8888888888888888, \"#fdca26\"], [1.0, \"#f0f921\"]], \"sequentialminus\": [[0.0, \"#0d0887\"], [0.1111111111111111, \"#46039f\"], [0.2222222222222222, \"#7201a8\"], [0.3333333333333333, \"#9c179e\"], [0.4444444444444444, \"#bd3786\"], [0.5555555555555556, \"#d8576b\"], [0.6666666666666666, \"#ed7953\"], [0.7777777777777778, \"#fb9f3a\"], [0.8888888888888888, \"#fdca26\"], [1.0, \"#f0f921\"]]}, \"colorway\": [\"#636efa\", \"#EF553B\", \"#00cc96\", \"#ab63fa\", \"#FFA15A\", \"#19d3f3\", \"#FF6692\", \"#B6E880\", \"#FF97FF\", \"#FECB52\"], \"font\": {\"color\": \"#2a3f5f\"}, \"geo\": {\"bgcolor\": \"white\", \"lakecolor\": \"white\", \"landcolor\": \"#E5ECF6\", \"showlakes\": true, \"showland\": true, \"subunitcolor\": \"white\"}, \"hoverlabel\": {\"align\": \"left\"}, \"hovermode\": \"closest\", \"mapbox\": {\"style\": \"light\"}, \"paper_bgcolor\": \"white\", \"plot_bgcolor\": \"#E5ECF6\", \"polar\": {\"angularaxis\": {\"gridcolor\": \"white\", \"linecolor\": \"white\", \"ticks\": \"\"}, \"bgcolor\": \"#E5ECF6\", \"radialaxis\": {\"gridcolor\": \"white\", \"linecolor\": \"white\", \"ticks\": \"\"}}, \"scene\": {\"xaxis\": {\"backgroundcolor\": \"#E5ECF6\", \"gridcolor\": \"white\", \"gridwidth\": 2, \"linecolor\": \"white\", \"showbackground\": true, \"ticks\": \"\", \"zerolinecolor\": \"white\"}, \"yaxis\": {\"backgroundcolor\": \"#E5ECF6\", \"gridcolor\": \"white\", \"gridwidth\": 2, \"linecolor\": \"white\", \"showbackground\": true, \"ticks\": \"\", \"zerolinecolor\": \"white\"}, \"zaxis\": {\"backgroundcolor\": \"#E5ECF6\", \"gridcolor\": \"white\", \"gridwidth\": 2, \"linecolor\": \"white\", \"showbackground\": true, \"ticks\": \"\", \"zerolinecolor\": \"white\"}}, \"shapedefaults\": {\"line\": {\"color\": \"#2a3f5f\"}}, \"ternary\": {\"aaxis\": {\"gridcolor\": \"white\", \"linecolor\": \"white\", \"ticks\": \"\"}, \"baxis\": {\"gridcolor\": \"white\", \"linecolor\": \"white\", \"ticks\": \"\"}, \"bgcolor\": \"#E5ECF6\", \"caxis\": {\"gridcolor\": \"white\", \"linecolor\": \"white\", \"ticks\": \"\"}}, \"title\": {\"x\": 0.05}, \"xaxis\": {\"automargin\": true, \"gridcolor\": \"white\", \"linecolor\": \"white\", \"ticks\": \"\", \"title\": {\"standoff\": 15}, \"zerolinecolor\": \"white\", \"zerolinewidth\": 2}, \"yaxis\": {\"automargin\": true, \"gridcolor\": \"white\", \"linecolor\": \"white\", \"ticks\": \"\", \"title\": {\"standoff\": 15}, \"zerolinecolor\": \"white\", \"zerolinewidth\": 2}}}, \"title\": {\"font\": {\"color\": \"#4D5663\"}}, \"xaxis\": {\"gridcolor\": \"#E1E5ED\", \"showgrid\": true, \"tickfont\": {\"color\": \"#4D5663\"}, \"title\": {\"font\": {\"color\": \"#4D5663\"}, \"text\": \"\"}, \"zerolinecolor\": \"#E1E5ED\"}, \"yaxis\": {\"gridcolor\": \"#E1E5ED\", \"showgrid\": true, \"tickfont\": {\"color\": \"#4D5663\"}, \"title\": {\"font\": {\"color\": \"#4D5663\"}, \"text\": \"\"}, \"zerolinecolor\": \"#E1E5ED\"}},\n",
       "                        {\"showLink\": true, \"linkText\": \"Export to plot.ly\", \"plotlyServerURL\": \"https://plot.ly\", \"responsive\": true}\n",
       "                    ).then(function(){\n",
       "                            \n",
       "var gd = document.getElementById('2faaab45-b283-47f8-85db-c057cf962b48');\n",
       "var x = new MutationObserver(function (mutations, observer) {{\n",
       "        var display = window.getComputedStyle(gd).display;\n",
       "        if (!display || display === 'none') {{\n",
       "            console.log([gd, 'removed!']);\n",
       "            Plotly.purge(gd);\n",
       "            observer.disconnect();\n",
       "        }}\n",
       "}});\n",
       "\n",
       "// Listen for the removal of the full notebook cells\n",
       "var notebookContainer = gd.closest('#notebook-container');\n",
       "if (notebookContainer) {{\n",
       "    x.observe(notebookContainer, {childList: true});\n",
       "}}\n",
       "\n",
       "// Listen for the clearing of the current output cell\n",
       "var outputEl = gd.closest('.output');\n",
       "if (outputEl) {{\n",
       "    x.observe(outputEl, {childList: true});\n",
       "}}\n",
       "\n",
       "                        })\n",
       "                };\n",
       "                });\n",
       "            </script>\n",
       "        </div>"
      ]
     },
     "metadata": {},
     "output_type": "display_data"
    }
   ],
   "source": [
    "df3 = pd.DataFrame({'x':[1,2,3,4,5],'y':[10,20,30,20,10],'z':[5,4,3,2,1]})\n",
    "df3.iplot(kind='surface',colorscale='rdylbu')"
   ]
  },
  {
   "cell_type": "markdown",
   "metadata": {},
   "source": [
    "## Spread"
   ]
  },
  {
   "cell_type": "code",
   "execution_count": 18,
   "metadata": {},
   "outputs": [
    {
     "name": "stderr",
     "output_type": "stream",
     "text": [
      "C:\\Users\\Punit\\anaconda3\\envs\\datasc\\lib\\site-packages\\cufflinks\\plotlytools.py:849: FutureWarning:\n",
      "\n",
      "The pandas.np module is deprecated and will be removed from pandas in a future version. Import numpy directly instead\n",
      "\n",
      "C:\\Users\\Punit\\anaconda3\\envs\\datasc\\lib\\site-packages\\cufflinks\\plotlytools.py:850: FutureWarning:\n",
      "\n",
      "The pandas.np module is deprecated and will be removed from pandas in a future version. Import numpy directly instead\n",
      "\n"
     ]
    },
    {
     "data": {
      "application/vnd.plotly.v1+json": {
       "config": {
        "linkText": "Export to plot.ly",
        "plotlyServerURL": "https://plot.ly",
        "showLink": true
       },
       "data": [
        {
         "line": {
          "color": "rgba(255, 153, 51, 1.0)",
          "dash": "solid",
          "shape": "linear",
          "width": 1.3
         },
         "mode": "lines",
         "name": "A",
         "text": "",
         "type": "scatter",
         "x": [
          0,
          1,
          2,
          3,
          4,
          5,
          6,
          7,
          8,
          9,
          10,
          11,
          12,
          13,
          14,
          15,
          16,
          17,
          18,
          19,
          20,
          21,
          22,
          23,
          24,
          25,
          26,
          27,
          28,
          29,
          30,
          31,
          32,
          33,
          34,
          35,
          36,
          37,
          38,
          39,
          40,
          41,
          42,
          43,
          44,
          45,
          46,
          47,
          48,
          49,
          50,
          51,
          52,
          53,
          54,
          55,
          56,
          57,
          58,
          59,
          60,
          61,
          62,
          63,
          64,
          65,
          66,
          67,
          68,
          69,
          70,
          71,
          72,
          73,
          74,
          75,
          76,
          77,
          78,
          79,
          80,
          81,
          82,
          83,
          84,
          85,
          86,
          87,
          88,
          89,
          90,
          91,
          92,
          93,
          94,
          95,
          96,
          97,
          98,
          99
         ],
         "y": [
          -0.0015585409020748443,
          0.8458864735345376,
          0.934414068172041,
          -1.299225287036096,
          -0.612313161810921,
          -1.9164219425202789,
          -0.23256760125329407,
          1.0920556656230416,
          -0.4662237559745914,
          0.11813620238621023,
          -0.3893305872383898,
          0.3524367390130047,
          0.6267049137115619,
          -2.0098283113102333,
          -0.42224277438234714,
          1.4834140075387432,
          0.0007950478259361682,
          -0.6043585953862748,
          0.4071176027713737,
          -1.4138220890082105,
          2.077707538654815,
          0.4768952209629994,
          1.3895053923630198,
          2.3244999824807198,
          -1.189297270602611,
          0.8722982996347064,
          2.2937988533328246,
          0.06467962016505363,
          -0.13633788837817873,
          -1.7836787475237632,
          0.22566002203532615,
          0.20566852075458583,
          -0.018339853278318195,
          -0.5654481912867622,
          -0.5078139751819283,
          0.8275904894419189,
          -0.5203960037208601,
          -0.41352349293990387,
          2.1181837053232897,
          -0.4590426190787295,
          1.2319084700892855,
          -0.5358681790349643,
          -0.498364296101095,
          0.9232038731051508,
          -0.2814992874895402,
          0.24769175172286134,
          0.2328949255804648,
          0.5473351367722717,
          0.9498326281204514,
          -1.8075122019812093,
          -0.16476749353990988,
          0.5752186600567579,
          0.13051060072420054,
          0.3498771676815099,
          0.40281032759571855,
          -0.950111217346983,
          1.1638492951727184,
          0.7788802320291295,
          -1.2857935794971982,
          1.622091453349334,
          0.8678849327369677,
          -0.5048785146381843,
          -0.4896243146193713,
          -0.010709110981634063,
          1.006602249430079,
          -0.40568483350162055,
          1.3087894411891126,
          0.190062600400811,
          1.0379437685082251,
          0.2029558624259573,
          1.2943640286010194,
          -1.1492525100133704,
          1.9470511979586185,
          -1.1750359924184552,
          -0.7121663439038282,
          -0.3725103090728009,
          0.8444841630918083,
          0.6485746069267528,
          0.8839137048866836,
          1.8032268952420396,
          0.5001484387119923,
          1.896484110324483,
          1.654298132548488,
          1.4071820106911808,
          -0.6308051064388178,
          0.3196782094684533,
          -1.4042278558123713,
          -0.30363620969810856,
          0.33937227389870644,
          -1.3141396770051583,
          1.7301125955143941,
          1.473261447646321,
          -1.2404429659357479,
          0.41453891492567924,
          0.8491352380137746,
          0.06291390210273382,
          0.8957023727937828,
          -0.8297378450246963,
          -0.15546745233405063,
          0.06115899148576859
         ]
        },
        {
         "line": {
          "color": "rgba(55, 128, 191, 1.0)",
          "dash": "solid",
          "shape": "linear",
          "width": 1.3
         },
         "mode": "lines",
         "name": "B",
         "text": "",
         "type": "scatter",
         "x": [
          0,
          1,
          2,
          3,
          4,
          5,
          6,
          7,
          8,
          9,
          10,
          11,
          12,
          13,
          14,
          15,
          16,
          17,
          18,
          19,
          20,
          21,
          22,
          23,
          24,
          25,
          26,
          27,
          28,
          29,
          30,
          31,
          32,
          33,
          34,
          35,
          36,
          37,
          38,
          39,
          40,
          41,
          42,
          43,
          44,
          45,
          46,
          47,
          48,
          49,
          50,
          51,
          52,
          53,
          54,
          55,
          56,
          57,
          58,
          59,
          60,
          61,
          62,
          63,
          64,
          65,
          66,
          67,
          68,
          69,
          70,
          71,
          72,
          73,
          74,
          75,
          76,
          77,
          78,
          79,
          80,
          81,
          82,
          83,
          84,
          85,
          86,
          87,
          88,
          89,
          90,
          91,
          92,
          93,
          94,
          95,
          96,
          97,
          98,
          99
         ],
         "y": [
          1.0175800614285233,
          -1.2381697268039793,
          0.7844385814995347,
          0.30504309679334424,
          0.07113000211751754,
          0.5464945125562095,
          1.1557504557988485,
          -1.7275411926016029,
          -0.22279057745760433,
          -0.014174013152534099,
          0.046397927392791756,
          -1.3337624718506451,
          1.191976549469535,
          -0.7183098682670902,
          -2.4698721321587866,
          0.9613881312364033,
          1.6833606698696069,
          0.42850756621014996,
          -1.1454449405585065,
          -0.08662254675121947,
          -0.9450585843005394,
          -0.33298677114239544,
          0.4657326635014758,
          -0.9691697286478733,
          0.62175588895002,
          1.0299919541363,
          0.8649747554739001,
          -0.6744088289128711,
          -0.6033349561993983,
          -0.6337091078175451,
          -0.08477989487573509,
          0.9323883959280738,
          0.1652884033603895,
          -0.6339840048762202,
          1.0507406443717582,
          1.0573753846404983,
          0.6636757389865048,
          1.3299452315771907,
          -2.410944620637584,
          0.02666908427756707,
          -1.2376861153521053,
          1.7238750523134125,
          -0.5086058475096568,
          -0.17507279212476282,
          0.5475713496593823,
          -1.4259641401525398,
          0.05369385509694605,
          -0.9299640092735049,
          0.11079782824479513,
          0.0736336796198157,
          -1.1284780669103156,
          2.3268805893841846,
          0.7353143553716142,
          0.5747292489874314,
          0.0061658081593460685,
          -0.8142937126202369,
          -0.5898683598036754,
          -1.2427151574703632,
          -1.6405760554796995,
          -1.175831136187835,
          1.149180086490129,
          -0.18251913868620054,
          -1.0876933367660377,
          0.9976299359074137,
          0.4003239380906782,
          0.2617838634232212,
          -0.32829660836018465,
          -0.23248596879774558,
          -0.14820288716904675,
          0.6253052461591179,
          2.685060965111488,
          -1.0063500799681528,
          0.6364210137912422,
          0.4341464126761938,
          -0.6846913415382077,
          0.03168060938323212,
          0.9653244668758755,
          0.2539811926246748,
          0.19839824105941936,
          1.7403553998585106,
          0.08270043220181753,
          -0.27786186641225313,
          -2.558636455467326,
          0.13711812987282768,
          -3.113999236124563,
          -0.875019859368395,
          0.4439283319975627,
          -0.9614670575196685,
          -1.8034029714721953,
          -0.028070800567166057,
          0.6141861352213069,
          -0.8745255066793514,
          -1.3864506353507577,
          0.9687999866524937,
          0.3151400059457273,
          0.2900335524231588,
          0.17169407679562926,
          0.7406298316795756,
          2.1758669248629254,
          2.277915743638747
         ]
        },
        {
         "connectgaps": false,
         "fill": "tozeroy",
         "line": {
          "color": "green",
          "dash": "solid",
          "shape": "linear",
          "width": 0.5
         },
         "mode": "lines",
         "name": "Spread",
         "showlegend": false,
         "type": "scatter",
         "x": [
          0,
          1,
          2,
          3,
          4,
          5,
          6,
          7,
          8,
          9,
          10,
          11,
          12,
          13,
          14,
          15,
          16,
          17,
          18,
          19,
          20,
          21,
          22,
          23,
          24,
          25,
          26,
          27,
          28,
          29,
          30,
          31,
          32,
          33,
          34,
          35,
          36,
          37,
          38,
          39,
          40,
          41,
          42,
          43,
          44,
          45,
          46,
          47,
          48,
          49,
          50,
          51,
          52,
          53,
          54,
          55,
          56,
          57,
          58,
          59,
          60,
          61,
          62,
          63,
          64,
          65,
          66,
          67,
          68,
          69,
          70,
          71,
          72,
          73,
          74,
          75,
          76,
          77,
          78,
          79,
          80,
          81,
          82,
          83,
          84,
          85,
          86,
          87,
          88,
          89,
          90,
          91,
          92,
          93,
          94,
          95,
          96,
          97,
          98,
          99
         ],
         "xaxis": "x2",
         "y": [
          "",
          2.084056200338517,
          0.14997548667250626,
          "",
          "",
          "",
          "",
          2.8195968582246445,
          "",
          0.13231021553874434,
          "",
          1.6861992108636499,
          "",
          "",
          2.0476293577764393,
          0.5220258763023399,
          "",
          "",
          1.5525625433298802,
          "",
          3.0227661229553546,
          0.8098819921053948,
          0.923772728861544,
          3.293669711128593,
          "",
          "",
          1.4288240978589246,
          0.7390884490779248,
          0.4669970678212195,
          "",
          0.3104399169110612,
          "",
          "",
          0.06853581358945804,
          "",
          "",
          "",
          "",
          4.529128325960874,
          "",
          2.4695945854413908,
          "",
          0.010241551408561755,
          1.0982766652299136,
          "",
          1.6736558918754012,
          0.17920107048351874,
          1.4772991460457767,
          0.8390347998756563,
          "",
          0.9637105733704057,
          "",
          "",
          "",
          0.39664451943637247,
          "",
          1.7537176549763938,
          2.0215953894994927,
          0.35478247598250134,
          2.797922589537169,
          "",
          "",
          0.5980690221466665,
          "",
          0.6062783113394008,
          "",
          1.6370860495492972,
          0.42254856919855655,
          1.186146655677272,
          "",
          "",
          "",
          1.3106301841673762,
          "",
          "",
          "",
          "",
          0.39459341430207806,
          0.6855154638272642,
          0.06287149538352899,
          0.4174480065101748,
          2.174345976736736,
          4.212934588015814,
          1.270063880818353,
          2.4831941296857454,
          1.1946980688368483,
          "",
          0.65783084782156,
          2.1427752453709017,
          "",
          1.1159264602930872,
          2.3477869543256724,
          0.14600766941500987,
          "",
          0.5339952320680472,
          "",
          0.7240082959981535,
          "",
          "",
          ""
         ],
         "yaxis": "y2"
        },
        {
         "connectgaps": false,
         "fill": "tozeroy",
         "line": {
          "color": "red",
          "dash": "solid",
          "shape": "linear",
          "width": 0.5
         },
         "mode": "lines",
         "name": "Spread",
         "showlegend": false,
         "type": "scatter",
         "x": [
          0,
          1,
          2,
          3,
          4,
          5,
          6,
          7,
          8,
          9,
          10,
          11,
          12,
          13,
          14,
          15,
          16,
          17,
          18,
          19,
          20,
          21,
          22,
          23,
          24,
          25,
          26,
          27,
          28,
          29,
          30,
          31,
          32,
          33,
          34,
          35,
          36,
          37,
          38,
          39,
          40,
          41,
          42,
          43,
          44,
          45,
          46,
          47,
          48,
          49,
          50,
          51,
          52,
          53,
          54,
          55,
          56,
          57,
          58,
          59,
          60,
          61,
          62,
          63,
          64,
          65,
          66,
          67,
          68,
          69,
          70,
          71,
          72,
          73,
          74,
          75,
          76,
          77,
          78,
          79,
          80,
          81,
          82,
          83,
          84,
          85,
          86,
          87,
          88,
          89,
          90,
          91,
          92,
          93,
          94,
          95,
          96,
          97,
          98,
          99
         ],
         "xaxis": "x2",
         "y": [
          -1.0191386023305982,
          "",
          "",
          -1.6042683838294403,
          -0.6834431639284385,
          -2.4629164550764884,
          -1.3883180570521425,
          "",
          -0.2434331785169871,
          "",
          -0.43572851463118156,
          "",
          -0.565271635757973,
          -1.291518443043143,
          "",
          "",
          -1.6825656220436707,
          -1.0328661615964247,
          "",
          -1.327199542256991,
          "",
          "",
          "",
          "",
          -1.811053159552631,
          -0.15769365450159367,
          "",
          "",
          "",
          -1.1499696397062182,
          "",
          -0.7267198751734879,
          -0.1836282566387077,
          "",
          -1.5585546195536866,
          -0.22978489519857936,
          -1.1840717427073648,
          -1.7434687245170946,
          "",
          -0.4857117033562966,
          "",
          -2.2597432313483767,
          "",
          "",
          -0.8290706371489225,
          "",
          "",
          "",
          "",
          -1.8811458816010251,
          "",
          -1.7516619293274267,
          -0.6048037546474136,
          -0.2248520813059215,
          "",
          -0.13581750472674614,
          "",
          "",
          "",
          "",
          -0.2812951537531613,
          -0.32235937595198383,
          "",
          -1.0083390468890476,
          "",
          -0.6674686969248418,
          "",
          "",
          "",
          -0.42234938373316055,
          -1.3906969365104687,
          -0.14290243004521752,
          "",
          -1.609182405094649,
          -0.027475002365620504,
          -0.40419091845603305,
          -0.12084030378406718,
          "",
          "",
          "",
          "",
          "",
          "",
          "",
          "",
          "",
          -1.848156187809934,
          "",
          "",
          -1.2860688764379922,
          "",
          "",
          "",
          -0.5542610717268144,
          "",
          -0.227119650320425,
          "",
          -1.5703676767042718,
          -2.331334377196976,
          -2.2167567521529787
         ],
         "yaxis": "y2"
        }
       ],
       "layout": {
        "hovermode": "x",
        "legend": {
         "bgcolor": "#F5F6F9",
         "font": {
          "color": "#4D5663"
         }
        },
        "paper_bgcolor": "#F5F6F9",
        "plot_bgcolor": "#F5F6F9",
        "template": {
         "data": {
          "bar": [
           {
            "error_x": {
             "color": "#2a3f5f"
            },
            "error_y": {
             "color": "#2a3f5f"
            },
            "marker": {
             "line": {
              "color": "#E5ECF6",
              "width": 0.5
             }
            },
            "type": "bar"
           }
          ],
          "barpolar": [
           {
            "marker": {
             "line": {
              "color": "#E5ECF6",
              "width": 0.5
             }
            },
            "type": "barpolar"
           }
          ],
          "carpet": [
           {
            "aaxis": {
             "endlinecolor": "#2a3f5f",
             "gridcolor": "white",
             "linecolor": "white",
             "minorgridcolor": "white",
             "startlinecolor": "#2a3f5f"
            },
            "baxis": {
             "endlinecolor": "#2a3f5f",
             "gridcolor": "white",
             "linecolor": "white",
             "minorgridcolor": "white",
             "startlinecolor": "#2a3f5f"
            },
            "type": "carpet"
           }
          ],
          "choropleth": [
           {
            "colorbar": {
             "outlinewidth": 0,
             "ticks": ""
            },
            "type": "choropleth"
           }
          ],
          "contour": [
           {
            "colorbar": {
             "outlinewidth": 0,
             "ticks": ""
            },
            "colorscale": [
             [
              0,
              "#0d0887"
             ],
             [
              0.1111111111111111,
              "#46039f"
             ],
             [
              0.2222222222222222,
              "#7201a8"
             ],
             [
              0.3333333333333333,
              "#9c179e"
             ],
             [
              0.4444444444444444,
              "#bd3786"
             ],
             [
              0.5555555555555556,
              "#d8576b"
             ],
             [
              0.6666666666666666,
              "#ed7953"
             ],
             [
              0.7777777777777778,
              "#fb9f3a"
             ],
             [
              0.8888888888888888,
              "#fdca26"
             ],
             [
              1,
              "#f0f921"
             ]
            ],
            "type": "contour"
           }
          ],
          "contourcarpet": [
           {
            "colorbar": {
             "outlinewidth": 0,
             "ticks": ""
            },
            "type": "contourcarpet"
           }
          ],
          "heatmap": [
           {
            "colorbar": {
             "outlinewidth": 0,
             "ticks": ""
            },
            "colorscale": [
             [
              0,
              "#0d0887"
             ],
             [
              0.1111111111111111,
              "#46039f"
             ],
             [
              0.2222222222222222,
              "#7201a8"
             ],
             [
              0.3333333333333333,
              "#9c179e"
             ],
             [
              0.4444444444444444,
              "#bd3786"
             ],
             [
              0.5555555555555556,
              "#d8576b"
             ],
             [
              0.6666666666666666,
              "#ed7953"
             ],
             [
              0.7777777777777778,
              "#fb9f3a"
             ],
             [
              0.8888888888888888,
              "#fdca26"
             ],
             [
              1,
              "#f0f921"
             ]
            ],
            "type": "heatmap"
           }
          ],
          "heatmapgl": [
           {
            "colorbar": {
             "outlinewidth": 0,
             "ticks": ""
            },
            "colorscale": [
             [
              0,
              "#0d0887"
             ],
             [
              0.1111111111111111,
              "#46039f"
             ],
             [
              0.2222222222222222,
              "#7201a8"
             ],
             [
              0.3333333333333333,
              "#9c179e"
             ],
             [
              0.4444444444444444,
              "#bd3786"
             ],
             [
              0.5555555555555556,
              "#d8576b"
             ],
             [
              0.6666666666666666,
              "#ed7953"
             ],
             [
              0.7777777777777778,
              "#fb9f3a"
             ],
             [
              0.8888888888888888,
              "#fdca26"
             ],
             [
              1,
              "#f0f921"
             ]
            ],
            "type": "heatmapgl"
           }
          ],
          "histogram": [
           {
            "marker": {
             "colorbar": {
              "outlinewidth": 0,
              "ticks": ""
             }
            },
            "type": "histogram"
           }
          ],
          "histogram2d": [
           {
            "colorbar": {
             "outlinewidth": 0,
             "ticks": ""
            },
            "colorscale": [
             [
              0,
              "#0d0887"
             ],
             [
              0.1111111111111111,
              "#46039f"
             ],
             [
              0.2222222222222222,
              "#7201a8"
             ],
             [
              0.3333333333333333,
              "#9c179e"
             ],
             [
              0.4444444444444444,
              "#bd3786"
             ],
             [
              0.5555555555555556,
              "#d8576b"
             ],
             [
              0.6666666666666666,
              "#ed7953"
             ],
             [
              0.7777777777777778,
              "#fb9f3a"
             ],
             [
              0.8888888888888888,
              "#fdca26"
             ],
             [
              1,
              "#f0f921"
             ]
            ],
            "type": "histogram2d"
           }
          ],
          "histogram2dcontour": [
           {
            "colorbar": {
             "outlinewidth": 0,
             "ticks": ""
            },
            "colorscale": [
             [
              0,
              "#0d0887"
             ],
             [
              0.1111111111111111,
              "#46039f"
             ],
             [
              0.2222222222222222,
              "#7201a8"
             ],
             [
              0.3333333333333333,
              "#9c179e"
             ],
             [
              0.4444444444444444,
              "#bd3786"
             ],
             [
              0.5555555555555556,
              "#d8576b"
             ],
             [
              0.6666666666666666,
              "#ed7953"
             ],
             [
              0.7777777777777778,
              "#fb9f3a"
             ],
             [
              0.8888888888888888,
              "#fdca26"
             ],
             [
              1,
              "#f0f921"
             ]
            ],
            "type": "histogram2dcontour"
           }
          ],
          "mesh3d": [
           {
            "colorbar": {
             "outlinewidth": 0,
             "ticks": ""
            },
            "type": "mesh3d"
           }
          ],
          "parcoords": [
           {
            "line": {
             "colorbar": {
              "outlinewidth": 0,
              "ticks": ""
             }
            },
            "type": "parcoords"
           }
          ],
          "pie": [
           {
            "automargin": true,
            "type": "pie"
           }
          ],
          "scatter": [
           {
            "marker": {
             "colorbar": {
              "outlinewidth": 0,
              "ticks": ""
             }
            },
            "type": "scatter"
           }
          ],
          "scatter3d": [
           {
            "line": {
             "colorbar": {
              "outlinewidth": 0,
              "ticks": ""
             }
            },
            "marker": {
             "colorbar": {
              "outlinewidth": 0,
              "ticks": ""
             }
            },
            "type": "scatter3d"
           }
          ],
          "scattercarpet": [
           {
            "marker": {
             "colorbar": {
              "outlinewidth": 0,
              "ticks": ""
             }
            },
            "type": "scattercarpet"
           }
          ],
          "scattergeo": [
           {
            "marker": {
             "colorbar": {
              "outlinewidth": 0,
              "ticks": ""
             }
            },
            "type": "scattergeo"
           }
          ],
          "scattergl": [
           {
            "marker": {
             "colorbar": {
              "outlinewidth": 0,
              "ticks": ""
             }
            },
            "type": "scattergl"
           }
          ],
          "scattermapbox": [
           {
            "marker": {
             "colorbar": {
              "outlinewidth": 0,
              "ticks": ""
             }
            },
            "type": "scattermapbox"
           }
          ],
          "scatterpolar": [
           {
            "marker": {
             "colorbar": {
              "outlinewidth": 0,
              "ticks": ""
             }
            },
            "type": "scatterpolar"
           }
          ],
          "scatterpolargl": [
           {
            "marker": {
             "colorbar": {
              "outlinewidth": 0,
              "ticks": ""
             }
            },
            "type": "scatterpolargl"
           }
          ],
          "scatterternary": [
           {
            "marker": {
             "colorbar": {
              "outlinewidth": 0,
              "ticks": ""
             }
            },
            "type": "scatterternary"
           }
          ],
          "surface": [
           {
            "colorbar": {
             "outlinewidth": 0,
             "ticks": ""
            },
            "colorscale": [
             [
              0,
              "#0d0887"
             ],
             [
              0.1111111111111111,
              "#46039f"
             ],
             [
              0.2222222222222222,
              "#7201a8"
             ],
             [
              0.3333333333333333,
              "#9c179e"
             ],
             [
              0.4444444444444444,
              "#bd3786"
             ],
             [
              0.5555555555555556,
              "#d8576b"
             ],
             [
              0.6666666666666666,
              "#ed7953"
             ],
             [
              0.7777777777777778,
              "#fb9f3a"
             ],
             [
              0.8888888888888888,
              "#fdca26"
             ],
             [
              1,
              "#f0f921"
             ]
            ],
            "type": "surface"
           }
          ],
          "table": [
           {
            "cells": {
             "fill": {
              "color": "#EBF0F8"
             },
             "line": {
              "color": "white"
             }
            },
            "header": {
             "fill": {
              "color": "#C8D4E3"
             },
             "line": {
              "color": "white"
             }
            },
            "type": "table"
           }
          ]
         },
         "layout": {
          "annotationdefaults": {
           "arrowcolor": "#2a3f5f",
           "arrowhead": 0,
           "arrowwidth": 1
          },
          "coloraxis": {
           "colorbar": {
            "outlinewidth": 0,
            "ticks": ""
           }
          },
          "colorscale": {
           "diverging": [
            [
             0,
             "#8e0152"
            ],
            [
             0.1,
             "#c51b7d"
            ],
            [
             0.2,
             "#de77ae"
            ],
            [
             0.3,
             "#f1b6da"
            ],
            [
             0.4,
             "#fde0ef"
            ],
            [
             0.5,
             "#f7f7f7"
            ],
            [
             0.6,
             "#e6f5d0"
            ],
            [
             0.7,
             "#b8e186"
            ],
            [
             0.8,
             "#7fbc41"
            ],
            [
             0.9,
             "#4d9221"
            ],
            [
             1,
             "#276419"
            ]
           ],
           "sequential": [
            [
             0,
             "#0d0887"
            ],
            [
             0.1111111111111111,
             "#46039f"
            ],
            [
             0.2222222222222222,
             "#7201a8"
            ],
            [
             0.3333333333333333,
             "#9c179e"
            ],
            [
             0.4444444444444444,
             "#bd3786"
            ],
            [
             0.5555555555555556,
             "#d8576b"
            ],
            [
             0.6666666666666666,
             "#ed7953"
            ],
            [
             0.7777777777777778,
             "#fb9f3a"
            ],
            [
             0.8888888888888888,
             "#fdca26"
            ],
            [
             1,
             "#f0f921"
            ]
           ],
           "sequentialminus": [
            [
             0,
             "#0d0887"
            ],
            [
             0.1111111111111111,
             "#46039f"
            ],
            [
             0.2222222222222222,
             "#7201a8"
            ],
            [
             0.3333333333333333,
             "#9c179e"
            ],
            [
             0.4444444444444444,
             "#bd3786"
            ],
            [
             0.5555555555555556,
             "#d8576b"
            ],
            [
             0.6666666666666666,
             "#ed7953"
            ],
            [
             0.7777777777777778,
             "#fb9f3a"
            ],
            [
             0.8888888888888888,
             "#fdca26"
            ],
            [
             1,
             "#f0f921"
            ]
           ]
          },
          "colorway": [
           "#636efa",
           "#EF553B",
           "#00cc96",
           "#ab63fa",
           "#FFA15A",
           "#19d3f3",
           "#FF6692",
           "#B6E880",
           "#FF97FF",
           "#FECB52"
          ],
          "font": {
           "color": "#2a3f5f"
          },
          "geo": {
           "bgcolor": "white",
           "lakecolor": "white",
           "landcolor": "#E5ECF6",
           "showlakes": true,
           "showland": true,
           "subunitcolor": "white"
          },
          "hoverlabel": {
           "align": "left"
          },
          "hovermode": "closest",
          "mapbox": {
           "style": "light"
          },
          "paper_bgcolor": "white",
          "plot_bgcolor": "#E5ECF6",
          "polar": {
           "angularaxis": {
            "gridcolor": "white",
            "linecolor": "white",
            "ticks": ""
           },
           "bgcolor": "#E5ECF6",
           "radialaxis": {
            "gridcolor": "white",
            "linecolor": "white",
            "ticks": ""
           }
          },
          "scene": {
           "xaxis": {
            "backgroundcolor": "#E5ECF6",
            "gridcolor": "white",
            "gridwidth": 2,
            "linecolor": "white",
            "showbackground": true,
            "ticks": "",
            "zerolinecolor": "white"
           },
           "yaxis": {
            "backgroundcolor": "#E5ECF6",
            "gridcolor": "white",
            "gridwidth": 2,
            "linecolor": "white",
            "showbackground": true,
            "ticks": "",
            "zerolinecolor": "white"
           },
           "zaxis": {
            "backgroundcolor": "#E5ECF6",
            "gridcolor": "white",
            "gridwidth": 2,
            "linecolor": "white",
            "showbackground": true,
            "ticks": "",
            "zerolinecolor": "white"
           }
          },
          "shapedefaults": {
           "line": {
            "color": "#2a3f5f"
           }
          },
          "ternary": {
           "aaxis": {
            "gridcolor": "white",
            "linecolor": "white",
            "ticks": ""
           },
           "baxis": {
            "gridcolor": "white",
            "linecolor": "white",
            "ticks": ""
           },
           "bgcolor": "#E5ECF6",
           "caxis": {
            "gridcolor": "white",
            "linecolor": "white",
            "ticks": ""
           }
          },
          "title": {
           "x": 0.05
          },
          "xaxis": {
           "automargin": true,
           "gridcolor": "white",
           "linecolor": "white",
           "ticks": "",
           "title": {
            "standoff": 15
           },
           "zerolinecolor": "white",
           "zerolinewidth": 2
          },
          "yaxis": {
           "automargin": true,
           "gridcolor": "white",
           "linecolor": "white",
           "ticks": "",
           "title": {
            "standoff": 15
           },
           "zerolinecolor": "white",
           "zerolinewidth": 2
          }
         }
        },
        "title": {
         "font": {
          "color": "#4D5663"
         }
        },
        "xaxis": {
         "gridcolor": "#E1E5ED",
         "showgrid": true,
         "tickfont": {
          "color": "#4D5663"
         },
         "title": {
          "font": {
           "color": "#4D5663"
          },
          "text": ""
         },
         "zerolinecolor": "#E1E5ED"
        },
        "xaxis2": {
         "anchor": "y2",
         "gridcolor": "#E1E5ED",
         "showgrid": true,
         "showticklabels": false,
         "tickfont": {
          "color": "#4D5663"
         },
         "title": {
          "font": {
           "color": "#4D5663"
          },
          "text": ""
         },
         "zerolinecolor": "#E1E5ED"
        },
        "yaxis": {
         "domain": [
          0.3,
          1
         ],
         "gridcolor": "#E1E5ED",
         "showgrid": true,
         "tickfont": {
          "color": "#4D5663"
         },
         "title": {
          "font": {
           "color": "#4D5663"
          },
          "text": ""
         },
         "zerolinecolor": "#E1E5ED"
        },
        "yaxis2": {
         "domain": [
          0,
          0.25
         ],
         "gridcolor": "#E1E5ED",
         "showgrid": true,
         "tickfont": {
          "color": "#4D5663"
         },
         "title": {
          "font": {
           "color": "#4D5663"
          },
          "text": "Spread"
         },
         "zerolinecolor": "#E1E5ED"
        }
       }
      },
      "text/html": [
       "<div>\n",
       "        \n",
       "        \n",
       "            <div id=\"8b5e78d3-4c10-4f41-a70b-93c8819198ea\" class=\"plotly-graph-div\" style=\"height:525px; width:100%;\"></div>\n",
       "            <script type=\"text/javascript\">\n",
       "                require([\"plotly\"], function(Plotly) {\n",
       "                    window.PLOTLYENV=window.PLOTLYENV || {};\n",
       "                    window.PLOTLYENV.BASE_URL='https://plot.ly';\n",
       "                    \n",
       "                if (document.getElementById(\"8b5e78d3-4c10-4f41-a70b-93c8819198ea\")) {\n",
       "                    Plotly.newPlot(\n",
       "                        '8b5e78d3-4c10-4f41-a70b-93c8819198ea',\n",
       "                        [{\"line\": {\"color\": \"rgba(255, 153, 51, 1.0)\", \"dash\": \"solid\", \"shape\": \"linear\", \"width\": 1.3}, \"mode\": \"lines\", \"name\": \"A\", \"text\": \"\", \"type\": \"scatter\", \"x\": [0, 1, 2, 3, 4, 5, 6, 7, 8, 9, 10, 11, 12, 13, 14, 15, 16, 17, 18, 19, 20, 21, 22, 23, 24, 25, 26, 27, 28, 29, 30, 31, 32, 33, 34, 35, 36, 37, 38, 39, 40, 41, 42, 43, 44, 45, 46, 47, 48, 49, 50, 51, 52, 53, 54, 55, 56, 57, 58, 59, 60, 61, 62, 63, 64, 65, 66, 67, 68, 69, 70, 71, 72, 73, 74, 75, 76, 77, 78, 79, 80, 81, 82, 83, 84, 85, 86, 87, 88, 89, 90, 91, 92, 93, 94, 95, 96, 97, 98, 99], \"y\": [-0.0015585409020748443, 0.8458864735345376, 0.934414068172041, -1.299225287036096, -0.612313161810921, -1.9164219425202789, -0.23256760125329407, 1.0920556656230416, -0.4662237559745914, 0.11813620238621023, -0.3893305872383898, 0.3524367390130047, 0.6267049137115619, -2.0098283113102333, -0.42224277438234714, 1.4834140075387432, 0.0007950478259361682, -0.6043585953862748, 0.4071176027713737, -1.4138220890082105, 2.077707538654815, 0.4768952209629994, 1.3895053923630198, 2.3244999824807198, -1.189297270602611, 0.8722982996347064, 2.2937988533328246, 0.06467962016505363, -0.13633788837817873, -1.7836787475237632, 0.22566002203532615, 0.20566852075458583, -0.018339853278318195, -0.5654481912867622, -0.5078139751819283, 0.8275904894419189, -0.5203960037208601, -0.41352349293990387, 2.1181837053232897, -0.4590426190787295, 1.2319084700892855, -0.5358681790349643, -0.498364296101095, 0.9232038731051508, -0.2814992874895402, 0.24769175172286134, 0.2328949255804648, 0.5473351367722717, 0.9498326281204514, -1.8075122019812093, -0.16476749353990988, 0.5752186600567579, 0.13051060072420054, 0.3498771676815099, 0.40281032759571855, -0.950111217346983, 1.1638492951727184, 0.7788802320291295, -1.2857935794971982, 1.622091453349334, 0.8678849327369677, -0.5048785146381843, -0.4896243146193713, -0.010709110981634063, 1.006602249430079, -0.40568483350162055, 1.3087894411891126, 0.190062600400811, 1.0379437685082251, 0.2029558624259573, 1.2943640286010194, -1.1492525100133704, 1.9470511979586185, -1.1750359924184552, -0.7121663439038282, -0.3725103090728009, 0.8444841630918083, 0.6485746069267528, 0.8839137048866836, 1.8032268952420396, 0.5001484387119923, 1.896484110324483, 1.654298132548488, 1.4071820106911808, -0.6308051064388178, 0.3196782094684533, -1.4042278558123713, -0.30363620969810856, 0.33937227389870644, -1.3141396770051583, 1.7301125955143941, 1.473261447646321, -1.2404429659357479, 0.41453891492567924, 0.8491352380137746, 0.06291390210273382, 0.8957023727937828, -0.8297378450246963, -0.15546745233405063, 0.06115899148576859]}, {\"line\": {\"color\": \"rgba(55, 128, 191, 1.0)\", \"dash\": \"solid\", \"shape\": \"linear\", \"width\": 1.3}, \"mode\": \"lines\", \"name\": \"B\", \"text\": \"\", \"type\": \"scatter\", \"x\": [0, 1, 2, 3, 4, 5, 6, 7, 8, 9, 10, 11, 12, 13, 14, 15, 16, 17, 18, 19, 20, 21, 22, 23, 24, 25, 26, 27, 28, 29, 30, 31, 32, 33, 34, 35, 36, 37, 38, 39, 40, 41, 42, 43, 44, 45, 46, 47, 48, 49, 50, 51, 52, 53, 54, 55, 56, 57, 58, 59, 60, 61, 62, 63, 64, 65, 66, 67, 68, 69, 70, 71, 72, 73, 74, 75, 76, 77, 78, 79, 80, 81, 82, 83, 84, 85, 86, 87, 88, 89, 90, 91, 92, 93, 94, 95, 96, 97, 98, 99], \"y\": [1.0175800614285233, -1.2381697268039793, 0.7844385814995347, 0.30504309679334424, 0.07113000211751754, 0.5464945125562095, 1.1557504557988485, -1.7275411926016029, -0.22279057745760433, -0.014174013152534099, 0.046397927392791756, -1.3337624718506451, 1.191976549469535, -0.7183098682670902, -2.4698721321587866, 0.9613881312364033, 1.6833606698696069, 0.42850756621014996, -1.1454449405585065, -0.08662254675121947, -0.9450585843005394, -0.33298677114239544, 0.4657326635014758, -0.9691697286478733, 0.62175588895002, 1.0299919541363, 0.8649747554739001, -0.6744088289128711, -0.6033349561993983, -0.6337091078175451, -0.08477989487573509, 0.9323883959280738, 0.1652884033603895, -0.6339840048762202, 1.0507406443717582, 1.0573753846404983, 0.6636757389865048, 1.3299452315771907, -2.410944620637584, 0.02666908427756707, -1.2376861153521053, 1.7238750523134125, -0.5086058475096568, -0.17507279212476282, 0.5475713496593823, -1.4259641401525398, 0.05369385509694605, -0.9299640092735049, 0.11079782824479513, 0.0736336796198157, -1.1284780669103156, 2.3268805893841846, 0.7353143553716142, 0.5747292489874314, 0.0061658081593460685, -0.8142937126202369, -0.5898683598036754, -1.2427151574703632, -1.6405760554796995, -1.175831136187835, 1.149180086490129, -0.18251913868620054, -1.0876933367660377, 0.9976299359074137, 0.4003239380906782, 0.2617838634232212, -0.32829660836018465, -0.23248596879774558, -0.14820288716904675, 0.6253052461591179, 2.685060965111488, -1.0063500799681528, 0.6364210137912422, 0.4341464126761938, -0.6846913415382077, 0.03168060938323212, 0.9653244668758755, 0.2539811926246748, 0.19839824105941936, 1.7403553998585106, 0.08270043220181753, -0.27786186641225313, -2.558636455467326, 0.13711812987282768, -3.113999236124563, -0.875019859368395, 0.4439283319975627, -0.9614670575196685, -1.8034029714721953, -0.028070800567166057, 0.6141861352213069, -0.8745255066793514, -1.3864506353507577, 0.9687999866524937, 0.3151400059457273, 0.2900335524231588, 0.17169407679562926, 0.7406298316795756, 2.1758669248629254, 2.277915743638747]}, {\"connectgaps\": false, \"fill\": \"tozeroy\", \"line\": {\"color\": \"green\", \"dash\": \"solid\", \"shape\": \"linear\", \"width\": 0.5}, \"mode\": \"lines\", \"name\": \"Spread\", \"showlegend\": false, \"type\": \"scatter\", \"x\": [0, 1, 2, 3, 4, 5, 6, 7, 8, 9, 10, 11, 12, 13, 14, 15, 16, 17, 18, 19, 20, 21, 22, 23, 24, 25, 26, 27, 28, 29, 30, 31, 32, 33, 34, 35, 36, 37, 38, 39, 40, 41, 42, 43, 44, 45, 46, 47, 48, 49, 50, 51, 52, 53, 54, 55, 56, 57, 58, 59, 60, 61, 62, 63, 64, 65, 66, 67, 68, 69, 70, 71, 72, 73, 74, 75, 76, 77, 78, 79, 80, 81, 82, 83, 84, 85, 86, 87, 88, 89, 90, 91, 92, 93, 94, 95, 96, 97, 98, 99], \"xaxis\": \"x2\", \"y\": [\"\", 2.084056200338517, 0.14997548667250626, \"\", \"\", \"\", \"\", 2.8195968582246445, \"\", 0.13231021553874434, \"\", 1.6861992108636499, \"\", \"\", 2.0476293577764393, 0.5220258763023399, \"\", \"\", 1.5525625433298802, \"\", 3.0227661229553546, 0.8098819921053948, 0.923772728861544, 3.293669711128593, \"\", \"\", 1.4288240978589246, 0.7390884490779248, 0.4669970678212195, \"\", 0.3104399169110612, \"\", \"\", 0.06853581358945804, \"\", \"\", \"\", \"\", 4.529128325960874, \"\", 2.4695945854413908, \"\", 0.010241551408561755, 1.0982766652299136, \"\", 1.6736558918754012, 0.17920107048351874, 1.4772991460457767, 0.8390347998756563, \"\", 0.9637105733704057, \"\", \"\", \"\", 0.39664451943637247, \"\", 1.7537176549763938, 2.0215953894994927, 0.35478247598250134, 2.797922589537169, \"\", \"\", 0.5980690221466665, \"\", 0.6062783113394008, \"\", 1.6370860495492972, 0.42254856919855655, 1.186146655677272, \"\", \"\", \"\", 1.3106301841673762, \"\", \"\", \"\", \"\", 0.39459341430207806, 0.6855154638272642, 0.06287149538352899, 0.4174480065101748, 2.174345976736736, 4.212934588015814, 1.270063880818353, 2.4831941296857454, 1.1946980688368483, \"\", 0.65783084782156, 2.1427752453709017, \"\", 1.1159264602930872, 2.3477869543256724, 0.14600766941500987, \"\", 0.5339952320680472, \"\", 0.7240082959981535, \"\", \"\", \"\"], \"yaxis\": \"y2\"}, {\"connectgaps\": false, \"fill\": \"tozeroy\", \"line\": {\"color\": \"red\", \"dash\": \"solid\", \"shape\": \"linear\", \"width\": 0.5}, \"mode\": \"lines\", \"name\": \"Spread\", \"showlegend\": false, \"type\": \"scatter\", \"x\": [0, 1, 2, 3, 4, 5, 6, 7, 8, 9, 10, 11, 12, 13, 14, 15, 16, 17, 18, 19, 20, 21, 22, 23, 24, 25, 26, 27, 28, 29, 30, 31, 32, 33, 34, 35, 36, 37, 38, 39, 40, 41, 42, 43, 44, 45, 46, 47, 48, 49, 50, 51, 52, 53, 54, 55, 56, 57, 58, 59, 60, 61, 62, 63, 64, 65, 66, 67, 68, 69, 70, 71, 72, 73, 74, 75, 76, 77, 78, 79, 80, 81, 82, 83, 84, 85, 86, 87, 88, 89, 90, 91, 92, 93, 94, 95, 96, 97, 98, 99], \"xaxis\": \"x2\", \"y\": [-1.0191386023305982, \"\", \"\", -1.6042683838294403, -0.6834431639284385, -2.4629164550764884, -1.3883180570521425, \"\", -0.2434331785169871, \"\", -0.43572851463118156, \"\", -0.565271635757973, -1.291518443043143, \"\", \"\", -1.6825656220436707, -1.0328661615964247, \"\", -1.327199542256991, \"\", \"\", \"\", \"\", -1.811053159552631, -0.15769365450159367, \"\", \"\", \"\", -1.1499696397062182, \"\", -0.7267198751734879, -0.1836282566387077, \"\", -1.5585546195536866, -0.22978489519857936, -1.1840717427073648, -1.7434687245170946, \"\", -0.4857117033562966, \"\", -2.2597432313483767, \"\", \"\", -0.8290706371489225, \"\", \"\", \"\", \"\", -1.8811458816010251, \"\", -1.7516619293274267, -0.6048037546474136, -0.2248520813059215, \"\", -0.13581750472674614, \"\", \"\", \"\", \"\", -0.2812951537531613, -0.32235937595198383, \"\", -1.0083390468890476, \"\", -0.6674686969248418, \"\", \"\", \"\", -0.42234938373316055, -1.3906969365104687, -0.14290243004521752, \"\", -1.609182405094649, -0.027475002365620504, -0.40419091845603305, -0.12084030378406718, \"\", \"\", \"\", \"\", \"\", \"\", \"\", \"\", \"\", -1.848156187809934, \"\", \"\", -1.2860688764379922, \"\", \"\", \"\", -0.5542610717268144, \"\", -0.227119650320425, \"\", -1.5703676767042718, -2.331334377196976, -2.2167567521529787], \"yaxis\": \"y2\"}],\n",
       "                        {\"hovermode\": \"x\", \"legend\": {\"bgcolor\": \"#F5F6F9\", \"font\": {\"color\": \"#4D5663\"}}, \"paper_bgcolor\": \"#F5F6F9\", \"plot_bgcolor\": \"#F5F6F9\", \"template\": {\"data\": {\"bar\": [{\"error_x\": {\"color\": \"#2a3f5f\"}, \"error_y\": {\"color\": \"#2a3f5f\"}, \"marker\": {\"line\": {\"color\": \"#E5ECF6\", \"width\": 0.5}}, \"type\": \"bar\"}], \"barpolar\": [{\"marker\": {\"line\": {\"color\": \"#E5ECF6\", \"width\": 0.5}}, \"type\": \"barpolar\"}], \"carpet\": [{\"aaxis\": {\"endlinecolor\": \"#2a3f5f\", \"gridcolor\": \"white\", \"linecolor\": \"white\", \"minorgridcolor\": \"white\", \"startlinecolor\": \"#2a3f5f\"}, \"baxis\": {\"endlinecolor\": \"#2a3f5f\", \"gridcolor\": \"white\", \"linecolor\": \"white\", \"minorgridcolor\": \"white\", \"startlinecolor\": \"#2a3f5f\"}, \"type\": \"carpet\"}], \"choropleth\": [{\"colorbar\": {\"outlinewidth\": 0, \"ticks\": \"\"}, \"type\": \"choropleth\"}], \"contour\": [{\"colorbar\": {\"outlinewidth\": 0, \"ticks\": \"\"}, \"colorscale\": [[0.0, \"#0d0887\"], [0.1111111111111111, \"#46039f\"], [0.2222222222222222, \"#7201a8\"], [0.3333333333333333, \"#9c179e\"], [0.4444444444444444, \"#bd3786\"], [0.5555555555555556, \"#d8576b\"], [0.6666666666666666, \"#ed7953\"], [0.7777777777777778, \"#fb9f3a\"], [0.8888888888888888, \"#fdca26\"], [1.0, \"#f0f921\"]], \"type\": \"contour\"}], \"contourcarpet\": [{\"colorbar\": {\"outlinewidth\": 0, \"ticks\": \"\"}, \"type\": \"contourcarpet\"}], \"heatmap\": [{\"colorbar\": {\"outlinewidth\": 0, \"ticks\": \"\"}, \"colorscale\": [[0.0, \"#0d0887\"], [0.1111111111111111, \"#46039f\"], [0.2222222222222222, \"#7201a8\"], [0.3333333333333333, \"#9c179e\"], [0.4444444444444444, \"#bd3786\"], [0.5555555555555556, \"#d8576b\"], [0.6666666666666666, \"#ed7953\"], [0.7777777777777778, \"#fb9f3a\"], [0.8888888888888888, \"#fdca26\"], [1.0, \"#f0f921\"]], \"type\": \"heatmap\"}], \"heatmapgl\": [{\"colorbar\": {\"outlinewidth\": 0, \"ticks\": \"\"}, \"colorscale\": [[0.0, \"#0d0887\"], [0.1111111111111111, \"#46039f\"], [0.2222222222222222, \"#7201a8\"], [0.3333333333333333, \"#9c179e\"], [0.4444444444444444, \"#bd3786\"], [0.5555555555555556, \"#d8576b\"], [0.6666666666666666, \"#ed7953\"], [0.7777777777777778, \"#fb9f3a\"], [0.8888888888888888, \"#fdca26\"], [1.0, \"#f0f921\"]], \"type\": \"heatmapgl\"}], \"histogram\": [{\"marker\": {\"colorbar\": {\"outlinewidth\": 0, \"ticks\": \"\"}}, \"type\": \"histogram\"}], \"histogram2d\": [{\"colorbar\": {\"outlinewidth\": 0, \"ticks\": \"\"}, \"colorscale\": [[0.0, \"#0d0887\"], [0.1111111111111111, \"#46039f\"], [0.2222222222222222, \"#7201a8\"], [0.3333333333333333, \"#9c179e\"], [0.4444444444444444, \"#bd3786\"], [0.5555555555555556, \"#d8576b\"], [0.6666666666666666, \"#ed7953\"], [0.7777777777777778, \"#fb9f3a\"], [0.8888888888888888, \"#fdca26\"], [1.0, \"#f0f921\"]], \"type\": \"histogram2d\"}], \"histogram2dcontour\": [{\"colorbar\": {\"outlinewidth\": 0, \"ticks\": \"\"}, \"colorscale\": [[0.0, \"#0d0887\"], [0.1111111111111111, \"#46039f\"], [0.2222222222222222, \"#7201a8\"], [0.3333333333333333, \"#9c179e\"], [0.4444444444444444, \"#bd3786\"], [0.5555555555555556, \"#d8576b\"], [0.6666666666666666, \"#ed7953\"], [0.7777777777777778, \"#fb9f3a\"], [0.8888888888888888, \"#fdca26\"], [1.0, \"#f0f921\"]], \"type\": \"histogram2dcontour\"}], \"mesh3d\": [{\"colorbar\": {\"outlinewidth\": 0, \"ticks\": \"\"}, \"type\": \"mesh3d\"}], \"parcoords\": [{\"line\": {\"colorbar\": {\"outlinewidth\": 0, \"ticks\": \"\"}}, \"type\": \"parcoords\"}], \"pie\": [{\"automargin\": true, \"type\": \"pie\"}], \"scatter\": [{\"marker\": {\"colorbar\": {\"outlinewidth\": 0, \"ticks\": \"\"}}, \"type\": \"scatter\"}], \"scatter3d\": [{\"line\": {\"colorbar\": {\"outlinewidth\": 0, \"ticks\": \"\"}}, \"marker\": {\"colorbar\": {\"outlinewidth\": 0, \"ticks\": \"\"}}, \"type\": \"scatter3d\"}], \"scattercarpet\": [{\"marker\": {\"colorbar\": {\"outlinewidth\": 0, \"ticks\": \"\"}}, \"type\": \"scattercarpet\"}], \"scattergeo\": [{\"marker\": {\"colorbar\": {\"outlinewidth\": 0, \"ticks\": \"\"}}, \"type\": \"scattergeo\"}], \"scattergl\": [{\"marker\": {\"colorbar\": {\"outlinewidth\": 0, \"ticks\": \"\"}}, \"type\": \"scattergl\"}], \"scattermapbox\": [{\"marker\": {\"colorbar\": {\"outlinewidth\": 0, \"ticks\": \"\"}}, \"type\": \"scattermapbox\"}], \"scatterpolar\": [{\"marker\": {\"colorbar\": {\"outlinewidth\": 0, \"ticks\": \"\"}}, \"type\": \"scatterpolar\"}], \"scatterpolargl\": [{\"marker\": {\"colorbar\": {\"outlinewidth\": 0, \"ticks\": \"\"}}, \"type\": \"scatterpolargl\"}], \"scatterternary\": [{\"marker\": {\"colorbar\": {\"outlinewidth\": 0, \"ticks\": \"\"}}, \"type\": \"scatterternary\"}], \"surface\": [{\"colorbar\": {\"outlinewidth\": 0, \"ticks\": \"\"}, \"colorscale\": [[0.0, \"#0d0887\"], [0.1111111111111111, \"#46039f\"], [0.2222222222222222, \"#7201a8\"], [0.3333333333333333, \"#9c179e\"], [0.4444444444444444, \"#bd3786\"], [0.5555555555555556, \"#d8576b\"], [0.6666666666666666, \"#ed7953\"], [0.7777777777777778, \"#fb9f3a\"], [0.8888888888888888, \"#fdca26\"], [1.0, \"#f0f921\"]], \"type\": \"surface\"}], \"table\": [{\"cells\": {\"fill\": {\"color\": \"#EBF0F8\"}, \"line\": {\"color\": \"white\"}}, \"header\": {\"fill\": {\"color\": \"#C8D4E3\"}, \"line\": {\"color\": \"white\"}}, \"type\": \"table\"}]}, \"layout\": {\"annotationdefaults\": {\"arrowcolor\": \"#2a3f5f\", \"arrowhead\": 0, \"arrowwidth\": 1}, \"coloraxis\": {\"colorbar\": {\"outlinewidth\": 0, \"ticks\": \"\"}}, \"colorscale\": {\"diverging\": [[0, \"#8e0152\"], [0.1, \"#c51b7d\"], [0.2, \"#de77ae\"], [0.3, \"#f1b6da\"], [0.4, \"#fde0ef\"], [0.5, \"#f7f7f7\"], [0.6, \"#e6f5d0\"], [0.7, \"#b8e186\"], [0.8, \"#7fbc41\"], [0.9, \"#4d9221\"], [1, \"#276419\"]], \"sequential\": [[0.0, \"#0d0887\"], [0.1111111111111111, \"#46039f\"], [0.2222222222222222, \"#7201a8\"], [0.3333333333333333, \"#9c179e\"], [0.4444444444444444, \"#bd3786\"], [0.5555555555555556, \"#d8576b\"], [0.6666666666666666, \"#ed7953\"], [0.7777777777777778, \"#fb9f3a\"], [0.8888888888888888, \"#fdca26\"], [1.0, \"#f0f921\"]], \"sequentialminus\": [[0.0, \"#0d0887\"], [0.1111111111111111, \"#46039f\"], [0.2222222222222222, \"#7201a8\"], [0.3333333333333333, \"#9c179e\"], [0.4444444444444444, \"#bd3786\"], [0.5555555555555556, \"#d8576b\"], [0.6666666666666666, \"#ed7953\"], [0.7777777777777778, \"#fb9f3a\"], [0.8888888888888888, \"#fdca26\"], [1.0, \"#f0f921\"]]}, \"colorway\": [\"#636efa\", \"#EF553B\", \"#00cc96\", \"#ab63fa\", \"#FFA15A\", \"#19d3f3\", \"#FF6692\", \"#B6E880\", \"#FF97FF\", \"#FECB52\"], \"font\": {\"color\": \"#2a3f5f\"}, \"geo\": {\"bgcolor\": \"white\", \"lakecolor\": \"white\", \"landcolor\": \"#E5ECF6\", \"showlakes\": true, \"showland\": true, \"subunitcolor\": \"white\"}, \"hoverlabel\": {\"align\": \"left\"}, \"hovermode\": \"closest\", \"mapbox\": {\"style\": \"light\"}, \"paper_bgcolor\": \"white\", \"plot_bgcolor\": \"#E5ECF6\", \"polar\": {\"angularaxis\": {\"gridcolor\": \"white\", \"linecolor\": \"white\", \"ticks\": \"\"}, \"bgcolor\": \"#E5ECF6\", \"radialaxis\": {\"gridcolor\": \"white\", \"linecolor\": \"white\", \"ticks\": \"\"}}, \"scene\": {\"xaxis\": {\"backgroundcolor\": \"#E5ECF6\", \"gridcolor\": \"white\", \"gridwidth\": 2, \"linecolor\": \"white\", \"showbackground\": true, \"ticks\": \"\", \"zerolinecolor\": \"white\"}, \"yaxis\": {\"backgroundcolor\": \"#E5ECF6\", \"gridcolor\": \"white\", \"gridwidth\": 2, \"linecolor\": \"white\", \"showbackground\": true, \"ticks\": \"\", \"zerolinecolor\": \"white\"}, \"zaxis\": {\"backgroundcolor\": \"#E5ECF6\", \"gridcolor\": \"white\", \"gridwidth\": 2, \"linecolor\": \"white\", \"showbackground\": true, \"ticks\": \"\", \"zerolinecolor\": \"white\"}}, \"shapedefaults\": {\"line\": {\"color\": \"#2a3f5f\"}}, \"ternary\": {\"aaxis\": {\"gridcolor\": \"white\", \"linecolor\": \"white\", \"ticks\": \"\"}, \"baxis\": {\"gridcolor\": \"white\", \"linecolor\": \"white\", \"ticks\": \"\"}, \"bgcolor\": \"#E5ECF6\", \"caxis\": {\"gridcolor\": \"white\", \"linecolor\": \"white\", \"ticks\": \"\"}}, \"title\": {\"x\": 0.05}, \"xaxis\": {\"automargin\": true, \"gridcolor\": \"white\", \"linecolor\": \"white\", \"ticks\": \"\", \"title\": {\"standoff\": 15}, \"zerolinecolor\": \"white\", \"zerolinewidth\": 2}, \"yaxis\": {\"automargin\": true, \"gridcolor\": \"white\", \"linecolor\": \"white\", \"ticks\": \"\", \"title\": {\"standoff\": 15}, \"zerolinecolor\": \"white\", \"zerolinewidth\": 2}}}, \"title\": {\"font\": {\"color\": \"#4D5663\"}}, \"xaxis\": {\"gridcolor\": \"#E1E5ED\", \"showgrid\": true, \"tickfont\": {\"color\": \"#4D5663\"}, \"title\": {\"font\": {\"color\": \"#4D5663\"}, \"text\": \"\"}, \"zerolinecolor\": \"#E1E5ED\"}, \"xaxis2\": {\"anchor\": \"y2\", \"gridcolor\": \"#E1E5ED\", \"showgrid\": true, \"showticklabels\": false, \"tickfont\": {\"color\": \"#4D5663\"}, \"title\": {\"font\": {\"color\": \"#4D5663\"}, \"text\": \"\"}, \"zerolinecolor\": \"#E1E5ED\"}, \"yaxis\": {\"domain\": [0.3, 1], \"gridcolor\": \"#E1E5ED\", \"showgrid\": true, \"tickfont\": {\"color\": \"#4D5663\"}, \"title\": {\"font\": {\"color\": \"#4D5663\"}, \"text\": \"\"}, \"zerolinecolor\": \"#E1E5ED\"}, \"yaxis2\": {\"domain\": [0, 0.25], \"gridcolor\": \"#E1E5ED\", \"showgrid\": true, \"tickfont\": {\"color\": \"#4D5663\"}, \"title\": {\"font\": {\"color\": \"#4D5663\"}, \"text\": \"Spread\"}, \"zerolinecolor\": \"#E1E5ED\"}},\n",
       "                        {\"showLink\": true, \"linkText\": \"Export to plot.ly\", \"plotlyServerURL\": \"https://plot.ly\", \"responsive\": true}\n",
       "                    ).then(function(){\n",
       "                            \n",
       "var gd = document.getElementById('8b5e78d3-4c10-4f41-a70b-93c8819198ea');\n",
       "var x = new MutationObserver(function (mutations, observer) {{\n",
       "        var display = window.getComputedStyle(gd).display;\n",
       "        if (!display || display === 'none') {{\n",
       "            console.log([gd, 'removed!']);\n",
       "            Plotly.purge(gd);\n",
       "            observer.disconnect();\n",
       "        }}\n",
       "}});\n",
       "\n",
       "// Listen for the removal of the full notebook cells\n",
       "var notebookContainer = gd.closest('#notebook-container');\n",
       "if (notebookContainer) {{\n",
       "    x.observe(notebookContainer, {childList: true});\n",
       "}}\n",
       "\n",
       "// Listen for the clearing of the current output cell\n",
       "var outputEl = gd.closest('.output');\n",
       "if (outputEl) {{\n",
       "    x.observe(outputEl, {childList: true});\n",
       "}}\n",
       "\n",
       "                        })\n",
       "                };\n",
       "                });\n",
       "            </script>\n",
       "        </div>"
      ]
     },
     "metadata": {},
     "output_type": "display_data"
    }
   ],
   "source": [
    "df[['A','B']].iplot(kind='spread')"
   ]
  },
  {
   "cell_type": "markdown",
   "metadata": {},
   "source": [
    "## histogram"
   ]
  },
  {
   "cell_type": "code",
   "execution_count": 19,
   "metadata": {},
   "outputs": [
    {
     "data": {
      "application/vnd.plotly.v1+json": {
       "config": {
        "linkText": "Export to plot.ly",
        "plotlyServerURL": "https://plot.ly",
        "showLink": true
       },
       "data": [
        {
         "histfunc": "count",
         "histnorm": "",
         "marker": {
          "color": "rgba(255, 153, 51, 1.0)",
          "line": {
           "color": "#4D5663",
           "width": 1.3
          }
         },
         "name": "A",
         "nbinsx": 25,
         "opacity": 0.8,
         "orientation": "v",
         "type": "histogram",
         "x": [
          -0.0015585409020748443,
          0.8458864735345376,
          0.934414068172041,
          -1.299225287036096,
          -0.612313161810921,
          -1.9164219425202789,
          -0.23256760125329407,
          1.0920556656230416,
          -0.4662237559745914,
          0.11813620238621023,
          -0.3893305872383898,
          0.3524367390130047,
          0.6267049137115619,
          -2.0098283113102333,
          -0.42224277438234714,
          1.4834140075387432,
          0.0007950478259361682,
          -0.6043585953862748,
          0.4071176027713737,
          -1.4138220890082105,
          2.077707538654815,
          0.4768952209629994,
          1.3895053923630198,
          2.3244999824807198,
          -1.189297270602611,
          0.8722982996347064,
          2.2937988533328246,
          0.06467962016505363,
          -0.13633788837817873,
          -1.7836787475237632,
          0.22566002203532615,
          0.20566852075458583,
          -0.018339853278318195,
          -0.5654481912867622,
          -0.5078139751819283,
          0.8275904894419189,
          -0.5203960037208601,
          -0.41352349293990387,
          2.1181837053232897,
          -0.4590426190787295,
          1.2319084700892855,
          -0.5358681790349643,
          -0.498364296101095,
          0.9232038731051508,
          -0.2814992874895402,
          0.24769175172286134,
          0.2328949255804648,
          0.5473351367722717,
          0.9498326281204514,
          -1.8075122019812093,
          -0.16476749353990988,
          0.5752186600567579,
          0.13051060072420054,
          0.3498771676815099,
          0.40281032759571855,
          -0.950111217346983,
          1.1638492951727184,
          0.7788802320291295,
          -1.2857935794971982,
          1.622091453349334,
          0.8678849327369677,
          -0.5048785146381843,
          -0.4896243146193713,
          -0.010709110981634063,
          1.006602249430079,
          -0.40568483350162055,
          1.3087894411891126,
          0.190062600400811,
          1.0379437685082251,
          0.2029558624259573,
          1.2943640286010194,
          -1.1492525100133704,
          1.9470511979586185,
          -1.1750359924184552,
          -0.7121663439038282,
          -0.3725103090728009,
          0.8444841630918083,
          0.6485746069267528,
          0.8839137048866836,
          1.8032268952420396,
          0.5001484387119923,
          1.896484110324483,
          1.654298132548488,
          1.4071820106911808,
          -0.6308051064388178,
          0.3196782094684533,
          -1.4042278558123713,
          -0.30363620969810856,
          0.33937227389870644,
          -1.3141396770051583,
          1.7301125955143941,
          1.473261447646321,
          -1.2404429659357479,
          0.41453891492567924,
          0.8491352380137746,
          0.06291390210273382,
          0.8957023727937828,
          -0.8297378450246963,
          -0.15546745233405063,
          0.06115899148576859
         ]
        }
       ],
       "layout": {
        "barmode": "overlay",
        "legend": {
         "bgcolor": "#F5F6F9",
         "font": {
          "color": "#4D5663"
         }
        },
        "paper_bgcolor": "#F5F6F9",
        "plot_bgcolor": "#F5F6F9",
        "template": {
         "data": {
          "bar": [
           {
            "error_x": {
             "color": "#2a3f5f"
            },
            "error_y": {
             "color": "#2a3f5f"
            },
            "marker": {
             "line": {
              "color": "#E5ECF6",
              "width": 0.5
             }
            },
            "type": "bar"
           }
          ],
          "barpolar": [
           {
            "marker": {
             "line": {
              "color": "#E5ECF6",
              "width": 0.5
             }
            },
            "type": "barpolar"
           }
          ],
          "carpet": [
           {
            "aaxis": {
             "endlinecolor": "#2a3f5f",
             "gridcolor": "white",
             "linecolor": "white",
             "minorgridcolor": "white",
             "startlinecolor": "#2a3f5f"
            },
            "baxis": {
             "endlinecolor": "#2a3f5f",
             "gridcolor": "white",
             "linecolor": "white",
             "minorgridcolor": "white",
             "startlinecolor": "#2a3f5f"
            },
            "type": "carpet"
           }
          ],
          "choropleth": [
           {
            "colorbar": {
             "outlinewidth": 0,
             "ticks": ""
            },
            "type": "choropleth"
           }
          ],
          "contour": [
           {
            "colorbar": {
             "outlinewidth": 0,
             "ticks": ""
            },
            "colorscale": [
             [
              0,
              "#0d0887"
             ],
             [
              0.1111111111111111,
              "#46039f"
             ],
             [
              0.2222222222222222,
              "#7201a8"
             ],
             [
              0.3333333333333333,
              "#9c179e"
             ],
             [
              0.4444444444444444,
              "#bd3786"
             ],
             [
              0.5555555555555556,
              "#d8576b"
             ],
             [
              0.6666666666666666,
              "#ed7953"
             ],
             [
              0.7777777777777778,
              "#fb9f3a"
             ],
             [
              0.8888888888888888,
              "#fdca26"
             ],
             [
              1,
              "#f0f921"
             ]
            ],
            "type": "contour"
           }
          ],
          "contourcarpet": [
           {
            "colorbar": {
             "outlinewidth": 0,
             "ticks": ""
            },
            "type": "contourcarpet"
           }
          ],
          "heatmap": [
           {
            "colorbar": {
             "outlinewidth": 0,
             "ticks": ""
            },
            "colorscale": [
             [
              0,
              "#0d0887"
             ],
             [
              0.1111111111111111,
              "#46039f"
             ],
             [
              0.2222222222222222,
              "#7201a8"
             ],
             [
              0.3333333333333333,
              "#9c179e"
             ],
             [
              0.4444444444444444,
              "#bd3786"
             ],
             [
              0.5555555555555556,
              "#d8576b"
             ],
             [
              0.6666666666666666,
              "#ed7953"
             ],
             [
              0.7777777777777778,
              "#fb9f3a"
             ],
             [
              0.8888888888888888,
              "#fdca26"
             ],
             [
              1,
              "#f0f921"
             ]
            ],
            "type": "heatmap"
           }
          ],
          "heatmapgl": [
           {
            "colorbar": {
             "outlinewidth": 0,
             "ticks": ""
            },
            "colorscale": [
             [
              0,
              "#0d0887"
             ],
             [
              0.1111111111111111,
              "#46039f"
             ],
             [
              0.2222222222222222,
              "#7201a8"
             ],
             [
              0.3333333333333333,
              "#9c179e"
             ],
             [
              0.4444444444444444,
              "#bd3786"
             ],
             [
              0.5555555555555556,
              "#d8576b"
             ],
             [
              0.6666666666666666,
              "#ed7953"
             ],
             [
              0.7777777777777778,
              "#fb9f3a"
             ],
             [
              0.8888888888888888,
              "#fdca26"
             ],
             [
              1,
              "#f0f921"
             ]
            ],
            "type": "heatmapgl"
           }
          ],
          "histogram": [
           {
            "marker": {
             "colorbar": {
              "outlinewidth": 0,
              "ticks": ""
             }
            },
            "type": "histogram"
           }
          ],
          "histogram2d": [
           {
            "colorbar": {
             "outlinewidth": 0,
             "ticks": ""
            },
            "colorscale": [
             [
              0,
              "#0d0887"
             ],
             [
              0.1111111111111111,
              "#46039f"
             ],
             [
              0.2222222222222222,
              "#7201a8"
             ],
             [
              0.3333333333333333,
              "#9c179e"
             ],
             [
              0.4444444444444444,
              "#bd3786"
             ],
             [
              0.5555555555555556,
              "#d8576b"
             ],
             [
              0.6666666666666666,
              "#ed7953"
             ],
             [
              0.7777777777777778,
              "#fb9f3a"
             ],
             [
              0.8888888888888888,
              "#fdca26"
             ],
             [
              1,
              "#f0f921"
             ]
            ],
            "type": "histogram2d"
           }
          ],
          "histogram2dcontour": [
           {
            "colorbar": {
             "outlinewidth": 0,
             "ticks": ""
            },
            "colorscale": [
             [
              0,
              "#0d0887"
             ],
             [
              0.1111111111111111,
              "#46039f"
             ],
             [
              0.2222222222222222,
              "#7201a8"
             ],
             [
              0.3333333333333333,
              "#9c179e"
             ],
             [
              0.4444444444444444,
              "#bd3786"
             ],
             [
              0.5555555555555556,
              "#d8576b"
             ],
             [
              0.6666666666666666,
              "#ed7953"
             ],
             [
              0.7777777777777778,
              "#fb9f3a"
             ],
             [
              0.8888888888888888,
              "#fdca26"
             ],
             [
              1,
              "#f0f921"
             ]
            ],
            "type": "histogram2dcontour"
           }
          ],
          "mesh3d": [
           {
            "colorbar": {
             "outlinewidth": 0,
             "ticks": ""
            },
            "type": "mesh3d"
           }
          ],
          "parcoords": [
           {
            "line": {
             "colorbar": {
              "outlinewidth": 0,
              "ticks": ""
             }
            },
            "type": "parcoords"
           }
          ],
          "pie": [
           {
            "automargin": true,
            "type": "pie"
           }
          ],
          "scatter": [
           {
            "marker": {
             "colorbar": {
              "outlinewidth": 0,
              "ticks": ""
             }
            },
            "type": "scatter"
           }
          ],
          "scatter3d": [
           {
            "line": {
             "colorbar": {
              "outlinewidth": 0,
              "ticks": ""
             }
            },
            "marker": {
             "colorbar": {
              "outlinewidth": 0,
              "ticks": ""
             }
            },
            "type": "scatter3d"
           }
          ],
          "scattercarpet": [
           {
            "marker": {
             "colorbar": {
              "outlinewidth": 0,
              "ticks": ""
             }
            },
            "type": "scattercarpet"
           }
          ],
          "scattergeo": [
           {
            "marker": {
             "colorbar": {
              "outlinewidth": 0,
              "ticks": ""
             }
            },
            "type": "scattergeo"
           }
          ],
          "scattergl": [
           {
            "marker": {
             "colorbar": {
              "outlinewidth": 0,
              "ticks": ""
             }
            },
            "type": "scattergl"
           }
          ],
          "scattermapbox": [
           {
            "marker": {
             "colorbar": {
              "outlinewidth": 0,
              "ticks": ""
             }
            },
            "type": "scattermapbox"
           }
          ],
          "scatterpolar": [
           {
            "marker": {
             "colorbar": {
              "outlinewidth": 0,
              "ticks": ""
             }
            },
            "type": "scatterpolar"
           }
          ],
          "scatterpolargl": [
           {
            "marker": {
             "colorbar": {
              "outlinewidth": 0,
              "ticks": ""
             }
            },
            "type": "scatterpolargl"
           }
          ],
          "scatterternary": [
           {
            "marker": {
             "colorbar": {
              "outlinewidth": 0,
              "ticks": ""
             }
            },
            "type": "scatterternary"
           }
          ],
          "surface": [
           {
            "colorbar": {
             "outlinewidth": 0,
             "ticks": ""
            },
            "colorscale": [
             [
              0,
              "#0d0887"
             ],
             [
              0.1111111111111111,
              "#46039f"
             ],
             [
              0.2222222222222222,
              "#7201a8"
             ],
             [
              0.3333333333333333,
              "#9c179e"
             ],
             [
              0.4444444444444444,
              "#bd3786"
             ],
             [
              0.5555555555555556,
              "#d8576b"
             ],
             [
              0.6666666666666666,
              "#ed7953"
             ],
             [
              0.7777777777777778,
              "#fb9f3a"
             ],
             [
              0.8888888888888888,
              "#fdca26"
             ],
             [
              1,
              "#f0f921"
             ]
            ],
            "type": "surface"
           }
          ],
          "table": [
           {
            "cells": {
             "fill": {
              "color": "#EBF0F8"
             },
             "line": {
              "color": "white"
             }
            },
            "header": {
             "fill": {
              "color": "#C8D4E3"
             },
             "line": {
              "color": "white"
             }
            },
            "type": "table"
           }
          ]
         },
         "layout": {
          "annotationdefaults": {
           "arrowcolor": "#2a3f5f",
           "arrowhead": 0,
           "arrowwidth": 1
          },
          "coloraxis": {
           "colorbar": {
            "outlinewidth": 0,
            "ticks": ""
           }
          },
          "colorscale": {
           "diverging": [
            [
             0,
             "#8e0152"
            ],
            [
             0.1,
             "#c51b7d"
            ],
            [
             0.2,
             "#de77ae"
            ],
            [
             0.3,
             "#f1b6da"
            ],
            [
             0.4,
             "#fde0ef"
            ],
            [
             0.5,
             "#f7f7f7"
            ],
            [
             0.6,
             "#e6f5d0"
            ],
            [
             0.7,
             "#b8e186"
            ],
            [
             0.8,
             "#7fbc41"
            ],
            [
             0.9,
             "#4d9221"
            ],
            [
             1,
             "#276419"
            ]
           ],
           "sequential": [
            [
             0,
             "#0d0887"
            ],
            [
             0.1111111111111111,
             "#46039f"
            ],
            [
             0.2222222222222222,
             "#7201a8"
            ],
            [
             0.3333333333333333,
             "#9c179e"
            ],
            [
             0.4444444444444444,
             "#bd3786"
            ],
            [
             0.5555555555555556,
             "#d8576b"
            ],
            [
             0.6666666666666666,
             "#ed7953"
            ],
            [
             0.7777777777777778,
             "#fb9f3a"
            ],
            [
             0.8888888888888888,
             "#fdca26"
            ],
            [
             1,
             "#f0f921"
            ]
           ],
           "sequentialminus": [
            [
             0,
             "#0d0887"
            ],
            [
             0.1111111111111111,
             "#46039f"
            ],
            [
             0.2222222222222222,
             "#7201a8"
            ],
            [
             0.3333333333333333,
             "#9c179e"
            ],
            [
             0.4444444444444444,
             "#bd3786"
            ],
            [
             0.5555555555555556,
             "#d8576b"
            ],
            [
             0.6666666666666666,
             "#ed7953"
            ],
            [
             0.7777777777777778,
             "#fb9f3a"
            ],
            [
             0.8888888888888888,
             "#fdca26"
            ],
            [
             1,
             "#f0f921"
            ]
           ]
          },
          "colorway": [
           "#636efa",
           "#EF553B",
           "#00cc96",
           "#ab63fa",
           "#FFA15A",
           "#19d3f3",
           "#FF6692",
           "#B6E880",
           "#FF97FF",
           "#FECB52"
          ],
          "font": {
           "color": "#2a3f5f"
          },
          "geo": {
           "bgcolor": "white",
           "lakecolor": "white",
           "landcolor": "#E5ECF6",
           "showlakes": true,
           "showland": true,
           "subunitcolor": "white"
          },
          "hoverlabel": {
           "align": "left"
          },
          "hovermode": "closest",
          "mapbox": {
           "style": "light"
          },
          "paper_bgcolor": "white",
          "plot_bgcolor": "#E5ECF6",
          "polar": {
           "angularaxis": {
            "gridcolor": "white",
            "linecolor": "white",
            "ticks": ""
           },
           "bgcolor": "#E5ECF6",
           "radialaxis": {
            "gridcolor": "white",
            "linecolor": "white",
            "ticks": ""
           }
          },
          "scene": {
           "xaxis": {
            "backgroundcolor": "#E5ECF6",
            "gridcolor": "white",
            "gridwidth": 2,
            "linecolor": "white",
            "showbackground": true,
            "ticks": "",
            "zerolinecolor": "white"
           },
           "yaxis": {
            "backgroundcolor": "#E5ECF6",
            "gridcolor": "white",
            "gridwidth": 2,
            "linecolor": "white",
            "showbackground": true,
            "ticks": "",
            "zerolinecolor": "white"
           },
           "zaxis": {
            "backgroundcolor": "#E5ECF6",
            "gridcolor": "white",
            "gridwidth": 2,
            "linecolor": "white",
            "showbackground": true,
            "ticks": "",
            "zerolinecolor": "white"
           }
          },
          "shapedefaults": {
           "line": {
            "color": "#2a3f5f"
           }
          },
          "ternary": {
           "aaxis": {
            "gridcolor": "white",
            "linecolor": "white",
            "ticks": ""
           },
           "baxis": {
            "gridcolor": "white",
            "linecolor": "white",
            "ticks": ""
           },
           "bgcolor": "#E5ECF6",
           "caxis": {
            "gridcolor": "white",
            "linecolor": "white",
            "ticks": ""
           }
          },
          "title": {
           "x": 0.05
          },
          "xaxis": {
           "automargin": true,
           "gridcolor": "white",
           "linecolor": "white",
           "ticks": "",
           "title": {
            "standoff": 15
           },
           "zerolinecolor": "white",
           "zerolinewidth": 2
          },
          "yaxis": {
           "automargin": true,
           "gridcolor": "white",
           "linecolor": "white",
           "ticks": "",
           "title": {
            "standoff": 15
           },
           "zerolinecolor": "white",
           "zerolinewidth": 2
          }
         }
        },
        "title": {
         "font": {
          "color": "#4D5663"
         }
        },
        "xaxis": {
         "gridcolor": "#E1E5ED",
         "showgrid": true,
         "tickfont": {
          "color": "#4D5663"
         },
         "title": {
          "font": {
           "color": "#4D5663"
          },
          "text": ""
         },
         "zerolinecolor": "#E1E5ED"
        },
        "yaxis": {
         "gridcolor": "#E1E5ED",
         "showgrid": true,
         "tickfont": {
          "color": "#4D5663"
         },
         "title": {
          "font": {
           "color": "#4D5663"
          },
          "text": ""
         },
         "zerolinecolor": "#E1E5ED"
        }
       }
      },
      "text/html": [
       "<div>\n",
       "        \n",
       "        \n",
       "            <div id=\"48d27f6a-f244-4465-81bf-f29e965b6d59\" class=\"plotly-graph-div\" style=\"height:525px; width:100%;\"></div>\n",
       "            <script type=\"text/javascript\">\n",
       "                require([\"plotly\"], function(Plotly) {\n",
       "                    window.PLOTLYENV=window.PLOTLYENV || {};\n",
       "                    window.PLOTLYENV.BASE_URL='https://plot.ly';\n",
       "                    \n",
       "                if (document.getElementById(\"48d27f6a-f244-4465-81bf-f29e965b6d59\")) {\n",
       "                    Plotly.newPlot(\n",
       "                        '48d27f6a-f244-4465-81bf-f29e965b6d59',\n",
       "                        [{\"histfunc\": \"count\", \"histnorm\": \"\", \"marker\": {\"color\": \"rgba(255, 153, 51, 1.0)\", \"line\": {\"color\": \"#4D5663\", \"width\": 1.3}}, \"name\": \"A\", \"nbinsx\": 25, \"opacity\": 0.8, \"orientation\": \"v\", \"type\": \"histogram\", \"x\": [-0.0015585409020748443, 0.8458864735345376, 0.934414068172041, -1.299225287036096, -0.612313161810921, -1.9164219425202789, -0.23256760125329407, 1.0920556656230416, -0.4662237559745914, 0.11813620238621023, -0.3893305872383898, 0.3524367390130047, 0.6267049137115619, -2.0098283113102333, -0.42224277438234714, 1.4834140075387432, 0.0007950478259361682, -0.6043585953862748, 0.4071176027713737, -1.4138220890082105, 2.077707538654815, 0.4768952209629994, 1.3895053923630198, 2.3244999824807198, -1.189297270602611, 0.8722982996347064, 2.2937988533328246, 0.06467962016505363, -0.13633788837817873, -1.7836787475237632, 0.22566002203532615, 0.20566852075458583, -0.018339853278318195, -0.5654481912867622, -0.5078139751819283, 0.8275904894419189, -0.5203960037208601, -0.41352349293990387, 2.1181837053232897, -0.4590426190787295, 1.2319084700892855, -0.5358681790349643, -0.498364296101095, 0.9232038731051508, -0.2814992874895402, 0.24769175172286134, 0.2328949255804648, 0.5473351367722717, 0.9498326281204514, -1.8075122019812093, -0.16476749353990988, 0.5752186600567579, 0.13051060072420054, 0.3498771676815099, 0.40281032759571855, -0.950111217346983, 1.1638492951727184, 0.7788802320291295, -1.2857935794971982, 1.622091453349334, 0.8678849327369677, -0.5048785146381843, -0.4896243146193713, -0.010709110981634063, 1.006602249430079, -0.40568483350162055, 1.3087894411891126, 0.190062600400811, 1.0379437685082251, 0.2029558624259573, 1.2943640286010194, -1.1492525100133704, 1.9470511979586185, -1.1750359924184552, -0.7121663439038282, -0.3725103090728009, 0.8444841630918083, 0.6485746069267528, 0.8839137048866836, 1.8032268952420396, 0.5001484387119923, 1.896484110324483, 1.654298132548488, 1.4071820106911808, -0.6308051064388178, 0.3196782094684533, -1.4042278558123713, -0.30363620969810856, 0.33937227389870644, -1.3141396770051583, 1.7301125955143941, 1.473261447646321, -1.2404429659357479, 0.41453891492567924, 0.8491352380137746, 0.06291390210273382, 0.8957023727937828, -0.8297378450246963, -0.15546745233405063, 0.06115899148576859]}],\n",
       "                        {\"barmode\": \"overlay\", \"legend\": {\"bgcolor\": \"#F5F6F9\", \"font\": {\"color\": \"#4D5663\"}}, \"paper_bgcolor\": \"#F5F6F9\", \"plot_bgcolor\": \"#F5F6F9\", \"template\": {\"data\": {\"bar\": [{\"error_x\": {\"color\": \"#2a3f5f\"}, \"error_y\": {\"color\": \"#2a3f5f\"}, \"marker\": {\"line\": {\"color\": \"#E5ECF6\", \"width\": 0.5}}, \"type\": \"bar\"}], \"barpolar\": [{\"marker\": {\"line\": {\"color\": \"#E5ECF6\", \"width\": 0.5}}, \"type\": \"barpolar\"}], \"carpet\": [{\"aaxis\": {\"endlinecolor\": \"#2a3f5f\", \"gridcolor\": \"white\", \"linecolor\": \"white\", \"minorgridcolor\": \"white\", \"startlinecolor\": \"#2a3f5f\"}, \"baxis\": {\"endlinecolor\": \"#2a3f5f\", \"gridcolor\": \"white\", \"linecolor\": \"white\", \"minorgridcolor\": \"white\", \"startlinecolor\": \"#2a3f5f\"}, \"type\": \"carpet\"}], \"choropleth\": [{\"colorbar\": {\"outlinewidth\": 0, \"ticks\": \"\"}, \"type\": \"choropleth\"}], \"contour\": [{\"colorbar\": {\"outlinewidth\": 0, \"ticks\": \"\"}, \"colorscale\": [[0.0, \"#0d0887\"], [0.1111111111111111, \"#46039f\"], [0.2222222222222222, \"#7201a8\"], [0.3333333333333333, \"#9c179e\"], [0.4444444444444444, \"#bd3786\"], [0.5555555555555556, \"#d8576b\"], [0.6666666666666666, \"#ed7953\"], [0.7777777777777778, \"#fb9f3a\"], [0.8888888888888888, \"#fdca26\"], [1.0, \"#f0f921\"]], \"type\": \"contour\"}], \"contourcarpet\": [{\"colorbar\": {\"outlinewidth\": 0, \"ticks\": \"\"}, \"type\": \"contourcarpet\"}], \"heatmap\": [{\"colorbar\": {\"outlinewidth\": 0, \"ticks\": \"\"}, \"colorscale\": [[0.0, \"#0d0887\"], [0.1111111111111111, \"#46039f\"], [0.2222222222222222, \"#7201a8\"], [0.3333333333333333, \"#9c179e\"], [0.4444444444444444, \"#bd3786\"], [0.5555555555555556, \"#d8576b\"], [0.6666666666666666, \"#ed7953\"], [0.7777777777777778, \"#fb9f3a\"], [0.8888888888888888, \"#fdca26\"], [1.0, \"#f0f921\"]], \"type\": \"heatmap\"}], \"heatmapgl\": [{\"colorbar\": {\"outlinewidth\": 0, \"ticks\": \"\"}, \"colorscale\": [[0.0, \"#0d0887\"], [0.1111111111111111, \"#46039f\"], [0.2222222222222222, \"#7201a8\"], [0.3333333333333333, \"#9c179e\"], [0.4444444444444444, \"#bd3786\"], [0.5555555555555556, \"#d8576b\"], [0.6666666666666666, \"#ed7953\"], [0.7777777777777778, \"#fb9f3a\"], [0.8888888888888888, \"#fdca26\"], [1.0, \"#f0f921\"]], \"type\": \"heatmapgl\"}], \"histogram\": [{\"marker\": {\"colorbar\": {\"outlinewidth\": 0, \"ticks\": \"\"}}, \"type\": \"histogram\"}], \"histogram2d\": [{\"colorbar\": {\"outlinewidth\": 0, \"ticks\": \"\"}, \"colorscale\": [[0.0, \"#0d0887\"], [0.1111111111111111, \"#46039f\"], [0.2222222222222222, \"#7201a8\"], [0.3333333333333333, \"#9c179e\"], [0.4444444444444444, \"#bd3786\"], [0.5555555555555556, \"#d8576b\"], [0.6666666666666666, \"#ed7953\"], [0.7777777777777778, \"#fb9f3a\"], [0.8888888888888888, \"#fdca26\"], [1.0, \"#f0f921\"]], \"type\": \"histogram2d\"}], \"histogram2dcontour\": [{\"colorbar\": {\"outlinewidth\": 0, \"ticks\": \"\"}, \"colorscale\": [[0.0, \"#0d0887\"], [0.1111111111111111, \"#46039f\"], [0.2222222222222222, \"#7201a8\"], [0.3333333333333333, \"#9c179e\"], [0.4444444444444444, \"#bd3786\"], [0.5555555555555556, \"#d8576b\"], [0.6666666666666666, \"#ed7953\"], [0.7777777777777778, \"#fb9f3a\"], [0.8888888888888888, \"#fdca26\"], [1.0, \"#f0f921\"]], \"type\": \"histogram2dcontour\"}], \"mesh3d\": [{\"colorbar\": {\"outlinewidth\": 0, \"ticks\": \"\"}, \"type\": \"mesh3d\"}], \"parcoords\": [{\"line\": {\"colorbar\": {\"outlinewidth\": 0, \"ticks\": \"\"}}, \"type\": \"parcoords\"}], \"pie\": [{\"automargin\": true, \"type\": \"pie\"}], \"scatter\": [{\"marker\": {\"colorbar\": {\"outlinewidth\": 0, \"ticks\": \"\"}}, \"type\": \"scatter\"}], \"scatter3d\": [{\"line\": {\"colorbar\": {\"outlinewidth\": 0, \"ticks\": \"\"}}, \"marker\": {\"colorbar\": {\"outlinewidth\": 0, \"ticks\": \"\"}}, \"type\": \"scatter3d\"}], \"scattercarpet\": [{\"marker\": {\"colorbar\": {\"outlinewidth\": 0, \"ticks\": \"\"}}, \"type\": \"scattercarpet\"}], \"scattergeo\": [{\"marker\": {\"colorbar\": {\"outlinewidth\": 0, \"ticks\": \"\"}}, \"type\": \"scattergeo\"}], \"scattergl\": [{\"marker\": {\"colorbar\": {\"outlinewidth\": 0, \"ticks\": \"\"}}, \"type\": \"scattergl\"}], \"scattermapbox\": [{\"marker\": {\"colorbar\": {\"outlinewidth\": 0, \"ticks\": \"\"}}, \"type\": \"scattermapbox\"}], \"scatterpolar\": [{\"marker\": {\"colorbar\": {\"outlinewidth\": 0, \"ticks\": \"\"}}, \"type\": \"scatterpolar\"}], \"scatterpolargl\": [{\"marker\": {\"colorbar\": {\"outlinewidth\": 0, \"ticks\": \"\"}}, \"type\": \"scatterpolargl\"}], \"scatterternary\": [{\"marker\": {\"colorbar\": {\"outlinewidth\": 0, \"ticks\": \"\"}}, \"type\": \"scatterternary\"}], \"surface\": [{\"colorbar\": {\"outlinewidth\": 0, \"ticks\": \"\"}, \"colorscale\": [[0.0, \"#0d0887\"], [0.1111111111111111, \"#46039f\"], [0.2222222222222222, \"#7201a8\"], [0.3333333333333333, \"#9c179e\"], [0.4444444444444444, \"#bd3786\"], [0.5555555555555556, \"#d8576b\"], [0.6666666666666666, \"#ed7953\"], [0.7777777777777778, \"#fb9f3a\"], [0.8888888888888888, \"#fdca26\"], [1.0, \"#f0f921\"]], \"type\": \"surface\"}], \"table\": [{\"cells\": {\"fill\": {\"color\": \"#EBF0F8\"}, \"line\": {\"color\": \"white\"}}, \"header\": {\"fill\": {\"color\": \"#C8D4E3\"}, \"line\": {\"color\": \"white\"}}, \"type\": \"table\"}]}, \"layout\": {\"annotationdefaults\": {\"arrowcolor\": \"#2a3f5f\", \"arrowhead\": 0, \"arrowwidth\": 1}, \"coloraxis\": {\"colorbar\": {\"outlinewidth\": 0, \"ticks\": \"\"}}, \"colorscale\": {\"diverging\": [[0, \"#8e0152\"], [0.1, \"#c51b7d\"], [0.2, \"#de77ae\"], [0.3, \"#f1b6da\"], [0.4, \"#fde0ef\"], [0.5, \"#f7f7f7\"], [0.6, \"#e6f5d0\"], [0.7, \"#b8e186\"], [0.8, \"#7fbc41\"], [0.9, \"#4d9221\"], [1, \"#276419\"]], \"sequential\": [[0.0, \"#0d0887\"], [0.1111111111111111, \"#46039f\"], [0.2222222222222222, \"#7201a8\"], [0.3333333333333333, \"#9c179e\"], [0.4444444444444444, \"#bd3786\"], [0.5555555555555556, \"#d8576b\"], [0.6666666666666666, \"#ed7953\"], [0.7777777777777778, \"#fb9f3a\"], [0.8888888888888888, \"#fdca26\"], [1.0, \"#f0f921\"]], \"sequentialminus\": [[0.0, \"#0d0887\"], [0.1111111111111111, \"#46039f\"], [0.2222222222222222, \"#7201a8\"], [0.3333333333333333, \"#9c179e\"], [0.4444444444444444, \"#bd3786\"], [0.5555555555555556, \"#d8576b\"], [0.6666666666666666, \"#ed7953\"], [0.7777777777777778, \"#fb9f3a\"], [0.8888888888888888, \"#fdca26\"], [1.0, \"#f0f921\"]]}, \"colorway\": [\"#636efa\", \"#EF553B\", \"#00cc96\", \"#ab63fa\", \"#FFA15A\", \"#19d3f3\", \"#FF6692\", \"#B6E880\", \"#FF97FF\", \"#FECB52\"], \"font\": {\"color\": \"#2a3f5f\"}, \"geo\": {\"bgcolor\": \"white\", \"lakecolor\": \"white\", \"landcolor\": \"#E5ECF6\", \"showlakes\": true, \"showland\": true, \"subunitcolor\": \"white\"}, \"hoverlabel\": {\"align\": \"left\"}, \"hovermode\": \"closest\", \"mapbox\": {\"style\": \"light\"}, \"paper_bgcolor\": \"white\", \"plot_bgcolor\": \"#E5ECF6\", \"polar\": {\"angularaxis\": {\"gridcolor\": \"white\", \"linecolor\": \"white\", \"ticks\": \"\"}, \"bgcolor\": \"#E5ECF6\", \"radialaxis\": {\"gridcolor\": \"white\", \"linecolor\": \"white\", \"ticks\": \"\"}}, \"scene\": {\"xaxis\": {\"backgroundcolor\": \"#E5ECF6\", \"gridcolor\": \"white\", \"gridwidth\": 2, \"linecolor\": \"white\", \"showbackground\": true, \"ticks\": \"\", \"zerolinecolor\": \"white\"}, \"yaxis\": {\"backgroundcolor\": \"#E5ECF6\", \"gridcolor\": \"white\", \"gridwidth\": 2, \"linecolor\": \"white\", \"showbackground\": true, \"ticks\": \"\", \"zerolinecolor\": \"white\"}, \"zaxis\": {\"backgroundcolor\": \"#E5ECF6\", \"gridcolor\": \"white\", \"gridwidth\": 2, \"linecolor\": \"white\", \"showbackground\": true, \"ticks\": \"\", \"zerolinecolor\": \"white\"}}, \"shapedefaults\": {\"line\": {\"color\": \"#2a3f5f\"}}, \"ternary\": {\"aaxis\": {\"gridcolor\": \"white\", \"linecolor\": \"white\", \"ticks\": \"\"}, \"baxis\": {\"gridcolor\": \"white\", \"linecolor\": \"white\", \"ticks\": \"\"}, \"bgcolor\": \"#E5ECF6\", \"caxis\": {\"gridcolor\": \"white\", \"linecolor\": \"white\", \"ticks\": \"\"}}, \"title\": {\"x\": 0.05}, \"xaxis\": {\"automargin\": true, \"gridcolor\": \"white\", \"linecolor\": \"white\", \"ticks\": \"\", \"title\": {\"standoff\": 15}, \"zerolinecolor\": \"white\", \"zerolinewidth\": 2}, \"yaxis\": {\"automargin\": true, \"gridcolor\": \"white\", \"linecolor\": \"white\", \"ticks\": \"\", \"title\": {\"standoff\": 15}, \"zerolinecolor\": \"white\", \"zerolinewidth\": 2}}}, \"title\": {\"font\": {\"color\": \"#4D5663\"}}, \"xaxis\": {\"gridcolor\": \"#E1E5ED\", \"showgrid\": true, \"tickfont\": {\"color\": \"#4D5663\"}, \"title\": {\"font\": {\"color\": \"#4D5663\"}, \"text\": \"\"}, \"zerolinecolor\": \"#E1E5ED\"}, \"yaxis\": {\"gridcolor\": \"#E1E5ED\", \"showgrid\": true, \"tickfont\": {\"color\": \"#4D5663\"}, \"title\": {\"font\": {\"color\": \"#4D5663\"}, \"text\": \"\"}, \"zerolinecolor\": \"#E1E5ED\"}},\n",
       "                        {\"showLink\": true, \"linkText\": \"Export to plot.ly\", \"plotlyServerURL\": \"https://plot.ly\", \"responsive\": true}\n",
       "                    ).then(function(){\n",
       "                            \n",
       "var gd = document.getElementById('48d27f6a-f244-4465-81bf-f29e965b6d59');\n",
       "var x = new MutationObserver(function (mutations, observer) {{\n",
       "        var display = window.getComputedStyle(gd).display;\n",
       "        if (!display || display === 'none') {{\n",
       "            console.log([gd, 'removed!']);\n",
       "            Plotly.purge(gd);\n",
       "            observer.disconnect();\n",
       "        }}\n",
       "}});\n",
       "\n",
       "// Listen for the removal of the full notebook cells\n",
       "var notebookContainer = gd.closest('#notebook-container');\n",
       "if (notebookContainer) {{\n",
       "    x.observe(notebookContainer, {childList: true});\n",
       "}}\n",
       "\n",
       "// Listen for the clearing of the current output cell\n",
       "var outputEl = gd.closest('.output');\n",
       "if (outputEl) {{\n",
       "    x.observe(outputEl, {childList: true});\n",
       "}}\n",
       "\n",
       "                        })\n",
       "                };\n",
       "                });\n",
       "            </script>\n",
       "        </div>"
      ]
     },
     "metadata": {},
     "output_type": "display_data"
    }
   ],
   "source": [
    "df['A'].iplot(kind='hist',bins=25)"
   ]
  },
  {
   "cell_type": "code",
   "execution_count": 17,
   "metadata": {},
   "outputs": [
    {
     "data": {
      "application/vnd.plotly.v1+json": {
       "config": {
        "linkText": "Export to plot.ly",
        "plotlyServerURL": "https://plot.ly",
        "showLink": true
       },
       "data": [
        {
         "marker": {
          "color": [
           "rgb(255, 153, 51)",
           "rgb(55, 128, 191)",
           "rgb(50, 171, 96)",
           "rgb(128, 0, 128)",
           "rgb(219, 64, 82)",
           "rgb(0, 128, 128)",
           "rgb(255, 255, 51)",
           "rgb(128, 128, 0)",
           "rgb(251, 128, 114)",
           "rgb(128, 177, 211)"
          ],
          "line": {
           "width": 1.3
          },
          "size": [
           53,
           79,
           46,
           51,
           72,
           81,
           48,
           39,
           55,
           68,
           55,
           52,
           56,
           64,
           51,
           78,
           63,
           62,
           68,
           43,
           65,
           60,
           31,
           55,
           61,
           41,
           53,
           46,
           55,
           29,
           111,
           60,
           74,
           40,
           70,
           49,
           59,
           84,
           56,
           27,
           81,
           59,
           58,
           51,
           61,
           74,
           58,
           64,
           71,
           50,
           32,
           35,
           49,
           61,
           71,
           30,
           57,
           35,
           45,
           84,
           53,
           66,
           58,
           62,
           66,
           40,
           58,
           37,
           73,
           46,
           77,
           47,
           63,
           73,
           55,
           43,
           54,
           42,
           71,
           91,
           55,
           62,
           12,
           49,
           95,
           56,
           54,
           41,
           43,
           88,
           53,
           78,
           37,
           72,
           61,
           34,
           25,
           63,
           35,
           72
          ],
          "symbol": "circle"
         },
         "mode": "markers",
         "text": "",
         "type": "scatter",
         "x": [
          -0.0015585409020748443,
          0.8458864735345376,
          0.934414068172041,
          -1.299225287036096,
          -0.612313161810921,
          -1.9164219425202789,
          -0.23256760125329407,
          1.0920556656230416,
          -0.4662237559745914,
          0.11813620238621023,
          -0.3893305872383898,
          0.3524367390130047,
          0.6267049137115619,
          -2.0098283113102333,
          -0.42224277438234714,
          1.4834140075387432,
          0.0007950478259361682,
          -0.6043585953862748,
          0.4071176027713737,
          -1.4138220890082105,
          2.077707538654815,
          0.4768952209629994,
          1.3895053923630198,
          2.3244999824807198,
          -1.189297270602611,
          0.8722982996347064,
          2.2937988533328246,
          0.06467962016505363,
          -0.13633788837817873,
          -1.7836787475237632,
          0.22566002203532615,
          0.20566852075458583,
          -0.018339853278318195,
          -0.5654481912867622,
          -0.5078139751819283,
          0.8275904894419189,
          -0.5203960037208601,
          -0.41352349293990387,
          2.1181837053232897,
          -0.4590426190787295,
          1.2319084700892855,
          -0.5358681790349643,
          -0.498364296101095,
          0.9232038731051508,
          -0.2814992874895402,
          0.24769175172286134,
          0.2328949255804648,
          0.5473351367722717,
          0.9498326281204514,
          -1.8075122019812093,
          -0.16476749353990988,
          0.5752186600567579,
          0.13051060072420054,
          0.3498771676815099,
          0.40281032759571855,
          -0.950111217346983,
          1.1638492951727184,
          0.7788802320291295,
          -1.2857935794971982,
          1.622091453349334,
          0.8678849327369677,
          -0.5048785146381843,
          -0.4896243146193713,
          -0.010709110981634063,
          1.006602249430079,
          -0.40568483350162055,
          1.3087894411891126,
          0.190062600400811,
          1.0379437685082251,
          0.2029558624259573,
          1.2943640286010194,
          -1.1492525100133704,
          1.9470511979586185,
          -1.1750359924184552,
          -0.7121663439038282,
          -0.3725103090728009,
          0.8444841630918083,
          0.6485746069267528,
          0.8839137048866836,
          1.8032268952420396,
          0.5001484387119923,
          1.896484110324483,
          1.654298132548488,
          1.4071820106911808,
          -0.6308051064388178,
          0.3196782094684533,
          -1.4042278558123713,
          -0.30363620969810856,
          0.33937227389870644,
          -1.3141396770051583,
          1.7301125955143941,
          1.473261447646321,
          -1.2404429659357479,
          0.41453891492567924,
          0.8491352380137746,
          0.06291390210273382,
          0.8957023727937828,
          -0.8297378450246963,
          -0.15546745233405063,
          0.06115899148576859
         ],
         "y": [
          1.0175800614285233,
          -1.2381697268039793,
          0.7844385814995347,
          0.30504309679334424,
          0.07113000211751754,
          0.5464945125562095,
          1.1557504557988485,
          -1.7275411926016029,
          -0.22279057745760433,
          -0.014174013152534099,
          0.046397927392791756,
          -1.3337624718506451,
          1.191976549469535,
          -0.7183098682670902,
          -2.4698721321587866,
          0.9613881312364033,
          1.6833606698696069,
          0.42850756621014996,
          -1.1454449405585065,
          -0.08662254675121947,
          -0.9450585843005394,
          -0.33298677114239544,
          0.4657326635014758,
          -0.9691697286478733,
          0.62175588895002,
          1.0299919541363,
          0.8649747554739001,
          -0.6744088289128711,
          -0.6033349561993983,
          -0.6337091078175451,
          -0.08477989487573509,
          0.9323883959280738,
          0.1652884033603895,
          -0.6339840048762202,
          1.0507406443717582,
          1.0573753846404983,
          0.6636757389865048,
          1.3299452315771907,
          -2.410944620637584,
          0.02666908427756707,
          -1.2376861153521053,
          1.7238750523134125,
          -0.5086058475096568,
          -0.17507279212476282,
          0.5475713496593823,
          -1.4259641401525398,
          0.05369385509694605,
          -0.9299640092735049,
          0.11079782824479513,
          0.0736336796198157,
          -1.1284780669103156,
          2.3268805893841846,
          0.7353143553716142,
          0.5747292489874314,
          0.0061658081593460685,
          -0.8142937126202369,
          -0.5898683598036754,
          -1.2427151574703632,
          -1.6405760554796995,
          -1.175831136187835,
          1.149180086490129,
          -0.18251913868620054,
          -1.0876933367660377,
          0.9976299359074137,
          0.4003239380906782,
          0.2617838634232212,
          -0.32829660836018465,
          -0.23248596879774558,
          -0.14820288716904675,
          0.6253052461591179,
          2.685060965111488,
          -1.0063500799681528,
          0.6364210137912422,
          0.4341464126761938,
          -0.6846913415382077,
          0.03168060938323212,
          0.9653244668758755,
          0.2539811926246748,
          0.19839824105941936,
          1.7403553998585106,
          0.08270043220181753,
          -0.27786186641225313,
          -2.558636455467326,
          0.13711812987282768,
          -3.113999236124563,
          -0.875019859368395,
          0.4439283319975627,
          -0.9614670575196685,
          -1.8034029714721953,
          -0.028070800567166057,
          0.6141861352213069,
          -0.8745255066793514,
          -1.3864506353507577,
          0.9687999866524937,
          0.3151400059457273,
          0.2900335524231588,
          0.17169407679562926,
          0.7406298316795756,
          2.1758669248629254,
          2.277915743638747
         ]
        }
       ],
       "layout": {
        "legend": {
         "bgcolor": "#F5F6F9",
         "font": {
          "color": "#4D5663"
         }
        },
        "paper_bgcolor": "#F5F6F9",
        "plot_bgcolor": "#F5F6F9",
        "template": {
         "data": {
          "bar": [
           {
            "error_x": {
             "color": "#2a3f5f"
            },
            "error_y": {
             "color": "#2a3f5f"
            },
            "marker": {
             "line": {
              "color": "#E5ECF6",
              "width": 0.5
             }
            },
            "type": "bar"
           }
          ],
          "barpolar": [
           {
            "marker": {
             "line": {
              "color": "#E5ECF6",
              "width": 0.5
             }
            },
            "type": "barpolar"
           }
          ],
          "carpet": [
           {
            "aaxis": {
             "endlinecolor": "#2a3f5f",
             "gridcolor": "white",
             "linecolor": "white",
             "minorgridcolor": "white",
             "startlinecolor": "#2a3f5f"
            },
            "baxis": {
             "endlinecolor": "#2a3f5f",
             "gridcolor": "white",
             "linecolor": "white",
             "minorgridcolor": "white",
             "startlinecolor": "#2a3f5f"
            },
            "type": "carpet"
           }
          ],
          "choropleth": [
           {
            "colorbar": {
             "outlinewidth": 0,
             "ticks": ""
            },
            "type": "choropleth"
           }
          ],
          "contour": [
           {
            "colorbar": {
             "outlinewidth": 0,
             "ticks": ""
            },
            "colorscale": [
             [
              0,
              "#0d0887"
             ],
             [
              0.1111111111111111,
              "#46039f"
             ],
             [
              0.2222222222222222,
              "#7201a8"
             ],
             [
              0.3333333333333333,
              "#9c179e"
             ],
             [
              0.4444444444444444,
              "#bd3786"
             ],
             [
              0.5555555555555556,
              "#d8576b"
             ],
             [
              0.6666666666666666,
              "#ed7953"
             ],
             [
              0.7777777777777778,
              "#fb9f3a"
             ],
             [
              0.8888888888888888,
              "#fdca26"
             ],
             [
              1,
              "#f0f921"
             ]
            ],
            "type": "contour"
           }
          ],
          "contourcarpet": [
           {
            "colorbar": {
             "outlinewidth": 0,
             "ticks": ""
            },
            "type": "contourcarpet"
           }
          ],
          "heatmap": [
           {
            "colorbar": {
             "outlinewidth": 0,
             "ticks": ""
            },
            "colorscale": [
             [
              0,
              "#0d0887"
             ],
             [
              0.1111111111111111,
              "#46039f"
             ],
             [
              0.2222222222222222,
              "#7201a8"
             ],
             [
              0.3333333333333333,
              "#9c179e"
             ],
             [
              0.4444444444444444,
              "#bd3786"
             ],
             [
              0.5555555555555556,
              "#d8576b"
             ],
             [
              0.6666666666666666,
              "#ed7953"
             ],
             [
              0.7777777777777778,
              "#fb9f3a"
             ],
             [
              0.8888888888888888,
              "#fdca26"
             ],
             [
              1,
              "#f0f921"
             ]
            ],
            "type": "heatmap"
           }
          ],
          "heatmapgl": [
           {
            "colorbar": {
             "outlinewidth": 0,
             "ticks": ""
            },
            "colorscale": [
             [
              0,
              "#0d0887"
             ],
             [
              0.1111111111111111,
              "#46039f"
             ],
             [
              0.2222222222222222,
              "#7201a8"
             ],
             [
              0.3333333333333333,
              "#9c179e"
             ],
             [
              0.4444444444444444,
              "#bd3786"
             ],
             [
              0.5555555555555556,
              "#d8576b"
             ],
             [
              0.6666666666666666,
              "#ed7953"
             ],
             [
              0.7777777777777778,
              "#fb9f3a"
             ],
             [
              0.8888888888888888,
              "#fdca26"
             ],
             [
              1,
              "#f0f921"
             ]
            ],
            "type": "heatmapgl"
           }
          ],
          "histogram": [
           {
            "marker": {
             "colorbar": {
              "outlinewidth": 0,
              "ticks": ""
             }
            },
            "type": "histogram"
           }
          ],
          "histogram2d": [
           {
            "colorbar": {
             "outlinewidth": 0,
             "ticks": ""
            },
            "colorscale": [
             [
              0,
              "#0d0887"
             ],
             [
              0.1111111111111111,
              "#46039f"
             ],
             [
              0.2222222222222222,
              "#7201a8"
             ],
             [
              0.3333333333333333,
              "#9c179e"
             ],
             [
              0.4444444444444444,
              "#bd3786"
             ],
             [
              0.5555555555555556,
              "#d8576b"
             ],
             [
              0.6666666666666666,
              "#ed7953"
             ],
             [
              0.7777777777777778,
              "#fb9f3a"
             ],
             [
              0.8888888888888888,
              "#fdca26"
             ],
             [
              1,
              "#f0f921"
             ]
            ],
            "type": "histogram2d"
           }
          ],
          "histogram2dcontour": [
           {
            "colorbar": {
             "outlinewidth": 0,
             "ticks": ""
            },
            "colorscale": [
             [
              0,
              "#0d0887"
             ],
             [
              0.1111111111111111,
              "#46039f"
             ],
             [
              0.2222222222222222,
              "#7201a8"
             ],
             [
              0.3333333333333333,
              "#9c179e"
             ],
             [
              0.4444444444444444,
              "#bd3786"
             ],
             [
              0.5555555555555556,
              "#d8576b"
             ],
             [
              0.6666666666666666,
              "#ed7953"
             ],
             [
              0.7777777777777778,
              "#fb9f3a"
             ],
             [
              0.8888888888888888,
              "#fdca26"
             ],
             [
              1,
              "#f0f921"
             ]
            ],
            "type": "histogram2dcontour"
           }
          ],
          "mesh3d": [
           {
            "colorbar": {
             "outlinewidth": 0,
             "ticks": ""
            },
            "type": "mesh3d"
           }
          ],
          "parcoords": [
           {
            "line": {
             "colorbar": {
              "outlinewidth": 0,
              "ticks": ""
             }
            },
            "type": "parcoords"
           }
          ],
          "pie": [
           {
            "automargin": true,
            "type": "pie"
           }
          ],
          "scatter": [
           {
            "marker": {
             "colorbar": {
              "outlinewidth": 0,
              "ticks": ""
             }
            },
            "type": "scatter"
           }
          ],
          "scatter3d": [
           {
            "line": {
             "colorbar": {
              "outlinewidth": 0,
              "ticks": ""
             }
            },
            "marker": {
             "colorbar": {
              "outlinewidth": 0,
              "ticks": ""
             }
            },
            "type": "scatter3d"
           }
          ],
          "scattercarpet": [
           {
            "marker": {
             "colorbar": {
              "outlinewidth": 0,
              "ticks": ""
             }
            },
            "type": "scattercarpet"
           }
          ],
          "scattergeo": [
           {
            "marker": {
             "colorbar": {
              "outlinewidth": 0,
              "ticks": ""
             }
            },
            "type": "scattergeo"
           }
          ],
          "scattergl": [
           {
            "marker": {
             "colorbar": {
              "outlinewidth": 0,
              "ticks": ""
             }
            },
            "type": "scattergl"
           }
          ],
          "scattermapbox": [
           {
            "marker": {
             "colorbar": {
              "outlinewidth": 0,
              "ticks": ""
             }
            },
            "type": "scattermapbox"
           }
          ],
          "scatterpolar": [
           {
            "marker": {
             "colorbar": {
              "outlinewidth": 0,
              "ticks": ""
             }
            },
            "type": "scatterpolar"
           }
          ],
          "scatterpolargl": [
           {
            "marker": {
             "colorbar": {
              "outlinewidth": 0,
              "ticks": ""
             }
            },
            "type": "scatterpolargl"
           }
          ],
          "scatterternary": [
           {
            "marker": {
             "colorbar": {
              "outlinewidth": 0,
              "ticks": ""
             }
            },
            "type": "scatterternary"
           }
          ],
          "surface": [
           {
            "colorbar": {
             "outlinewidth": 0,
             "ticks": ""
            },
            "colorscale": [
             [
              0,
              "#0d0887"
             ],
             [
              0.1111111111111111,
              "#46039f"
             ],
             [
              0.2222222222222222,
              "#7201a8"
             ],
             [
              0.3333333333333333,
              "#9c179e"
             ],
             [
              0.4444444444444444,
              "#bd3786"
             ],
             [
              0.5555555555555556,
              "#d8576b"
             ],
             [
              0.6666666666666666,
              "#ed7953"
             ],
             [
              0.7777777777777778,
              "#fb9f3a"
             ],
             [
              0.8888888888888888,
              "#fdca26"
             ],
             [
              1,
              "#f0f921"
             ]
            ],
            "type": "surface"
           }
          ],
          "table": [
           {
            "cells": {
             "fill": {
              "color": "#EBF0F8"
             },
             "line": {
              "color": "white"
             }
            },
            "header": {
             "fill": {
              "color": "#C8D4E3"
             },
             "line": {
              "color": "white"
             }
            },
            "type": "table"
           }
          ]
         },
         "layout": {
          "annotationdefaults": {
           "arrowcolor": "#2a3f5f",
           "arrowhead": 0,
           "arrowwidth": 1
          },
          "coloraxis": {
           "colorbar": {
            "outlinewidth": 0,
            "ticks": ""
           }
          },
          "colorscale": {
           "diverging": [
            [
             0,
             "#8e0152"
            ],
            [
             0.1,
             "#c51b7d"
            ],
            [
             0.2,
             "#de77ae"
            ],
            [
             0.3,
             "#f1b6da"
            ],
            [
             0.4,
             "#fde0ef"
            ],
            [
             0.5,
             "#f7f7f7"
            ],
            [
             0.6,
             "#e6f5d0"
            ],
            [
             0.7,
             "#b8e186"
            ],
            [
             0.8,
             "#7fbc41"
            ],
            [
             0.9,
             "#4d9221"
            ],
            [
             1,
             "#276419"
            ]
           ],
           "sequential": [
            [
             0,
             "#0d0887"
            ],
            [
             0.1111111111111111,
             "#46039f"
            ],
            [
             0.2222222222222222,
             "#7201a8"
            ],
            [
             0.3333333333333333,
             "#9c179e"
            ],
            [
             0.4444444444444444,
             "#bd3786"
            ],
            [
             0.5555555555555556,
             "#d8576b"
            ],
            [
             0.6666666666666666,
             "#ed7953"
            ],
            [
             0.7777777777777778,
             "#fb9f3a"
            ],
            [
             0.8888888888888888,
             "#fdca26"
            ],
            [
             1,
             "#f0f921"
            ]
           ],
           "sequentialminus": [
            [
             0,
             "#0d0887"
            ],
            [
             0.1111111111111111,
             "#46039f"
            ],
            [
             0.2222222222222222,
             "#7201a8"
            ],
            [
             0.3333333333333333,
             "#9c179e"
            ],
            [
             0.4444444444444444,
             "#bd3786"
            ],
            [
             0.5555555555555556,
             "#d8576b"
            ],
            [
             0.6666666666666666,
             "#ed7953"
            ],
            [
             0.7777777777777778,
             "#fb9f3a"
            ],
            [
             0.8888888888888888,
             "#fdca26"
            ],
            [
             1,
             "#f0f921"
            ]
           ]
          },
          "colorway": [
           "#636efa",
           "#EF553B",
           "#00cc96",
           "#ab63fa",
           "#FFA15A",
           "#19d3f3",
           "#FF6692",
           "#B6E880",
           "#FF97FF",
           "#FECB52"
          ],
          "font": {
           "color": "#2a3f5f"
          },
          "geo": {
           "bgcolor": "white",
           "lakecolor": "white",
           "landcolor": "#E5ECF6",
           "showlakes": true,
           "showland": true,
           "subunitcolor": "white"
          },
          "hoverlabel": {
           "align": "left"
          },
          "hovermode": "closest",
          "mapbox": {
           "style": "light"
          },
          "paper_bgcolor": "white",
          "plot_bgcolor": "#E5ECF6",
          "polar": {
           "angularaxis": {
            "gridcolor": "white",
            "linecolor": "white",
            "ticks": ""
           },
           "bgcolor": "#E5ECF6",
           "radialaxis": {
            "gridcolor": "white",
            "linecolor": "white",
            "ticks": ""
           }
          },
          "scene": {
           "xaxis": {
            "backgroundcolor": "#E5ECF6",
            "gridcolor": "white",
            "gridwidth": 2,
            "linecolor": "white",
            "showbackground": true,
            "ticks": "",
            "zerolinecolor": "white"
           },
           "yaxis": {
            "backgroundcolor": "#E5ECF6",
            "gridcolor": "white",
            "gridwidth": 2,
            "linecolor": "white",
            "showbackground": true,
            "ticks": "",
            "zerolinecolor": "white"
           },
           "zaxis": {
            "backgroundcolor": "#E5ECF6",
            "gridcolor": "white",
            "gridwidth": 2,
            "linecolor": "white",
            "showbackground": true,
            "ticks": "",
            "zerolinecolor": "white"
           }
          },
          "shapedefaults": {
           "line": {
            "color": "#2a3f5f"
           }
          },
          "ternary": {
           "aaxis": {
            "gridcolor": "white",
            "linecolor": "white",
            "ticks": ""
           },
           "baxis": {
            "gridcolor": "white",
            "linecolor": "white",
            "ticks": ""
           },
           "bgcolor": "#E5ECF6",
           "caxis": {
            "gridcolor": "white",
            "linecolor": "white",
            "ticks": ""
           }
          },
          "title": {
           "x": 0.05
          },
          "xaxis": {
           "automargin": true,
           "gridcolor": "white",
           "linecolor": "white",
           "ticks": "",
           "title": {
            "standoff": 15
           },
           "zerolinecolor": "white",
           "zerolinewidth": 2
          },
          "yaxis": {
           "automargin": true,
           "gridcolor": "white",
           "linecolor": "white",
           "ticks": "",
           "title": {
            "standoff": 15
           },
           "zerolinecolor": "white",
           "zerolinewidth": 2
          }
         }
        },
        "title": {
         "font": {
          "color": "#4D5663"
         }
        },
        "xaxis": {
         "gridcolor": "#E1E5ED",
         "showgrid": true,
         "tickfont": {
          "color": "#4D5663"
         },
         "title": {
          "font": {
           "color": "#4D5663"
          },
          "text": ""
         },
         "zerolinecolor": "#E1E5ED"
        },
        "yaxis": {
         "gridcolor": "#E1E5ED",
         "showgrid": true,
         "tickfont": {
          "color": "#4D5663"
         },
         "title": {
          "font": {
           "color": "#4D5663"
          },
          "text": ""
         },
         "zerolinecolor": "#E1E5ED"
        }
       }
      },
      "text/html": [
       "<div>\n",
       "        \n",
       "        \n",
       "            <div id=\"197a7d9d-7c10-430d-8495-fa748b5c075e\" class=\"plotly-graph-div\" style=\"height:525px; width:100%;\"></div>\n",
       "            <script type=\"text/javascript\">\n",
       "                require([\"plotly\"], function(Plotly) {\n",
       "                    window.PLOTLYENV=window.PLOTLYENV || {};\n",
       "                    window.PLOTLYENV.BASE_URL='https://plot.ly';\n",
       "                    \n",
       "                if (document.getElementById(\"197a7d9d-7c10-430d-8495-fa748b5c075e\")) {\n",
       "                    Plotly.newPlot(\n",
       "                        '197a7d9d-7c10-430d-8495-fa748b5c075e',\n",
       "                        [{\"marker\": {\"color\": [\"rgb(255, 153, 51)\", \"rgb(55, 128, 191)\", \"rgb(50, 171, 96)\", \"rgb(128, 0, 128)\", \"rgb(219, 64, 82)\", \"rgb(0, 128, 128)\", \"rgb(255, 255, 51)\", \"rgb(128, 128, 0)\", \"rgb(251, 128, 114)\", \"rgb(128, 177, 211)\"], \"line\": {\"width\": 1.3}, \"size\": [53, 79, 46, 51, 72, 81, 48, 39, 55, 68, 55, 52, 56, 64, 51, 78, 63, 62, 68, 43, 65, 60, 31, 55, 61, 41, 53, 46, 55, 29, 111, 60, 74, 40, 70, 49, 59, 84, 56, 27, 81, 59, 58, 51, 61, 74, 58, 64, 71, 50, 32, 35, 49, 61, 71, 30, 57, 35, 45, 84, 53, 66, 58, 62, 66, 40, 58, 37, 73, 46, 77, 47, 63, 73, 55, 43, 54, 42, 71, 91, 55, 62, 12, 49, 95, 56, 54, 41, 43, 88, 53, 78, 37, 72, 61, 34, 25, 63, 35, 72], \"symbol\": \"circle\"}, \"mode\": \"markers\", \"text\": \"\", \"type\": \"scatter\", \"x\": [-0.0015585409020748443, 0.8458864735345376, 0.934414068172041, -1.299225287036096, -0.612313161810921, -1.9164219425202789, -0.23256760125329407, 1.0920556656230416, -0.4662237559745914, 0.11813620238621023, -0.3893305872383898, 0.3524367390130047, 0.6267049137115619, -2.0098283113102333, -0.42224277438234714, 1.4834140075387432, 0.0007950478259361682, -0.6043585953862748, 0.4071176027713737, -1.4138220890082105, 2.077707538654815, 0.4768952209629994, 1.3895053923630198, 2.3244999824807198, -1.189297270602611, 0.8722982996347064, 2.2937988533328246, 0.06467962016505363, -0.13633788837817873, -1.7836787475237632, 0.22566002203532615, 0.20566852075458583, -0.018339853278318195, -0.5654481912867622, -0.5078139751819283, 0.8275904894419189, -0.5203960037208601, -0.41352349293990387, 2.1181837053232897, -0.4590426190787295, 1.2319084700892855, -0.5358681790349643, -0.498364296101095, 0.9232038731051508, -0.2814992874895402, 0.24769175172286134, 0.2328949255804648, 0.5473351367722717, 0.9498326281204514, -1.8075122019812093, -0.16476749353990988, 0.5752186600567579, 0.13051060072420054, 0.3498771676815099, 0.40281032759571855, -0.950111217346983, 1.1638492951727184, 0.7788802320291295, -1.2857935794971982, 1.622091453349334, 0.8678849327369677, -0.5048785146381843, -0.4896243146193713, -0.010709110981634063, 1.006602249430079, -0.40568483350162055, 1.3087894411891126, 0.190062600400811, 1.0379437685082251, 0.2029558624259573, 1.2943640286010194, -1.1492525100133704, 1.9470511979586185, -1.1750359924184552, -0.7121663439038282, -0.3725103090728009, 0.8444841630918083, 0.6485746069267528, 0.8839137048866836, 1.8032268952420396, 0.5001484387119923, 1.896484110324483, 1.654298132548488, 1.4071820106911808, -0.6308051064388178, 0.3196782094684533, -1.4042278558123713, -0.30363620969810856, 0.33937227389870644, -1.3141396770051583, 1.7301125955143941, 1.473261447646321, -1.2404429659357479, 0.41453891492567924, 0.8491352380137746, 0.06291390210273382, 0.8957023727937828, -0.8297378450246963, -0.15546745233405063, 0.06115899148576859], \"y\": [1.0175800614285233, -1.2381697268039793, 0.7844385814995347, 0.30504309679334424, 0.07113000211751754, 0.5464945125562095, 1.1557504557988485, -1.7275411926016029, -0.22279057745760433, -0.014174013152534099, 0.046397927392791756, -1.3337624718506451, 1.191976549469535, -0.7183098682670902, -2.4698721321587866, 0.9613881312364033, 1.6833606698696069, 0.42850756621014996, -1.1454449405585065, -0.08662254675121947, -0.9450585843005394, -0.33298677114239544, 0.4657326635014758, -0.9691697286478733, 0.62175588895002, 1.0299919541363, 0.8649747554739001, -0.6744088289128711, -0.6033349561993983, -0.6337091078175451, -0.08477989487573509, 0.9323883959280738, 0.1652884033603895, -0.6339840048762202, 1.0507406443717582, 1.0573753846404983, 0.6636757389865048, 1.3299452315771907, -2.410944620637584, 0.02666908427756707, -1.2376861153521053, 1.7238750523134125, -0.5086058475096568, -0.17507279212476282, 0.5475713496593823, -1.4259641401525398, 0.05369385509694605, -0.9299640092735049, 0.11079782824479513, 0.0736336796198157, -1.1284780669103156, 2.3268805893841846, 0.7353143553716142, 0.5747292489874314, 0.0061658081593460685, -0.8142937126202369, -0.5898683598036754, -1.2427151574703632, -1.6405760554796995, -1.175831136187835, 1.149180086490129, -0.18251913868620054, -1.0876933367660377, 0.9976299359074137, 0.4003239380906782, 0.2617838634232212, -0.32829660836018465, -0.23248596879774558, -0.14820288716904675, 0.6253052461591179, 2.685060965111488, -1.0063500799681528, 0.6364210137912422, 0.4341464126761938, -0.6846913415382077, 0.03168060938323212, 0.9653244668758755, 0.2539811926246748, 0.19839824105941936, 1.7403553998585106, 0.08270043220181753, -0.27786186641225313, -2.558636455467326, 0.13711812987282768, -3.113999236124563, -0.875019859368395, 0.4439283319975627, -0.9614670575196685, -1.8034029714721953, -0.028070800567166057, 0.6141861352213069, -0.8745255066793514, -1.3864506353507577, 0.9687999866524937, 0.3151400059457273, 0.2900335524231588, 0.17169407679562926, 0.7406298316795756, 2.1758669248629254, 2.277915743638747]}],\n",
       "                        {\"legend\": {\"bgcolor\": \"#F5F6F9\", \"font\": {\"color\": \"#4D5663\"}}, \"paper_bgcolor\": \"#F5F6F9\", \"plot_bgcolor\": \"#F5F6F9\", \"template\": {\"data\": {\"bar\": [{\"error_x\": {\"color\": \"#2a3f5f\"}, \"error_y\": {\"color\": \"#2a3f5f\"}, \"marker\": {\"line\": {\"color\": \"#E5ECF6\", \"width\": 0.5}}, \"type\": \"bar\"}], \"barpolar\": [{\"marker\": {\"line\": {\"color\": \"#E5ECF6\", \"width\": 0.5}}, \"type\": \"barpolar\"}], \"carpet\": [{\"aaxis\": {\"endlinecolor\": \"#2a3f5f\", \"gridcolor\": \"white\", \"linecolor\": \"white\", \"minorgridcolor\": \"white\", \"startlinecolor\": \"#2a3f5f\"}, \"baxis\": {\"endlinecolor\": \"#2a3f5f\", \"gridcolor\": \"white\", \"linecolor\": \"white\", \"minorgridcolor\": \"white\", \"startlinecolor\": \"#2a3f5f\"}, \"type\": \"carpet\"}], \"choropleth\": [{\"colorbar\": {\"outlinewidth\": 0, \"ticks\": \"\"}, \"type\": \"choropleth\"}], \"contour\": [{\"colorbar\": {\"outlinewidth\": 0, \"ticks\": \"\"}, \"colorscale\": [[0.0, \"#0d0887\"], [0.1111111111111111, \"#46039f\"], [0.2222222222222222, \"#7201a8\"], [0.3333333333333333, \"#9c179e\"], [0.4444444444444444, \"#bd3786\"], [0.5555555555555556, \"#d8576b\"], [0.6666666666666666, \"#ed7953\"], [0.7777777777777778, \"#fb9f3a\"], [0.8888888888888888, \"#fdca26\"], [1.0, \"#f0f921\"]], \"type\": \"contour\"}], \"contourcarpet\": [{\"colorbar\": {\"outlinewidth\": 0, \"ticks\": \"\"}, \"type\": \"contourcarpet\"}], \"heatmap\": [{\"colorbar\": {\"outlinewidth\": 0, \"ticks\": \"\"}, \"colorscale\": [[0.0, \"#0d0887\"], [0.1111111111111111, \"#46039f\"], [0.2222222222222222, \"#7201a8\"], [0.3333333333333333, \"#9c179e\"], [0.4444444444444444, \"#bd3786\"], [0.5555555555555556, \"#d8576b\"], [0.6666666666666666, \"#ed7953\"], [0.7777777777777778, \"#fb9f3a\"], [0.8888888888888888, \"#fdca26\"], [1.0, \"#f0f921\"]], \"type\": \"heatmap\"}], \"heatmapgl\": [{\"colorbar\": {\"outlinewidth\": 0, \"ticks\": \"\"}, \"colorscale\": [[0.0, \"#0d0887\"], [0.1111111111111111, \"#46039f\"], [0.2222222222222222, \"#7201a8\"], [0.3333333333333333, \"#9c179e\"], [0.4444444444444444, \"#bd3786\"], [0.5555555555555556, \"#d8576b\"], [0.6666666666666666, \"#ed7953\"], [0.7777777777777778, \"#fb9f3a\"], [0.8888888888888888, \"#fdca26\"], [1.0, \"#f0f921\"]], \"type\": \"heatmapgl\"}], \"histogram\": [{\"marker\": {\"colorbar\": {\"outlinewidth\": 0, \"ticks\": \"\"}}, \"type\": \"histogram\"}], \"histogram2d\": [{\"colorbar\": {\"outlinewidth\": 0, \"ticks\": \"\"}, \"colorscale\": [[0.0, \"#0d0887\"], [0.1111111111111111, \"#46039f\"], [0.2222222222222222, \"#7201a8\"], [0.3333333333333333, \"#9c179e\"], [0.4444444444444444, \"#bd3786\"], [0.5555555555555556, \"#d8576b\"], [0.6666666666666666, \"#ed7953\"], [0.7777777777777778, \"#fb9f3a\"], [0.8888888888888888, \"#fdca26\"], [1.0, \"#f0f921\"]], \"type\": \"histogram2d\"}], \"histogram2dcontour\": [{\"colorbar\": {\"outlinewidth\": 0, \"ticks\": \"\"}, \"colorscale\": [[0.0, \"#0d0887\"], [0.1111111111111111, \"#46039f\"], [0.2222222222222222, \"#7201a8\"], [0.3333333333333333, \"#9c179e\"], [0.4444444444444444, \"#bd3786\"], [0.5555555555555556, \"#d8576b\"], [0.6666666666666666, \"#ed7953\"], [0.7777777777777778, \"#fb9f3a\"], [0.8888888888888888, \"#fdca26\"], [1.0, \"#f0f921\"]], \"type\": \"histogram2dcontour\"}], \"mesh3d\": [{\"colorbar\": {\"outlinewidth\": 0, \"ticks\": \"\"}, \"type\": \"mesh3d\"}], \"parcoords\": [{\"line\": {\"colorbar\": {\"outlinewidth\": 0, \"ticks\": \"\"}}, \"type\": \"parcoords\"}], \"pie\": [{\"automargin\": true, \"type\": \"pie\"}], \"scatter\": [{\"marker\": {\"colorbar\": {\"outlinewidth\": 0, \"ticks\": \"\"}}, \"type\": \"scatter\"}], \"scatter3d\": [{\"line\": {\"colorbar\": {\"outlinewidth\": 0, \"ticks\": \"\"}}, \"marker\": {\"colorbar\": {\"outlinewidth\": 0, \"ticks\": \"\"}}, \"type\": \"scatter3d\"}], \"scattercarpet\": [{\"marker\": {\"colorbar\": {\"outlinewidth\": 0, \"ticks\": \"\"}}, \"type\": \"scattercarpet\"}], \"scattergeo\": [{\"marker\": {\"colorbar\": {\"outlinewidth\": 0, \"ticks\": \"\"}}, \"type\": \"scattergeo\"}], \"scattergl\": [{\"marker\": {\"colorbar\": {\"outlinewidth\": 0, \"ticks\": \"\"}}, \"type\": \"scattergl\"}], \"scattermapbox\": [{\"marker\": {\"colorbar\": {\"outlinewidth\": 0, \"ticks\": \"\"}}, \"type\": \"scattermapbox\"}], \"scatterpolar\": [{\"marker\": {\"colorbar\": {\"outlinewidth\": 0, \"ticks\": \"\"}}, \"type\": \"scatterpolar\"}], \"scatterpolargl\": [{\"marker\": {\"colorbar\": {\"outlinewidth\": 0, \"ticks\": \"\"}}, \"type\": \"scatterpolargl\"}], \"scatterternary\": [{\"marker\": {\"colorbar\": {\"outlinewidth\": 0, \"ticks\": \"\"}}, \"type\": \"scatterternary\"}], \"surface\": [{\"colorbar\": {\"outlinewidth\": 0, \"ticks\": \"\"}, \"colorscale\": [[0.0, \"#0d0887\"], [0.1111111111111111, \"#46039f\"], [0.2222222222222222, \"#7201a8\"], [0.3333333333333333, \"#9c179e\"], [0.4444444444444444, \"#bd3786\"], [0.5555555555555556, \"#d8576b\"], [0.6666666666666666, \"#ed7953\"], [0.7777777777777778, \"#fb9f3a\"], [0.8888888888888888, \"#fdca26\"], [1.0, \"#f0f921\"]], \"type\": \"surface\"}], \"table\": [{\"cells\": {\"fill\": {\"color\": \"#EBF0F8\"}, \"line\": {\"color\": \"white\"}}, \"header\": {\"fill\": {\"color\": \"#C8D4E3\"}, \"line\": {\"color\": \"white\"}}, \"type\": \"table\"}]}, \"layout\": {\"annotationdefaults\": {\"arrowcolor\": \"#2a3f5f\", \"arrowhead\": 0, \"arrowwidth\": 1}, \"coloraxis\": {\"colorbar\": {\"outlinewidth\": 0, \"ticks\": \"\"}}, \"colorscale\": {\"diverging\": [[0, \"#8e0152\"], [0.1, \"#c51b7d\"], [0.2, \"#de77ae\"], [0.3, \"#f1b6da\"], [0.4, \"#fde0ef\"], [0.5, \"#f7f7f7\"], [0.6, \"#e6f5d0\"], [0.7, \"#b8e186\"], [0.8, \"#7fbc41\"], [0.9, \"#4d9221\"], [1, \"#276419\"]], \"sequential\": [[0.0, \"#0d0887\"], [0.1111111111111111, \"#46039f\"], [0.2222222222222222, \"#7201a8\"], [0.3333333333333333, \"#9c179e\"], [0.4444444444444444, \"#bd3786\"], [0.5555555555555556, \"#d8576b\"], [0.6666666666666666, \"#ed7953\"], [0.7777777777777778, \"#fb9f3a\"], [0.8888888888888888, \"#fdca26\"], [1.0, \"#f0f921\"]], \"sequentialminus\": [[0.0, \"#0d0887\"], [0.1111111111111111, \"#46039f\"], [0.2222222222222222, \"#7201a8\"], [0.3333333333333333, \"#9c179e\"], [0.4444444444444444, \"#bd3786\"], [0.5555555555555556, \"#d8576b\"], [0.6666666666666666, \"#ed7953\"], [0.7777777777777778, \"#fb9f3a\"], [0.8888888888888888, \"#fdca26\"], [1.0, \"#f0f921\"]]}, \"colorway\": [\"#636efa\", \"#EF553B\", \"#00cc96\", \"#ab63fa\", \"#FFA15A\", \"#19d3f3\", \"#FF6692\", \"#B6E880\", \"#FF97FF\", \"#FECB52\"], \"font\": {\"color\": \"#2a3f5f\"}, \"geo\": {\"bgcolor\": \"white\", \"lakecolor\": \"white\", \"landcolor\": \"#E5ECF6\", \"showlakes\": true, \"showland\": true, \"subunitcolor\": \"white\"}, \"hoverlabel\": {\"align\": \"left\"}, \"hovermode\": \"closest\", \"mapbox\": {\"style\": \"light\"}, \"paper_bgcolor\": \"white\", \"plot_bgcolor\": \"#E5ECF6\", \"polar\": {\"angularaxis\": {\"gridcolor\": \"white\", \"linecolor\": \"white\", \"ticks\": \"\"}, \"bgcolor\": \"#E5ECF6\", \"radialaxis\": {\"gridcolor\": \"white\", \"linecolor\": \"white\", \"ticks\": \"\"}}, \"scene\": {\"xaxis\": {\"backgroundcolor\": \"#E5ECF6\", \"gridcolor\": \"white\", \"gridwidth\": 2, \"linecolor\": \"white\", \"showbackground\": true, \"ticks\": \"\", \"zerolinecolor\": \"white\"}, \"yaxis\": {\"backgroundcolor\": \"#E5ECF6\", \"gridcolor\": \"white\", \"gridwidth\": 2, \"linecolor\": \"white\", \"showbackground\": true, \"ticks\": \"\", \"zerolinecolor\": \"white\"}, \"zaxis\": {\"backgroundcolor\": \"#E5ECF6\", \"gridcolor\": \"white\", \"gridwidth\": 2, \"linecolor\": \"white\", \"showbackground\": true, \"ticks\": \"\", \"zerolinecolor\": \"white\"}}, \"shapedefaults\": {\"line\": {\"color\": \"#2a3f5f\"}}, \"ternary\": {\"aaxis\": {\"gridcolor\": \"white\", \"linecolor\": \"white\", \"ticks\": \"\"}, \"baxis\": {\"gridcolor\": \"white\", \"linecolor\": \"white\", \"ticks\": \"\"}, \"bgcolor\": \"#E5ECF6\", \"caxis\": {\"gridcolor\": \"white\", \"linecolor\": \"white\", \"ticks\": \"\"}}, \"title\": {\"x\": 0.05}, \"xaxis\": {\"automargin\": true, \"gridcolor\": \"white\", \"linecolor\": \"white\", \"ticks\": \"\", \"title\": {\"standoff\": 15}, \"zerolinecolor\": \"white\", \"zerolinewidth\": 2}, \"yaxis\": {\"automargin\": true, \"gridcolor\": \"white\", \"linecolor\": \"white\", \"ticks\": \"\", \"title\": {\"standoff\": 15}, \"zerolinecolor\": \"white\", \"zerolinewidth\": 2}}}, \"title\": {\"font\": {\"color\": \"#4D5663\"}}, \"xaxis\": {\"gridcolor\": \"#E1E5ED\", \"showgrid\": true, \"tickfont\": {\"color\": \"#4D5663\"}, \"title\": {\"font\": {\"color\": \"#4D5663\"}, \"text\": \"\"}, \"zerolinecolor\": \"#E1E5ED\"}, \"yaxis\": {\"gridcolor\": \"#E1E5ED\", \"showgrid\": true, \"tickfont\": {\"color\": \"#4D5663\"}, \"title\": {\"font\": {\"color\": \"#4D5663\"}, \"text\": \"\"}, \"zerolinecolor\": \"#E1E5ED\"}},\n",
       "                        {\"showLink\": true, \"linkText\": \"Export to plot.ly\", \"plotlyServerURL\": \"https://plot.ly\", \"responsive\": true}\n",
       "                    ).then(function(){\n",
       "                            \n",
       "var gd = document.getElementById('197a7d9d-7c10-430d-8495-fa748b5c075e');\n",
       "var x = new MutationObserver(function (mutations, observer) {{\n",
       "        var display = window.getComputedStyle(gd).display;\n",
       "        if (!display || display === 'none') {{\n",
       "            console.log([gd, 'removed!']);\n",
       "            Plotly.purge(gd);\n",
       "            observer.disconnect();\n",
       "        }}\n",
       "}});\n",
       "\n",
       "// Listen for the removal of the full notebook cells\n",
       "var notebookContainer = gd.closest('#notebook-container');\n",
       "if (notebookContainer) {{\n",
       "    x.observe(notebookContainer, {childList: true});\n",
       "}}\n",
       "\n",
       "// Listen for the clearing of the current output cell\n",
       "var outputEl = gd.closest('.output');\n",
       "if (outputEl) {{\n",
       "    x.observe(outputEl, {childList: true});\n",
       "}}\n",
       "\n",
       "                        })\n",
       "                };\n",
       "                });\n",
       "            </script>\n",
       "        </div>"
      ]
     },
     "metadata": {},
     "output_type": "display_data"
    }
   ],
   "source": [
    "df.iplot(kind='bubble',x='A',y='B',size='C')"
   ]
  },
  {
   "cell_type": "markdown",
   "metadata": {},
   "source": [
    "## scatter_matrix()\n",
    "\n",
    "Similar to sns.pairplot()"
   ]
  },
  {
   "cell_type": "code",
   "execution_count": 20,
   "metadata": {},
   "outputs": [
    {
     "data": {
      "application/vnd.plotly.v1+json": {
       "config": {
        "linkText": "Export to plot.ly",
        "plotlyServerURL": "https://plot.ly",
        "showLink": true
       },
       "data": [
        {
         "histfunc": "count",
         "histnorm": "",
         "marker": {
          "color": "rgba(255, 153, 51, 1.0)",
          "line": {
           "color": "#4D5663",
           "width": 1.3
          }
         },
         "name": "A",
         "nbinsx": 10,
         "opacity": 0.8,
         "orientation": "v",
         "type": "histogram",
         "x": [
          -0.0015585409020748443,
          0.8458864735345376,
          0.934414068172041,
          -1.299225287036096,
          -0.612313161810921,
          -1.9164219425202789,
          -0.23256760125329407,
          1.0920556656230416,
          -0.4662237559745914,
          0.11813620238621023,
          -0.3893305872383898,
          0.3524367390130047,
          0.6267049137115619,
          -2.0098283113102333,
          -0.42224277438234714,
          1.4834140075387432,
          0.0007950478259361682,
          -0.6043585953862748,
          0.4071176027713737,
          -1.4138220890082105,
          2.077707538654815,
          0.4768952209629994,
          1.3895053923630198,
          2.3244999824807198,
          -1.189297270602611,
          0.8722982996347064,
          2.2937988533328246,
          0.06467962016505363,
          -0.13633788837817873,
          -1.7836787475237632,
          0.22566002203532615,
          0.20566852075458583,
          -0.018339853278318195,
          -0.5654481912867622,
          -0.5078139751819283,
          0.8275904894419189,
          -0.5203960037208601,
          -0.41352349293990387,
          2.1181837053232897,
          -0.4590426190787295,
          1.2319084700892855,
          -0.5358681790349643,
          -0.498364296101095,
          0.9232038731051508,
          -0.2814992874895402,
          0.24769175172286134,
          0.2328949255804648,
          0.5473351367722717,
          0.9498326281204514,
          -1.8075122019812093,
          -0.16476749353990988,
          0.5752186600567579,
          0.13051060072420054,
          0.3498771676815099,
          0.40281032759571855,
          -0.950111217346983,
          1.1638492951727184,
          0.7788802320291295,
          -1.2857935794971982,
          1.622091453349334,
          0.8678849327369677,
          -0.5048785146381843,
          -0.4896243146193713,
          -0.010709110981634063,
          1.006602249430079,
          -0.40568483350162055,
          1.3087894411891126,
          0.190062600400811,
          1.0379437685082251,
          0.2029558624259573,
          1.2943640286010194,
          -1.1492525100133704,
          1.9470511979586185,
          -1.1750359924184552,
          -0.7121663439038282,
          -0.3725103090728009,
          0.8444841630918083,
          0.6485746069267528,
          0.8839137048866836,
          1.8032268952420396,
          0.5001484387119923,
          1.896484110324483,
          1.654298132548488,
          1.4071820106911808,
          -0.6308051064388178,
          0.3196782094684533,
          -1.4042278558123713,
          -0.30363620969810856,
          0.33937227389870644,
          -1.3141396770051583,
          1.7301125955143941,
          1.473261447646321,
          -1.2404429659357479,
          0.41453891492567924,
          0.8491352380137746,
          0.06291390210273382,
          0.8957023727937828,
          -0.8297378450246963,
          -0.15546745233405063,
          0.06115899148576859
         ],
         "xaxis": "x",
         "yaxis": "y"
        },
        {
         "line": {
          "color": "rgba(128, 128, 128, 1.0)",
          "dash": "solid",
          "shape": "linear",
          "width": 1.3
         },
         "marker": {
          "size": 2,
          "symbol": "circle"
         },
         "mode": "markers",
         "name": "A",
         "text": "",
         "type": "scatter",
         "x": [
          1.0175800614285233,
          -1.2381697268039793,
          0.7844385814995347,
          0.30504309679334424,
          0.07113000211751754,
          0.5464945125562095,
          1.1557504557988485,
          -1.7275411926016029,
          -0.22279057745760433,
          -0.014174013152534099,
          0.046397927392791756,
          -1.3337624718506451,
          1.191976549469535,
          -0.7183098682670902,
          -2.4698721321587866,
          0.9613881312364033,
          1.6833606698696069,
          0.42850756621014996,
          -1.1454449405585065,
          -0.08662254675121947,
          -0.9450585843005394,
          -0.33298677114239544,
          0.4657326635014758,
          -0.9691697286478733,
          0.62175588895002,
          1.0299919541363,
          0.8649747554739001,
          -0.6744088289128711,
          -0.6033349561993983,
          -0.6337091078175451,
          -0.08477989487573509,
          0.9323883959280738,
          0.1652884033603895,
          -0.6339840048762202,
          1.0507406443717582,
          1.0573753846404983,
          0.6636757389865048,
          1.3299452315771907,
          -2.410944620637584,
          0.02666908427756707,
          -1.2376861153521053,
          1.7238750523134125,
          -0.5086058475096568,
          -0.17507279212476282,
          0.5475713496593823,
          -1.4259641401525398,
          0.05369385509694605,
          -0.9299640092735049,
          0.11079782824479513,
          0.0736336796198157,
          -1.1284780669103156,
          2.3268805893841846,
          0.7353143553716142,
          0.5747292489874314,
          0.0061658081593460685,
          -0.8142937126202369,
          -0.5898683598036754,
          -1.2427151574703632,
          -1.6405760554796995,
          -1.175831136187835,
          1.149180086490129,
          -0.18251913868620054,
          -1.0876933367660377,
          0.9976299359074137,
          0.4003239380906782,
          0.2617838634232212,
          -0.32829660836018465,
          -0.23248596879774558,
          -0.14820288716904675,
          0.6253052461591179,
          2.685060965111488,
          -1.0063500799681528,
          0.6364210137912422,
          0.4341464126761938,
          -0.6846913415382077,
          0.03168060938323212,
          0.9653244668758755,
          0.2539811926246748,
          0.19839824105941936,
          1.7403553998585106,
          0.08270043220181753,
          -0.27786186641225313,
          -2.558636455467326,
          0.13711812987282768,
          -3.113999236124563,
          -0.875019859368395,
          0.4439283319975627,
          -0.9614670575196685,
          -1.8034029714721953,
          -0.028070800567166057,
          0.6141861352213069,
          -0.8745255066793514,
          -1.3864506353507577,
          0.9687999866524937,
          0.3151400059457273,
          0.2900335524231588,
          0.17169407679562926,
          0.7406298316795756,
          2.1758669248629254,
          2.277915743638747
         ],
         "xaxis": "x2",
         "y": [
          -0.0015585409020748443,
          0.8458864735345376,
          0.934414068172041,
          -1.299225287036096,
          -0.612313161810921,
          -1.9164219425202789,
          -0.23256760125329407,
          1.0920556656230416,
          -0.4662237559745914,
          0.11813620238621023,
          -0.3893305872383898,
          0.3524367390130047,
          0.6267049137115619,
          -2.0098283113102333,
          -0.42224277438234714,
          1.4834140075387432,
          0.0007950478259361682,
          -0.6043585953862748,
          0.4071176027713737,
          -1.4138220890082105,
          2.077707538654815,
          0.4768952209629994,
          1.3895053923630198,
          2.3244999824807198,
          -1.189297270602611,
          0.8722982996347064,
          2.2937988533328246,
          0.06467962016505363,
          -0.13633788837817873,
          -1.7836787475237632,
          0.22566002203532615,
          0.20566852075458583,
          -0.018339853278318195,
          -0.5654481912867622,
          -0.5078139751819283,
          0.8275904894419189,
          -0.5203960037208601,
          -0.41352349293990387,
          2.1181837053232897,
          -0.4590426190787295,
          1.2319084700892855,
          -0.5358681790349643,
          -0.498364296101095,
          0.9232038731051508,
          -0.2814992874895402,
          0.24769175172286134,
          0.2328949255804648,
          0.5473351367722717,
          0.9498326281204514,
          -1.8075122019812093,
          -0.16476749353990988,
          0.5752186600567579,
          0.13051060072420054,
          0.3498771676815099,
          0.40281032759571855,
          -0.950111217346983,
          1.1638492951727184,
          0.7788802320291295,
          -1.2857935794971982,
          1.622091453349334,
          0.8678849327369677,
          -0.5048785146381843,
          -0.4896243146193713,
          -0.010709110981634063,
          1.006602249430079,
          -0.40568483350162055,
          1.3087894411891126,
          0.190062600400811,
          1.0379437685082251,
          0.2029558624259573,
          1.2943640286010194,
          -1.1492525100133704,
          1.9470511979586185,
          -1.1750359924184552,
          -0.7121663439038282,
          -0.3725103090728009,
          0.8444841630918083,
          0.6485746069267528,
          0.8839137048866836,
          1.8032268952420396,
          0.5001484387119923,
          1.896484110324483,
          1.654298132548488,
          1.4071820106911808,
          -0.6308051064388178,
          0.3196782094684533,
          -1.4042278558123713,
          -0.30363620969810856,
          0.33937227389870644,
          -1.3141396770051583,
          1.7301125955143941,
          1.473261447646321,
          -1.2404429659357479,
          0.41453891492567924,
          0.8491352380137746,
          0.06291390210273382,
          0.8957023727937828,
          -0.8297378450246963,
          -0.15546745233405063,
          0.06115899148576859
         ],
         "yaxis": "y2"
        },
        {
         "line": {
          "color": "rgba(128, 128, 128, 1.0)",
          "dash": "solid",
          "shape": "linear",
          "width": 1.3
         },
         "marker": {
          "size": 2,
          "symbol": "circle"
         },
         "mode": "markers",
         "name": "A",
         "text": "",
         "type": "scatter",
         "x": [
          -0.3788015313202212,
          1.256762231295425,
          -0.8306300375628289,
          -0.4608964149762124,
          0.8403424244494432,
          1.382446688545958,
          -0.6648836286791291,
          -1.219886004139807,
          -0.2667387299528493,
          0.5637496816006109,
          -0.22579301283267872,
          -0.4453936088138776,
          -0.15907827396625296,
          0.3188589022283024,
          -0.49120530496722187,
          1.1713785524378253,
          0.2890678697829857,
          0.22533111201464287,
          0.5561921151720705,
          -0.99041241400968,
          0.39497006397390916,
          0.07844922125051666,
          -1.7713057250695605,
          -0.25905732239853096,
          0.15315464636697984,
          -1.110420311156213,
          -0.3957901769918868,
          -0.8205317576014358,
          -0.21560993396833739,
          -1.8620014563420701,
          3.2984642851881505,
          0.06214774861774642,
          0.9286263489991817,
          -1.209408037624237,
          0.6946553240463219,
          -0.6185088427971893,
          -0.017783693049615926,
          1.5449245975139039,
          -0.15206213305347338,
          -1.9825608980930653,
          1.3817460352203639,
          0.03299365426770661,
          -0.05988533865434531,
          -0.4727955916530704,
          0.15993493017843194,
          0.9624712884103498,
          -0.0652689903471656,
          0.32292198225665547,
          0.7542099788658005,
          -0.538579659456351,
          -1.651282827813881,
          -1.5066685189357847,
          -0.591096521344276,
          0.11415136327812293,
          0.7601189954766393,
          -1.809259553258281,
          -0.10767748365051709,
          -1.5180254739925352,
          -0.8758650425416121,
          1.594704343412804,
          -0.3621068285076178,
          0.46617400533619474,
          -0.04456531740033875,
          0.20350725328813968,
          0.43859372092595994,
          -1.1963691799216696,
          -0.03610936369111613,
          -1.3583044466536425,
          0.917267703545791,
          -0.8232825321337947,
          1.1318480834374294,
          -0.754699171130626,
          0.2658900823377884,
          0.8706654067258455,
          -0.27004721301889606,
          -0.9770383142387139,
          -0.28752871067961044,
          -1.0502547160445979,
          0.7914363174433269,
          2.0409131427270615,
          -0.21684446951038677,
          0.17069481759767355,
          -2.9664272071875293,
          -0.600310081255409,
          2.2387352422545326,
          -0.20946565899667627,
          -0.3215864917094097,
          -1.1453247812042877,
          -1.0164123491429509,
          1.82079047930281,
          -0.3459161939231618,
          1.2015699247574514,
          -1.3615378521065202,
          0.7967606125654182,
          0.13520136165040794,
          -1.5800820323218054,
          -2.106418155858577,
          0.26803487769489037,
          -1.512463224626046,
          0.7996005123284501
         ],
         "xaxis": "x3",
         "y": [
          -0.0015585409020748443,
          0.8458864735345376,
          0.934414068172041,
          -1.299225287036096,
          -0.612313161810921,
          -1.9164219425202789,
          -0.23256760125329407,
          1.0920556656230416,
          -0.4662237559745914,
          0.11813620238621023,
          -0.3893305872383898,
          0.3524367390130047,
          0.6267049137115619,
          -2.0098283113102333,
          -0.42224277438234714,
          1.4834140075387432,
          0.0007950478259361682,
          -0.6043585953862748,
          0.4071176027713737,
          -1.4138220890082105,
          2.077707538654815,
          0.4768952209629994,
          1.3895053923630198,
          2.3244999824807198,
          -1.189297270602611,
          0.8722982996347064,
          2.2937988533328246,
          0.06467962016505363,
          -0.13633788837817873,
          -1.7836787475237632,
          0.22566002203532615,
          0.20566852075458583,
          -0.018339853278318195,
          -0.5654481912867622,
          -0.5078139751819283,
          0.8275904894419189,
          -0.5203960037208601,
          -0.41352349293990387,
          2.1181837053232897,
          -0.4590426190787295,
          1.2319084700892855,
          -0.5358681790349643,
          -0.498364296101095,
          0.9232038731051508,
          -0.2814992874895402,
          0.24769175172286134,
          0.2328949255804648,
          0.5473351367722717,
          0.9498326281204514,
          -1.8075122019812093,
          -0.16476749353990988,
          0.5752186600567579,
          0.13051060072420054,
          0.3498771676815099,
          0.40281032759571855,
          -0.950111217346983,
          1.1638492951727184,
          0.7788802320291295,
          -1.2857935794971982,
          1.622091453349334,
          0.8678849327369677,
          -0.5048785146381843,
          -0.4896243146193713,
          -0.010709110981634063,
          1.006602249430079,
          -0.40568483350162055,
          1.3087894411891126,
          0.190062600400811,
          1.0379437685082251,
          0.2029558624259573,
          1.2943640286010194,
          -1.1492525100133704,
          1.9470511979586185,
          -1.1750359924184552,
          -0.7121663439038282,
          -0.3725103090728009,
          0.8444841630918083,
          0.6485746069267528,
          0.8839137048866836,
          1.8032268952420396,
          0.5001484387119923,
          1.896484110324483,
          1.654298132548488,
          1.4071820106911808,
          -0.6308051064388178,
          0.3196782094684533,
          -1.4042278558123713,
          -0.30363620969810856,
          0.33937227389870644,
          -1.3141396770051583,
          1.7301125955143941,
          1.473261447646321,
          -1.2404429659357479,
          0.41453891492567924,
          0.8491352380137746,
          0.06291390210273382,
          0.8957023727937828,
          -0.8297378450246963,
          -0.15546745233405063,
          0.06115899148576859
         ],
         "yaxis": "y3"
        },
        {
         "line": {
          "color": "rgba(128, 128, 128, 1.0)",
          "dash": "solid",
          "shape": "linear",
          "width": 1.3
         },
         "marker": {
          "size": 2,
          "symbol": "circle"
         },
         "mode": "markers",
         "name": "A",
         "text": "",
         "type": "scatter",
         "x": [
          -0.11638704796165784,
          -0.7002249145000803,
          -0.7559517130326966,
          1.1305922656785876,
          -0.6038578300924019,
          -1.075086901430937,
          -0.3989676241763057,
          -0.8895140403200313,
          0.0949517121580332,
          -0.7161291245309929,
          0.0661068785899851,
          1.0901273098596156,
          0.6772356135465372,
          -0.5041475983570313,
          -0.3053154132514319,
          0.27148079247714174,
          -0.18156190976840691,
          0.16379448272566335,
          0.9721880440901653,
          -1.5115428542507243,
          0.09880160039176525,
          0.1883791691285031,
          0.2875295713790334,
          0.2508200922256019,
          0.37144140897188865,
          -1.5125712150306476,
          -0.3000500023828874,
          -1.4467564617646498,
          0.7668413260168058,
          -1.128039398386622,
          0.371943048263021,
          -1.8846930751494804,
          0.23396193895397652,
          1.1239652961702076,
          1.4113780100828497,
          -0.22112432300555643,
          0.21879206094552822,
          0.34764710207640953,
          2.5572739518495244,
          -0.05991313736641319,
          -0.6831361628447226,
          0.3135594473854501,
          -1.3364626676182996,
          -0.14272899360938457,
          -1.089432561463353,
          -0.08470708103908872,
          -0.8853361125929256,
          0.2592699559282212,
          -2.9290632225906483,
          -0.7642963581491048,
          -0.3701098414195931,
          -1.1733328554821236,
          0.5684291090514618,
          1.3622976081754778,
          0.5065257571645497,
          -0.7669619501828306,
          0.5952589165064289,
          0.12063091104041283,
          -2.1699314453784986,
          0.9525797703035719,
          1.303118247161537,
          0.18775132553756985,
          0.2778295995170414,
          1.1118376295674957,
          0.7276850289295383,
          0.07484264237616128,
          -0.8830055985098384,
          0.4958469514420254,
          1.300077430444035,
          0.46653962453374265,
          0.5651443336213451,
          0.37321775159292236,
          0.6589956641659104,
          -0.5534074522898599,
          0.5235284057923568,
          0.9349812129515604,
          0.7218050715715093,
          -1.5295165082248794,
          0.7650670984673281,
          1.1349556998344372,
          -0.9037193947920661,
          0.3267269140908282,
          0.274083206935181,
          0.05836425297423308,
          1.7752998946512923,
          -0.7772049067537251,
          -1.9177958253796348,
          0.9108021670541938,
          0.3538857001900387,
          0.5398070189471809,
          -0.574290715555816,
          -1.5783354313272537,
          0.5691760158559603,
          -0.16036901495118402,
          -0.30034135049553096,
          0.962259425746051,
          0.180304955729948,
          0.24236432568462,
          0.2446800239178959,
          -0.013385992364696949
         ],
         "xaxis": "x4",
         "y": [
          -0.0015585409020748443,
          0.8458864735345376,
          0.934414068172041,
          -1.299225287036096,
          -0.612313161810921,
          -1.9164219425202789,
          -0.23256760125329407,
          1.0920556656230416,
          -0.4662237559745914,
          0.11813620238621023,
          -0.3893305872383898,
          0.3524367390130047,
          0.6267049137115619,
          -2.0098283113102333,
          -0.42224277438234714,
          1.4834140075387432,
          0.0007950478259361682,
          -0.6043585953862748,
          0.4071176027713737,
          -1.4138220890082105,
          2.077707538654815,
          0.4768952209629994,
          1.3895053923630198,
          2.3244999824807198,
          -1.189297270602611,
          0.8722982996347064,
          2.2937988533328246,
          0.06467962016505363,
          -0.13633788837817873,
          -1.7836787475237632,
          0.22566002203532615,
          0.20566852075458583,
          -0.018339853278318195,
          -0.5654481912867622,
          -0.5078139751819283,
          0.8275904894419189,
          -0.5203960037208601,
          -0.41352349293990387,
          2.1181837053232897,
          -0.4590426190787295,
          1.2319084700892855,
          -0.5358681790349643,
          -0.498364296101095,
          0.9232038731051508,
          -0.2814992874895402,
          0.24769175172286134,
          0.2328949255804648,
          0.5473351367722717,
          0.9498326281204514,
          -1.8075122019812093,
          -0.16476749353990988,
          0.5752186600567579,
          0.13051060072420054,
          0.3498771676815099,
          0.40281032759571855,
          -0.950111217346983,
          1.1638492951727184,
          0.7788802320291295,
          -1.2857935794971982,
          1.622091453349334,
          0.8678849327369677,
          -0.5048785146381843,
          -0.4896243146193713,
          -0.010709110981634063,
          1.006602249430079,
          -0.40568483350162055,
          1.3087894411891126,
          0.190062600400811,
          1.0379437685082251,
          0.2029558624259573,
          1.2943640286010194,
          -1.1492525100133704,
          1.9470511979586185,
          -1.1750359924184552,
          -0.7121663439038282,
          -0.3725103090728009,
          0.8444841630918083,
          0.6485746069267528,
          0.8839137048866836,
          1.8032268952420396,
          0.5001484387119923,
          1.896484110324483,
          1.654298132548488,
          1.4071820106911808,
          -0.6308051064388178,
          0.3196782094684533,
          -1.4042278558123713,
          -0.30363620969810856,
          0.33937227389870644,
          -1.3141396770051583,
          1.7301125955143941,
          1.473261447646321,
          -1.2404429659357479,
          0.41453891492567924,
          0.8491352380137746,
          0.06291390210273382,
          0.8957023727937828,
          -0.8297378450246963,
          -0.15546745233405063,
          0.06115899148576859
         ],
         "yaxis": "y4"
        },
        {
         "line": {
          "color": "rgba(128, 128, 128, 1.0)",
          "dash": "solid",
          "shape": "linear",
          "width": 1.3
         },
         "marker": {
          "size": 2,
          "symbol": "circle"
         },
         "mode": "markers",
         "name": "B",
         "text": "",
         "type": "scatter",
         "x": [
          -0.0015585409020748443,
          0.8458864735345376,
          0.934414068172041,
          -1.299225287036096,
          -0.612313161810921,
          -1.9164219425202789,
          -0.23256760125329407,
          1.0920556656230416,
          -0.4662237559745914,
          0.11813620238621023,
          -0.3893305872383898,
          0.3524367390130047,
          0.6267049137115619,
          -2.0098283113102333,
          -0.42224277438234714,
          1.4834140075387432,
          0.0007950478259361682,
          -0.6043585953862748,
          0.4071176027713737,
          -1.4138220890082105,
          2.077707538654815,
          0.4768952209629994,
          1.3895053923630198,
          2.3244999824807198,
          -1.189297270602611,
          0.8722982996347064,
          2.2937988533328246,
          0.06467962016505363,
          -0.13633788837817873,
          -1.7836787475237632,
          0.22566002203532615,
          0.20566852075458583,
          -0.018339853278318195,
          -0.5654481912867622,
          -0.5078139751819283,
          0.8275904894419189,
          -0.5203960037208601,
          -0.41352349293990387,
          2.1181837053232897,
          -0.4590426190787295,
          1.2319084700892855,
          -0.5358681790349643,
          -0.498364296101095,
          0.9232038731051508,
          -0.2814992874895402,
          0.24769175172286134,
          0.2328949255804648,
          0.5473351367722717,
          0.9498326281204514,
          -1.8075122019812093,
          -0.16476749353990988,
          0.5752186600567579,
          0.13051060072420054,
          0.3498771676815099,
          0.40281032759571855,
          -0.950111217346983,
          1.1638492951727184,
          0.7788802320291295,
          -1.2857935794971982,
          1.622091453349334,
          0.8678849327369677,
          -0.5048785146381843,
          -0.4896243146193713,
          -0.010709110981634063,
          1.006602249430079,
          -0.40568483350162055,
          1.3087894411891126,
          0.190062600400811,
          1.0379437685082251,
          0.2029558624259573,
          1.2943640286010194,
          -1.1492525100133704,
          1.9470511979586185,
          -1.1750359924184552,
          -0.7121663439038282,
          -0.3725103090728009,
          0.8444841630918083,
          0.6485746069267528,
          0.8839137048866836,
          1.8032268952420396,
          0.5001484387119923,
          1.896484110324483,
          1.654298132548488,
          1.4071820106911808,
          -0.6308051064388178,
          0.3196782094684533,
          -1.4042278558123713,
          -0.30363620969810856,
          0.33937227389870644,
          -1.3141396770051583,
          1.7301125955143941,
          1.473261447646321,
          -1.2404429659357479,
          0.41453891492567924,
          0.8491352380137746,
          0.06291390210273382,
          0.8957023727937828,
          -0.8297378450246963,
          -0.15546745233405063,
          0.06115899148576859
         ],
         "xaxis": "x5",
         "y": [
          1.0175800614285233,
          -1.2381697268039793,
          0.7844385814995347,
          0.30504309679334424,
          0.07113000211751754,
          0.5464945125562095,
          1.1557504557988485,
          -1.7275411926016029,
          -0.22279057745760433,
          -0.014174013152534099,
          0.046397927392791756,
          -1.3337624718506451,
          1.191976549469535,
          -0.7183098682670902,
          -2.4698721321587866,
          0.9613881312364033,
          1.6833606698696069,
          0.42850756621014996,
          -1.1454449405585065,
          -0.08662254675121947,
          -0.9450585843005394,
          -0.33298677114239544,
          0.4657326635014758,
          -0.9691697286478733,
          0.62175588895002,
          1.0299919541363,
          0.8649747554739001,
          -0.6744088289128711,
          -0.6033349561993983,
          -0.6337091078175451,
          -0.08477989487573509,
          0.9323883959280738,
          0.1652884033603895,
          -0.6339840048762202,
          1.0507406443717582,
          1.0573753846404983,
          0.6636757389865048,
          1.3299452315771907,
          -2.410944620637584,
          0.02666908427756707,
          -1.2376861153521053,
          1.7238750523134125,
          -0.5086058475096568,
          -0.17507279212476282,
          0.5475713496593823,
          -1.4259641401525398,
          0.05369385509694605,
          -0.9299640092735049,
          0.11079782824479513,
          0.0736336796198157,
          -1.1284780669103156,
          2.3268805893841846,
          0.7353143553716142,
          0.5747292489874314,
          0.0061658081593460685,
          -0.8142937126202369,
          -0.5898683598036754,
          -1.2427151574703632,
          -1.6405760554796995,
          -1.175831136187835,
          1.149180086490129,
          -0.18251913868620054,
          -1.0876933367660377,
          0.9976299359074137,
          0.4003239380906782,
          0.2617838634232212,
          -0.32829660836018465,
          -0.23248596879774558,
          -0.14820288716904675,
          0.6253052461591179,
          2.685060965111488,
          -1.0063500799681528,
          0.6364210137912422,
          0.4341464126761938,
          -0.6846913415382077,
          0.03168060938323212,
          0.9653244668758755,
          0.2539811926246748,
          0.19839824105941936,
          1.7403553998585106,
          0.08270043220181753,
          -0.27786186641225313,
          -2.558636455467326,
          0.13711812987282768,
          -3.113999236124563,
          -0.875019859368395,
          0.4439283319975627,
          -0.9614670575196685,
          -1.8034029714721953,
          -0.028070800567166057,
          0.6141861352213069,
          -0.8745255066793514,
          -1.3864506353507577,
          0.9687999866524937,
          0.3151400059457273,
          0.2900335524231588,
          0.17169407679562926,
          0.7406298316795756,
          2.1758669248629254,
          2.277915743638747
         ],
         "yaxis": "y5"
        },
        {
         "histfunc": "count",
         "histnorm": "",
         "marker": {
          "color": "rgba(55, 128, 191, 1.0)",
          "line": {
           "color": "#4D5663",
           "width": 1.3
          }
         },
         "name": "B",
         "nbinsx": 10,
         "opacity": 0.8,
         "orientation": "v",
         "type": "histogram",
         "x": [
          1.0175800614285233,
          -1.2381697268039793,
          0.7844385814995347,
          0.30504309679334424,
          0.07113000211751754,
          0.5464945125562095,
          1.1557504557988485,
          -1.7275411926016029,
          -0.22279057745760433,
          -0.014174013152534099,
          0.046397927392791756,
          -1.3337624718506451,
          1.191976549469535,
          -0.7183098682670902,
          -2.4698721321587866,
          0.9613881312364033,
          1.6833606698696069,
          0.42850756621014996,
          -1.1454449405585065,
          -0.08662254675121947,
          -0.9450585843005394,
          -0.33298677114239544,
          0.4657326635014758,
          -0.9691697286478733,
          0.62175588895002,
          1.0299919541363,
          0.8649747554739001,
          -0.6744088289128711,
          -0.6033349561993983,
          -0.6337091078175451,
          -0.08477989487573509,
          0.9323883959280738,
          0.1652884033603895,
          -0.6339840048762202,
          1.0507406443717582,
          1.0573753846404983,
          0.6636757389865048,
          1.3299452315771907,
          -2.410944620637584,
          0.02666908427756707,
          -1.2376861153521053,
          1.7238750523134125,
          -0.5086058475096568,
          -0.17507279212476282,
          0.5475713496593823,
          -1.4259641401525398,
          0.05369385509694605,
          -0.9299640092735049,
          0.11079782824479513,
          0.0736336796198157,
          -1.1284780669103156,
          2.3268805893841846,
          0.7353143553716142,
          0.5747292489874314,
          0.0061658081593460685,
          -0.8142937126202369,
          -0.5898683598036754,
          -1.2427151574703632,
          -1.6405760554796995,
          -1.175831136187835,
          1.149180086490129,
          -0.18251913868620054,
          -1.0876933367660377,
          0.9976299359074137,
          0.4003239380906782,
          0.2617838634232212,
          -0.32829660836018465,
          -0.23248596879774558,
          -0.14820288716904675,
          0.6253052461591179,
          2.685060965111488,
          -1.0063500799681528,
          0.6364210137912422,
          0.4341464126761938,
          -0.6846913415382077,
          0.03168060938323212,
          0.9653244668758755,
          0.2539811926246748,
          0.19839824105941936,
          1.7403553998585106,
          0.08270043220181753,
          -0.27786186641225313,
          -2.558636455467326,
          0.13711812987282768,
          -3.113999236124563,
          -0.875019859368395,
          0.4439283319975627,
          -0.9614670575196685,
          -1.8034029714721953,
          -0.028070800567166057,
          0.6141861352213069,
          -0.8745255066793514,
          -1.3864506353507577,
          0.9687999866524937,
          0.3151400059457273,
          0.2900335524231588,
          0.17169407679562926,
          0.7406298316795756,
          2.1758669248629254,
          2.277915743638747
         ],
         "xaxis": "x6",
         "yaxis": "y6"
        },
        {
         "line": {
          "color": "rgba(128, 128, 128, 1.0)",
          "dash": "solid",
          "shape": "linear",
          "width": 1.3
         },
         "marker": {
          "size": 2,
          "symbol": "circle"
         },
         "mode": "markers",
         "name": "B",
         "text": "",
         "type": "scatter",
         "x": [
          -0.3788015313202212,
          1.256762231295425,
          -0.8306300375628289,
          -0.4608964149762124,
          0.8403424244494432,
          1.382446688545958,
          -0.6648836286791291,
          -1.219886004139807,
          -0.2667387299528493,
          0.5637496816006109,
          -0.22579301283267872,
          -0.4453936088138776,
          -0.15907827396625296,
          0.3188589022283024,
          -0.49120530496722187,
          1.1713785524378253,
          0.2890678697829857,
          0.22533111201464287,
          0.5561921151720705,
          -0.99041241400968,
          0.39497006397390916,
          0.07844922125051666,
          -1.7713057250695605,
          -0.25905732239853096,
          0.15315464636697984,
          -1.110420311156213,
          -0.3957901769918868,
          -0.8205317576014358,
          -0.21560993396833739,
          -1.8620014563420701,
          3.2984642851881505,
          0.06214774861774642,
          0.9286263489991817,
          -1.209408037624237,
          0.6946553240463219,
          -0.6185088427971893,
          -0.017783693049615926,
          1.5449245975139039,
          -0.15206213305347338,
          -1.9825608980930653,
          1.3817460352203639,
          0.03299365426770661,
          -0.05988533865434531,
          -0.4727955916530704,
          0.15993493017843194,
          0.9624712884103498,
          -0.0652689903471656,
          0.32292198225665547,
          0.7542099788658005,
          -0.538579659456351,
          -1.651282827813881,
          -1.5066685189357847,
          -0.591096521344276,
          0.11415136327812293,
          0.7601189954766393,
          -1.809259553258281,
          -0.10767748365051709,
          -1.5180254739925352,
          -0.8758650425416121,
          1.594704343412804,
          -0.3621068285076178,
          0.46617400533619474,
          -0.04456531740033875,
          0.20350725328813968,
          0.43859372092595994,
          -1.1963691799216696,
          -0.03610936369111613,
          -1.3583044466536425,
          0.917267703545791,
          -0.8232825321337947,
          1.1318480834374294,
          -0.754699171130626,
          0.2658900823377884,
          0.8706654067258455,
          -0.27004721301889606,
          -0.9770383142387139,
          -0.28752871067961044,
          -1.0502547160445979,
          0.7914363174433269,
          2.0409131427270615,
          -0.21684446951038677,
          0.17069481759767355,
          -2.9664272071875293,
          -0.600310081255409,
          2.2387352422545326,
          -0.20946565899667627,
          -0.3215864917094097,
          -1.1453247812042877,
          -1.0164123491429509,
          1.82079047930281,
          -0.3459161939231618,
          1.2015699247574514,
          -1.3615378521065202,
          0.7967606125654182,
          0.13520136165040794,
          -1.5800820323218054,
          -2.106418155858577,
          0.26803487769489037,
          -1.512463224626046,
          0.7996005123284501
         ],
         "xaxis": "x7",
         "y": [
          1.0175800614285233,
          -1.2381697268039793,
          0.7844385814995347,
          0.30504309679334424,
          0.07113000211751754,
          0.5464945125562095,
          1.1557504557988485,
          -1.7275411926016029,
          -0.22279057745760433,
          -0.014174013152534099,
          0.046397927392791756,
          -1.3337624718506451,
          1.191976549469535,
          -0.7183098682670902,
          -2.4698721321587866,
          0.9613881312364033,
          1.6833606698696069,
          0.42850756621014996,
          -1.1454449405585065,
          -0.08662254675121947,
          -0.9450585843005394,
          -0.33298677114239544,
          0.4657326635014758,
          -0.9691697286478733,
          0.62175588895002,
          1.0299919541363,
          0.8649747554739001,
          -0.6744088289128711,
          -0.6033349561993983,
          -0.6337091078175451,
          -0.08477989487573509,
          0.9323883959280738,
          0.1652884033603895,
          -0.6339840048762202,
          1.0507406443717582,
          1.0573753846404983,
          0.6636757389865048,
          1.3299452315771907,
          -2.410944620637584,
          0.02666908427756707,
          -1.2376861153521053,
          1.7238750523134125,
          -0.5086058475096568,
          -0.17507279212476282,
          0.5475713496593823,
          -1.4259641401525398,
          0.05369385509694605,
          -0.9299640092735049,
          0.11079782824479513,
          0.0736336796198157,
          -1.1284780669103156,
          2.3268805893841846,
          0.7353143553716142,
          0.5747292489874314,
          0.0061658081593460685,
          -0.8142937126202369,
          -0.5898683598036754,
          -1.2427151574703632,
          -1.6405760554796995,
          -1.175831136187835,
          1.149180086490129,
          -0.18251913868620054,
          -1.0876933367660377,
          0.9976299359074137,
          0.4003239380906782,
          0.2617838634232212,
          -0.32829660836018465,
          -0.23248596879774558,
          -0.14820288716904675,
          0.6253052461591179,
          2.685060965111488,
          -1.0063500799681528,
          0.6364210137912422,
          0.4341464126761938,
          -0.6846913415382077,
          0.03168060938323212,
          0.9653244668758755,
          0.2539811926246748,
          0.19839824105941936,
          1.7403553998585106,
          0.08270043220181753,
          -0.27786186641225313,
          -2.558636455467326,
          0.13711812987282768,
          -3.113999236124563,
          -0.875019859368395,
          0.4439283319975627,
          -0.9614670575196685,
          -1.8034029714721953,
          -0.028070800567166057,
          0.6141861352213069,
          -0.8745255066793514,
          -1.3864506353507577,
          0.9687999866524937,
          0.3151400059457273,
          0.2900335524231588,
          0.17169407679562926,
          0.7406298316795756,
          2.1758669248629254,
          2.277915743638747
         ],
         "yaxis": "y7"
        },
        {
         "line": {
          "color": "rgba(128, 128, 128, 1.0)",
          "dash": "solid",
          "shape": "linear",
          "width": 1.3
         },
         "marker": {
          "size": 2,
          "symbol": "circle"
         },
         "mode": "markers",
         "name": "B",
         "text": "",
         "type": "scatter",
         "x": [
          -0.11638704796165784,
          -0.7002249145000803,
          -0.7559517130326966,
          1.1305922656785876,
          -0.6038578300924019,
          -1.075086901430937,
          -0.3989676241763057,
          -0.8895140403200313,
          0.0949517121580332,
          -0.7161291245309929,
          0.0661068785899851,
          1.0901273098596156,
          0.6772356135465372,
          -0.5041475983570313,
          -0.3053154132514319,
          0.27148079247714174,
          -0.18156190976840691,
          0.16379448272566335,
          0.9721880440901653,
          -1.5115428542507243,
          0.09880160039176525,
          0.1883791691285031,
          0.2875295713790334,
          0.2508200922256019,
          0.37144140897188865,
          -1.5125712150306476,
          -0.3000500023828874,
          -1.4467564617646498,
          0.7668413260168058,
          -1.128039398386622,
          0.371943048263021,
          -1.8846930751494804,
          0.23396193895397652,
          1.1239652961702076,
          1.4113780100828497,
          -0.22112432300555643,
          0.21879206094552822,
          0.34764710207640953,
          2.5572739518495244,
          -0.05991313736641319,
          -0.6831361628447226,
          0.3135594473854501,
          -1.3364626676182996,
          -0.14272899360938457,
          -1.089432561463353,
          -0.08470708103908872,
          -0.8853361125929256,
          0.2592699559282212,
          -2.9290632225906483,
          -0.7642963581491048,
          -0.3701098414195931,
          -1.1733328554821236,
          0.5684291090514618,
          1.3622976081754778,
          0.5065257571645497,
          -0.7669619501828306,
          0.5952589165064289,
          0.12063091104041283,
          -2.1699314453784986,
          0.9525797703035719,
          1.303118247161537,
          0.18775132553756985,
          0.2778295995170414,
          1.1118376295674957,
          0.7276850289295383,
          0.07484264237616128,
          -0.8830055985098384,
          0.4958469514420254,
          1.300077430444035,
          0.46653962453374265,
          0.5651443336213451,
          0.37321775159292236,
          0.6589956641659104,
          -0.5534074522898599,
          0.5235284057923568,
          0.9349812129515604,
          0.7218050715715093,
          -1.5295165082248794,
          0.7650670984673281,
          1.1349556998344372,
          -0.9037193947920661,
          0.3267269140908282,
          0.274083206935181,
          0.05836425297423308,
          1.7752998946512923,
          -0.7772049067537251,
          -1.9177958253796348,
          0.9108021670541938,
          0.3538857001900387,
          0.5398070189471809,
          -0.574290715555816,
          -1.5783354313272537,
          0.5691760158559603,
          -0.16036901495118402,
          -0.30034135049553096,
          0.962259425746051,
          0.180304955729948,
          0.24236432568462,
          0.2446800239178959,
          -0.013385992364696949
         ],
         "xaxis": "x8",
         "y": [
          1.0175800614285233,
          -1.2381697268039793,
          0.7844385814995347,
          0.30504309679334424,
          0.07113000211751754,
          0.5464945125562095,
          1.1557504557988485,
          -1.7275411926016029,
          -0.22279057745760433,
          -0.014174013152534099,
          0.046397927392791756,
          -1.3337624718506451,
          1.191976549469535,
          -0.7183098682670902,
          -2.4698721321587866,
          0.9613881312364033,
          1.6833606698696069,
          0.42850756621014996,
          -1.1454449405585065,
          -0.08662254675121947,
          -0.9450585843005394,
          -0.33298677114239544,
          0.4657326635014758,
          -0.9691697286478733,
          0.62175588895002,
          1.0299919541363,
          0.8649747554739001,
          -0.6744088289128711,
          -0.6033349561993983,
          -0.6337091078175451,
          -0.08477989487573509,
          0.9323883959280738,
          0.1652884033603895,
          -0.6339840048762202,
          1.0507406443717582,
          1.0573753846404983,
          0.6636757389865048,
          1.3299452315771907,
          -2.410944620637584,
          0.02666908427756707,
          -1.2376861153521053,
          1.7238750523134125,
          -0.5086058475096568,
          -0.17507279212476282,
          0.5475713496593823,
          -1.4259641401525398,
          0.05369385509694605,
          -0.9299640092735049,
          0.11079782824479513,
          0.0736336796198157,
          -1.1284780669103156,
          2.3268805893841846,
          0.7353143553716142,
          0.5747292489874314,
          0.0061658081593460685,
          -0.8142937126202369,
          -0.5898683598036754,
          -1.2427151574703632,
          -1.6405760554796995,
          -1.175831136187835,
          1.149180086490129,
          -0.18251913868620054,
          -1.0876933367660377,
          0.9976299359074137,
          0.4003239380906782,
          0.2617838634232212,
          -0.32829660836018465,
          -0.23248596879774558,
          -0.14820288716904675,
          0.6253052461591179,
          2.685060965111488,
          -1.0063500799681528,
          0.6364210137912422,
          0.4341464126761938,
          -0.6846913415382077,
          0.03168060938323212,
          0.9653244668758755,
          0.2539811926246748,
          0.19839824105941936,
          1.7403553998585106,
          0.08270043220181753,
          -0.27786186641225313,
          -2.558636455467326,
          0.13711812987282768,
          -3.113999236124563,
          -0.875019859368395,
          0.4439283319975627,
          -0.9614670575196685,
          -1.8034029714721953,
          -0.028070800567166057,
          0.6141861352213069,
          -0.8745255066793514,
          -1.3864506353507577,
          0.9687999866524937,
          0.3151400059457273,
          0.2900335524231588,
          0.17169407679562926,
          0.7406298316795756,
          2.1758669248629254,
          2.277915743638747
         ],
         "yaxis": "y8"
        },
        {
         "line": {
          "color": "rgba(128, 128, 128, 1.0)",
          "dash": "solid",
          "shape": "linear",
          "width": 1.3
         },
         "marker": {
          "size": 2,
          "symbol": "circle"
         },
         "mode": "markers",
         "name": "C",
         "text": "",
         "type": "scatter",
         "x": [
          -0.0015585409020748443,
          0.8458864735345376,
          0.934414068172041,
          -1.299225287036096,
          -0.612313161810921,
          -1.9164219425202789,
          -0.23256760125329407,
          1.0920556656230416,
          -0.4662237559745914,
          0.11813620238621023,
          -0.3893305872383898,
          0.3524367390130047,
          0.6267049137115619,
          -2.0098283113102333,
          -0.42224277438234714,
          1.4834140075387432,
          0.0007950478259361682,
          -0.6043585953862748,
          0.4071176027713737,
          -1.4138220890082105,
          2.077707538654815,
          0.4768952209629994,
          1.3895053923630198,
          2.3244999824807198,
          -1.189297270602611,
          0.8722982996347064,
          2.2937988533328246,
          0.06467962016505363,
          -0.13633788837817873,
          -1.7836787475237632,
          0.22566002203532615,
          0.20566852075458583,
          -0.018339853278318195,
          -0.5654481912867622,
          -0.5078139751819283,
          0.8275904894419189,
          -0.5203960037208601,
          -0.41352349293990387,
          2.1181837053232897,
          -0.4590426190787295,
          1.2319084700892855,
          -0.5358681790349643,
          -0.498364296101095,
          0.9232038731051508,
          -0.2814992874895402,
          0.24769175172286134,
          0.2328949255804648,
          0.5473351367722717,
          0.9498326281204514,
          -1.8075122019812093,
          -0.16476749353990988,
          0.5752186600567579,
          0.13051060072420054,
          0.3498771676815099,
          0.40281032759571855,
          -0.950111217346983,
          1.1638492951727184,
          0.7788802320291295,
          -1.2857935794971982,
          1.622091453349334,
          0.8678849327369677,
          -0.5048785146381843,
          -0.4896243146193713,
          -0.010709110981634063,
          1.006602249430079,
          -0.40568483350162055,
          1.3087894411891126,
          0.190062600400811,
          1.0379437685082251,
          0.2029558624259573,
          1.2943640286010194,
          -1.1492525100133704,
          1.9470511979586185,
          -1.1750359924184552,
          -0.7121663439038282,
          -0.3725103090728009,
          0.8444841630918083,
          0.6485746069267528,
          0.8839137048866836,
          1.8032268952420396,
          0.5001484387119923,
          1.896484110324483,
          1.654298132548488,
          1.4071820106911808,
          -0.6308051064388178,
          0.3196782094684533,
          -1.4042278558123713,
          -0.30363620969810856,
          0.33937227389870644,
          -1.3141396770051583,
          1.7301125955143941,
          1.473261447646321,
          -1.2404429659357479,
          0.41453891492567924,
          0.8491352380137746,
          0.06291390210273382,
          0.8957023727937828,
          -0.8297378450246963,
          -0.15546745233405063,
          0.06115899148576859
         ],
         "xaxis": "x9",
         "y": [
          -0.3788015313202212,
          1.256762231295425,
          -0.8306300375628289,
          -0.4608964149762124,
          0.8403424244494432,
          1.382446688545958,
          -0.6648836286791291,
          -1.219886004139807,
          -0.2667387299528493,
          0.5637496816006109,
          -0.22579301283267872,
          -0.4453936088138776,
          -0.15907827396625296,
          0.3188589022283024,
          -0.49120530496722187,
          1.1713785524378253,
          0.2890678697829857,
          0.22533111201464287,
          0.5561921151720705,
          -0.99041241400968,
          0.39497006397390916,
          0.07844922125051666,
          -1.7713057250695605,
          -0.25905732239853096,
          0.15315464636697984,
          -1.110420311156213,
          -0.3957901769918868,
          -0.8205317576014358,
          -0.21560993396833739,
          -1.8620014563420701,
          3.2984642851881505,
          0.06214774861774642,
          0.9286263489991817,
          -1.209408037624237,
          0.6946553240463219,
          -0.6185088427971893,
          -0.017783693049615926,
          1.5449245975139039,
          -0.15206213305347338,
          -1.9825608980930653,
          1.3817460352203639,
          0.03299365426770661,
          -0.05988533865434531,
          -0.4727955916530704,
          0.15993493017843194,
          0.9624712884103498,
          -0.0652689903471656,
          0.32292198225665547,
          0.7542099788658005,
          -0.538579659456351,
          -1.651282827813881,
          -1.5066685189357847,
          -0.591096521344276,
          0.11415136327812293,
          0.7601189954766393,
          -1.809259553258281,
          -0.10767748365051709,
          -1.5180254739925352,
          -0.8758650425416121,
          1.594704343412804,
          -0.3621068285076178,
          0.46617400533619474,
          -0.04456531740033875,
          0.20350725328813968,
          0.43859372092595994,
          -1.1963691799216696,
          -0.03610936369111613,
          -1.3583044466536425,
          0.917267703545791,
          -0.8232825321337947,
          1.1318480834374294,
          -0.754699171130626,
          0.2658900823377884,
          0.8706654067258455,
          -0.27004721301889606,
          -0.9770383142387139,
          -0.28752871067961044,
          -1.0502547160445979,
          0.7914363174433269,
          2.0409131427270615,
          -0.21684446951038677,
          0.17069481759767355,
          -2.9664272071875293,
          -0.600310081255409,
          2.2387352422545326,
          -0.20946565899667627,
          -0.3215864917094097,
          -1.1453247812042877,
          -1.0164123491429509,
          1.82079047930281,
          -0.3459161939231618,
          1.2015699247574514,
          -1.3615378521065202,
          0.7967606125654182,
          0.13520136165040794,
          -1.5800820323218054,
          -2.106418155858577,
          0.26803487769489037,
          -1.512463224626046,
          0.7996005123284501
         ],
         "yaxis": "y9"
        },
        {
         "line": {
          "color": "rgba(128, 128, 128, 1.0)",
          "dash": "solid",
          "shape": "linear",
          "width": 1.3
         },
         "marker": {
          "size": 2,
          "symbol": "circle"
         },
         "mode": "markers",
         "name": "C",
         "text": "",
         "type": "scatter",
         "x": [
          1.0175800614285233,
          -1.2381697268039793,
          0.7844385814995347,
          0.30504309679334424,
          0.07113000211751754,
          0.5464945125562095,
          1.1557504557988485,
          -1.7275411926016029,
          -0.22279057745760433,
          -0.014174013152534099,
          0.046397927392791756,
          -1.3337624718506451,
          1.191976549469535,
          -0.7183098682670902,
          -2.4698721321587866,
          0.9613881312364033,
          1.6833606698696069,
          0.42850756621014996,
          -1.1454449405585065,
          -0.08662254675121947,
          -0.9450585843005394,
          -0.33298677114239544,
          0.4657326635014758,
          -0.9691697286478733,
          0.62175588895002,
          1.0299919541363,
          0.8649747554739001,
          -0.6744088289128711,
          -0.6033349561993983,
          -0.6337091078175451,
          -0.08477989487573509,
          0.9323883959280738,
          0.1652884033603895,
          -0.6339840048762202,
          1.0507406443717582,
          1.0573753846404983,
          0.6636757389865048,
          1.3299452315771907,
          -2.410944620637584,
          0.02666908427756707,
          -1.2376861153521053,
          1.7238750523134125,
          -0.5086058475096568,
          -0.17507279212476282,
          0.5475713496593823,
          -1.4259641401525398,
          0.05369385509694605,
          -0.9299640092735049,
          0.11079782824479513,
          0.0736336796198157,
          -1.1284780669103156,
          2.3268805893841846,
          0.7353143553716142,
          0.5747292489874314,
          0.0061658081593460685,
          -0.8142937126202369,
          -0.5898683598036754,
          -1.2427151574703632,
          -1.6405760554796995,
          -1.175831136187835,
          1.149180086490129,
          -0.18251913868620054,
          -1.0876933367660377,
          0.9976299359074137,
          0.4003239380906782,
          0.2617838634232212,
          -0.32829660836018465,
          -0.23248596879774558,
          -0.14820288716904675,
          0.6253052461591179,
          2.685060965111488,
          -1.0063500799681528,
          0.6364210137912422,
          0.4341464126761938,
          -0.6846913415382077,
          0.03168060938323212,
          0.9653244668758755,
          0.2539811926246748,
          0.19839824105941936,
          1.7403553998585106,
          0.08270043220181753,
          -0.27786186641225313,
          -2.558636455467326,
          0.13711812987282768,
          -3.113999236124563,
          -0.875019859368395,
          0.4439283319975627,
          -0.9614670575196685,
          -1.8034029714721953,
          -0.028070800567166057,
          0.6141861352213069,
          -0.8745255066793514,
          -1.3864506353507577,
          0.9687999866524937,
          0.3151400059457273,
          0.2900335524231588,
          0.17169407679562926,
          0.7406298316795756,
          2.1758669248629254,
          2.277915743638747
         ],
         "xaxis": "x10",
         "y": [
          -0.3788015313202212,
          1.256762231295425,
          -0.8306300375628289,
          -0.4608964149762124,
          0.8403424244494432,
          1.382446688545958,
          -0.6648836286791291,
          -1.219886004139807,
          -0.2667387299528493,
          0.5637496816006109,
          -0.22579301283267872,
          -0.4453936088138776,
          -0.15907827396625296,
          0.3188589022283024,
          -0.49120530496722187,
          1.1713785524378253,
          0.2890678697829857,
          0.22533111201464287,
          0.5561921151720705,
          -0.99041241400968,
          0.39497006397390916,
          0.07844922125051666,
          -1.7713057250695605,
          -0.25905732239853096,
          0.15315464636697984,
          -1.110420311156213,
          -0.3957901769918868,
          -0.8205317576014358,
          -0.21560993396833739,
          -1.8620014563420701,
          3.2984642851881505,
          0.06214774861774642,
          0.9286263489991817,
          -1.209408037624237,
          0.6946553240463219,
          -0.6185088427971893,
          -0.017783693049615926,
          1.5449245975139039,
          -0.15206213305347338,
          -1.9825608980930653,
          1.3817460352203639,
          0.03299365426770661,
          -0.05988533865434531,
          -0.4727955916530704,
          0.15993493017843194,
          0.9624712884103498,
          -0.0652689903471656,
          0.32292198225665547,
          0.7542099788658005,
          -0.538579659456351,
          -1.651282827813881,
          -1.5066685189357847,
          -0.591096521344276,
          0.11415136327812293,
          0.7601189954766393,
          -1.809259553258281,
          -0.10767748365051709,
          -1.5180254739925352,
          -0.8758650425416121,
          1.594704343412804,
          -0.3621068285076178,
          0.46617400533619474,
          -0.04456531740033875,
          0.20350725328813968,
          0.43859372092595994,
          -1.1963691799216696,
          -0.03610936369111613,
          -1.3583044466536425,
          0.917267703545791,
          -0.8232825321337947,
          1.1318480834374294,
          -0.754699171130626,
          0.2658900823377884,
          0.8706654067258455,
          -0.27004721301889606,
          -0.9770383142387139,
          -0.28752871067961044,
          -1.0502547160445979,
          0.7914363174433269,
          2.0409131427270615,
          -0.21684446951038677,
          0.17069481759767355,
          -2.9664272071875293,
          -0.600310081255409,
          2.2387352422545326,
          -0.20946565899667627,
          -0.3215864917094097,
          -1.1453247812042877,
          -1.0164123491429509,
          1.82079047930281,
          -0.3459161939231618,
          1.2015699247574514,
          -1.3615378521065202,
          0.7967606125654182,
          0.13520136165040794,
          -1.5800820323218054,
          -2.106418155858577,
          0.26803487769489037,
          -1.512463224626046,
          0.7996005123284501
         ],
         "yaxis": "y10"
        },
        {
         "histfunc": "count",
         "histnorm": "",
         "marker": {
          "color": "rgba(50, 171, 96, 1.0)",
          "line": {
           "color": "#4D5663",
           "width": 1.3
          }
         },
         "name": "C",
         "nbinsx": 10,
         "opacity": 0.8,
         "orientation": "v",
         "type": "histogram",
         "x": [
          -0.3788015313202212,
          1.256762231295425,
          -0.8306300375628289,
          -0.4608964149762124,
          0.8403424244494432,
          1.382446688545958,
          -0.6648836286791291,
          -1.219886004139807,
          -0.2667387299528493,
          0.5637496816006109,
          -0.22579301283267872,
          -0.4453936088138776,
          -0.15907827396625296,
          0.3188589022283024,
          -0.49120530496722187,
          1.1713785524378253,
          0.2890678697829857,
          0.22533111201464287,
          0.5561921151720705,
          -0.99041241400968,
          0.39497006397390916,
          0.07844922125051666,
          -1.7713057250695605,
          -0.25905732239853096,
          0.15315464636697984,
          -1.110420311156213,
          -0.3957901769918868,
          -0.8205317576014358,
          -0.21560993396833739,
          -1.8620014563420701,
          3.2984642851881505,
          0.06214774861774642,
          0.9286263489991817,
          -1.209408037624237,
          0.6946553240463219,
          -0.6185088427971893,
          -0.017783693049615926,
          1.5449245975139039,
          -0.15206213305347338,
          -1.9825608980930653,
          1.3817460352203639,
          0.03299365426770661,
          -0.05988533865434531,
          -0.4727955916530704,
          0.15993493017843194,
          0.9624712884103498,
          -0.0652689903471656,
          0.32292198225665547,
          0.7542099788658005,
          -0.538579659456351,
          -1.651282827813881,
          -1.5066685189357847,
          -0.591096521344276,
          0.11415136327812293,
          0.7601189954766393,
          -1.809259553258281,
          -0.10767748365051709,
          -1.5180254739925352,
          -0.8758650425416121,
          1.594704343412804,
          -0.3621068285076178,
          0.46617400533619474,
          -0.04456531740033875,
          0.20350725328813968,
          0.43859372092595994,
          -1.1963691799216696,
          -0.03610936369111613,
          -1.3583044466536425,
          0.917267703545791,
          -0.8232825321337947,
          1.1318480834374294,
          -0.754699171130626,
          0.2658900823377884,
          0.8706654067258455,
          -0.27004721301889606,
          -0.9770383142387139,
          -0.28752871067961044,
          -1.0502547160445979,
          0.7914363174433269,
          2.0409131427270615,
          -0.21684446951038677,
          0.17069481759767355,
          -2.9664272071875293,
          -0.600310081255409,
          2.2387352422545326,
          -0.20946565899667627,
          -0.3215864917094097,
          -1.1453247812042877,
          -1.0164123491429509,
          1.82079047930281,
          -0.3459161939231618,
          1.2015699247574514,
          -1.3615378521065202,
          0.7967606125654182,
          0.13520136165040794,
          -1.5800820323218054,
          -2.106418155858577,
          0.26803487769489037,
          -1.512463224626046,
          0.7996005123284501
         ],
         "xaxis": "x11",
         "yaxis": "y11"
        },
        {
         "line": {
          "color": "rgba(128, 128, 128, 1.0)",
          "dash": "solid",
          "shape": "linear",
          "width": 1.3
         },
         "marker": {
          "size": 2,
          "symbol": "circle"
         },
         "mode": "markers",
         "name": "C",
         "text": "",
         "type": "scatter",
         "x": [
          -0.11638704796165784,
          -0.7002249145000803,
          -0.7559517130326966,
          1.1305922656785876,
          -0.6038578300924019,
          -1.075086901430937,
          -0.3989676241763057,
          -0.8895140403200313,
          0.0949517121580332,
          -0.7161291245309929,
          0.0661068785899851,
          1.0901273098596156,
          0.6772356135465372,
          -0.5041475983570313,
          -0.3053154132514319,
          0.27148079247714174,
          -0.18156190976840691,
          0.16379448272566335,
          0.9721880440901653,
          -1.5115428542507243,
          0.09880160039176525,
          0.1883791691285031,
          0.2875295713790334,
          0.2508200922256019,
          0.37144140897188865,
          -1.5125712150306476,
          -0.3000500023828874,
          -1.4467564617646498,
          0.7668413260168058,
          -1.128039398386622,
          0.371943048263021,
          -1.8846930751494804,
          0.23396193895397652,
          1.1239652961702076,
          1.4113780100828497,
          -0.22112432300555643,
          0.21879206094552822,
          0.34764710207640953,
          2.5572739518495244,
          -0.05991313736641319,
          -0.6831361628447226,
          0.3135594473854501,
          -1.3364626676182996,
          -0.14272899360938457,
          -1.089432561463353,
          -0.08470708103908872,
          -0.8853361125929256,
          0.2592699559282212,
          -2.9290632225906483,
          -0.7642963581491048,
          -0.3701098414195931,
          -1.1733328554821236,
          0.5684291090514618,
          1.3622976081754778,
          0.5065257571645497,
          -0.7669619501828306,
          0.5952589165064289,
          0.12063091104041283,
          -2.1699314453784986,
          0.9525797703035719,
          1.303118247161537,
          0.18775132553756985,
          0.2778295995170414,
          1.1118376295674957,
          0.7276850289295383,
          0.07484264237616128,
          -0.8830055985098384,
          0.4958469514420254,
          1.300077430444035,
          0.46653962453374265,
          0.5651443336213451,
          0.37321775159292236,
          0.6589956641659104,
          -0.5534074522898599,
          0.5235284057923568,
          0.9349812129515604,
          0.7218050715715093,
          -1.5295165082248794,
          0.7650670984673281,
          1.1349556998344372,
          -0.9037193947920661,
          0.3267269140908282,
          0.274083206935181,
          0.05836425297423308,
          1.7752998946512923,
          -0.7772049067537251,
          -1.9177958253796348,
          0.9108021670541938,
          0.3538857001900387,
          0.5398070189471809,
          -0.574290715555816,
          -1.5783354313272537,
          0.5691760158559603,
          -0.16036901495118402,
          -0.30034135049553096,
          0.962259425746051,
          0.180304955729948,
          0.24236432568462,
          0.2446800239178959,
          -0.013385992364696949
         ],
         "xaxis": "x12",
         "y": [
          -0.3788015313202212,
          1.256762231295425,
          -0.8306300375628289,
          -0.4608964149762124,
          0.8403424244494432,
          1.382446688545958,
          -0.6648836286791291,
          -1.219886004139807,
          -0.2667387299528493,
          0.5637496816006109,
          -0.22579301283267872,
          -0.4453936088138776,
          -0.15907827396625296,
          0.3188589022283024,
          -0.49120530496722187,
          1.1713785524378253,
          0.2890678697829857,
          0.22533111201464287,
          0.5561921151720705,
          -0.99041241400968,
          0.39497006397390916,
          0.07844922125051666,
          -1.7713057250695605,
          -0.25905732239853096,
          0.15315464636697984,
          -1.110420311156213,
          -0.3957901769918868,
          -0.8205317576014358,
          -0.21560993396833739,
          -1.8620014563420701,
          3.2984642851881505,
          0.06214774861774642,
          0.9286263489991817,
          -1.209408037624237,
          0.6946553240463219,
          -0.6185088427971893,
          -0.017783693049615926,
          1.5449245975139039,
          -0.15206213305347338,
          -1.9825608980930653,
          1.3817460352203639,
          0.03299365426770661,
          -0.05988533865434531,
          -0.4727955916530704,
          0.15993493017843194,
          0.9624712884103498,
          -0.0652689903471656,
          0.32292198225665547,
          0.7542099788658005,
          -0.538579659456351,
          -1.651282827813881,
          -1.5066685189357847,
          -0.591096521344276,
          0.11415136327812293,
          0.7601189954766393,
          -1.809259553258281,
          -0.10767748365051709,
          -1.5180254739925352,
          -0.8758650425416121,
          1.594704343412804,
          -0.3621068285076178,
          0.46617400533619474,
          -0.04456531740033875,
          0.20350725328813968,
          0.43859372092595994,
          -1.1963691799216696,
          -0.03610936369111613,
          -1.3583044466536425,
          0.917267703545791,
          -0.8232825321337947,
          1.1318480834374294,
          -0.754699171130626,
          0.2658900823377884,
          0.8706654067258455,
          -0.27004721301889606,
          -0.9770383142387139,
          -0.28752871067961044,
          -1.0502547160445979,
          0.7914363174433269,
          2.0409131427270615,
          -0.21684446951038677,
          0.17069481759767355,
          -2.9664272071875293,
          -0.600310081255409,
          2.2387352422545326,
          -0.20946565899667627,
          -0.3215864917094097,
          -1.1453247812042877,
          -1.0164123491429509,
          1.82079047930281,
          -0.3459161939231618,
          1.2015699247574514,
          -1.3615378521065202,
          0.7967606125654182,
          0.13520136165040794,
          -1.5800820323218054,
          -2.106418155858577,
          0.26803487769489037,
          -1.512463224626046,
          0.7996005123284501
         ],
         "yaxis": "y12"
        },
        {
         "line": {
          "color": "rgba(128, 128, 128, 1.0)",
          "dash": "solid",
          "shape": "linear",
          "width": 1.3
         },
         "marker": {
          "size": 2,
          "symbol": "circle"
         },
         "mode": "markers",
         "name": "D",
         "text": "",
         "type": "scatter",
         "x": [
          -0.0015585409020748443,
          0.8458864735345376,
          0.934414068172041,
          -1.299225287036096,
          -0.612313161810921,
          -1.9164219425202789,
          -0.23256760125329407,
          1.0920556656230416,
          -0.4662237559745914,
          0.11813620238621023,
          -0.3893305872383898,
          0.3524367390130047,
          0.6267049137115619,
          -2.0098283113102333,
          -0.42224277438234714,
          1.4834140075387432,
          0.0007950478259361682,
          -0.6043585953862748,
          0.4071176027713737,
          -1.4138220890082105,
          2.077707538654815,
          0.4768952209629994,
          1.3895053923630198,
          2.3244999824807198,
          -1.189297270602611,
          0.8722982996347064,
          2.2937988533328246,
          0.06467962016505363,
          -0.13633788837817873,
          -1.7836787475237632,
          0.22566002203532615,
          0.20566852075458583,
          -0.018339853278318195,
          -0.5654481912867622,
          -0.5078139751819283,
          0.8275904894419189,
          -0.5203960037208601,
          -0.41352349293990387,
          2.1181837053232897,
          -0.4590426190787295,
          1.2319084700892855,
          -0.5358681790349643,
          -0.498364296101095,
          0.9232038731051508,
          -0.2814992874895402,
          0.24769175172286134,
          0.2328949255804648,
          0.5473351367722717,
          0.9498326281204514,
          -1.8075122019812093,
          -0.16476749353990988,
          0.5752186600567579,
          0.13051060072420054,
          0.3498771676815099,
          0.40281032759571855,
          -0.950111217346983,
          1.1638492951727184,
          0.7788802320291295,
          -1.2857935794971982,
          1.622091453349334,
          0.8678849327369677,
          -0.5048785146381843,
          -0.4896243146193713,
          -0.010709110981634063,
          1.006602249430079,
          -0.40568483350162055,
          1.3087894411891126,
          0.190062600400811,
          1.0379437685082251,
          0.2029558624259573,
          1.2943640286010194,
          -1.1492525100133704,
          1.9470511979586185,
          -1.1750359924184552,
          -0.7121663439038282,
          -0.3725103090728009,
          0.8444841630918083,
          0.6485746069267528,
          0.8839137048866836,
          1.8032268952420396,
          0.5001484387119923,
          1.896484110324483,
          1.654298132548488,
          1.4071820106911808,
          -0.6308051064388178,
          0.3196782094684533,
          -1.4042278558123713,
          -0.30363620969810856,
          0.33937227389870644,
          -1.3141396770051583,
          1.7301125955143941,
          1.473261447646321,
          -1.2404429659357479,
          0.41453891492567924,
          0.8491352380137746,
          0.06291390210273382,
          0.8957023727937828,
          -0.8297378450246963,
          -0.15546745233405063,
          0.06115899148576859
         ],
         "xaxis": "x13",
         "y": [
          -0.11638704796165784,
          -0.7002249145000803,
          -0.7559517130326966,
          1.1305922656785876,
          -0.6038578300924019,
          -1.075086901430937,
          -0.3989676241763057,
          -0.8895140403200313,
          0.0949517121580332,
          -0.7161291245309929,
          0.0661068785899851,
          1.0901273098596156,
          0.6772356135465372,
          -0.5041475983570313,
          -0.3053154132514319,
          0.27148079247714174,
          -0.18156190976840691,
          0.16379448272566335,
          0.9721880440901653,
          -1.5115428542507243,
          0.09880160039176525,
          0.1883791691285031,
          0.2875295713790334,
          0.2508200922256019,
          0.37144140897188865,
          -1.5125712150306476,
          -0.3000500023828874,
          -1.4467564617646498,
          0.7668413260168058,
          -1.128039398386622,
          0.371943048263021,
          -1.8846930751494804,
          0.23396193895397652,
          1.1239652961702076,
          1.4113780100828497,
          -0.22112432300555643,
          0.21879206094552822,
          0.34764710207640953,
          2.5572739518495244,
          -0.05991313736641319,
          -0.6831361628447226,
          0.3135594473854501,
          -1.3364626676182996,
          -0.14272899360938457,
          -1.089432561463353,
          -0.08470708103908872,
          -0.8853361125929256,
          0.2592699559282212,
          -2.9290632225906483,
          -0.7642963581491048,
          -0.3701098414195931,
          -1.1733328554821236,
          0.5684291090514618,
          1.3622976081754778,
          0.5065257571645497,
          -0.7669619501828306,
          0.5952589165064289,
          0.12063091104041283,
          -2.1699314453784986,
          0.9525797703035719,
          1.303118247161537,
          0.18775132553756985,
          0.2778295995170414,
          1.1118376295674957,
          0.7276850289295383,
          0.07484264237616128,
          -0.8830055985098384,
          0.4958469514420254,
          1.300077430444035,
          0.46653962453374265,
          0.5651443336213451,
          0.37321775159292236,
          0.6589956641659104,
          -0.5534074522898599,
          0.5235284057923568,
          0.9349812129515604,
          0.7218050715715093,
          -1.5295165082248794,
          0.7650670984673281,
          1.1349556998344372,
          -0.9037193947920661,
          0.3267269140908282,
          0.274083206935181,
          0.05836425297423308,
          1.7752998946512923,
          -0.7772049067537251,
          -1.9177958253796348,
          0.9108021670541938,
          0.3538857001900387,
          0.5398070189471809,
          -0.574290715555816,
          -1.5783354313272537,
          0.5691760158559603,
          -0.16036901495118402,
          -0.30034135049553096,
          0.962259425746051,
          0.180304955729948,
          0.24236432568462,
          0.2446800239178959,
          -0.013385992364696949
         ],
         "yaxis": "y13"
        },
        {
         "line": {
          "color": "rgba(128, 128, 128, 1.0)",
          "dash": "solid",
          "shape": "linear",
          "width": 1.3
         },
         "marker": {
          "size": 2,
          "symbol": "circle"
         },
         "mode": "markers",
         "name": "D",
         "text": "",
         "type": "scatter",
         "x": [
          1.0175800614285233,
          -1.2381697268039793,
          0.7844385814995347,
          0.30504309679334424,
          0.07113000211751754,
          0.5464945125562095,
          1.1557504557988485,
          -1.7275411926016029,
          -0.22279057745760433,
          -0.014174013152534099,
          0.046397927392791756,
          -1.3337624718506451,
          1.191976549469535,
          -0.7183098682670902,
          -2.4698721321587866,
          0.9613881312364033,
          1.6833606698696069,
          0.42850756621014996,
          -1.1454449405585065,
          -0.08662254675121947,
          -0.9450585843005394,
          -0.33298677114239544,
          0.4657326635014758,
          -0.9691697286478733,
          0.62175588895002,
          1.0299919541363,
          0.8649747554739001,
          -0.6744088289128711,
          -0.6033349561993983,
          -0.6337091078175451,
          -0.08477989487573509,
          0.9323883959280738,
          0.1652884033603895,
          -0.6339840048762202,
          1.0507406443717582,
          1.0573753846404983,
          0.6636757389865048,
          1.3299452315771907,
          -2.410944620637584,
          0.02666908427756707,
          -1.2376861153521053,
          1.7238750523134125,
          -0.5086058475096568,
          -0.17507279212476282,
          0.5475713496593823,
          -1.4259641401525398,
          0.05369385509694605,
          -0.9299640092735049,
          0.11079782824479513,
          0.0736336796198157,
          -1.1284780669103156,
          2.3268805893841846,
          0.7353143553716142,
          0.5747292489874314,
          0.0061658081593460685,
          -0.8142937126202369,
          -0.5898683598036754,
          -1.2427151574703632,
          -1.6405760554796995,
          -1.175831136187835,
          1.149180086490129,
          -0.18251913868620054,
          -1.0876933367660377,
          0.9976299359074137,
          0.4003239380906782,
          0.2617838634232212,
          -0.32829660836018465,
          -0.23248596879774558,
          -0.14820288716904675,
          0.6253052461591179,
          2.685060965111488,
          -1.0063500799681528,
          0.6364210137912422,
          0.4341464126761938,
          -0.6846913415382077,
          0.03168060938323212,
          0.9653244668758755,
          0.2539811926246748,
          0.19839824105941936,
          1.7403553998585106,
          0.08270043220181753,
          -0.27786186641225313,
          -2.558636455467326,
          0.13711812987282768,
          -3.113999236124563,
          -0.875019859368395,
          0.4439283319975627,
          -0.9614670575196685,
          -1.8034029714721953,
          -0.028070800567166057,
          0.6141861352213069,
          -0.8745255066793514,
          -1.3864506353507577,
          0.9687999866524937,
          0.3151400059457273,
          0.2900335524231588,
          0.17169407679562926,
          0.7406298316795756,
          2.1758669248629254,
          2.277915743638747
         ],
         "xaxis": "x14",
         "y": [
          -0.11638704796165784,
          -0.7002249145000803,
          -0.7559517130326966,
          1.1305922656785876,
          -0.6038578300924019,
          -1.075086901430937,
          -0.3989676241763057,
          -0.8895140403200313,
          0.0949517121580332,
          -0.7161291245309929,
          0.0661068785899851,
          1.0901273098596156,
          0.6772356135465372,
          -0.5041475983570313,
          -0.3053154132514319,
          0.27148079247714174,
          -0.18156190976840691,
          0.16379448272566335,
          0.9721880440901653,
          -1.5115428542507243,
          0.09880160039176525,
          0.1883791691285031,
          0.2875295713790334,
          0.2508200922256019,
          0.37144140897188865,
          -1.5125712150306476,
          -0.3000500023828874,
          -1.4467564617646498,
          0.7668413260168058,
          -1.128039398386622,
          0.371943048263021,
          -1.8846930751494804,
          0.23396193895397652,
          1.1239652961702076,
          1.4113780100828497,
          -0.22112432300555643,
          0.21879206094552822,
          0.34764710207640953,
          2.5572739518495244,
          -0.05991313736641319,
          -0.6831361628447226,
          0.3135594473854501,
          -1.3364626676182996,
          -0.14272899360938457,
          -1.089432561463353,
          -0.08470708103908872,
          -0.8853361125929256,
          0.2592699559282212,
          -2.9290632225906483,
          -0.7642963581491048,
          -0.3701098414195931,
          -1.1733328554821236,
          0.5684291090514618,
          1.3622976081754778,
          0.5065257571645497,
          -0.7669619501828306,
          0.5952589165064289,
          0.12063091104041283,
          -2.1699314453784986,
          0.9525797703035719,
          1.303118247161537,
          0.18775132553756985,
          0.2778295995170414,
          1.1118376295674957,
          0.7276850289295383,
          0.07484264237616128,
          -0.8830055985098384,
          0.4958469514420254,
          1.300077430444035,
          0.46653962453374265,
          0.5651443336213451,
          0.37321775159292236,
          0.6589956641659104,
          -0.5534074522898599,
          0.5235284057923568,
          0.9349812129515604,
          0.7218050715715093,
          -1.5295165082248794,
          0.7650670984673281,
          1.1349556998344372,
          -0.9037193947920661,
          0.3267269140908282,
          0.274083206935181,
          0.05836425297423308,
          1.7752998946512923,
          -0.7772049067537251,
          -1.9177958253796348,
          0.9108021670541938,
          0.3538857001900387,
          0.5398070189471809,
          -0.574290715555816,
          -1.5783354313272537,
          0.5691760158559603,
          -0.16036901495118402,
          -0.30034135049553096,
          0.962259425746051,
          0.180304955729948,
          0.24236432568462,
          0.2446800239178959,
          -0.013385992364696949
         ],
         "yaxis": "y14"
        },
        {
         "line": {
          "color": "rgba(128, 128, 128, 1.0)",
          "dash": "solid",
          "shape": "linear",
          "width": 1.3
         },
         "marker": {
          "size": 2,
          "symbol": "circle"
         },
         "mode": "markers",
         "name": "D",
         "text": "",
         "type": "scatter",
         "x": [
          -0.3788015313202212,
          1.256762231295425,
          -0.8306300375628289,
          -0.4608964149762124,
          0.8403424244494432,
          1.382446688545958,
          -0.6648836286791291,
          -1.219886004139807,
          -0.2667387299528493,
          0.5637496816006109,
          -0.22579301283267872,
          -0.4453936088138776,
          -0.15907827396625296,
          0.3188589022283024,
          -0.49120530496722187,
          1.1713785524378253,
          0.2890678697829857,
          0.22533111201464287,
          0.5561921151720705,
          -0.99041241400968,
          0.39497006397390916,
          0.07844922125051666,
          -1.7713057250695605,
          -0.25905732239853096,
          0.15315464636697984,
          -1.110420311156213,
          -0.3957901769918868,
          -0.8205317576014358,
          -0.21560993396833739,
          -1.8620014563420701,
          3.2984642851881505,
          0.06214774861774642,
          0.9286263489991817,
          -1.209408037624237,
          0.6946553240463219,
          -0.6185088427971893,
          -0.017783693049615926,
          1.5449245975139039,
          -0.15206213305347338,
          -1.9825608980930653,
          1.3817460352203639,
          0.03299365426770661,
          -0.05988533865434531,
          -0.4727955916530704,
          0.15993493017843194,
          0.9624712884103498,
          -0.0652689903471656,
          0.32292198225665547,
          0.7542099788658005,
          -0.538579659456351,
          -1.651282827813881,
          -1.5066685189357847,
          -0.591096521344276,
          0.11415136327812293,
          0.7601189954766393,
          -1.809259553258281,
          -0.10767748365051709,
          -1.5180254739925352,
          -0.8758650425416121,
          1.594704343412804,
          -0.3621068285076178,
          0.46617400533619474,
          -0.04456531740033875,
          0.20350725328813968,
          0.43859372092595994,
          -1.1963691799216696,
          -0.03610936369111613,
          -1.3583044466536425,
          0.917267703545791,
          -0.8232825321337947,
          1.1318480834374294,
          -0.754699171130626,
          0.2658900823377884,
          0.8706654067258455,
          -0.27004721301889606,
          -0.9770383142387139,
          -0.28752871067961044,
          -1.0502547160445979,
          0.7914363174433269,
          2.0409131427270615,
          -0.21684446951038677,
          0.17069481759767355,
          -2.9664272071875293,
          -0.600310081255409,
          2.2387352422545326,
          -0.20946565899667627,
          -0.3215864917094097,
          -1.1453247812042877,
          -1.0164123491429509,
          1.82079047930281,
          -0.3459161939231618,
          1.2015699247574514,
          -1.3615378521065202,
          0.7967606125654182,
          0.13520136165040794,
          -1.5800820323218054,
          -2.106418155858577,
          0.26803487769489037,
          -1.512463224626046,
          0.7996005123284501
         ],
         "xaxis": "x15",
         "y": [
          -0.11638704796165784,
          -0.7002249145000803,
          -0.7559517130326966,
          1.1305922656785876,
          -0.6038578300924019,
          -1.075086901430937,
          -0.3989676241763057,
          -0.8895140403200313,
          0.0949517121580332,
          -0.7161291245309929,
          0.0661068785899851,
          1.0901273098596156,
          0.6772356135465372,
          -0.5041475983570313,
          -0.3053154132514319,
          0.27148079247714174,
          -0.18156190976840691,
          0.16379448272566335,
          0.9721880440901653,
          -1.5115428542507243,
          0.09880160039176525,
          0.1883791691285031,
          0.2875295713790334,
          0.2508200922256019,
          0.37144140897188865,
          -1.5125712150306476,
          -0.3000500023828874,
          -1.4467564617646498,
          0.7668413260168058,
          -1.128039398386622,
          0.371943048263021,
          -1.8846930751494804,
          0.23396193895397652,
          1.1239652961702076,
          1.4113780100828497,
          -0.22112432300555643,
          0.21879206094552822,
          0.34764710207640953,
          2.5572739518495244,
          -0.05991313736641319,
          -0.6831361628447226,
          0.3135594473854501,
          -1.3364626676182996,
          -0.14272899360938457,
          -1.089432561463353,
          -0.08470708103908872,
          -0.8853361125929256,
          0.2592699559282212,
          -2.9290632225906483,
          -0.7642963581491048,
          -0.3701098414195931,
          -1.1733328554821236,
          0.5684291090514618,
          1.3622976081754778,
          0.5065257571645497,
          -0.7669619501828306,
          0.5952589165064289,
          0.12063091104041283,
          -2.1699314453784986,
          0.9525797703035719,
          1.303118247161537,
          0.18775132553756985,
          0.2778295995170414,
          1.1118376295674957,
          0.7276850289295383,
          0.07484264237616128,
          -0.8830055985098384,
          0.4958469514420254,
          1.300077430444035,
          0.46653962453374265,
          0.5651443336213451,
          0.37321775159292236,
          0.6589956641659104,
          -0.5534074522898599,
          0.5235284057923568,
          0.9349812129515604,
          0.7218050715715093,
          -1.5295165082248794,
          0.7650670984673281,
          1.1349556998344372,
          -0.9037193947920661,
          0.3267269140908282,
          0.274083206935181,
          0.05836425297423308,
          1.7752998946512923,
          -0.7772049067537251,
          -1.9177958253796348,
          0.9108021670541938,
          0.3538857001900387,
          0.5398070189471809,
          -0.574290715555816,
          -1.5783354313272537,
          0.5691760158559603,
          -0.16036901495118402,
          -0.30034135049553096,
          0.962259425746051,
          0.180304955729948,
          0.24236432568462,
          0.2446800239178959,
          -0.013385992364696949
         ],
         "yaxis": "y15"
        },
        {
         "histfunc": "count",
         "histnorm": "",
         "marker": {
          "color": "rgba(128, 0, 128, 1.0)",
          "line": {
           "color": "#4D5663",
           "width": 1.3
          }
         },
         "name": "D",
         "nbinsx": 10,
         "opacity": 0.8,
         "orientation": "v",
         "type": "histogram",
         "x": [
          -0.11638704796165784,
          -0.7002249145000803,
          -0.7559517130326966,
          1.1305922656785876,
          -0.6038578300924019,
          -1.075086901430937,
          -0.3989676241763057,
          -0.8895140403200313,
          0.0949517121580332,
          -0.7161291245309929,
          0.0661068785899851,
          1.0901273098596156,
          0.6772356135465372,
          -0.5041475983570313,
          -0.3053154132514319,
          0.27148079247714174,
          -0.18156190976840691,
          0.16379448272566335,
          0.9721880440901653,
          -1.5115428542507243,
          0.09880160039176525,
          0.1883791691285031,
          0.2875295713790334,
          0.2508200922256019,
          0.37144140897188865,
          -1.5125712150306476,
          -0.3000500023828874,
          -1.4467564617646498,
          0.7668413260168058,
          -1.128039398386622,
          0.371943048263021,
          -1.8846930751494804,
          0.23396193895397652,
          1.1239652961702076,
          1.4113780100828497,
          -0.22112432300555643,
          0.21879206094552822,
          0.34764710207640953,
          2.5572739518495244,
          -0.05991313736641319,
          -0.6831361628447226,
          0.3135594473854501,
          -1.3364626676182996,
          -0.14272899360938457,
          -1.089432561463353,
          -0.08470708103908872,
          -0.8853361125929256,
          0.2592699559282212,
          -2.9290632225906483,
          -0.7642963581491048,
          -0.3701098414195931,
          -1.1733328554821236,
          0.5684291090514618,
          1.3622976081754778,
          0.5065257571645497,
          -0.7669619501828306,
          0.5952589165064289,
          0.12063091104041283,
          -2.1699314453784986,
          0.9525797703035719,
          1.303118247161537,
          0.18775132553756985,
          0.2778295995170414,
          1.1118376295674957,
          0.7276850289295383,
          0.07484264237616128,
          -0.8830055985098384,
          0.4958469514420254,
          1.300077430444035,
          0.46653962453374265,
          0.5651443336213451,
          0.37321775159292236,
          0.6589956641659104,
          -0.5534074522898599,
          0.5235284057923568,
          0.9349812129515604,
          0.7218050715715093,
          -1.5295165082248794,
          0.7650670984673281,
          1.1349556998344372,
          -0.9037193947920661,
          0.3267269140908282,
          0.274083206935181,
          0.05836425297423308,
          1.7752998946512923,
          -0.7772049067537251,
          -1.9177958253796348,
          0.9108021670541938,
          0.3538857001900387,
          0.5398070189471809,
          -0.574290715555816,
          -1.5783354313272537,
          0.5691760158559603,
          -0.16036901495118402,
          -0.30034135049553096,
          0.962259425746051,
          0.180304955729948,
          0.24236432568462,
          0.2446800239178959,
          -0.013385992364696949
         ],
         "xaxis": "x16",
         "yaxis": "y16"
        }
       ],
       "layout": {
        "bargap": 0.02,
        "legend": {
         "bgcolor": "#F5F6F9",
         "font": {
          "color": "#4D5663"
         }
        },
        "paper_bgcolor": "#F5F6F9",
        "plot_bgcolor": "#F5F6F9",
        "showlegend": false,
        "template": {
         "data": {
          "bar": [
           {
            "error_x": {
             "color": "#2a3f5f"
            },
            "error_y": {
             "color": "#2a3f5f"
            },
            "marker": {
             "line": {
              "color": "#E5ECF6",
              "width": 0.5
             }
            },
            "type": "bar"
           }
          ],
          "barpolar": [
           {
            "marker": {
             "line": {
              "color": "#E5ECF6",
              "width": 0.5
             }
            },
            "type": "barpolar"
           }
          ],
          "carpet": [
           {
            "aaxis": {
             "endlinecolor": "#2a3f5f",
             "gridcolor": "white",
             "linecolor": "white",
             "minorgridcolor": "white",
             "startlinecolor": "#2a3f5f"
            },
            "baxis": {
             "endlinecolor": "#2a3f5f",
             "gridcolor": "white",
             "linecolor": "white",
             "minorgridcolor": "white",
             "startlinecolor": "#2a3f5f"
            },
            "type": "carpet"
           }
          ],
          "choropleth": [
           {
            "colorbar": {
             "outlinewidth": 0,
             "ticks": ""
            },
            "type": "choropleth"
           }
          ],
          "contour": [
           {
            "colorbar": {
             "outlinewidth": 0,
             "ticks": ""
            },
            "colorscale": [
             [
              0,
              "#0d0887"
             ],
             [
              0.1111111111111111,
              "#46039f"
             ],
             [
              0.2222222222222222,
              "#7201a8"
             ],
             [
              0.3333333333333333,
              "#9c179e"
             ],
             [
              0.4444444444444444,
              "#bd3786"
             ],
             [
              0.5555555555555556,
              "#d8576b"
             ],
             [
              0.6666666666666666,
              "#ed7953"
             ],
             [
              0.7777777777777778,
              "#fb9f3a"
             ],
             [
              0.8888888888888888,
              "#fdca26"
             ],
             [
              1,
              "#f0f921"
             ]
            ],
            "type": "contour"
           }
          ],
          "contourcarpet": [
           {
            "colorbar": {
             "outlinewidth": 0,
             "ticks": ""
            },
            "type": "contourcarpet"
           }
          ],
          "heatmap": [
           {
            "colorbar": {
             "outlinewidth": 0,
             "ticks": ""
            },
            "colorscale": [
             [
              0,
              "#0d0887"
             ],
             [
              0.1111111111111111,
              "#46039f"
             ],
             [
              0.2222222222222222,
              "#7201a8"
             ],
             [
              0.3333333333333333,
              "#9c179e"
             ],
             [
              0.4444444444444444,
              "#bd3786"
             ],
             [
              0.5555555555555556,
              "#d8576b"
             ],
             [
              0.6666666666666666,
              "#ed7953"
             ],
             [
              0.7777777777777778,
              "#fb9f3a"
             ],
             [
              0.8888888888888888,
              "#fdca26"
             ],
             [
              1,
              "#f0f921"
             ]
            ],
            "type": "heatmap"
           }
          ],
          "heatmapgl": [
           {
            "colorbar": {
             "outlinewidth": 0,
             "ticks": ""
            },
            "colorscale": [
             [
              0,
              "#0d0887"
             ],
             [
              0.1111111111111111,
              "#46039f"
             ],
             [
              0.2222222222222222,
              "#7201a8"
             ],
             [
              0.3333333333333333,
              "#9c179e"
             ],
             [
              0.4444444444444444,
              "#bd3786"
             ],
             [
              0.5555555555555556,
              "#d8576b"
             ],
             [
              0.6666666666666666,
              "#ed7953"
             ],
             [
              0.7777777777777778,
              "#fb9f3a"
             ],
             [
              0.8888888888888888,
              "#fdca26"
             ],
             [
              1,
              "#f0f921"
             ]
            ],
            "type": "heatmapgl"
           }
          ],
          "histogram": [
           {
            "marker": {
             "colorbar": {
              "outlinewidth": 0,
              "ticks": ""
             }
            },
            "type": "histogram"
           }
          ],
          "histogram2d": [
           {
            "colorbar": {
             "outlinewidth": 0,
             "ticks": ""
            },
            "colorscale": [
             [
              0,
              "#0d0887"
             ],
             [
              0.1111111111111111,
              "#46039f"
             ],
             [
              0.2222222222222222,
              "#7201a8"
             ],
             [
              0.3333333333333333,
              "#9c179e"
             ],
             [
              0.4444444444444444,
              "#bd3786"
             ],
             [
              0.5555555555555556,
              "#d8576b"
             ],
             [
              0.6666666666666666,
              "#ed7953"
             ],
             [
              0.7777777777777778,
              "#fb9f3a"
             ],
             [
              0.8888888888888888,
              "#fdca26"
             ],
             [
              1,
              "#f0f921"
             ]
            ],
            "type": "histogram2d"
           }
          ],
          "histogram2dcontour": [
           {
            "colorbar": {
             "outlinewidth": 0,
             "ticks": ""
            },
            "colorscale": [
             [
              0,
              "#0d0887"
             ],
             [
              0.1111111111111111,
              "#46039f"
             ],
             [
              0.2222222222222222,
              "#7201a8"
             ],
             [
              0.3333333333333333,
              "#9c179e"
             ],
             [
              0.4444444444444444,
              "#bd3786"
             ],
             [
              0.5555555555555556,
              "#d8576b"
             ],
             [
              0.6666666666666666,
              "#ed7953"
             ],
             [
              0.7777777777777778,
              "#fb9f3a"
             ],
             [
              0.8888888888888888,
              "#fdca26"
             ],
             [
              1,
              "#f0f921"
             ]
            ],
            "type": "histogram2dcontour"
           }
          ],
          "mesh3d": [
           {
            "colorbar": {
             "outlinewidth": 0,
             "ticks": ""
            },
            "type": "mesh3d"
           }
          ],
          "parcoords": [
           {
            "line": {
             "colorbar": {
              "outlinewidth": 0,
              "ticks": ""
             }
            },
            "type": "parcoords"
           }
          ],
          "pie": [
           {
            "automargin": true,
            "type": "pie"
           }
          ],
          "scatter": [
           {
            "marker": {
             "colorbar": {
              "outlinewidth": 0,
              "ticks": ""
             }
            },
            "type": "scatter"
           }
          ],
          "scatter3d": [
           {
            "line": {
             "colorbar": {
              "outlinewidth": 0,
              "ticks": ""
             }
            },
            "marker": {
             "colorbar": {
              "outlinewidth": 0,
              "ticks": ""
             }
            },
            "type": "scatter3d"
           }
          ],
          "scattercarpet": [
           {
            "marker": {
             "colorbar": {
              "outlinewidth": 0,
              "ticks": ""
             }
            },
            "type": "scattercarpet"
           }
          ],
          "scattergeo": [
           {
            "marker": {
             "colorbar": {
              "outlinewidth": 0,
              "ticks": ""
             }
            },
            "type": "scattergeo"
           }
          ],
          "scattergl": [
           {
            "marker": {
             "colorbar": {
              "outlinewidth": 0,
              "ticks": ""
             }
            },
            "type": "scattergl"
           }
          ],
          "scattermapbox": [
           {
            "marker": {
             "colorbar": {
              "outlinewidth": 0,
              "ticks": ""
             }
            },
            "type": "scattermapbox"
           }
          ],
          "scatterpolar": [
           {
            "marker": {
             "colorbar": {
              "outlinewidth": 0,
              "ticks": ""
             }
            },
            "type": "scatterpolar"
           }
          ],
          "scatterpolargl": [
           {
            "marker": {
             "colorbar": {
              "outlinewidth": 0,
              "ticks": ""
             }
            },
            "type": "scatterpolargl"
           }
          ],
          "scatterternary": [
           {
            "marker": {
             "colorbar": {
              "outlinewidth": 0,
              "ticks": ""
             }
            },
            "type": "scatterternary"
           }
          ],
          "surface": [
           {
            "colorbar": {
             "outlinewidth": 0,
             "ticks": ""
            },
            "colorscale": [
             [
              0,
              "#0d0887"
             ],
             [
              0.1111111111111111,
              "#46039f"
             ],
             [
              0.2222222222222222,
              "#7201a8"
             ],
             [
              0.3333333333333333,
              "#9c179e"
             ],
             [
              0.4444444444444444,
              "#bd3786"
             ],
             [
              0.5555555555555556,
              "#d8576b"
             ],
             [
              0.6666666666666666,
              "#ed7953"
             ],
             [
              0.7777777777777778,
              "#fb9f3a"
             ],
             [
              0.8888888888888888,
              "#fdca26"
             ],
             [
              1,
              "#f0f921"
             ]
            ],
            "type": "surface"
           }
          ],
          "table": [
           {
            "cells": {
             "fill": {
              "color": "#EBF0F8"
             },
             "line": {
              "color": "white"
             }
            },
            "header": {
             "fill": {
              "color": "#C8D4E3"
             },
             "line": {
              "color": "white"
             }
            },
            "type": "table"
           }
          ]
         },
         "layout": {
          "annotationdefaults": {
           "arrowcolor": "#2a3f5f",
           "arrowhead": 0,
           "arrowwidth": 1
          },
          "coloraxis": {
           "colorbar": {
            "outlinewidth": 0,
            "ticks": ""
           }
          },
          "colorscale": {
           "diverging": [
            [
             0,
             "#8e0152"
            ],
            [
             0.1,
             "#c51b7d"
            ],
            [
             0.2,
             "#de77ae"
            ],
            [
             0.3,
             "#f1b6da"
            ],
            [
             0.4,
             "#fde0ef"
            ],
            [
             0.5,
             "#f7f7f7"
            ],
            [
             0.6,
             "#e6f5d0"
            ],
            [
             0.7,
             "#b8e186"
            ],
            [
             0.8,
             "#7fbc41"
            ],
            [
             0.9,
             "#4d9221"
            ],
            [
             1,
             "#276419"
            ]
           ],
           "sequential": [
            [
             0,
             "#0d0887"
            ],
            [
             0.1111111111111111,
             "#46039f"
            ],
            [
             0.2222222222222222,
             "#7201a8"
            ],
            [
             0.3333333333333333,
             "#9c179e"
            ],
            [
             0.4444444444444444,
             "#bd3786"
            ],
            [
             0.5555555555555556,
             "#d8576b"
            ],
            [
             0.6666666666666666,
             "#ed7953"
            ],
            [
             0.7777777777777778,
             "#fb9f3a"
            ],
            [
             0.8888888888888888,
             "#fdca26"
            ],
            [
             1,
             "#f0f921"
            ]
           ],
           "sequentialminus": [
            [
             0,
             "#0d0887"
            ],
            [
             0.1111111111111111,
             "#46039f"
            ],
            [
             0.2222222222222222,
             "#7201a8"
            ],
            [
             0.3333333333333333,
             "#9c179e"
            ],
            [
             0.4444444444444444,
             "#bd3786"
            ],
            [
             0.5555555555555556,
             "#d8576b"
            ],
            [
             0.6666666666666666,
             "#ed7953"
            ],
            [
             0.7777777777777778,
             "#fb9f3a"
            ],
            [
             0.8888888888888888,
             "#fdca26"
            ],
            [
             1,
             "#f0f921"
            ]
           ]
          },
          "colorway": [
           "#636efa",
           "#EF553B",
           "#00cc96",
           "#ab63fa",
           "#FFA15A",
           "#19d3f3",
           "#FF6692",
           "#B6E880",
           "#FF97FF",
           "#FECB52"
          ],
          "font": {
           "color": "#2a3f5f"
          },
          "geo": {
           "bgcolor": "white",
           "lakecolor": "white",
           "landcolor": "#E5ECF6",
           "showlakes": true,
           "showland": true,
           "subunitcolor": "white"
          },
          "hoverlabel": {
           "align": "left"
          },
          "hovermode": "closest",
          "mapbox": {
           "style": "light"
          },
          "paper_bgcolor": "white",
          "plot_bgcolor": "#E5ECF6",
          "polar": {
           "angularaxis": {
            "gridcolor": "white",
            "linecolor": "white",
            "ticks": ""
           },
           "bgcolor": "#E5ECF6",
           "radialaxis": {
            "gridcolor": "white",
            "linecolor": "white",
            "ticks": ""
           }
          },
          "scene": {
           "xaxis": {
            "backgroundcolor": "#E5ECF6",
            "gridcolor": "white",
            "gridwidth": 2,
            "linecolor": "white",
            "showbackground": true,
            "ticks": "",
            "zerolinecolor": "white"
           },
           "yaxis": {
            "backgroundcolor": "#E5ECF6",
            "gridcolor": "white",
            "gridwidth": 2,
            "linecolor": "white",
            "showbackground": true,
            "ticks": "",
            "zerolinecolor": "white"
           },
           "zaxis": {
            "backgroundcolor": "#E5ECF6",
            "gridcolor": "white",
            "gridwidth": 2,
            "linecolor": "white",
            "showbackground": true,
            "ticks": "",
            "zerolinecolor": "white"
           }
          },
          "shapedefaults": {
           "line": {
            "color": "#2a3f5f"
           }
          },
          "ternary": {
           "aaxis": {
            "gridcolor": "white",
            "linecolor": "white",
            "ticks": ""
           },
           "baxis": {
            "gridcolor": "white",
            "linecolor": "white",
            "ticks": ""
           },
           "bgcolor": "#E5ECF6",
           "caxis": {
            "gridcolor": "white",
            "linecolor": "white",
            "ticks": ""
           }
          },
          "title": {
           "x": 0.05
          },
          "xaxis": {
           "automargin": true,
           "gridcolor": "white",
           "linecolor": "white",
           "ticks": "",
           "title": {
            "standoff": 15
           },
           "zerolinecolor": "white",
           "zerolinewidth": 2
          },
          "yaxis": {
           "automargin": true,
           "gridcolor": "white",
           "linecolor": "white",
           "ticks": "",
           "title": {
            "standoff": 15
           },
           "zerolinecolor": "white",
           "zerolinewidth": 2
          }
         }
        },
        "title": {
         "font": {
          "color": "#4D5663"
         }
        },
        "xaxis": {
         "anchor": "y",
         "domain": [
          0,
          0.2125
         ],
         "gridcolor": "#E1E5ED",
         "showgrid": false,
         "tickfont": {
          "color": "#4D5663"
         },
         "title": {
          "font": {
           "color": "#4D5663"
          },
          "text": ""
         },
         "zerolinecolor": "#E1E5ED"
        },
        "xaxis10": {
         "anchor": "y10",
         "domain": [
          0.2625,
          0.475
         ],
         "gridcolor": "#E1E5ED",
         "showgrid": false,
         "tickfont": {
          "color": "#4D5663"
         },
         "title": {
          "font": {
           "color": "#4D5663"
          },
          "text": ""
         },
         "zerolinecolor": "#E1E5ED"
        },
        "xaxis11": {
         "anchor": "y11",
         "domain": [
          0.525,
          0.7375
         ],
         "gridcolor": "#E1E5ED",
         "showgrid": false,
         "tickfont": {
          "color": "#4D5663"
         },
         "title": {
          "font": {
           "color": "#4D5663"
          },
          "text": ""
         },
         "zerolinecolor": "#E1E5ED"
        },
        "xaxis12": {
         "anchor": "y12",
         "domain": [
          0.7875,
          1
         ],
         "gridcolor": "#E1E5ED",
         "showgrid": false,
         "tickfont": {
          "color": "#4D5663"
         },
         "title": {
          "font": {
           "color": "#4D5663"
          },
          "text": ""
         },
         "zerolinecolor": "#E1E5ED"
        },
        "xaxis13": {
         "anchor": "y13",
         "domain": [
          0,
          0.2125
         ],
         "gridcolor": "#E1E5ED",
         "showgrid": false,
         "tickfont": {
          "color": "#4D5663"
         },
         "title": {
          "font": {
           "color": "#4D5663"
          },
          "text": ""
         },
         "zerolinecolor": "#E1E5ED"
        },
        "xaxis14": {
         "anchor": "y14",
         "domain": [
          0.2625,
          0.475
         ],
         "gridcolor": "#E1E5ED",
         "showgrid": false,
         "tickfont": {
          "color": "#4D5663"
         },
         "title": {
          "font": {
           "color": "#4D5663"
          },
          "text": ""
         },
         "zerolinecolor": "#E1E5ED"
        },
        "xaxis15": {
         "anchor": "y15",
         "domain": [
          0.525,
          0.7375
         ],
         "gridcolor": "#E1E5ED",
         "showgrid": false,
         "tickfont": {
          "color": "#4D5663"
         },
         "title": {
          "font": {
           "color": "#4D5663"
          },
          "text": ""
         },
         "zerolinecolor": "#E1E5ED"
        },
        "xaxis16": {
         "anchor": "y16",
         "domain": [
          0.7875,
          1
         ],
         "gridcolor": "#E1E5ED",
         "showgrid": false,
         "tickfont": {
          "color": "#4D5663"
         },
         "title": {
          "font": {
           "color": "#4D5663"
          },
          "text": ""
         },
         "zerolinecolor": "#E1E5ED"
        },
        "xaxis2": {
         "anchor": "y2",
         "domain": [
          0.2625,
          0.475
         ],
         "gridcolor": "#E1E5ED",
         "showgrid": false,
         "tickfont": {
          "color": "#4D5663"
         },
         "title": {
          "font": {
           "color": "#4D5663"
          },
          "text": ""
         },
         "zerolinecolor": "#E1E5ED"
        },
        "xaxis3": {
         "anchor": "y3",
         "domain": [
          0.525,
          0.7375
         ],
         "gridcolor": "#E1E5ED",
         "showgrid": false,
         "tickfont": {
          "color": "#4D5663"
         },
         "title": {
          "font": {
           "color": "#4D5663"
          },
          "text": ""
         },
         "zerolinecolor": "#E1E5ED"
        },
        "xaxis4": {
         "anchor": "y4",
         "domain": [
          0.7875,
          1
         ],
         "gridcolor": "#E1E5ED",
         "showgrid": false,
         "tickfont": {
          "color": "#4D5663"
         },
         "title": {
          "font": {
           "color": "#4D5663"
          },
          "text": ""
         },
         "zerolinecolor": "#E1E5ED"
        },
        "xaxis5": {
         "anchor": "y5",
         "domain": [
          0,
          0.2125
         ],
         "gridcolor": "#E1E5ED",
         "showgrid": false,
         "tickfont": {
          "color": "#4D5663"
         },
         "title": {
          "font": {
           "color": "#4D5663"
          },
          "text": ""
         },
         "zerolinecolor": "#E1E5ED"
        },
        "xaxis6": {
         "anchor": "y6",
         "domain": [
          0.2625,
          0.475
         ],
         "gridcolor": "#E1E5ED",
         "showgrid": false,
         "tickfont": {
          "color": "#4D5663"
         },
         "title": {
          "font": {
           "color": "#4D5663"
          },
          "text": ""
         },
         "zerolinecolor": "#E1E5ED"
        },
        "xaxis7": {
         "anchor": "y7",
         "domain": [
          0.525,
          0.7375
         ],
         "gridcolor": "#E1E5ED",
         "showgrid": false,
         "tickfont": {
          "color": "#4D5663"
         },
         "title": {
          "font": {
           "color": "#4D5663"
          },
          "text": ""
         },
         "zerolinecolor": "#E1E5ED"
        },
        "xaxis8": {
         "anchor": "y8",
         "domain": [
          0.7875,
          1
         ],
         "gridcolor": "#E1E5ED",
         "showgrid": false,
         "tickfont": {
          "color": "#4D5663"
         },
         "title": {
          "font": {
           "color": "#4D5663"
          },
          "text": ""
         },
         "zerolinecolor": "#E1E5ED"
        },
        "xaxis9": {
         "anchor": "y9",
         "domain": [
          0,
          0.2125
         ],
         "gridcolor": "#E1E5ED",
         "showgrid": false,
         "tickfont": {
          "color": "#4D5663"
         },
         "title": {
          "font": {
           "color": "#4D5663"
          },
          "text": ""
         },
         "zerolinecolor": "#E1E5ED"
        },
        "yaxis": {
         "anchor": "x",
         "domain": [
          0.8025,
          1
         ],
         "gridcolor": "#E1E5ED",
         "showgrid": false,
         "tickfont": {
          "color": "#4D5663"
         },
         "title": {
          "font": {
           "color": "#4D5663"
          },
          "text": ""
         },
         "zerolinecolor": "#E1E5ED"
        },
        "yaxis10": {
         "anchor": "x10",
         "domain": [
          0.2675,
          0.465
         ],
         "gridcolor": "#E1E5ED",
         "showgrid": false,
         "tickfont": {
          "color": "#4D5663"
         },
         "title": {
          "font": {
           "color": "#4D5663"
          },
          "text": ""
         },
         "zerolinecolor": "#E1E5ED"
        },
        "yaxis11": {
         "anchor": "x11",
         "domain": [
          0.2675,
          0.465
         ],
         "gridcolor": "#E1E5ED",
         "showgrid": false,
         "tickfont": {
          "color": "#4D5663"
         },
         "title": {
          "font": {
           "color": "#4D5663"
          },
          "text": ""
         },
         "zerolinecolor": "#E1E5ED"
        },
        "yaxis12": {
         "anchor": "x12",
         "domain": [
          0.2675,
          0.465
         ],
         "gridcolor": "#E1E5ED",
         "showgrid": false,
         "tickfont": {
          "color": "#4D5663"
         },
         "title": {
          "font": {
           "color": "#4D5663"
          },
          "text": ""
         },
         "zerolinecolor": "#E1E5ED"
        },
        "yaxis13": {
         "anchor": "x13",
         "domain": [
          0,
          0.1975
         ],
         "gridcolor": "#E1E5ED",
         "showgrid": false,
         "tickfont": {
          "color": "#4D5663"
         },
         "title": {
          "font": {
           "color": "#4D5663"
          },
          "text": ""
         },
         "zerolinecolor": "#E1E5ED"
        },
        "yaxis14": {
         "anchor": "x14",
         "domain": [
          0,
          0.1975
         ],
         "gridcolor": "#E1E5ED",
         "showgrid": false,
         "tickfont": {
          "color": "#4D5663"
         },
         "title": {
          "font": {
           "color": "#4D5663"
          },
          "text": ""
         },
         "zerolinecolor": "#E1E5ED"
        },
        "yaxis15": {
         "anchor": "x15",
         "domain": [
          0,
          0.1975
         ],
         "gridcolor": "#E1E5ED",
         "showgrid": false,
         "tickfont": {
          "color": "#4D5663"
         },
         "title": {
          "font": {
           "color": "#4D5663"
          },
          "text": ""
         },
         "zerolinecolor": "#E1E5ED"
        },
        "yaxis16": {
         "anchor": "x16",
         "domain": [
          0,
          0.1975
         ],
         "gridcolor": "#E1E5ED",
         "showgrid": false,
         "tickfont": {
          "color": "#4D5663"
         },
         "title": {
          "font": {
           "color": "#4D5663"
          },
          "text": ""
         },
         "zerolinecolor": "#E1E5ED"
        },
        "yaxis2": {
         "anchor": "x2",
         "domain": [
          0.8025,
          1
         ],
         "gridcolor": "#E1E5ED",
         "showgrid": false,
         "tickfont": {
          "color": "#4D5663"
         },
         "title": {
          "font": {
           "color": "#4D5663"
          },
          "text": ""
         },
         "zerolinecolor": "#E1E5ED"
        },
        "yaxis3": {
         "anchor": "x3",
         "domain": [
          0.8025,
          1
         ],
         "gridcolor": "#E1E5ED",
         "showgrid": false,
         "tickfont": {
          "color": "#4D5663"
         },
         "title": {
          "font": {
           "color": "#4D5663"
          },
          "text": ""
         },
         "zerolinecolor": "#E1E5ED"
        },
        "yaxis4": {
         "anchor": "x4",
         "domain": [
          0.8025,
          1
         ],
         "gridcolor": "#E1E5ED",
         "showgrid": false,
         "tickfont": {
          "color": "#4D5663"
         },
         "title": {
          "font": {
           "color": "#4D5663"
          },
          "text": ""
         },
         "zerolinecolor": "#E1E5ED"
        },
        "yaxis5": {
         "anchor": "x5",
         "domain": [
          0.535,
          0.7325
         ],
         "gridcolor": "#E1E5ED",
         "showgrid": false,
         "tickfont": {
          "color": "#4D5663"
         },
         "title": {
          "font": {
           "color": "#4D5663"
          },
          "text": ""
         },
         "zerolinecolor": "#E1E5ED"
        },
        "yaxis6": {
         "anchor": "x6",
         "domain": [
          0.535,
          0.7325
         ],
         "gridcolor": "#E1E5ED",
         "showgrid": false,
         "tickfont": {
          "color": "#4D5663"
         },
         "title": {
          "font": {
           "color": "#4D5663"
          },
          "text": ""
         },
         "zerolinecolor": "#E1E5ED"
        },
        "yaxis7": {
         "anchor": "x7",
         "domain": [
          0.535,
          0.7325
         ],
         "gridcolor": "#E1E5ED",
         "showgrid": false,
         "tickfont": {
          "color": "#4D5663"
         },
         "title": {
          "font": {
           "color": "#4D5663"
          },
          "text": ""
         },
         "zerolinecolor": "#E1E5ED"
        },
        "yaxis8": {
         "anchor": "x8",
         "domain": [
          0.535,
          0.7325
         ],
         "gridcolor": "#E1E5ED",
         "showgrid": false,
         "tickfont": {
          "color": "#4D5663"
         },
         "title": {
          "font": {
           "color": "#4D5663"
          },
          "text": ""
         },
         "zerolinecolor": "#E1E5ED"
        },
        "yaxis9": {
         "anchor": "x9",
         "domain": [
          0.2675,
          0.465
         ],
         "gridcolor": "#E1E5ED",
         "showgrid": false,
         "tickfont": {
          "color": "#4D5663"
         },
         "title": {
          "font": {
           "color": "#4D5663"
          },
          "text": ""
         },
         "zerolinecolor": "#E1E5ED"
        }
       }
      },
      "text/html": [
       "<div>\n",
       "        \n",
       "        \n",
       "            <div id=\"f711100a-f44b-4392-a335-886a8675e2da\" class=\"plotly-graph-div\" style=\"height:525px; width:100%;\"></div>\n",
       "            <script type=\"text/javascript\">\n",
       "                require([\"plotly\"], function(Plotly) {\n",
       "                    window.PLOTLYENV=window.PLOTLYENV || {};\n",
       "                    window.PLOTLYENV.BASE_URL='https://plot.ly';\n",
       "                    \n",
       "                if (document.getElementById(\"f711100a-f44b-4392-a335-886a8675e2da\")) {\n",
       "                    Plotly.newPlot(\n",
       "                        'f711100a-f44b-4392-a335-886a8675e2da',\n",
       "                        [{\"histfunc\": \"count\", \"histnorm\": \"\", \"marker\": {\"color\": \"rgba(255, 153, 51, 1.0)\", \"line\": {\"color\": \"#4D5663\", \"width\": 1.3}}, \"name\": \"A\", \"nbinsx\": 10, \"opacity\": 0.8, \"orientation\": \"v\", \"type\": \"histogram\", \"x\": [-0.0015585409020748443, 0.8458864735345376, 0.934414068172041, -1.299225287036096, -0.612313161810921, -1.9164219425202789, -0.23256760125329407, 1.0920556656230416, -0.4662237559745914, 0.11813620238621023, -0.3893305872383898, 0.3524367390130047, 0.6267049137115619, -2.0098283113102333, -0.42224277438234714, 1.4834140075387432, 0.0007950478259361682, -0.6043585953862748, 0.4071176027713737, -1.4138220890082105, 2.077707538654815, 0.4768952209629994, 1.3895053923630198, 2.3244999824807198, -1.189297270602611, 0.8722982996347064, 2.2937988533328246, 0.06467962016505363, -0.13633788837817873, -1.7836787475237632, 0.22566002203532615, 0.20566852075458583, -0.018339853278318195, -0.5654481912867622, -0.5078139751819283, 0.8275904894419189, -0.5203960037208601, -0.41352349293990387, 2.1181837053232897, -0.4590426190787295, 1.2319084700892855, -0.5358681790349643, -0.498364296101095, 0.9232038731051508, -0.2814992874895402, 0.24769175172286134, 0.2328949255804648, 0.5473351367722717, 0.9498326281204514, -1.8075122019812093, -0.16476749353990988, 0.5752186600567579, 0.13051060072420054, 0.3498771676815099, 0.40281032759571855, -0.950111217346983, 1.1638492951727184, 0.7788802320291295, -1.2857935794971982, 1.622091453349334, 0.8678849327369677, -0.5048785146381843, -0.4896243146193713, -0.010709110981634063, 1.006602249430079, -0.40568483350162055, 1.3087894411891126, 0.190062600400811, 1.0379437685082251, 0.2029558624259573, 1.2943640286010194, -1.1492525100133704, 1.9470511979586185, -1.1750359924184552, -0.7121663439038282, -0.3725103090728009, 0.8444841630918083, 0.6485746069267528, 0.8839137048866836, 1.8032268952420396, 0.5001484387119923, 1.896484110324483, 1.654298132548488, 1.4071820106911808, -0.6308051064388178, 0.3196782094684533, -1.4042278558123713, -0.30363620969810856, 0.33937227389870644, -1.3141396770051583, 1.7301125955143941, 1.473261447646321, -1.2404429659357479, 0.41453891492567924, 0.8491352380137746, 0.06291390210273382, 0.8957023727937828, -0.8297378450246963, -0.15546745233405063, 0.06115899148576859], \"xaxis\": \"x\", \"yaxis\": \"y\"}, {\"line\": {\"color\": \"rgba(128, 128, 128, 1.0)\", \"dash\": \"solid\", \"shape\": \"linear\", \"width\": 1.3}, \"marker\": {\"size\": 2, \"symbol\": \"circle\"}, \"mode\": \"markers\", \"name\": \"A\", \"text\": \"\", \"type\": \"scatter\", \"x\": [1.0175800614285233, -1.2381697268039793, 0.7844385814995347, 0.30504309679334424, 0.07113000211751754, 0.5464945125562095, 1.1557504557988485, -1.7275411926016029, -0.22279057745760433, -0.014174013152534099, 0.046397927392791756, -1.3337624718506451, 1.191976549469535, -0.7183098682670902, -2.4698721321587866, 0.9613881312364033, 1.6833606698696069, 0.42850756621014996, -1.1454449405585065, -0.08662254675121947, -0.9450585843005394, -0.33298677114239544, 0.4657326635014758, -0.9691697286478733, 0.62175588895002, 1.0299919541363, 0.8649747554739001, -0.6744088289128711, -0.6033349561993983, -0.6337091078175451, -0.08477989487573509, 0.9323883959280738, 0.1652884033603895, -0.6339840048762202, 1.0507406443717582, 1.0573753846404983, 0.6636757389865048, 1.3299452315771907, -2.410944620637584, 0.02666908427756707, -1.2376861153521053, 1.7238750523134125, -0.5086058475096568, -0.17507279212476282, 0.5475713496593823, -1.4259641401525398, 0.05369385509694605, -0.9299640092735049, 0.11079782824479513, 0.0736336796198157, -1.1284780669103156, 2.3268805893841846, 0.7353143553716142, 0.5747292489874314, 0.0061658081593460685, -0.8142937126202369, -0.5898683598036754, -1.2427151574703632, -1.6405760554796995, -1.175831136187835, 1.149180086490129, -0.18251913868620054, -1.0876933367660377, 0.9976299359074137, 0.4003239380906782, 0.2617838634232212, -0.32829660836018465, -0.23248596879774558, -0.14820288716904675, 0.6253052461591179, 2.685060965111488, -1.0063500799681528, 0.6364210137912422, 0.4341464126761938, -0.6846913415382077, 0.03168060938323212, 0.9653244668758755, 0.2539811926246748, 0.19839824105941936, 1.7403553998585106, 0.08270043220181753, -0.27786186641225313, -2.558636455467326, 0.13711812987282768, -3.113999236124563, -0.875019859368395, 0.4439283319975627, -0.9614670575196685, -1.8034029714721953, -0.028070800567166057, 0.6141861352213069, -0.8745255066793514, -1.3864506353507577, 0.9687999866524937, 0.3151400059457273, 0.2900335524231588, 0.17169407679562926, 0.7406298316795756, 2.1758669248629254, 2.277915743638747], \"xaxis\": \"x2\", \"y\": [-0.0015585409020748443, 0.8458864735345376, 0.934414068172041, -1.299225287036096, -0.612313161810921, -1.9164219425202789, -0.23256760125329407, 1.0920556656230416, -0.4662237559745914, 0.11813620238621023, -0.3893305872383898, 0.3524367390130047, 0.6267049137115619, -2.0098283113102333, -0.42224277438234714, 1.4834140075387432, 0.0007950478259361682, -0.6043585953862748, 0.4071176027713737, -1.4138220890082105, 2.077707538654815, 0.4768952209629994, 1.3895053923630198, 2.3244999824807198, -1.189297270602611, 0.8722982996347064, 2.2937988533328246, 0.06467962016505363, -0.13633788837817873, -1.7836787475237632, 0.22566002203532615, 0.20566852075458583, -0.018339853278318195, -0.5654481912867622, -0.5078139751819283, 0.8275904894419189, -0.5203960037208601, -0.41352349293990387, 2.1181837053232897, -0.4590426190787295, 1.2319084700892855, -0.5358681790349643, -0.498364296101095, 0.9232038731051508, -0.2814992874895402, 0.24769175172286134, 0.2328949255804648, 0.5473351367722717, 0.9498326281204514, -1.8075122019812093, -0.16476749353990988, 0.5752186600567579, 0.13051060072420054, 0.3498771676815099, 0.40281032759571855, -0.950111217346983, 1.1638492951727184, 0.7788802320291295, -1.2857935794971982, 1.622091453349334, 0.8678849327369677, -0.5048785146381843, -0.4896243146193713, -0.010709110981634063, 1.006602249430079, -0.40568483350162055, 1.3087894411891126, 0.190062600400811, 1.0379437685082251, 0.2029558624259573, 1.2943640286010194, -1.1492525100133704, 1.9470511979586185, -1.1750359924184552, -0.7121663439038282, -0.3725103090728009, 0.8444841630918083, 0.6485746069267528, 0.8839137048866836, 1.8032268952420396, 0.5001484387119923, 1.896484110324483, 1.654298132548488, 1.4071820106911808, -0.6308051064388178, 0.3196782094684533, -1.4042278558123713, -0.30363620969810856, 0.33937227389870644, -1.3141396770051583, 1.7301125955143941, 1.473261447646321, -1.2404429659357479, 0.41453891492567924, 0.8491352380137746, 0.06291390210273382, 0.8957023727937828, -0.8297378450246963, -0.15546745233405063, 0.06115899148576859], \"yaxis\": \"y2\"}, {\"line\": {\"color\": \"rgba(128, 128, 128, 1.0)\", \"dash\": \"solid\", \"shape\": \"linear\", \"width\": 1.3}, \"marker\": {\"size\": 2, \"symbol\": \"circle\"}, \"mode\": \"markers\", \"name\": \"A\", \"text\": \"\", \"type\": \"scatter\", \"x\": [-0.3788015313202212, 1.256762231295425, -0.8306300375628289, -0.4608964149762124, 0.8403424244494432, 1.382446688545958, -0.6648836286791291, -1.219886004139807, -0.2667387299528493, 0.5637496816006109, -0.22579301283267872, -0.4453936088138776, -0.15907827396625296, 0.3188589022283024, -0.49120530496722187, 1.1713785524378253, 0.2890678697829857, 0.22533111201464287, 0.5561921151720705, -0.99041241400968, 0.39497006397390916, 0.07844922125051666, -1.7713057250695605, -0.25905732239853096, 0.15315464636697984, -1.110420311156213, -0.3957901769918868, -0.8205317576014358, -0.21560993396833739, -1.8620014563420701, 3.2984642851881505, 0.06214774861774642, 0.9286263489991817, -1.209408037624237, 0.6946553240463219, -0.6185088427971893, -0.017783693049615926, 1.5449245975139039, -0.15206213305347338, -1.9825608980930653, 1.3817460352203639, 0.03299365426770661, -0.05988533865434531, -0.4727955916530704, 0.15993493017843194, 0.9624712884103498, -0.0652689903471656, 0.32292198225665547, 0.7542099788658005, -0.538579659456351, -1.651282827813881, -1.5066685189357847, -0.591096521344276, 0.11415136327812293, 0.7601189954766393, -1.809259553258281, -0.10767748365051709, -1.5180254739925352, -0.8758650425416121, 1.594704343412804, -0.3621068285076178, 0.46617400533619474, -0.04456531740033875, 0.20350725328813968, 0.43859372092595994, -1.1963691799216696, -0.03610936369111613, -1.3583044466536425, 0.917267703545791, -0.8232825321337947, 1.1318480834374294, -0.754699171130626, 0.2658900823377884, 0.8706654067258455, -0.27004721301889606, -0.9770383142387139, -0.28752871067961044, -1.0502547160445979, 0.7914363174433269, 2.0409131427270615, -0.21684446951038677, 0.17069481759767355, -2.9664272071875293, -0.600310081255409, 2.2387352422545326, -0.20946565899667627, -0.3215864917094097, -1.1453247812042877, -1.0164123491429509, 1.82079047930281, -0.3459161939231618, 1.2015699247574514, -1.3615378521065202, 0.7967606125654182, 0.13520136165040794, -1.5800820323218054, -2.106418155858577, 0.26803487769489037, -1.512463224626046, 0.7996005123284501], \"xaxis\": \"x3\", \"y\": [-0.0015585409020748443, 0.8458864735345376, 0.934414068172041, -1.299225287036096, -0.612313161810921, -1.9164219425202789, -0.23256760125329407, 1.0920556656230416, -0.4662237559745914, 0.11813620238621023, -0.3893305872383898, 0.3524367390130047, 0.6267049137115619, -2.0098283113102333, -0.42224277438234714, 1.4834140075387432, 0.0007950478259361682, -0.6043585953862748, 0.4071176027713737, -1.4138220890082105, 2.077707538654815, 0.4768952209629994, 1.3895053923630198, 2.3244999824807198, -1.189297270602611, 0.8722982996347064, 2.2937988533328246, 0.06467962016505363, -0.13633788837817873, -1.7836787475237632, 0.22566002203532615, 0.20566852075458583, -0.018339853278318195, -0.5654481912867622, -0.5078139751819283, 0.8275904894419189, -0.5203960037208601, -0.41352349293990387, 2.1181837053232897, -0.4590426190787295, 1.2319084700892855, -0.5358681790349643, -0.498364296101095, 0.9232038731051508, -0.2814992874895402, 0.24769175172286134, 0.2328949255804648, 0.5473351367722717, 0.9498326281204514, -1.8075122019812093, -0.16476749353990988, 0.5752186600567579, 0.13051060072420054, 0.3498771676815099, 0.40281032759571855, -0.950111217346983, 1.1638492951727184, 0.7788802320291295, -1.2857935794971982, 1.622091453349334, 0.8678849327369677, -0.5048785146381843, -0.4896243146193713, -0.010709110981634063, 1.006602249430079, -0.40568483350162055, 1.3087894411891126, 0.190062600400811, 1.0379437685082251, 0.2029558624259573, 1.2943640286010194, -1.1492525100133704, 1.9470511979586185, -1.1750359924184552, -0.7121663439038282, -0.3725103090728009, 0.8444841630918083, 0.6485746069267528, 0.8839137048866836, 1.8032268952420396, 0.5001484387119923, 1.896484110324483, 1.654298132548488, 1.4071820106911808, -0.6308051064388178, 0.3196782094684533, -1.4042278558123713, -0.30363620969810856, 0.33937227389870644, -1.3141396770051583, 1.7301125955143941, 1.473261447646321, -1.2404429659357479, 0.41453891492567924, 0.8491352380137746, 0.06291390210273382, 0.8957023727937828, -0.8297378450246963, -0.15546745233405063, 0.06115899148576859], \"yaxis\": \"y3\"}, {\"line\": {\"color\": \"rgba(128, 128, 128, 1.0)\", \"dash\": \"solid\", \"shape\": \"linear\", \"width\": 1.3}, \"marker\": {\"size\": 2, \"symbol\": \"circle\"}, \"mode\": \"markers\", \"name\": \"A\", \"text\": \"\", \"type\": \"scatter\", \"x\": [-0.11638704796165784, -0.7002249145000803, -0.7559517130326966, 1.1305922656785876, -0.6038578300924019, -1.075086901430937, -0.3989676241763057, -0.8895140403200313, 0.0949517121580332, -0.7161291245309929, 0.0661068785899851, 1.0901273098596156, 0.6772356135465372, -0.5041475983570313, -0.3053154132514319, 0.27148079247714174, -0.18156190976840691, 0.16379448272566335, 0.9721880440901653, -1.5115428542507243, 0.09880160039176525, 0.1883791691285031, 0.2875295713790334, 0.2508200922256019, 0.37144140897188865, -1.5125712150306476, -0.3000500023828874, -1.4467564617646498, 0.7668413260168058, -1.128039398386622, 0.371943048263021, -1.8846930751494804, 0.23396193895397652, 1.1239652961702076, 1.4113780100828497, -0.22112432300555643, 0.21879206094552822, 0.34764710207640953, 2.5572739518495244, -0.05991313736641319, -0.6831361628447226, 0.3135594473854501, -1.3364626676182996, -0.14272899360938457, -1.089432561463353, -0.08470708103908872, -0.8853361125929256, 0.2592699559282212, -2.9290632225906483, -0.7642963581491048, -0.3701098414195931, -1.1733328554821236, 0.5684291090514618, 1.3622976081754778, 0.5065257571645497, -0.7669619501828306, 0.5952589165064289, 0.12063091104041283, -2.1699314453784986, 0.9525797703035719, 1.303118247161537, 0.18775132553756985, 0.2778295995170414, 1.1118376295674957, 0.7276850289295383, 0.07484264237616128, -0.8830055985098384, 0.4958469514420254, 1.300077430444035, 0.46653962453374265, 0.5651443336213451, 0.37321775159292236, 0.6589956641659104, -0.5534074522898599, 0.5235284057923568, 0.9349812129515604, 0.7218050715715093, -1.5295165082248794, 0.7650670984673281, 1.1349556998344372, -0.9037193947920661, 0.3267269140908282, 0.274083206935181, 0.05836425297423308, 1.7752998946512923, -0.7772049067537251, -1.9177958253796348, 0.9108021670541938, 0.3538857001900387, 0.5398070189471809, -0.574290715555816, -1.5783354313272537, 0.5691760158559603, -0.16036901495118402, -0.30034135049553096, 0.962259425746051, 0.180304955729948, 0.24236432568462, 0.2446800239178959, -0.013385992364696949], \"xaxis\": \"x4\", \"y\": [-0.0015585409020748443, 0.8458864735345376, 0.934414068172041, -1.299225287036096, -0.612313161810921, -1.9164219425202789, -0.23256760125329407, 1.0920556656230416, -0.4662237559745914, 0.11813620238621023, -0.3893305872383898, 0.3524367390130047, 0.6267049137115619, -2.0098283113102333, -0.42224277438234714, 1.4834140075387432, 0.0007950478259361682, -0.6043585953862748, 0.4071176027713737, -1.4138220890082105, 2.077707538654815, 0.4768952209629994, 1.3895053923630198, 2.3244999824807198, -1.189297270602611, 0.8722982996347064, 2.2937988533328246, 0.06467962016505363, -0.13633788837817873, -1.7836787475237632, 0.22566002203532615, 0.20566852075458583, -0.018339853278318195, -0.5654481912867622, -0.5078139751819283, 0.8275904894419189, -0.5203960037208601, -0.41352349293990387, 2.1181837053232897, -0.4590426190787295, 1.2319084700892855, -0.5358681790349643, -0.498364296101095, 0.9232038731051508, -0.2814992874895402, 0.24769175172286134, 0.2328949255804648, 0.5473351367722717, 0.9498326281204514, -1.8075122019812093, -0.16476749353990988, 0.5752186600567579, 0.13051060072420054, 0.3498771676815099, 0.40281032759571855, -0.950111217346983, 1.1638492951727184, 0.7788802320291295, -1.2857935794971982, 1.622091453349334, 0.8678849327369677, -0.5048785146381843, -0.4896243146193713, -0.010709110981634063, 1.006602249430079, -0.40568483350162055, 1.3087894411891126, 0.190062600400811, 1.0379437685082251, 0.2029558624259573, 1.2943640286010194, -1.1492525100133704, 1.9470511979586185, -1.1750359924184552, -0.7121663439038282, -0.3725103090728009, 0.8444841630918083, 0.6485746069267528, 0.8839137048866836, 1.8032268952420396, 0.5001484387119923, 1.896484110324483, 1.654298132548488, 1.4071820106911808, -0.6308051064388178, 0.3196782094684533, -1.4042278558123713, -0.30363620969810856, 0.33937227389870644, -1.3141396770051583, 1.7301125955143941, 1.473261447646321, -1.2404429659357479, 0.41453891492567924, 0.8491352380137746, 0.06291390210273382, 0.8957023727937828, -0.8297378450246963, -0.15546745233405063, 0.06115899148576859], \"yaxis\": \"y4\"}, {\"line\": {\"color\": \"rgba(128, 128, 128, 1.0)\", \"dash\": \"solid\", \"shape\": \"linear\", \"width\": 1.3}, \"marker\": {\"size\": 2, \"symbol\": \"circle\"}, \"mode\": \"markers\", \"name\": \"B\", \"text\": \"\", \"type\": \"scatter\", \"x\": [-0.0015585409020748443, 0.8458864735345376, 0.934414068172041, -1.299225287036096, -0.612313161810921, -1.9164219425202789, -0.23256760125329407, 1.0920556656230416, -0.4662237559745914, 0.11813620238621023, -0.3893305872383898, 0.3524367390130047, 0.6267049137115619, -2.0098283113102333, -0.42224277438234714, 1.4834140075387432, 0.0007950478259361682, -0.6043585953862748, 0.4071176027713737, -1.4138220890082105, 2.077707538654815, 0.4768952209629994, 1.3895053923630198, 2.3244999824807198, -1.189297270602611, 0.8722982996347064, 2.2937988533328246, 0.06467962016505363, -0.13633788837817873, -1.7836787475237632, 0.22566002203532615, 0.20566852075458583, -0.018339853278318195, -0.5654481912867622, -0.5078139751819283, 0.8275904894419189, -0.5203960037208601, -0.41352349293990387, 2.1181837053232897, -0.4590426190787295, 1.2319084700892855, -0.5358681790349643, -0.498364296101095, 0.9232038731051508, -0.2814992874895402, 0.24769175172286134, 0.2328949255804648, 0.5473351367722717, 0.9498326281204514, -1.8075122019812093, -0.16476749353990988, 0.5752186600567579, 0.13051060072420054, 0.3498771676815099, 0.40281032759571855, -0.950111217346983, 1.1638492951727184, 0.7788802320291295, -1.2857935794971982, 1.622091453349334, 0.8678849327369677, -0.5048785146381843, -0.4896243146193713, -0.010709110981634063, 1.006602249430079, -0.40568483350162055, 1.3087894411891126, 0.190062600400811, 1.0379437685082251, 0.2029558624259573, 1.2943640286010194, -1.1492525100133704, 1.9470511979586185, -1.1750359924184552, -0.7121663439038282, -0.3725103090728009, 0.8444841630918083, 0.6485746069267528, 0.8839137048866836, 1.8032268952420396, 0.5001484387119923, 1.896484110324483, 1.654298132548488, 1.4071820106911808, -0.6308051064388178, 0.3196782094684533, -1.4042278558123713, -0.30363620969810856, 0.33937227389870644, -1.3141396770051583, 1.7301125955143941, 1.473261447646321, -1.2404429659357479, 0.41453891492567924, 0.8491352380137746, 0.06291390210273382, 0.8957023727937828, -0.8297378450246963, -0.15546745233405063, 0.06115899148576859], \"xaxis\": \"x5\", \"y\": [1.0175800614285233, -1.2381697268039793, 0.7844385814995347, 0.30504309679334424, 0.07113000211751754, 0.5464945125562095, 1.1557504557988485, -1.7275411926016029, -0.22279057745760433, -0.014174013152534099, 0.046397927392791756, -1.3337624718506451, 1.191976549469535, -0.7183098682670902, -2.4698721321587866, 0.9613881312364033, 1.6833606698696069, 0.42850756621014996, -1.1454449405585065, -0.08662254675121947, -0.9450585843005394, -0.33298677114239544, 0.4657326635014758, -0.9691697286478733, 0.62175588895002, 1.0299919541363, 0.8649747554739001, -0.6744088289128711, -0.6033349561993983, -0.6337091078175451, -0.08477989487573509, 0.9323883959280738, 0.1652884033603895, -0.6339840048762202, 1.0507406443717582, 1.0573753846404983, 0.6636757389865048, 1.3299452315771907, -2.410944620637584, 0.02666908427756707, -1.2376861153521053, 1.7238750523134125, -0.5086058475096568, -0.17507279212476282, 0.5475713496593823, -1.4259641401525398, 0.05369385509694605, -0.9299640092735049, 0.11079782824479513, 0.0736336796198157, -1.1284780669103156, 2.3268805893841846, 0.7353143553716142, 0.5747292489874314, 0.0061658081593460685, -0.8142937126202369, -0.5898683598036754, -1.2427151574703632, -1.6405760554796995, -1.175831136187835, 1.149180086490129, -0.18251913868620054, -1.0876933367660377, 0.9976299359074137, 0.4003239380906782, 0.2617838634232212, -0.32829660836018465, -0.23248596879774558, -0.14820288716904675, 0.6253052461591179, 2.685060965111488, -1.0063500799681528, 0.6364210137912422, 0.4341464126761938, -0.6846913415382077, 0.03168060938323212, 0.9653244668758755, 0.2539811926246748, 0.19839824105941936, 1.7403553998585106, 0.08270043220181753, -0.27786186641225313, -2.558636455467326, 0.13711812987282768, -3.113999236124563, -0.875019859368395, 0.4439283319975627, -0.9614670575196685, -1.8034029714721953, -0.028070800567166057, 0.6141861352213069, -0.8745255066793514, -1.3864506353507577, 0.9687999866524937, 0.3151400059457273, 0.2900335524231588, 0.17169407679562926, 0.7406298316795756, 2.1758669248629254, 2.277915743638747], \"yaxis\": \"y5\"}, {\"histfunc\": \"count\", \"histnorm\": \"\", \"marker\": {\"color\": \"rgba(55, 128, 191, 1.0)\", \"line\": {\"color\": \"#4D5663\", \"width\": 1.3}}, \"name\": \"B\", \"nbinsx\": 10, \"opacity\": 0.8, \"orientation\": \"v\", \"type\": \"histogram\", \"x\": [1.0175800614285233, -1.2381697268039793, 0.7844385814995347, 0.30504309679334424, 0.07113000211751754, 0.5464945125562095, 1.1557504557988485, -1.7275411926016029, -0.22279057745760433, -0.014174013152534099, 0.046397927392791756, -1.3337624718506451, 1.191976549469535, -0.7183098682670902, -2.4698721321587866, 0.9613881312364033, 1.6833606698696069, 0.42850756621014996, -1.1454449405585065, -0.08662254675121947, -0.9450585843005394, -0.33298677114239544, 0.4657326635014758, -0.9691697286478733, 0.62175588895002, 1.0299919541363, 0.8649747554739001, -0.6744088289128711, -0.6033349561993983, -0.6337091078175451, -0.08477989487573509, 0.9323883959280738, 0.1652884033603895, -0.6339840048762202, 1.0507406443717582, 1.0573753846404983, 0.6636757389865048, 1.3299452315771907, -2.410944620637584, 0.02666908427756707, -1.2376861153521053, 1.7238750523134125, -0.5086058475096568, -0.17507279212476282, 0.5475713496593823, -1.4259641401525398, 0.05369385509694605, -0.9299640092735049, 0.11079782824479513, 0.0736336796198157, -1.1284780669103156, 2.3268805893841846, 0.7353143553716142, 0.5747292489874314, 0.0061658081593460685, -0.8142937126202369, -0.5898683598036754, -1.2427151574703632, -1.6405760554796995, -1.175831136187835, 1.149180086490129, -0.18251913868620054, -1.0876933367660377, 0.9976299359074137, 0.4003239380906782, 0.2617838634232212, -0.32829660836018465, -0.23248596879774558, -0.14820288716904675, 0.6253052461591179, 2.685060965111488, -1.0063500799681528, 0.6364210137912422, 0.4341464126761938, -0.6846913415382077, 0.03168060938323212, 0.9653244668758755, 0.2539811926246748, 0.19839824105941936, 1.7403553998585106, 0.08270043220181753, -0.27786186641225313, -2.558636455467326, 0.13711812987282768, -3.113999236124563, -0.875019859368395, 0.4439283319975627, -0.9614670575196685, -1.8034029714721953, -0.028070800567166057, 0.6141861352213069, -0.8745255066793514, -1.3864506353507577, 0.9687999866524937, 0.3151400059457273, 0.2900335524231588, 0.17169407679562926, 0.7406298316795756, 2.1758669248629254, 2.277915743638747], \"xaxis\": \"x6\", \"yaxis\": \"y6\"}, {\"line\": {\"color\": \"rgba(128, 128, 128, 1.0)\", \"dash\": \"solid\", \"shape\": \"linear\", \"width\": 1.3}, \"marker\": {\"size\": 2, \"symbol\": \"circle\"}, \"mode\": \"markers\", \"name\": \"B\", \"text\": \"\", \"type\": \"scatter\", \"x\": [-0.3788015313202212, 1.256762231295425, -0.8306300375628289, -0.4608964149762124, 0.8403424244494432, 1.382446688545958, -0.6648836286791291, -1.219886004139807, -0.2667387299528493, 0.5637496816006109, -0.22579301283267872, -0.4453936088138776, -0.15907827396625296, 0.3188589022283024, -0.49120530496722187, 1.1713785524378253, 0.2890678697829857, 0.22533111201464287, 0.5561921151720705, -0.99041241400968, 0.39497006397390916, 0.07844922125051666, -1.7713057250695605, -0.25905732239853096, 0.15315464636697984, -1.110420311156213, -0.3957901769918868, -0.8205317576014358, -0.21560993396833739, -1.8620014563420701, 3.2984642851881505, 0.06214774861774642, 0.9286263489991817, -1.209408037624237, 0.6946553240463219, -0.6185088427971893, -0.017783693049615926, 1.5449245975139039, -0.15206213305347338, -1.9825608980930653, 1.3817460352203639, 0.03299365426770661, -0.05988533865434531, -0.4727955916530704, 0.15993493017843194, 0.9624712884103498, -0.0652689903471656, 0.32292198225665547, 0.7542099788658005, -0.538579659456351, -1.651282827813881, -1.5066685189357847, -0.591096521344276, 0.11415136327812293, 0.7601189954766393, -1.809259553258281, -0.10767748365051709, -1.5180254739925352, -0.8758650425416121, 1.594704343412804, -0.3621068285076178, 0.46617400533619474, -0.04456531740033875, 0.20350725328813968, 0.43859372092595994, -1.1963691799216696, -0.03610936369111613, -1.3583044466536425, 0.917267703545791, -0.8232825321337947, 1.1318480834374294, -0.754699171130626, 0.2658900823377884, 0.8706654067258455, -0.27004721301889606, -0.9770383142387139, -0.28752871067961044, -1.0502547160445979, 0.7914363174433269, 2.0409131427270615, -0.21684446951038677, 0.17069481759767355, -2.9664272071875293, -0.600310081255409, 2.2387352422545326, -0.20946565899667627, -0.3215864917094097, -1.1453247812042877, -1.0164123491429509, 1.82079047930281, -0.3459161939231618, 1.2015699247574514, -1.3615378521065202, 0.7967606125654182, 0.13520136165040794, -1.5800820323218054, -2.106418155858577, 0.26803487769489037, -1.512463224626046, 0.7996005123284501], \"xaxis\": \"x7\", \"y\": [1.0175800614285233, -1.2381697268039793, 0.7844385814995347, 0.30504309679334424, 0.07113000211751754, 0.5464945125562095, 1.1557504557988485, -1.7275411926016029, -0.22279057745760433, -0.014174013152534099, 0.046397927392791756, -1.3337624718506451, 1.191976549469535, -0.7183098682670902, -2.4698721321587866, 0.9613881312364033, 1.6833606698696069, 0.42850756621014996, -1.1454449405585065, -0.08662254675121947, -0.9450585843005394, -0.33298677114239544, 0.4657326635014758, -0.9691697286478733, 0.62175588895002, 1.0299919541363, 0.8649747554739001, -0.6744088289128711, -0.6033349561993983, -0.6337091078175451, -0.08477989487573509, 0.9323883959280738, 0.1652884033603895, -0.6339840048762202, 1.0507406443717582, 1.0573753846404983, 0.6636757389865048, 1.3299452315771907, -2.410944620637584, 0.02666908427756707, -1.2376861153521053, 1.7238750523134125, -0.5086058475096568, -0.17507279212476282, 0.5475713496593823, -1.4259641401525398, 0.05369385509694605, -0.9299640092735049, 0.11079782824479513, 0.0736336796198157, -1.1284780669103156, 2.3268805893841846, 0.7353143553716142, 0.5747292489874314, 0.0061658081593460685, -0.8142937126202369, -0.5898683598036754, -1.2427151574703632, -1.6405760554796995, -1.175831136187835, 1.149180086490129, -0.18251913868620054, -1.0876933367660377, 0.9976299359074137, 0.4003239380906782, 0.2617838634232212, -0.32829660836018465, -0.23248596879774558, -0.14820288716904675, 0.6253052461591179, 2.685060965111488, -1.0063500799681528, 0.6364210137912422, 0.4341464126761938, -0.6846913415382077, 0.03168060938323212, 0.9653244668758755, 0.2539811926246748, 0.19839824105941936, 1.7403553998585106, 0.08270043220181753, -0.27786186641225313, -2.558636455467326, 0.13711812987282768, -3.113999236124563, -0.875019859368395, 0.4439283319975627, -0.9614670575196685, -1.8034029714721953, -0.028070800567166057, 0.6141861352213069, -0.8745255066793514, -1.3864506353507577, 0.9687999866524937, 0.3151400059457273, 0.2900335524231588, 0.17169407679562926, 0.7406298316795756, 2.1758669248629254, 2.277915743638747], \"yaxis\": \"y7\"}, {\"line\": {\"color\": \"rgba(128, 128, 128, 1.0)\", \"dash\": \"solid\", \"shape\": \"linear\", \"width\": 1.3}, \"marker\": {\"size\": 2, \"symbol\": \"circle\"}, \"mode\": \"markers\", \"name\": \"B\", \"text\": \"\", \"type\": \"scatter\", \"x\": [-0.11638704796165784, -0.7002249145000803, -0.7559517130326966, 1.1305922656785876, -0.6038578300924019, -1.075086901430937, -0.3989676241763057, -0.8895140403200313, 0.0949517121580332, -0.7161291245309929, 0.0661068785899851, 1.0901273098596156, 0.6772356135465372, -0.5041475983570313, -0.3053154132514319, 0.27148079247714174, -0.18156190976840691, 0.16379448272566335, 0.9721880440901653, -1.5115428542507243, 0.09880160039176525, 0.1883791691285031, 0.2875295713790334, 0.2508200922256019, 0.37144140897188865, -1.5125712150306476, -0.3000500023828874, -1.4467564617646498, 0.7668413260168058, -1.128039398386622, 0.371943048263021, -1.8846930751494804, 0.23396193895397652, 1.1239652961702076, 1.4113780100828497, -0.22112432300555643, 0.21879206094552822, 0.34764710207640953, 2.5572739518495244, -0.05991313736641319, -0.6831361628447226, 0.3135594473854501, -1.3364626676182996, -0.14272899360938457, -1.089432561463353, -0.08470708103908872, -0.8853361125929256, 0.2592699559282212, -2.9290632225906483, -0.7642963581491048, -0.3701098414195931, -1.1733328554821236, 0.5684291090514618, 1.3622976081754778, 0.5065257571645497, -0.7669619501828306, 0.5952589165064289, 0.12063091104041283, -2.1699314453784986, 0.9525797703035719, 1.303118247161537, 0.18775132553756985, 0.2778295995170414, 1.1118376295674957, 0.7276850289295383, 0.07484264237616128, -0.8830055985098384, 0.4958469514420254, 1.300077430444035, 0.46653962453374265, 0.5651443336213451, 0.37321775159292236, 0.6589956641659104, -0.5534074522898599, 0.5235284057923568, 0.9349812129515604, 0.7218050715715093, -1.5295165082248794, 0.7650670984673281, 1.1349556998344372, -0.9037193947920661, 0.3267269140908282, 0.274083206935181, 0.05836425297423308, 1.7752998946512923, -0.7772049067537251, -1.9177958253796348, 0.9108021670541938, 0.3538857001900387, 0.5398070189471809, -0.574290715555816, -1.5783354313272537, 0.5691760158559603, -0.16036901495118402, -0.30034135049553096, 0.962259425746051, 0.180304955729948, 0.24236432568462, 0.2446800239178959, -0.013385992364696949], \"xaxis\": \"x8\", \"y\": [1.0175800614285233, -1.2381697268039793, 0.7844385814995347, 0.30504309679334424, 0.07113000211751754, 0.5464945125562095, 1.1557504557988485, -1.7275411926016029, -0.22279057745760433, -0.014174013152534099, 0.046397927392791756, -1.3337624718506451, 1.191976549469535, -0.7183098682670902, -2.4698721321587866, 0.9613881312364033, 1.6833606698696069, 0.42850756621014996, -1.1454449405585065, -0.08662254675121947, -0.9450585843005394, -0.33298677114239544, 0.4657326635014758, -0.9691697286478733, 0.62175588895002, 1.0299919541363, 0.8649747554739001, -0.6744088289128711, -0.6033349561993983, -0.6337091078175451, -0.08477989487573509, 0.9323883959280738, 0.1652884033603895, -0.6339840048762202, 1.0507406443717582, 1.0573753846404983, 0.6636757389865048, 1.3299452315771907, -2.410944620637584, 0.02666908427756707, -1.2376861153521053, 1.7238750523134125, -0.5086058475096568, -0.17507279212476282, 0.5475713496593823, -1.4259641401525398, 0.05369385509694605, -0.9299640092735049, 0.11079782824479513, 0.0736336796198157, -1.1284780669103156, 2.3268805893841846, 0.7353143553716142, 0.5747292489874314, 0.0061658081593460685, -0.8142937126202369, -0.5898683598036754, -1.2427151574703632, -1.6405760554796995, -1.175831136187835, 1.149180086490129, -0.18251913868620054, -1.0876933367660377, 0.9976299359074137, 0.4003239380906782, 0.2617838634232212, -0.32829660836018465, -0.23248596879774558, -0.14820288716904675, 0.6253052461591179, 2.685060965111488, -1.0063500799681528, 0.6364210137912422, 0.4341464126761938, -0.6846913415382077, 0.03168060938323212, 0.9653244668758755, 0.2539811926246748, 0.19839824105941936, 1.7403553998585106, 0.08270043220181753, -0.27786186641225313, -2.558636455467326, 0.13711812987282768, -3.113999236124563, -0.875019859368395, 0.4439283319975627, -0.9614670575196685, -1.8034029714721953, -0.028070800567166057, 0.6141861352213069, -0.8745255066793514, -1.3864506353507577, 0.9687999866524937, 0.3151400059457273, 0.2900335524231588, 0.17169407679562926, 0.7406298316795756, 2.1758669248629254, 2.277915743638747], \"yaxis\": \"y8\"}, {\"line\": {\"color\": \"rgba(128, 128, 128, 1.0)\", \"dash\": \"solid\", \"shape\": \"linear\", \"width\": 1.3}, \"marker\": {\"size\": 2, \"symbol\": \"circle\"}, \"mode\": \"markers\", \"name\": \"C\", \"text\": \"\", \"type\": \"scatter\", \"x\": [-0.0015585409020748443, 0.8458864735345376, 0.934414068172041, -1.299225287036096, -0.612313161810921, -1.9164219425202789, -0.23256760125329407, 1.0920556656230416, -0.4662237559745914, 0.11813620238621023, -0.3893305872383898, 0.3524367390130047, 0.6267049137115619, -2.0098283113102333, -0.42224277438234714, 1.4834140075387432, 0.0007950478259361682, -0.6043585953862748, 0.4071176027713737, -1.4138220890082105, 2.077707538654815, 0.4768952209629994, 1.3895053923630198, 2.3244999824807198, -1.189297270602611, 0.8722982996347064, 2.2937988533328246, 0.06467962016505363, -0.13633788837817873, -1.7836787475237632, 0.22566002203532615, 0.20566852075458583, -0.018339853278318195, -0.5654481912867622, -0.5078139751819283, 0.8275904894419189, -0.5203960037208601, -0.41352349293990387, 2.1181837053232897, -0.4590426190787295, 1.2319084700892855, -0.5358681790349643, -0.498364296101095, 0.9232038731051508, -0.2814992874895402, 0.24769175172286134, 0.2328949255804648, 0.5473351367722717, 0.9498326281204514, -1.8075122019812093, -0.16476749353990988, 0.5752186600567579, 0.13051060072420054, 0.3498771676815099, 0.40281032759571855, -0.950111217346983, 1.1638492951727184, 0.7788802320291295, -1.2857935794971982, 1.622091453349334, 0.8678849327369677, -0.5048785146381843, -0.4896243146193713, -0.010709110981634063, 1.006602249430079, -0.40568483350162055, 1.3087894411891126, 0.190062600400811, 1.0379437685082251, 0.2029558624259573, 1.2943640286010194, -1.1492525100133704, 1.9470511979586185, -1.1750359924184552, -0.7121663439038282, -0.3725103090728009, 0.8444841630918083, 0.6485746069267528, 0.8839137048866836, 1.8032268952420396, 0.5001484387119923, 1.896484110324483, 1.654298132548488, 1.4071820106911808, -0.6308051064388178, 0.3196782094684533, -1.4042278558123713, -0.30363620969810856, 0.33937227389870644, -1.3141396770051583, 1.7301125955143941, 1.473261447646321, -1.2404429659357479, 0.41453891492567924, 0.8491352380137746, 0.06291390210273382, 0.8957023727937828, -0.8297378450246963, -0.15546745233405063, 0.06115899148576859], \"xaxis\": \"x9\", \"y\": [-0.3788015313202212, 1.256762231295425, -0.8306300375628289, -0.4608964149762124, 0.8403424244494432, 1.382446688545958, -0.6648836286791291, -1.219886004139807, -0.2667387299528493, 0.5637496816006109, -0.22579301283267872, -0.4453936088138776, -0.15907827396625296, 0.3188589022283024, -0.49120530496722187, 1.1713785524378253, 0.2890678697829857, 0.22533111201464287, 0.5561921151720705, -0.99041241400968, 0.39497006397390916, 0.07844922125051666, -1.7713057250695605, -0.25905732239853096, 0.15315464636697984, -1.110420311156213, -0.3957901769918868, -0.8205317576014358, -0.21560993396833739, -1.8620014563420701, 3.2984642851881505, 0.06214774861774642, 0.9286263489991817, -1.209408037624237, 0.6946553240463219, -0.6185088427971893, -0.017783693049615926, 1.5449245975139039, -0.15206213305347338, -1.9825608980930653, 1.3817460352203639, 0.03299365426770661, -0.05988533865434531, -0.4727955916530704, 0.15993493017843194, 0.9624712884103498, -0.0652689903471656, 0.32292198225665547, 0.7542099788658005, -0.538579659456351, -1.651282827813881, -1.5066685189357847, -0.591096521344276, 0.11415136327812293, 0.7601189954766393, -1.809259553258281, -0.10767748365051709, -1.5180254739925352, -0.8758650425416121, 1.594704343412804, -0.3621068285076178, 0.46617400533619474, -0.04456531740033875, 0.20350725328813968, 0.43859372092595994, -1.1963691799216696, -0.03610936369111613, -1.3583044466536425, 0.917267703545791, -0.8232825321337947, 1.1318480834374294, -0.754699171130626, 0.2658900823377884, 0.8706654067258455, -0.27004721301889606, -0.9770383142387139, -0.28752871067961044, -1.0502547160445979, 0.7914363174433269, 2.0409131427270615, -0.21684446951038677, 0.17069481759767355, -2.9664272071875293, -0.600310081255409, 2.2387352422545326, -0.20946565899667627, -0.3215864917094097, -1.1453247812042877, -1.0164123491429509, 1.82079047930281, -0.3459161939231618, 1.2015699247574514, -1.3615378521065202, 0.7967606125654182, 0.13520136165040794, -1.5800820323218054, -2.106418155858577, 0.26803487769489037, -1.512463224626046, 0.7996005123284501], \"yaxis\": \"y9\"}, {\"line\": {\"color\": \"rgba(128, 128, 128, 1.0)\", \"dash\": \"solid\", \"shape\": \"linear\", \"width\": 1.3}, \"marker\": {\"size\": 2, \"symbol\": \"circle\"}, \"mode\": \"markers\", \"name\": \"C\", \"text\": \"\", \"type\": \"scatter\", \"x\": [1.0175800614285233, -1.2381697268039793, 0.7844385814995347, 0.30504309679334424, 0.07113000211751754, 0.5464945125562095, 1.1557504557988485, -1.7275411926016029, -0.22279057745760433, -0.014174013152534099, 0.046397927392791756, -1.3337624718506451, 1.191976549469535, -0.7183098682670902, -2.4698721321587866, 0.9613881312364033, 1.6833606698696069, 0.42850756621014996, -1.1454449405585065, -0.08662254675121947, -0.9450585843005394, -0.33298677114239544, 0.4657326635014758, -0.9691697286478733, 0.62175588895002, 1.0299919541363, 0.8649747554739001, -0.6744088289128711, -0.6033349561993983, -0.6337091078175451, -0.08477989487573509, 0.9323883959280738, 0.1652884033603895, -0.6339840048762202, 1.0507406443717582, 1.0573753846404983, 0.6636757389865048, 1.3299452315771907, -2.410944620637584, 0.02666908427756707, -1.2376861153521053, 1.7238750523134125, -0.5086058475096568, -0.17507279212476282, 0.5475713496593823, -1.4259641401525398, 0.05369385509694605, -0.9299640092735049, 0.11079782824479513, 0.0736336796198157, -1.1284780669103156, 2.3268805893841846, 0.7353143553716142, 0.5747292489874314, 0.0061658081593460685, -0.8142937126202369, -0.5898683598036754, -1.2427151574703632, -1.6405760554796995, -1.175831136187835, 1.149180086490129, -0.18251913868620054, -1.0876933367660377, 0.9976299359074137, 0.4003239380906782, 0.2617838634232212, -0.32829660836018465, -0.23248596879774558, -0.14820288716904675, 0.6253052461591179, 2.685060965111488, -1.0063500799681528, 0.6364210137912422, 0.4341464126761938, -0.6846913415382077, 0.03168060938323212, 0.9653244668758755, 0.2539811926246748, 0.19839824105941936, 1.7403553998585106, 0.08270043220181753, -0.27786186641225313, -2.558636455467326, 0.13711812987282768, -3.113999236124563, -0.875019859368395, 0.4439283319975627, -0.9614670575196685, -1.8034029714721953, -0.028070800567166057, 0.6141861352213069, -0.8745255066793514, -1.3864506353507577, 0.9687999866524937, 0.3151400059457273, 0.2900335524231588, 0.17169407679562926, 0.7406298316795756, 2.1758669248629254, 2.277915743638747], \"xaxis\": \"x10\", \"y\": [-0.3788015313202212, 1.256762231295425, -0.8306300375628289, -0.4608964149762124, 0.8403424244494432, 1.382446688545958, -0.6648836286791291, -1.219886004139807, -0.2667387299528493, 0.5637496816006109, -0.22579301283267872, -0.4453936088138776, -0.15907827396625296, 0.3188589022283024, -0.49120530496722187, 1.1713785524378253, 0.2890678697829857, 0.22533111201464287, 0.5561921151720705, -0.99041241400968, 0.39497006397390916, 0.07844922125051666, -1.7713057250695605, -0.25905732239853096, 0.15315464636697984, -1.110420311156213, -0.3957901769918868, -0.8205317576014358, -0.21560993396833739, -1.8620014563420701, 3.2984642851881505, 0.06214774861774642, 0.9286263489991817, -1.209408037624237, 0.6946553240463219, -0.6185088427971893, -0.017783693049615926, 1.5449245975139039, -0.15206213305347338, -1.9825608980930653, 1.3817460352203639, 0.03299365426770661, -0.05988533865434531, -0.4727955916530704, 0.15993493017843194, 0.9624712884103498, -0.0652689903471656, 0.32292198225665547, 0.7542099788658005, -0.538579659456351, -1.651282827813881, -1.5066685189357847, -0.591096521344276, 0.11415136327812293, 0.7601189954766393, -1.809259553258281, -0.10767748365051709, -1.5180254739925352, -0.8758650425416121, 1.594704343412804, -0.3621068285076178, 0.46617400533619474, -0.04456531740033875, 0.20350725328813968, 0.43859372092595994, -1.1963691799216696, -0.03610936369111613, -1.3583044466536425, 0.917267703545791, -0.8232825321337947, 1.1318480834374294, -0.754699171130626, 0.2658900823377884, 0.8706654067258455, -0.27004721301889606, -0.9770383142387139, -0.28752871067961044, -1.0502547160445979, 0.7914363174433269, 2.0409131427270615, -0.21684446951038677, 0.17069481759767355, -2.9664272071875293, -0.600310081255409, 2.2387352422545326, -0.20946565899667627, -0.3215864917094097, -1.1453247812042877, -1.0164123491429509, 1.82079047930281, -0.3459161939231618, 1.2015699247574514, -1.3615378521065202, 0.7967606125654182, 0.13520136165040794, -1.5800820323218054, -2.106418155858577, 0.26803487769489037, -1.512463224626046, 0.7996005123284501], \"yaxis\": \"y10\"}, {\"histfunc\": \"count\", \"histnorm\": \"\", \"marker\": {\"color\": \"rgba(50, 171, 96, 1.0)\", \"line\": {\"color\": \"#4D5663\", \"width\": 1.3}}, \"name\": \"C\", \"nbinsx\": 10, \"opacity\": 0.8, \"orientation\": \"v\", \"type\": \"histogram\", \"x\": [-0.3788015313202212, 1.256762231295425, -0.8306300375628289, -0.4608964149762124, 0.8403424244494432, 1.382446688545958, -0.6648836286791291, -1.219886004139807, -0.2667387299528493, 0.5637496816006109, -0.22579301283267872, -0.4453936088138776, -0.15907827396625296, 0.3188589022283024, -0.49120530496722187, 1.1713785524378253, 0.2890678697829857, 0.22533111201464287, 0.5561921151720705, -0.99041241400968, 0.39497006397390916, 0.07844922125051666, -1.7713057250695605, -0.25905732239853096, 0.15315464636697984, -1.110420311156213, -0.3957901769918868, -0.8205317576014358, -0.21560993396833739, -1.8620014563420701, 3.2984642851881505, 0.06214774861774642, 0.9286263489991817, -1.209408037624237, 0.6946553240463219, -0.6185088427971893, -0.017783693049615926, 1.5449245975139039, -0.15206213305347338, -1.9825608980930653, 1.3817460352203639, 0.03299365426770661, -0.05988533865434531, -0.4727955916530704, 0.15993493017843194, 0.9624712884103498, -0.0652689903471656, 0.32292198225665547, 0.7542099788658005, -0.538579659456351, -1.651282827813881, -1.5066685189357847, -0.591096521344276, 0.11415136327812293, 0.7601189954766393, -1.809259553258281, -0.10767748365051709, -1.5180254739925352, -0.8758650425416121, 1.594704343412804, -0.3621068285076178, 0.46617400533619474, -0.04456531740033875, 0.20350725328813968, 0.43859372092595994, -1.1963691799216696, -0.03610936369111613, -1.3583044466536425, 0.917267703545791, -0.8232825321337947, 1.1318480834374294, -0.754699171130626, 0.2658900823377884, 0.8706654067258455, -0.27004721301889606, -0.9770383142387139, -0.28752871067961044, -1.0502547160445979, 0.7914363174433269, 2.0409131427270615, -0.21684446951038677, 0.17069481759767355, -2.9664272071875293, -0.600310081255409, 2.2387352422545326, -0.20946565899667627, -0.3215864917094097, -1.1453247812042877, -1.0164123491429509, 1.82079047930281, -0.3459161939231618, 1.2015699247574514, -1.3615378521065202, 0.7967606125654182, 0.13520136165040794, -1.5800820323218054, -2.106418155858577, 0.26803487769489037, -1.512463224626046, 0.7996005123284501], \"xaxis\": \"x11\", \"yaxis\": \"y11\"}, {\"line\": {\"color\": \"rgba(128, 128, 128, 1.0)\", \"dash\": \"solid\", \"shape\": \"linear\", \"width\": 1.3}, \"marker\": {\"size\": 2, \"symbol\": \"circle\"}, \"mode\": \"markers\", \"name\": \"C\", \"text\": \"\", \"type\": \"scatter\", \"x\": [-0.11638704796165784, -0.7002249145000803, -0.7559517130326966, 1.1305922656785876, -0.6038578300924019, -1.075086901430937, -0.3989676241763057, -0.8895140403200313, 0.0949517121580332, -0.7161291245309929, 0.0661068785899851, 1.0901273098596156, 0.6772356135465372, -0.5041475983570313, -0.3053154132514319, 0.27148079247714174, -0.18156190976840691, 0.16379448272566335, 0.9721880440901653, -1.5115428542507243, 0.09880160039176525, 0.1883791691285031, 0.2875295713790334, 0.2508200922256019, 0.37144140897188865, -1.5125712150306476, -0.3000500023828874, -1.4467564617646498, 0.7668413260168058, -1.128039398386622, 0.371943048263021, -1.8846930751494804, 0.23396193895397652, 1.1239652961702076, 1.4113780100828497, -0.22112432300555643, 0.21879206094552822, 0.34764710207640953, 2.5572739518495244, -0.05991313736641319, -0.6831361628447226, 0.3135594473854501, -1.3364626676182996, -0.14272899360938457, -1.089432561463353, -0.08470708103908872, -0.8853361125929256, 0.2592699559282212, -2.9290632225906483, -0.7642963581491048, -0.3701098414195931, -1.1733328554821236, 0.5684291090514618, 1.3622976081754778, 0.5065257571645497, -0.7669619501828306, 0.5952589165064289, 0.12063091104041283, -2.1699314453784986, 0.9525797703035719, 1.303118247161537, 0.18775132553756985, 0.2778295995170414, 1.1118376295674957, 0.7276850289295383, 0.07484264237616128, -0.8830055985098384, 0.4958469514420254, 1.300077430444035, 0.46653962453374265, 0.5651443336213451, 0.37321775159292236, 0.6589956641659104, -0.5534074522898599, 0.5235284057923568, 0.9349812129515604, 0.7218050715715093, -1.5295165082248794, 0.7650670984673281, 1.1349556998344372, -0.9037193947920661, 0.3267269140908282, 0.274083206935181, 0.05836425297423308, 1.7752998946512923, -0.7772049067537251, -1.9177958253796348, 0.9108021670541938, 0.3538857001900387, 0.5398070189471809, -0.574290715555816, -1.5783354313272537, 0.5691760158559603, -0.16036901495118402, -0.30034135049553096, 0.962259425746051, 0.180304955729948, 0.24236432568462, 0.2446800239178959, -0.013385992364696949], \"xaxis\": \"x12\", \"y\": [-0.3788015313202212, 1.256762231295425, -0.8306300375628289, -0.4608964149762124, 0.8403424244494432, 1.382446688545958, -0.6648836286791291, -1.219886004139807, -0.2667387299528493, 0.5637496816006109, -0.22579301283267872, -0.4453936088138776, -0.15907827396625296, 0.3188589022283024, -0.49120530496722187, 1.1713785524378253, 0.2890678697829857, 0.22533111201464287, 0.5561921151720705, -0.99041241400968, 0.39497006397390916, 0.07844922125051666, -1.7713057250695605, -0.25905732239853096, 0.15315464636697984, -1.110420311156213, -0.3957901769918868, -0.8205317576014358, -0.21560993396833739, -1.8620014563420701, 3.2984642851881505, 0.06214774861774642, 0.9286263489991817, -1.209408037624237, 0.6946553240463219, -0.6185088427971893, -0.017783693049615926, 1.5449245975139039, -0.15206213305347338, -1.9825608980930653, 1.3817460352203639, 0.03299365426770661, -0.05988533865434531, -0.4727955916530704, 0.15993493017843194, 0.9624712884103498, -0.0652689903471656, 0.32292198225665547, 0.7542099788658005, -0.538579659456351, -1.651282827813881, -1.5066685189357847, -0.591096521344276, 0.11415136327812293, 0.7601189954766393, -1.809259553258281, -0.10767748365051709, -1.5180254739925352, -0.8758650425416121, 1.594704343412804, -0.3621068285076178, 0.46617400533619474, -0.04456531740033875, 0.20350725328813968, 0.43859372092595994, -1.1963691799216696, -0.03610936369111613, -1.3583044466536425, 0.917267703545791, -0.8232825321337947, 1.1318480834374294, -0.754699171130626, 0.2658900823377884, 0.8706654067258455, -0.27004721301889606, -0.9770383142387139, -0.28752871067961044, -1.0502547160445979, 0.7914363174433269, 2.0409131427270615, -0.21684446951038677, 0.17069481759767355, -2.9664272071875293, -0.600310081255409, 2.2387352422545326, -0.20946565899667627, -0.3215864917094097, -1.1453247812042877, -1.0164123491429509, 1.82079047930281, -0.3459161939231618, 1.2015699247574514, -1.3615378521065202, 0.7967606125654182, 0.13520136165040794, -1.5800820323218054, -2.106418155858577, 0.26803487769489037, -1.512463224626046, 0.7996005123284501], \"yaxis\": \"y12\"}, {\"line\": {\"color\": \"rgba(128, 128, 128, 1.0)\", \"dash\": \"solid\", \"shape\": \"linear\", \"width\": 1.3}, \"marker\": {\"size\": 2, \"symbol\": \"circle\"}, \"mode\": \"markers\", \"name\": \"D\", \"text\": \"\", \"type\": \"scatter\", \"x\": [-0.0015585409020748443, 0.8458864735345376, 0.934414068172041, -1.299225287036096, -0.612313161810921, -1.9164219425202789, -0.23256760125329407, 1.0920556656230416, -0.4662237559745914, 0.11813620238621023, -0.3893305872383898, 0.3524367390130047, 0.6267049137115619, -2.0098283113102333, -0.42224277438234714, 1.4834140075387432, 0.0007950478259361682, -0.6043585953862748, 0.4071176027713737, -1.4138220890082105, 2.077707538654815, 0.4768952209629994, 1.3895053923630198, 2.3244999824807198, -1.189297270602611, 0.8722982996347064, 2.2937988533328246, 0.06467962016505363, -0.13633788837817873, -1.7836787475237632, 0.22566002203532615, 0.20566852075458583, -0.018339853278318195, -0.5654481912867622, -0.5078139751819283, 0.8275904894419189, -0.5203960037208601, -0.41352349293990387, 2.1181837053232897, -0.4590426190787295, 1.2319084700892855, -0.5358681790349643, -0.498364296101095, 0.9232038731051508, -0.2814992874895402, 0.24769175172286134, 0.2328949255804648, 0.5473351367722717, 0.9498326281204514, -1.8075122019812093, -0.16476749353990988, 0.5752186600567579, 0.13051060072420054, 0.3498771676815099, 0.40281032759571855, -0.950111217346983, 1.1638492951727184, 0.7788802320291295, -1.2857935794971982, 1.622091453349334, 0.8678849327369677, -0.5048785146381843, -0.4896243146193713, -0.010709110981634063, 1.006602249430079, -0.40568483350162055, 1.3087894411891126, 0.190062600400811, 1.0379437685082251, 0.2029558624259573, 1.2943640286010194, -1.1492525100133704, 1.9470511979586185, -1.1750359924184552, -0.7121663439038282, -0.3725103090728009, 0.8444841630918083, 0.6485746069267528, 0.8839137048866836, 1.8032268952420396, 0.5001484387119923, 1.896484110324483, 1.654298132548488, 1.4071820106911808, -0.6308051064388178, 0.3196782094684533, -1.4042278558123713, -0.30363620969810856, 0.33937227389870644, -1.3141396770051583, 1.7301125955143941, 1.473261447646321, -1.2404429659357479, 0.41453891492567924, 0.8491352380137746, 0.06291390210273382, 0.8957023727937828, -0.8297378450246963, -0.15546745233405063, 0.06115899148576859], \"xaxis\": \"x13\", \"y\": [-0.11638704796165784, -0.7002249145000803, -0.7559517130326966, 1.1305922656785876, -0.6038578300924019, -1.075086901430937, -0.3989676241763057, -0.8895140403200313, 0.0949517121580332, -0.7161291245309929, 0.0661068785899851, 1.0901273098596156, 0.6772356135465372, -0.5041475983570313, -0.3053154132514319, 0.27148079247714174, -0.18156190976840691, 0.16379448272566335, 0.9721880440901653, -1.5115428542507243, 0.09880160039176525, 0.1883791691285031, 0.2875295713790334, 0.2508200922256019, 0.37144140897188865, -1.5125712150306476, -0.3000500023828874, -1.4467564617646498, 0.7668413260168058, -1.128039398386622, 0.371943048263021, -1.8846930751494804, 0.23396193895397652, 1.1239652961702076, 1.4113780100828497, -0.22112432300555643, 0.21879206094552822, 0.34764710207640953, 2.5572739518495244, -0.05991313736641319, -0.6831361628447226, 0.3135594473854501, -1.3364626676182996, -0.14272899360938457, -1.089432561463353, -0.08470708103908872, -0.8853361125929256, 0.2592699559282212, -2.9290632225906483, -0.7642963581491048, -0.3701098414195931, -1.1733328554821236, 0.5684291090514618, 1.3622976081754778, 0.5065257571645497, -0.7669619501828306, 0.5952589165064289, 0.12063091104041283, -2.1699314453784986, 0.9525797703035719, 1.303118247161537, 0.18775132553756985, 0.2778295995170414, 1.1118376295674957, 0.7276850289295383, 0.07484264237616128, -0.8830055985098384, 0.4958469514420254, 1.300077430444035, 0.46653962453374265, 0.5651443336213451, 0.37321775159292236, 0.6589956641659104, -0.5534074522898599, 0.5235284057923568, 0.9349812129515604, 0.7218050715715093, -1.5295165082248794, 0.7650670984673281, 1.1349556998344372, -0.9037193947920661, 0.3267269140908282, 0.274083206935181, 0.05836425297423308, 1.7752998946512923, -0.7772049067537251, -1.9177958253796348, 0.9108021670541938, 0.3538857001900387, 0.5398070189471809, -0.574290715555816, -1.5783354313272537, 0.5691760158559603, -0.16036901495118402, -0.30034135049553096, 0.962259425746051, 0.180304955729948, 0.24236432568462, 0.2446800239178959, -0.013385992364696949], \"yaxis\": \"y13\"}, {\"line\": {\"color\": \"rgba(128, 128, 128, 1.0)\", \"dash\": \"solid\", \"shape\": \"linear\", \"width\": 1.3}, \"marker\": {\"size\": 2, \"symbol\": \"circle\"}, \"mode\": \"markers\", \"name\": \"D\", \"text\": \"\", \"type\": \"scatter\", \"x\": [1.0175800614285233, -1.2381697268039793, 0.7844385814995347, 0.30504309679334424, 0.07113000211751754, 0.5464945125562095, 1.1557504557988485, -1.7275411926016029, -0.22279057745760433, -0.014174013152534099, 0.046397927392791756, -1.3337624718506451, 1.191976549469535, -0.7183098682670902, -2.4698721321587866, 0.9613881312364033, 1.6833606698696069, 0.42850756621014996, -1.1454449405585065, -0.08662254675121947, -0.9450585843005394, -0.33298677114239544, 0.4657326635014758, -0.9691697286478733, 0.62175588895002, 1.0299919541363, 0.8649747554739001, -0.6744088289128711, -0.6033349561993983, -0.6337091078175451, -0.08477989487573509, 0.9323883959280738, 0.1652884033603895, -0.6339840048762202, 1.0507406443717582, 1.0573753846404983, 0.6636757389865048, 1.3299452315771907, -2.410944620637584, 0.02666908427756707, -1.2376861153521053, 1.7238750523134125, -0.5086058475096568, -0.17507279212476282, 0.5475713496593823, -1.4259641401525398, 0.05369385509694605, -0.9299640092735049, 0.11079782824479513, 0.0736336796198157, -1.1284780669103156, 2.3268805893841846, 0.7353143553716142, 0.5747292489874314, 0.0061658081593460685, -0.8142937126202369, -0.5898683598036754, -1.2427151574703632, -1.6405760554796995, -1.175831136187835, 1.149180086490129, -0.18251913868620054, -1.0876933367660377, 0.9976299359074137, 0.4003239380906782, 0.2617838634232212, -0.32829660836018465, -0.23248596879774558, -0.14820288716904675, 0.6253052461591179, 2.685060965111488, -1.0063500799681528, 0.6364210137912422, 0.4341464126761938, -0.6846913415382077, 0.03168060938323212, 0.9653244668758755, 0.2539811926246748, 0.19839824105941936, 1.7403553998585106, 0.08270043220181753, -0.27786186641225313, -2.558636455467326, 0.13711812987282768, -3.113999236124563, -0.875019859368395, 0.4439283319975627, -0.9614670575196685, -1.8034029714721953, -0.028070800567166057, 0.6141861352213069, -0.8745255066793514, -1.3864506353507577, 0.9687999866524937, 0.3151400059457273, 0.2900335524231588, 0.17169407679562926, 0.7406298316795756, 2.1758669248629254, 2.277915743638747], \"xaxis\": \"x14\", \"y\": [-0.11638704796165784, -0.7002249145000803, -0.7559517130326966, 1.1305922656785876, -0.6038578300924019, -1.075086901430937, -0.3989676241763057, -0.8895140403200313, 0.0949517121580332, -0.7161291245309929, 0.0661068785899851, 1.0901273098596156, 0.6772356135465372, -0.5041475983570313, -0.3053154132514319, 0.27148079247714174, -0.18156190976840691, 0.16379448272566335, 0.9721880440901653, -1.5115428542507243, 0.09880160039176525, 0.1883791691285031, 0.2875295713790334, 0.2508200922256019, 0.37144140897188865, -1.5125712150306476, -0.3000500023828874, -1.4467564617646498, 0.7668413260168058, -1.128039398386622, 0.371943048263021, -1.8846930751494804, 0.23396193895397652, 1.1239652961702076, 1.4113780100828497, -0.22112432300555643, 0.21879206094552822, 0.34764710207640953, 2.5572739518495244, -0.05991313736641319, -0.6831361628447226, 0.3135594473854501, -1.3364626676182996, -0.14272899360938457, -1.089432561463353, -0.08470708103908872, -0.8853361125929256, 0.2592699559282212, -2.9290632225906483, -0.7642963581491048, -0.3701098414195931, -1.1733328554821236, 0.5684291090514618, 1.3622976081754778, 0.5065257571645497, -0.7669619501828306, 0.5952589165064289, 0.12063091104041283, -2.1699314453784986, 0.9525797703035719, 1.303118247161537, 0.18775132553756985, 0.2778295995170414, 1.1118376295674957, 0.7276850289295383, 0.07484264237616128, -0.8830055985098384, 0.4958469514420254, 1.300077430444035, 0.46653962453374265, 0.5651443336213451, 0.37321775159292236, 0.6589956641659104, -0.5534074522898599, 0.5235284057923568, 0.9349812129515604, 0.7218050715715093, -1.5295165082248794, 0.7650670984673281, 1.1349556998344372, -0.9037193947920661, 0.3267269140908282, 0.274083206935181, 0.05836425297423308, 1.7752998946512923, -0.7772049067537251, -1.9177958253796348, 0.9108021670541938, 0.3538857001900387, 0.5398070189471809, -0.574290715555816, -1.5783354313272537, 0.5691760158559603, -0.16036901495118402, -0.30034135049553096, 0.962259425746051, 0.180304955729948, 0.24236432568462, 0.2446800239178959, -0.013385992364696949], \"yaxis\": \"y14\"}, {\"line\": {\"color\": \"rgba(128, 128, 128, 1.0)\", \"dash\": \"solid\", \"shape\": \"linear\", \"width\": 1.3}, \"marker\": {\"size\": 2, \"symbol\": \"circle\"}, \"mode\": \"markers\", \"name\": \"D\", \"text\": \"\", \"type\": \"scatter\", \"x\": [-0.3788015313202212, 1.256762231295425, -0.8306300375628289, -0.4608964149762124, 0.8403424244494432, 1.382446688545958, -0.6648836286791291, -1.219886004139807, -0.2667387299528493, 0.5637496816006109, -0.22579301283267872, -0.4453936088138776, -0.15907827396625296, 0.3188589022283024, -0.49120530496722187, 1.1713785524378253, 0.2890678697829857, 0.22533111201464287, 0.5561921151720705, -0.99041241400968, 0.39497006397390916, 0.07844922125051666, -1.7713057250695605, -0.25905732239853096, 0.15315464636697984, -1.110420311156213, -0.3957901769918868, -0.8205317576014358, -0.21560993396833739, -1.8620014563420701, 3.2984642851881505, 0.06214774861774642, 0.9286263489991817, -1.209408037624237, 0.6946553240463219, -0.6185088427971893, -0.017783693049615926, 1.5449245975139039, -0.15206213305347338, -1.9825608980930653, 1.3817460352203639, 0.03299365426770661, -0.05988533865434531, -0.4727955916530704, 0.15993493017843194, 0.9624712884103498, -0.0652689903471656, 0.32292198225665547, 0.7542099788658005, -0.538579659456351, -1.651282827813881, -1.5066685189357847, -0.591096521344276, 0.11415136327812293, 0.7601189954766393, -1.809259553258281, -0.10767748365051709, -1.5180254739925352, -0.8758650425416121, 1.594704343412804, -0.3621068285076178, 0.46617400533619474, -0.04456531740033875, 0.20350725328813968, 0.43859372092595994, -1.1963691799216696, -0.03610936369111613, -1.3583044466536425, 0.917267703545791, -0.8232825321337947, 1.1318480834374294, -0.754699171130626, 0.2658900823377884, 0.8706654067258455, -0.27004721301889606, -0.9770383142387139, -0.28752871067961044, -1.0502547160445979, 0.7914363174433269, 2.0409131427270615, -0.21684446951038677, 0.17069481759767355, -2.9664272071875293, -0.600310081255409, 2.2387352422545326, -0.20946565899667627, -0.3215864917094097, -1.1453247812042877, -1.0164123491429509, 1.82079047930281, -0.3459161939231618, 1.2015699247574514, -1.3615378521065202, 0.7967606125654182, 0.13520136165040794, -1.5800820323218054, -2.106418155858577, 0.26803487769489037, -1.512463224626046, 0.7996005123284501], \"xaxis\": \"x15\", \"y\": [-0.11638704796165784, -0.7002249145000803, -0.7559517130326966, 1.1305922656785876, -0.6038578300924019, -1.075086901430937, -0.3989676241763057, -0.8895140403200313, 0.0949517121580332, -0.7161291245309929, 0.0661068785899851, 1.0901273098596156, 0.6772356135465372, -0.5041475983570313, -0.3053154132514319, 0.27148079247714174, -0.18156190976840691, 0.16379448272566335, 0.9721880440901653, -1.5115428542507243, 0.09880160039176525, 0.1883791691285031, 0.2875295713790334, 0.2508200922256019, 0.37144140897188865, -1.5125712150306476, -0.3000500023828874, -1.4467564617646498, 0.7668413260168058, -1.128039398386622, 0.371943048263021, -1.8846930751494804, 0.23396193895397652, 1.1239652961702076, 1.4113780100828497, -0.22112432300555643, 0.21879206094552822, 0.34764710207640953, 2.5572739518495244, -0.05991313736641319, -0.6831361628447226, 0.3135594473854501, -1.3364626676182996, -0.14272899360938457, -1.089432561463353, -0.08470708103908872, -0.8853361125929256, 0.2592699559282212, -2.9290632225906483, -0.7642963581491048, -0.3701098414195931, -1.1733328554821236, 0.5684291090514618, 1.3622976081754778, 0.5065257571645497, -0.7669619501828306, 0.5952589165064289, 0.12063091104041283, -2.1699314453784986, 0.9525797703035719, 1.303118247161537, 0.18775132553756985, 0.2778295995170414, 1.1118376295674957, 0.7276850289295383, 0.07484264237616128, -0.8830055985098384, 0.4958469514420254, 1.300077430444035, 0.46653962453374265, 0.5651443336213451, 0.37321775159292236, 0.6589956641659104, -0.5534074522898599, 0.5235284057923568, 0.9349812129515604, 0.7218050715715093, -1.5295165082248794, 0.7650670984673281, 1.1349556998344372, -0.9037193947920661, 0.3267269140908282, 0.274083206935181, 0.05836425297423308, 1.7752998946512923, -0.7772049067537251, -1.9177958253796348, 0.9108021670541938, 0.3538857001900387, 0.5398070189471809, -0.574290715555816, -1.5783354313272537, 0.5691760158559603, -0.16036901495118402, -0.30034135049553096, 0.962259425746051, 0.180304955729948, 0.24236432568462, 0.2446800239178959, -0.013385992364696949], \"yaxis\": \"y15\"}, {\"histfunc\": \"count\", \"histnorm\": \"\", \"marker\": {\"color\": \"rgba(128, 0, 128, 1.0)\", \"line\": {\"color\": \"#4D5663\", \"width\": 1.3}}, \"name\": \"D\", \"nbinsx\": 10, \"opacity\": 0.8, \"orientation\": \"v\", \"type\": \"histogram\", \"x\": [-0.11638704796165784, -0.7002249145000803, -0.7559517130326966, 1.1305922656785876, -0.6038578300924019, -1.075086901430937, -0.3989676241763057, -0.8895140403200313, 0.0949517121580332, -0.7161291245309929, 0.0661068785899851, 1.0901273098596156, 0.6772356135465372, -0.5041475983570313, -0.3053154132514319, 0.27148079247714174, -0.18156190976840691, 0.16379448272566335, 0.9721880440901653, -1.5115428542507243, 0.09880160039176525, 0.1883791691285031, 0.2875295713790334, 0.2508200922256019, 0.37144140897188865, -1.5125712150306476, -0.3000500023828874, -1.4467564617646498, 0.7668413260168058, -1.128039398386622, 0.371943048263021, -1.8846930751494804, 0.23396193895397652, 1.1239652961702076, 1.4113780100828497, -0.22112432300555643, 0.21879206094552822, 0.34764710207640953, 2.5572739518495244, -0.05991313736641319, -0.6831361628447226, 0.3135594473854501, -1.3364626676182996, -0.14272899360938457, -1.089432561463353, -0.08470708103908872, -0.8853361125929256, 0.2592699559282212, -2.9290632225906483, -0.7642963581491048, -0.3701098414195931, -1.1733328554821236, 0.5684291090514618, 1.3622976081754778, 0.5065257571645497, -0.7669619501828306, 0.5952589165064289, 0.12063091104041283, -2.1699314453784986, 0.9525797703035719, 1.303118247161537, 0.18775132553756985, 0.2778295995170414, 1.1118376295674957, 0.7276850289295383, 0.07484264237616128, -0.8830055985098384, 0.4958469514420254, 1.300077430444035, 0.46653962453374265, 0.5651443336213451, 0.37321775159292236, 0.6589956641659104, -0.5534074522898599, 0.5235284057923568, 0.9349812129515604, 0.7218050715715093, -1.5295165082248794, 0.7650670984673281, 1.1349556998344372, -0.9037193947920661, 0.3267269140908282, 0.274083206935181, 0.05836425297423308, 1.7752998946512923, -0.7772049067537251, -1.9177958253796348, 0.9108021670541938, 0.3538857001900387, 0.5398070189471809, -0.574290715555816, -1.5783354313272537, 0.5691760158559603, -0.16036901495118402, -0.30034135049553096, 0.962259425746051, 0.180304955729948, 0.24236432568462, 0.2446800239178959, -0.013385992364696949], \"xaxis\": \"x16\", \"yaxis\": \"y16\"}],\n",
       "                        {\"bargap\": 0.02, \"legend\": {\"bgcolor\": \"#F5F6F9\", \"font\": {\"color\": \"#4D5663\"}}, \"paper_bgcolor\": \"#F5F6F9\", \"plot_bgcolor\": \"#F5F6F9\", \"showlegend\": false, \"template\": {\"data\": {\"bar\": [{\"error_x\": {\"color\": \"#2a3f5f\"}, \"error_y\": {\"color\": \"#2a3f5f\"}, \"marker\": {\"line\": {\"color\": \"#E5ECF6\", \"width\": 0.5}}, \"type\": \"bar\"}], \"barpolar\": [{\"marker\": {\"line\": {\"color\": \"#E5ECF6\", \"width\": 0.5}}, \"type\": \"barpolar\"}], \"carpet\": [{\"aaxis\": {\"endlinecolor\": \"#2a3f5f\", \"gridcolor\": \"white\", \"linecolor\": \"white\", \"minorgridcolor\": \"white\", \"startlinecolor\": \"#2a3f5f\"}, \"baxis\": {\"endlinecolor\": \"#2a3f5f\", \"gridcolor\": \"white\", \"linecolor\": \"white\", \"minorgridcolor\": \"white\", \"startlinecolor\": \"#2a3f5f\"}, \"type\": \"carpet\"}], \"choropleth\": [{\"colorbar\": {\"outlinewidth\": 0, \"ticks\": \"\"}, \"type\": \"choropleth\"}], \"contour\": [{\"colorbar\": {\"outlinewidth\": 0, \"ticks\": \"\"}, \"colorscale\": [[0.0, \"#0d0887\"], [0.1111111111111111, \"#46039f\"], [0.2222222222222222, \"#7201a8\"], [0.3333333333333333, \"#9c179e\"], [0.4444444444444444, \"#bd3786\"], [0.5555555555555556, \"#d8576b\"], [0.6666666666666666, \"#ed7953\"], [0.7777777777777778, \"#fb9f3a\"], [0.8888888888888888, \"#fdca26\"], [1.0, \"#f0f921\"]], \"type\": \"contour\"}], \"contourcarpet\": [{\"colorbar\": {\"outlinewidth\": 0, \"ticks\": \"\"}, \"type\": \"contourcarpet\"}], \"heatmap\": [{\"colorbar\": {\"outlinewidth\": 0, \"ticks\": \"\"}, \"colorscale\": [[0.0, \"#0d0887\"], [0.1111111111111111, \"#46039f\"], [0.2222222222222222, \"#7201a8\"], [0.3333333333333333, \"#9c179e\"], [0.4444444444444444, \"#bd3786\"], [0.5555555555555556, \"#d8576b\"], [0.6666666666666666, \"#ed7953\"], [0.7777777777777778, \"#fb9f3a\"], [0.8888888888888888, \"#fdca26\"], [1.0, \"#f0f921\"]], \"type\": \"heatmap\"}], \"heatmapgl\": [{\"colorbar\": {\"outlinewidth\": 0, \"ticks\": \"\"}, \"colorscale\": [[0.0, \"#0d0887\"], [0.1111111111111111, \"#46039f\"], [0.2222222222222222, \"#7201a8\"], [0.3333333333333333, \"#9c179e\"], [0.4444444444444444, \"#bd3786\"], [0.5555555555555556, \"#d8576b\"], [0.6666666666666666, \"#ed7953\"], [0.7777777777777778, \"#fb9f3a\"], [0.8888888888888888, \"#fdca26\"], [1.0, \"#f0f921\"]], \"type\": \"heatmapgl\"}], \"histogram\": [{\"marker\": {\"colorbar\": {\"outlinewidth\": 0, \"ticks\": \"\"}}, \"type\": \"histogram\"}], \"histogram2d\": [{\"colorbar\": {\"outlinewidth\": 0, \"ticks\": \"\"}, \"colorscale\": [[0.0, \"#0d0887\"], [0.1111111111111111, \"#46039f\"], [0.2222222222222222, \"#7201a8\"], [0.3333333333333333, \"#9c179e\"], [0.4444444444444444, \"#bd3786\"], [0.5555555555555556, \"#d8576b\"], [0.6666666666666666, \"#ed7953\"], [0.7777777777777778, \"#fb9f3a\"], [0.8888888888888888, \"#fdca26\"], [1.0, \"#f0f921\"]], \"type\": \"histogram2d\"}], \"histogram2dcontour\": [{\"colorbar\": {\"outlinewidth\": 0, \"ticks\": \"\"}, \"colorscale\": [[0.0, \"#0d0887\"], [0.1111111111111111, \"#46039f\"], [0.2222222222222222, \"#7201a8\"], [0.3333333333333333, \"#9c179e\"], [0.4444444444444444, \"#bd3786\"], [0.5555555555555556, \"#d8576b\"], [0.6666666666666666, \"#ed7953\"], [0.7777777777777778, \"#fb9f3a\"], [0.8888888888888888, \"#fdca26\"], [1.0, \"#f0f921\"]], \"type\": \"histogram2dcontour\"}], \"mesh3d\": [{\"colorbar\": {\"outlinewidth\": 0, \"ticks\": \"\"}, \"type\": \"mesh3d\"}], \"parcoords\": [{\"line\": {\"colorbar\": {\"outlinewidth\": 0, \"ticks\": \"\"}}, \"type\": \"parcoords\"}], \"pie\": [{\"automargin\": true, \"type\": \"pie\"}], \"scatter\": [{\"marker\": {\"colorbar\": {\"outlinewidth\": 0, \"ticks\": \"\"}}, \"type\": \"scatter\"}], \"scatter3d\": [{\"line\": {\"colorbar\": {\"outlinewidth\": 0, \"ticks\": \"\"}}, \"marker\": {\"colorbar\": {\"outlinewidth\": 0, \"ticks\": \"\"}}, \"type\": \"scatter3d\"}], \"scattercarpet\": [{\"marker\": {\"colorbar\": {\"outlinewidth\": 0, \"ticks\": \"\"}}, \"type\": \"scattercarpet\"}], \"scattergeo\": [{\"marker\": {\"colorbar\": {\"outlinewidth\": 0, \"ticks\": \"\"}}, \"type\": \"scattergeo\"}], \"scattergl\": [{\"marker\": {\"colorbar\": {\"outlinewidth\": 0, \"ticks\": \"\"}}, \"type\": \"scattergl\"}], \"scattermapbox\": [{\"marker\": {\"colorbar\": {\"outlinewidth\": 0, \"ticks\": \"\"}}, \"type\": \"scattermapbox\"}], \"scatterpolar\": [{\"marker\": {\"colorbar\": {\"outlinewidth\": 0, \"ticks\": \"\"}}, \"type\": \"scatterpolar\"}], \"scatterpolargl\": [{\"marker\": {\"colorbar\": {\"outlinewidth\": 0, \"ticks\": \"\"}}, \"type\": \"scatterpolargl\"}], \"scatterternary\": [{\"marker\": {\"colorbar\": {\"outlinewidth\": 0, \"ticks\": \"\"}}, \"type\": \"scatterternary\"}], \"surface\": [{\"colorbar\": {\"outlinewidth\": 0, \"ticks\": \"\"}, \"colorscale\": [[0.0, \"#0d0887\"], [0.1111111111111111, \"#46039f\"], [0.2222222222222222, \"#7201a8\"], [0.3333333333333333, \"#9c179e\"], [0.4444444444444444, \"#bd3786\"], [0.5555555555555556, \"#d8576b\"], [0.6666666666666666, \"#ed7953\"], [0.7777777777777778, \"#fb9f3a\"], [0.8888888888888888, \"#fdca26\"], [1.0, \"#f0f921\"]], \"type\": \"surface\"}], \"table\": [{\"cells\": {\"fill\": {\"color\": \"#EBF0F8\"}, \"line\": {\"color\": \"white\"}}, \"header\": {\"fill\": {\"color\": \"#C8D4E3\"}, \"line\": {\"color\": \"white\"}}, \"type\": \"table\"}]}, \"layout\": {\"annotationdefaults\": {\"arrowcolor\": \"#2a3f5f\", \"arrowhead\": 0, \"arrowwidth\": 1}, \"coloraxis\": {\"colorbar\": {\"outlinewidth\": 0, \"ticks\": \"\"}}, \"colorscale\": {\"diverging\": [[0, \"#8e0152\"], [0.1, \"#c51b7d\"], [0.2, \"#de77ae\"], [0.3, \"#f1b6da\"], [0.4, \"#fde0ef\"], [0.5, \"#f7f7f7\"], [0.6, \"#e6f5d0\"], [0.7, \"#b8e186\"], [0.8, \"#7fbc41\"], [0.9, \"#4d9221\"], [1, \"#276419\"]], \"sequential\": [[0.0, \"#0d0887\"], [0.1111111111111111, \"#46039f\"], [0.2222222222222222, \"#7201a8\"], [0.3333333333333333, \"#9c179e\"], [0.4444444444444444, \"#bd3786\"], [0.5555555555555556, \"#d8576b\"], [0.6666666666666666, \"#ed7953\"], [0.7777777777777778, \"#fb9f3a\"], [0.8888888888888888, \"#fdca26\"], [1.0, \"#f0f921\"]], \"sequentialminus\": [[0.0, \"#0d0887\"], [0.1111111111111111, \"#46039f\"], [0.2222222222222222, \"#7201a8\"], [0.3333333333333333, \"#9c179e\"], [0.4444444444444444, \"#bd3786\"], [0.5555555555555556, \"#d8576b\"], [0.6666666666666666, \"#ed7953\"], [0.7777777777777778, \"#fb9f3a\"], [0.8888888888888888, \"#fdca26\"], [1.0, \"#f0f921\"]]}, \"colorway\": [\"#636efa\", \"#EF553B\", \"#00cc96\", \"#ab63fa\", \"#FFA15A\", \"#19d3f3\", \"#FF6692\", \"#B6E880\", \"#FF97FF\", \"#FECB52\"], \"font\": {\"color\": \"#2a3f5f\"}, \"geo\": {\"bgcolor\": \"white\", \"lakecolor\": \"white\", \"landcolor\": \"#E5ECF6\", \"showlakes\": true, \"showland\": true, \"subunitcolor\": \"white\"}, \"hoverlabel\": {\"align\": \"left\"}, \"hovermode\": \"closest\", \"mapbox\": {\"style\": \"light\"}, \"paper_bgcolor\": \"white\", \"plot_bgcolor\": \"#E5ECF6\", \"polar\": {\"angularaxis\": {\"gridcolor\": \"white\", \"linecolor\": \"white\", \"ticks\": \"\"}, \"bgcolor\": \"#E5ECF6\", \"radialaxis\": {\"gridcolor\": \"white\", \"linecolor\": \"white\", \"ticks\": \"\"}}, \"scene\": {\"xaxis\": {\"backgroundcolor\": \"#E5ECF6\", \"gridcolor\": \"white\", \"gridwidth\": 2, \"linecolor\": \"white\", \"showbackground\": true, \"ticks\": \"\", \"zerolinecolor\": \"white\"}, \"yaxis\": {\"backgroundcolor\": \"#E5ECF6\", \"gridcolor\": \"white\", \"gridwidth\": 2, \"linecolor\": \"white\", \"showbackground\": true, \"ticks\": \"\", \"zerolinecolor\": \"white\"}, \"zaxis\": {\"backgroundcolor\": \"#E5ECF6\", \"gridcolor\": \"white\", \"gridwidth\": 2, \"linecolor\": \"white\", \"showbackground\": true, \"ticks\": \"\", \"zerolinecolor\": \"white\"}}, \"shapedefaults\": {\"line\": {\"color\": \"#2a3f5f\"}}, \"ternary\": {\"aaxis\": {\"gridcolor\": \"white\", \"linecolor\": \"white\", \"ticks\": \"\"}, \"baxis\": {\"gridcolor\": \"white\", \"linecolor\": \"white\", \"ticks\": \"\"}, \"bgcolor\": \"#E5ECF6\", \"caxis\": {\"gridcolor\": \"white\", \"linecolor\": \"white\", \"ticks\": \"\"}}, \"title\": {\"x\": 0.05}, \"xaxis\": {\"automargin\": true, \"gridcolor\": \"white\", \"linecolor\": \"white\", \"ticks\": \"\", \"title\": {\"standoff\": 15}, \"zerolinecolor\": \"white\", \"zerolinewidth\": 2}, \"yaxis\": {\"automargin\": true, \"gridcolor\": \"white\", \"linecolor\": \"white\", \"ticks\": \"\", \"title\": {\"standoff\": 15}, \"zerolinecolor\": \"white\", \"zerolinewidth\": 2}}}, \"title\": {\"font\": {\"color\": \"#4D5663\"}}, \"xaxis\": {\"anchor\": \"y\", \"domain\": [0.0, 0.2125], \"gridcolor\": \"#E1E5ED\", \"showgrid\": false, \"tickfont\": {\"color\": \"#4D5663\"}, \"title\": {\"font\": {\"color\": \"#4D5663\"}, \"text\": \"\"}, \"zerolinecolor\": \"#E1E5ED\"}, \"xaxis10\": {\"anchor\": \"y10\", \"domain\": [0.2625, 0.475], \"gridcolor\": \"#E1E5ED\", \"showgrid\": false, \"tickfont\": {\"color\": \"#4D5663\"}, \"title\": {\"font\": {\"color\": \"#4D5663\"}, \"text\": \"\"}, \"zerolinecolor\": \"#E1E5ED\"}, \"xaxis11\": {\"anchor\": \"y11\", \"domain\": [0.525, 0.7375], \"gridcolor\": \"#E1E5ED\", \"showgrid\": false, \"tickfont\": {\"color\": \"#4D5663\"}, \"title\": {\"font\": {\"color\": \"#4D5663\"}, \"text\": \"\"}, \"zerolinecolor\": \"#E1E5ED\"}, \"xaxis12\": {\"anchor\": \"y12\", \"domain\": [0.7875, 1.0], \"gridcolor\": \"#E1E5ED\", \"showgrid\": false, \"tickfont\": {\"color\": \"#4D5663\"}, \"title\": {\"font\": {\"color\": \"#4D5663\"}, \"text\": \"\"}, \"zerolinecolor\": \"#E1E5ED\"}, \"xaxis13\": {\"anchor\": \"y13\", \"domain\": [0.0, 0.2125], \"gridcolor\": \"#E1E5ED\", \"showgrid\": false, \"tickfont\": {\"color\": \"#4D5663\"}, \"title\": {\"font\": {\"color\": \"#4D5663\"}, \"text\": \"\"}, \"zerolinecolor\": \"#E1E5ED\"}, \"xaxis14\": {\"anchor\": \"y14\", \"domain\": [0.2625, 0.475], \"gridcolor\": \"#E1E5ED\", \"showgrid\": false, \"tickfont\": {\"color\": \"#4D5663\"}, \"title\": {\"font\": {\"color\": \"#4D5663\"}, \"text\": \"\"}, \"zerolinecolor\": \"#E1E5ED\"}, \"xaxis15\": {\"anchor\": \"y15\", \"domain\": [0.525, 0.7375], \"gridcolor\": \"#E1E5ED\", \"showgrid\": false, \"tickfont\": {\"color\": \"#4D5663\"}, \"title\": {\"font\": {\"color\": \"#4D5663\"}, \"text\": \"\"}, \"zerolinecolor\": \"#E1E5ED\"}, \"xaxis16\": {\"anchor\": \"y16\", \"domain\": [0.7875, 1.0], \"gridcolor\": \"#E1E5ED\", \"showgrid\": false, \"tickfont\": {\"color\": \"#4D5663\"}, \"title\": {\"font\": {\"color\": \"#4D5663\"}, \"text\": \"\"}, \"zerolinecolor\": \"#E1E5ED\"}, \"xaxis2\": {\"anchor\": \"y2\", \"domain\": [0.2625, 0.475], \"gridcolor\": \"#E1E5ED\", \"showgrid\": false, \"tickfont\": {\"color\": \"#4D5663\"}, \"title\": {\"font\": {\"color\": \"#4D5663\"}, \"text\": \"\"}, \"zerolinecolor\": \"#E1E5ED\"}, \"xaxis3\": {\"anchor\": \"y3\", \"domain\": [0.525, 0.7375], \"gridcolor\": \"#E1E5ED\", \"showgrid\": false, \"tickfont\": {\"color\": \"#4D5663\"}, \"title\": {\"font\": {\"color\": \"#4D5663\"}, \"text\": \"\"}, \"zerolinecolor\": \"#E1E5ED\"}, \"xaxis4\": {\"anchor\": \"y4\", \"domain\": [0.7875, 1.0], \"gridcolor\": \"#E1E5ED\", \"showgrid\": false, \"tickfont\": {\"color\": \"#4D5663\"}, \"title\": {\"font\": {\"color\": \"#4D5663\"}, \"text\": \"\"}, \"zerolinecolor\": \"#E1E5ED\"}, \"xaxis5\": {\"anchor\": \"y5\", \"domain\": [0.0, 0.2125], \"gridcolor\": \"#E1E5ED\", \"showgrid\": false, \"tickfont\": {\"color\": \"#4D5663\"}, \"title\": {\"font\": {\"color\": \"#4D5663\"}, \"text\": \"\"}, \"zerolinecolor\": \"#E1E5ED\"}, \"xaxis6\": {\"anchor\": \"y6\", \"domain\": [0.2625, 0.475], \"gridcolor\": \"#E1E5ED\", \"showgrid\": false, \"tickfont\": {\"color\": \"#4D5663\"}, \"title\": {\"font\": {\"color\": \"#4D5663\"}, \"text\": \"\"}, \"zerolinecolor\": \"#E1E5ED\"}, \"xaxis7\": {\"anchor\": \"y7\", \"domain\": [0.525, 0.7375], \"gridcolor\": \"#E1E5ED\", \"showgrid\": false, \"tickfont\": {\"color\": \"#4D5663\"}, \"title\": {\"font\": {\"color\": \"#4D5663\"}, \"text\": \"\"}, \"zerolinecolor\": \"#E1E5ED\"}, \"xaxis8\": {\"anchor\": \"y8\", \"domain\": [0.7875, 1.0], \"gridcolor\": \"#E1E5ED\", \"showgrid\": false, \"tickfont\": {\"color\": \"#4D5663\"}, \"title\": {\"font\": {\"color\": \"#4D5663\"}, \"text\": \"\"}, \"zerolinecolor\": \"#E1E5ED\"}, \"xaxis9\": {\"anchor\": \"y9\", \"domain\": [0.0, 0.2125], \"gridcolor\": \"#E1E5ED\", \"showgrid\": false, \"tickfont\": {\"color\": \"#4D5663\"}, \"title\": {\"font\": {\"color\": \"#4D5663\"}, \"text\": \"\"}, \"zerolinecolor\": \"#E1E5ED\"}, \"yaxis\": {\"anchor\": \"x\", \"domain\": [0.8025, 1.0], \"gridcolor\": \"#E1E5ED\", \"showgrid\": false, \"tickfont\": {\"color\": \"#4D5663\"}, \"title\": {\"font\": {\"color\": \"#4D5663\"}, \"text\": \"\"}, \"zerolinecolor\": \"#E1E5ED\"}, \"yaxis10\": {\"anchor\": \"x10\", \"domain\": [0.2675, 0.465], \"gridcolor\": \"#E1E5ED\", \"showgrid\": false, \"tickfont\": {\"color\": \"#4D5663\"}, \"title\": {\"font\": {\"color\": \"#4D5663\"}, \"text\": \"\"}, \"zerolinecolor\": \"#E1E5ED\"}, \"yaxis11\": {\"anchor\": \"x11\", \"domain\": [0.2675, 0.465], \"gridcolor\": \"#E1E5ED\", \"showgrid\": false, \"tickfont\": {\"color\": \"#4D5663\"}, \"title\": {\"font\": {\"color\": \"#4D5663\"}, \"text\": \"\"}, \"zerolinecolor\": \"#E1E5ED\"}, \"yaxis12\": {\"anchor\": \"x12\", \"domain\": [0.2675, 0.465], \"gridcolor\": \"#E1E5ED\", \"showgrid\": false, \"tickfont\": {\"color\": \"#4D5663\"}, \"title\": {\"font\": {\"color\": \"#4D5663\"}, \"text\": \"\"}, \"zerolinecolor\": \"#E1E5ED\"}, \"yaxis13\": {\"anchor\": \"x13\", \"domain\": [0.0, 0.1975], \"gridcolor\": \"#E1E5ED\", \"showgrid\": false, \"tickfont\": {\"color\": \"#4D5663\"}, \"title\": {\"font\": {\"color\": \"#4D5663\"}, \"text\": \"\"}, \"zerolinecolor\": \"#E1E5ED\"}, \"yaxis14\": {\"anchor\": \"x14\", \"domain\": [0.0, 0.1975], \"gridcolor\": \"#E1E5ED\", \"showgrid\": false, \"tickfont\": {\"color\": \"#4D5663\"}, \"title\": {\"font\": {\"color\": \"#4D5663\"}, \"text\": \"\"}, \"zerolinecolor\": \"#E1E5ED\"}, \"yaxis15\": {\"anchor\": \"x15\", \"domain\": [0.0, 0.1975], \"gridcolor\": \"#E1E5ED\", \"showgrid\": false, \"tickfont\": {\"color\": \"#4D5663\"}, \"title\": {\"font\": {\"color\": \"#4D5663\"}, \"text\": \"\"}, \"zerolinecolor\": \"#E1E5ED\"}, \"yaxis16\": {\"anchor\": \"x16\", \"domain\": [0.0, 0.1975], \"gridcolor\": \"#E1E5ED\", \"showgrid\": false, \"tickfont\": {\"color\": \"#4D5663\"}, \"title\": {\"font\": {\"color\": \"#4D5663\"}, \"text\": \"\"}, \"zerolinecolor\": \"#E1E5ED\"}, \"yaxis2\": {\"anchor\": \"x2\", \"domain\": [0.8025, 1.0], \"gridcolor\": \"#E1E5ED\", \"showgrid\": false, \"tickfont\": {\"color\": \"#4D5663\"}, \"title\": {\"font\": {\"color\": \"#4D5663\"}, \"text\": \"\"}, \"zerolinecolor\": \"#E1E5ED\"}, \"yaxis3\": {\"anchor\": \"x3\", \"domain\": [0.8025, 1.0], \"gridcolor\": \"#E1E5ED\", \"showgrid\": false, \"tickfont\": {\"color\": \"#4D5663\"}, \"title\": {\"font\": {\"color\": \"#4D5663\"}, \"text\": \"\"}, \"zerolinecolor\": \"#E1E5ED\"}, \"yaxis4\": {\"anchor\": \"x4\", \"domain\": [0.8025, 1.0], \"gridcolor\": \"#E1E5ED\", \"showgrid\": false, \"tickfont\": {\"color\": \"#4D5663\"}, \"title\": {\"font\": {\"color\": \"#4D5663\"}, \"text\": \"\"}, \"zerolinecolor\": \"#E1E5ED\"}, \"yaxis5\": {\"anchor\": \"x5\", \"domain\": [0.535, 0.7325], \"gridcolor\": \"#E1E5ED\", \"showgrid\": false, \"tickfont\": {\"color\": \"#4D5663\"}, \"title\": {\"font\": {\"color\": \"#4D5663\"}, \"text\": \"\"}, \"zerolinecolor\": \"#E1E5ED\"}, \"yaxis6\": {\"anchor\": \"x6\", \"domain\": [0.535, 0.7325], \"gridcolor\": \"#E1E5ED\", \"showgrid\": false, \"tickfont\": {\"color\": \"#4D5663\"}, \"title\": {\"font\": {\"color\": \"#4D5663\"}, \"text\": \"\"}, \"zerolinecolor\": \"#E1E5ED\"}, \"yaxis7\": {\"anchor\": \"x7\", \"domain\": [0.535, 0.7325], \"gridcolor\": \"#E1E5ED\", \"showgrid\": false, \"tickfont\": {\"color\": \"#4D5663\"}, \"title\": {\"font\": {\"color\": \"#4D5663\"}, \"text\": \"\"}, \"zerolinecolor\": \"#E1E5ED\"}, \"yaxis8\": {\"anchor\": \"x8\", \"domain\": [0.535, 0.7325], \"gridcolor\": \"#E1E5ED\", \"showgrid\": false, \"tickfont\": {\"color\": \"#4D5663\"}, \"title\": {\"font\": {\"color\": \"#4D5663\"}, \"text\": \"\"}, \"zerolinecolor\": \"#E1E5ED\"}, \"yaxis9\": {\"anchor\": \"x9\", \"domain\": [0.2675, 0.465], \"gridcolor\": \"#E1E5ED\", \"showgrid\": false, \"tickfont\": {\"color\": \"#4D5663\"}, \"title\": {\"font\": {\"color\": \"#4D5663\"}, \"text\": \"\"}, \"zerolinecolor\": \"#E1E5ED\"}},\n",
       "                        {\"showLink\": true, \"linkText\": \"Export to plot.ly\", \"plotlyServerURL\": \"https://plot.ly\", \"responsive\": true}\n",
       "                    ).then(function(){\n",
       "                            \n",
       "var gd = document.getElementById('f711100a-f44b-4392-a335-886a8675e2da');\n",
       "var x = new MutationObserver(function (mutations, observer) {{\n",
       "        var display = window.getComputedStyle(gd).display;\n",
       "        if (!display || display === 'none') {{\n",
       "            console.log([gd, 'removed!']);\n",
       "            Plotly.purge(gd);\n",
       "            observer.disconnect();\n",
       "        }}\n",
       "}});\n",
       "\n",
       "// Listen for the removal of the full notebook cells\n",
       "var notebookContainer = gd.closest('#notebook-container');\n",
       "if (notebookContainer) {{\n",
       "    x.observe(notebookContainer, {childList: true});\n",
       "}}\n",
       "\n",
       "// Listen for the clearing of the current output cell\n",
       "var outputEl = gd.closest('.output');\n",
       "if (outputEl) {{\n",
       "    x.observe(outputEl, {childList: true});\n",
       "}}\n",
       "\n",
       "                        })\n",
       "                };\n",
       "                });\n",
       "            </script>\n",
       "        </div>"
      ]
     },
     "metadata": {},
     "output_type": "display_data"
    }
   ],
   "source": [
    "df.scatter_matrix()"
   ]
  },
  {
   "cell_type": "markdown",
   "metadata": {
    "collapsed": true
   },
   "source": [
    "# Great Job!"
   ]
  }
 ],
 "metadata": {
  "kernelspec": {
   "display_name": "Python 3",
   "language": "python",
   "name": "python3"
  },
  "language_info": {
   "codemirror_mode": {
    "name": "ipython",
    "version": 3
   },
   "file_extension": ".py",
   "mimetype": "text/x-python",
   "name": "python",
   "nbconvert_exporter": "python",
   "pygments_lexer": "ipython3",
   "version": "3.8.2"
  }
 },
 "nbformat": 4,
 "nbformat_minor": 1
}
